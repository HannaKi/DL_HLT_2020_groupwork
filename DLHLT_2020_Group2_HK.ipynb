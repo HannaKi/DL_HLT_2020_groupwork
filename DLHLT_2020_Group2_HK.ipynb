{
  "nbformat": 4,
  "nbformat_minor": 0,
  "metadata": {
    "kernelspec": {
      "display_name": "langtech",
      "language": "python",
      "name": "langtech"
    },
    "language_info": {
      "codemirror_mode": {
        "name": "ipython",
        "version": 3
      },
      "file_extension": ".py",
      "mimetype": "text/x-python",
      "name": "python",
      "nbconvert_exporter": "python",
      "pygments_lexer": "ipython3",
      "version": "3.8.2"
    },
    "colab": {
      "name": "DLHLT_2020_Group2.ipynb",
      "provenance": [],
      "include_colab_link": true
    },
    "accelerator": "GPU"
  },
  "cells": [
    {
      "cell_type": "markdown",
      "metadata": {
        "id": "view-in-github",
        "colab_type": "text"
      },
      "source": [
        "<a href=\"https://colab.research.google.com/github/HannaKi/DL_HLT_2020_groupwork/blob/master/DLHLT_2020_Group2_HK.ipynb\" target=\"_parent\"><img src=\"https://colab.research.google.com/assets/colab-badge.svg\" alt=\"Open In Colab\"/></a>"
      ]
    },
    {
      "cell_type": "markdown",
      "metadata": {
        "id": "QXDKDfk0WhYU",
        "colab_type": "text"
      },
      "source": [
        "# Deep Learning in Human Language Technologies 2020\n",
        "# Text classification project"
      ]
    },
    {
      "cell_type": "markdown",
      "metadata": {
        "id": "vVNsyDMvWhYY",
        "colab_type": "text"
      },
      "source": [
        "#### Group 2: Hanna Kitti, Dang Trinh Ha, Timo Jokela\n",
        "\n",
        "Contributions:\n",
        "\n",
        "xxxx"
      ]
    },
    {
      "cell_type": "markdown",
      "metadata": {
        "id": "D2dvfqBLWhYe",
        "colab_type": "text"
      },
      "source": [
        "## Preparations"
      ]
    },
    {
      "cell_type": "markdown",
      "metadata": {
        "id": "MxoEgDSOWhYg",
        "colab_type": "text"
      },
      "source": [
        "### Imports"
      ]
    },
    {
      "cell_type": "code",
      "metadata": {
        "id": "05y3r31-X6Vk",
        "colab_type": "code",
        "colab": {
          "base_uri": "https://localhost:8080/",
          "height": 353
        },
        "outputId": "5d0bd899-a48b-4f26-b7ba-be1e5487acb7"
      },
      "source": [
        "!pip install transformers"
      ],
      "execution_count": 1,
      "outputs": [
        {
          "output_type": "stream",
          "text": [
            "Requirement already satisfied: transformers in /usr/local/lib/python3.6/dist-packages (2.9.0)\n",
            "Requirement already satisfied: tqdm>=4.27 in /usr/local/lib/python3.6/dist-packages (from transformers) (4.41.1)\n",
            "Requirement already satisfied: dataclasses; python_version < \"3.7\" in /usr/local/lib/python3.6/dist-packages (from transformers) (0.7)\n",
            "Requirement already satisfied: sentencepiece in /usr/local/lib/python3.6/dist-packages (from transformers) (0.1.86)\n",
            "Requirement already satisfied: requests in /usr/local/lib/python3.6/dist-packages (from transformers) (2.23.0)\n",
            "Requirement already satisfied: tokenizers==0.7.0 in /usr/local/lib/python3.6/dist-packages (from transformers) (0.7.0)\n",
            "Requirement already satisfied: regex!=2019.12.17 in /usr/local/lib/python3.6/dist-packages (from transformers) (2019.12.20)\n",
            "Requirement already satisfied: sacremoses in /usr/local/lib/python3.6/dist-packages (from transformers) (0.0.43)\n",
            "Requirement already satisfied: numpy in /usr/local/lib/python3.6/dist-packages (from transformers) (1.18.4)\n",
            "Requirement already satisfied: filelock in /usr/local/lib/python3.6/dist-packages (from transformers) (3.0.12)\n",
            "Requirement already satisfied: chardet<4,>=3.0.2 in /usr/local/lib/python3.6/dist-packages (from requests->transformers) (3.0.4)\n",
            "Requirement already satisfied: urllib3!=1.25.0,!=1.25.1,<1.26,>=1.21.1 in /usr/local/lib/python3.6/dist-packages (from requests->transformers) (1.24.3)\n",
            "Requirement already satisfied: idna<3,>=2.5 in /usr/local/lib/python3.6/dist-packages (from requests->transformers) (2.9)\n",
            "Requirement already satisfied: certifi>=2017.4.17 in /usr/local/lib/python3.6/dist-packages (from requests->transformers) (2020.4.5.1)\n",
            "Requirement already satisfied: click in /usr/local/lib/python3.6/dist-packages (from sacremoses->transformers) (7.1.2)\n",
            "Requirement already satisfied: six in /usr/local/lib/python3.6/dist-packages (from sacremoses->transformers) (1.12.0)\n",
            "Requirement already satisfied: joblib in /usr/local/lib/python3.6/dist-packages (from sacremoses->transformers) (0.14.1)\n"
          ],
          "name": "stdout"
        }
      ]
    },
    {
      "cell_type": "code",
      "metadata": {
        "id": "Lwxz8wUC1Atm",
        "colab_type": "code",
        "outputId": "5e5fe401-706a-475c-fbeb-ff4b396f3e15",
        "colab": {
          "base_uri": "https://localhost:8080/",
          "height": 56
        }
      },
      "source": [
        "!pip install scikit-multilearn"
      ],
      "execution_count": 2,
      "outputs": [
        {
          "output_type": "stream",
          "text": [
            "Requirement already satisfied: scikit-multilearn in /usr/local/lib/python3.6/dist-packages (0.2.0)\n"
          ],
          "name": "stdout"
        }
      ]
    },
    {
      "cell_type": "code",
      "metadata": {
        "id": "TYmczbT-WhYj",
        "colab_type": "code",
        "colab": {
          "base_uri": "https://localhost:8080/",
          "height": 74
        },
        "outputId": "8d40d91e-2a8d-40bb-ff46-d3794ac785c1"
      },
      "source": [
        "import io\n",
        "import json\n",
        "import numpy as np\n",
        "import os\n",
        "import pandas as pd\n",
        "import pprint\n",
        "import pickle\n",
        "import seaborn as sns\n",
        "import torch\n",
        "import transformers\n",
        "\n",
        "from functools import partial\n",
        "from matplotlib import pyplot as plt\n",
        "from pathlib import Path\n",
        "#from pytorch_pretrained_bert import BertTokenizer, BertConfig\n",
        "#from pytorch_pretrained_bert import BertAdam, BertForSequenceClassification\n",
        "from sklearn.feature_extraction.text import CountVectorizer\n",
        "from sklearn.linear_model import SGDClassifier\n",
        "from sklearn.metrics import confusion_matrix, accuracy_score\n",
        "from sklearn.model_selection import GridSearchCV\n",
        "from sklearn.multiclass import OneVsRestClassifier\n",
        "from sklearn.naive_bayes import MultinomialNB\n",
        "from sklearn.pipeline import Pipeline\n",
        "from sklearn.preprocessing import LabelEncoder, OneHotEncoder, MultiLabelBinarizer, StandardScaler\n",
        "from sklearn.utils import class_weight\n",
        "from tensorflow.keras import optimizers\n",
        "from tensorflow.keras.callbacks import EarlyStopping, ModelCheckpoint\n",
        "from tensorflow.keras.layers import Dense, Dropout, Embedding, Input, LSTM\n",
        "from tensorflow.keras.models import Model\n",
        "from tensorflow.keras.preprocessing.sequence import pad_sequences\n",
        "from tensorflow.keras.preprocessing.text import Tokenizer\n",
        "from tensorflow.keras.wrappers.scikit_learn import KerasClassifier\n",
        "from torch.utils.data import TensorDataset, DataLoader\n",
        "from tqdm import tqdm, trange\n",
        "\n",
        "%matplotlib inline\n",
        "pp = pprint.PrettyPrinter(indent=4)"
      ],
      "execution_count": 3,
      "outputs": [
        {
          "output_type": "stream",
          "text": [
            "/usr/local/lib/python3.6/dist-packages/statsmodels/tools/_testing.py:19: FutureWarning: pandas.util.testing is deprecated. Use the functions in the public API at pandas.testing instead.\n",
            "  import pandas.util.testing as tm\n"
          ],
          "name": "stderr"
        }
      ]
    },
    {
      "cell_type": "markdown",
      "metadata": {
        "id": "rOibvbTGWhYz",
        "colab_type": "text"
      },
      "source": [
        "### Dataset"
      ]
    },
    {
      "cell_type": "markdown",
      "metadata": {
        "id": "_zhxMA7qWhY1",
        "colab_type": "text"
      },
      "source": [
        "Data split\n",
        "\n",
        "- Training set: used for training the models\n",
        "- Validation (or model assessment) set: when comparing\n",
        "different models trained on training set, select one with lowest\n",
        "error on validation set\n",
        "- Test set: test the final hypothesis on test set to get unbiased\n",
        "error estimate for it\n",
        "\n",
        "After error estimation the final model is often trained on\n",
        "combined training, validation and test set, using best\n",
        "hyperparameters found during model selection\n",
        "- Complication: randomized optimization approaches where\n",
        "different runs with same hyperparameters can lead to very\n",
        "different quality solutions (e.g. neural network)"
      ]
    },
    {
      "cell_type": "code",
      "metadata": {
        "id": "gkva4husW0nT",
        "colab_type": "code",
        "outputId": "48f1061b-68d0-4254-d2e5-5a5fdd2fc3dc",
        "colab": {
          "base_uri": "https://localhost:8080/",
          "height": 651
        }
      },
      "source": [
        "# HK\n",
        "# Download development data\n",
        "!wget http://dl.turkunlp.org/TKO_8965-projects/classification/fincore-dev.tsv\n",
        "# Download test data\n",
        "!wget http://dl.turkunlp.org/TKO_8965-projects/classification/fincore-test.tsv\n",
        "# Download train data\n",
        "!wget http://dl.turkunlp.org/TKO_8965-projects/classification/fincore-train.tsv\n",
        "\n"
      ],
      "execution_count": 4,
      "outputs": [
        {
          "output_type": "stream",
          "text": [
            "--2020-05-11 18:47:02--  http://dl.turkunlp.org/TKO_8965-projects/classification/fincore-dev.tsv\n",
            "Resolving dl.turkunlp.org (dl.turkunlp.org)... 195.148.30.23\n",
            "Connecting to dl.turkunlp.org (dl.turkunlp.org)|195.148.30.23|:80... connected.\n",
            "HTTP request sent, awaiting response... 200 OK\n",
            "Length: 4035578 (3.8M) [application/octet-stream]\n",
            "Saving to: ‘fincore-dev.tsv.3’\n",
            "\n",
            "fincore-dev.tsv.3   100%[===================>]   3.85M  1.67MB/s    in 2.3s    \n",
            "\n",
            "2020-05-11 18:47:05 (1.67 MB/s) - ‘fincore-dev.tsv.3’ saved [4035578/4035578]\n",
            "\n",
            "--2020-05-11 18:47:08--  http://dl.turkunlp.org/TKO_8965-projects/classification/fincore-test.tsv\n",
            "Resolving dl.turkunlp.org (dl.turkunlp.org)... 195.148.30.23\n",
            "Connecting to dl.turkunlp.org (dl.turkunlp.org)|195.148.30.23|:80... connected.\n",
            "HTTP request sent, awaiting response... 200 OK\n",
            "Length: 8512687 (8.1M) [application/octet-stream]\n",
            "Saving to: ‘fincore-test.tsv.3’\n",
            "\n",
            "fincore-test.tsv.3  100%[===================>]   8.12M  2.82MB/s    in 2.9s    \n",
            "\n",
            "2020-05-11 18:47:11 (2.82 MB/s) - ‘fincore-test.tsv.3’ saved [8512687/8512687]\n",
            "\n",
            "--2020-05-11 18:47:13--  http://dl.turkunlp.org/TKO_8965-projects/classification/fincore-train.tsv\n",
            "Resolving dl.turkunlp.org (dl.turkunlp.org)... 195.148.30.23\n",
            "Connecting to dl.turkunlp.org (dl.turkunlp.org)|195.148.30.23|:80... connected.\n",
            "HTTP request sent, awaiting response... 200 OK\n",
            "Length: 29379580 (28M) [application/octet-stream]\n",
            "Saving to: ‘fincore-train.tsv.3’\n",
            "\n",
            "fincore-train.tsv.3 100%[===================>]  28.02M  4.90MB/s    in 5.7s    \n",
            "\n",
            "2020-05-11 18:47:20 (4.90 MB/s) - ‘fincore-train.tsv.3’ saved [29379580/29379580]\n",
            "\n"
          ],
          "name": "stdout"
        }
      ]
    },
    {
      "cell_type": "code",
      "metadata": {
        "id": "Igujq8e9WhY3",
        "colab_type": "code",
        "colab": {}
      },
      "source": [
        "orig_columns = ['reg', 'text']\n",
        "\n",
        "# load the data\n",
        "df_train = pd.read_csv('fincore-train.tsv', sep='\\t', names=orig_columns)\n",
        "df_train = df_train.sample(frac=1, random_state=42).reset_index(drop=True)\n",
        "\n",
        "df_dev_full = pd.read_csv('fincore-dev.tsv', sep='\\t', names=orig_columns)\n",
        "df_dev_full = (df_dev_full.sample(frac=1, random_state=42)\n",
        "                          .reset_index(drop=True))\n",
        "\n",
        "df_test_full = pd.read_csv('fincore-test.tsv', sep='\\t', names=orig_columns)\n",
        "df_test_full = (df_test_full.sample(frac=1, random_state=42)\n",
        "                            .reset_index(drop=True))"
      ],
      "execution_count": 0,
      "outputs": []
    },
    {
      "cell_type": "markdown",
      "metadata": {
        "id": "PaBS-twxWhZC",
        "colab_type": "text"
      },
      "source": [
        "The following classes of the test and development sets are not in the training set:"
      ]
    },
    {
      "cell_type": "code",
      "metadata": {
        "id": "nwgP_kYNWhZF",
        "colab_type": "code",
        "outputId": "9bab0675-dd72-436c-8341-33cf8fda43d1",
        "colab": {
          "base_uri": "https://localhost:8080/",
          "height": 147
        }
      },
      "source": [
        "print(\"Dev/test classes not in the training set:\\n\")\n",
        "print(df_test_full[~df_test_full.reg.isin(df_train.reg.unique())].reg.unique())\n",
        "print(df_dev_full[~df_dev_full.reg.isin(df_train.reg.unique())].reg.unique())"
      ],
      "execution_count": 6,
      "outputs": [
        {
          "output_type": "stream",
          "text": [
            "Dev/test classes not in the training set:\n",
            "\n",
            "['FC NA DP IN ' 'FC NA DT IN ' 'SL LY ' 'HI  IP IG ' 'IB IN IN  '\n",
            " 'RE HI PB NA ' 'IT SP DT IN ' 'RV OP PB NA ' 'IP IG NE NA '\n",
            " 'NE NA DT IN ' 'CB NA EB IG ' 'OA NA FC NA ' 'DS IG AV OP ']\n",
            "['ID  PB NA ' 'DS IG MT OS ' 'DF ID NE NA ' 'OP  DP IN ' 'DF ID PB NA '\n",
            " 'TB NA CB NA ']\n"
          ],
          "name": "stdout"
        }
      ]
    },
    {
      "cell_type": "markdown",
      "metadata": {
        "id": "tSOe31e_WhZY",
        "colab_type": "text"
      },
      "source": [
        "Since we can not train the model to predict labels it has not seen during training phase, we will keep only rows in dev and test data which have the labels that appear also in training data:"
      ]
    },
    {
      "cell_type": "code",
      "metadata": {
        "id": "DvmEQks_WhZa",
        "colab_type": "code",
        "colab": {}
      },
      "source": [
        "df_test = df_test_full[\n",
        "    df_test_full.reg.isin(df_train.reg.unique())].reset_index(drop=True)\n",
        "df_dev = df_dev_full[\n",
        "    df_dev_full.reg.isin(df_train.reg.unique())].reset_index(drop=True)"
      ],
      "execution_count": 0,
      "outputs": []
    },
    {
      "cell_type": "markdown",
      "metadata": {
        "id": "33h0fo1EWhZh",
        "colab_type": "text"
      },
      "source": [
        "Texts for all the datasets:"
      ]
    },
    {
      "cell_type": "code",
      "metadata": {
        "id": "haCBizfhWhZk",
        "colab_type": "code",
        "colab": {}
      },
      "source": [
        "txt_train = [x for x in df_train.text]\n",
        "txt_dev = [x for x in df_dev.text]\n",
        "txt_test = [x for x in df_test.text]"
      ],
      "execution_count": 0,
      "outputs": []
    },
    {
      "cell_type": "markdown",
      "metadata": {
        "id": "sp3vA8GpWhZt",
        "colab_type": "text"
      },
      "source": [
        "Encoded labels (registers):"
      ]
    },
    {
      "cell_type": "code",
      "metadata": {
        "id": "LHYlYbZ6WhZt",
        "colab_type": "code",
        "colab": {}
      },
      "source": [
        "# labels as numbers\n",
        "label_encoder = LabelEncoder()\n",
        "train_classes = label_encoder.fit_transform(df_train.reg)\n",
        "dev_classes = label_encoder.transform(df_dev.reg)\n",
        "test_classes = label_encoder.transform(df_test.reg)\n",
        "num_classes = len(label_encoder.classes_)"
      ],
      "execution_count": 0,
      "outputs": []
    },
    {
      "cell_type": "markdown",
      "metadata": {
        "id": "jp12XnOpWhZz",
        "colab_type": "text"
      },
      "source": [
        "#### Some initial thoughts\n",
        "\n",
        "We draw a chart for visualizing the distribution of different kinds of classes."
      ]
    },
    {
      "cell_type": "code",
      "metadata": {
        "id": "T7LUM_ZAWhZz",
        "colab_type": "code",
        "outputId": "584525c3-23a9-48f1-9dbf-543ec4d03c35",
        "colab": {
          "base_uri": "https://localhost:8080/",
          "height": 291
        }
      },
      "source": [
        "fig, ax = plt.subplots(1, 3, figsize=(15, 5))\n",
        "for i, (df, name) in enumerate(zip([df_train, df_dev, df_test],\n",
        "                                   ['Train', 'Dev', 'Test'])):\n",
        "    ax[i].hist(df.reg.value_counts().values, bins=len(df.reg.unique()))\n",
        "    ax[i].set_title(name, fontsize=14)\n",
        "    ax[i].set_xlabel(\"Samples in a class\", fontsize=14)\n",
        "    ax[i].set_ylabel(\"Number of classes\", fontsize=14)\n",
        "plt.show()"
      ],
      "execution_count": 27,
      "outputs": [
        {
          "output_type": "display_data",
          "data": {
            "image/png": "[encoded data removed]",
            "text/plain": [
              "<Figure size 1080x360 with 3 Axes>"
            ]
          },
          "metadata": {
            "tags": [],
            "needs_background": "light"
          }
        }
      ]
    },
    {
      "cell_type": "markdown",
      "metadata": {
        "id": "KczaVtwaWhZ-",
        "colab_type": "text"
      },
      "source": [
        "We immediately observe that the number of classes with just one sample is very high, whereas there are lot less classes that have several representatives. That is, the distribution of labels is highly skewed in all the data sets. This could be fixed with data augmentation but since we have no experience, we settle for the data provided. Also further manual annotation to gain more data would probably improve model performance in all the upcoming classifiers.\n",
        "\n",
        "Especially predicting the labels which have only a few instances in the data will be a challenging task for the classifiers since they might not be able to truly learn the characteristics of the label by one or two instances.\n",
        "\n",
        "Small classes (labels) also hinder using powerful hyperparameter optimizers, such as GridSearch, in optimal way: Stratification for K-folds in inner and outer loops is impossible because of the scarcity of the instances in the smallest classes."
      ]
    },
    {
      "cell_type": "markdown",
      "metadata": {
        "id": "zfnbE7N8WhZ_",
        "colab_type": "text"
      },
      "source": [
        "## Milestone 1"
      ]
    },
    {
      "cell_type": "markdown",
      "metadata": {
        "id": "QB1Nj-ZrWhaA",
        "colab_type": "text"
      },
      "source": [
        "For the first two models we construct vocabularies of alternative sizes:"
      ]
    },
    {
      "cell_type": "code",
      "metadata": {
        "id": "iqUSUIMfWhaC",
        "colab_type": "code",
        "outputId": "0119b86c-1f82-415d-b357-d52c9f59f6c3",
        "colab": {
          "base_uri": "https://localhost:8080/",
          "height": 54
        }
      },
      "source": [
        "print(\"Generating vocabularies...\")\n",
        "max_features_options = [1000, 10000, 20000, 30000, 40000, 50000]\n",
        "ms1_vocabs = {}\n",
        "for mf in max_features_options:\n",
        "    # a vectorizer and the feature matrices for this particular max_features\n",
        "    # NOTE: outside of this notebook other params were tested; see baseline\n",
        "    vectorizer = CountVectorizer(max_features=mf,\n",
        "                                 binary=False,\n",
        "                                 ngram_range=(1, 1))\n",
        "    ms1_vocabs[mf] = {\n",
        "        'vectorizer': vectorizer,\n",
        "        'train_fm': vectorizer.fit_transform(txt_train),\n",
        "        'dev_fm': vectorizer.transform(txt_dev),\n",
        "        'test_fm':  vectorizer.transform(txt_test)\n",
        "    }\n",
        "print(\"Done.\")"
      ],
      "execution_count": 28,
      "outputs": [
        {
          "output_type": "stream",
          "text": [
            "Generating vocabularies...\n",
            "Done.\n"
          ],
          "name": "stdout"
        }
      ]
    },
    {
      "cell_type": "markdown",
      "metadata": {
        "id": "77yXB6i9WhaO",
        "colab_type": "text"
      },
      "source": [
        "### 1.0: Baseline (Naive Bayes)\n",
        "\n",
        "Naive Bayes classifier to be used as a baseline. It is trained on the training data for each separate dataset (different _max_features_ params for the CountVectorizer). Additionally accuracy on the permutated test sets are computed for the purpose of ensuring that performance with actual data differs from performance with junk data."
      ]
    },
    {
      "cell_type": "code",
      "metadata": {
        "id": "UOk2jMsJWhaP",
        "colab_type": "code",
        "outputId": "4b75fcab-0c0b-448c-d665-a07c61ca68a3",
        "colab": {
          "base_uri": "https://localhost:8080/",
          "height": 54
        }
      },
      "source": [
        "def mnb_compute(X, y, mnb):\n",
        "    predictions = mnb.predict(X)\n",
        "    return (np.sum(predictions == y) / len(y), predictions)\n",
        "\n",
        "bayes_results = {}\n",
        "print(\"Computing stats for the MNB models...\")\n",
        "for max_feats, vocab in ms1_vocabs.items():\n",
        "    # train using the training set\n",
        "    mnb = MultinomialNB()\n",
        "    mnb.fit(vocab['train_fm'], df_train.reg)\n",
        "\n",
        "    # the accuracy of the trained model on all the sets\n",
        "    train_accuracy, _ = mnb_compute(vocab['train_fm'], df_train.reg, mnb)\n",
        "    dev_accuracy, _ = mnb_compute(vocab['dev_fm'], df_dev.reg, mnb)\n",
        "    test_accuracy, test_preds = mnb_compute(vocab['test_fm'], df_test.reg, mnb)\n",
        "    \n",
        "    # accuracy on permutated test set\n",
        "    permutated = np.random.permutation(df_test.reg)\n",
        "    perm_accuracy, _ = mnb_compute(vocab['test_fm'], permutated, mnb)\n",
        "    \n",
        "    bayes_results[max_feats] = {\n",
        "        'train_accuracy': train_accuracy,\n",
        "        'dev_accuracy': dev_accuracy,\n",
        "        'test_accuracy': test_accuracy,\n",
        "        'test_predictions': test_preds,\n",
        "        'perm_accuracy': perm_accuracy,\n",
        "    }\n",
        "print(\"Done.\")"
      ],
      "execution_count": 29,
      "outputs": [
        {
          "output_type": "stream",
          "text": [
            "Computing stats for the MNB models...\n",
            "Done.\n"
          ],
          "name": "stdout"
        }
      ]
    },
    {
      "cell_type": "code",
      "metadata": {
        "id": "FRbgeiVxWhaW",
        "colab_type": "code",
        "colab": {
          "base_uri": "https://localhost:8080/",
          "height": 352
        },
        "outputId": "fb2538e8-a65d-439c-8a3a-495bb1eb9808"
      },
      "source": [
        "for mf, stats in bayes_results.items():\n",
        "    print(f\"\\nMax features: {mf}\\nACCURACY: \"\n",
        "          f\"Train {stats['train_accuracy']:.2f}  \"\n",
        "          f\"Dev {stats['dev_accuracy']:.2f}  \"\n",
        "          f\"Test {stats['test_accuracy']:.2f}  \"\n",
        "          f\"Permutated {stats['perm_accuracy']:.2f}  \")\n"
      ],
      "execution_count": 30,
      "outputs": [
        {
          "output_type": "stream",
          "text": [
            "\n",
            "Max features: 1000\n",
            "ACCURACY: Train 0.60  Dev 0.47  Test 0.47  Permutated 0.07  \n",
            "\n",
            "Max features: 10000\n",
            "ACCURACY: Train 0.77  Dev 0.56  Test 0.53  Permutated 0.07  \n",
            "\n",
            "Max features: 20000\n",
            "ACCURACY: Train 0.79  Dev 0.56  Test 0.54  Permutated 0.08  \n",
            "\n",
            "Max features: 30000\n",
            "ACCURACY: Train 0.80  Dev 0.56  Test 0.54  Permutated 0.08  \n",
            "\n",
            "Max features: 40000\n",
            "ACCURACY: Train 0.80  Dev 0.55  Test 0.54  Permutated 0.08  \n",
            "\n",
            "Max features: 50000\n",
            "ACCURACY: Train 0.79  Dev 0.54  Test 0.53  Permutated 0.09  \n"
          ],
          "name": "stdout"
        }
      ]
    },
    {
      "cell_type": "markdown",
      "metadata": {
        "id": "RJbu70-EWhaf",
        "colab_type": "text"
      },
      "source": [
        "**NOTE**: Outside of this notebook other params (*binary, ngram*) for the CountVectorizer were also tested. Neither here nor with the BOW model had they any practical effect whatsoever. Also, the value of the *max_features* parameter seems to be the most effective approximately in the range of 20 - 40 k, after which the accuracy begins to slowly degrade (possibly due to more features contributing only noise). \n",
        "\n",
        "**Having several different models for different parameter sets proved to be very demanding RAM-wise (particularly for BOW)**, and therefore, to keep the hardware requirements in check, we reduced the number of different *max_feature*s values to three:"
      ]
    },
    {
      "cell_type": "code",
      "metadata": {
        "id": "02YKupdZWhah",
        "colab_type": "code",
        "colab": {}
      },
      "source": [
        "%%capture\n",
        "# limit the number of different max_features params\n",
        "max_features_options = [1000, 10000, 30000]\n",
        "ms1_vocabs.pop(20000)\n",
        "ms1_vocabs.pop(40000)\n",
        "ms1_vocabs.pop(50000)"
      ],
      "execution_count": 0,
      "outputs": []
    },
    {
      "cell_type": "markdown",
      "metadata": {
        "id": "xNsod7mWWhal",
        "colab_type": "text"
      },
      "source": [
        "### 1.1: BOW"
      ]
    },
    {
      "cell_type": "markdown",
      "metadata": {
        "id": "mzEJCz2fWhan",
        "colab_type": "text"
      },
      "source": [
        "We tried several optimizers, of which SGD and Adam seemed to be the most effective. Therefore we decided to cover only them in this notebook:"
      ]
    },
    {
      "cell_type": "code",
      "metadata": {
        "id": "_WNvPzuVWhan",
        "colab_type": "code",
        "colab": {}
      },
      "source": [
        "keras_optimizers = {\n",
        "    'SGD': optimizers.SGD,\n",
        "    'Adam': optimizers.Adam,\n",
        "}"
      ],
      "execution_count": 0,
      "outputs": []
    },
    {
      "cell_type": "markdown",
      "metadata": {
        "id": "6MROfQicWhaw",
        "colab_type": "text"
      },
      "source": [
        "Next we define the function responsible for building the bow model.\n",
        "\n",
        "\n",
        "**NOTE**: Outside of this notebook several alternative model constructions were tested. These included other forms of regularization (e.g. dropout), different setups for hidden layer(s) and using pre-computed weights due to the data being imbalanced. None of these had any practical effect."
      ]
    },
    {
      "cell_type": "code",
      "metadata": {
        "id": "E3wzliQzWhaw",
        "colab_type": "code",
        "colab": {}
      },
      "source": [
        "def build_bow_model(\n",
        "        feature_matrix, activation=None, optimizer=None, learning_rate=None\n",
        "    ):\n",
        "    \"\"\" Builds the BOW model according to the parameters \"\"\"\n",
        "    doc_count, feature_count = feature_matrix.shape\n",
        "    inp = Input(shape=(feature_count,))\n",
        "    hidden = Dense(250, activation=activation)(inp)\n",
        "    output = Dense(num_classes, activation=\"softmax\")(hidden)\n",
        "    model = Model(inputs=[inp], outputs=[output])\n",
        "    optimizer = optimizer(learning_rate=learning_rate)\n",
        "    model.compile(\n",
        "        optimizer=optimizer,\n",
        "        loss='sparse_categorical_crossentropy',\n",
        "        metrics=['accuracy']\n",
        "    )\n",
        "    return model"
      ],
      "execution_count": 0,
      "outputs": []
    },
    {
      "cell_type": "markdown",
      "metadata": {
        "id": "t2uefY92Wha2",
        "colab_type": "text"
      },
      "source": [
        "We also performed GridSearchCV for the following parameter combinations:\n",
        "- max_features: 1000, 10000, 30000\n",
        "- optimizers: SGD, Adam\n",
        "- activation: tanh, ReLU\n",
        "- learning rate:  0.00098, 0.00310, 0.00984, 0.03125, 0.09921, 0.31498, 1.0\n",
        "\n",
        "\n",
        "**NOTE**: This is an extremely taxing process both time- and resource-wise (allocating in total 20 GB of RAM + some swap on the side). Therefore we do not repeat the full computation here, but only list some of the best results, with which we will proceed. Change *DO_BOW_GSCV* to **True** to run the full operation.\n",
        "\n",
        "Given the availability of sufficient resources, it would also be an option to optimize several other factors (not necessarily using GridSearchCV if not applicable but by other means) such as hidden layer composition or dropout rate (if used). However, due to limited time and hardware we have to settle for the options mentioned above."
      ]
    },
    {
      "cell_type": "code",
      "metadata": {
        "id": "IR4tN4rk240i",
        "colab_type": "code",
        "colab": {
          "base_uri": "https://localhost:8080/",
          "height": 389
        },
        "outputId": "988419b4-f6a4-4802-cebd-d050dd1dcfc9"
      },
      "source": [
        "!wget https://github.com/HannaKi/DL_HLT_2020_groupwork/blob/master/bow_grid_results.p?raw=true"
      ],
      "execution_count": 34,
      "outputs": [
        {
          "output_type": "stream",
          "text": [
            "--2020-05-11 17:51:25--  https://github.com/HannaKi/DL_HLT_2020_groupwork/blob/master/bow_grid_results.p?raw=true\n",
            "Resolving github.com (github.com)... 140.82.113.4\n",
            "Connecting to github.com (github.com)|140.82.113.4|:443... connected.\n",
            "HTTP request sent, awaiting response... 302 Found\n",
            "Location: https://github.com/HannaKi/DL_HLT_2020_groupwork/raw/master/bow_grid_results.p [following]\n",
            "--2020-05-11 17:51:26--  https://github.com/HannaKi/DL_HLT_2020_groupwork/raw/master/bow_grid_results.p\n",
            "Reusing existing connection to github.com:443.\n",
            "HTTP request sent, awaiting response... 302 Found\n",
            "Location: https://raw.githubusercontent.com/HannaKi/DL_HLT_2020_groupwork/master/bow_grid_results.p [following]\n",
            "--2020-05-11 17:51:26--  https://raw.githubusercontent.com/HannaKi/DL_HLT_2020_groupwork/master/bow_grid_results.p\n",
            "Resolving raw.githubusercontent.com (raw.githubusercontent.com)... 151.101.0.133, 151.101.64.133, 151.101.128.133, ...\n",
            "Connecting to raw.githubusercontent.com (raw.githubusercontent.com)|151.101.0.133|:443... connected.\n",
            "HTTP request sent, awaiting response... 200 OK\n",
            "Length: 3527 (3.4K) [application/octet-stream]\n",
            "Saving to: ‘bow_grid_results.p?raw=true’\n",
            "\n",
            "bow_grid_results.p? 100%[===================>]   3.44K  --.-KB/s    in 0s      \n",
            "\n",
            "2020-05-11 17:51:26 (69.8 MB/s) - ‘bow_grid_results.p?raw=true’ saved [3527/3527]\n",
            "\n"
          ],
          "name": "stdout"
        }
      ]
    },
    {
      "cell_type": "code",
      "metadata": {
        "id": "ZRr8U-hKWha3",
        "colab_type": "code",
        "colab": {}
      },
      "source": [
        "# set to True to perform GridSearchCV again\n",
        "DO_BOW_GSCV = False"
      ],
      "execution_count": 0,
      "outputs": []
    },
    {
      "cell_type": "code",
      "metadata": {
        "id": "48OC1enTWha_",
        "colab_type": "code",
        "outputId": "4e493437-f0ed-4790-d435-8fd938089c60",
        "colab": {}
      },
      "source": [
        "if DO_BOW_GSCV:\n",
        "    mc = ModelCheckpoint(filepath='/tmp/bow_model.h5',\n",
        "                         monitor='accuracy',\n",
        "                         verbose=0,\n",
        "                         save_best_only=True,\n",
        "                         mode='auto')\n",
        "\n",
        "    es = EarlyStopping(monitor='accuracy',\n",
        "                       patience=20,\n",
        "                       verbose=0,\n",
        "                       restore_best_weights=True)\n",
        "\n",
        "    bow_grid_params = {\n",
        "        'activation': ['tanh', 'relu'],\n",
        "        'optimizer': list(keras_optimizers.values()), \n",
        "        'learning_rate': np.logspace(-10, 0, num = 7, base = 2).tolist()\n",
        "    }\n",
        "    grid_results = {}\n",
        "    for mf in max_features_options:\n",
        "        print(f\"BOW: GridSearchCV for param max_features={mf}\")\n",
        "        feature_matrix = ms1_vocabs[mf]['train_fm']\n",
        "\n",
        "        def f(activation=None, optimizer=None, learning_rate=None):\n",
        "            return build_bow_model(\n",
        "                feature_matrix,\n",
        "                activation=activation, \n",
        "                optimizer=optimizer,\n",
        "                learning_rate=learning_rate\n",
        "            )\n",
        "\n",
        "        grid = GridSearchCV(\n",
        "            estimator=KerasClassifier(\n",
        "                build_fn=f, epochs=40, batch_size=32, verbose=0),\n",
        "            param_grid=bow_grid_params,\n",
        "            n_jobs=1,\n",
        "            cv=3,\n",
        "            verbose=0,\n",
        "        )\n",
        "        grid_results[mf] = grid.fit(\n",
        "            feature_matrix.toarray(), train_classes, callbacks=[es, mc])\n",
        "    print(\"Done.\")\n",
        "\n",
        "    bow_grid_results = {}\n",
        "    for mf in max_features_options:\n",
        "        res = grid_results[mf]\n",
        "        bow_grid_results[mf] = {\n",
        "            'params': res.cv_results_['params'],\n",
        "            'rank_test_score': res.cv_results_['rank_test_score'],\n",
        "            'mean_test_score': res.cv_results_['mean_test_score']\n",
        "        }\n",
        "    pickle.dump(bow_grid_results, open('bow_grid_results.p', 'wb'))\n",
        "else:\n",
        "    bow_grid_results = pickle.load(open('bow_grid_results.p', 'rb'))\n",
        "    print(\"BOW: Loaded GridSearchCV results from a file.\")"
      ],
      "execution_count": 0,
      "outputs": [
        {
          "output_type": "stream",
          "text": [
            "BOW: Loaded GridSearchCV results from a file.\n"
          ],
          "name": "stdout"
        }
      ]
    },
    {
      "cell_type": "markdown",
      "metadata": {
        "id": "R1QBKypHWhbD",
        "colab_type": "text"
      },
      "source": [
        "The following parameter sets ranked the best:"
      ]
    },
    {
      "cell_type": "code",
      "metadata": {
        "id": "7f8tCQbmWhbG",
        "colab_type": "code",
        "outputId": "4b0c9e9a-cc0e-4a75-8148-9479f057a6be",
        "colab": {}
      },
      "source": [
        "bow_params = {}  # For storing the best models for final comparison\n",
        "for mf in max_features_options:\n",
        "    print(f\"\\n{'--' * 10}\\nBest for max_features={mf}:\")\n",
        "    res = bow_grid_results[mf]\n",
        "    rank = list(res['rank_test_score'])\n",
        "    idx_best = [rank.index(x) for x in range(1, 4)]\n",
        "    best = [res['params'][x] for x in idx_best]\n",
        "    bow_params[mf] = best\n",
        "    scores = [res['mean_test_score'][x] for x in idx_best]\n",
        "    for i, r in enumerate(best):\n",
        "        print(f\"\\n{['First:', 'Second:', 'Third:'][i]} (score {scores[i]:.3f})\\n\")\n",
        "        pp.pprint(r)"
      ],
      "execution_count": 0,
      "outputs": [
        {
          "output_type": "stream",
          "text": [
            "\n",
            "--------------------\n",
            "Best for max_features=1000:\n",
            "\n",
            "First: (score 0.484)\n",
            "\n",
            "{   'activation': 'tanh',\n",
            "    'learning_rate': 0.0098431332023037,\n",
            "    'optimizer': <class 'tensorflow.python.keras.optimizer_v2.gradient_descent.SGD'>}\n",
            "\n",
            "Second: (score 0.471)\n",
            "\n",
            "{   'activation': 'relu',\n",
            "    'learning_rate': 0.0098431332023037,\n",
            "    'optimizer': <class 'tensorflow.python.keras.optimizer_v2.gradient_descent.SGD'>}\n",
            "\n",
            "Third: (score 0.465)\n",
            "\n",
            "{   'activation': 'tanh',\n",
            "    'learning_rate': 0.03125,\n",
            "    'optimizer': <class 'tensorflow.python.keras.optimizer_v2.gradient_descent.SGD'>}\n",
            "\n",
            "--------------------\n",
            "Best for max_features=10000:\n",
            "\n",
            "First: (score 0.538)\n",
            "\n",
            "{   'activation': 'tanh',\n",
            "    'learning_rate': 0.0009765625,\n",
            "    'optimizer': <class 'tensorflow.python.keras.optimizer_v2.adam.Adam'>}\n",
            "\n",
            "Second: (score 0.537)\n",
            "\n",
            "{   'activation': 'tanh',\n",
            "    'learning_rate': 0.0031003926796253885,\n",
            "    'optimizer': <class 'tensorflow.python.keras.optimizer_v2.adam.Adam'>}\n",
            "\n",
            "Third: (score 0.528)\n",
            "\n",
            "{   'activation': 'tanh',\n",
            "    'learning_rate': 0.0098431332023037,\n",
            "    'optimizer': <class 'tensorflow.python.keras.optimizer_v2.gradient_descent.SGD'>}\n",
            "\n",
            "--------------------\n",
            "Best for max_features=30000:\n",
            "\n",
            "First: (score 0.551)\n",
            "\n",
            "{   'activation': 'tanh',\n",
            "    'learning_rate': 0.0009765625,\n",
            "    'optimizer': <class 'tensorflow.python.keras.optimizer_v2.adam.Adam'>}\n",
            "\n",
            "Second: (score 0.545)\n",
            "\n",
            "{   'activation': 'tanh',\n",
            "    'learning_rate': 0.0031003926796253885,\n",
            "    'optimizer': <class 'tensorflow.python.keras.optimizer_v2.adam.Adam'>}\n",
            "\n",
            "Third: (score 0.534)\n",
            "\n",
            "{   'activation': 'tanh',\n",
            "    'learning_rate': 0.03125,\n",
            "    'optimizer': <class 'tensorflow.python.keras.optimizer_v2.gradient_descent.SGD'>}\n"
          ],
          "name": "stdout"
        }
      ]
    },
    {
      "cell_type": "markdown",
      "metadata": {
        "id": "BcDjOJ3zWhbO",
        "colab_type": "text"
      },
      "source": [
        "As can be seen, *tanh* does consistently better than *ReLU*, at least in the context of GridSearchCV. As for the other params, the results are more varied, even though the scores between the parameter sets do not vary considerably. In any case, a line has to be drawn somewhere, and therefore we will perform the full training cycle only with the param sets defined above.\n",
        "\n",
        "In addition, for regularization purposes, early stopping will be utilized."
      ]
    },
    {
      "cell_type": "code",
      "metadata": {
        "id": "qqIZs7J0WhbO",
        "colab_type": "code",
        "outputId": "45c09c8b-9b11-4c14-96f3-64b814fa7a8f",
        "colab": {}
      },
      "source": [
        "# Early Stopping settings\n",
        "mc = ModelCheckpoint(filepath='/tmp/bow_model.h5',\n",
        "                     monitor='val_accuracy',\n",
        "                     verbose=0,\n",
        "                     save_best_only=True,\n",
        "                     mode='auto')\n",
        "\n",
        "es = EarlyStopping(monitor='val_accuracy',\n",
        "                   patience=20,\n",
        "                   verbose=0,\n",
        "                   restore_best_weights=True)\n",
        "\n",
        "# The parameters that are used in the training process\n",
        "fit_params = {\n",
        "    'batch_size': 32,\n",
        "    'verbose': 0,\n",
        "    'epochs': 100,\n",
        "    'callbacks': [mc, es],\n",
        "}\n",
        "\n",
        "def train_bow_model(max_features, params, train_classes=train_classes):\n",
        "    \"\"\" Returns a trained BOW model and results for the given parameters \"\"\"\n",
        "    \n",
        "    # Get the correct vocabulary and define the validation set\n",
        "    vocab = ms1_vocabs[max_features]\n",
        "    fit_params['validation_data'] = (vocab['dev_fm'], dev_classes)\n",
        "    \n",
        "    # Build and train the model\n",
        "    model = build_bow_model(vocab['train_fm'], **params)\n",
        "    hist = model.fit(vocab['train_fm'].toarray(), train_classes, **fit_params)\n",
        "\n",
        "    # compute predictions for all the sets\n",
        "    train_preds = np.argmax(model.predict(vocab['train_fm'].toarray()), axis=1)\n",
        "    train_acc = np.sum(np.equal(train_classes, train_preds)) / len(train_classes)\n",
        "    \n",
        "    dev_preds = np.argmax(model.predict(vocab['dev_fm'].toarray()), axis=1)\n",
        "    dev_acc = np.sum(np.equal(dev_classes, dev_preds)) / len(dev_classes)\n",
        "    \n",
        "    test_preds = np.argmax(model.predict(vocab['test_fm'].toarray()), axis=1)\n",
        "    test_acc = np.sum(np.equal(test_classes, test_preds)) / len(test_classes)\n",
        "    \n",
        "    return {\n",
        "        'hist': hist.history,\n",
        "        'optimizer': params['optimizer'].__name__,\n",
        "        'learning_rate': params['learning_rate'],\n",
        "        'train_accuracy': train_acc,\n",
        "        'validation_accuracy': dev_acc,\n",
        "        'test_accuracy': test_acc,\n",
        "        'test_predictions': test_preds\n",
        "    }\n",
        "    \n",
        "bow_results = {}\n",
        "for mf in max_features_options:\n",
        "    bow_results[mf] = []\n",
        "    print(f\"\\nTraining BOW for max_features={mf}\")\n",
        "    for i, param_set in enumerate(bow_params[mf]):\n",
        "        print(f\"Param set {i + 1}.\", end=\" \")\n",
        "        bow_results[mf].append(train_bow_model(mf, param_set))\n",
        "print(\"\\nDone.\")"
      ],
      "execution_count": 0,
      "outputs": [
        {
          "output_type": "stream",
          "text": [
            "\n",
            "Training BOW for max_features=1000\n",
            "Param set 1. Param set 2. Param set 3. \n",
            "Training BOW for max_features=10000\n",
            "Param set 1. Param set 2. Param set 3. \n",
            "Training BOW for max_features=30000\n",
            "Param set 1. Param set 2. Param set 3. \n",
            "Done.\n"
          ],
          "name": "stdout"
        }
      ]
    },
    {
      "cell_type": "markdown",
      "metadata": {
        "id": "InW26CNFWhbS",
        "colab_type": "text"
      },
      "source": [
        "Then it's time for some results:"
      ]
    },
    {
      "cell_type": "code",
      "metadata": {
        "id": "xhIgkFlEWhbU",
        "colab_type": "code",
        "outputId": "4df85a61-0717-40ad-efbc-3d4edfa39c6c",
        "colab": {}
      },
      "source": [
        "fig, ax = plt.subplots(3, 3, figsize=(15, 18), sharey=True, tight_layout=True)\n",
        "plt.suptitle(\"BOW results (param sets by GSCV)\\n\\n\", va='baseline', fontsize=20)\n",
        "for i, (mf, res_mf) in enumerate(bow_results.items()):\n",
        "    for j, res in enumerate(res_mf):\n",
        "        hist = res['hist']\n",
        "        ax[i][j].set_title(f\"MAX FEATURES: {mf}\\n\"\n",
        "                        f\"Learning rate: {res['learning_rate']:.3f};    \"\n",
        "                        f\"Optimizer: {res['optimizer']}\",\n",
        "                        fontsize=12)\n",
        "        ax[i][j].plot(hist['accuracy'], label='training')\n",
        "        ax[i][j].plot(hist['val_accuracy'], label='validation')\n",
        "        ax[i][j].set_xlabel(\n",
        "            f\"ACCURACY:\\n Train: {res['train_accuracy']:.2f}    \"\n",
        "            f\"Validation: {res['validation_accuracy']:.2f}    \"\n",
        "            f\"Test: {res['test_accuracy']:.2f}\\n\",\n",
        "            fontsize=12\n",
        "        )\n",
        "        ax[i][j].legend(loc='lower right')\n",
        "plt.show()"
      ],
      "execution_count": 0,
      "outputs": [
        {
          "output_type": "display_data",
          "data": {
            "image/png": "[encoded data removed]",
            "text/plain": [
              "<Figure size 1080x1296 with 9 Axes>"
            ]
          },
          "metadata": {
            "tags": [],
            "needs_background": "light"
          }
        }
      ]
    },
    {
      "cell_type": "markdown",
      "metadata": {
        "id": "Qb4s2Ya8WhbZ",
        "colab_type": "text"
      },
      "source": [
        "As can be seen the results are downright lackluster. Optimizer-wise models with *Adam* do not seem to learn anything at all (or they learn everything they can during the first epoch). The exact value of *max_features* also seems to be somewhat irrelevant as long as it is within reasonable limits.\n",
        "\n",
        "It should also be noted that the results displayed are clearly above results obtained from non-signal data. That is, if we permutate the training labels (effectively training with junk data) we obtain the following results:"
      ]
    },
    {
      "cell_type": "code",
      "metadata": {
        "id": "8aMgJa7JWhbb",
        "colab_type": "code",
        "outputId": "e0abf5ae-0b31-49c1-a8bb-1d6726869073",
        "colab": {}
      },
      "source": [
        "permutated_bow = train_bow_model(\n",
        "    10000,\n",
        "    bow_params[10000][0],\n",
        "    train_classes=np.random.permutation(train_classes))\n",
        "print(\"Accuracies for a model trained with permutated data \"\n",
        "      \"(best param set for max_features = 10000):\\n\"\n",
        "      f\"Train: {permutated_bow['train_accuracy']:.3f}\\t\"\n",
        "      f\"Dev: {permutated_bow['validation_accuracy']:.3f}\\t\"\n",
        "      f\"Test: {permutated_bow['test_accuracy']:.3f}\")"
      ],
      "execution_count": 0,
      "outputs": [
        {
          "output_type": "stream",
          "text": [
            "Accuracies for a model trained with permutated data (best param set for max_features = 10000):\n",
            "Train: 0.990\tDev: 0.125\tTest: 0.089\n"
          ],
          "name": "stdout"
        }
      ]
    },
    {
      "cell_type": "markdown",
      "metadata": {
        "id": "NFtdRZozWhbi",
        "colab_type": "text"
      },
      "source": [
        "That is, the test set accuracy has dropped from 0.56 to 0.10. Of course this is just a single permutation, and to improve confidence we'd have to repeat the test at least a thousand times to obtain a proper p-value, but that is outside the scope of this report.\n",
        "\n",
        "**We will inspect the predictions more closely in Milestone 2.2.**"
      ]
    },
    {
      "cell_type": "markdown",
      "metadata": {
        "id": "1GRJ5S-kWhbj",
        "colab_type": "text"
      },
      "source": [
        "### 1.2: RNN"
      ]
    },
    {
      "cell_type": "markdown",
      "metadata": {
        "id": "K_eUty4CWhbk",
        "colab_type": "text"
      },
      "source": [
        "Next up is the RNN model. In order to limit the number of parameters that need optimizing we first opted for using FastText embeddings on the embedding layer (see https://fasttext.cc/docs/en/crawl-vectors.html). The model would therefore be constructed by making the embedding layer of shape *vocabulary size X FastText vector size*.\n",
        "\n",
        "We generated the embedding matrix as follows, using a vocabulary size of 100000."
      ]
    },
    {
      "cell_type": "code",
      "metadata": {
        "id": "GWVZUv_TWhbk",
        "colab_type": "code",
        "outputId": "387843f1-7e08-464c-83c7-17f9da624c3f",
        "colab": {}
      },
      "source": [
        "embedding_dim = 300  # FastText vector size\n",
        "vocab_size = 100000\n",
        "sequence_length = 250\n",
        "\n",
        "embedding_matrix_file = Path('rnn_embedding_matrix.p')\n",
        "\n",
        "if embedding_matrix_file.is_file():\n",
        "    embedding_matrix = pickle.load(open(embedding_matrix_file, 'rb'))\n",
        "    print(\"Loaded the embedding matrix from a file.\")\n",
        "    \n",
        "else:\n",
        "    fasttext_file = Path.home() / 'Documents/Fasttext/cc.fi.300.vec'\n",
        "\n",
        "    tok = Tokenizer(num_words=vocab_size, lower=False, split=' ', char_level=False)\n",
        "    tok.fit_on_texts(txt_train)\n",
        "\n",
        "    print(f\"Generating the embedding matrix..\", end=\"\")\n",
        "\n",
        "    embedding_matrix = np.zeros([vocab_size, embedding_dim])\n",
        "\n",
        "    with open(fasttext_file) as word_vecs:\n",
        "        next(word_vecs)  # skip the first line (contains stats)\n",
        "\n",
        "        for i, line in enumerate(word_vecs):\n",
        "\n",
        "            if i % 100000 == 0:\n",
        "                print(\".\", end=\"\")\n",
        "\n",
        "            items = line.strip().split(' ')\n",
        "            word = items[0]\n",
        "\n",
        "            # If the word does not have an embedding it will be omitted =>\n",
        "            # the corresponding row of the embedding matrix is 0-filled\n",
        "            try:\n",
        "                pos = tok.word_index[word]\n",
        "            except KeyError:\n",
        "                continue\n",
        "\n",
        "            # If the word is not among the 100000 most common ones, omit it.\n",
        "            if pos >= vocab_size:\n",
        "                continue\n",
        "\n",
        "            # Set row for this particular word in the matrix.\n",
        "            embedding = (np.array([float(j) for j in items[1:]]))\n",
        "            embedding_matrix[pos, :] = embedding\n",
        "\n",
        "    pickle.dump(embedding_matrix, open('rnn_embedding_matrix.p', 'wb'))\n",
        "    print(\"Done.\")"
      ],
      "execution_count": 0,
      "outputs": [
        {
          "output_type": "stream",
          "text": [
            "Loaded the embedding matrix from a file.\n"
          ],
          "name": "stdout"
        }
      ]
    },
    {
      "cell_type": "markdown",
      "metadata": {
        "id": "tGsKIn9BWhbp",
        "colab_type": "text"
      },
      "source": [
        "We will use Keras tools for text tokenization and sequence padding:"
      ]
    },
    {
      "cell_type": "code",
      "metadata": {
        "id": "6jHlzE_SWhbs",
        "colab_type": "code",
        "colab": {}
      },
      "source": [
        "def get_padded_sequences():\n",
        "    \"\"\" \n",
        "    Constructs tokenized and padded sequences from the texts.\n",
        "    Default 'pre' padding.\n",
        "    \"\"\"\n",
        "    tokenizer = Tokenizer(\n",
        "        num_words=vocab_size, lower=True, split=' ', char_level=False\n",
        "    )\n",
        "    \n",
        "    params = {'maxlen': sequence_length, 'value': 0}\n",
        "    \n",
        "    tokenizer.fit_on_texts(txt_train)\n",
        "    \n",
        "    train_seq = tokenizer.texts_to_sequences(txt_train)\n",
        "    train_seq = pad_sequences(train_seq, **params)\n",
        "    \n",
        "    dev_seq = tokenizer.texts_to_sequences(txt_dev)\n",
        "    dev_seq = pad_sequences(dev_seq, **params)\n",
        "    test_seq = tokenizer.texts_to_sequences(txt_test)\n",
        "    test_seq = pad_sequences(test_seq, **params)\n",
        "    \n",
        "    return train_seq, dev_seq, test_seq\n",
        "\n",
        "# Get the sequences\n",
        "train_seq, dev_seq, test_seq = get_padded_sequences()"
      ],
      "execution_count": 0,
      "outputs": []
    },
    {
      "cell_type": "markdown",
      "metadata": {
        "id": "Uy1OwCo9Whbx",
        "colab_type": "text"
      },
      "source": [
        "The following function is used to construct the model. There are a lot of options that could/should be tested, but evaluating all the aspects would take more time and resources than we can afford. **We initially implemented a GSCV routine for RNN also**, but found it to be too taxing and time-consuming for the project at hand.\n",
        "\n",
        "Some considerations:\n",
        "- dropout (*dropout, recurrent_dropout*) will be omitted; only early stopping is relied on for regularization purposes\n",
        "- outside of this notebook we tried several alternative approaches, all of which resulted in **no observable improvement**:\n",
        "    - adding a BiLSTM layer\n",
        "    - with/without FastText embeddings\n",
        "    - different sequence lengths\n",
        "    - different vocabulary sizes\n",
        "    - different number of RNN units\n",
        "\n",
        "Of course specific choices can be made to achieve considerably weaker performance. The results displayed here are approximately the best we could reach."
      ]
    },
    {
      "cell_type": "code",
      "metadata": {
        "id": "yvj0k5zIWhbz",
        "colab_type": "code",
        "colab": {}
      },
      "source": [
        "def build_rnn_model(learning_rate=None, emb_trainable=True):\n",
        "    \"\"\" Builds the RNN model according to the params \"\"\"\n",
        "    rnn_units = 100\n",
        "    weights = [embedding_matrix[:vocab_size]]\n",
        "    input_ = Input(shape=(sequence_length,))\n",
        "    # We will also allow further training of the embedding layer\n",
        "    embedding = Embedding(\n",
        "        vocab_size, embedding_dim, weights=weights, trainable=emb_trainable\n",
        "    )(input_)\n",
        "    rnn = LSTM(rnn_units, return_sequences=False)(embedding)\n",
        "    output = Dense(num_classes, activation='softmax')(rnn)\n",
        "    model =  Model(inputs=[input_], outputs=[output])\n",
        "    optimizer = optimizers.Adam(learning_rate=learning_rate)\n",
        "    model.compile(\n",
        "        loss='sparse_categorical_crossentropy',\n",
        "        optimizer=optimizer,\n",
        "        metrics=['accuracy']\n",
        "    )\n",
        "    return model"
      ],
      "execution_count": 0,
      "outputs": []
    },
    {
      "cell_type": "markdown",
      "metadata": {
        "id": "-r9ahydOWhb4",
        "colab_type": "text"
      },
      "source": [
        "The training setup for the RNN model:"
      ]
    },
    {
      "cell_type": "code",
      "metadata": {
        "id": "de8qlFZgWhb5",
        "colab_type": "code",
        "outputId": "e031cd12-1152-4335-d627-fbf72618c241",
        "colab": {}
      },
      "source": [
        "# Early Stopping settings\n",
        "mc_rnn = ModelCheckpoint(filepath='/tmp/rnn_model.h5',\n",
        "                         monitor='val_accuracy',\n",
        "                         verbose=0,\n",
        "                         save_best_only=True,\n",
        "                         mode='auto')\n",
        "    \n",
        "es_rnn = EarlyStopping(monitor='val_accuracy',\n",
        "                       patience=5,  # 20 => longer training time, same accuracy\n",
        "                       verbose=0,\n",
        "                       restore_best_weights=True)\n",
        "\n",
        "# The parameters that are used in the training process\n",
        "fit_params = {\n",
        "    'batch_size': 100,\n",
        "    'verbose': 0,\n",
        "    'epochs': 100,\n",
        "    'callbacks': [mc_rnn, es_rnn],\n",
        "    'validation_data': (dev_seq, dev_classes)\n",
        "}\n",
        "\n",
        "def train_rnn_model(learning_rate, fit_params=fit_params, emb_trainable=True):\n",
        "    \"\"\" Returns a trained BOW model and results for the given parameters \"\"\"\n",
        "    \n",
        "    # Build and train the model\n",
        "    model = build_rnn_model(learning_rate, emb_trainable=emb_trainable)\n",
        "    hist = model.fit(train_seq, train_classes, **fit_params)\n",
        "\n",
        "    # compute predictions for all the sets\n",
        "    train_preds = np.argmax(model.predict(train_seq), axis=1)\n",
        "    train_acc = np.sum(np.equal(train_classes, train_preds)) / len(train_classes)\n",
        "    \n",
        "    dev_preds = np.argmax(model.predict(dev_seq), axis=1)\n",
        "    dev_acc = np.sum(np.equal(dev_classes, dev_preds)) / len(dev_classes)\n",
        "    \n",
        "    test_preds = np.argmax(model.predict(test_seq), axis=1)\n",
        "    test_acc = np.sum(np.equal(test_classes, test_preds)) / len(test_classes)\n",
        "    \n",
        "    return {\n",
        "        'hist': hist.history,\n",
        "        'learning_rate': learning_rate,\n",
        "        'train_accuracy': train_acc,\n",
        "        'validation_accuracy': dev_acc,\n",
        "        'test_accuracy': test_acc,\n",
        "        'test_predictions': test_preds\n",
        "    }\n",
        "    \n",
        "rnn_results = {}\n",
        "for lr in [0.0001, 0.001, 0.01, 0.1]:\n",
        "    print(f\"\\nTraining LSTM for learning_rate={lr}\")\n",
        "    rnn_results[lr] = train_rnn_model(lr)\n",
        "print(\"\\nDone.\")"
      ],
      "execution_count": 0,
      "outputs": [
        {
          "output_type": "stream",
          "text": [
            "\n",
            "Training LSTM for learning_rate=0.0001\n",
            "\n",
            "Training LSTM for learning_rate=0.001\n",
            "\n",
            "Training LSTM for learning_rate=0.01\n",
            "\n",
            "Training LSTM for learning_rate=0.1\n",
            "\n",
            "Done.\n"
          ],
          "name": "stdout"
        }
      ]
    },
    {
      "cell_type": "code",
      "metadata": {
        "id": "Wpzc0tGuWhcA",
        "colab_type": "code",
        "outputId": "c8a19480-f3ad-49fe-ecd0-82327deccbfd",
        "colab": {}
      },
      "source": [
        "fig, ax = plt.subplots(1, 4, figsize=(20, 5), sharey=True, tight_layout=True)\n",
        "plt.suptitle(\"LSTM results\\n\\n\", va='baseline', fontsize=20)\n",
        "for i, (lr, res) in enumerate(rnn_results.items()):\n",
        "    hist = res['hist']\n",
        "    ax[i].set_title(f\"Learning rate: {res['learning_rate']:.4f}\", fontsize=12)\n",
        "    ax[i].plot(hist['accuracy'], label='training')\n",
        "    ax[i].plot(hist['val_accuracy'], label='validation')\n",
        "    ax[i].set_xlabel(\n",
        "        f\"ACCURACY:\\n Train: {res['train_accuracy']:.2f}    \"\n",
        "        f\"Validation: {res['validation_accuracy']:.2f}    \"\n",
        "        f\"Test: {res['test_accuracy']:.2f}\\n\",\n",
        "        fontsize=12\n",
        "    )\n",
        "    ax[i].legend(loc='lower right')\n",
        "plt.show()"
      ],
      "execution_count": 0,
      "outputs": [
        {
          "output_type": "display_data",
          "data": {
            "image/png": "[encoded data removed]",
            "text/plain": [
              "<Figure size 1440x360 with 4 Axes>"
            ]
          },
          "metadata": {
            "tags": [],
            "needs_background": "light"
          }
        }
      ]
    },
    {
      "cell_type": "markdown",
      "metadata": {
        "id": "baEyHPJzWhcE",
        "colab_type": "text"
      },
      "source": [
        "The results are considerably weaker. Depending on the actual parameters the accuracy on the test set could occasionally be improved by 1-2 %, but no setup allowed the model to reach even the 40 % limit. Also, whether or not we allow the training of the embedding layer does not seem to have much of an effect:"
      ]
    },
    {
      "cell_type": "code",
      "metadata": {
        "id": "2vrb-7c2WhcF",
        "colab_type": "code",
        "outputId": "1ffff4f9-430e-4d4c-a955-a37cd66e4ee6",
        "colab": {}
      },
      "source": [
        "rnn_emb_non_trainable = train_rnn_model(0.001, emb_trainable=False)\n",
        "print(\"Accuracies for an LSTM model with non-trainable embedding layer\\n\"\n",
        "      f\"Train: {rnn_emb_non_trainable['train_accuracy']:.3f}\\t\"\n",
        "      f\"Dev: {rnn_emb_non_trainable['validation_accuracy']:.3f}\\t\"\n",
        "      f\"Test: {rnn_emb_non_trainable['test_accuracy']:.3f}\")"
      ],
      "execution_count": 0,
      "outputs": [
        {
          "output_type": "stream",
          "text": [
            "Accuracies for an LSTM model with non-trainable embedding layer\n",
            "Train: 0.423\tDev: 0.352\tTest: 0.347\n"
          ],
          "name": "stdout"
        }
      ]
    },
    {
      "cell_type": "markdown",
      "metadata": {
        "id": "m7wbQDikWhcK",
        "colab_type": "text"
      },
      "source": [
        "**We will inspect the predictions more closely in Milestone 2.2.**"
      ]
    },
    {
      "cell_type": "markdown",
      "metadata": {
        "id": "q7muo-N8WhcK",
        "colab_type": "text"
      },
      "source": [
        "## Milestone 2"
      ]
    },
    {
      "cell_type": "markdown",
      "metadata": {
        "id": "3hA7UFNHWhcL",
        "colab_type": "text"
      },
      "source": [
        "### 2.1: BERT\n",
        "\n",
        "We had initially some trouble in getting BERT working properly, and therefore decided to use two alternative approaches: Keras and PyTorch. Some massive problems remained (highly likely relationg to the order in which libraries are imported) and we settled for stylewise suboptimal decision to download keras-BERT and retating functions as close to deployment as possile.\n"
      ]
    },
    {
      "cell_type": "markdown",
      "metadata": {
        "id": "37yxsvlQWhcQ",
        "colab_type": "text"
      },
      "source": [
        "### 2.1.1: BERT Keras"
      ]
    },
    {
      "cell_type": "code",
      "metadata": {
        "id": "uiYlKXewYpqx",
        "colab_type": "code",
        "colab": {}
      },
      "source": [
        "# MAX_EXAMPLES and INPUT_LENGTH limited to avoid going out of memory\n",
        "# Maximum number of examples to read\n",
        "MAX_EXAMPLES = 1500\n",
        "\n",
        "# Maximum length of input sequence in tokens\n",
        "INPUT_LENGTH = 250"
      ],
      "execution_count": 0,
      "outputs": []
    },
    {
      "cell_type": "markdown",
      "metadata": {
        "id": "jLBCRne9Zc4D",
        "colab_type": "text"
      },
      "source": [
        "To avoid out of memory we have to limit the input size to MAX_EXAMPLES."
      ]
    },
    {
      "cell_type": "code",
      "metadata": {
        "id": "bKtf1BNfZVYN",
        "colab_type": "code",
        "colab": {}
      },
      "source": [
        "def truncate_data(data, MAX_EXAMPLES):\n",
        "  if len(data) > MAX_EXAMPLES: # truncate data if needed to avoid OOM\n",
        "    print('Note: truncating examples from {} to {}'.format(len(data), MAX_EXAMPLES)) # should take stratified subsample?\n",
        "    data = data[:MAX_EXAMPLES]\n",
        "  return(data)"
      ],
      "execution_count": 0,
      "outputs": []
    },
    {
      "cell_type": "code",
      "metadata": {
        "id": "rAmwgyjfZ0Nc",
        "colab_type": "code",
        "colab": {
          "base_uri": "https://localhost:8080/",
          "height": 91
        },
        "outputId": "a37b8e20-48f4-4e5f-e921-51369586f964"
      },
      "source": [
        "# We use data sets which only have labels that appear in the training data\n",
        "# All the datas will be truncated if needed\n",
        "\n",
        "train_ = truncate_data(df_train, MAX_EXAMPLES)\n",
        "dev_ = truncate_data(df_test, MAX_EXAMPLES)\n",
        "test_ = truncate_data(df_test, MAX_EXAMPLES)\n",
        "\n",
        "frames = [train_, dev_, test_]\n",
        "for d in frames:\n",
        "  print(d.shape)\n",
        "#  print(d.head())"
      ],
      "execution_count": 10,
      "outputs": [
        {
          "output_type": "stream",
          "text": [
            "Note: truncating examples from 5295 to 1500\n",
            "(1500, 2)\n",
            "(1500, 2)\n",
            "(1500, 2)\n"
          ],
          "name": "stdout"
        }
      ]
    },
    {
      "cell_type": "code",
      "metadata": {
        "id": "x1lxcB3PfjMi",
        "colab_type": "code",
        "colab": {}
      },
      "source": [
        "train_reg = train_['reg']\n",
        "\n",
        "test_ = test_[test_['reg'].isin(train_reg.tolist())]\n",
        "dev_ = dev_[dev_['reg'].isin(train_reg.tolist())] "
      ],
      "execution_count": 0,
      "outputs": []
    },
    {
      "cell_type": "markdown",
      "metadata": {
        "id": "qilRUETtbICS",
        "colab_type": "text"
      },
      "source": [
        "Install keras-bert"
      ]
    },
    {
      "cell_type": "code",
      "metadata": {
        "id": "tCHUx4zibCyF",
        "colab_type": "code",
        "colab": {
          "base_uri": "https://localhost:8080/",
          "height": 335
        },
        "outputId": "ed63501b-ef21-41f5-8ded-2aed0ebb53e8"
      },
      "source": [
        "!pip3 install keras-bert"
      ],
      "execution_count": 12,
      "outputs": [
        {
          "output_type": "stream",
          "text": [
            "Requirement already satisfied: keras-bert in /usr/local/lib/python3.6/dist-packages (0.81.0)\n",
            "Requirement already satisfied: numpy in /usr/local/lib/python3.6/dist-packages (from keras-bert) (1.18.4)\n",
            "Requirement already satisfied: Keras in /usr/local/lib/python3.6/dist-packages (from keras-bert) (2.3.1)\n",
            "Requirement already satisfied: keras-transformer>=0.30.0 in /usr/local/lib/python3.6/dist-packages (from keras-bert) (0.33.0)\n",
            "Requirement already satisfied: pyyaml in /usr/local/lib/python3.6/dist-packages (from Keras->keras-bert) (3.13)\n",
            "Requirement already satisfied: keras-applications>=1.0.6 in /usr/local/lib/python3.6/dist-packages (from Keras->keras-bert) (1.0.8)\n",
            "Requirement already satisfied: h5py in /usr/local/lib/python3.6/dist-packages (from Keras->keras-bert) (2.10.0)\n",
            "Requirement already satisfied: keras-preprocessing>=1.0.5 in /usr/local/lib/python3.6/dist-packages (from Keras->keras-bert) (1.1.0)\n",
            "Requirement already satisfied: scipy>=0.14 in /usr/local/lib/python3.6/dist-packages (from Keras->keras-bert) (1.4.1)\n",
            "Requirement already satisfied: six>=1.9.0 in /usr/local/lib/python3.6/dist-packages (from Keras->keras-bert) (1.12.0)\n",
            "Requirement already satisfied: keras-multi-head>=0.22.0 in /usr/local/lib/python3.6/dist-packages (from keras-transformer>=0.30.0->keras-bert) (0.22.0)\n",
            "Requirement already satisfied: keras-layer-normalization>=0.12.0 in /usr/local/lib/python3.6/dist-packages (from keras-transformer>=0.30.0->keras-bert) (0.14.0)\n",
            "Requirement already satisfied: keras-embed-sim>=0.7.0 in /usr/local/lib/python3.6/dist-packages (from keras-transformer>=0.30.0->keras-bert) (0.7.0)\n",
            "Requirement already satisfied: keras-pos-embd>=0.10.0 in /usr/local/lib/python3.6/dist-packages (from keras-transformer>=0.30.0->keras-bert) (0.11.0)\n",
            "Requirement already satisfied: keras-position-wise-feed-forward>=0.5.0 in /usr/local/lib/python3.6/dist-packages (from keras-transformer>=0.30.0->keras-bert) (0.6.0)\n",
            "Requirement already satisfied: keras-self-attention==0.41.0 in /usr/local/lib/python3.6/dist-packages (from keras-multi-head>=0.22.0->keras-transformer>=0.30.0->keras-bert) (0.41.0)\n"
          ],
          "name": "stdout"
        }
      ]
    },
    {
      "cell_type": "code",
      "metadata": {
        "id": "xHhXmhOtbPyv",
        "colab_type": "code",
        "colab": {}
      },
      "source": [
        "os.environ['TF_KERAS'] = '1'    # Required to use tensorflow.python.keras with keras-bert"
      ],
      "execution_count": 0,
      "outputs": []
    },
    {
      "cell_type": "markdown",
      "metadata": {
        "id": "ZSU_Yyu7bxbm",
        "colab_type": "text"
      },
      "source": [
        "## Download pretrained FinBERT model"
      ]
    },
    {
      "cell_type": "markdown",
      "metadata": {
        "id": "rfgeN0vpbzUe",
        "colab_type": "text"
      },
      "source": [
        "Download pretrained TurkuNLP FinBERT from: https://github.com/TurkuNLP/FinBERT and prepare it for use."
      ]
    },
    {
      "cell_type": "code",
      "metadata": {
        "id": "cYKsshGlbpff",
        "colab_type": "code",
        "outputId": "0952d23c-04e5-471e-db8e-101d122bbd9f",
        "colab": {
          "base_uri": "https://localhost:8080/",
          "height": 73
        }
      },
      "source": [
        "!wget -nc http://dl.turkunlp.org/finbert/bert-base-finnish-cased-v1.zip\n",
        "\n",
        "# Give -n argument so that existing files aren't overwritten \n",
        "!unzip -n bert-base-finnish-cased-v1.zip\n",
        "\n",
        "# Store paths to important files:\n",
        "bert_vocab_path = 'bert-base-finnish-cased-v1/vocab.txt'\n",
        "bert_config_path = 'bert-base-finnish-cased-v1/bert_config.json'\n",
        "bert_checkpoint_path = 'bert-base-finnish-cased-v1/bert_model.ckpt' # suffixes not required for checkpoints"
      ],
      "execution_count": 14,
      "outputs": [
        {
          "output_type": "stream",
          "text": [
            "File ‘bert-base-finnish-cased-v1.zip’ already there; not retrieving.\n",
            "\n",
            "Archive:  bert-base-finnish-cased-v1.zip\n"
          ],
          "name": "stdout"
        }
      ]
    },
    {
      "cell_type": "code",
      "metadata": {
        "id": "LIhyTd-hgbMS",
        "colab_type": "code",
        "colab": {}
      },
      "source": [
        "model_is_cased = True"
      ],
      "execution_count": 0,
      "outputs": []
    },
    {
      "cell_type": "markdown",
      "metadata": {
        "id": "6M8ZzWzNcErM",
        "colab_type": "text"
      },
      "source": [
        "We load the BERT vocabulary and model configurations. Vocabulary contains tags and suffixes needed to utilize our own input texts efficeintly."
      ]
    },
    {
      "cell_type": "code",
      "metadata": {
        "id": "hSBHyTuScDPh",
        "colab_type": "code",
        "colab": {}
      },
      "source": [
        "vocab = []\n",
        "with open(bert_vocab_path) as f:\n",
        "    for i, line in enumerate(f):\n",
        "        vocab.append(line.rstrip('\\n'))    # rstrip to remove newline characters\n",
        "        \n",
        "with open(bert_config_path) as f:\n",
        "    config = json.load(f)"
      ],
      "execution_count": 0,
      "outputs": []
    },
    {
      "cell_type": "markdown",
      "metadata": {
        "id": "Vbo_hKo6dFjF",
        "colab_type": "text"
      },
      "source": [
        "Then we create BERT tokenizer. To do so, we'll need a mapping from vocabulary items to their corresponding integer indices. We do this conventionally using enumerate."
      ]
    },
    {
      "cell_type": "code",
      "metadata": {
        "id": "tYGeB2_ldF65",
        "colab_type": "code",
        "colab": {}
      },
      "source": [
        "# Create mapping from vocabulary items to their indices in the vocabulary\n",
        "from keras_bert import Tokenizer as BERT_Tokenizer\n",
        "\n",
        "token_dict = { v: i for i, v in enumerate(vocab) }\n",
        "\n",
        "tokenizer = BERT_Tokenizer(token_dict, cased=model_is_cased) "
      ],
      "execution_count": 0,
      "outputs": []
    },
    {
      "cell_type": "markdown",
      "metadata": {
        "id": "JGv8ccM9ekNw",
        "colab_type": "text"
      },
      "source": [
        "We will train the label encoder with the labels the truncated training data contains."
      ]
    },
    {
      "cell_type": "code",
      "metadata": {
        "id": "ClEXAMeme079",
        "colab_type": "code",
        "colab": {
          "base_uri": "https://localhost:8080/",
          "height": 36
        },
        "outputId": "dfb7ff3d-d939-466d-abea-15fed41f001f"
      },
      "source": [
        "# training data\n",
        "label_encoder = LabelEncoder()    # Turns class labels into integers\n",
        "train_label = train_['reg'].tolist() \n",
        "\n",
        "label_encoder.fit(train_label)\n",
        "Y = label_encoder.transform(train_label) # encoded labels. Y holds the labels the model will learn to predict.\n",
        "\n",
        "num_labels = len(set(Y)) # Take note of how many unique labels there are in the data\n",
        "\n",
        "# development data\n",
        "dev_label = dev_['reg']\n",
        "y = label_encoder.transform(dev_label)\n",
        "\n",
        "# test data\n",
        "test_label = test_['reg'].tolist()\n",
        "true_labels = label_encoder.transform(test_label)\n",
        "\n",
        "true_labels "
      ],
      "execution_count": 19,
      "outputs": [
        {
          "output_type": "execute_result",
          "data": {
            "text/plain": [
              "array([10, 49, 38, ..., 10, 49, 49])"
            ]
          },
          "metadata": {
            "tags": []
          },
          "execution_count": 19
        }
      ]
    },
    {
      "cell_type": "markdown",
      "metadata": {
        "id": "GAGlhHvEf2-3",
        "colab_type": "text"
      },
      "source": [
        "Then we tokenize input data. We keep token indices and segment ids in separate lists and store as numpy arrays. X here is the final vectorized form of the input we'll be providing to the model for training."
      ]
    },
    {
      "cell_type": "code",
      "metadata": {
        "id": "vN2Zc1Azf3Mr",
        "colab_type": "code",
        "colab": {}
      },
      "source": [
        "def make_model_inputs(text):\n",
        "  token_indices, segment_ids = [], []\n",
        "  for text in text:\n",
        "      # tokenizer.encode() returns a sequence of token indices\n",
        "      # and a sequence of segment IDs. BERT expects both as input,\n",
        "      # even if the segments IDs are just all zeros (like here).\n",
        "      tid, sid = tokenizer.encode(text, max_len=INPUT_LENGTH)\n",
        "      token_indices.append(tid)\n",
        "      segment_ids.append(sid)\n",
        "  inp = [np.array(token_indices), np.array(segment_ids)] # Format input as list of two numpy arrays\n",
        "  return inp"
      ],
      "execution_count": 0,
      "outputs": []
    },
    {
      "cell_type": "code",
      "metadata": {
        "id": "7trnDtUSgEvJ",
        "colab_type": "code",
        "colab": {}
      },
      "source": [
        "X = make_model_inputs(train_['text'])\n",
        "x = make_model_inputs(dev_['text'])\n",
        "test_inp = make_model_inputs(test_['text'])"
      ],
      "execution_count": 0,
      "outputs": []
    },
    {
      "cell_type": "markdown",
      "metadata": {
        "id": "9AaNYmZ6hZ0H",
        "colab_type": "text"
      },
      "source": [
        "Then we load pretrained BERT model\n",
        "\n",
        "We'll use the keras-bert function load_trained_model_from_checkpoint to load the model from the checkpoint we downloaded earlier.\n",
        "\n",
        "Explanation for a few parameters from keras-bert documentation:\n",
        "\n",
        "- training: If training, the whole model will be returned. Otherwise, the MLM [masked language modeling] and NSP [next sentence prediction] parts will be ignored.\n",
        "- trainable: Whether the model is trainable. The default value is the same with training.\n",
        "\n",
        "We don't need the masked language modeling or next sentence prediction parts (these are primarily for pretraining), so we'll use training=False but trainable=True.\n"
      ]
    },
    {
      "cell_type": "code",
      "metadata": {
        "id": "dZoh-Vsfhejy",
        "colab_type": "code",
        "colab": {}
      },
      "source": [
        "from keras_bert import load_trained_model_from_checkpoint\n",
        "\n",
        "pretrained_model = load_trained_model_from_checkpoint(\n",
        "    config_file = bert_config_path,\n",
        "    checkpoint_file = bert_checkpoint_path,\n",
        "    training = False, # ignore MLM [masked language modeling] and NSP [next sentence prediction] parts of the model\n",
        "    trainable = True,\n",
        "    seq_len = INPUT_LENGTH # define the size of input layer\n",
        ")"
      ],
      "execution_count": 0,
      "outputs": []
    },
    {
      "cell_type": "code",
      "metadata": {
        "id": "9lEZDwECh-09",
        "colab_type": "code",
        "outputId": "83351a87-2093-4f46-c910-f40872c26bf8",
        "colab": {
          "base_uri": "https://localhost:8080/",
          "height": 74
        }
      },
      "source": [
        "print(pretrained_model.inputs)\n",
        "print(pretrained_model.outputs)"
      ],
      "execution_count": 23,
      "outputs": [
        {
          "output_type": "stream",
          "text": [
            "[<tf.Tensor 'Input-Token:0' shape=(None, 250) dtype=float32>, <tf.Tensor 'Input-Segment:0' shape=(None, 250) dtype=float32>]\n",
            "[<tf.Tensor 'Encoder-12-FeedForward-Norm/Identity:0' shape=(None, 250, 768) dtype=float32>]\n"
          ],
          "name": "stdout"
        }
      ]
    },
    {
      "cell_type": "markdown",
      "metadata": {
        "id": "gO7yKyF8iBB2",
        "colab_type": "text"
      },
      "source": [
        "Size of the input layer is as we defined with varaible INPUT_LENGTH. But the size of the output layer (250) does not match our label count. This must be fixed. This will be done y wrapping the pretrained model. We will grasp the model output and plug our own output layer on it."
      ]
    },
    {
      "cell_type": "code",
      "metadata": {
        "id": "wr8HHVCfALH-",
        "colab_type": "code",
        "colab": {
          "base_uri": "https://localhost:8080/",
          "height": 36
        },
        "outputId": "93aa7cc1-e868-403b-e8c7-961d9db6cc49"
      },
      "source": [
        "type(pretrained_model.outputs[0][:,0])\n",
        "bert_out = pretrained_model.outputs[0][:,0]\n",
        "type(bert_out)"
      ],
      "execution_count": 24,
      "outputs": [
        {
          "output_type": "execute_result",
          "data": {
            "text/plain": [
              "tensorflow.python.framework.ops.Tensor"
            ]
          },
          "metadata": {
            "tags": []
          },
          "execution_count": 24
        }
      ]
    },
    {
      "cell_type": "code",
      "metadata": {
        "id": "JH7s4Yh0iqRz",
        "colab_type": "code",
        "outputId": "e9044639-f832-4f04-a336-0916c5782d45",
        "colab": {
          "base_uri": "https://localhost:8080/",
          "height": 36
        }
      },
      "source": [
        "from tensorflow.keras.models import Model\n",
        "from tensorflow.keras.layers import Dense\n",
        "\n",
        "\n",
        "bert_out = pretrained_model.outputs[0][:,0]\n",
        "\n",
        "\n",
        "out = Dense(num_labels, activation='softmax')(bert_out) # by calling the output layer we end up calling all the other layers (the model)\n",
        "model = Model(\n",
        "    inputs=pretrained_model.inputs,\n",
        "    outputs=[out]\n",
        ")\n",
        "\n",
        "print(model.output)"
      ],
      "execution_count": 26,
      "outputs": [
        {
          "output_type": "stream",
          "text": [
            "Tensor(\"dense/Identity:0\", shape=(None, 61), dtype=float32)\n"
          ],
          "name": "stdout"
        }
      ]
    },
    {
      "cell_type": "markdown",
      "metadata": {
        "id": "nANoXaTDjyHO",
        "colab_type": "text"
      },
      "source": [
        "BERT is pretrained with an Adam optimizer with warmup and regularization using weight decay. We will copy parameters used in the original BERT work and Deep Learning in Human Language Teghnology -course.\n",
        "\n",
        "We also set some more parameters to make the model work. These parameters have been optimized by exploring different values. We found out, that the most significant parameter for model performance is learning rate."
      ]
    },
    {
      "cell_type": "code",
      "metadata": {
        "id": "67mlTRnmjEnp",
        "colab_type": "code",
        "colab": {}
      },
      "source": [
        "# search for optimal EPOCHS, LEARNING_RATE and BATCH_SIZE for serious training!\n",
        "# Number of epochs to train for\n",
        "EPOCHS = 12                             #16\n",
        "\n",
        "# Optimizer learning rate\n",
        "LEARNING_RATE = 0.00002                   #0.01\n",
        "\n",
        "# Training batch size\n",
        "BATCH_SIZE = 16                          #8"
      ],
      "execution_count": 0,
      "outputs": []
    },
    {
      "cell_type": "code",
      "metadata": {
        "id": "0qQS-1tWkrUT",
        "colab_type": "code",
        "colab": {}
      },
      "source": [
        "from keras_bert import calc_train_steps, AdamWarmup\n",
        "\n",
        "total_steps, warmup_steps = calc_train_steps(\n",
        "    num_example=len(train_['text']),\n",
        "    batch_size=BATCH_SIZE,\n",
        "    epochs=EPOCHS,\n",
        "    warmup_proportion=0.1,\n",
        ")\n",
        "\n",
        "optimizer = AdamWarmup(\n",
        "    total_steps,\n",
        "    warmup_steps,\n",
        "    lr=LEARNING_RATE,\n",
        "    epsilon=1e-6,\n",
        "    weight_decay=0.01,\n",
        "    weight_decay_pattern=['embeddings', 'kernel', 'W1', 'W2', 'Wk', 'Wq', 'Wv', 'Wo']\n",
        ")"
      ],
      "execution_count": 0,
      "outputs": []
    },
    {
      "cell_type": "markdown",
      "metadata": {
        "id": "d_9i3BMulLBA",
        "colab_type": "text"
      },
      "source": [
        "Then we compile and train the model"
      ]
    },
    {
      "cell_type": "code",
      "metadata": {
        "id": "JPOOdwkElLXd",
        "colab_type": "code",
        "colab": {}
      },
      "source": [
        "model.compile(\n",
        "    optimizer=optimizer,\n",
        "    loss='sparse_categorical_crossentropy', # encoded labels!\n",
        "    metrics=['sparse_categorical_accuracy']\n",
        ")"
      ],
      "execution_count": 0,
      "outputs": []
    },
    {
      "cell_type": "code",
      "metadata": {
        "id": "2iYFdvfZlWgU",
        "colab_type": "code",
        "colab": {}
      },
      "source": [
        "stop_cb = EarlyStopping(monitor = 'val_sparse_categorical_accuracy', patience=4, verbose=1, mode='auto', baseline=None, restore_best_weights=True)\n",
        "#mc_cb = ModelCheckpoint(filepath='models/BERT_multiclass.h5', monitor='val_sparse_categorical_accuracy', verbose=0,save_best_only=True, mode='auto')\n",
        "\n",
        "history = model.fit(\n",
        "    X,\n",
        "    Y,\n",
        "    epochs=EPOCHS,\n",
        "    batch_size=BATCH_SIZE,\n",
        "    validation_data=(x, y), \n",
        "    callbacks=[stop_cb]\n",
        ")"
      ],
      "execution_count": 0,
      "outputs": []
    },
    {
      "cell_type": "code",
      "metadata": {
        "id": "-zPzIxy1liqJ",
        "colab_type": "code",
        "colab": {}
      },
      "source": [
        "# Explore training performance\n",
        "def plot_history(history):\n",
        "    plt.plot(history.history['sparse_categorical_accuracy'],label=\"Training set accuracy\")\n",
        "    plt.plot(history.history['val_sparse_categorical_accuracy'],label=\"Validation set accuracy\")\n",
        "    plt.legend()\n",
        "    plt.show()\n",
        "\n",
        "plot_history(history)"
      ],
      "execution_count": 0,
      "outputs": []
    },
    {
      "cell_type": "code",
      "metadata": {
        "id": "zWNZkTAslry7",
        "colab_type": "code",
        "colab": {}
      },
      "source": [
        "predictions = np.argmax(model.predict(test_inp), axis=1) # np.argmax gives the index which has the highest value e.g. class\n",
        "predicted_labels = label_encoder.inverse_transform(predictions) # inverse transform numerical labels to text\n",
        "\n",
        "# Compare predicted labels to true labels\n",
        "print(\"Classification accuracy: \", round(accuracy_score(test_label, predicted_labels)*100,1), \"percent\")"
      ],
      "execution_count": 0,
      "outputs": []
    },
    {
      "cell_type": "markdown",
      "metadata": {
        "id": "nH1buptbmGz4",
        "colab_type": "text"
      },
      "source": [
        "We reached classification accuracy of  64.8 percent"
      ]
    },
    {
      "cell_type": "markdown",
      "metadata": {
        "id": "J0vURmL7WhcT",
        "colab_type": "text"
      },
      "source": [
        "### 2.1.2: BERT PyTorch"
      ]
    },
    {
      "cell_type": "code",
      "metadata": {
        "id": "9Wd8QFlHWhcW",
        "colab_type": "code",
        "colab": {}
      },
      "source": [
        "device = torch.device(\"cuda\" if torch.cuda.is_available() else \"cpu\")"
      ],
      "execution_count": 0,
      "outputs": []
    },
    {
      "cell_type": "code",
      "metadata": {
        "id": "pfWk5-gjWhcb",
        "colab_type": "code",
        "colab": {}
      },
      "source": [
        "b_sentences_train = [\"[CLS] \" + \" [SEP] \".join(query.split(' . ')) + \" [SEP]\" for query in txt_train]\n",
        "b_tokenizer = transformers.BertTokenizer.from_pretrained(\"bert-base-finnish-cased-v1\")\n",
        "b_tokenized_train = [b_tokenizer.tokenize(sent) for sent in b_sentences_train]\n",
        "\n",
        "b_sentences_dev = [\"[CLS] \" + \" [SEP] \".join(query.split(' . ')) + \" [SEP]\" for query in txt_dev]\n",
        "b_tokenizer = transformers.BertTokenizer.from_pretrained(\"bert-base-finnish-cased-v1\")\n",
        "b_tokenized_dev = [b_tokenizer.tokenize(sent) for sent in b_sentences_dev]\n",
        "\n",
        "b_sentences_test = [\"[CLS] \" + \" [SEP] \".join(query.split(' . ')) + \" [SEP]\" for query in txt_test]\n",
        "b_tokenizer = transformers.BertTokenizer.from_pretrained(\"bert-base-finnish-cased-v1\")\n",
        "b_tokenized_test = [b_tokenizer.tokenize(sent) for sent in b_sentences_test]"
      ],
      "execution_count": 0,
      "outputs": []
    },
    {
      "cell_type": "code",
      "metadata": {
        "id": "Mh7pTwYXWhcf",
        "colab_type": "code",
        "colab": {}
      },
      "source": [
        "b_train_inputs = torch.tensor(pad_sequences(\n",
        "    [b_tokenizer.convert_tokens_to_ids(txt) for txt in b_tokenized_train],\n",
        "    maxlen=BERT_MAX_LEN, dtype=\"long\", truncating=\"post\", padding=\"post\"\n",
        "))\n",
        "b_train_labels = torch.tensor(train_classes)\n",
        "\n",
        "b_dev_inputs = torch.tensor(pad_sequences(\n",
        "    [b_tokenizer.convert_tokens_to_ids(txt) for txt in b_tokenized_dev],\n",
        "    maxlen=BERT_MAX_LEN, dtype=\"long\", truncating=\"post\", padding=\"post\"\n",
        "))\n",
        "b_dev_labels = torch.tensor(dev_classes)\n",
        "\n",
        "b_test_inputs = torch.tensor(pad_sequences(\n",
        "    [b_tokenizer.convert_tokens_to_ids(txt) for txt in b_tokenized_test],\n",
        "    maxlen=BERT_MAX_LEN, dtype=\"long\", truncating=\"post\", padding=\"post\"\n",
        "))\n",
        "b_test_labels = torch.tensor(test_classes)"
      ],
      "execution_count": 0,
      "outputs": []
    },
    {
      "cell_type": "code",
      "metadata": {
        "id": "hQFLhv1JWhci",
        "colab_type": "code",
        "colab": {}
      },
      "source": [
        "train_data = TensorDataset(b_train_inputs, b_train_labels)\n",
        "train_dataloader = DataLoader(train_data, batch_size=4, shuffle=True)\n",
        "\n",
        "dev_data = TensorDataset(b_dev_inputs, b_dev_labels)\n",
        "dev_dataloader = DataLoader(dev_data, batch_size=32)\n",
        "\n",
        "test_data = TensorDataset(b_test_inputs, b_test_labels)\n",
        "test_dataloader = DataLoader(test_data, batch_size=32)"
      ],
      "execution_count": 0,
      "outputs": []
    },
    {
      "cell_type": "code",
      "metadata": {
        "id": "RtdXAE9OWhcm",
        "colab_type": "code",
        "colab": {}
      },
      "source": [
        "model = transformers.BertForSequenceClassification.from_pretrained(\n",
        "    \"bert-base-finnish-cased-v1\",\n",
        "    #config=transformers.BertConfig.from_json_file(str(bert_config_path)),\n",
        "    num_labels=len(set(train_classes))\n",
        ") \n",
        "model.eval()\n",
        "if torch.cuda.is_available():\n",
        "    model = model.cuda()"
      ],
      "execution_count": 0,
      "outputs": []
    },
    {
      "cell_type": "markdown",
      "metadata": {
        "id": "3jH-5g4gWhco",
        "colab_type": "text"
      },
      "source": [
        "### 2.2: Error analysis"
      ]
    },
    {
      "cell_type": "markdown",
      "metadata": {
        "id": "xMGKzcgmnel0",
        "colab_type": "text"
      },
      "source": [
        "# Milestone 3.1: Bert (multi-LABEL)"
      ]
    },
    {
      "cell_type": "markdown",
      "metadata": {
        "id": "jGktxIL7nbuM",
        "colab_type": "text"
      },
      "source": [
        "For milestone 3 we will train two multi-label classifiers, one using non-deep contextual representations, the other using Bert. In this setting, each label is assigned independently.\n",
        "\n",
        "According to the task \"each label is assigned independently\". We interpreted this to mean, that high level and sublevel labels have no connection and did not explore possible (and presumable) connections.\n",
        "However, we skimmed how to improve multilabel classification. According to [scikit-multilane] (http: //scikit. ml/labelrelations.html): \"Multi-label classification tends to have problems with overfitting and underfitting classifiers when the label space is large, especially in problem transformation approaches. A well known approach to remedy this is to split the problem into subproblems with smaller label subsets to improve the generalization quality.\"\n",
        "In our case we could improve the classification by training the separate models for high leve and sublevel registers, since the labels are not independent.\n",
        "\n",
        "Besides of this a priori knowledge relations between classes could be explored by scikit-multilearn tools."
      ]
    },
    {
      "cell_type": "markdown",
      "metadata": {
        "id": "044qdQRmoJsm",
        "colab_type": "text"
      },
      "source": [
        "Data preparation for milestone 3\n",
        "\n",
        "Since we do multi label classification we are dealing with pure highlevel and sublevel registers instead of combinations. This means we have significantly less unique labels (for example 'NA OP' becomes 'NA' and 'OP') and we have to prepare the data differently from the previous milestones.\n",
        "\n",
        "For convenience we manipulate a combined data set, where column 'data' holds the information, to which original dataset each row belongs to We will separate all the registers and one hot encode them."
      ]
    },
    {
      "cell_type": "code",
      "metadata": {
        "id": "QbOy2ffHo85A",
        "colab_type": "code",
        "colab": {}
      },
      "source": [
        "# prepare combined data set for data manipulation\n",
        "\n",
        "df_train['data'] = 'train'\n",
        "df_dev_full['data'] = 'dev'\n",
        "df_test_full['data'] = 'test'\n",
        "\n",
        "frames = [df_train, df_dev_full, df_test_full]\n",
        "df = pd.concat(frames).reset_index(drop=True) # get rid of the old indexes # this data used for milestone 3\n",
        "df = df.rename(columns={\"reg\": \"label\"}) # note here a technical detail: column names have been changed "
      ],
      "execution_count": 0,
      "outputs": []
    },
    {
      "cell_type": "code",
      "metadata": {
        "id": "_dQjCfcqoiUH",
        "colab_type": "code",
        "colab": {}
      },
      "source": [
        "# Custom function to separate all the labels for one hot encoding\n",
        "def from_registers(col):\n",
        "  lst = col.tolist() # column to list\n",
        "  registers = [[]] # list of lists, as long as the original column\n",
        "  idx = 0\n",
        "  for element in lst:    # NA OP\n",
        "      parts = element.split(' ') # NA #OP\n",
        "      for i in parts: \n",
        "        if i == '': # omit empty strings\n",
        "          continue\n",
        "        registers[idx].append(i) # append to list in list\n",
        "      if len(lst)-1 > idx : # if we have more labels to separate\n",
        "        idx = idx+1 \n",
        "        registers.insert(idx, []) # add new empty list to list\n",
        "  return registers"
      ],
      "execution_count": 0,
      "outputs": []
    },
    {
      "cell_type": "code",
      "metadata": {
        "id": "vmzr2ujroy9J",
        "colab_type": "code",
        "outputId": "4929734a-22d7-4830-890f-7968a38d61a1",
        "colab": {
          "base_uri": "https://localhost:8080/",
          "height": 36
        }
      },
      "source": [
        "print(df.shape)\n",
        "all_regs=from_registers(df['label']) # use custom made function to list the registers\n",
        "df['regs'] = all_regs"
      ],
      "execution_count": 0,
      "outputs": [
        {
          "output_type": "stream",
          "text": [
            "(7564, 3)\n"
          ],
          "name": "stdout"
        }
      ]
    },
    {
      "cell_type": "markdown",
      "metadata": {
        "id": "MzRXc0S2omkv",
        "colab_type": "text"
      },
      "source": [
        "Next we will turn those listed registers (column 'regs') to one hot encodings with sklearn MultiLabelBinarizer."
      ]
    },
    {
      "cell_type": "code",
      "metadata": {
        "id": "f6r8tAriqqi_",
        "colab_type": "code",
        "outputId": "c8ce14cc-6873-4a76-d885-7aed9e940bbb",
        "colab": {
          "base_uri": "https://localhost:8080/",
          "height": 452
        }
      },
      "source": [
        "mlb = MultiLabelBinarizer()\n",
        "dummies = pd.DataFrame(mlb.fit_transform(df['regs']), columns=mlb.classes_, index=df.index)\n",
        "# join the dummies to original data frame\n",
        "df = pd.concat([df, dummies], axis=1)\n",
        "df.head()"
      ],
      "execution_count": 0,
      "outputs": [
        {
          "output_type": "execute_result",
          "data": {
            "text/html": [
              "<div>\n",
              "<style scoped>\n",
              "    .dataframe tbody tr th:only-of-type {\n",
              "        vertical-align: middle;\n",
              "    }\n",
              "\n",
              "    .dataframe tbody tr th {\n",
              "        vertical-align: top;\n",
              "    }\n",
              "\n",
              "    .dataframe thead th {\n",
              "        text-align: right;\n",
              "    }\n",
              "</style>\n",
              "<table border=\"1\" class=\"dataframe\">\n",
              "  <thead>\n",
              "    <tr style=\"text-align: right;\">\n",
              "      <th></th>\n",
              "      <th>label</th>\n",
              "      <th>text</th>\n",
              "      <th>data</th>\n",
              "      <th>regs</th>\n",
              "      <th>AV</th>\n",
              "      <th>CB</th>\n",
              "      <th>CM</th>\n",
              "      <th>DF</th>\n",
              "      <th>DP</th>\n",
              "      <th>DS</th>\n",
              "      <th>DT</th>\n",
              "      <th>EB</th>\n",
              "      <th>EN</th>\n",
              "      <th>FA</th>\n",
              "      <th>FC</th>\n",
              "      <th>FS</th>\n",
              "      <th>HA</th>\n",
              "      <th>HI</th>\n",
              "      <th>IB</th>\n",
              "      <th>ID</th>\n",
              "      <th>IG</th>\n",
              "      <th>IN</th>\n",
              "      <th>IP</th>\n",
              "      <th>IT</th>\n",
              "      <th>JD</th>\n",
              "      <th>LT</th>\n",
              "      <th>LY</th>\n",
              "      <th>MT</th>\n",
              "      <th>NA</th>\n",
              "      <th>NE</th>\n",
              "      <th>OA</th>\n",
              "      <th>OB</th>\n",
              "      <th>OP</th>\n",
              "      <th>OS</th>\n",
              "      <th>PB</th>\n",
              "      <th>PO</th>\n",
              "      <th>QA</th>\n",
              "      <th>RA</th>\n",
              "      <th>RE</th>\n",
              "      <th>RP</th>\n",
              "      <th>RS</th>\n",
              "      <th>RV</th>\n",
              "      <th>SL</th>\n",
              "      <th>SP</th>\n",
              "      <th>SR</th>\n",
              "      <th>TB</th>\n",
              "    </tr>\n",
              "  </thead>\n",
              "  <tbody>\n",
              "    <tr>\n",
              "      <th>0</th>\n",
              "      <td>CB NA</td>\n",
              "      <td>lauantai Lauantai oli taas mukavan kylmä päiv...</td>\n",
              "      <td>train</td>\n",
              "      <td>[CB, NA]</td>\n",
              "      <td>0</td>\n",
              "      <td>1</td>\n",
              "      <td>0</td>\n",
              "      <td>0</td>\n",
              "      <td>0</td>\n",
              "      <td>0</td>\n",
              "      <td>0</td>\n",
              "      <td>0</td>\n",
              "      <td>0</td>\n",
              "      <td>0</td>\n",
              "      <td>0</td>\n",
              "      <td>0</td>\n",
              "      <td>0</td>\n",
              "      <td>0</td>\n",
              "      <td>0</td>\n",
              "      <td>0</td>\n",
              "      <td>0</td>\n",
              "      <td>0</td>\n",
              "      <td>0</td>\n",
              "      <td>0</td>\n",
              "      <td>0</td>\n",
              "      <td>0</td>\n",
              "      <td>0</td>\n",
              "      <td>0</td>\n",
              "      <td>1</td>\n",
              "      <td>0</td>\n",
              "      <td>0</td>\n",
              "      <td>0</td>\n",
              "      <td>0</td>\n",
              "      <td>0</td>\n",
              "      <td>0</td>\n",
              "      <td>0</td>\n",
              "      <td>0</td>\n",
              "      <td>0</td>\n",
              "      <td>0</td>\n",
              "      <td>0</td>\n",
              "      <td>0</td>\n",
              "      <td>0</td>\n",
              "      <td>0</td>\n",
              "      <td>0</td>\n",
              "      <td>0</td>\n",
              "      <td>0</td>\n",
              "    </tr>\n",
              "    <tr>\n",
              "      <th>1</th>\n",
              "      <td>DT IN</td>\n",
              "      <td>Aurinkolämmöllä tarkoitetaan järjestelmää , j...</td>\n",
              "      <td>train</td>\n",
              "      <td>[DT, IN]</td>\n",
              "      <td>0</td>\n",
              "      <td>0</td>\n",
              "      <td>0</td>\n",
              "      <td>0</td>\n",
              "      <td>0</td>\n",
              "      <td>0</td>\n",
              "      <td>1</td>\n",
              "      <td>0</td>\n",
              "      <td>0</td>\n",
              "      <td>0</td>\n",
              "      <td>0</td>\n",
              "      <td>0</td>\n",
              "      <td>0</td>\n",
              "      <td>0</td>\n",
              "      <td>0</td>\n",
              "      <td>0</td>\n",
              "      <td>0</td>\n",
              "      <td>1</td>\n",
              "      <td>0</td>\n",
              "      <td>0</td>\n",
              "      <td>0</td>\n",
              "      <td>0</td>\n",
              "      <td>0</td>\n",
              "      <td>0</td>\n",
              "      <td>0</td>\n",
              "      <td>0</td>\n",
              "      <td>0</td>\n",
              "      <td>0</td>\n",
              "      <td>0</td>\n",
              "      <td>0</td>\n",
              "      <td>0</td>\n",
              "      <td>0</td>\n",
              "      <td>0</td>\n",
              "      <td>0</td>\n",
              "      <td>0</td>\n",
              "      <td>0</td>\n",
              "      <td>0</td>\n",
              "      <td>0</td>\n",
              "      <td>0</td>\n",
              "      <td>0</td>\n",
              "      <td>0</td>\n",
              "      <td>0</td>\n",
              "    </tr>\n",
              "    <tr>\n",
              "      <th>2</th>\n",
              "      <td>PB NA</td>\n",
              "      <td>Sivut torstai 14. kesäkuuta 2012 Vaihde vapaa...</td>\n",
              "      <td>train</td>\n",
              "      <td>[PB, NA]</td>\n",
              "      <td>0</td>\n",
              "      <td>0</td>\n",
              "      <td>0</td>\n",
              "      <td>0</td>\n",
              "      <td>0</td>\n",
              "      <td>0</td>\n",
              "      <td>0</td>\n",
              "      <td>0</td>\n",
              "      <td>0</td>\n",
              "      <td>0</td>\n",
              "      <td>0</td>\n",
              "      <td>0</td>\n",
              "      <td>0</td>\n",
              "      <td>0</td>\n",
              "      <td>0</td>\n",
              "      <td>0</td>\n",
              "      <td>0</td>\n",
              "      <td>0</td>\n",
              "      <td>0</td>\n",
              "      <td>0</td>\n",
              "      <td>0</td>\n",
              "      <td>0</td>\n",
              "      <td>0</td>\n",
              "      <td>0</td>\n",
              "      <td>1</td>\n",
              "      <td>0</td>\n",
              "      <td>0</td>\n",
              "      <td>0</td>\n",
              "      <td>0</td>\n",
              "      <td>0</td>\n",
              "      <td>1</td>\n",
              "      <td>0</td>\n",
              "      <td>0</td>\n",
              "      <td>0</td>\n",
              "      <td>0</td>\n",
              "      <td>0</td>\n",
              "      <td>0</td>\n",
              "      <td>0</td>\n",
              "      <td>0</td>\n",
              "      <td>0</td>\n",
              "      <td>0</td>\n",
              "      <td>0</td>\n",
              "    </tr>\n",
              "    <tr>\n",
              "      <th>3</th>\n",
              "      <td>HI</td>\n",
              "      <td>Valitse kieli : Hae rahoitusta EEP-rahoitusta...</td>\n",
              "      <td>train</td>\n",
              "      <td>[HI]</td>\n",
              "      <td>0</td>\n",
              "      <td>0</td>\n",
              "      <td>0</td>\n",
              "      <td>0</td>\n",
              "      <td>0</td>\n",
              "      <td>0</td>\n",
              "      <td>0</td>\n",
              "      <td>0</td>\n",
              "      <td>0</td>\n",
              "      <td>0</td>\n",
              "      <td>0</td>\n",
              "      <td>0</td>\n",
              "      <td>0</td>\n",
              "      <td>1</td>\n",
              "      <td>0</td>\n",
              "      <td>0</td>\n",
              "      <td>0</td>\n",
              "      <td>0</td>\n",
              "      <td>0</td>\n",
              "      <td>0</td>\n",
              "      <td>0</td>\n",
              "      <td>0</td>\n",
              "      <td>0</td>\n",
              "      <td>0</td>\n",
              "      <td>0</td>\n",
              "      <td>0</td>\n",
              "      <td>0</td>\n",
              "      <td>0</td>\n",
              "      <td>0</td>\n",
              "      <td>0</td>\n",
              "      <td>0</td>\n",
              "      <td>0</td>\n",
              "      <td>0</td>\n",
              "      <td>0</td>\n",
              "      <td>0</td>\n",
              "      <td>0</td>\n",
              "      <td>0</td>\n",
              "      <td>0</td>\n",
              "      <td>0</td>\n",
              "      <td>0</td>\n",
              "      <td>0</td>\n",
              "      <td>0</td>\n",
              "    </tr>\n",
              "    <tr>\n",
              "      <th>4</th>\n",
              "      <td>PB NA</td>\n",
              "      <td>Friday , 13 May 2011 Näin aika kuluu Vanhoja ...</td>\n",
              "      <td>train</td>\n",
              "      <td>[PB, NA]</td>\n",
              "      <td>0</td>\n",
              "      <td>0</td>\n",
              "      <td>0</td>\n",
              "      <td>0</td>\n",
              "      <td>0</td>\n",
              "      <td>0</td>\n",
              "      <td>0</td>\n",
              "      <td>0</td>\n",
              "      <td>0</td>\n",
              "      <td>0</td>\n",
              "      <td>0</td>\n",
              "      <td>0</td>\n",
              "      <td>0</td>\n",
              "      <td>0</td>\n",
              "      <td>0</td>\n",
              "      <td>0</td>\n",
              "      <td>0</td>\n",
              "      <td>0</td>\n",
              "      <td>0</td>\n",
              "      <td>0</td>\n",
              "      <td>0</td>\n",
              "      <td>0</td>\n",
              "      <td>0</td>\n",
              "      <td>0</td>\n",
              "      <td>1</td>\n",
              "      <td>0</td>\n",
              "      <td>0</td>\n",
              "      <td>0</td>\n",
              "      <td>0</td>\n",
              "      <td>0</td>\n",
              "      <td>1</td>\n",
              "      <td>0</td>\n",
              "      <td>0</td>\n",
              "      <td>0</td>\n",
              "      <td>0</td>\n",
              "      <td>0</td>\n",
              "      <td>0</td>\n",
              "      <td>0</td>\n",
              "      <td>0</td>\n",
              "      <td>0</td>\n",
              "      <td>0</td>\n",
              "      <td>0</td>\n",
              "    </tr>\n",
              "  </tbody>\n",
              "</table>\n",
              "</div>"
            ],
            "text/plain": [
              "    label                                               text   data  ... SP  SR  TB\n",
              "0  CB NA    lauantai Lauantai oli taas mukavan kylmä päiv...  train  ...  0   0   0\n",
              "1  DT IN    Aurinkolämmöllä tarkoitetaan järjestelmää , j...  train  ...  0   0   0\n",
              "2  PB NA    Sivut torstai 14. kesäkuuta 2012 Vaihde vapaa...  train  ...  0   0   0\n",
              "3    HI     Valitse kieli : Hae rahoitusta EEP-rahoitusta...  train  ...  0   0   0\n",
              "4  PB NA    Friday , 13 May 2011 Näin aika kuluu Vanhoja ...  train  ...  0   0   0\n",
              "\n",
              "[5 rows x 46 columns]"
            ]
          },
          "metadata": {
            "tags": []
          },
          "execution_count": 97
        }
      ]
    },
    {
      "cell_type": "code",
      "metadata": {
        "id": "mAXbLGxAr0CH",
        "colab_type": "code",
        "colab": {}
      },
      "source": [
        "# separate train, test and dev datas from one hot encoded combined dataset\n",
        "\n",
        "train = df[df['data'] == 'train'] \n",
        "test = df[df['data'] == 'test'] \n",
        "dev = df[df['data'] == 'dev']\n",
        "\n",
        "# separate X (features) and Y (labels) for training data and x and y for development data\n",
        "\n",
        "# train\n",
        "X_ = train['text'] # features\n",
        "Y_ = train.drop(['regs', 'label','text', 'data'], axis=1) # labels\n",
        "\n",
        "# dev\n",
        "x_ = dev['text']\n",
        "y_ = dev.drop(['regs', 'label','text', 'data'], axis=1)\n",
        "\n",
        "# test\n",
        "test_feats_ = test['text']\n",
        "true_labels_ = test.drop(['regs', 'label','text', 'data'], axis=1) # true labels (one-hot encoded) for testing the model predictions\n",
        "true_regs_ = test['regs']"
      ],
      "execution_count": 0,
      "outputs": []
    },
    {
      "cell_type": "markdown",
      "metadata": {
        "id": "Zi2eqnOjvmcV",
        "colab_type": "text"
      },
      "source": [
        "## 3.1.1 Classifier 1: Suppor Vector Machine"
      ]
    },
    {
      "cell_type": "markdown",
      "metadata": {
        "id": "PBk7KcZGsSg1",
        "colab_type": "text"
      },
      "source": [
        "Now we prepare the first classifier, Linear support vector machine (SVM).\n",
        "\n",
        "To do multilabel classification we wrap the SVM with [MultiOutputClassifier](https://scikit-learn.org/stable/modules/generated/sklearn.multioutput.MultiOutputClassifier.html#sklearn.multioutput.MultiOutputClassifier).\n",
        "\n",
        "\n",
        "For this milestone we followed [scikit tutorial](https://https://scikit-learn.org/stable/tutorial/text_analytics/working_with_text_data.html) and this [tutorial](https://www.datatechnotes.com/2020/03/multi-output-classification-with-multioutputclassifier.html)."
      ]
    },
    {
      "cell_type": "code",
      "metadata": {
        "id": "qQGRbTc2samc",
        "colab_type": "code",
        "colab": {}
      },
      "source": [
        "# form feature matrixes\n",
        "vectorizer = CountVectorizer(max_features = 20000, ngram_range = (1,1)) \n",
        "\n",
        "train_feature_matrix = vectorizer.fit_transform(X_)\n",
        "dev_feature_matrix = vectorizer.transform(x_)\n",
        "test_feature_matrix = vectorizer.transform(test_feats_)\n",
        "\n",
        "# Scale input data for SVM\n",
        "scaler = StandardScaler(with_mean=False)\n",
        "\n",
        "train_fm = scaler.fit_transform(train_feature_matrix)\n",
        "dev_fm = scaler.transform(dev_feature_matrix)\n",
        "test_fm = scaler.transform(test_feature_matrix)"
      ],
      "execution_count": 0,
      "outputs": []
    },
    {
      "cell_type": "code",
      "metadata": {
        "id": "ip98hqWas3jJ",
        "colab_type": "code",
        "outputId": "9a7f73fc-4a03-47b4-da50-c87f659fbd42",
        "colab": {
          "base_uri": "https://localhost:8080/",
          "height": 1000
        }
      },
      "source": [
        "labels = Y_.columns.values.tolist() # labels/registers\n",
        "\n",
        "estimator = SGDClassifier(random_state=42, alpha=0.0001, max_iter=40, early_stopping=True)\n",
        "\n",
        "SGDC_pipeline = Pipeline([\n",
        "                ('clf', OneVsRestClassifier(estimator))\n",
        "            ])\n",
        "\n",
        "SGDC_cnfs = []\n",
        "\n",
        "for category in labels:\n",
        "    print('... Processing {}'.format(category))\n",
        "    # train the model\n",
        "    SGDC_pipeline.fit(train_feature_matrix, Y_[category])\n",
        "    # compute test accuracy\n",
        "    prediction = SGDC_pipeline.predict(test_fm)\n",
        "    print('Test accuracy is {}'.format(accuracy_score(true_labels_[category], prediction)))\n",
        "    cnf = confusion_matrix(true_labels_[reg], prediction)\n",
        "    SGDC_cnfs.append(cnf)\n",
        "\n",
        "print(\"Confusion matrices saved\")"
      ],
      "execution_count": 0,
      "outputs": [
        {
          "output_type": "stream",
          "text": [
            "... Processing AV\n",
            "Test accuracy is 0.9689358889623265\n",
            "... Processing CB\n",
            "Test accuracy is 0.650363516192994\n",
            "... Processing CM\n",
            "Test accuracy is 0.8182419035029742\n",
            "... Processing DF\n",
            "Test accuracy is 0.9187045604758758\n",
            "... Processing DP\n",
            "Test accuracy is 0.767349636483807\n",
            "... Processing DS\n",
            "Test accuracy is 0.7547918043621943\n",
            "... Processing DT\n",
            "Test accuracy is 0.6483807005948447\n",
            "... Processing EB\n",
            "Test accuracy is 0.82088565763384\n",
            "... Processing EN\n",
            "Test accuracy is 0.8393919365499009\n",
            "... Processing FA\n",
            "Test accuracy is 0.7501652346331791\n",
            "... Processing FC\n",
            "Test accuracy is 0.8830138797091871\n",
            "... Processing FS\n",
            "Test accuracy is 0.9272967614011897\n",
            "... Processing HA\n",
            "Test accuracy is 0.8175809649702578\n",
            "... Processing HI\n",
            "Test accuracy is 0.33972240581625907\n",
            "... Processing IB\n",
            "Test accuracy is 0.7746199603436881\n",
            "... Processing ID\n",
            "Test accuracy is 0.9101123595505618\n",
            "... Processing IG\n",
            "Test accuracy is 0.8083278255122274\n",
            "... Processing IN\n",
            "Test accuracy is 0.8519497686715135\n",
            "... Processing IP\n",
            "Test accuracy is 0.8387309980171844\n",
            "... Processing IT\n",
            "Test accuracy is 0.8717779246530073\n",
            "... Processing JD\n",
            "Test accuracy is 0.9068076668869796\n",
            "... Processing LT\n",
            "Test accuracy is 0.9610046265697291\n",
            "... Processing LY\n",
            "Test accuracy is 0.8816920026437541\n",
            "... Processing MT\n",
            "Test accuracy is 0.6087243886318572\n",
            "... Processing NA\n",
            "Test accuracy is 0.5413086582947786\n",
            "... Processing NE\n",
            "Test accuracy is 0.6701916721744877\n",
            "... Processing OA\n",
            "Test accuracy is 0.6278916060806345\n",
            "... Processing OB\n",
            "Test accuracy is 0.8155981493721084\n",
            "... Processing OP\n",
            "Test accuracy is 0.8327825512227363\n",
            "... Processing OS\n",
            "Test accuracy is 0.6087243886318572\n",
            "... Processing PB\n",
            "Test accuracy is 0.7997356245869134\n",
            "... Processing PO\n",
            "Test accuracy is 0.8810310641110377\n",
            "... Processing QA\n",
            "Test accuracy is 0.7567746199603437\n",
            "... Processing RA\n",
            "Test accuracy is 0.7911434236615995\n",
            "... Processing RE\n",
            "Test accuracy is 0.8387309980171844\n",
            "... Processing RP\n",
            "Test accuracy is 0.8506278916060807\n",
            "... Processing RS\n",
            "Test accuracy is 0.9458030403172505\n",
            "... Processing RV\n",
            "Test accuracy is 0.8122934567085262\n",
            "... Processing SL\n",
            "Test accuracy is 0.9993390614672836\n",
            "... Processing SP\n",
            "Test accuracy is 0.906146728354263\n",
            "... Processing SR\n",
            "Test accuracy is 0.7105089226701917\n",
            "... Processing TB\n",
            "Test accuracy is 0.7561136814276272\n",
            "Confusion matrices saved\n"
          ],
          "name": "stdout"
        },
        {
          "output_type": "stream",
          "text": [
            "/usr/local/lib/python3.6/dist-packages/sklearn/multiclass.py:75: UserWarning: Label not 0 is present in all training examples.\n",
            "  str(classes[c]))\n"
          ],
          "name": "stderr"
        }
      ]
    },
    {
      "cell_type": "markdown",
      "metadata": {
        "id": "C7SQ-j1svaBo",
        "colab_type": "text"
      },
      "source": [
        "Abowe we have the label wise accuracies we will analyze the results at chapter 3.2."
      ]
    },
    {
      "cell_type": "markdown",
      "metadata": {
        "id": "t2kB9AC5vhjl",
        "colab_type": "text"
      },
      "source": [
        "## 3.1.2 Classifier 2: Bert (multi-LABEL)"
      ]
    },
    {
      "cell_type": "markdown",
      "metadata": {
        "id": "LkBpnM_JwRN1",
        "colab_type": "text"
      },
      "source": [
        "First we repeat some data preparation steps taken with BERT in chapter 2 but this time for the one hot encoded data."
      ]
    },
    {
      "cell_type": "code",
      "metadata": {
        "id": "kCsg4EEjv448",
        "colab_type": "code",
        "colab": {}
      },
      "source": [
        "# MAX_EXAMPLES and INPUT_LENGTH limited to avoid going out of memory\n",
        "# Maximum number of examples to read \n",
        "# Here we acknowledge, that stratified sample would be preferable to keep the original label distribution\n",
        "MAX_EXAMPLES = 1500\n",
        "\n",
        "# Maximum length of input sequence in tokens\n",
        "INPUT_LENGTH = 250"
      ],
      "execution_count": 0,
      "outputs": []
    },
    {
      "cell_type": "code",
      "metadata": {
        "id": "c6HRlbDav-zb",
        "colab_type": "code",
        "outputId": "38efb01b-dec6-40d3-bb01-044362c62b18",
        "colab": {
          "base_uri": "https://localhost:8080/",
          "height": 110
        }
      },
      "source": [
        "# To avoid OOM, truncate one hot encoded data\n",
        "\n",
        "train = truncate_data(train, MAX_EXAMPLES)\n",
        "dev = truncate_data(dev, MAX_EXAMPLES)\n",
        "test = truncate_data(test, MAX_EXAMPLES)\n",
        "\n",
        "frames = [train, dev, test]\n",
        "for d in frames:\n",
        "  print(d.shape)"
      ],
      "execution_count": 0,
      "outputs": [
        {
          "output_type": "stream",
          "text": [
            "Note: truncating examples from 5295 to 1500\n",
            "Note: truncating examples from 1513 to 1500\n",
            "(1500, 46)\n",
            "(756, 46)\n",
            "(1500, 46)\n"
          ],
          "name": "stdout"
        }
      ]
    },
    {
      "cell_type": "code",
      "metadata": {
        "id": "KynvvHB7wOyo",
        "colab_type": "code",
        "outputId": "5d8b5b68-e894-46c9-d742-e8b578706bac",
        "colab": {
          "base_uri": "https://localhost:8080/",
          "height": 73
        }
      },
      "source": [
        "# remember, INPUT_LENGTH is a parameter for make_model_inputs -function. \n",
        "# We also use BERT tokenizer here.\n",
        "\n",
        "X = make_model_inputs(train['text'])\n",
        "x = make_model_inputs(dev['text'])\n",
        "test_inp = make_model_inputs(test['text'])\n",
        "\n",
        "print(X[0].shape)\n",
        "print(x[0].shape)\n",
        "print(test_inp[0].shape)"
      ],
      "execution_count": 0,
      "outputs": [
        {
          "output_type": "stream",
          "text": [
            "(1500, 250)\n",
            "(756, 250)\n",
            "(1500, 250)\n"
          ],
          "name": "stdout"
        }
      ]
    },
    {
      "cell_type": "markdown",
      "metadata": {
        "id": "oJPmQ3AfwhwI",
        "colab_type": "text"
      },
      "source": [
        "Extract one hot label encodings from the truncated data"
      ]
    },
    {
      "cell_type": "code",
      "metadata": {
        "id": "qvBQvIc9wnBS",
        "colab_type": "code",
        "colab": {}
      },
      "source": [
        "# train\n",
        "Y = train.drop(['regs', 'label','text', 'data'], axis=1)\n",
        "\n",
        "# dev\n",
        "y = dev.drop(['regs','label','text', 'data'], axis=1)\n",
        "\n",
        "# test\n",
        "true_labels = test.drop(['regs', 'label','text', 'data'], axis=1).reset_index(drop=True) # these are used for evaluating model predictions\n",
        "true_regs = test['regs'].reset_index(drop=True)"
      ],
      "execution_count": 0,
      "outputs": []
    },
    {
      "cell_type": "markdown",
      "metadata": {
        "id": "Ec4obARvwtv2",
        "colab_type": "text"
      },
      "source": [
        "Now the data is prepared for multilabel BERT. We will initialize the hyperparameters, set up the optimizer utilizing them."
      ]
    },
    {
      "cell_type": "code",
      "metadata": {
        "id": "Dl73HMhpwuDH",
        "colab_type": "code",
        "colab": {}
      },
      "source": [
        "# search for optimal EPOCHS, LEARNING_RATE and BATCH_SIZE for serious training!\n",
        "# Number of epochs to train for\n",
        "EPOCHS = 30\n",
        "\n",
        "# Optimizer learning rate\n",
        "LEARNING_RATE = 0.00001\n",
        "\n",
        "# Training batch size\n",
        "BATCH_SIZE = 4"
      ],
      "execution_count": 0,
      "outputs": []
    },
    {
      "cell_type": "code",
      "metadata": {
        "id": "ElZcAUaZw8Cq",
        "colab_type": "code",
        "colab": {}
      },
      "source": [
        "# Set up Adam optimizer for BERT justa as in milestone 2 but with multilabel BERT hyperparameters\n",
        "\n",
        "total_steps, warmup_steps = calc_train_steps(\n",
        "    num_example=len(train['text']),\n",
        "    batch_size=BATCH_SIZE,\n",
        "    epochs=EPOCHS,\n",
        "    warmup_proportion=0.1,\n",
        ")\n",
        "\n",
        "optimizer = AdamWarmup(\n",
        "    total_steps,\n",
        "    warmup_steps,\n",
        "    lr=LEARNING_RATE,\n",
        "    epsilon=1e-6,\n",
        "    weight_decay=0.01,\n",
        "    weight_decay_pattern=['embeddings', 'kernel', 'W1', 'W2', 'Wk', 'Wq', 'Wv', 'Wo']\n",
        ")"
      ],
      "execution_count": 0,
      "outputs": []
    },
    {
      "cell_type": "markdown",
      "metadata": {
        "id": "h1p5FUr_xTvf",
        "colab_type": "text"
      },
      "source": [
        "Again we will wrap the model. We reload the pretrained model with multilabel BERT hyperparameters."
      ]
    },
    {
      "cell_type": "code",
      "metadata": {
        "id": "-ge3ab63xhwf",
        "colab_type": "code",
        "colab": {}
      },
      "source": [
        "pretrained_model = load_trained_model_from_checkpoint(\n",
        "    config_file = bert_config_path,\n",
        "    checkpoint_file = bert_checkpoint_path,\n",
        "    training = False, # ignore MLM [masked language modeling] and NSP [next sentence prediction] parts of the model\n",
        "    trainable = True,\n",
        "    seq_len = INPUT_LENGTH # define the size of input layer\n",
        ")\n",
        "\n",
        "bert_out = pretrained_model.outputs[0][:,0]"
      ],
      "execution_count": 0,
      "outputs": []
    },
    {
      "cell_type": "markdown",
      "metadata": {
        "id": "uDfrTn38xtN1",
        "colab_type": "text"
      },
      "source": [
        "In multi-label classification instead of softmax() we use sigmoid() activation to get the probabilities for each label separatedly. \n",
        "\n",
        "For testing choosing the metrics and loss we followed these tutorials and guides [1](https://towardsdatascience.com/building-a-multi-label-text-classifier-using-bert-and-tensorflow-f188e0ecdc5d), [2](https://www.depends-on-the-definition.com/guide-to-multi-label-classification-with-neural-networks/) and [3](https://https://towardsdatascience.com/multi-label-image-classification-with-neural-network-keras-ddc1ab1afede). "
      ]
    },
    {
      "cell_type": "code",
      "metadata": {
        "id": "9Ag4i8Yzx5F_",
        "colab_type": "code",
        "outputId": "aafe841d-d8ce-4eb9-dbb6-2c7c9ff12ed6",
        "colab": {
          "base_uri": "https://localhost:8080/",
          "height": 36
        }
      },
      "source": [
        "num_labels = len(mlb.classes_) # size of the output layer\n",
        "\n",
        "out = Dense(num_labels, activation='sigmoid')(bert_out) # by calling the output layer we end up calling all the other layers (the model)\n",
        "model = Model(                                          # sigmoid gives us independent probabilities for each class \n",
        "    inputs=pretrained_model.inputs,\n",
        "    outputs=[out]\n",
        ")\n",
        "\n",
        "# Now size of the last layer matches the number of the labels and activation (sigmoid) our multilabel purposes\n",
        "model.output"
      ],
      "execution_count": 0,
      "outputs": [
        {
          "output_type": "execute_result",
          "data": {
            "text/plain": [
              "<tf.Tensor 'dense_2/Identity:0' shape=(None, 42) dtype=float32>"
            ]
          },
          "metadata": {
            "tags": []
          },
          "execution_count": 111
        }
      ]
    },
    {
      "cell_type": "code",
      "metadata": {
        "id": "ChhMKZpCyFGk",
        "colab_type": "code",
        "colab": {}
      },
      "source": [
        "model.compile(\n",
        "    optimizer=optimizer,\n",
        "    loss='binary_crossentropy', # one hot encoded labels!\n",
        "    metrics=['categorical_accuracy']\n",
        ")"
      ],
      "execution_count": 0,
      "outputs": []
    },
    {
      "cell_type": "markdown",
      "metadata": {
        "id": "9eDoR8gMyGFt",
        "colab_type": "text"
      },
      "source": [
        "As a loss function we use the binary_crossentropy instead of categorical_crossentropy loss. This is because we want to penalize each output node independently. Categorical crossentropy was also trialed but it resulted in significantly worse results than binary crossentropy (Classification accuracy:  17.7 percent with lr 0.00001 and batch size 16). Hamming loss might also have been a suitable candidate, but it does not have Keras implementation at the moment."
      ]
    },
    {
      "cell_type": "code",
      "metadata": {
        "id": "nCOoZn4XyQbj",
        "colab_type": "code",
        "outputId": "125dc8d3-c12b-4bf8-e6ac-643589066887",
        "colab": {
          "base_uri": "https://localhost:8080/",
          "height": 422
        }
      },
      "source": [
        "stop_cb = EarlyStopping(monitor = 'val_categorical_accuracy', patience= 8, verbose=1, mode='auto', baseline=None, restore_best_weights=True)\n",
        "mc_cb = ModelCheckpoint(filepath='models/BERT_multilabel.h5', monitor='val_categorical_accuracy', verbose=0,save_best_only=True, mode='auto')\n",
        "\n",
        "history = model.fit(\n",
        "    X,\n",
        "    Y,\n",
        "    epochs=EPOCHS,\n",
        "    batch_size=BATCH_SIZE,\n",
        "    validation_data=(x, y),\n",
        "    callbacks=[stop_cb]\n",
        ")"
      ],
      "execution_count": 0,
      "outputs": [
        {
          "output_type": "stream",
          "text": [
            "Epoch 1/30\n",
            " 10/375 [..............................] - ETA: 1:10:53 - loss: 0.8846 - categorical_accuracy: 0.0000e+00"
          ],
          "name": "stdout"
        },
        {
          "output_type": "error",
          "ename": "KeyboardInterrupt",
          "evalue": "ignored",
          "traceback": [
            "\u001b[0;31m---------------------------------------------------------------------------\u001b[0m",
            "\u001b[0;31mKeyboardInterrupt\u001b[0m                         Traceback (most recent call last)",
            "\u001b[0;32m<ipython-input-114-c6bec5624e7e>\u001b[0m in \u001b[0;36m<module>\u001b[0;34m()\u001b[0m\n\u001b[1;32m      8\u001b[0m     \u001b[0mbatch_size\u001b[0m\u001b[0;34m=\u001b[0m\u001b[0mBATCH_SIZE\u001b[0m\u001b[0;34m,\u001b[0m\u001b[0;34m\u001b[0m\u001b[0;34m\u001b[0m\u001b[0m\n\u001b[1;32m      9\u001b[0m     \u001b[0mvalidation_data\u001b[0m\u001b[0;34m=\u001b[0m\u001b[0;34m(\u001b[0m\u001b[0mx\u001b[0m\u001b[0;34m,\u001b[0m \u001b[0my\u001b[0m\u001b[0;34m)\u001b[0m\u001b[0;34m,\u001b[0m\u001b[0;34m\u001b[0m\u001b[0;34m\u001b[0m\u001b[0m\n\u001b[0;32m---> 10\u001b[0;31m     \u001b[0mcallbacks\u001b[0m\u001b[0;34m=\u001b[0m\u001b[0;34m[\u001b[0m\u001b[0mstop_cb\u001b[0m\u001b[0;34m]\u001b[0m\u001b[0;34m\u001b[0m\u001b[0;34m\u001b[0m\u001b[0m\n\u001b[0m\u001b[1;32m     11\u001b[0m )\n",
            "\u001b[0;32m/usr/local/lib/python3.6/dist-packages/tensorflow/python/keras/engine/training.py\u001b[0m in \u001b[0;36m_method_wrapper\u001b[0;34m(self, *args, **kwargs)\u001b[0m\n\u001b[1;32m     64\u001b[0m   \u001b[0;32mdef\u001b[0m \u001b[0m_method_wrapper\u001b[0m\u001b[0;34m(\u001b[0m\u001b[0mself\u001b[0m\u001b[0;34m,\u001b[0m \u001b[0;34m*\u001b[0m\u001b[0margs\u001b[0m\u001b[0;34m,\u001b[0m \u001b[0;34m**\u001b[0m\u001b[0mkwargs\u001b[0m\u001b[0;34m)\u001b[0m\u001b[0;34m:\u001b[0m\u001b[0;34m\u001b[0m\u001b[0;34m\u001b[0m\u001b[0m\n\u001b[1;32m     65\u001b[0m     \u001b[0;32mif\u001b[0m \u001b[0;32mnot\u001b[0m \u001b[0mself\u001b[0m\u001b[0;34m.\u001b[0m\u001b[0m_in_multi_worker_mode\u001b[0m\u001b[0;34m(\u001b[0m\u001b[0;34m)\u001b[0m\u001b[0;34m:\u001b[0m  \u001b[0;31m# pylint: disable=protected-access\u001b[0m\u001b[0;34m\u001b[0m\u001b[0;34m\u001b[0m\u001b[0m\n\u001b[0;32m---> 66\u001b[0;31m       \u001b[0;32mreturn\u001b[0m \u001b[0mmethod\u001b[0m\u001b[0;34m(\u001b[0m\u001b[0mself\u001b[0m\u001b[0;34m,\u001b[0m \u001b[0;34m*\u001b[0m\u001b[0margs\u001b[0m\u001b[0;34m,\u001b[0m \u001b[0;34m**\u001b[0m\u001b[0mkwargs\u001b[0m\u001b[0;34m)\u001b[0m\u001b[0;34m\u001b[0m\u001b[0;34m\u001b[0m\u001b[0m\n\u001b[0m\u001b[1;32m     67\u001b[0m \u001b[0;34m\u001b[0m\u001b[0m\n\u001b[1;32m     68\u001b[0m     \u001b[0;31m# Running inside `run_distribute_coordinator` already.\u001b[0m\u001b[0;34m\u001b[0m\u001b[0;34m\u001b[0m\u001b[0;34m\u001b[0m\u001b[0m\n",
            "\u001b[0;32m/usr/local/lib/python3.6/dist-packages/tensorflow/python/keras/engine/training.py\u001b[0m in \u001b[0;36mfit\u001b[0;34m(self, x, y, batch_size, epochs, verbose, callbacks, validation_split, validation_data, shuffle, class_weight, sample_weight, initial_epoch, steps_per_epoch, validation_steps, validation_batch_size, validation_freq, max_queue_size, workers, use_multiprocessing)\u001b[0m\n\u001b[1;32m    846\u001b[0m                 batch_size=batch_size):\n\u001b[1;32m    847\u001b[0m               \u001b[0mcallbacks\u001b[0m\u001b[0;34m.\u001b[0m\u001b[0mon_train_batch_begin\u001b[0m\u001b[0;34m(\u001b[0m\u001b[0mstep\u001b[0m\u001b[0;34m)\u001b[0m\u001b[0;34m\u001b[0m\u001b[0;34m\u001b[0m\u001b[0m\n\u001b[0;32m--> 848\u001b[0;31m               \u001b[0mtmp_logs\u001b[0m \u001b[0;34m=\u001b[0m \u001b[0mtrain_function\u001b[0m\u001b[0;34m(\u001b[0m\u001b[0miterator\u001b[0m\u001b[0;34m)\u001b[0m\u001b[0;34m\u001b[0m\u001b[0;34m\u001b[0m\u001b[0m\n\u001b[0m\u001b[1;32m    849\u001b[0m               \u001b[0;31m# Catch OutOfRangeError for Datasets of unknown size.\u001b[0m\u001b[0;34m\u001b[0m\u001b[0;34m\u001b[0m\u001b[0;34m\u001b[0m\u001b[0m\n\u001b[1;32m    850\u001b[0m               \u001b[0;31m# This blocks until the batch has finished executing.\u001b[0m\u001b[0;34m\u001b[0m\u001b[0;34m\u001b[0m\u001b[0;34m\u001b[0m\u001b[0m\n",
            "\u001b[0;32m/usr/local/lib/python3.6/dist-packages/tensorflow/python/eager/def_function.py\u001b[0m in \u001b[0;36m__call__\u001b[0;34m(self, *args, **kwds)\u001b[0m\n\u001b[1;32m    578\u001b[0m         \u001b[0mxla_context\u001b[0m\u001b[0;34m.\u001b[0m\u001b[0mExit\u001b[0m\u001b[0;34m(\u001b[0m\u001b[0;34m)\u001b[0m\u001b[0;34m\u001b[0m\u001b[0;34m\u001b[0m\u001b[0m\n\u001b[1;32m    579\u001b[0m     \u001b[0;32melse\u001b[0m\u001b[0;34m:\u001b[0m\u001b[0;34m\u001b[0m\u001b[0;34m\u001b[0m\u001b[0m\n\u001b[0;32m--> 580\u001b[0;31m       \u001b[0mresult\u001b[0m \u001b[0;34m=\u001b[0m \u001b[0mself\u001b[0m\u001b[0;34m.\u001b[0m\u001b[0m_call\u001b[0m\u001b[0;34m(\u001b[0m\u001b[0;34m*\u001b[0m\u001b[0margs\u001b[0m\u001b[0;34m,\u001b[0m \u001b[0;34m**\u001b[0m\u001b[0mkwds\u001b[0m\u001b[0;34m)\u001b[0m\u001b[0;34m\u001b[0m\u001b[0;34m\u001b[0m\u001b[0m\n\u001b[0m\u001b[1;32m    581\u001b[0m \u001b[0;34m\u001b[0m\u001b[0m\n\u001b[1;32m    582\u001b[0m     \u001b[0;32mif\u001b[0m \u001b[0mtracing_count\u001b[0m \u001b[0;34m==\u001b[0m \u001b[0mself\u001b[0m\u001b[0;34m.\u001b[0m\u001b[0m_get_tracing_count\u001b[0m\u001b[0;34m(\u001b[0m\u001b[0;34m)\u001b[0m\u001b[0;34m:\u001b[0m\u001b[0;34m\u001b[0m\u001b[0;34m\u001b[0m\u001b[0m\n",
            "\u001b[0;32m/usr/local/lib/python3.6/dist-packages/tensorflow/python/eager/def_function.py\u001b[0m in \u001b[0;36m_call\u001b[0;34m(self, *args, **kwds)\u001b[0m\n\u001b[1;32m    609\u001b[0m       \u001b[0;31m# In this case we have created variables on the first call, so we run the\u001b[0m\u001b[0;34m\u001b[0m\u001b[0;34m\u001b[0m\u001b[0;34m\u001b[0m\u001b[0m\n\u001b[1;32m    610\u001b[0m       \u001b[0;31m# defunned version which is guaranteed to never create variables.\u001b[0m\u001b[0;34m\u001b[0m\u001b[0;34m\u001b[0m\u001b[0;34m\u001b[0m\u001b[0m\n\u001b[0;32m--> 611\u001b[0;31m       \u001b[0;32mreturn\u001b[0m \u001b[0mself\u001b[0m\u001b[0;34m.\u001b[0m\u001b[0m_stateless_fn\u001b[0m\u001b[0;34m(\u001b[0m\u001b[0;34m*\u001b[0m\u001b[0margs\u001b[0m\u001b[0;34m,\u001b[0m \u001b[0;34m**\u001b[0m\u001b[0mkwds\u001b[0m\u001b[0;34m)\u001b[0m  \u001b[0;31m# pylint: disable=not-callable\u001b[0m\u001b[0;34m\u001b[0m\u001b[0;34m\u001b[0m\u001b[0m\n\u001b[0m\u001b[1;32m    612\u001b[0m     \u001b[0;32melif\u001b[0m \u001b[0mself\u001b[0m\u001b[0;34m.\u001b[0m\u001b[0m_stateful_fn\u001b[0m \u001b[0;32mis\u001b[0m \u001b[0;32mnot\u001b[0m \u001b[0;32mNone\u001b[0m\u001b[0;34m:\u001b[0m\u001b[0;34m\u001b[0m\u001b[0;34m\u001b[0m\u001b[0m\n\u001b[1;32m    613\u001b[0m       \u001b[0;31m# Release the lock early so that multiple threads can perform the call\u001b[0m\u001b[0;34m\u001b[0m\u001b[0;34m\u001b[0m\u001b[0;34m\u001b[0m\u001b[0m\n",
            "\u001b[0;32m/usr/local/lib/python3.6/dist-packages/tensorflow/python/eager/function.py\u001b[0m in \u001b[0;36m__call__\u001b[0;34m(self, *args, **kwargs)\u001b[0m\n\u001b[1;32m   2418\u001b[0m     \u001b[0;32mwith\u001b[0m \u001b[0mself\u001b[0m\u001b[0;34m.\u001b[0m\u001b[0m_lock\u001b[0m\u001b[0;34m:\u001b[0m\u001b[0;34m\u001b[0m\u001b[0;34m\u001b[0m\u001b[0m\n\u001b[1;32m   2419\u001b[0m       \u001b[0mgraph_function\u001b[0m\u001b[0;34m,\u001b[0m \u001b[0margs\u001b[0m\u001b[0;34m,\u001b[0m \u001b[0mkwargs\u001b[0m \u001b[0;34m=\u001b[0m \u001b[0mself\u001b[0m\u001b[0;34m.\u001b[0m\u001b[0m_maybe_define_function\u001b[0m\u001b[0;34m(\u001b[0m\u001b[0margs\u001b[0m\u001b[0;34m,\u001b[0m \u001b[0mkwargs\u001b[0m\u001b[0;34m)\u001b[0m\u001b[0;34m\u001b[0m\u001b[0;34m\u001b[0m\u001b[0m\n\u001b[0;32m-> 2420\u001b[0;31m     \u001b[0;32mreturn\u001b[0m \u001b[0mgraph_function\u001b[0m\u001b[0;34m.\u001b[0m\u001b[0m_filtered_call\u001b[0m\u001b[0;34m(\u001b[0m\u001b[0margs\u001b[0m\u001b[0;34m,\u001b[0m \u001b[0mkwargs\u001b[0m\u001b[0;34m)\u001b[0m  \u001b[0;31m# pylint: disable=protected-access\u001b[0m\u001b[0;34m\u001b[0m\u001b[0;34m\u001b[0m\u001b[0m\n\u001b[0m\u001b[1;32m   2421\u001b[0m \u001b[0;34m\u001b[0m\u001b[0m\n\u001b[1;32m   2422\u001b[0m   \u001b[0;34m@\u001b[0m\u001b[0mproperty\u001b[0m\u001b[0;34m\u001b[0m\u001b[0;34m\u001b[0m\u001b[0m\n",
            "\u001b[0;32m/usr/local/lib/python3.6/dist-packages/tensorflow/python/eager/function.py\u001b[0m in \u001b[0;36m_filtered_call\u001b[0;34m(self, args, kwargs)\u001b[0m\n\u001b[1;32m   1663\u001b[0m          if isinstance(t, (ops.Tensor,\n\u001b[1;32m   1664\u001b[0m                            resource_variable_ops.BaseResourceVariable))),\n\u001b[0;32m-> 1665\u001b[0;31m         self.captured_inputs)\n\u001b[0m\u001b[1;32m   1666\u001b[0m \u001b[0;34m\u001b[0m\u001b[0m\n\u001b[1;32m   1667\u001b[0m   \u001b[0;32mdef\u001b[0m \u001b[0m_call_flat\u001b[0m\u001b[0;34m(\u001b[0m\u001b[0mself\u001b[0m\u001b[0;34m,\u001b[0m \u001b[0margs\u001b[0m\u001b[0;34m,\u001b[0m \u001b[0mcaptured_inputs\u001b[0m\u001b[0;34m,\u001b[0m \u001b[0mcancellation_manager\u001b[0m\u001b[0;34m=\u001b[0m\u001b[0;32mNone\u001b[0m\u001b[0;34m)\u001b[0m\u001b[0;34m:\u001b[0m\u001b[0;34m\u001b[0m\u001b[0;34m\u001b[0m\u001b[0m\n",
            "\u001b[0;32m/usr/local/lib/python3.6/dist-packages/tensorflow/python/eager/function.py\u001b[0m in \u001b[0;36m_call_flat\u001b[0;34m(self, args, captured_inputs, cancellation_manager)\u001b[0m\n\u001b[1;32m   1744\u001b[0m       \u001b[0;31m# No tape is watching; skip to running the function.\u001b[0m\u001b[0;34m\u001b[0m\u001b[0;34m\u001b[0m\u001b[0;34m\u001b[0m\u001b[0m\n\u001b[1;32m   1745\u001b[0m       return self._build_call_outputs(self._inference_function.call(\n\u001b[0;32m-> 1746\u001b[0;31m           ctx, args, cancellation_manager=cancellation_manager))\n\u001b[0m\u001b[1;32m   1747\u001b[0m     forward_backward = self._select_forward_and_backward_functions(\n\u001b[1;32m   1748\u001b[0m         \u001b[0margs\u001b[0m\u001b[0;34m,\u001b[0m\u001b[0;34m\u001b[0m\u001b[0;34m\u001b[0m\u001b[0m\n",
            "\u001b[0;32m/usr/local/lib/python3.6/dist-packages/tensorflow/python/eager/function.py\u001b[0m in \u001b[0;36mcall\u001b[0;34m(self, ctx, args, cancellation_manager)\u001b[0m\n\u001b[1;32m    596\u001b[0m               \u001b[0minputs\u001b[0m\u001b[0;34m=\u001b[0m\u001b[0margs\u001b[0m\u001b[0;34m,\u001b[0m\u001b[0;34m\u001b[0m\u001b[0;34m\u001b[0m\u001b[0m\n\u001b[1;32m    597\u001b[0m               \u001b[0mattrs\u001b[0m\u001b[0;34m=\u001b[0m\u001b[0mattrs\u001b[0m\u001b[0;34m,\u001b[0m\u001b[0;34m\u001b[0m\u001b[0;34m\u001b[0m\u001b[0m\n\u001b[0;32m--> 598\u001b[0;31m               ctx=ctx)\n\u001b[0m\u001b[1;32m    599\u001b[0m         \u001b[0;32melse\u001b[0m\u001b[0;34m:\u001b[0m\u001b[0;34m\u001b[0m\u001b[0;34m\u001b[0m\u001b[0m\n\u001b[1;32m    600\u001b[0m           outputs = execute.execute_with_cancellation(\n",
            "\u001b[0;32m/usr/local/lib/python3.6/dist-packages/tensorflow/python/eager/execute.py\u001b[0m in \u001b[0;36mquick_execute\u001b[0;34m(op_name, num_outputs, inputs, attrs, ctx, name)\u001b[0m\n\u001b[1;32m     58\u001b[0m     \u001b[0mctx\u001b[0m\u001b[0;34m.\u001b[0m\u001b[0mensure_initialized\u001b[0m\u001b[0;34m(\u001b[0m\u001b[0;34m)\u001b[0m\u001b[0;34m\u001b[0m\u001b[0;34m\u001b[0m\u001b[0m\n\u001b[1;32m     59\u001b[0m     tensors = pywrap_tfe.TFE_Py_Execute(ctx._handle, device_name, op_name,\n\u001b[0;32m---> 60\u001b[0;31m                                         inputs, attrs, num_outputs)\n\u001b[0m\u001b[1;32m     61\u001b[0m   \u001b[0;32mexcept\u001b[0m \u001b[0mcore\u001b[0m\u001b[0;34m.\u001b[0m\u001b[0m_NotOkStatusException\u001b[0m \u001b[0;32mas\u001b[0m \u001b[0me\u001b[0m\u001b[0;34m:\u001b[0m\u001b[0;34m\u001b[0m\u001b[0;34m\u001b[0m\u001b[0m\n\u001b[1;32m     62\u001b[0m     \u001b[0;32mif\u001b[0m \u001b[0mname\u001b[0m \u001b[0;32mis\u001b[0m \u001b[0;32mnot\u001b[0m \u001b[0;32mNone\u001b[0m\u001b[0;34m:\u001b[0m\u001b[0;34m\u001b[0m\u001b[0;34m\u001b[0m\u001b[0m\n",
            "\u001b[0;31mKeyboardInterrupt\u001b[0m: "
          ]
        }
      ]
    },
    {
      "cell_type": "markdown",
      "metadata": {
        "id": "1iO2M2FfydCY",
        "colab_type": "text"
      },
      "source": [
        "Inspect the training process."
      ]
    },
    {
      "cell_type": "code",
      "metadata": {
        "id": "UOfLO3sRycI4",
        "colab_type": "code",
        "colab": {}
      },
      "source": [
        "def plot_history(history):\n",
        "    plt.plot(history.history['categorical_accuracy'],label=\"Training set accuracy\")\n",
        "    plt.plot(history.history['val_categorical_accuracy'],label=\"Validation set accuracy\")\n",
        "    plt.legend()\n",
        "    plt.show()\n",
        "\n",
        "plot_history(history)"
      ],
      "execution_count": 0,
      "outputs": []
    },
    {
      "cell_type": "markdown",
      "metadata": {
        "id": "4d_fKatjylxK",
        "colab_type": "text"
      },
      "source": [
        "Since training accuracy is only 60% it seems the model can't fully utilize training data. Also BATCH_SIZEs 8 and 16 were tried but best results were gained with batch size 4. \n",
        "\n",
        "Accuracy as a metrics is problematic in multilabel classification. And in our case the data is highly biased: Most of the true occurrences fall in a couple of categories and we have many labels with only a few items belonging to them. Thus predicting for an input text NOT to belong to a certain class improves accuracy. We take a closer look at the model performance in chapter 3.2.\n",
        "\n",
        "Activation function could also be optimized. By creating a custom made activation function we could shift and optimize the classification threshold of 50% (default value of sigmoid activation). In the other hand this would lead in favoring some labels over the others, which might not be desireable.\n",
        "\n",
        "Now we will move on and predict: For each input we gain independet probabilities for belonging to each of the labels"
      ]
    },
    {
      "cell_type": "code",
      "metadata": {
        "id": "OZXcWdkHzs1F",
        "colab_type": "code",
        "colab": {}
      },
      "source": [
        "predictions = model.predict(test_inp, batch_size = BATCH_SIZE)\n",
        "# Since we do multiclass, sum of probabilities is over 1.\n",
        "print(predictions) \n",
        "print(sum(predictions[0]))"
      ],
      "execution_count": 0,
      "outputs": []
    },
    {
      "cell_type": "markdown",
      "metadata": {
        "id": "Ee2fDXnZ0GmV",
        "colab_type": "text"
      },
      "source": [
        "We will transform predictions to one hot encodings with sigmoid threshold, 50%. This means we select those labels the model predicts with 50% or higher probability."
      ]
    },
    {
      "cell_type": "code",
      "metadata": {
        "id": "FgUwg-zq0KJe",
        "colab_type": "code",
        "colab": {}
      },
      "source": [
        "preds = (predictions >= 0.50).astype(np.uint8) \n",
        "print(\"Predictions are binary sequences:\\n\", preds[0]) \n",
        "\n",
        "predicted_labels = mlb.inverse_transform(preds) # inverse transform gives the registers\n",
        "print(\"Inverse transform gives the predicted register name(s):\\n\" ,predicted_labels[0])"
      ],
      "execution_count": 0,
      "outputs": []
    },
    {
      "cell_type": "code",
      "metadata": {
        "id": "FJ9-v9Zl03CI",
        "colab_type": "code",
        "colab": {}
      },
      "source": [
        "# Now we will utilize scikit-multilearn library and create confusion matrices for all the labels\n",
        "\n",
        "cnfs = multilabel_confusion_matrix(true_labels, preds)\n",
        "cnfs.shape # object contains cnf matrix for each label"
      ],
      "execution_count": 0,
      "outputs": []
    },
    {
      "cell_type": "markdown",
      "metadata": {
        "id": "NkdiiVDU1Ro6",
        "colab_type": "text"
      },
      "source": [
        "# Milestone 3.2: Model comparison"
      ]
    },
    {
      "cell_type": "markdown",
      "metadata": {
        "id": "sFRnPMI41VYa",
        "colab_type": "text"
      },
      "source": [
        "Now we will compare the results of the two multilabel classifiers. We will analyze the predictions in terms of label-specific differences. For this purpose use the confusion matrices generated for the both predictions.\n",
        "\n",
        "We loop over all the labels and plot binary confusion matrices of the both models side by side. Label specific model evaluation metrics will also be printed.\n",
        "\n",
        "In the confusion matrices we hope to see high numbers on the main diagonal: In such a case the model has predicted well for the instances to belong or not to belong to the relevant class.\n",
        "\n",
        "By taking a closer look at the matrices and the performance metrics we can see, how highly accuracy and true positive rate correlate from label to label. Predicting 0 (not belonging to a class) has been an encouraged strategy for both of our classifiers since accuracy has been the metrics. Since each text truly belongs only to a few classes, the probability of not belonging to most of them is high but for the classifiers this implies bad performance.\n",
        "\n",
        "Our SGDC seems to be eager to falsely predict the labels even in cases where the label does not belong to. In other words, false positive rate is high from label to label. But also recall (proportion of true positive labels found) is higher than for BERT.\n",
        "\n",
        "To further try to improve the multilabel BERT we also trained it having recall as metrics. This anyhow did not improve the model performance.\n",
        "\n",
        "Since BERT is trained with less training data (1500 instances compared to over 5000) we concentrate the model comparison to labels which appeared in BERT training data close to or over 200 times. These were OS, IN, MT, NE and NA, Na being single label appearing more over than 500 times in the BERT training data. In all these labels BERT has rather high precision and recall, while SGDC keeps producing false positives.\n",
        "\n",
        "Thus we can state, that BERT performs better in multilabel classification. The model would highly benefit from larger training data but because of the memory restrictions we could not afford exceeding the set limit of 1500 training samples."
      ]
    },
    {
      "cell_type": "code",
      "metadata": {
        "id": "idPlmYy42PBw",
        "colab_type": "code",
        "colab": {}
      },
      "source": [
        "# for the plot and analysis code from \n",
        "# https://stackoverflow.com/questions/40887753/display-matrix-values-and-colormap\n",
        "# was utilized\n",
        "\n",
        "idx = 0\n",
        "for label in mlb.classes_:\n",
        "\n",
        "  # Set up pic frame: two subplots\n",
        "  plt.subplots_adjust(wspace=0.8, hspace=0.6)\n",
        "  fig, axes = plt.subplots(ncols=2, figsize=(8, 4))\n",
        "  ax1, ax2 = axes\n",
        "  label = mlb.classes_[idx]\n",
        "\n",
        "  # BERT confusion matrix:\n",
        "  matrix = cnfs[idx]\n",
        "\n",
        "  FP = matrix[0,1].astype(float) # False positives\n",
        "  TP = matrix[1,1].astype(float) # True positives\n",
        "  FN = matrix[1,0].astype(float) # False negatives\n",
        "  TN = matrix[0,0].astype(float) # True negatives\n",
        "  \n",
        "  FPR = round(FP/(FP+TN) * 100, 1) # False positive rate\n",
        "  TPR = round(TP/(TP+FN) * 100, 1) # True positive rate\n",
        "  TNR = round(TN/(TN+FP) * 100, 1) # Specificity or true negative rate\n",
        "  PRE = round(TP/(TP+FP) * 100, 1) # Precision or positive predictive value\n",
        "  REC = round(TP/(TP+FN) * 100, 1) # Recall\n",
        "  ACC = round((TP+TN)/(TP+FP+FN+TN) * 100, 1) # Overall accuracy\n",
        "  NPV = round(TN/(TN+FN) * 100, 1) # Negative predictive value\n",
        "  FNR = round(FN/(TP+FN) * 100, 1) # False negative rate\n",
        "  FDR = round(FP/(TP+FP) * 100, 1) # False discovery rate\n",
        "\n",
        "  for i in range(2):\n",
        "    for j in range(2):\n",
        "        c = matrix[j,i]\n",
        "        ax1.text(i, j, str(c), va='center', ha='center')\n",
        "\n",
        "  im1 = ax1.matshow(matrix, cmap=plt.cm.Blues)\n",
        "\n",
        "  ax1.set_title(\"\\n BERT performance for label \\\"{}\\\" \\n True positive rate {}\\n False positive rate {}\\n True negative rate {}\\n False negative rate {}\\n Precision {}\\n Recall {}\\n False discovery rate {}\\n False negative rate {}\\n Accuracy {}\\n \". format(label, TPR, FPR, TNR, FNR, PRE, REC, FDR, FNR, ACC), fontsize=16)\n",
        "  \n",
        "  # Second matrix (SGDC)\n",
        "  matrix = SGDC_cnfs[idx]\n",
        "\n",
        "  FP = matrix[0,1].astype(float) # False positives\n",
        "  TP = matrix[1,1].astype(float) # True positives\n",
        "  FN = matrix[1,0].astype(float) # False negatives\n",
        "  TN = matrix[0,0].astype(float) # True negatives\n",
        "  \n",
        "  FPR = round(FP/(FP+TN) * 100, 1) # False positive rate\n",
        "  TPR = round(TP/(TP+FN) * 100, 1) # True positive rate\n",
        "  TNR = round(TN/(TN+FP) * 100, 1) # Specificity or true negative rate\n",
        "  FNR = round(FN/(TP+FN) * 100, 1) # False negative rate\n",
        "  PRE = round(TP/(TP+FP) * 100, 1) # Precision or positive predictive value\n",
        "  REC = round(TP/(TP+FN) * 100, 1) # Recall: proportion of relevant documents found\n",
        "  ACC = round((TP+TN)/(TP+FP+FN+TN) * 100, 1) # Overall accuracy\n",
        "  NPV = round(TN/(TN+FN) * 100, 1) # Negative predictive value\n",
        "  FDR = round(FP/(TP+FP) * 100, 1) # False discovery rate\n",
        "\n",
        "  im2 = ax2.matshow(matrix, cmap=plt.cm.Blues)\n",
        "\n",
        "  ax2.set_title(\"\\n SGDC performance for label \\\"{}\\\" \\n True positive rate {}\\n False positive rate {}\\n True negative rate {}\\n False negative rate {}\\n Precision {}\\n Recall {}\\n False discovery rate {}\\n False negative rate {}\\n Accuracy {}\\n \". format(label, TPR, FPR, TNR, FNR, PRE, REC, FDR, FNR, ACC), fontsize=16)\n",
        "\n",
        "  for i in range(2):\n",
        "    for j in range(2):\n",
        "      c = matrix[j,i]\n",
        "      ax2.text(i, j, str(c), va='center', ha='center')\n",
        "\n",
        "  for axis in axes:\n",
        "    axis.set_ylabel(\"True\", fontsize = 16)\n",
        "    axis.set_xlabel(\"\\nPredicted\", fontsize = 16)\n",
        "\n",
        "  idx = idx +1"
      ],
      "execution_count": 0,
      "outputs": []
    }
  ]
}