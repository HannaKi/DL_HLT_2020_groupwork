{
  "nbformat": 4,
  "nbformat_minor": 0,
  "metadata": {
    "kernelspec": {
      "name": "python3",
      "display_name": "Python 3"
    },
    "language_info": {
      "codemirror_mode": {
        "name": "ipython",
        "version": 3
      },
      "file_extension": ".py",
      "mimetype": "text/x-python",
      "name": "python",
      "nbconvert_exporter": "python",
      "pygments_lexer": "ipython3",
      "version": "3.7.3"
    },
    "toc": {
      "base_numbering": 1,
      "nav_menu": {},
      "number_sections": true,
      "sideBar": true,
      "skip_h1_title": false,
      "title_cell": "Table of Contents",
      "title_sidebar": "Contents",
      "toc_cell": false,
      "toc_position": {},
      "toc_section_display": true,
      "toc_window_display": false
    },
    "colab": {
      "name": "DL_HLT_2020_groupwork_DT_junk.ipynb",
      "provenance": [],
      "collapsed_sections": [],
      "machine_shape": "hm"
    },
    "accelerator": "TPU"
  },
  "cells": [
    {
      "cell_type": "markdown",
      "metadata": {
        "id": "OaAFbxnqqFcm",
        "colab_type": "text"
      },
      "source": [
        "TKO_8965 Deep Learning in Human Language Technology 2020\n",
        "\n",
        "Text classification project\n",
        "\n",
        "Hanna Kitti hrkitt@utu.fi <br>\n",
        "Jenna Peltomäki jjpelt@utu.fi <br>\n",
        "Timo Jokela tejjok@utu.fi <br>\n",
        "Dang Trinh Ha dangtrinh.ha@utu.fi <br>\n",
        "\n",
        "April 2020"
      ]
    },
    {
      "cell_type": "markdown",
      "metadata": {
        "id": "Fu1RpMQAqFc5",
        "colab_type": "text"
      },
      "source": [
        "---"
      ]
    },
    {
      "cell_type": "markdown",
      "metadata": {
        "id": "7JmYFOxOqFdS",
        "colab_type": "text"
      },
      "source": [
        "**Deadline May 12th 2020**\n",
        "- Return the project by email to sampo.pyysalo@utu.fi."
      ]
    },
    {
      "cell_type": "markdown",
      "metadata": {
        "id": "d-w78jJ-qFd4",
        "colab_type": "text"
      },
      "source": [
        "## Introduction"
      ]
    },
    {
      "cell_type": "markdown",
      "metadata": {
        "id": "fOzQ5P_1qFd_",
        "colab_type": "text"
      },
      "source": [
        "Write an introductory chapter here\n",
        "- What is the purpose of this task?\n",
        "- What kind of data were used? Where did it originate?\n",
        "- Which methods did you use?\n",
        "- ...\n"
      ]
    },
    {
      "cell_type": "markdown",
      "metadata": {
        "id": "RmTfYoFMqFe2",
        "colab_type": "text"
      },
      "source": [
        "## Data preparation"
      ]
    },
    {
      "cell_type": "markdown",
      "metadata": {
        "colab_type": "text",
        "id": "NgMC_gxulO5y"
      },
      "source": [
        "Perform preparations for the data **(author)**\n",
        "- blah"
      ]
    },
    {
      "cell_type": "code",
      "metadata": {
        "id": "Zj5UWFA8_iSo",
        "colab_type": "code",
        "outputId": "561c417d-0b4f-4389-93ec-e8c7269a2fc8",
        "colab": {
          "base_uri": "https://localhost:8080/",
          "height": 587
        }
      },
      "source": [
        "# -=* Download Data *=-\n",
        "\n",
        "!wget http://dl.turkunlp.org/TKO_8965-projects/classification/fincore-dev.tsv\n",
        "!wget http://dl.turkunlp.org/TKO_8965-projects/classification/fincore-test.tsv\n",
        "!wget http://dl.turkunlp.org/TKO_8965-projects/classification/fincore-train.tsv"
      ],
      "execution_count": 1,
      "outputs": [
        {
          "output_type": "stream",
          "text": [
            "--2020-04-13 10:27:14--  http://dl.turkunlp.org/TKO_8965-projects/classification/fincore-dev.tsv\n",
            "Resolving dl.turkunlp.org (dl.turkunlp.org)... 195.148.30.23\n",
            "Connecting to dl.turkunlp.org (dl.turkunlp.org)|195.148.30.23|:80... connected.\n",
            "HTTP request sent, awaiting response... 200 OK\n",
            "Length: 4035578 (3.8M) [application/octet-stream]\n",
            "Saving to: ‘fincore-dev.tsv’\n",
            "\n",
            "fincore-dev.tsv     100%[===================>]   3.85M  3.53MB/s    in 1.1s    \n",
            "\n",
            "2020-04-13 10:27:16 (3.53 MB/s) - ‘fincore-dev.tsv’ saved [4035578/4035578]\n",
            "\n",
            "--2020-04-13 10:27:17--  http://dl.turkunlp.org/TKO_8965-projects/classification/fincore-test.tsv\n",
            "Resolving dl.turkunlp.org (dl.turkunlp.org)... 195.148.30.23\n",
            "Connecting to dl.turkunlp.org (dl.turkunlp.org)|195.148.30.23|:80... connected.\n",
            "HTTP request sent, awaiting response... 200 OK\n",
            "Length: 8512687 (8.1M) [application/octet-stream]\n",
            "Saving to: ‘fincore-test.tsv’\n",
            "\n",
            "fincore-test.tsv    100%[===================>]   8.12M  6.59MB/s    in 1.2s    \n",
            "\n",
            "2020-04-13 10:27:18 (6.59 MB/s) - ‘fincore-test.tsv’ saved [8512687/8512687]\n",
            "\n",
            "--2020-04-13 10:27:19--  http://dl.turkunlp.org/TKO_8965-projects/classification/fincore-train.tsv\n",
            "Resolving dl.turkunlp.org (dl.turkunlp.org)... 195.148.30.23\n",
            "Connecting to dl.turkunlp.org (dl.turkunlp.org)|195.148.30.23|:80... connected.\n",
            "HTTP request sent, awaiting response... 200 OK\n",
            "Length: 29379580 (28M) [application/octet-stream]\n",
            "Saving to: ‘fincore-train.tsv’\n",
            "\n",
            "fincore-train.tsv   100%[===================>]  28.02M  12.7MB/s    in 2.2s    \n",
            "\n",
            "2020-04-13 10:27:21 (12.7 MB/s) - ‘fincore-train.tsv’ saved [29379580/29379580]\n",
            "\n"
          ],
          "name": "stdout"
        }
      ]
    },
    {
      "cell_type": "code",
      "metadata": {
        "id": "Hw4gnLBsdHh7",
        "colab_type": "code",
        "outputId": "4b033b61-c789-4bb8-88b9-5fa856126e19",
        "colab": {
          "base_uri": "https://localhost:8080/",
          "height": 207
        }
      },
      "source": [
        "# -=* Import Data as Dataframe *=-\n",
        "\n",
        "import pandas as pd \n",
        "data_train_df = pd.read_csv(\"fincore-train.tsv\", sep='\\t', header=None, names=['class', 'document'])\n",
        "#data_test_df = pd.read_csv(\"fincore-test.tsv\", sep='\\t', header=None, names=['class', 'document'])\n",
        "\n",
        "print(data_train_df.shape)\n",
        "print(\"Classes:\", data_train_df.iloc[0:4,0])\n",
        "print(\"Documents:\", data_train_df.iloc[0:4,1])\n"
      ],
      "execution_count": 2,
      "outputs": [
        {
          "output_type": "stream",
          "text": [
            "(5295, 2)\n",
            "Classes: 0    PB NA \n",
            "1    MT OS \n",
            "2    MT OS \n",
            "3    DF ID \n",
            "Name: class, dtype: object\n",
            "Documents: 0     Tämähän menee ihan hurjaksi muotihurjasteluks...\n",
            "1     Kirjoittaja Arkisto Tehdä rahaa kaupankäynnin...\n",
            "2     7 Sultans on osoittautunut yhdeksi suosituimm...\n",
            "3     Re : [ 0-lista ] Re : jakelijoita DIUCeille 1...\n",
            "Name: document, dtype: object\n"
          ],
          "name": "stdout"
        }
      ]
    },
    {
      "cell_type": "code",
      "metadata": {
        "id": "-r8CJfj2lRxI",
        "colab_type": "code",
        "outputId": "a2b32534-0f57-400b-c3bc-f23df16f25eb",
        "colab": {
          "base_uri": "https://localhost:8080/",
          "height": 71
        }
      },
      "source": [
        "# -=* Separate Data into Documents and Classes *=-\n",
        "\n",
        "docs = data_train_df[\"document\"].tolist()\n",
        "classes = data_train_df[\"class\"].tolist()\n",
        "\n",
        "print(docs[0])\n",
        "print(classes)"
      ],
      "execution_count": 3,
      "outputs": [
        {
          "output_type": "stream",
          "text": [
            " Tämähän menee ihan hurjaksi muotihurjasteluksi . Jo toistamiseen tälle syksylle postauksen aiheena vaatetus . Mutta tämä liittyy tavallaan matkailuun . Ja katsokaa nyt näitä , mitkä maailman ihanimmat villahousut ! Aagh , haluan pukea heti jalkaan nuo Kaksitvån hurmaavat raitapökät ja ottaa suunnan kohti pohjoista . Pohjoista koska siellä on edelleen ruska ( noh , ainakin sillain punertavan rusehtava maasto ) ja koska Salla onnistui markkinoimaan itseään minulle niin vastaansanomattomasti . Ensi viikko 7.-13.10 . on nimittäin Sallassa ( jälleen ) Ei tapahdu mitään -viikko . Ensi viikolla ( kaan ) Sallassa ei siis tapahdu mitään , joten sinne kannattaa ilman muuta matkustaa . \" Tapahtuman \" tunnelmaan voi virittäytyä Salla-sivuston vinkeillä . Lienee ymmärrettävää että kaikki tämä villahousufiilistely ja matkakuume aiheuttaa meikäläisessä innostunutta huudahtelua ( pari huutomerkkiä tähän väliin ! ! ) , sillä tulkitsen ne merkkinä : saatan ehkä sittenkin selvitä tulevasta talvesta ilman angstia . EHKÄ. Äkkiä teetä ja villasukat . Ommmmm.\n",
            "['PB NA ', 'MT OS ', 'MT OS ', 'DF ID ', 'MT OS RV OP ', 'RS OP ', 'MT OS ', 'HA NA ', 'DS IG ', 'NE NA ', 'LT IN ', 'NE NA ', 'OB OP ', 'MT OS ', 'NA  ', 'MT OS ', 'DS IG ', 'RA IN ', 'PB NA ', 'MT OS ', 'MT OS ', 'LT IN ', 'RS OP ', 'DS IG ', 'MT OS ', 'MT OS RV OP ', 'PB NA ', 'RV OP ', 'MT OS ', 'DS IG ', 'PB NA ', 'DT IN ', 'OA NA ', 'MT OS ', 'AV OP ', 'IP IG ', 'DP IN ', 'MT OS ', 'PB NA ', 'PB NA ', 'PB NA ', 'RV OP ', 'OB OP ', 'CB NA RV OP ', 'EB IG ', 'DF ID ', 'MT OS ', 'NE NA ', 'DT IN ', 'IN  ', 'PB NA ', 'RV OP ', 'DT IN ', 'DT IN ', 'MT OS ', 'IN  ', 'NE NA ', 'NE NA ', 'DS IG ', 'MT OS ', 'TB NA ', 'DF ID ', 'DS IG ', 'CB NA ', 'CB NA ', 'DS IG ', 'MT OS ', 'NE NA ', 'CB NA ', 'DS IG ', 'MT OS ', 'DP IN IP IG ', 'PB NA ', 'MT OS RV OP ', 'PB NA ', 'DS IG ', 'MT OS ', 'PB NA ', 'DS IG ', 'MT OS RV OP ', 'EN IN ', 'DT IN ', 'PB NA ', 'QA ID ', 'SR NA ', 'HI  ', 'RV OP ', 'DS IG ', 'RS OP ', 'MT OS ', 'AV OP ', 'IB IN ', 'MT OS ', 'DS IG ', 'DS IG ', 'NE NA ', 'OA NA ', 'QA ID ', 'SR NA ', 'NE NA ', 'OA NA ', 'ID  ', 'SR NA ', 'MT OS ', 'DS IG ', 'OA NA ', 'NE NA ', 'DT IN ', 'PB NA ', 'CB NA ', 'PB NA ', 'HI  ', 'RP IN ', 'PB NA ', 'OA NA ', 'EN IN ', 'MT OS ', 'DT IN ', 'MT OS ', 'NE NA ', 'IN  ', 'ID  ', 'PB NA ', 'DF ID ', 'MT OS ', 'DF ID ', 'PB NA ', 'PB NA ', 'NE NA ', 'SR NA DS IG ', 'MT OS RV OP ', 'DP IN ', 'RV OP ', 'DF ID ', 'DS IG ', 'HI  ', 'MT OS ', 'LT IN ', 'DS IG ', 'OB OP ', 'OB OP ', 'NE NA ', 'DF ID RE HI ', 'MT OS ', 'PB NA ', 'HI  ', 'DT IN ', 'DS IG ', 'EN IN ', 'DT IN ', 'RV OP ', 'PB NA ', 'RV OP ', 'MT OS ', 'OA NA ', 'LT IN ', 'CB NA ', 'RP IN ', 'MT OS RV OP ', 'NE NA ', 'IB IN ', 'MT OS ', 'DS IG ', 'DS IG ', 'HA NA ', 'OA NA ', 'MT OS ', 'SR NA ', 'MT OS ', 'PB NA ', 'NE NA ', 'DS IG ', 'RS OP ', 'NE NA ', 'MT OS ', 'DF ID ', 'HI  ', 'DT IN ', 'DF ID ', 'IN  ', 'EN IN ', 'MT OS ', 'OB OP ', 'DP IN ', 'NE NA ', 'MT OS ', 'OA NA ', 'RA IN ', 'DT IN ', 'DF ID ', 'NE NA ', 'IP IG ', 'LT IN ', 'CB NA ', 'MT OS ', 'PB NA ', 'MT OS ', 'NE NA ', 'QA ID ', 'DS IG ', 'PB NA ', 'TB NA ', 'PB NA ', 'DS IG ', 'HI  ', 'OA NA HI  ', 'MT OS RV OP ', 'DT IN ', 'MT OS ', 'FC NA ', 'MT OS ', 'RV OP ', 'OB OP ', 'DF ID ', 'DS IG ', 'MT OS ', 'DF ID ', 'MT OS ', 'NE NA ', 'DS IG ', 'NE NA ', 'DF ID ', 'MT OS RV OP ', 'NE NA DS IG ', 'DF ID ', 'RS OP ', 'EB IG ', 'NA  ', 'NE NA DS IG ', 'SR NA ', 'MT OS ', 'MT OS ', 'DF ID ', 'IT SP ', 'MT OS ', 'DT IN ', 'DF ID ', 'PB NA ', 'NE NA ', 'DS IG ', 'DS IG ', 'PB NA ', 'QA ID ', 'OB OP ', 'EB IG ', 'NE NA ', 'RS OP ', 'MT OS ', 'CB NA ', 'NE NA ', 'DF ID ', 'DF ID ', 'CB NA ', 'DT IN ', 'PB NA ', 'IT SP ', 'DF ID ', 'MT OS ', 'RS OP ', 'RS OP ', 'OA NA ', 'MT OS ', 'NE NA ', 'PB NA ', 'MT OS ', 'DS IG ', 'ID  ', 'DS IG ', 'PB NA ', 'FC NA ', 'RS OP ', 'EN IN ', 'DT IN ', 'NA  ', 'DT IN ', 'DS IG ', 'RV OP ', 'NE NA ', 'CB NA ', 'OA NA ', 'MT OS ', 'HI  ', 'RS OP ', 'NE NA ', 'DF ID ', 'AV OP DS IG ', 'DT IN ', 'OA NA ', 'OP  ', 'DS IG ', 'NE NA ', 'DF ID ', 'DF ID ', 'DT IN ', 'DS IG ', 'NE NA ', 'NE NA ', 'RV OP ', 'DT IN ', 'LT IN ', 'DF ID ', 'MT OS ', 'MT OS ', 'DS IG ', 'AV OP ', 'SR NA ', 'PB NA ', 'PB NA ', 'SR NA ', 'MT OS ', 'MT OS ', 'NE NA ', 'NE NA ', 'PB NA ', 'PB NA ', 'RV OP ', 'MT OS ', 'EB IG ', 'DT IN ', 'RS OP ', 'DF ID ', 'NE NA ', 'DS IG ', 'DT IN ', 'NE NA ', 'CB NA ', 'PB NA ', 'DT IN ', 'OB OP ', 'DS IG ', 'PB NA ', 'HI  ', 'DS IG ', 'CB NA ', 'ID  ', 'OB OP ', 'PB NA ', 'NE NA IP IG ', 'NA  ', 'PB NA ', 'DP IN NA  ', 'MT OS ', 'MT OS ', 'EB IG ', 'PB NA ', 'IN  ', 'DP IN ', 'NE NA ', 'TB NA ', 'DS IG ', 'DS IG ', 'MT OS ', 'NE NA HI  ', 'DS IG ', 'RV OP ', 'CB NA ', 'DS IG ', 'MT OS ', 'EN IN ', 'DF ID ', 'DS IG ', 'DT IN ', 'RP IN ', 'DT IN ', 'DP IN ', 'PB NA ', 'HI  ', 'NE NA ', 'NE NA DS IG ', 'RA IN ', 'RS OP ', 'JD IN ', 'NE NA ', 'NE NA ', 'DS IG ', 'NE NA ', 'DS IG ', 'SR NA ', 'NE NA ', 'IN  ', 'NE NA ', 'PB NA ', 'NE NA ', 'CB NA ', 'RS OP ', 'NE NA ', 'DP IN ', 'RS OP ', 'DS IG ', 'DS IG ', 'DP IN ', 'NE NA ', 'CM IN ', 'RV OP ', 'NE NA ', 'CB NA ', 'PB NA ', 'MT OS ', 'DF ID ', 'MT OS ', 'NE NA ', 'OA NA ', 'MT OS ', 'DS IG ', 'RS OP ', 'RA IN ', 'HI  ', 'NE NA DS IG ', 'RV OP ', 'OA NA ', 'PB NA ', 'DF ID ', 'PB NA ', 'IP IG ', 'MT OS ', 'NE NA ', 'PB NA ', 'RS OP ', 'MT OS ', 'MT OS ', 'FS SP ', 'OA NA ', 'CB NA ', 'RS OP ', 'PB NA ', 'DT IN ', 'DT IN ', 'DF ID ', 'DF ID ', 'OA NA ', 'OA NA ', 'PB NA ', 'ID  ', 'PB NA ', 'DT IN ', 'RS OP ', 'PB NA ', 'NE NA DS IG ', 'RA IN ', 'EN IN ', 'EB IG ', 'PB NA ', 'EN IN FC NA ', 'DS IG ', 'IB IN ', 'RP IN ', 'CB NA ', 'NE NA ', 'NE NA ', 'DS IG ', 'PB NA ', 'OA NA ', 'DS IG ', 'CB NA ', 'NE NA ', 'RS OP ', 'HI  ', 'DS IG ', 'MT OS ', 'DS IG ', 'HI  ', 'OB OP ', 'DT IN ', 'CM IN ', 'PB NA ', 'DP IN ', 'IB IN ', 'NE NA ', 'MT OS ', 'IT SP ', 'OP  ', 'OA NA ', 'LT IN ', 'PB NA ', 'IN  ', 'OA NA ', 'OA NA ', 'DF ID ', 'CB NA ', 'MT OS RV OP ', 'PB NA ', 'HI  ', 'ID  ', 'DF ID ', 'NA  ', 'NE NA ', 'PB NA ', 'PB NA ', 'MT OS ', 'CB NA ', 'MT OS ', 'DF ID ', 'DS IG ', 'DS IG ', 'PB NA ', 'NE NA DS IG ', 'NE NA ', 'DS IG ', 'PB NA ', 'DS IG ', 'IT SP ', 'JD IN ', 'NE NA ', 'NE NA ', 'CB NA ', 'MT OS ', 'PB NA ', 'CB NA ', 'OB OP ', 'TB NA ', 'RP IN ', 'SR NA ', 'CM IN ', 'RP IN ', 'IB IN ', 'MT OS ', 'NE NA ', 'NE NA ', 'NE NA ', 'RS OP ', 'HI  ', 'DT IN ', 'DT IN ', 'PB NA ', 'DS IG ', 'IN  ', 'RV OP ', 'RS OP ', 'MT OS ', 'MT OS RV OP ', 'DS IG ', 'MT OS ', 'NE NA ', 'NE NA ', 'MT OS ', 'DS IG ', 'SR NA ', 'TB NA ', 'PB NA ', 'HI  ', 'OB OP ', 'DS IG ', 'MT OS ', 'FC NA ', 'PB NA ', 'DT IN ', 'DS IG HI  ', 'DS IG ', 'NE NA ', 'NE NA ', 'NE NA ', 'NA  ', 'OA NA ', 'MT OS ', 'IN  ', 'MT OS ', 'PB NA ', 'DT IN ', 'NE NA ', 'NE NA ', 'NE NA ', 'MT OS RV OP ', 'NE NA IP IG ', 'HI  ', 'OB OP ', 'HI  ', 'DF ID FC NA ', 'RV OP ', 'PB NA RE HI ', 'NE NA ', 'MT OS RV OP ', 'NE NA ', 'SR NA ', 'RV OP ', 'DS IG ', 'DS IG ', 'OA NA ', 'CB NA ', 'DF ID ', 'MT OS ', 'IN  ', 'HI  ', 'MT OS ', 'NE NA ', 'RV OP ', 'MT OS RV OP ', 'NE NA ', 'MT OS RV OP ', 'DS IG ', 'OA NA ', 'PB NA ', 'RV OP ', 'MT OS ', 'PB NA ', 'MT OS ', 'CB NA ', 'IN  ', 'AV OP ', 'DF ID ', 'NE NA ', 'MT OS ', 'NE NA ', 'NE NA ', 'PB NA ', 'MT OS RV OP ', 'MT OS ', 'NE NA ', 'QA ID ', 'OA NA ', 'NE NA ', 'PB NA ', 'OB OP ', 'SR NA ', 'NE NA ', 'DS IG ', 'PB NA ', 'OA NA ', 'DS IG ', 'RA IN ', 'HI  ', 'HA NA ', 'NE NA ', 'RP IN ', 'DT IN ', 'RS OP ', 'IN  ', 'EN IN ', 'DS IG ', 'NE NA ', 'DF ID ', 'DT IN ', 'RS OP ', 'NE NA ', 'CB NA ', 'IB IN ', 'PB NA ', 'NE NA ', 'MT OS ', 'DS IG ', 'SR NA ', 'PB NA ', 'DS IG ', 'MT OS RV OP ', 'DF ID ', 'PB NA ', 'NE NA ', 'MT OS ', 'SR NA ', 'NE NA ', 'EB IG ', 'HI  ', 'RV OP ', 'RV OP ', 'OA NA ', 'NE NA ', 'DS IG ', 'RS OP ', 'DT IN ', 'DS IG ', 'IB IN ', 'DF ID ', 'PB NA ', 'IB IN ', 'CB NA IP IG ', 'NE NA ', 'MT OS ', 'OB OP ', 'PB NA ', 'DS IG ', 'MT OS ', 'PB NA ', 'MT OS ', 'DT IN ', 'DS IG ', 'EN IN ', 'PB NA ', 'MT OS RV OP ', 'DT IN ', 'RV OP ', 'PB NA ', 'OA NA ', 'MT OS ', 'NE NA ', 'MT OS ', 'DS IG ', 'HI  ', 'NE NA ', 'EB IG ', 'DF ID ', 'PB NA ', 'RS OP ', 'RS OP ', 'NE NA ', 'DT IN ', 'DT IN ', 'MT OS ', 'NE NA ', 'RS OP ', 'NE NA ', 'RV OP ', 'DT IN ', 'RS OP ', 'DS IG ', 'SR NA ', 'HI  ', 'NE NA ', 'DT IN ', 'RS OP ', 'OA NA ', 'CB NA ', 'MT OS ', 'DF ID ', 'SR NA ', 'NE NA ', 'NE NA ', 'DS IG ', 'DS IG ', 'MT OS ', 'PB NA ', 'NE NA ', 'DS IG ', 'RS OP ', 'DF ID ', 'RS OP ', 'RS OP ', 'OA NA ', 'DS IG ', 'MT OS ', 'MT OS ', 'IP IG ', 'MT OS ', 'NE NA ', 'NE NA ', 'DF ID ', 'DS IG ', 'DS IG ', 'MT OS ', 'LT IN ', 'RA IN ', 'MT OS ', 'MT OS ', 'NA  ', 'DT IN ', 'NE NA ', 'EB IG ', 'NE NA ', 'NE NA ', 'OB OP ', 'MT OS ', 'MT OS ', 'DT IN ', 'NE NA ', 'MT OS ', 'NE NA ', 'RE HI ', 'PB NA ', 'MT OS ', 'DF ID ', 'PB NA ', 'DF ID ', 'DS IG ', 'DT IN ', 'SR NA ', 'OA NA ', 'NE NA ', 'DF ID ', 'DS IG ', 'PB NA ', 'DS IG ', 'DS IG ', 'OB OP ', 'DS IG ', 'NE NA ', 'OA NA OP  ', 'CB NA ', 'MT OS ', 'RP IN ', 'NA  ', 'IN  ', 'PB NA ', 'PB NA ', 'MT OS ', 'RS OP ', 'MT OS ', 'MT OS ', 'HI  ', 'DT IN ', 'EN IN ', 'MT OS ', 'NE NA ', 'EN IN ', 'DT IN ', 'DT IN ', 'MT OS ', 'MT OS RV OP ', 'DS IG ', 'CB NA ', 'MT OS ', 'DS IG ', 'NE NA ', 'JD IN ', 'NE NA ', 'MT OS ', 'NE NA ', 'MT OS ', 'MT OS ', 'NE NA ', 'RP IN ', 'MT OS ', 'HI  ', 'PB NA ', 'DT IN ', 'MT OS ', 'EB IG ', 'MT OS ', 'OB OP ', 'NE NA ', 'MT OS ', 'IN  ', 'SR NA ', 'DF ID ', 'MT OS ', 'DF ID ', 'MT OS RV OP ', 'PB NA ', 'FA IN ', 'PB NA ', 'OB OP ', 'RS OP ', 'DP IN ', 'PB NA ', 'PB NA ', 'NE NA ', 'DS IG ', 'NE NA ', 'DF ID ', 'SR NA ', 'DS IG ', 'MT OS DT IN ', 'ID  ', 'MT OS ', 'DS IG ', 'HI  ', 'ID  ', 'DT IN ', 'DF ID ', 'RS OP ', 'CM IN ', 'IN  ', 'RV OP ', 'DT IN ', 'NA  ', 'NE NA ', 'NE NA ', 'SR NA ', 'HI  ', 'DS IG ', 'TB NA ', 'DS IG ', 'NE NA DS IG ', 'PB NA ', 'DF ID ', 'DF ID ', 'DT IN ', 'MT OS ', 'NE NA ', 'HI  LT IN ', 'MT OS ', 'RS OP ', 'NE NA ', 'PB NA ', 'RS OP ', 'EN IN ', 'DF ID ', 'DF ID ', 'DT IN ', 'ID  ', 'DS IG ', 'IN  ', 'RV OP ', 'DT IN ', 'IB IN ', 'ID  ', 'PB NA ', 'ID  ', 'MT OS ', 'DT IN ', 'NE NA ', 'MT OS ', 'IN  ', 'NA  ', 'NA  ', 'DP IN ', 'PB NA ', 'EN IN ', 'MT OS RV OP ', 'MT OS ', 'CB NA ', 'PB NA ', 'PB NA ', 'OA NA ', 'FC NA ', 'DF ID ', 'DP IN ', 'RV OP ', 'MT OS ', 'CB NA SR NA ', 'PB NA ', 'PB NA ', 'NA  ', 'OB OP ', 'QA ID ', 'IN  ', 'NE NA ', 'OA NA ', 'PB NA ', 'PO LY ', 'ID  ', 'PB NA ', 'NA  ', 'HI  ', 'PB NA ', 'MT OS ', 'NE NA ', 'DS IG ', 'MT OS ', 'PB NA ', 'MT OS ', 'NE NA ', 'NE NA ', 'OB OP ', 'OA NA ', 'DP IN ', 'DS IG ', 'RS OP ', 'DF ID HI  ', 'EN IN ', 'PB NA ', 'OB OP ', 'IT SP ', 'MT OS ', 'NE NA ', 'DF ID ', 'DS IG ', 'EB IG ', 'DT IN ', 'PB NA ', 'EN IN ', 'MT OS ', 'NE NA ', 'DS IG ', 'PB NA ', 'SR NA ', 'MT OS ', 'DF ID ', 'MT OS ', 'IT SP ', 'PB NA ', 'DS IG ', 'PB NA ', 'NE NA ', 'PB NA ', 'NE NA DS IG ', 'CB NA ', 'OA NA ', 'DS IG ', 'PB NA ', 'PB NA ', 'OA NA ', 'DT IN ', 'NA  ', 'RA IN ', 'DT IN ', 'DS IG ', 'OA NA ', 'MT OS ', 'DF ID ', 'OA NA ', 'NE NA DS IG ', 'PB NA ', 'IN  ', 'SR NA ', 'MT OS RV OP ', 'FC NA ', 'NA  ', 'OB OP ', 'EN IN ', 'SR NA ', 'DT IN ', 'PB NA ', 'MT OS RV OP ', 'NE NA DS IG ', 'CB NA ', 'PB NA ', 'RV OP ', 'EN IN ', 'NE NA ', 'LT IN ', 'DS IG ', 'HA NA DS IG ', 'HI  ', 'DP IN ', 'OB OP ', 'PB NA ', 'DS IG ', 'OA NA ', 'OP  ', 'DS IG ', 'MT OS ', 'MT OS ', 'MT OS ', 'HI  ', 'OB OP ', 'NE NA ', 'MT OS ', 'DT IN ', 'IN  ', 'MT OS ', 'MT OS ', 'OP  ', 'DT IN ', 'HI  ', 'OB OP ', 'OB OP ', 'RS OP ', 'IN  ', 'NA  ', 'DT IN ', 'DF ID ', 'NE NA ', 'MT OS ', 'MT OS ', 'MT OS RV OP ', 'MT OS ', 'RV OP ', 'DS IG ', 'SR NA ', 'DF ID ', 'MT OS ', 'RP IN ', 'PB NA ', 'DF ID ', 'IN  ', 'PB NA ', 'DT IN ', 'OB OP ', 'PB NA ', 'RA IN ', 'RS OP ', 'OB OP ', 'RS OP ', 'SR NA ', 'DS IG ', 'NE NA HI  ', 'LT IN ', 'NE NA ', 'DT IN ', 'PO LY ', 'RS OP ', 'PB NA ', 'ID  ', 'NE NA ', 'HI  DT IN ', 'DS IG ', 'MT OS RV OP ', 'RA IN ', 'DS IG ', 'OA NA ', 'NE NA ', 'SR NA ', 'DF ID ', 'PB NA ', 'PO LY ', 'OA NA ', 'MT OS ', 'EN IN ', 'PB NA ', 'IP IG ', 'ID  ', 'DS IG ', 'NE NA ', 'MT OS RV OP ', 'PB NA ', 'MT OS ', 'MT OS ', 'NE NA ', 'NE NA ', 'NE NA ', 'DF ID ', 'DS IG ', 'AV OP ', 'MT OS ', 'DP IN ', 'PB NA ', 'CB NA ', 'CB NA ', 'NE NA ', 'PB NA ', 'NE NA ', 'AV OP ', 'IB IN ', 'DT IN ', 'FC NA ', 'EN IN ', 'NE NA ', 'PB NA ', 'MT OS ', 'PB NA ', 'NE NA ', 'NE NA ', 'PB NA ', 'PB NA ', 'HI  ', 'DT IN ', 'MT OS ', 'NE NA ', 'MT OS ', 'OB OP ', 'SR NA ', 'EN IN ', 'RS OP ', 'OB OP ', 'DT IN ', 'EN IN ', 'DT IN ', 'PB NA ', 'HI  ', 'HI  ', 'HI  ', 'RP IN ', 'PB NA ', 'CB NA ', 'NE NA ', 'QA ID ', 'HA NA ', 'DF ID ', 'RA IN ', 'MT OS ', 'HI  ', 'IN  ', 'DF ID ', 'RS OP ', 'NE NA ', 'CM IN ', 'MT OS ', 'RE HI ', 'MT OS ', 'NE NA ', 'NE NA ', 'PB NA ', 'HI  ', 'HI  ', 'TB NA ', 'DT IN ', 'MT OS ', 'RS OP ', 'NA  ', 'HI  ', 'MT OS ', 'FS SP ', 'PB NA ', 'MT OS ', 'MT OS ', 'DS IG ', 'OA NA ', 'IB IN ', 'PB NA ', 'NE NA ', 'OB OP ', 'CB NA ', 'DS IG ', 'IP IG ', 'NE NA ', 'RV OP ', 'NA  ', 'IN  ', 'DF ID ', 'LT IN ', 'RS OP ', 'PB NA ', 'RP IN ', 'DS IG ', 'NE NA ', 'OB OP ', 'RV OP ', 'MT OS ', 'HI  ', 'PB NA ', 'NE NA ', 'MT OS ', 'MT OS RV OP ', 'OP  ', 'DT IN ', 'NE NA ', 'RS OP ', 'NE NA ', 'OB OP ', 'TB NA ', 'RS OP ', 'DS IG ', 'IN  ', 'RV OP ', 'PB NA ', 'PB NA ', 'MT OS ', 'SR NA ', 'RV OP ', 'OB OP ', 'RS OP ', 'RV OP ', 'NE NA ', 'DS IG ', 'OA NA ', 'OB OP ', 'MT OS ', 'MT OS ', 'CB NA ', 'DT IN ', 'RS OP ', 'MT OS ', 'NE NA ', 'CB NA ', 'CB NA ', 'RV OP MT OS ', 'DS IG ', 'DS IG ', 'MT OS ', 'IN  ', 'DS IG ', 'DS IG RV OP ', 'NE NA ', 'NE NA ', 'SR NA ', 'NE NA ', 'DS IG ', 'IN  ', 'EN IN ', 'MT OS ', 'RS OP ', 'PB NA ', 'DT IN ', 'NE NA ', 'MT OS ', 'NE NA ', 'RS OP ', 'RS OP ', 'MT OS ', 'MT OS RV OP ', 'HA NA ', 'LT IN ', 'RS OP ', 'PB NA ', 'DF ID ', 'PB NA ', 'DS IG ', 'DT IN ', 'NE NA ', 'HI  ', 'HI  ', 'PB NA ', 'HI  ', 'DP IN FC NA ', 'RS OP ', 'SR NA ', 'HA NA ', 'DT IN ', 'DF ID ', 'PB NA ', 'IT SP ', 'RP IN ', 'DS IG ', 'MT OS ', 'OA NA ', 'NE NA ', 'PB NA ', 'MT OS ', 'DF ID ', 'CB NA ', 'MT OS ', 'DS IG ', 'IN  ', 'PB NA ', 'NE NA ', 'AV OP ', 'NE NA ', 'ID  ', 'MT OS ', 'FA IN ', 'PB NA ', 'DF ID ', 'PB NA ', 'PO LY ', 'ID  ', 'DS IG ', 'RS OP ', 'MT OS ', 'RP IN ', 'MT OS ', 'DF ID ', 'RV OP ', 'RS OP ', 'IN  ', 'HI  ', 'DS IG ', 'MT OS ', 'MT OS ', 'DT IN ', 'DT IN ', 'MT OS ', 'PB NA ', 'DF ID ', 'IB IN ', 'NE NA DS IG ', 'CM IN ', 'MT OS ', 'DT IN ', 'DF ID ', 'HI  DS IG ', 'DF ID ', 'MT OS ', 'PB NA ', 'NE NA ', 'HI  ', 'DS IG ', 'PB NA ', 'TB NA ', 'SR NA ', 'NE NA ', 'DF ID ', 'MT OS ', 'NE NA ', 'NE NA ', 'DS IG ', 'NE NA ', 'PB NA ', 'MT OS ', 'DS IG ', 'IP IG ', 'RV OP ', 'CB NA ', 'MT OS ', 'DF ID ', 'PB NA ', 'DT IN ', 'DS IG ', 'HI  ', 'DS IG ', 'PB NA ', 'NE NA ', 'RV OP ', 'DS IG ', 'PB NA ', 'CM IN ', 'NE NA ', 'MT OS ', 'MT OS RV OP ', 'DS IG ', 'EN IN ', 'MT OS ', 'PB NA ', 'DS IG ', 'OA NA ', 'CB NA ', 'HI  ', 'NE NA ', 'CB NA ', 'DS IG ', 'CB NA ', 'DS IG ', 'PB NA ', 'RV OP ', 'PB NA ', 'CM IN ', 'HI  ', 'DF ID ', 'RS OP ', 'OA NA ', 'IB IN ', 'QA ID ', 'CB NA ', 'NE NA ', 'MT OS ', 'DS IG ', 'MT OS ', 'DS IG ', 'RS OP ', 'IP IG ', 'DS IG ', 'DS IG ', 'RP IN ', 'DT IN ', 'DS IG ', 'DF ID ', 'DT IN ', 'CB NA ', 'PB NA ', 'DF ID ', 'IB IN ', 'JD IN ', 'PB NA ', 'DF ID ', 'DS IG ', 'DT IN ', 'NE NA ', 'NE NA ', 'FC NA ', 'PB NA ', 'DS IG ', 'DS IG ', 'MT OS ', 'NE NA ', 'IN  ', 'PB NA ', 'PB NA ', 'RS OP ', 'NE NA ', 'FC NA ', 'MT OS ', 'ID  ', 'NE NA ', 'RV OP ', 'OB OP ', 'SR NA ', 'CB NA ', 'DT IN ', 'RS OP ', 'DF ID ', 'NE NA ', 'CB NA ', 'IN  ', 'DS IG ', 'MT OS ', 'CB NA ', 'DF ID ', 'MT OS ', 'RV OP ', 'NE NA ', 'MT OS RV OP ', 'HA NA ', 'NE NA ', 'RS OP ', 'OB OP ', 'SR NA ', 'RS OP ', 'MT OS ', 'OA NA ', 'NE NA ', 'MT OS ', 'PB NA ', 'DS IG ', 'DS IG ', 'MT OS RV OP ', 'DF ID ', 'HA NA ', 'PB NA ', 'PB NA ', 'DF ID ', 'RS OP ', 'DF ID ', 'DF ID ', 'QA ID ', 'OA NA ', 'MT OS ', 'MT OS ', 'IT SP ', 'NE NA ', 'QA ID ', 'DS IG ', 'OB OP ', 'OA NA ', 'NE NA ', 'DS IG ', 'DS IG ', 'DF ID ', 'SR NA ', 'NE NA DS IG ', 'NE NA ', 'DF ID ', 'PB NA ', 'NE NA ', 'MT OS ', 'RA IN ', 'MT OS ', 'FA IN ', 'IB IN ', 'HA NA ', 'DS IG ', 'NE NA ', 'RS OP ', 'NE NA ', 'NE NA ', 'DT IN ', 'OB OP ', 'NE NA ', 'DT IN ', 'NE NA ', 'DS IG ', 'OB OP ', 'PB NA ', 'DF ID ', 'DS IG ', 'DF ID ', 'MT OS ', 'OA NA ', 'NA  ', 'SR NA ', 'CB NA ', 'DS IG ', 'MT OS ', 'DF ID ', 'IB IN ', 'NE NA ', 'DS IG ', 'OA NA ', 'PB NA ', 'NE NA ', 'DS IG OB OP ', 'DF ID ', 'NE NA ', 'PB NA ', 'IP IG ', 'PB NA ', 'DT IN ', 'NE NA DS IG ', 'DT IN ', 'TB NA ', 'DS IG ', 'PB NA ', 'PB NA ', 'NE NA ', 'PB NA ', 'PB NA ', 'DS IG ', 'HI  ', 'OP  ', 'DS IG ', 'DS IG ', 'MT OS ', 'DS IG ', 'NE NA ', 'OA NA ', 'RS OP ', 'DS IG ', 'EN IN ', 'IN  HI  ', 'SR NA ', 'DT IN ', 'NE NA ', 'CB NA ', 'RP IN ', 'EN IN ', 'HI  ', 'PB NA ', 'HI  ', 'DT IN ', 'DF ID ', 'CB NA ', 'DT IN ', 'OA NA HI  ', 'ID  ', 'OB OP ', 'EN IN ', 'OB OP ', 'OA NA ', 'NE NA ', 'TB NA ', 'MT OS ', 'HA NA ', 'DS IG ', 'DS IG ', 'LT IN ', 'DF ID ', 'MT OS ', 'EN IN ', 'RV OP ', 'SR NA ', 'EB IG ', 'NA  ', 'RS OP ', 'EB IG ', 'DS IG ', 'CM IN ', 'IT SP ', 'DS IG ', 'OA NA ', 'EN IN ', 'MT OS RV OP ', 'DT IN ', 'DT IN ', 'NE NA ', 'RV OP ', 'RA IN ', 'ID  ', 'EN IN ', 'DT IN ', 'DP IN ', 'MT OS ', 'DS IG ', 'DS IG ', 'PB NA ', 'DS IG ', 'DS IG ', 'DT IN ', 'DS IG ', 'HI  ', 'PB NA ', 'DS IG ', 'OA NA ', 'EN IN ', 'RP IN ', 'RS OP ', 'MT OS ', 'TB NA ', 'OB OP ', 'RS OP ', 'PB NA ', 'MT OS ', 'CB NA ', 'OB OP ', 'OA NA ', 'MT OS ', 'RS OP ', 'PB NA RV OP ', 'PB NA RE HI ', 'RA IN ', 'EN IN ', 'DT IN ', 'RV OP ', 'PB NA ', 'MT OS ', 'MT OS ', 'RV OP ', 'MT OS RV OP ', 'ID  ', 'IB IN ', 'NE NA ', 'HI  ', 'ID  ', 'DS IG ', 'DS IG ', 'DT IN ', 'IN  ', 'DT IN ', 'DS IG ', 'DT IN ', 'RV OP ', 'DF ID ', 'ID  ', 'MT OS ', 'CM IN ', 'DT IN ', 'EN IN ', 'MT OS ', 'DS IG ', 'IN  ', 'CB NA ', 'MT OS ', 'PB NA ', 'DS IG ', 'RS OP ', 'DT IN ', 'DF ID ', 'NE NA ', 'FC NA ', 'PB NA ', 'MT OS ', 'MT OS RV OP ', 'MT OS ', 'SR NA ', 'DT IN ', 'PB NA ', 'MT OS ', 'PB NA ', 'DT IN ', 'IP IG ', 'MT OS ', 'OA NA ', 'NA  ', 'MT OS ', 'MT OS ', 'PB NA ', 'PB NA ', 'NE NA ', 'MT OS ', 'PB NA ', 'MT OS ', 'NE NA ', 'RS OP ', 'NE NA ', 'MT OS ', 'EB IG ', 'DT IN ', 'DS IG ', 'MT OS ', 'OB OP ', 'PB NA ', 'PB NA ', 'EN IN ', 'DT IN ', 'LT IN ', 'MT OS ', 'EN IN ', 'QA ID ', 'PB NA ', 'NE NA ', 'PB NA ', 'MT OS ', 'CB NA ', 'HI  ', 'TB NA ', 'NE NA ', 'RV OP ', 'RS OP ', 'MT OS ', 'EN IN ', 'MT OS ', 'MT OS ', 'NA  ', 'MT OS ', 'FS SP ', 'MT OS ', 'DS IG ', 'DT IN ', 'PB NA ', 'SR NA ', 'RP IN ', 'DS IG ', 'DF ID ', 'DS IG ', 'OA NA ', 'NE NA ', 'OA NA ', 'IN  ', 'PB NA ', 'QA ID ', 'DT IN ', 'NE NA ', 'DF ID ', 'LT IN ', 'OB OP ', 'NE NA ', 'MT OS ', 'IP IG ', 'RS OP ', 'DT IN ', 'DF ID ', 'MT OS ', 'RS OP ', 'HI  ', 'DF ID ', 'MT OS ', 'CB NA ', 'IP IG ', 'ID  ', 'CB NA ', 'OA NA ', 'HI  ', 'OP  ', 'RV OP ', 'DS IG ', 'DS IG ', 'MT OS ', 'IN  ', 'DT IN ', 'DF ID ', 'NE NA ', 'DS IG ', 'PB NA ', 'MT OS ', 'OB OP ', 'MT OS DS IG ', 'DF ID ', 'PB NA ', 'NE NA ', 'RV OP ', 'NE NA ', 'HA NA ', 'EN IN ', 'DP IN ', 'RV OP ', 'DS IG ', 'MT OS RV OP ', 'PB NA ', 'NE NA ', 'PB NA ', 'MT OS ', 'MT OS ', 'NE NA ', 'DF ID ', 'OB OP ', 'SR NA ', 'NE NA ', 'PB NA ', 'RS OP ', 'DT IN ', 'PO LY ', 'OA NA ', 'PB NA ', 'HI  ', 'OA NA DS IG ', 'NE NA DS IG ', 'IB IN ', 'DT IN ', 'DF ID ', 'DF ID ', 'OA NA ', 'PB NA ', 'DF ID ', 'PB NA ', 'MT OS ', 'NE NA ', 'PB NA ', 'MT OS ', 'NE NA ', 'NE NA ', 'NE NA ', 'SR NA ', 'MT OS ', 'MT OS ', 'RS OP ', 'DS IG ', 'PB NA ', 'PB NA ', 'RV OP ', 'OA NA ', 'DT IN ', 'PB NA ', 'RP IN ', 'PB NA ', 'MT OS RV OP ', 'OB OP ', 'OA NA HI  ', 'NA  ', 'OA NA ', 'DF ID ', 'RV OP ', 'QA ID ', 'RP IN ', 'NE NA ', 'DS IG ', 'MT OS ', 'NE NA ', 'DS IG ', 'MT OS ', 'DF ID ', 'RS OP ', 'MT OS ', 'OB OP ', 'MT OS ', 'NE NA ', 'DS IG IN  ', 'MT OS RV OP ', 'PB NA ', 'PB NA ', 'EN IN ', 'EN IN ', 'DF ID ', 'RA IN ', 'PB NA ', 'MT OS ', 'IB IN ', 'DT IN ', 'OA NA ', 'OA NA RV OP ', 'RS OP ', 'DS IG ', 'NA  ', 'DS IG ', 'MT OS ', 'RA IN ', 'MT OS ', 'DF ID ', 'HI  ', 'TB NA ', 'MT OS ', 'MT OS ', 'OA NA ', 'MT OS RV OP ', 'RS OP ', 'CB NA ', 'MT OS ', 'DS IG ', 'IN  ', 'DS IG ', 'NE NA ', 'EN IN ', 'CB NA ', 'RV OP ', 'PB NA ', 'MT OS ', 'DF ID ', 'MT OS ', 'DS IG ', 'DT IN ', 'NE NA ', 'OA NA ', 'MT OS RV OP ', 'CM IN ', 'MT OS ', 'PB NA ', 'OB OP RE HI ', 'MT OS ', 'RP IN ', 'MT OS ', 'IN  ', 'IB IN ', 'PB NA ', 'DS IG ', 'LT IN ', 'EN IN ', 'DP IN ', 'CB NA ', 'DF ID ', 'OB OP ', 'DS IG ', 'DS IG ', 'RE HI ', 'DF ID ', 'MT OS ', 'PB NA ', 'PB NA ', 'LT IN ', 'MT OS ', 'NE NA ', 'IB IN ', 'EN IN ', 'MT OS ', 'EN IN ', 'CM IN ', 'DS IG ', 'NE NA ', 'NE NA ', 'IN  ', 'HI  ', 'FA IN ', 'IN  ', 'SR NA ', 'NE NA ', 'MT OS ', 'PB NA ', 'LT IN ', 'OB OP ', 'PB NA ', 'QA ID ', 'NE NA DS IG ', 'OP  ', 'NE NA IP IG ', 'PB NA ', 'RS OP ', 'DS IG ', 'NE NA ', 'MT OS ', 'RV OP ', 'OP  ', 'OA NA ', 'PB NA ', 'OB OP ', 'MT OS ', 'CB NA ', 'EN IN ', 'MT OS ', 'MT OS ', 'OA NA ', 'DS IG ', 'NE NA ', 'PB NA ', 'EN IN ', 'DT IN ', 'OB OP ', 'CM IN ', 'PB NA ', 'MT OS ', 'DT IN FC NA ', 'OB OP ', 'DF ID ', 'JD IN ', 'DT IN ', 'DF ID ', 'DS IG ', 'DT IN ', 'SR NA ', 'DT IN ', 'OA NA ', 'RV OP ', 'DT IN ', 'DT IN ', 'PB NA ', 'PB NA ', 'NE NA ', 'CB NA ', 'RS OP ', 'PB NA ', 'CB NA HI  ', 'IN  ', 'MT OS ', 'MT OS ', 'NE NA ', 'NA  ', 'NE NA ', 'DS IG ', 'MT OS RV OP ', 'HI  ', 'EN IN ', 'SR NA ', 'MT OS ', 'NE NA ', 'DS IG ', 'IN  ', 'PB NA ', 'PB NA ', 'NE NA ', 'DS IG ', 'OA NA ', 'OA NA ', 'NE NA ', 'OA NA ', 'DS IG ', 'EN IN ', 'NE NA ', 'PB NA ', 'NE NA ', 'NE NA ', 'MT OS ', 'PB NA ', 'FC NA ID  ', 'MT OS ', 'PB NA ', 'MT OS ', 'NE NA ', 'IN  ', 'MT OS ', 'QA ID ', 'DF ID ', 'DT IN ', 'SR NA ', 'CB NA ', 'NE NA ', 'CB NA ', 'DF ID FC NA ', 'LT IN ', 'RS OP ', 'NE NA ', 'PB NA ', 'RS OP ', 'NE NA DS IG ', 'TB NA ', 'SR NA ', 'DF ID ', 'ID  ', 'EN IN ', 'OB OP ', 'RS OP ', 'SR NA ', 'CB NA ', 'CM IN ', 'DS IG ', 'DF ID ', 'NA  ', 'OB OP ', 'DS IG ', 'NE NA ', 'OB OP ', 'DS IG ', 'NE NA ', 'CB NA ', 'DS IG ', 'OA NA ', 'ID  ', 'LT IN ', 'DS IG ', 'NE NA ', 'MT OS ', 'DT IN ', 'RS OP ', 'OA NA ', 'FS SP ', 'DS IG ', 'PB NA ', 'PB NA ', 'OA NA ', 'MT OS ', 'LT IN ', 'RP IN ', 'DT IN ', 'CB NA ', 'NE NA DS IG ', 'PB NA ', 'DF ID ', 'RV OP ', 'DT IN ', 'NE NA ', 'PB NA ', 'HA NA ', 'MT OS ', 'OA NA ', 'DF ID ', 'DF ID ', 'DT IN ', 'PB NA ', 'RS OP ', 'MT OS RV OP ', 'MT OS ', 'ID  ', 'NE NA ', 'OA NA ', 'DP IN ', 'HA NA ', 'RP IN ', 'IN  ', 'DS IG ', 'SR NA ', 'EN IN ', 'NE NA ', 'PB NA ', 'HA NA ', 'DP IN ', 'PB NA ', 'PB NA ', 'DS IG ', 'DT IN ', 'DF ID ', 'DT IN ', 'MT OS ', 'NE NA ', 'NE NA ', 'DF ID ', 'HI  ', 'OA NA ', 'MT OS ', 'MT OS ', 'SR NA ', 'RE HI ', 'NE NA ', 'MT OS ', 'MT OS ', 'CM IN ', 'NE NA ', 'RV OP ', 'DF ID ', 'CB NA DS IG ', 'EN IN ', 'NA  ', 'PB NA ', 'RS OP ', 'PB NA ', 'HI  ', 'RS OP ', 'PB NA ', 'DS IG ', 'NE NA ', 'EN IN ', 'NE NA ', 'CB NA ', 'ID  ', 'OA NA DP IN ', 'NE NA DS IG ', 'HI  ', 'MT OS ', 'DP IN ', 'PB NA ', 'DF ID ', 'MT OS ', 'DP IN ', 'RA IN ', 'MT OS DS IG ', 'SR NA ', 'MT OS ', 'OB OP ', 'SR NA ', 'OA NA ', 'MT OS ', 'ID  ', 'OB OP ', 'DS IG ', 'DF ID ', 'RS OP ', 'HA NA ', 'DS IG ', 'OA NA ', 'HA NA ', 'DS IG ', 'NE NA ', 'MT OS RV OP ', 'NE NA ', 'TB NA ', 'DF ID ', 'DS IG ', 'DT IN ', 'DS IG ', 'MT OS ', 'RV OP MT OS ', 'DT IN ', 'DS IG ', 'MT OS ', 'DT IN ', 'NE NA ', 'PB NA ', 'RV OP ', 'MT OS ', 'HI  ', 'MT OS RV OP ', 'DS IG ', 'NE NA ', 'ID  ', 'NE NA ', 'HI  ', 'DS IG ', 'CB NA ', 'OA NA ', 'MT OS ', 'OP  ', 'NE NA ', 'DT IN ', 'PB NA ', 'RS OP ', 'NA  ', 'TB NA ', 'DS IG ', 'NE NA ', 'PB NA ', 'PB NA ', 'NE NA DS IG ', 'IP IG ', 'FC NA ', 'OA NA ', 'NE NA ', 'NE NA ', 'DS IG ', 'MT OS ', 'NE NA ', 'NE NA ', 'NE NA ', 'DS IG ', 'RV OP ', 'MT OS ', 'EB IG ', 'DS IG ', 'RS OP ', 'DT IN ', 'PB NA ', 'RV OP ', 'MT OS ', 'SR NA ', 'CB NA ', 'RS OP ', 'NE NA ', 'DS IG ', 'RS OP ', 'HA NA DP IN ', 'IB IN ', 'PB NA ', 'NE NA ', 'HI  ', 'IN  ', 'DF ID FC NA ', 'QA ID ', 'SR NA ', 'NE NA ', 'FC NA ', 'DS IG ', 'DS IG ', 'DF ID ', 'PB NA ', 'OB OP ', 'MT OS ', 'HI  ', 'SR NA ', 'PB NA ', 'MT OS ', 'DP IN ', 'MT OS ', 'NA  ', 'IN  ', 'OA NA DS IG ', 'NE NA ', 'NE NA ', 'RS OP ', 'NE NA ', 'DS IG ', 'OA NA ', 'PB NA ', 'NE NA ', 'SR NA ', 'IN  ', 'NE NA ', 'OB OP ', 'HI  ', 'DS IG ', 'DS IG ', 'DT IN ', 'ID  ', 'CB NA ', 'OB OP ', 'NE NA ', 'PB NA ', 'SR NA ', 'DP IN ', 'NE NA ', 'HI  ', 'MT OS ', 'DF ID ', 'NE NA ', 'NE NA ', 'NE NA ', 'PB NA ', 'MT OS ', 'CB NA ', 'OA NA ', 'MT OS ', 'PB NA ', 'MT OS RV OP ', 'RV OP ', 'PB NA ', 'NE NA ', 'DF ID ', 'DF ID ', 'CB NA ', 'DF ID ', 'RV OP ', 'NE NA ', 'DS IG ', 'MT OS ', 'OA NA ', 'NE NA ', 'NE NA DS IG ', 'IN  ', 'PB NA ', 'MT OS ', 'OB OP ', 'OB OP ', 'DS IG ', 'NE NA ', 'DF ID ', 'RV OP ', 'MT OS ', 'DF ID ', 'IT SP ', 'PB NA ', 'PB NA ', 'DF ID ', 'NE NA ', 'HI  ', 'MT OS DS IG ', 'DT IN ', 'MT OS ', 'PO LY RV OP ', 'NA  ', 'MT OS ', 'NE NA ', 'HI  ', 'MT OS ', 'RS OP ', 'MT OS ', 'RA IN ', 'IB IN ', 'NE NA ', 'SR NA ', 'MT OS ', 'DS IG ', 'HI  ', 'MT OS ', 'OB OP ', 'PB NA ', 'MT OS ', 'MT OS RV OP ', 'RS OP ', 'EB IG ', 'EN IN ', 'HI  ', 'HI  ', 'SR NA ', 'SR NA ', 'OB OP ', 'NE NA ', 'NE NA DS IG ', 'AV OP ', 'NE NA ', 'FA IN ', 'NE NA ', 'NA  ', 'RV OP ', 'RS OP ', 'DT IN ', 'DF ID ', 'PB NA ', 'NE NA ', 'MT OS ', 'PB NA ', 'MT OS ', 'OB OP ', 'DT IN ', 'MT OS ', 'OB OP ', 'DS IG ', 'DS IG ', 'DT IN ', 'NE NA ', 'DF ID ', 'NE NA ', 'MT OS RV OP ', 'DS IG ', 'FS SP ', 'PB NA ', 'HI  ', 'HI  ', 'DS IG ', 'IN  ', 'MT OS ', 'NE NA ', 'MT OS ', 'MT OS ', 'DP IN ', 'MT OS ', 'RP IN ', 'DS IG ', 'SR NA ', 'DS IG ', 'DT IN ', 'DP IN ', 'NE NA ', 'PB NA ', 'DS IG ', 'ID  ', 'NA  ', 'CB NA ', 'OA NA ', 'DF ID ', 'OA NA DS IG ', 'CB NA ', 'DT IN ', 'RS OP ', 'HI  ', 'EN IN ', 'OB OP ', 'RV OP ', 'NE NA ', 'DS IG ', 'OA NA ', 'RP IN ', 'ID  ', 'PB NA ', 'MT OS ', 'NE NA ', 'DF ID ', 'NE NA ', 'CB NA ', 'NE NA ', 'PB NA ', 'OA NA DS IG ', 'HI  ', 'DT IN ', 'NA  ', 'EN IN ', 'IB IN ', 'DF ID ', 'QA ID ', 'MT OS ', 'NE NA ', 'PB NA ', 'DS IG ', 'OB OP ', 'NE NA ', 'MT OS ', 'EN IN ', 'DP IN ', 'PB NA ', 'NE NA ', 'MT OS ', 'DT IN ', 'ID  ', 'EN IN ', 'OA NA ', 'PB NA ', 'EN IN ', 'RS OP ', 'DS IG ', 'DS IG ', 'DF ID ', 'DS IG ', 'RS OP ', 'MT OS ', 'OB OP ', 'RS OP ', 'DP IN ', 'NA  ', 'RS OP ', 'HI  ', 'DS IG ', 'NE NA ', 'NE NA DS IG ', 'IN  ', 'RV OP ', 'MT OS ', 'DS IG ', 'IT SP ', 'OA NA ', 'HI  ', 'DS IG ', 'DS IG ', 'DF ID ', 'PB NA ', 'RS OP ', 'DT IN ', 'MT OS ', 'MT OS RV OP ', 'DS IG ', 'NE NA ', 'MT OS RV OP ', 'DF ID ', 'NE NA ', 'NE NA ', 'NE NA ', 'CB NA ', 'MT OS ', 'RV OP ', 'ID  ', 'SR NA ', 'CB NA ', 'PB NA ', 'ID  ', 'MT OS ', 'HI  ', 'DP IN ', 'EN IN ', 'RV OP ', 'SR NA ', 'OB OP ', 'SR NA ', 'MT OS RV OP ', 'PB NA ', 'RP IN ', 'NE NA DS IG ', 'MT OS ', 'NE NA ', 'TB NA ', 'DS IG ', 'DP IN ', 'NE NA ', 'HI  ', 'DS IG ', 'DF ID ', 'HI  DS IG ', 'DS IG ', 'CM IN ', 'PB NA ', 'MT OS RV OP ', 'HI  ', 'NE NA ', 'EN IN ', 'RS OP ', 'RS OP ', 'MT OS ', 'MT OS ', 'NE NA ', 'PB NA ', 'PB NA ', 'MT OS ', 'NE NA ', 'MT OS ', 'DT IN ', 'CB NA ', 'OB OP ', 'EN IN ', 'DT IN ', 'PB NA ', 'CB NA ', 'MT OS RV OP ', 'HI  ', 'DS IG ', 'NE NA ', 'PB NA ', 'MT OS ', 'DP IN CB NA ', 'EN IN ', 'MT OS RV OP ', 'NE NA ', 'SR NA ', 'PB NA ', 'PB NA ', 'DT IN ', 'NE NA ', 'RS OP ', 'DF ID ', 'HI  ', 'DS IG ', 'MT OS RV OP ', 'PB NA ', 'MT OS ', 'MT OS ', 'PB NA ', 'MT OS ', 'DT IN ', 'NE NA ', 'NE NA DS IG ', 'CM IN ', 'OB OP ', 'MT OS ', 'OA NA ', 'NE NA ', 'RV OP ', 'PB NA ', 'RS OP ', 'PB NA ', 'NE NA DS IG ', 'MT OS ', 'OB OP ', 'OB OP ', 'DS IG ', 'NE NA DS IG ', 'HI  ', 'CB NA ', 'NE NA ', 'IN  ', 'PB NA ', 'NE NA ', 'MT OS ', 'MT OS RV OP ', 'HI  ', 'NA  ', 'MT OS ', 'NE NA ', 'DT IN ', 'DT IN ', 'CB NA ', 'RS OP ', 'NA  ', 'PB NA ', 'DS IG ', 'MT OS ', 'SR NA ', 'OA NA ', 'SR NA ', 'DT IN ', 'FA IN ', 'MT OS ', 'PB NA ', 'CM IN ', 'NE NA ', 'DT IN ', 'OA NA ', 'RS OP ', 'DT IN ', 'DT IN ', 'DF ID ', 'NE NA ', 'DF ID ', 'RS OP ', 'OA NA ', 'DS IG ', 'PB NA ', 'MT OS ', 'MT OS RV OP ', 'MT OS ', 'HI  ', 'OB OP ', 'DF ID ', 'DT IN ', 'DT IN ', 'RA IN ', 'PB NA ', 'NE NA ', 'MT OS ', 'OB OP ', 'MT OS ', 'OA NA ', 'RS OP ', 'MT OS ', 'DF ID ', 'RP IN ', 'OA NA ', 'NE NA ', 'DS IG ', 'CB NA ', 'PB NA ', 'DP IN ', 'MT OS ', 'MT OS ', 'DS IG ', 'SR NA ', 'PB NA ', 'NE NA ', 'MT OS ', 'MT OS ', 'PB NA ', 'RS OP ', 'RS OP ', 'RS OP ', 'DF ID FC NA ', 'DT IN ', 'DS IG ', 'MT OS RV OP ', 'OA NA ', 'DT IN ', 'DP IN ', 'HI  ', 'MT OS ', 'RV OP ', 'EB IG ', 'DF ID ', 'OB OP ', 'DS IG ', 'DF ID ', 'PB NA ', 'PB NA ', 'DS IG ', 'CB NA ', 'NE NA ', 'DS IG ', 'DF ID ', 'NE NA ', 'RV OP ', 'DT IN AV OP ', 'NE NA ', 'MT OS ', 'DS IG ', 'OA NA ', 'CB NA ', 'HI  ', 'SR NA ', 'DT IN ', 'DT IN ', 'EN IN FC NA ', 'DS IG ', 'DS IG ', 'RV OP ', 'EN IN ', 'NE NA DS IG ', 'MT OS ', 'RS OP ', 'HI  ', 'NE NA ', 'NE NA ', 'IN  ', 'MT OS ', 'JD IN ', 'DT IN ', 'DS IG ', 'DT IN ', 'DF ID ', 'DF ID ', 'NE NA ', 'EN IN ', 'SR NA ', 'DF ID ', 'EN IN ', 'IB IN ', 'QA ID ', 'MT OS ', 'SR NA ', 'DF ID ', 'FC NA ', 'DS IG ', 'PB NA ', 'IN  ', 'ID  ', 'MT OS RV OP ', 'NE NA ', 'MT OS ', 'LT IN ', 'HI  ', 'PB NA ', 'RS OP ', 'DS IG ', 'MT OS ', 'DS IG ', 'MT OS ', 'IN  ', 'MT OS ', 'PB NA ', 'NE NA ', 'DT IN ', 'DF ID ', 'OA NA ', 'RS OP ', 'SR NA ', 'PB NA ', 'PB NA ', 'OB OP ', 'PB NA ', 'IN  ', 'MT OS ', 'DP IN ', 'DS IG ', 'PB NA ', 'PB NA ', 'NE NA ', 'MT OS RV OP ', 'ID  ', 'IN  ', 'RS OP ', 'MT OS ', 'OA NA ', 'MT OS ', 'DP IN ', 'NE NA ', 'ID  ', 'MT OS ', 'PB NA ', 'MT OS ', 'HI  ', 'DS IG ', 'ID  ', 'NE NA ', 'DT IN ', 'IN  ', 'NE NA DS IG ', 'DT IN ', 'PB NA ', 'PB NA RE HI ', 'NE NA ', 'CB NA ', 'TB NA ', 'SR NA ', 'OB OP ', 'DS IG ', 'EN IN ', 'DF ID FC NA ', 'OB OP ', 'DT IN ', 'DS IG ', 'RV OP ', 'PB NA ', 'MT OS ', 'PB NA ', 'PB NA ', 'MT OS ', 'DT IN ', 'DS IG ', 'EN IN ', 'MT OS ', 'PB NA ', 'OB OP ', 'NE NA ', 'RS OP ', 'ID  ', 'QA ID ', 'LT IN ', 'NE NA ', 'NE NA ', 'QA ID ', 'MT OS ', 'MT OS ', 'MT OS ', 'MT OS RV OP ', 'NE NA ', 'ID  ', 'NE NA ', 'SR NA ', 'MT OS DT IN ', 'OA NA ', 'MT OS ', 'DT IN ', 'DS IG ', 'MT OS ', 'NE NA ', 'OB OP ', 'MT OS ', 'DS IG ', 'RV OP ', 'RS OP ', 'NE NA DS IG ', 'MT OS ', 'QA ID ', 'QA ID ', 'PB NA ', 'TB NA ', 'DF ID ', 'NE NA ', 'SR NA ', 'RV OP ', 'LT IN ', 'IB IN ', 'MT OS ', 'DF ID ', 'DF ID FC NA ', 'NE NA ', 'QA ID ', 'OB OP ', 'SR NA ', 'EN IN ', 'EN IN ', 'RS OP ', 'DS IG ', 'QA ID ', 'MT OS ', 'NE NA ', 'NE NA ', 'HI  ', 'MT OS RV OP ', 'DS IG ', 'OB OP ', 'DF ID ', 'RV OP ', 'DT IN ', 'NE NA DS IG ', 'HI  ', 'RA IN ', 'HI  ', 'PB NA ', 'MT OS ', 'CB NA ', 'DT IN ', 'MT OS ', 'PB NA ', 'NE NA ', 'MT OS RV OP ', 'DT IN ', 'DF ID ', 'SR NA ', 'NA  ', 'OA NA ', 'MT OS ', 'FC NA ', 'PB NA ', 'MT OS ', 'SR NA ', 'DS IG ', 'MT OS ', 'OA NA ', 'SR NA ', 'NE NA ', 'MT OS ', 'OA NA ', 'NE NA DS IG ', 'MT OS ', 'MT OS ', 'SR NA ', 'MT OS ', 'NE NA ', 'PB NA ', 'DT IN ', 'DF ID ', 'NA  ', 'DT IN ', 'NE NA ', 'CB NA ', 'MT OS ', 'DF ID ', 'HA NA ', 'DF ID ', 'MT OS ', 'DS IG ', 'RV OP ', 'DT IN ', 'MT OS ', 'DS IG ', 'CB NA ', 'PB NA ', 'RV OP ', 'CB NA ', 'PB NA ', 'NE NA ', 'HI  ', 'MT OS ', 'MT OS ', 'PB NA ', 'MT OS ', 'NE NA ', 'DS IG ', 'DF ID ', 'NE NA ', 'PB NA ', 'CB NA ', 'MT OS ', 'NE NA ', 'NE NA ', 'OB OP ', 'SR NA ', 'OA NA ', 'PO LY ', 'NE NA ', 'PB NA ', 'FC NA ', 'OA NA ', 'DS IG ', 'ID  ', 'OA NA ', 'AV OP ', 'DF ID ', 'NE NA ', 'RP IN ', 'RA IN ', 'DF ID ', 'DF ID FC NA ', 'RA IN ', 'DF ID ', 'OB OP ', 'NE NA ', 'OA NA ', 'DS IG ', 'PB NA ', 'DS IG ', 'MT OS ', 'SR NA ', 'HI  ', 'PB NA ', 'FC NA ', 'MT OS ', 'DF ID ', 'DS IG ', 'NE NA ', 'OA NA ', 'NE NA ', 'HI  ', 'MT OS ', 'RS OP ', 'CB NA ', 'MT OS ', 'IT SP ', 'SR NA ', 'PB NA ', 'NE NA ', 'PB NA ', 'CB NA ', 'RA IN ', 'QA ID ', 'EN IN ', 'HI  ', 'CB NA ', 'DS IG ', 'DT IN ', 'DS IG ', 'IN  ', 'DS IG ', 'NE NA ', 'NE NA ', 'DS IG ', 'RP IN ', 'ID  ', 'NE NA ', 'MT OS ', 'LT IN ', 'PB NA ', 'DF ID ', 'PB NA ', 'MT OS ', 'IT SP ', 'OA NA ', 'NE NA ', 'DS IG ', 'RV OP ', 'HI  ', 'MT OS ', 'OB OP ', 'PB NA ', 'DT IN ', 'OA NA ', 'DF ID ', 'MT OS ', 'MT OS ', 'PB NA ', 'DS IG ', 'NE NA ', 'RS OP ', 'DT IN ', 'ID  ', 'NE NA IP IG ', 'DS IG ', 'MT OS ', 'NE NA ', 'DS IG ', 'DT IN ', 'NE NA ', 'NE NA ', 'OB OP ', 'NE NA ', 'RV OP ', 'MT OS ', 'DS IG ', 'DS IG ', 'RS OP ', 'DS IG ', 'DS IG ', 'DS IG ', 'PB NA ', 'DF ID ', 'NE NA DS IG ', 'NE NA ', 'MT OS ', 'NE NA ', 'RP IN ', 'OA NA ', 'FS SP ', 'RS OP ', 'DS IG ', 'NE NA ', 'NE NA ', 'IP IG ', 'MT OS ', 'AV OP ', 'PB NA ', 'RS OP ', 'NE NA ', 'HI  ', 'HI  ', 'MT OS ', 'IB IN ', 'NE NA ', 'MT OS ', 'FC NA ', 'PB NA ', 'NE NA ', 'OA NA HI  ', 'IT SP ', 'HI  ', 'RS OP ', 'NE NA ', 'DS IG ', 'CB NA ', 'DT IN ', 'NE NA ', 'MT OS ', 'DF ID ', 'DT IN ', 'PB NA ', 'PB NA ', 'PB NA ', 'NE NA ', 'SR NA ', 'SR NA ', 'CB NA ', 'PB NA ', 'RE HI ', 'RP IN ', 'MT OS RV OP ', 'NE NA IP IG ', 'IB IN ', 'RA IN ', 'PB NA ', 'RS OP ', 'MT OS RV OP ', 'IN  ', 'SR NA ', 'MT OS ', 'NE NA ', 'TB NA ', 'HI  ', 'OA NA ', 'ID  ', 'OA NA ', 'DS IG ', 'NE NA ', 'MT OS RV OP ', 'RA IN ', 'NE NA ', 'OB OP ', 'DT IN ', 'FC NA ', 'RV OP ', 'MT OS ', 'DT IN ', 'DT IN ', 'RS OP ', 'IN  ', 'NA  ', 'OA NA ', 'JD IN ', 'DT IN ', 'MT OS ', 'RV OP ', 'DS IG ', 'NE NA ', 'EN IN ', 'RS OP ', 'CB NA ', 'ID  ', 'MT OS ', 'PB NA ', 'MT OS ', 'NE NA ', 'NE NA ', 'NE NA ', 'HI  ', 'CB NA ', 'DS IG ', 'EN IN ', 'PB NA ', 'SR NA ', 'DF ID ', 'PB NA ', 'OA NA ', 'FS SP ', 'RS OP ', 'OB OP ', 'CB NA ', 'RS OP ', 'DS IG ', 'EN IN ', 'PB NA ', 'MT OS ', 'DS IG ', 'PB NA ', 'NE NA DS IG ', 'NE NA ', 'OA NA ', 'MT OS ', 'CB NA ', 'SR NA ', 'NE NA ', 'PB NA ', 'ID  ', 'OB OP ', 'DS IG ', 'OA NA ', 'PB NA ', 'RS OP ', 'LT IN ', 'RP IN ', 'SR NA ', 'OA NA ', 'OA NA ', 'PB NA ', 'RV OP ', 'PB NA ', 'DP IN ', 'LT IN ', 'DT IN ', 'PB NA ', 'DT IN ', 'DS IG ', 'DF ID ', 'MT OS ', 'PB NA ', 'HI  ', 'NE NA ', 'NE NA ', 'NE NA ', 'DS IG ', 'NE NA ', 'RP IN ', 'EN IN ', 'PB NA ', 'MT OS ', 'DT IN ', 'NA  ', 'IP IG ', 'DT IN ', 'NE NA ', 'NE NA RV OP ', 'OA NA ', 'NE NA ', 'RS OP ', 'DS IG ', 'PB NA ', 'CM IN ', 'TB NA ', 'CB NA ', 'HA NA PB NA ', 'DF ID ', 'MT OS ', 'NE NA ', 'SR NA ', 'DS IG ', 'OP  ', 'NE NA ', 'DF ID ', 'DS IG ', 'OA NA ', 'RS OP ', 'OA NA ', 'NE NA ', 'DS IG ', 'NA  ', 'DS IG ', 'MT OS ', 'RV OP DS IG ', 'DF ID ', 'NE NA DS IG ', 'OB OP ', 'MT OS ', 'DS IG ', 'NE NA ', 'RS OP ', 'MT OS ', 'NE NA ', 'SR NA ', 'OA NA ', 'MT OS ', 'PB NA ', 'MT OS ', 'HI  ', 'RP IN ', 'PB NA ', 'NE NA ', 'FS SP ', 'DT IN ', 'MT OS ', 'NE NA ', 'PB NA ', 'OB OP ', 'NE NA ', 'NE NA ', 'HI  ', 'DT IN ', 'OA NA ', 'RA IN ', 'NE NA ', 'LT IN ', 'QA ID ', 'OA NA ', 'DF ID ', 'PB NA ', 'DS IG ', 'NE NA ', 'DF ID ', 'SR NA ', 'RS OP ', 'DF ID ', 'MT OS ', 'DS IG ', 'RS OP ', 'HA NA ', 'OB OP ', 'DS IG ', 'RS OP ', 'PB NA ', 'DS IG ', 'OB OP ', 'DP IN ', 'DT IN ', 'RV OP ', 'DS IG ', 'DS IG ', 'DT IN ', 'NE NA ', 'NE NA ', 'HI  ', 'MT OS ', 'OB OP ', 'OA NA ', 'NE NA ', 'DF ID ', 'OA NA ', 'FC NA ', 'RS OP ', 'DS IG ', 'RA IN ', 'CB NA ', 'DT IN ', 'RS OP ', 'OA NA ', 'DF ID ', 'DS IG ', 'PB NA ', 'HI  ', 'NE NA ', 'MT OS RV OP ', 'DS IG ', 'RP IN ', 'DS IG ', 'HA NA ', 'SR NA ', 'RP IN ', 'FA IN ', 'ID  ', 'MT OS ', 'NE NA DS IG ', 'EN IN FC NA ', 'EN IN ', 'HA NA ', 'QA ID ', 'MT OS ', 'SR NA ', 'IB IN AV OP ', 'MT OS ', 'DS IG ', 'MT OS ', 'PB NA ', 'ID  ', 'IN  ', 'RV OP ', 'DP IN ', 'CB NA ', 'IN  ', 'FA IN ', 'HI  ', 'OB OP ', 'OA NA ', 'SR NA ', 'CM IN ', 'OB OP ', 'RE HI ', 'PB NA ', 'EB IG ', 'CB NA ', 'MT OS RV OP ', 'MT OS RV OP ', 'NE NA ', 'OA NA ', 'MT OS ', 'NE NA ', 'MT OS RV OP ', 'PB NA ', 'RS OP ', 'NE NA DS IG ', 'PB NA ', 'NE NA ', 'ID  FC NA ', 'HI  ', 'DF ID ', 'DF ID ', 'NE NA ', 'DT IN ', 'DT IN ', 'PB NA ', 'NE NA DS IG ', 'MT OS ', 'NE NA ', 'NE NA ', 'MT OS ', 'EN IN ', 'DS IG ', 'DF ID ', 'SR NA ', 'EN IN ', 'MT OS ', 'PB NA ', 'FC NA ', 'MT OS ', 'PB NA ', 'QA ID ', 'NE NA ', 'PB NA ', 'CM IN ', 'MT OS ', 'SR NA ', 'HA NA ', 'PB NA ', 'DT IN ', 'RS OP ', 'SR NA ', 'NE NA ', 'IP IG ', 'DF ID ', 'MT OS ', 'DT IN ', 'NE NA ', 'SR NA ', 'DS IG ', 'NE NA ', 'IB IN ', 'NE NA ', 'RV OP ', 'MT OS RV OP ', 'OB OP ', 'PB NA ', 'DS IG ', 'RS OP ', 'DP IN ', 'IB IN ', 'MT OS ', 'NE NA DS IG ', 'EN IN ', 'ID  ', 'RV OP ', 'OA NA ', 'IN  ', 'MT OS ', 'DS IG ', 'DS IG ', 'DT IN ', 'JD IN ', 'DF ID ', 'CB NA ', 'LT IN ', 'OB OP ', 'NE NA DS IG ', 'HI  ', 'RP IN ', 'MT OS RV OP ', 'DF ID ', 'RV OP ', 'PB NA ', 'DS IG ', 'DF ID ', 'IB IN ', 'DF ID ', 'DT IN ', 'NE NA DS IG ', 'NE NA ', 'ID  ', 'NE NA ', 'NE NA HI  ', 'PB NA ', 'PB NA ', 'DT IN ', 'SR NA ', 'RS OP ', 'PB NA ', 'ID  ', 'RV OP ', 'OA NA ', 'DS IG ', 'EN IN ', 'DS IG ', 'MT OS ', 'PB NA ', 'CB NA ', 'MT OS ', 'DS IG ', 'CB NA ', 'DS IG ', 'NA  ', 'MT OS ', 'EN IN ', 'DS IG ', 'NE NA ', 'DF ID ', 'PB NA ', 'HI  ', 'CB NA ', 'PB NA ', 'MT OS ', 'CB NA ', 'NE NA ', 'DF ID ', 'DF ID ', 'SR NA ', 'HI  ', 'DF ID ', 'OA NA ', 'OB OP ', 'DS IG ', 'ID  ', 'MT OS ', 'DF ID ', 'EN IN ', 'DS IG ', 'DS IG ', 'EN IN HI  ', 'QA ID ', 'PB NA ', 'CB NA ', 'DT IN ', 'LT IN ', 'SR NA ', 'AV OP ', 'DF ID ', 'HI  ', 'HI  ', 'CB NA ', 'HI  ', 'DF ID ', 'DT IN ', 'DS IG ', 'NE NA ', 'PB NA ', 'OA NA ', 'OB OP ', 'NE NA ', 'NE NA ', 'DF ID ', 'CB NA ', 'SR NA ', 'OA NA ', 'RV OP ', 'MT OS ', 'NE NA ', 'DT IN ', 'DS IG ', 'HI  ', 'NE NA ', 'OB OP ', 'PB NA ', 'RV OP ', 'RS OP ', 'NE NA ', 'PB NA ', 'RP IN ', 'PB NA ', 'DF ID ', 'ID  ', 'RS OP ', 'MT OS ', 'MT OS ', 'DF ID ', 'TB NA ', 'MT OS ', 'NE NA ', 'NE NA ', 'PB NA ', 'PB NA ', 'ID  ', 'MT OS ', 'NE NA ', 'EB IG ', 'DP IN ', 'DT IN ', 'MT OS ', 'PB NA ', 'HI  ', 'CB NA ', 'DS IG ', 'NA  ', 'NE NA ', 'NE NA ', 'EN IN ', 'PB NA ', 'PB NA ', 'OB OP ', 'RS OP ', 'MT OS ', 'HI  EN IN ', 'FC NA ', 'MT OS ', 'OB OP ', 'HI  ', 'MT OS RV OP ', 'DS IG ', 'MT OS ', 'NE NA IP IG ', 'MT OS ', 'MT OS ', 'MT OS ', 'MT OS ', 'SR NA ', 'DS IG ', 'DS IG ', 'TB NA ', 'RA IN ', 'DF ID ', 'HI  ', 'MT OS ', 'OB OP ', 'DS IG ', 'DS IG HI  ', 'HI  ', 'SR NA ', 'PB NA ', 'HI  ', 'DT IN ', 'FS SP ', 'RV OP ', 'RV OP ', 'SR NA ', 'RS OP ', 'OB OP ', 'MT OS ', 'MT OS RV OP ', 'PB NA ', 'NE NA ', 'PB NA ', 'EN IN ', 'DS IG ', 'PB NA ', 'RS OP ', 'NE NA ', 'DS IG ', 'NA  ', 'IB IN ', 'SR NA ', 'DS IG ', 'PB NA ', 'DS IG ', 'DP IN ', 'PB NA ', 'HI  ', 'NE NA ', 'MT OS ', 'IN  ', 'DT IN ', 'MT OS ', 'NE NA ', 'OA NA ', 'SR NA ', 'DS IG ', 'DT IN ', 'MT OS ', 'MT OS ', 'DT IN ', 'DF ID ', 'DT IN ', 'MT OS ', 'DP IN ', 'DF ID ', 'RS OP ', 'DP IN ', 'PB NA ', 'RV OP ', 'NE NA ', 'PB NA ', 'RS OP ', 'MT OS ', 'MT OS ', 'MT OS ', 'MT OS ', 'DF ID ', 'PB NA ', 'IB IN ', 'RA IN ', 'MT OS ', 'PB NA ', 'OP  ', 'PB NA ', 'DS IG ', 'HI  ', 'DF ID ', 'NE NA ', 'DT IN ', 'SR NA ', 'MT OS ', 'CB NA ', 'OA NA ', 'MT OS ', 'RV OP ', 'HI  ', 'PB NA ', 'NE NA ', 'DS IG ', 'PB NA ', 'PB NA ', 'RA IN ', 'LT IN ', 'ID  ', 'DT IN ', 'MT OS ', 'RV OP ', 'MT OS RV OP ', 'DF ID ', 'DS IG ', 'PB NA ', 'EB IG ', 'NE NA ', 'MT OS EN IN ', 'SR NA ', 'DS IG ', 'DP IN ', 'MT OS ', 'DF ID ', 'PB NA ', 'DF ID ', 'NE NA ', 'MT OS ', 'DT IN ', 'IN  ', 'RV OP ', 'DT IN ', 'OB OP ', 'MT OS ', 'DP IN FC NA ', 'MT OS ', 'PB NA ', 'MT OS ', 'NE NA ', 'MT OS ', 'OA NA ', 'PB NA ', 'NA  ', 'DP IN ', 'HI  ', 'QA ID ', 'DP IN ', 'NE NA ', 'MT OS ', 'MT OS ', 'NE NA ', 'HI  ', 'DS IG ', 'MT OS ', 'PB NA ', 'OB OP ', 'NE NA ', 'PB NA ', 'RV OP ', 'MT OS RV OP ', 'FC NA ', 'NE NA ', 'DS IG ', 'MT OS RV OP ', 'PO LY ', 'NA  ', 'NE NA ', 'MT OS ', 'OA NA ', 'DF ID ', 'RV OP ', 'SR NA ', 'DP IN ', 'NE NA DS IG ', 'HI  ', 'DS IG ', 'PB NA RE HI ', 'IN  ', 'DS IG ', 'MT OS ', 'DS IG ', 'MT OS ', 'DS IG ', 'DT IN ', 'OA NA ', 'PB NA ', 'PB NA ', 'NE NA ', 'OA NA ', 'CB NA ', 'DF ID ', 'DT IN ', 'SR NA ', 'NE NA DS IG ', 'MT OS ', 'MT OS ', 'OA NA ', 'MT OS RV OP ', 'MT OS ', 'PB NA ', 'MT OS ', 'NE NA ', 'MT OS RV OP ', 'NE NA ', 'PB NA ', 'MT OS ', 'NE NA ', 'NE NA ', 'HI  ', 'NE NA ', 'NE NA ', 'RE HI ', 'TB NA ', 'DT IN ', 'NE NA ', 'DS IG ', 'MT OS ', 'DT IN ', 'MT OS ', 'RE HI ', 'DF ID ', 'MT OS ', 'DF ID ', 'MT OS ', 'MT OS RV OP ', 'PB NA ', 'DF ID ', 'EN IN ', 'CM IN ', 'DS IG ', 'FA IN ', 'MT OS RV OP ', 'RV OP ', 'DF ID ', 'NE NA ', 'MT OS DS IG ', 'PB NA ', 'NE NA ', 'DF ID ', 'DS IG ', 'OA NA ', 'PB NA ', 'DS IG ', 'DT IN ', 'PB NA ', 'NE NA ', 'MT OS ', 'DF ID ', 'SR NA ', 'PB NA ', 'HI  ', 'MT OS ', 'DS IG ', 'SR NA ', 'NE NA ', 'DS IG ', 'SR NA ', 'DF ID ', 'DF ID ', 'PB NA ', 'DF ID ', 'OA NA ', 'OB OP ', 'MT OS ', 'OB OP ', 'MT OS ', 'DF ID ', 'OA NA ', 'DS IG ', 'RS OP ', 'MT OS ', 'DS IG ', 'DT IN ', 'MT OS ', 'MT OS ', 'DT IN ', 'HA NA ', 'NE NA ', 'EB IG ', 'EN IN ', 'PB NA ', 'PB NA RV OP ', 'OA NA ', 'LT IN ', 'DF ID ', 'NE NA ', 'OB OP ', 'OA NA ', 'PB NA ', 'NE NA ', 'CB NA DS IG ', 'FA IN ', 'PB NA ', 'CM IN ', 'LT IN ', 'DS IG ', 'HI  ', 'NE NA ', 'MT OS RV OP ', 'PB NA ', 'HI  ', 'MT OS ', 'DF ID ', 'NE NA ', 'EB IG ', 'DF ID ', 'EN IN ', 'OB OP ', 'DT IN ', 'PB NA ', 'HA NA DS IG ', 'NE NA ', 'FA IN ', 'RS OP ', 'MT OS ', 'IN  ', 'MT OS ', 'CB NA ', 'CB NA ', 'NE NA ', 'EN IN ', 'NE NA DS IG ', 'OA NA ', 'DS IG ', 'MT OS ', 'SR NA ', 'SR NA ', 'NE NA ', 'OB OP ', 'MT OS ', 'OB OP ', 'DT IN ', 'NE NA ', 'PB NA ', 'RS OP ', 'PB NA ', 'MT OS ', 'MT OS ', 'NE NA DS IG ', 'MT OS RV OP ', 'RV OP ', 'CB NA ', 'RE HI ', 'RS OP ', 'MT OS ', 'OB OP ', 'DF ID ', 'EN IN ', 'PB NA ', 'DP IN ', 'MT OS ', 'RS OP ', 'SR NA ', 'NE NA ', 'MT OS ', 'PB NA ', 'IT SP ', 'DF ID ', 'MT OS ', 'DT IN ', 'PB NA ', 'MT OS ', 'PB NA ', 'OB OP ', 'OB OP ', 'DS IG ', 'SR NA ', 'NE NA ', 'DF ID ', 'OA NA ', 'DF ID ', 'MT OS ', 'DT IN ', 'PB NA ', 'PB NA ', 'PB NA ', 'PB NA ', 'DS IG ', 'PB NA ', 'IN  ', 'DT IN ', 'MT OS ', 'QA ID ', 'SR NA ', 'OB OP ', 'DS IG HI  ', 'FS SP ', 'DF ID ', 'IN  ', 'HI  ', 'EN IN ', 'PB NA ', 'ID  FC NA ', 'HI  ', 'SR NA ', 'DT IN ', 'MT OS ', 'MT OS ', 'HI  ', 'RS OP ', 'RE HI ', 'DS IG ', 'PB NA ', 'MT OS ', 'IP IG ', 'MT OS ', 'CB NA ', 'MT OS ', 'PB NA ', 'DT IN ', 'RS OP ', 'PB NA ', 'FC NA ', 'DS IG ', 'NE NA HI  ', 'TB NA ', 'PB NA ', 'MT OS ', 'NE NA ', 'RS OP ', 'MT OS RV OP ', 'DF ID ', 'PB NA ', 'PB NA ', 'NE NA ', 'NE NA ', 'OB OP ', 'MT OS ', 'FA IN ', 'NE NA ', 'EN IN ', 'RV OP ', 'DF ID ', 'DF ID ', 'MT OS ', 'DF ID ', 'MT OS ', 'DT IN ', 'PB NA ', 'PB NA ', 'PB NA ', 'RS OP ', 'EN IN ', 'SR NA ', 'DS IG ', 'DS IG ', 'DS IG ', 'PB NA IB IN ', 'RS OP ', 'NE NA ', 'SR NA ', 'MT OS ', 'MT OS ', 'MT OS ', 'DF ID FC NA ', 'DS IG ', 'MT OS ', 'DS IG ', 'SR NA ', 'RS OP ', 'DP IN ', 'NA  ', 'OA NA ', 'DF ID ', 'OA NA ', 'RS OP ', 'SR NA ', 'DT IN ', 'MT OS ', 'IN  ', 'RV OP ', 'PB NA ', 'PB NA ', 'PB NA ', 'RS OP ', 'RS OP ', 'PB NA ', 'EB IG ', 'MT OS ', 'NA  ', 'NA  ', 'PB NA ', 'PB NA ', 'MT OS RV OP ', 'DT IN ', 'NE NA ', 'MT OS ', 'RV OP ', 'MT OS ', 'MT OS ', 'RS OP ', 'EN IN ', 'PB NA ', 'PB NA ', 'MT OS ', 'NE NA ', 'MT OS ', 'MT OS ', 'RV OP MT OS ', 'EN IN ', 'MT OS ', 'CB NA DS IG ', 'DF ID ', 'RV OP ', 'PB NA ', 'DF ID ', 'CB NA ', 'HI  ', 'NA  ', 'DS IG ', 'RS OP ', 'HA NA ', 'MT OS ', 'DF ID ', 'PB NA ', 'RV OP ', 'ID  ', 'DT IN ', 'RV OP ', 'DT IN ', 'NE NA ', 'OA NA ', 'SR NA ', 'MT OS ', 'OB OP ', 'MT OS ', 'PB NA ', 'RV OP ', 'DT IN ', 'DS IG ', 'PB NA ', 'MT OS ', 'DF ID ', 'MT OS ', 'MT OS ', 'NE NA ', 'RS OP ', 'DT IN ', 'NA  ', 'NE NA ', 'LT IN ', 'DP IN EN IN ', 'MT OS RV OP ', 'PB NA ', 'OB OP ', 'RP IN ', 'MT OS ', 'NE NA ', 'DT IN ', 'SR NA ', 'PB NA ', 'NE NA ', 'PB NA ', 'MT OS ', 'IN  ', 'OA NA ', 'OB OP ', 'DS IG ', 'MT OS ', 'NE NA ', 'DS IG ', 'MT OS RV OP ', 'DF ID ', 'DF ID ', 'MT OS RV OP ', 'IN  ', 'NE NA ', 'RV OP ', 'IN  ', 'IN  ', 'DF ID ', 'PB NA ', 'MT OS ', 'RS OP ', 'DS IG ', 'PB NA ', 'HI  ', 'SR NA ', 'RV OP ', 'SR NA ', 'MT OS RV OP ', 'DS IG ', 'MT OS ', 'CB NA ', 'RS OP ', 'OB OP ', 'LT IN ', 'MT OS ', 'MT OS ', 'MT OS ', 'CM IN ', 'IT SP ', 'PB NA ', 'MT OS ', 'HI  ', 'EB IG ', 'IN  ', 'NE NA ', 'DT IN ', 'NE NA ', 'NE NA ', 'LT IN ', 'MT OS DS IG ', 'DT IN ', 'PB NA ', 'EB IG ', 'NE NA HI  ', 'NE NA ', 'NE NA ', 'DS IG ', 'PB NA ', 'OA NA ', 'RS OP ', 'RS OP ', 'HI  ', 'CB NA ', 'RP IN ', 'DT IN ', 'DT IN ', 'LT IN ', 'OB OP ', 'NE NA ', 'MT OS ', 'DS IG ', 'MT OS ', 'PB NA ', 'DT IN ', 'DT IN ', 'MT OS ', 'DF ID ', 'HI  ', 'OA NA ', 'IN  ', 'PB NA ', 'PB NA ', 'DS IG ', 'OA NA ', 'RS OP ', 'OA NA ', 'HI  ', 'NE NA DS IG ', 'DS IG ', 'DT IN ', 'MT OS ', 'DS IG ', 'DT IN ', 'DS IG ', 'PB NA ', 'HI  ', 'MT OS ', 'NE NA IP IG ', 'MT OS ', 'PB NA ', 'MT OS ', 'PB NA ', 'OA NA ', 'CB NA ', 'CB NA ', 'ID  ', 'DS IG ', 'DT IN RV OP ', 'CB NA ', 'HI  ', 'DS IG ', 'DS IG ', 'MT OS ', 'DS IG ', 'RS OP ', 'ID  ', 'PB NA ', 'NE NA ', 'DF ID ', 'RV OP ', 'DS IG ', 'HI  ', 'DS IG ', 'EN IN ', 'DF ID ', 'OA NA ', 'OB OP ', 'MT OS ', 'OB OP ', 'RS OP ', 'NE NA ', 'OB OP ', 'DF ID ', 'DF ID ', 'CB NA ', 'PB NA ', 'CB NA ', 'DT IN ', 'CM IN ', 'RS OP ', 'IN  ', 'SR NA ', 'IB IN ', 'HI  ', 'SR NA ', 'EB IG ', 'DF ID ', 'OA NA ', 'NE NA ', 'RV OP ', 'DF ID FC NA ', 'IT SP ', 'RE HI ', 'NE NA DS IG ', 'DT IN ', 'DS IG ', 'FA IN ', 'DT IN ', 'NE NA DS IG ', 'IB IN ', 'NE NA ', 'DS IG ', 'NE NA ', 'HI  ', 'IB IN ', 'NE NA ', 'LT IN ', 'HI  ', 'DF ID ', 'RV OP ', 'OA NA ', 'NE NA ', 'HI  ', 'OB OP ', 'PB NA ', 'RS OP ', 'RV OP ', 'NE NA ', 'DP IN ', 'DF ID ', 'NA  ', 'RS OP ', 'LT IN ', 'NE NA ', 'DS IG ', 'OA NA ', 'DS IG ', 'EN IN ', 'HI  ', 'RS OP ', 'DF ID ', 'DF ID ', 'PB NA ', 'PB NA ', 'NE NA ', 'NE NA ', 'NE NA ', 'IN  ', 'MT OS RV OP ', 'OB OP ', 'RV OP ', 'NE NA ', 'DF ID ', 'MT OS ', 'DS IG ', 'HI  ', 'DS IG ', 'NE NA ', 'QA ID ', 'DF ID ', 'DS IG ', 'MT OS ', 'OA NA ', 'EN IN IP IG ', 'EN IN ', 'RS OP ', 'MT OS ', 'MT OS ', 'DT IN ', 'DF ID ', 'ID  ', 'DF ID ', 'DS IG ', 'RS OP ', 'DT IN HI  ', 'NE NA ', 'RA IN ', 'DF ID ', 'MT OS ', 'DS IG ', 'NE NA DS IG ', 'MT OS ', 'NE NA ', 'RA IN ', 'PB NA ', 'DT IN NE NA ', 'QA ID ', 'RS OP ', 'CM IN ', 'DF ID ', 'DS IG ', 'EB IG ', 'DS IG ', 'DF ID FC NA ', 'DF ID ', 'QA ID ', 'DT IN ', 'CB NA ', 'MT OS ', 'PB NA ', 'MT OS ', 'NE NA DS IG ', 'CB NA ', 'DT IN ', 'IP IG ', 'OA NA ', 'OA NA ', 'CB NA ', 'MT OS ', 'MT OS ', 'DS IG ', 'CB NA ', 'RV OP ', 'HI  ', 'EB IG ', 'DS IG ', 'CB NA ', 'HI  ', 'PB NA ', 'MT OS ', 'NE NA ', 'HI  ', 'NE NA ', 'NA  ', 'NE NA ', 'NE NA ', 'NE NA ', 'NA  ', 'NE NA ', 'MT OS ', 'IB IN ', 'SR NA ', 'DT IN ', 'RV OP ', 'IB IN ', 'DS IG ', 'NE NA DS IG ', 'DS IG ', 'RS OP ', 'DS IG ', 'HI  ', 'NE NA ', 'NE NA ', 'MT OS ', 'DT IN ', 'NE NA DS IG ', 'EB IG ', 'FS SP ', 'MT OS ', 'MT OS ', 'MT OS ', 'PB NA ', 'OB OP ', 'OB OP ', 'DT IN HI  ', 'NE NA ', 'MT OS ', 'HI  ', 'CB NA ', 'IN  ', 'NE NA ', 'DS IG ', 'NE NA ', 'LT IN ', 'NE NA IP IG ', 'MT OS ', 'OA NA ', 'NE NA ', 'PB NA ', 'SR NA ', 'NE NA ', 'DT IN ', 'DF ID ', 'OP  ', 'PB NA ', 'MT OS ', 'DT IN ', 'MT OS ', 'NE NA ', 'PB NA ', 'ID  ', 'NE NA ', 'DF ID FC NA ', 'PB NA ', 'DS IG ', 'RE HI ', 'CM IN ', 'NE NA ', 'RV OP ', 'EB IG ', 'PB NA ', 'EN IN ', 'NE NA ', 'DT IN ', 'DS IG ', 'CB NA DS IG ', 'PB NA ', 'HI  ', 'NE NA ', 'DF ID ', 'NE NA ', 'OA NA ', 'PB NA ', 'NE NA ', 'PB NA ', 'RS OP ', 'DP IN FC NA ', 'MT OS ', 'DS IG ', 'RS OP ', 'DF ID ', 'DT IN ', 'PB NA ', 'MT OS ', 'NE NA DS IG ', 'EN IN ', 'DS IG ', 'PB NA ', 'DS IG ', 'DF ID ', 'MT OS RV OP ', 'IT SP ', 'DS IG ', 'QA ID ', 'SR NA ', 'DP IN FC NA ', 'OA NA ', 'LT IN ', 'NE NA ', 'MT OS RV OP ', 'RS OP ', 'OA NA ', 'PB NA ', 'MT OS ', 'MT OS ', 'OB OP ', 'PB NA ', 'RS OP ', 'OA NA ', 'OA NA ', 'DS IG ', 'MT OS ', 'NE NA DS IG ', 'OB OP ', 'MT OS RV OP ', 'DT IN ', 'OA NA ', 'PB NA ', 'DS IG ', 'DF ID ', 'NE NA ', 'DS IG ', 'MT OS RV OP ', 'DS IG ', 'MT OS ', 'DT IN ', 'MT OS ', 'NE NA ', 'EB IG ', 'NE NA ', 'CM IN ', 'OA NA ', 'RS OP ', 'EN IN ', 'OB OP ', 'IT SP ', 'DS IG ', 'EN IN ', 'NE NA ', 'EN IN ', 'DS IG ', 'PB NA ', 'OA NA ', 'NE NA ', 'MT OS ', 'CM IN ', 'PB NA ', 'DF ID ', 'QA ID ', 'RV OP ', 'HI  ', 'NE NA ', 'OA NA ', 'OA NA ', 'NE NA ', 'LT IN ', 'HI  ', 'PB NA ', 'DS IG ', 'EN IN ', 'NE NA ', 'ID  ', 'ID  ', 'DS IG ', 'PB NA ', 'HI  ', 'RA IN ', 'MT OS ', 'DS IG ', 'HI  ', 'NE NA ', 'DP IN ', 'MT OS ', 'DS IG ', 'NE NA ', 'PB NA ', 'IB IN ', 'HI  ', 'IP IG ', 'PB NA DS IG ', 'PB NA ', 'JD IN ', 'LT IN ', 'PB NA ', 'AV OP ', 'DS IG ', 'MT OS ', 'OA NA ', 'CB NA ', 'LT IN ', 'RS OP ', 'NE NA ', 'IN  ', 'MT OS ', 'PB NA ', 'IN  ', 'MT OS ', 'DS IG ', 'PB NA ', 'DS IG ', 'SR NA ', 'CB NA ', 'NE NA ', 'ID  ', 'MT OS ', 'SR NA ', 'OB OP ', 'OP  ', 'NE NA ', 'OB OP ', 'JD IN ', 'OB OP ', 'DF ID ', 'CB NA ', 'RS OP ', 'NE NA ', 'RS OP ', 'TB NA ', 'RV OP ', 'DS IG ', 'MT OS ', 'DS IG ', 'MT OS ', 'CB NA ', 'NE NA ', 'HI  ', 'DF ID ', 'DS IG ', 'MT OS ', 'DS IG ', 'NE NA ', 'DT IN ', 'LT IN ', 'OB OP ', 'MT OS ', 'NE NA ', 'PB NA ', 'DF ID ', 'RS OP ', 'DT IN ', 'MT OS ', 'EN IN ', 'DT IN HI  ', 'NE NA ', 'RS OP ', 'MT OS RV OP ', 'NE NA ', 'HI  ', 'MT OS ', 'OA NA ', 'NE NA ', 'OA NA ', 'NE NA ', 'HI  ', 'RV OP ', 'OB OP ', 'OA NA ', 'DT IN ', 'IN  ', 'EN IN ', 'HI  ', 'DS IG ', 'HI  ', 'OA NA ', 'PB NA ', 'PB NA ', 'IN  ', 'NE NA ', 'EB IG ', 'DS IG ', 'CB NA ', 'RV OP ', 'DS IG ', 'JD IN ', 'DS IG HI  ', 'OA NA ', 'MT OS RV OP ', 'PB NA ', 'DF ID ', 'NA  ', 'OA NA ', 'PB NA ', 'MT OS RV OP ', 'MT OS ', 'DT IN ', 'NE NA ', 'DF ID ', 'OB OP ', 'IP IG ', 'EB IG ', 'NE NA ', 'NE NA DS IG ', 'PB NA ', 'OP  ', 'MT OS ', 'RP IN ', 'NE NA DS IG ', 'DF ID ', 'DP IN ', 'DS IG ', 'IN  ', 'ID  ', 'DS IG ', 'PB NA ', 'IP IG ', 'DF ID ', 'MT OS ', 'DS IG ', 'PB NA ', 'MT OS ', 'DS IG ', 'PB NA ', 'DT IN ', 'JD IN ', 'PB NA ', 'OA NA ', 'MT OS ', 'MT OS ', 'MT OS ', 'PB NA ', 'OB OP ', 'DS IG ', 'FC NA ', 'RV OP ', 'PB NA ', 'NE NA ', 'DT IN ', 'PB NA ', 'DT IN ', 'RS OP ', 'PB NA ', 'DS IG ', 'NE NA ', 'HI  ', 'DT IN ', 'NE NA ', 'HI  DT IN ', 'MT OS ', 'OA NA ', 'PB NA ', 'NE NA DS IG ', 'NE NA ', 'RS OP ', 'DS IG ', 'PB NA ', 'PB NA ', 'NE NA ', 'NE NA ', 'SR NA ', 'PB NA ', 'DF ID ', 'MT OS ', 'MT OS ', 'NE NA ', 'DF ID ', 'MT OS ', 'MT OS ', 'DF ID ', 'RS OP ', 'PB NA ', 'PB NA ', 'EN IN ', 'IP IG ', 'OA NA ', 'MT OS ', 'DS IG ', 'DP IN ', 'DS IG ', 'CB NA ', 'OA NA ', 'MT OS RV OP ', 'DF ID ', 'ID  ', 'PB NA ', 'PB NA ', 'HI  ', 'PB NA ', 'DF ID ', 'PB NA ', 'DT IN HI  ', 'DS IG ', 'DF ID ', 'NE NA ', 'DS IG ', 'OA NA ', 'OB OP ', 'DS IG ', 'DS IG ', 'MT OS ', 'QA ID ', 'OB OP ', 'DP IN ', 'DS IG ', 'PB NA ', 'DF ID ', 'EN IN ', 'RS OP ', 'NE NA ', 'HA NA ', 'EN IN ', 'PB NA ', 'PB NA ', 'DS IG ', 'JD IN ', 'NA  ', 'MT OS ', 'DF ID ', 'DF ID ', 'PB NA ', 'DT IN ', 'NE NA ', 'MT OS RV OP ', 'DS IG ', 'NE NA ', 'OA NA ', 'DS IG ', 'IN  ', 'NE NA ', 'HI  ', 'MT OS ', 'MT OS ', 'NE NA DS IG ', 'DP IN ', 'NE NA ', 'IB IN CB NA ', 'HI  ', 'RS OP ', 'IP IG ', 'IB IN ', 'MT OS ', 'HI  ', 'PB NA ', 'DS IG ', 'MT OS ', 'DT IN ', 'NE NA ', 'NE NA DS IG ', 'PB NA ', 'DS IG ', 'MT OS ', 'DS IG ', 'DS IG ', 'HI  ', 'NE NA ', 'MT OS ', 'PB NA ', 'HI  ', 'DS IG ', 'EN IN ', 'PB NA ', 'MT OS ', 'NE NA ', 'NE NA ', 'EN IN ', 'HI  ', 'IB IN ', 'NE NA ', 'MT OS ', 'RS OP ', 'DS IG ', 'MT OS ', 'LT IN ', 'PB NA ', 'CB NA ', 'DS IG ', 'FA IN ', 'NE NA ', 'RS OP ', 'DF ID ', 'DS IG ', 'DF ID ', 'HI  NE NA ', 'EN IN ', 'LT IN ', 'OA NA ', 'MT OS ', 'MT OS ', 'PB NA ', 'SR NA ', 'NE NA ', 'OA NA ', 'HI  ', 'DP IN ', 'IT SP ', 'NE NA ', 'SR NA ', 'FA IN ', 'RV OP ', 'RV OP ', 'NE NA ', 'RP IN ', 'NE NA ', 'DS IG ', 'MT OS ', 'DF ID ', 'DF ID ', 'CB NA ', 'NE NA ', 'DS IG ', 'DS IG ', 'EN IN ', 'MT OS RV OP ', 'OB OP ', 'PB NA ', 'CB NA ', 'DT IN ', 'NE NA IP IG ', 'RS OP ', 'PB NA ', 'DF ID ', 'ID  ', 'ID  ', 'SR NA ', 'QA ID ', 'SR NA ', 'NE NA ', 'FC NA ', 'MT OS ', 'HI  ', 'MT OS ', 'NE NA ', 'FC NA ', 'MT OS ', 'NE NA ', 'DT IN ', 'NE NA IP IG ', 'MT OS ', 'IN  ', 'HI  ', 'DF ID ', 'NE NA ', 'TB NA ', 'PB NA ', 'DF ID ', 'NE NA ', 'NE NA ', 'MT OS ', 'RS OP ', 'EN IN ', 'MT OS ', 'MT OS ', 'MT OS RV OP ', 'MT OS ', 'DS IG ', 'RS OP ', 'DS IG ', 'DF ID ', 'PB NA ', 'RS OP ', 'OB OP ', 'OB OP ', 'DT IN ', 'OB OP ', 'DS IG ', 'HA NA ', 'OB OP ', 'DS IG ', 'DT IN ', 'NE NA DS IG ', 'MT OS ', 'DS IG ', 'OA NA ', 'RE HI ', 'NE NA ', 'MT OS ', 'DF ID ', 'PB NA ', 'NE NA ', 'MT OS ', 'DF ID ', 'DP IN ', 'OA NA ', 'RV OP ', 'PB NA ', 'PB NA ', 'IN  ', 'QA ID ', 'RS OP ', 'MT OS RV OP ', 'NE NA ', 'EN IN ', 'ID  ', 'MT OS ', 'RS OP ', 'PB NA ', 'NE NA ', 'HI  ', 'EN IN ', 'SR NA ', 'RV OP ', 'RP IN ', 'EN IN ', 'DF ID ', 'PB NA ', 'IN  ', 'HI  ', 'PB NA ', 'DS IG ', 'PB NA ', 'DF ID ', 'PB NA ', 'MT OS ', 'DP IN ', 'OB OP ', 'DT IN ', 'PB NA ', 'PB NA ', 'DF ID ', 'NE NA ', 'OB OP ', 'NE NA ', 'DP IN ', 'PB NA ', 'DS IG ', 'NE NA ', 'MT OS ', 'NA  ', 'NE NA ', 'MT OS ', 'PB NA ', 'PB NA ', 'IT SP ', 'DF ID ', 'SR NA ', 'PB NA ', 'HI  ', 'PB NA ', 'RS OP ', 'NE NA ', 'MT OS ', 'PB NA ', 'NE NA ', 'OB OP ', 'DS IG ', 'CB NA ', 'RV OP ', 'NE NA DS IG ', 'SR NA ', 'RA IN ', 'DS IG ', 'NE NA ', 'CB NA ', 'MT OS ', 'OA NA ', 'MT OS ', 'OB OP ', 'DS IG ', 'DS IG ', 'PB NA ', 'MT OS ', 'MT OS ', 'OA NA ', 'MT OS ', 'JD IN ', 'MT OS ', 'CB NA ', 'NE NA ', 'HI  ', 'MT OS ', 'CM IN ', 'OA NA ', 'DF ID ', 'HI  ', 'RS OP ', 'MT OS ', 'ID  FC NA ', 'DS IG ', 'DF ID ', 'NE NA ', 'DF ID ', 'MT OS ', 'RV OP ', 'CB NA ', 'IP IG ', 'DF ID ', 'MT OS ', 'MT OS ', 'RV OP ', 'EN IN ', 'MT OS RV OP ', 'CM IN ', 'MT OS ', 'OA NA ', 'DS IG ', 'CB NA ', 'NE NA ', 'OB OP ', 'PB NA ', 'EN IN ', 'DS IG ', 'NE NA ', 'OA NA ', 'CB NA ', 'NE NA ', 'NE NA ', 'NE NA ', 'IP IG ', 'MT OS ', 'DP IN ', 'DS IG ', 'PB NA ', 'PB NA ', 'EN IN ', 'NE NA ', 'HI  ', 'HI  ', 'NE NA ', 'HI  ', 'RP IN ', 'RA IN ', 'MT OS ', 'CB NA ', 'MT OS ', 'NE NA ', 'CB NA ', 'MT OS ', 'NE NA ', 'EB IG ', 'DT IN ', 'NE NA ', 'DS IG ', 'OA NA ', 'MT OS ', 'MT OS RV OP ', 'DS IG ', 'NE NA ', 'DS IG ', 'MT OS ', 'NE NA ', 'EB IG ', 'NE NA ', 'IN  ', 'RV OP ', 'DF ID ', 'TB NA ', 'OB OP ', 'DF ID ', 'OB OP ', 'EN IN ', 'DS IG ', 'MT OS ', 'OA NA ', 'MT OS ', 'NA  ', 'PB NA ', 'MT OS ', 'DT IN ', 'NE NA ', 'OB OP DT IN ', 'DS IG ', 'PB NA ', 'RS OP ', 'DF ID ', 'DT IN ', 'RV OP ', 'MT OS ', 'DS IG ', 'RV OP ', 'DF ID ', 'DF ID ', 'SR NA ', 'IN  ', 'NE NA ', 'DT IN ', 'QA ID ', 'NE NA RV OP ', 'DF ID ', 'OB OP ', 'RV OP ', 'DF ID ', 'NA  ', 'DS IG ', 'NE NA DS IG ', 'DS IG ', 'DF ID ', 'MT OS ', 'RE HI ', 'MT OS RV OP ', 'DT IN ', 'MT OS ', 'RS OP ', 'DT IN ', 'OA NA ', 'MT OS ', 'RS OP ', 'PB NA ', 'MT OS ', 'DF ID ', 'NE NA ', 'PB NA ', 'NE NA ', 'HI  ', 'CB NA ', 'ID  ', 'SR NA ', 'EN IN ', 'MT OS ', 'PB NA ', 'MT OS ', 'NE NA ', 'DS IG ', 'RS OP ', 'DP IN DS IG ', 'DT IN ', 'MT OS ', 'DS IG ', 'MT OS ', 'MT OS ', 'CB NA ', 'CB NA ', 'MT OS ', 'DS IG ', 'RV OP ', 'EN IN ', 'FC NA ', 'IN  ', 'PB NA ', 'IB IN ', 'DF ID ', 'PB NA ', 'DS IG ', 'DS IG ', 'MT OS ', 'RV OP ', 'TB NA ', 'TB NA ', 'NA  ', 'MT OS ', 'MT OS ', 'PB NA ', 'MT OS ', 'NE NA ', 'DF ID ', 'ID  ', 'DS IG ', 'NE NA ', 'IP IG ', 'DS IG ', 'MT OS ', 'DT IN ', 'RS OP ', 'HI  ', 'NE NA ', 'DS IG ', 'NE NA ', 'DS IG ', 'RS OP ', 'PB NA ', 'OB OP ', 'DS IG ', 'FA IN ', 'OB OP ', 'MT OS RV OP ', 'SR NA ', 'PB NA ', 'DS IG ', 'DS IG ']\n"
          ],
          "name": "stdout"
        }
      ]
    },
    {
      "cell_type": "code",
      "metadata": {
        "id": "iSsSZxtB5pG7",
        "colab_type": "code",
        "outputId": "9e9afeb9-d5b2-4689-c769-594a1656dbf1",
        "colab": {
          "base_uri": "https://localhost:8080/",
          "height": 362
        }
      },
      "source": [
        "# -=* Turns class labels into integers *=-\n",
        "\n",
        "from sklearn.preprocessing import LabelEncoder\n",
        "\n",
        "label_encoder = LabelEncoder() #\n",
        "class_numbers = label_encoder.fit_transform(classes)\n",
        "\n",
        "print(\"class_numbers shape=\", class_numbers.shape)\n",
        "print(\"class labels\", label_encoder.classes_) \n",
        "print(\"class numbers\", class_numbers) "
      ],
      "execution_count": 4,
      "outputs": [
        {
          "output_type": "stream",
          "text": [
            "class_numbers shape= (5295,)\n",
            "class labels ['AV OP ' 'AV OP DS IG ' 'CB NA ' 'CB NA DS IG ' 'CB NA HI  '\n",
            " 'CB NA IP IG ' 'CB NA RV OP ' 'CB NA SR NA ' 'CM IN ' 'DF ID '\n",
            " 'DF ID FC NA ' 'DF ID HI  ' 'DF ID RE HI ' 'DP IN ' 'DP IN CB NA '\n",
            " 'DP IN DS IG ' 'DP IN EN IN ' 'DP IN FC NA ' 'DP IN IP IG ' 'DP IN NA  '\n",
            " 'DS IG ' 'DS IG HI  ' 'DS IG IN  ' 'DS IG OB OP ' 'DS IG RV OP ' 'DT IN '\n",
            " 'DT IN AV OP ' 'DT IN FC NA ' 'DT IN HI  ' 'DT IN NE NA ' 'DT IN RV OP '\n",
            " 'EB IG ' 'EN IN ' 'EN IN FC NA ' 'EN IN HI  ' 'EN IN IP IG ' 'FA IN '\n",
            " 'FC NA ' 'FC NA ID  ' 'FS SP ' 'HA NA ' 'HA NA DP IN ' 'HA NA DS IG '\n",
            " 'HA NA PB NA ' 'HI  ' 'HI  DS IG ' 'HI  DT IN ' 'HI  EN IN ' 'HI  LT IN '\n",
            " 'HI  NE NA ' 'IB IN ' 'IB IN AV OP ' 'IB IN CB NA ' 'ID  ' 'ID  FC NA '\n",
            " 'IN  ' 'IN  HI  ' 'IP IG ' 'IT SP ' 'JD IN ' 'LT IN ' 'MT OS '\n",
            " 'MT OS DS IG ' 'MT OS DT IN ' 'MT OS EN IN ' 'MT OS RV OP ' 'NA  '\n",
            " 'NE NA ' 'NE NA DS IG ' 'NE NA HI  ' 'NE NA IP IG ' 'NE NA RV OP '\n",
            " 'OA NA ' 'OA NA DP IN ' 'OA NA DS IG ' 'OA NA HI  ' 'OA NA OP  '\n",
            " 'OA NA RV OP ' 'OB OP ' 'OB OP DT IN ' 'OB OP RE HI ' 'OP  ' 'PB NA '\n",
            " 'PB NA DS IG ' 'PB NA IB IN ' 'PB NA RE HI ' 'PB NA RV OP ' 'PO LY '\n",
            " 'PO LY RV OP ' 'QA ID ' 'RA IN ' 'RE HI ' 'RP IN ' 'RS OP ' 'RV OP '\n",
            " 'RV OP DS IG ' 'RV OP MT OS ' 'SR NA ' 'SR NA DS IG ' 'TB NA ']\n",
            "class numbers [82 61 61 ... 82 20 20]\n"
          ],
          "name": "stdout"
        }
      ]
    },
    {
      "cell_type": "code",
      "metadata": {
        "id": "E9CDa9j6vVEf",
        "colab_type": "code",
        "colab": {}
      },
      "source": [
        "# -=* Helper funtions *=-\n",
        "\n",
        "import matplotlib.pyplot as plt\n",
        "def plot_history(history):\n",
        "    train_metric = 'acc' if 'acc' in history.history else 'accuracy'\n",
        "    val_metric = 'val_acc' if 'val_acc' in history.history else 'val_accuracy'\n",
        "    print(\"History:\", history.history[val_metric])\n",
        "    print(\"Max accuracy:\", max(history.history[val_metric]))\n",
        "    y_min = min(history.history[train_metric] + history.history[val_metric])\n",
        "    y_max = max(history.history[train_metric] + history.history[val_metric])\n",
        "    plt.ylim(max(y_min-0.1, 0.0), min(y_max+0.1, 1.0))\n",
        "    plt.plot(history.history[val_metric],'b', label=\"Validation accuracy\")\n",
        "    plt.plot(history.history[train_metric], 'bo',label=\"Training accuracy\")\n",
        "    plt.legend()\n",
        "    plt.show()\n",
        "\n",
        "def plot_history_loss(history):\n",
        "    print(\"History:\", history.history['val_loss'])\n",
        "    print(\"Min loss:\", min(history.history['val_loss']))\n",
        "    y_min = min(history.history['loss'] + history.history['val_loss'])\n",
        "    y_max = max(history.history['loss'] + history.history['val_loss'])\n",
        "    plt.ylim(max(y_min-0.1, 0.0), min(y_max+0.1, 1.0))\n",
        "    plt.plot(history.history['val_loss'],'b', label=\"Validation loss\")\n",
        "    plt.plot(history.history['loss'], 'bo',label=\"Training loss\")\n",
        "    plt.legend()\n",
        "    plt.show()\n",
        "\n",
        "# BoW\n",
        "from tensorflow.python.keras.layers import Dense, Input\n",
        "from tensorflow.python.keras.models import Model\n",
        "\n",
        "def build_bow_model(feature_matrix, label_encoder, nodes=200):\n",
        "    doc_count, feature_count = feature_matrix.shape\n",
        "    class_count=len(label_encoder.classes_)\n",
        "    inp=Input(shape=(feature_count,))\n",
        "    hidden=Dense(nodes,activation=\"tanh\")(inp)\n",
        "    output=Dense(class_count,activation=\"softmax\")(hidden)\n",
        "    return Model(inputs=[inp], outputs=[output])\n",
        "\n"
      ],
      "execution_count": 0,
      "outputs": []
    },
    {
      "cell_type": "markdown",
      "metadata": {
        "id": "avbQbNSQqFhT",
        "colab_type": "text"
      },
      "source": [
        " ### Milestone 1.1: Bag-of-words classifier (multi-class)\n"
      ]
    },
    {
      "cell_type": "markdown",
      "metadata": {
        "id": "-iQdVz9SqFhX",
        "colab_type": "text"
      },
      "source": [
        "Train a bag-of-words classifier to predict the register categories. In this milestone, the setting is multi-class, so the register label combinations form the classes, e.g. NA_NE and NA_NE_OP_OB. Evaluate your model and report your results with different hyperparameters.\n"
      ]
    },
    {
      "cell_type": "code",
      "metadata": {
        "id": "0mrG30gC40Iy",
        "colab_type": "code",
        "outputId": "82085a3d-1ee1-47c6-ef9a-eeb76a974f2e",
        "colab": {
          "base_uri": "https://localhost:8080/",
          "height": 86
        }
      },
      "source": [
        "# -=* Vectorize Documents into Vectors (a feature matrix) *=-\n",
        "\n",
        "from keras.preprocessing.text import Tokenizer\n",
        "tokenizer = Tokenizer(num_words=100000, lower=True, split=' ', char_level=False)\n",
        "tokenizer.fit_on_texts(docs)\n",
        "#print(f'Vocabulary: {list(tokenizer.word_index.keys())}')\n",
        "\n",
        "feature_matrix = tokenizer.texts_to_matrix(docs, mode='count')\n",
        "\n",
        "print(\"Shape=\",feature_matrix.shape)\n",
        "print(type(feature_matrix))\n",
        "print(feature_matrix[0,0:5])\n"
      ],
      "execution_count": 6,
      "outputs": [
        {
          "output_type": "stream",
          "text": [
            "Using TensorFlow backend.\n"
          ],
          "name": "stderr"
        },
        {
          "output_type": "stream",
          "text": [
            "Shape= (5295, 100000)\n",
            "<class 'numpy.ndarray'>\n",
            "[0. 5. 2. 2. 1.]\n"
          ],
          "name": "stdout"
        }
      ]
    },
    {
      "cell_type": "code",
      "metadata": {
        "id": "mLCCorCGJqKu",
        "colab_type": "code",
        "outputId": "066b19ff-b8c8-4bab-e1ce-0cfefeef68a6",
        "colab": {
          "base_uri": "https://localhost:8080/",
          "height": 207
        }
      },
      "source": [
        "from pprint import pprint    # pretty-printer\n",
        "\n",
        "def truncate_dict(d, count=10):\n",
        "    # Returns at most count items from the given dictionary.  \n",
        "    return dict(i for i, _ in zip(d.items(), range(count)))\n",
        "\n",
        "# Check if 0 is in the index, and print examples of the mapping\n",
        "print(tokenizer.word_index.get(0))\n",
        "pprint(truncate_dict(tokenizer.word_index))"
      ],
      "execution_count": 7,
      "outputs": [
        {
          "output_type": "stream",
          "text": [
            "None\n",
            "{'ei': 3,\n",
            " 'että': 4,\n",
            " 'ja': 1,\n",
            " 'kun': 9,\n",
            " 'mutta': 8,\n",
            " 'oli': 7,\n",
            " 'on': 2,\n",
            " 'ovat': 10,\n",
            " 'se': 6,\n",
            " 'tai': 5}\n"
          ],
          "name": "stdout"
        }
      ]
    },
    {
      "cell_type": "code",
      "metadata": {
        "id": "ZuBJ9JCk7i0p",
        "colab_type": "code",
        "outputId": "ea918c0e-abd0-49e0-f56c-92e5760ad28a",
        "colab": {
          "base_uri": "https://localhost:8080/",
          "height": 794
        }
      },
      "source": [
        "model = build_bow_model(feature_matrix, label_encoder, nodes=200)\n",
        "model.compile(optimizer=\"adam\",loss=\"sparse_categorical_crossentropy\",metrics=['accuracy'])\n",
        "print(model.summary())\n",
        "hist = model.fit(feature_matrix, class_numbers, batch_size=100, verbose=1, epochs=15, validation_split=0.1)"
      ],
      "execution_count": 8,
      "outputs": [
        {
          "output_type": "stream",
          "text": [
            "Model: \"model\"\n",
            "_________________________________________________________________\n",
            "Layer (type)                 Output Shape              Param #   \n",
            "=================================================================\n",
            "input_1 (InputLayer)         [(None, 100000)]          0         \n",
            "_________________________________________________________________\n",
            "dense (Dense)                (None, 200)               20000200  \n",
            "_________________________________________________________________\n",
            "dense_1 (Dense)              (None, 100)               20100     \n",
            "=================================================================\n",
            "Total params: 20,020,300\n",
            "Trainable params: 20,020,300\n",
            "Non-trainable params: 0\n",
            "_________________________________________________________________\n",
            "None\n",
            "Epoch 1/15\n",
            "48/48 [==============================] - 2s 38ms/step - loss: 2.4628 - accuracy: 0.4789 - val_loss: 1.8270 - val_accuracy: 0.5925\n",
            "Epoch 2/15\n",
            "48/48 [==============================] - 2s 32ms/step - loss: 0.5703 - accuracy: 0.9215 - val_loss: 1.7253 - val_accuracy: 0.6057\n",
            "Epoch 3/15\n",
            "48/48 [==============================] - 2s 32ms/step - loss: 0.1846 - accuracy: 0.9880 - val_loss: 1.7411 - val_accuracy: 0.6057\n",
            "Epoch 4/15\n",
            "48/48 [==============================] - 2s 32ms/step - loss: 0.0821 - accuracy: 0.9950 - val_loss: 1.7298 - val_accuracy: 0.6113\n",
            "Epoch 5/15\n",
            "48/48 [==============================] - 2s 32ms/step - loss: 0.0458 - accuracy: 0.9958 - val_loss: 1.7636 - val_accuracy: 0.6019\n",
            "Epoch 6/15\n",
            "48/48 [==============================] - 2s 32ms/step - loss: 0.0313 - accuracy: 0.9964 - val_loss: 1.7637 - val_accuracy: 0.6113\n",
            "Epoch 7/15\n",
            "48/48 [==============================] - 2s 32ms/step - loss: 0.0228 - accuracy: 0.9966 - val_loss: 1.7756 - val_accuracy: 0.6094\n",
            "Epoch 8/15\n",
            "48/48 [==============================] - 2s 32ms/step - loss: 0.0184 - accuracy: 0.9973 - val_loss: 1.7887 - val_accuracy: 0.6019\n",
            "Epoch 9/15\n",
            "48/48 [==============================] - 2s 32ms/step - loss: 0.0151 - accuracy: 0.9969 - val_loss: 1.8104 - val_accuracy: 0.5943\n",
            "Epoch 10/15\n",
            "48/48 [==============================] - 2s 32ms/step - loss: 0.0135 - accuracy: 0.9969 - val_loss: 1.8235 - val_accuracy: 0.6019\n",
            "Epoch 11/15\n",
            "48/48 [==============================] - 2s 32ms/step - loss: 0.0118 - accuracy: 0.9977 - val_loss: 1.8299 - val_accuracy: 0.6000\n",
            "Epoch 12/15\n",
            "48/48 [==============================] - 2s 32ms/step - loss: 0.0097 - accuracy: 0.9981 - val_loss: 1.8405 - val_accuracy: 0.6000\n",
            "Epoch 13/15\n",
            "48/48 [==============================] - 2s 32ms/step - loss: 0.0086 - accuracy: 0.9981 - val_loss: 1.8508 - val_accuracy: 0.5962\n",
            "Epoch 14/15\n",
            "48/48 [==============================] - 2s 32ms/step - loss: 0.0081 - accuracy: 0.9977 - val_loss: 1.8647 - val_accuracy: 0.5925\n",
            "Epoch 15/15\n",
            "48/48 [==============================] - 1s 30ms/step - loss: 0.0071 - accuracy: 0.9983 - val_loss: 1.8763 - val_accuracy: 0.5906\n"
          ],
          "name": "stdout"
        }
      ]
    },
    {
      "cell_type": "code",
      "metadata": {
        "id": "1Md7eCJZK2tN",
        "colab_type": "code",
        "outputId": "e0500702-4741-4cc9-d480-6b03ade25d20",
        "colab": {
          "base_uri": "https://localhost:8080/",
          "height": 610
        }
      },
      "source": [
        "plot_history(hist)\n",
        "plot_history_loss(hist)"
      ],
      "execution_count": 9,
      "outputs": [
        {
          "output_type": "stream",
          "text": [
            "History: [0.5924528241157532, 0.6056603789329529, 0.6056603789329529, 0.6113207340240479, 0.6018868088722229, 0.6113207340240479, 0.6094339489936829, 0.6018868088722229, 0.5943396091461182, 0.6018868088722229, 0.6000000238418579, 0.6000000238418579, 0.5962263941764832, 0.5924528241157532, 0.5905660390853882]\n",
            "Max accuracy: 0.6113207340240479\n"
          ],
          "name": "stdout"
        },
        {
          "output_type": "display_data",
          "data": {
            "image/png": "[encoded data removed]",
            "text/plain": [
              "<Figure size 432x288 with 1 Axes>"
            ]
          },
          "metadata": {
            "tags": [],
            "needs_background": "light"
          }
        },
        {
          "output_type": "stream",
          "text": [
            "History: [1.8270245790481567, 1.7253457307815552, 1.7410582304000854, 1.7298002243041992, 1.7636375427246094, 1.7636677026748657, 1.7756118774414062, 1.7886849641799927, 1.8104034662246704, 1.8234668970108032, 1.829935908317566, 1.8404699563980103, 1.8507674932479858, 1.8647136688232422, 1.876289963722229]\n",
            "Max loss: 1.876289963722229\n"
          ],
          "name": "stdout"
        },
        {
          "output_type": "display_data",
          "data": {
            "image/png": "[encoded data removed]",
            "text/plain": [
              "<Figure size 432x288 with 1 Axes>"
            ]
          },
          "metadata": {
            "tags": [],
            "needs_background": "light"
          }
        }
      ]
    },
    {
      "cell_type": "markdown",
      "metadata": {
        "id": "xQMNGVNWwVU6",
        "colab_type": "text"
      },
      "source": [
        "BoW scoring with Term Frequency - Inverse Document Frequency"
      ]
    },
    {
      "cell_type": "code",
      "metadata": {
        "id": "WAB587luv0tz",
        "colab_type": "code",
        "outputId": "059b910b-7d7e-4d2c-eb5c-ee35c0839114",
        "colab": {
          "base_uri": "https://localhost:8080/",
          "height": 68
        }
      },
      "source": [
        "feature_matrix = tokenizer.texts_to_matrix(docs, mode='tfidf')\n",
        "print(\"Shape=\",feature_matrix.shape)\n",
        "print(type(feature_matrix))\n",
        "print(feature_matrix[0,0:5])"
      ],
      "execution_count": 10,
      "outputs": [
        {
          "output_type": "stream",
          "text": [
            "Shape= (5295, 100000)\n",
            "<class 'numpy.ndarray'>\n",
            "[0.         1.83295904 1.21727852 1.49631475 0.89169053]\n"
          ],
          "name": "stdout"
        }
      ]
    },
    {
      "cell_type": "code",
      "metadata": {
        "id": "huytZGZMv0sk",
        "colab_type": "code",
        "outputId": "05389f17-acf2-47a0-8984-523f9fdac5ee",
        "colab": {
          "base_uri": "https://localhost:8080/",
          "height": 794
        }
      },
      "source": [
        "model = build_bow_model(feature_matrix, label_encoder, nodes=200)\n",
        "model.compile(optimizer=\"adam\",loss=\"sparse_categorical_crossentropy\",metrics=['accuracy'])\n",
        "print(model.summary())\n",
        "# Fit\n",
        "hist = model.fit(feature_matrix, class_numbers, batch_size=100, verbose=1, epochs=15, validation_split=0.1)\n"
      ],
      "execution_count": 11,
      "outputs": [
        {
          "output_type": "stream",
          "text": [
            "Model: \"model_1\"\n",
            "_________________________________________________________________\n",
            "Layer (type)                 Output Shape              Param #   \n",
            "=================================================================\n",
            "input_2 (InputLayer)         [(None, 100000)]          0         \n",
            "_________________________________________________________________\n",
            "dense_2 (Dense)              (None, 200)               20000200  \n",
            "_________________________________________________________________\n",
            "dense_3 (Dense)              (None, 100)               20100     \n",
            "=================================================================\n",
            "Total params: 20,020,300\n",
            "Trainable params: 20,020,300\n",
            "Non-trainable params: 0\n",
            "_________________________________________________________________\n",
            "None\n",
            "Epoch 1/15\n",
            "48/48 [==============================] - 2s 46ms/step - loss: 2.2272 - accuracy: 0.4974 - val_loss: 1.7166 - val_accuracy: 0.5962\n",
            "Epoch 2/15\n",
            "48/48 [==============================] - 2s 42ms/step - loss: 0.0986 - accuracy: 0.9843 - val_loss: 1.7327 - val_accuracy: 0.6000\n",
            "Epoch 3/15\n",
            "48/48 [==============================] - 2s 42ms/step - loss: 0.0308 - accuracy: 0.9941 - val_loss: 1.7311 - val_accuracy: 0.6038\n",
            "Epoch 4/15\n",
            "48/48 [==============================] - 2s 42ms/step - loss: 0.0185 - accuracy: 0.9956 - val_loss: 1.7484 - val_accuracy: 0.5981\n",
            "Epoch 5/15\n",
            "48/48 [==============================] - 2s 43ms/step - loss: 0.0144 - accuracy: 0.9960 - val_loss: 1.7677 - val_accuracy: 0.5943\n",
            "Epoch 6/15\n",
            "48/48 [==============================] - 2s 43ms/step - loss: 0.0107 - accuracy: 0.9973 - val_loss: 1.7825 - val_accuracy: 0.5981\n",
            "Epoch 7/15\n",
            "48/48 [==============================] - 2s 43ms/step - loss: 0.0093 - accuracy: 0.9973 - val_loss: 1.7983 - val_accuracy: 0.5962\n",
            "Epoch 8/15\n",
            "48/48 [==============================] - 2s 43ms/step - loss: 0.0080 - accuracy: 0.9975 - val_loss: 1.8147 - val_accuracy: 0.5981\n",
            "Epoch 9/15\n",
            "48/48 [==============================] - 2s 39ms/step - loss: 0.0076 - accuracy: 0.9977 - val_loss: 1.8292 - val_accuracy: 0.5925\n",
            "Epoch 10/15\n",
            "48/48 [==============================] - 2s 42ms/step - loss: 0.0068 - accuracy: 0.9981 - val_loss: 1.8411 - val_accuracy: 0.5962\n",
            "Epoch 11/15\n",
            "48/48 [==============================] - 2s 42ms/step - loss: 0.0067 - accuracy: 0.9979 - val_loss: 1.8518 - val_accuracy: 0.5962\n",
            "Epoch 12/15\n",
            "48/48 [==============================] - 2s 43ms/step - loss: 0.0065 - accuracy: 0.9983 - val_loss: 1.8604 - val_accuracy: 0.5943\n",
            "Epoch 13/15\n",
            "48/48 [==============================] - 2s 40ms/step - loss: 0.0070 - accuracy: 0.9981 - val_loss: 1.8719 - val_accuracy: 0.5925\n",
            "Epoch 14/15\n",
            "48/48 [==============================] - 2s 43ms/step - loss: 0.0061 - accuracy: 0.9977 - val_loss: 1.8790 - val_accuracy: 0.5943\n",
            "Epoch 15/15\n",
            "48/48 [==============================] - 2s 41ms/step - loss: 0.0057 - accuracy: 0.9985 - val_loss: 1.8826 - val_accuracy: 0.5906\n"
          ],
          "name": "stdout"
        }
      ]
    },
    {
      "cell_type": "code",
      "metadata": {
        "id": "W5PsOTwvw0u9",
        "colab_type": "code",
        "colab": {
          "base_uri": "https://localhost:8080/",
          "height": 610
        },
        "outputId": "651c267e-e11a-44f9-e6a5-c83e215d2a11"
      },
      "source": [
        "plot_history(hist)\n",
        "plot_history_loss(hist)"
      ],
      "execution_count": 12,
      "outputs": [
        {
          "output_type": "stream",
          "text": [
            "History: [0.5962263941764832, 0.6000000238418579, 0.6037735939025879, 0.5981131792068481, 0.5943396091461182, 0.5981131792068481, 0.5962263941764832, 0.5981131792068481, 0.5924528241157532, 0.5962263941764832, 0.5962263941764832, 0.5943396091461182, 0.5924528241157532, 0.5943396091461182, 0.5905660390853882]\n",
            "Max accuracy: 0.6037735939025879\n"
          ],
          "name": "stdout"
        },
        {
          "output_type": "display_data",
          "data": {
            "image/png": "[encoded data removed]",
            "text/plain": [
              "<Figure size 432x288 with 1 Axes>"
            ]
          },
          "metadata": {
            "tags": [],
            "needs_background": "light"
          }
        },
        {
          "output_type": "stream",
          "text": [
            "History: [1.7165838479995728, 1.7326956987380981, 1.7311121225357056, 1.748432993888855, 1.7677358388900757, 1.7824783325195312, 1.7982758283615112, 1.8147153854370117, 1.829222559928894, 1.841086983680725, 1.8517869710922241, 1.860405445098877, 1.871895432472229, 1.8790264129638672, 1.8826290369033813]\n",
            "Max loss: 1.8826290369033813\n"
          ],
          "name": "stdout"
        },
        {
          "output_type": "display_data",
          "data": {
            "image/png": "[encoded data removed]",
            "text/plain": [
              "<Figure size 432x288 with 1 Axes>"
            ]
          },
          "metadata": {
            "tags": [],
            "needs_background": "light"
          }
        }
      ]
    },
    {
      "cell_type": "markdown",
      "metadata": {
        "id": "g-Vyj_QExF7k",
        "colab_type": "text"
      },
      "source": [
        "BoW binary scoring of the presence of absence of words"
      ]
    },
    {
      "cell_type": "code",
      "metadata": {
        "id": "D5wKa_uxw-27",
        "colab_type": "code",
        "colab": {
          "base_uri": "https://localhost:8080/",
          "height": 68
        },
        "outputId": "3715b0e8-9ade-4645-c63b-aa915d1e3846"
      },
      "source": [
        "feature_matrix = tokenizer.texts_to_matrix(docs, mode='binary')\n",
        "print(\"Shape=\",feature_matrix.shape)\n",
        "print(type(feature_matrix))\n",
        "print(feature_matrix[0,0:5])"
      ],
      "execution_count": 13,
      "outputs": [
        {
          "output_type": "stream",
          "text": [
            "Shape= (5295, 100000)\n",
            "<class 'numpy.ndarray'>\n",
            "[0. 1. 1. 1. 1.]\n"
          ],
          "name": "stdout"
        }
      ]
    },
    {
      "cell_type": "code",
      "metadata": {
        "id": "tPrjncFrxfTK",
        "colab_type": "code",
        "colab": {
          "base_uri": "https://localhost:8080/",
          "height": 794
        },
        "outputId": "44566566-d1d4-4e26-cb89-d690e40fe215"
      },
      "source": [
        "model = build_bow_model(feature_matrix, label_encoder, nodes=200)\n",
        "model.compile(optimizer=\"adam\",loss=\"sparse_categorical_crossentropy\",metrics=['accuracy'])\n",
        "print(model.summary())\n",
        "# Fit\n",
        "hist = model.fit(feature_matrix, class_numbers, batch_size=100, verbose=1, epochs=15, validation_split=0.1)\n"
      ],
      "execution_count": 14,
      "outputs": [
        {
          "output_type": "stream",
          "text": [
            "Model: \"model_2\"\n",
            "_________________________________________________________________\n",
            "Layer (type)                 Output Shape              Param #   \n",
            "=================================================================\n",
            "input_3 (InputLayer)         [(None, 100000)]          0         \n",
            "_________________________________________________________________\n",
            "dense_4 (Dense)              (None, 200)               20000200  \n",
            "_________________________________________________________________\n",
            "dense_5 (Dense)              (None, 100)               20100     \n",
            "=================================================================\n",
            "Total params: 20,020,300\n",
            "Trainable params: 20,020,300\n",
            "Non-trainable params: 0\n",
            "_________________________________________________________________\n",
            "None\n",
            "Epoch 1/15\n",
            "48/48 [==============================] - 2s 37ms/step - loss: 2.5221 - accuracy: 0.4739 - val_loss: 1.8846 - val_accuracy: 0.5849\n",
            "Epoch 2/15\n",
            "48/48 [==============================] - 2s 35ms/step - loss: 0.5966 - accuracy: 0.9125 - val_loss: 1.7843 - val_accuracy: 0.6057\n",
            "Epoch 3/15\n",
            "48/48 [==============================] - 2s 36ms/step - loss: 0.1781 - accuracy: 0.9872 - val_loss: 1.7923 - val_accuracy: 0.5906\n",
            "Epoch 4/15\n",
            "48/48 [==============================] - 2s 35ms/step - loss: 0.0751 - accuracy: 0.9956 - val_loss: 1.8045 - val_accuracy: 0.6000\n",
            "Epoch 5/15\n",
            "48/48 [==============================] - 2s 35ms/step - loss: 0.0433 - accuracy: 0.9962 - val_loss: 1.8220 - val_accuracy: 0.5962\n",
            "Epoch 6/15\n",
            "48/48 [==============================] - 2s 36ms/step - loss: 0.0271 - accuracy: 0.9973 - val_loss: 1.8392 - val_accuracy: 0.5981\n",
            "Epoch 7/15\n",
            "48/48 [==============================] - 2s 36ms/step - loss: 0.0202 - accuracy: 0.9975 - val_loss: 1.8533 - val_accuracy: 0.5887\n",
            "Epoch 8/15\n",
            "48/48 [==============================] - 2s 36ms/step - loss: 0.0148 - accuracy: 0.9981 - val_loss: 1.8636 - val_accuracy: 0.5906\n",
            "Epoch 9/15\n",
            "48/48 [==============================] - 2s 36ms/step - loss: 0.0145 - accuracy: 0.9975 - val_loss: 1.8779 - val_accuracy: 0.5849\n",
            "Epoch 10/15\n",
            "48/48 [==============================] - 2s 37ms/step - loss: 0.0113 - accuracy: 0.9983 - val_loss: 1.8897 - val_accuracy: 0.5887\n",
            "Epoch 11/15\n",
            "48/48 [==============================] - 2s 35ms/step - loss: 0.0091 - accuracy: 0.9985 - val_loss: 1.8998 - val_accuracy: 0.5887\n",
            "Epoch 12/15\n",
            "48/48 [==============================] - 2s 36ms/step - loss: 0.0094 - accuracy: 0.9977 - val_loss: 1.9102 - val_accuracy: 0.5887\n",
            "Epoch 13/15\n",
            "48/48 [==============================] - 2s 36ms/step - loss: 0.0083 - accuracy: 0.9977 - val_loss: 1.9212 - val_accuracy: 0.5887\n",
            "Epoch 14/15\n",
            "48/48 [==============================] - 2s 36ms/step - loss: 0.0074 - accuracy: 0.9979 - val_loss: 1.9304 - val_accuracy: 0.5849\n",
            "Epoch 15/15\n",
            "48/48 [==============================] - 2s 32ms/step - loss: 0.0074 - accuracy: 0.9977 - val_loss: 1.9336 - val_accuracy: 0.5849\n"
          ],
          "name": "stdout"
        }
      ]
    },
    {
      "cell_type": "code",
      "metadata": {
        "id": "zR_exVsRTZ4J",
        "colab_type": "code",
        "colab": {
          "base_uri": "https://localhost:8080/",
          "height": 610
        },
        "outputId": "0f9f8069-b18d-498d-acbc-eaa349a8302b"
      },
      "source": [
        "plot_history(hist)\n",
        "plot_history_loss(hist)"
      ],
      "execution_count": 15,
      "outputs": [
        {
          "output_type": "stream",
          "text": [
            "History: [0.5849056839942932, 0.6056603789329529, 0.5905660390853882, 0.6000000238418579, 0.5962263941764832, 0.5981131792068481, 0.5886792540550232, 0.5905660390853882, 0.5849056839942932, 0.5886792540550232, 0.5886792540550232, 0.5886792540550232, 0.5886792540550232, 0.5849056839942932, 0.5849056839942932]\n",
            "Max accuracy: 0.6056603789329529\n"
          ],
          "name": "stdout"
        },
        {
          "output_type": "display_data",
          "data": {
            "image/png": "[encoded data removed]",
            "text/plain": [
              "<Figure size 432x288 with 1 Axes>"
            ]
          },
          "metadata": {
            "tags": [],
            "needs_background": "light"
          }
        },
        {
          "output_type": "stream",
          "text": [
            "History: [1.8846150636672974, 1.7843408584594727, 1.7923107147216797, 1.8045120239257812, 1.8219510316848755, 1.8391742706298828, 1.8532768487930298, 1.8635715246200562, 1.8778740167617798, 1.8896656036376953, 1.8997992277145386, 1.910180926322937, 1.9212394952774048, 1.9304014444351196, 1.9336048364639282]\n",
            "Max loss: 1.9336048364639282\n"
          ],
          "name": "stdout"
        },
        {
          "output_type": "display_data",
          "data": {
            "image/png": "[encoded data removed]",
            "text/plain": [
              "<Figure size 432x288 with 1 Axes>"
            ]
          },
          "metadata": {
            "tags": [],
            "needs_background": "light"
          }
        }
      ]
    },
    {
      "cell_type": "markdown",
      "metadata": {
        "colab_type": "text",
        "id": "g4SwfPF4Di4k"
      },
      "source": [
        " ### Milestone 1.2: Recurrent Neural Network Classifier (multi-class)\n"
      ]
    },
    {
      "cell_type": "code",
      "metadata": {
        "id": "Ls42Q26CJ3WH",
        "colab_type": "code",
        "colab": {
          "base_uri": "https://localhost:8080/",
          "height": 106
        },
        "outputId": "e30e4737-10d1-4e0f-9b86-f43bf74713c7"
      },
      "source": [
        "import numpy as np\n",
        "\n",
        "sequences = tokenizer.texts_to_sequences(docs)\n",
        "\n",
        "# Print an example text, its corresponding sequence, and the tokens it represents\n",
        "print('Text:', docs[0][:100])\n",
        "print('Sequence:', sequences[0])\n",
        "print('Mapped back:', [tokenizer.index_word[i] for i in sequences[0][:10]])\n",
        "\n",
        "lengths = [len(s) for s in sequences]\n",
        "print('Lengths:', lengths[:10], 'min:', min(lengths), 'max:', max(lengths), 'mean:', np.mean(lengths))\n"
      ],
      "execution_count": 16,
      "outputs": [
        {
          "output_type": "stream",
          "text": [
            "Text:  Tämähän menee ihan hurjaksi muotihurjasteluksi . Jo toistamiseen tälle syksylle postauksen aiheena \n",
            "Sequence: [7925, 422, 79, 61946, 32, 11697, 1228, 61947, 9460, 6369, 24166, 8, 24, 806, 2676, 76570, 1, 7926, 23, 307, 1109, 203, 76571, 887, 15340, 260, 10474, 883, 1, 176, 8460, 424, 27734, 27734, 46, 181, 2, 236, 4020, 164, 52482, 18352, 1, 46, 9461, 2561, 45347, 764, 237, 13, 549, 1401, 111, 214, 76, 2, 794, 531, 3, 4282, 65, 1401, 549, 992, 20231, 3, 68, 4282, 65, 98, 476, 356, 119, 202, 4410, 1907, 25847, 19, 9461, 826, 40282, 1318, 7057, 4, 28, 24, 1, 76572, 703, 76573, 341, 159, 1858, 55, 61948, 34, 15341, 7764, 127, 3964, 4283, 4944, 36096, 119, 127, 3758, 5861, 1, 32703]\n",
            "Mapped back: ['tämähän', 'menee', 'ihan', 'hurjaksi', 'jo', 'toistamiseen', 'tälle', 'syksylle', 'postauksen', 'aiheena']\n",
            "Lengths: [109, 537, 605, 108, 149, 785, 399, 399, 268, 143] min: 0 max: 81038 mean: 584.7454202077431\n"
          ],
          "name": "stdout"
        }
      ]
    },
    {
      "cell_type": "code",
      "metadata": {
        "id": "h0OkZi1WKd3N",
        "colab_type": "code",
        "colab": {
          "base_uri": "https://localhost:8080/",
          "height": 68
        },
        "outputId": "0a342fda-651f-4bed-b67c-a4f1c27ece4a"
      },
      "source": [
        "# https://github.com/TurkuNLP/Deep_Learning_in_LangTech_course/blob/master/rnn_text_classification.ipynb\n",
        "\n",
        "from tensorflow.keras.preprocessing.sequence import pad_sequences\n",
        "\n",
        "# The padding and truncating parameters default to 'pre', i.e. aligning\n",
        "# the end of the input with the end of the padded sequence. With 'post',\n",
        "# we're here aligning the beginning instead.\n",
        "\n",
        "post_padded_X = pad_sequences(\n",
        "    sequences,\n",
        "    maxlen=250,\n",
        "    padding='post',\n",
        "    truncating='post',\n",
        "    value=0\n",
        ")\n",
        "\n",
        "# Compare those\n",
        "print('type(sequences):', type(sequences))\n",
        "print('type(padded):', type(post_padded_X))\n",
        "print('padded.shape:', post_padded_X.shape)"
      ],
      "execution_count": 17,
      "outputs": [
        {
          "output_type": "stream",
          "text": [
            "type(sequences): <class 'list'>\n",
            "type(padded): <class 'numpy.ndarray'>\n",
            "padded.shape: (5295, 250)\n"
          ],
          "name": "stdout"
        }
      ]
    },
    {
      "cell_type": "code",
      "metadata": {
        "id": "cimF7LNDLxjJ",
        "colab_type": "code",
        "colab": {
          "base_uri": "https://localhost:8080/",
          "height": 846
        },
        "outputId": "03f0e670-0bbc-497a-d1f1-5a2069e1ce50"
      },
      "source": [
        "# https://github.com/TurkuNLP/Deep_Learning_in_LangTech_course/blob/master/rnn_text_classification.ipynb\n",
        "\n",
        "from tensorflow.keras.models import Model\n",
        "from tensorflow.keras.layers import Input, Embedding, SimpleRNN, LSTM, Dense\n",
        "\n",
        "\n",
        "def build_rnn_model(RNN_class, sequence_length, vocab_size, num_classes,\n",
        "                    embedding_dim=250, rnn_units=50, drop=0.2, rdrop=0.2):\n",
        "    input_ = Input(shape=(sequence_length,))\n",
        "    embedding = Embedding(vocab_size, embedding_dim)(input_)\n",
        "    # return_sequences=False is the default\n",
        "    rnn = RNN_class(rnn_units, return_sequences=False)(embedding)\n",
        "    #rnn = RNN_class(rnn_units, dropout=drop, recurrent_dropout=rdrop, return_sequences=False)(embedding)\n",
        "    output = Dense(num_classes, activation='softmax')(rnn)\n",
        "    return Model(inputs=[input_], outputs=[output])\n",
        "\n",
        "\n",
        "sequence_length = post_padded_X.shape[1]\n",
        "vocab_size = tokenizer.num_words\n",
        "num_classes = len(label_encoder.classes_)\n",
        "\n",
        "pre_padded_X = pad_sequences(\n",
        "    sequences,\n",
        "    maxlen=250,\n",
        "    padding='pre',\n",
        "    truncating='pre',\n",
        "    value=0\n",
        ")\n",
        "\n",
        "print('Pre-padded:')\n",
        "print(pre_padded_X[0])\n",
        "\n",
        "epochs = 13\n",
        "batch_size = 100\n",
        "lstm_model = build_rnn_model(LSTM, sequence_length, vocab_size, num_classes)\n",
        "lstm_model.compile(loss='sparse_categorical_crossentropy', optimizer='adam', metrics=['accuracy'])\n",
        "lstm_history = lstm_model.fit(pre_padded_X, class_numbers, epochs=epochs, batch_size=batch_size, validation_split=0.1)"
      ],
      "execution_count": 20,
      "outputs": [
        {
          "output_type": "stream",
          "text": [
            "Pre-padded:\n",
            "[    0     0     0     0     0     0     0     0     0     0     0     0\n",
            "     0     0     0     0     0     0     0     0     0     0     0     0\n",
            "     0     0     0     0     0     0     0     0     0     0     0     0\n",
            "     0     0     0     0     0     0     0     0     0     0     0     0\n",
            "     0     0     0     0     0     0     0     0     0     0     0     0\n",
            "     0     0     0     0     0     0     0     0     0     0     0     0\n",
            "     0     0     0     0     0     0     0     0     0     0     0     0\n",
            "     0     0     0     0     0     0     0     0     0     0     0     0\n",
            "     0     0     0     0     0     0     0     0     0     0     0     0\n",
            "     0     0     0     0     0     0     0     0     0     0     0     0\n",
            "     0     0     0     0     0     0     0     0     0     0     0     0\n",
            "     0     0     0     0     0     0     0     0     0  7925   422    79\n",
            " 61946    32 11697  1228 61947  9460  6369 24166     8    24   806  2676\n",
            " 76570     1  7926    23   307  1109   203 76571   887 15340   260 10474\n",
            "   883     1   176  8460   424 27734 27734    46   181     2   236  4020\n",
            "   164 52482 18352     1    46  9461  2561 45347   764   237    13   549\n",
            "  1401   111   214    76     2   794   531     3  4282    65  1401   549\n",
            "   992 20231     3    68  4282    65    98   476   356   119   202  4410\n",
            "  1907 25847    19  9461   826 40282  1318  7057     4    28    24     1\n",
            " 76572   703 76573   341   159  1858    55 61948    34 15341  7764   127\n",
            "  3964  4283  4944 36096   119   127  3758  5861     1 32703]\n",
            "Epoch 1/13\n",
            "48/48 [==============================] - 17s 345ms/step - loss: 3.9478 - accuracy: 0.1270 - val_loss: 3.1125 - val_accuracy: 0.1377\n",
            "Epoch 2/13\n",
            "48/48 [==============================] - 16s 339ms/step - loss: 3.1506 - accuracy: 0.1645 - val_loss: 2.9895 - val_accuracy: 0.1906\n",
            "Epoch 3/13\n",
            "48/48 [==============================] - 16s 339ms/step - loss: 2.9261 - accuracy: 0.3190 - val_loss: 2.7414 - val_accuracy: 0.2981\n",
            "Epoch 4/13\n",
            "48/48 [==============================] - 16s 338ms/step - loss: 2.5020 - accuracy: 0.3994 - val_loss: 2.6278 - val_accuracy: 0.3491\n",
            "Epoch 5/13\n",
            "48/48 [==============================] - 16s 340ms/step - loss: 2.0296 - accuracy: 0.5041 - val_loss: 2.5493 - val_accuracy: 0.3491\n",
            "Epoch 6/13\n",
            "48/48 [==============================] - 16s 339ms/step - loss: 1.6034 - accuracy: 0.6529 - val_loss: 2.6107 - val_accuracy: 0.3377\n",
            "Epoch 7/13\n",
            "48/48 [==============================] - 16s 339ms/step - loss: 1.2529 - accuracy: 0.7465 - val_loss: 2.6229 - val_accuracy: 0.3604\n",
            "Epoch 8/13\n",
            "48/48 [==============================] - 17s 353ms/step - loss: 0.9785 - accuracy: 0.8143 - val_loss: 2.7270 - val_accuracy: 0.3358\n",
            "Epoch 9/13\n",
            "48/48 [==============================] - 17s 357ms/step - loss: 0.7552 - accuracy: 0.8674 - val_loss: 2.7821 - val_accuracy: 0.3321\n",
            "Epoch 10/13\n",
            "48/48 [==============================] - 17s 351ms/step - loss: 0.5886 - accuracy: 0.9009 - val_loss: 2.8792 - val_accuracy: 0.3283\n",
            "Epoch 11/13\n",
            "48/48 [==============================] - 16s 341ms/step - loss: 0.4715 - accuracy: 0.9240 - val_loss: 2.9512 - val_accuracy: 0.3245\n",
            "Epoch 12/13\n",
            "48/48 [==============================] - 16s 341ms/step - loss: 0.3843 - accuracy: 0.9400 - val_loss: 3.0870 - val_accuracy: 0.3170\n",
            "Epoch 13/13\n",
            "48/48 [==============================] - 16s 340ms/step - loss: 0.3226 - accuracy: 0.9473 - val_loss: 3.0996 - val_accuracy: 0.3113\n"
          ],
          "name": "stdout"
        }
      ]
    },
    {
      "cell_type": "code",
      "metadata": {
        "id": "8-rMNcI-AcGn",
        "colab_type": "code",
        "colab": {
          "base_uri": "https://localhost:8080/",
          "height": 610
        },
        "outputId": "d58a536d-ae3e-4bab-c59f-3c1345cddb49"
      },
      "source": [
        "plot_history(lstm_history)\n",
        "plot_history_loss(lstm_history)"
      ],
      "execution_count": 24,
      "outputs": [
        {
          "output_type": "stream",
          "text": [
            "History: [0.13773584365844727, 0.1905660331249237, 0.2981131970882416, 0.349056601524353, 0.349056601524353, 0.3377358615398407, 0.36037737131118774, 0.3358490467071533, 0.33207547664642334, 0.32830187678337097, 0.324528306722641, 0.31698113679885864, 0.3113207519054413]\n",
            "Max accuracy: 0.36037737131118774\n"
          ],
          "name": "stdout"
        },
        {
          "output_type": "display_data",
          "data": {
            "image/png": "[encoded data removed]",
            "text/plain": [
              "<Figure size 432x288 with 1 Axes>"
            ]
          },
          "metadata": {
            "tags": [],
            "needs_background": "light"
          }
        },
        {
          "output_type": "stream",
          "text": [
            "History: [3.112462043762207, 2.989506959915161, 2.741380453109741, 2.6277828216552734, 2.54933762550354, 2.61069655418396, 2.622866630554199, 2.727015256881714, 2.782102346420288, 2.879192352294922, 2.9511547088623047, 3.087031602859497, 3.0995848178863525]\n",
            "Min loss: 2.54933762550354\n"
          ],
          "name": "stdout"
        },
        {
          "output_type": "display_data",
          "data": {
            "image/png": "[encoded data removed]",
            "text/plain": [
              "<Figure size 432x288 with 1 Axes>"
            ]
          },
          "metadata": {
            "tags": [],
            "needs_background": "light"
          }
        }
      ]
    },
    {
      "cell_type": "markdown",
      "metadata": {
        "id": "cKo94sCUqFhc",
        "colab_type": "text"
      },
      "source": [
        "## Discussion"
      ]
    },
    {
      "cell_type": "markdown",
      "metadata": {
        "id": "VkfzINSuFV6Q",
        "colab_type": "text"
      },
      "source": [
        "More hyperparameter tuning is needed for Recurrent Neural Netwroks. So far, the performance of LSTM with the current setup is quite bad especially compared to the BoW models. LSTM is good at learning long-term and ordered structure of the documents, but that approach seems not to be helpful in classifying the documents. The superior performance of BoW suggests that word occurrence in the documents is more relevant in the classifying task."
      ]
    }
  ]
}