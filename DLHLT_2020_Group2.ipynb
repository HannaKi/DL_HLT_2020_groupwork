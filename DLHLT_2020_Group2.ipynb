{
 "cells": [
  {
   "cell_type": "markdown",
   "metadata": {},
   "source": [
    "# Deep Learning in Human Language Technologies 2020\n",
    "# Text classification project"
   ]
  },
  {
   "cell_type": "markdown",
   "metadata": {},
   "source": [
    "#### Group 2: Hanna Kitti, Dang Trinh Ha, Timo Jokela\n",
    "\n",
    "Contributions:\n",
    "\n",
    "xxxx"
   ]
  },
  {
   "cell_type": "markdown",
   "metadata": {},
   "source": [
    "## Preparations"
   ]
  },
  {
   "cell_type": "markdown",
   "metadata": {},
   "source": [
    "### Imports"
   ]
  },
  {
   "cell_type": "code",
   "execution_count": 1,
   "metadata": {},
   "outputs": [],
   "source": [
    "import io\n",
    "import numpy as np\n",
    "import pandas as pd\n",
    "import pprint\n",
    "import pickle\n",
    "import seaborn as sns\n",
    "import torch\n",
    "import transformers\n",
    "\n",
    "from functools import partial\n",
    "from matplotlib import pyplot as plt\n",
    "from pathlib import Path\n",
    "from pytorch_pretrained_bert import BertTokenizer, BertConfig\n",
    "from pytorch_pretrained_bert import BertAdam, BertForSequenceClassification\n",
    "from sklearn.feature_extraction.text import CountVectorizer\n",
    "from sklearn.metrics import confusion_matrix\n",
    "from sklearn.model_selection import GridSearchCV\n",
    "from sklearn.naive_bayes import MultinomialNB\n",
    "from sklearn.preprocessing import LabelEncoder\n",
    "from sklearn.utils import class_weight\n",
    "from tensorflow.keras import optimizers\n",
    "from tensorflow.keras.callbacks import EarlyStopping, ModelCheckpoint\n",
    "from tensorflow.keras.layers import Dense, Dropout, Embedding, Input, LSTM\n",
    "from tensorflow.keras.models import Model\n",
    "from tensorflow.keras.preprocessing.sequence import pad_sequences\n",
    "from tensorflow.keras.preprocessing.text import Tokenizer\n",
    "from tensorflow.keras.wrappers.scikit_learn import KerasClassifier\n",
    "from torch.utils.data import TensorDataset, DataLoader\n",
    "from tqdm import tqdm, trange\n",
    "\n",
    "pp = pprint.PrettyPrinter(indent=4)"
   ]
  },
  {
   "cell_type": "markdown",
   "metadata": {},
   "source": [
    "### Dataset"
   ]
  },
  {
   "cell_type": "markdown",
   "metadata": {},
   "source": [
    "Data split\n",
    "\n",
    "- Training set: used for training the models\n",
    "- Validation (or model assessment) set: when comparing\n",
    "different models trained on training set, select one with lowest\n",
    "error on validation set\n",
    "- Test set: test the final hypothesis on test set to get unbiased\n",
    "error estimate for it\n",
    "\n",
    "After error estimation the final model is often trained on\n",
    "combined training, validation and test set, using best\n",
    "hyperparameters found during model selection\n",
    "- Complication: randomized optimization approaches where\n",
    "different runs with same hyperparameters can lead to very\n",
    "different quality solutions (e.g. neural network)"
   ]
  },
  {
   "cell_type": "code",
   "execution_count": 2,
   "metadata": {},
   "outputs": [],
   "source": [
    "orig_columns = ['reg', 'text']\n",
    "\n",
    "# load the data\n",
    "df_train = pd.read_csv('fincore-train.tsv', sep='\\t', names=orig_columns)\n",
    "df_train = df_train.sample(frac=1, random_state=42).reset_index(drop=True)\n",
    "\n",
    "df_dev_full = pd.read_csv('fincore-dev.tsv', sep='\\t', names=orig_columns)\n",
    "df_dev_full = (df_dev_full.sample(frac=1, random_state=42)\n",
    "                          .reset_index(drop=True))\n",
    "\n",
    "df_test_full = pd.read_csv('fincore-test.tsv', sep='\\t', names=orig_columns)\n",
    "df_test_full = (df_test_full.sample(frac=1, random_state=42)\n",
    "                            .reset_index(drop=True))"
   ]
  },
  {
   "cell_type": "markdown",
   "metadata": {},
   "source": [
    "The following classes of the test and development sets are not in the training set:"
   ]
  },
  {
   "cell_type": "code",
   "execution_count": 3,
   "metadata": {},
   "outputs": [
    {
     "name": "stdout",
     "output_type": "stream",
     "text": [
      "Dev/test classes not in the training set:\n",
      "\n",
      "['FC NA DP IN ' 'FC NA DT IN ' 'SL LY ' 'HI  IP IG ' 'IB IN IN  '\n",
      " 'RE HI PB NA ' 'IT SP DT IN ' 'RV OP PB NA ' 'IP IG NE NA '\n",
      " 'NE NA DT IN ' 'CB NA EB IG ' 'OA NA FC NA ' 'DS IG AV OP ']\n",
      "['ID  PB NA ' 'DS IG MT OS ' 'DF ID NE NA ' 'OP  DP IN ' 'DF ID PB NA '\n",
      " 'TB NA CB NA ']\n"
     ]
    }
   ],
   "source": [
    "print(\"Dev/test classes not in the training set:\\n\")\n",
    "print(df_test_full[~df_test_full.reg.isin(df_train.reg.unique())].reg.unique())\n",
    "print(df_dev_full[~df_dev_full.reg.isin(df_train.reg.unique())].reg.unique())"
   ]
  },
  {
   "cell_type": "markdown",
   "metadata": {},
   "source": [
    "Since we can not train the model to predict labels it has not seen during training phase, we will keep only rows in dev and test data which have the labels that appear also in training data:"
   ]
  },
  {
   "cell_type": "code",
   "execution_count": 4,
   "metadata": {},
   "outputs": [],
   "source": [
    "df_test = df_test_full[\n",
    "    df_test_full.reg.isin(df_train.reg.unique())].reset_index(drop=True)\n",
    "df_dev = df_dev_full[\n",
    "    df_dev_full.reg.isin(df_train.reg.unique())].reset_index(drop=True)"
   ]
  },
  {
   "cell_type": "markdown",
   "metadata": {},
   "source": [
    "Texts for all the datasets:"
   ]
  },
  {
   "cell_type": "code",
   "execution_count": 5,
   "metadata": {},
   "outputs": [],
   "source": [
    "txt_train = [x for x in df_train.text]\n",
    "txt_dev = [x for x in df_dev.text]\n",
    "txt_test = [x for x in df_test.text]"
   ]
  },
  {
   "cell_type": "markdown",
   "metadata": {},
   "source": [
    "Encoded labels (registers):"
   ]
  },
  {
   "cell_type": "code",
   "execution_count": 6,
   "metadata": {},
   "outputs": [],
   "source": [
    "# labels as numbers\n",
    "label_encoder = LabelEncoder()\n",
    "train_classes = label_encoder.fit_transform(df_train.reg)\n",
    "dev_classes = label_encoder.transform(df_dev.reg)\n",
    "test_classes = label_encoder.transform(df_test.reg)\n",
    "num_classes = len(label_encoder.classes_)"
   ]
  },
  {
   "cell_type": "markdown",
   "metadata": {},
   "source": [
    "## Milestone 1"
   ]
  },
  {
   "cell_type": "markdown",
   "metadata": {},
   "source": [
    "For the first two models we construct vocabularies of alternative sizes:"
   ]
  },
  {
   "cell_type": "code",
   "execution_count": null,
   "metadata": {},
   "outputs": [],
   "source": [
    "print(\"Generating vocabularies...\")\n",
    "max_features_options = [1000, 10000, 20000, 30000, 40000, 50000]\n",
    "ms1_vocabs = {}\n",
    "for mf in max_features_options:\n",
    "    # a vectorizer and the feature matrices for this particular max_features\n",
    "    # NOTE: outside of this notebook other params were tested; see baseline\n",
    "    vectorizer = CountVectorizer(max_features=mf,\n",
    "                                 binary=False,\n",
    "                                 ngram_range=(1, 1))\n",
    "    ms1_vocabs[mf] = {\n",
    "        'vectorizer': vectorizer,\n",
    "        'train_fm': vectorizer.fit_transform(txt_train),\n",
    "        'dev_fm': vectorizer.transform(txt_dev),\n",
    "        'test_fm':  vectorizer.transform(txt_test)\n",
    "    }\n",
    "print(\"Done.\")"
   ]
  },
  {
   "cell_type": "markdown",
   "metadata": {},
   "source": [
    "### 1.0: Baseline (Naive Bayes)\n",
    "\n",
    "Naive Bayes classifier to be used as a baseline. It is trained on the training data for each separate dataset (different _max_features_ params for the CountVectorizer). Additionally accuracy on the permutated test sets are computed for the purpose of ensuring that performance with actual data differs from performance with junk data."
   ]
  },
  {
   "cell_type": "code",
   "execution_count": null,
   "metadata": {},
   "outputs": [],
   "source": [
    "def mnb_compute(X, y, mnb):\n",
    "    predictions = mnb.predict(X)\n",
    "    return (np.sum(predictions == y) / len(y), predictions)\n",
    "\n",
    "bayes_results = {}\n",
    "print(\"Computing stats for the MNB models...\")\n",
    "for max_feats, vocab in ms1_vocabs.items():\n",
    "    # train using the training set\n",
    "    mnb = MultinomialNB()\n",
    "    mnb.fit(vocab['train_fm'], df_train.reg)\n",
    "\n",
    "    # the accuracy of the trained model on all the sets\n",
    "    train_accuracy, _ = mnb_compute(vocab['train_fm'], df_train.reg, mnb)\n",
    "    dev_accuracy, _ = mnb_compute(vocab['dev_fm'], df_dev.reg, mnb)\n",
    "    test_accuracy, test_preds = mnb_compute(vocab['test_fm'], df_test.reg, mnb)\n",
    "    \n",
    "    # accuracy on permutated test set\n",
    "    permutated = np.random.permutation(df_test.reg)\n",
    "    perm_accuracy, _ = mnb_compute(vocab['test_fm'], permutated, mnb)\n",
    "    \n",
    "    bayes_results[max_feats] = {\n",
    "        'model': mnb,\n",
    "        'train_accuracy': train_accuracy,\n",
    "        'dev_accuracy': dev_accuracy,\n",
    "        'test_accuracy': test_accuracy,\n",
    "        'test_predictions': test_preds,\n",
    "        'perm_accuracy': perm_accuracy,\n",
    "    }\n",
    "print(\"Done.\")"
   ]
  },
  {
   "cell_type": "code",
   "execution_count": null,
   "metadata": {},
   "outputs": [],
   "source": [
    "for mf, stats in bayes_results.items():\n",
    "    print(f\"\\nMax features: {mf}\\nACCURACY: \"\n",
    "          f\"Train {stats['train_accuracy']:.2f}  \"\n",
    "          f\"Dev {stats['dev_accuracy']:.2f}  \"\n",
    "          f\"Test {stats['test_accuracy']:.2f}  \"\n",
    "          f\"Permutated {stats['perm_accuracy']:.2f}  \")\n"
   ]
  },
  {
   "cell_type": "markdown",
   "metadata": {},
   "source": [
    "**NOTE**: Outside of this notebook other params (*binary, ngram*) for the CountVectorizer were also tested. Neither here nor with the BOW model had they any practical effect whatsoever. Also, the value of the *max_features* parameter seems to be the most effective approximately in the range of 20 - 40 k, after which the accuracy begins to slowly degrade (possibly due to more features contributing only noise). \n",
    "\n",
    "**Having several different models for different parameter sets proved to be very demanding RAM-wise (particularly for BOW)**, and therefore, to keep the hardware requirements in check, we reduced the number of different *max_feature*s values to three:"
   ]
  },
  {
   "cell_type": "code",
   "execution_count": null,
   "metadata": {},
   "outputs": [],
   "source": [
    "%%capture\n",
    "# limit the number of different max_features params\n",
    "max_features_options = [1000, 10000, 30000]\n",
    "ms1_vocabs.pop(20000)\n",
    "ms1_vocabs.pop(40000)\n",
    "ms1_vocabs.pop(50000)"
   ]
  },
  {
   "cell_type": "markdown",
   "metadata": {},
   "source": [
    "### 1.1: BOW"
   ]
  },
  {
   "cell_type": "markdown",
   "metadata": {},
   "source": [
    "We tried several optimizers, of which SGD and Adam seemed to be the most effective. Therefore we decided to cover only them in this notebook:"
   ]
  },
  {
   "cell_type": "code",
   "execution_count": null,
   "metadata": {},
   "outputs": [],
   "source": [
    "keras_optimizers = {\n",
    "    'SGD': optimizers.SGD,\n",
    "    'Adam': optimizers.Adam,\n",
    "}"
   ]
  },
  {
   "cell_type": "markdown",
   "metadata": {},
   "source": [
    "Next we define the function responsible for building the bow model.\n",
    "\n",
    "\n",
    "**NOTE**: Outside of this notebook several alternative model constructions were tested. These included other forms of regularization (e.g. dropout), different setups for hidden layer(s) and using pre-computed weights due to the data being imbalanced. None of these had any practical effect."
   ]
  },
  {
   "cell_type": "code",
   "execution_count": null,
   "metadata": {},
   "outputs": [],
   "source": [
    "def build_bow_model(\n",
    "        feature_matrix, activation=None, optimizer=None, learning_rate=None\n",
    "    ):\n",
    "    \"\"\" Builds the BOW model according to the parameters \"\"\"\n",
    "    doc_count, feature_count = feature_matrix.shape\n",
    "    inp = Input(shape=(feature_count,))\n",
    "    hidden = Dense(250, activation=activation)(inp)\n",
    "    output = Dense(num_classes, activation=\"softmax\")(hidden)\n",
    "    model = Model(inputs=[inp], outputs=[output])\n",
    "    optimizer = optimizer(learning_rate=learning_rate)\n",
    "    model.compile(\n",
    "        optimizer=optimizer,\n",
    "        loss='sparse_categorical_crossentropy',\n",
    "        metrics=['accuracy']\n",
    "    )\n",
    "    return model"
   ]
  },
  {
   "cell_type": "markdown",
   "metadata": {},
   "source": [
    "We also performed GridSearchCV for the following parameter combinations:\n",
    "- max_features: 1000, 10000, 30000\n",
    "- optimizers: SGD, Adam\n",
    "- activation: tanh, ReLU\n",
    "- learning rate:  0.00098, 0.00310, 0.00984, 0.03125, 0.09921, 0.31498, 1.0\n",
    "\n",
    "\n",
    "**NOTE**: This is an extremely taxing process both time- and resource-wise (allocating in total 20 GB of RAM + some swap on the side). Therefore we do not repeat the full computation here, but only list some of the best results, with which we will proceed. Change *DO_BOW_GSCV* to **True** to run the full operation.\n",
    "\n",
    "Given the availability of sufficient resources, it would also be an option to optimize several other factors (not necessarily using GridSearchCV if not applicable but by other means) such as hidden layer composition or dropout rate (if used). However, due to limited time and hardware we have to settle for the options mentioned above."
   ]
  },
  {
   "cell_type": "code",
   "execution_count": null,
   "metadata": {},
   "outputs": [],
   "source": [
    "# set to True to perform GridSearchCV again\n",
    "DO_BOW_GSCV = False"
   ]
  },
  {
   "cell_type": "code",
   "execution_count": null,
   "metadata": {},
   "outputs": [],
   "source": [
    "if DO_BOW_GSCV:\n",
    "    mc = ModelCheckpoint(filepath='/tmp/bow_model.h5',\n",
    "                         monitor='accuracy',\n",
    "                         verbose=0,\n",
    "                         save_best_only=True,\n",
    "                         mode='auto')\n",
    "\n",
    "    es = EarlyStopping(monitor='accuracy',\n",
    "                       patience=20,\n",
    "                       verbose=0,\n",
    "                       restore_best_weights=True)\n",
    "\n",
    "    bow_grid_params = {\n",
    "        'activation': ['tanh', 'relu'],\n",
    "        'optimizer': list(keras_optimizers.values()), \n",
    "        'learning_rate': np.logspace(-10, 0, num = 7, base = 2).tolist()\n",
    "    }\n",
    "    grid_results = {}\n",
    "    for mf in max_features_options:\n",
    "        print(f\"BOW: GridSearchCV for param max_features={mf}\")\n",
    "        feature_matrix = ms1_vocabs[mf]['train_fm']\n",
    "\n",
    "        def f(activation=None, optimizer=None, learning_rate=None):\n",
    "            return build_bow_model(\n",
    "                feature_matrix,\n",
    "                activation=activation, \n",
    "                optimizer=optimizer,\n",
    "                learning_rate=learning_rate\n",
    "            )\n",
    "\n",
    "        grid = GridSearchCV(\n",
    "            estimator=KerasClassifier(\n",
    "                build_fn=f, epochs=40, batch_size=32, verbose=0),\n",
    "            param_grid=bow_grid_params,\n",
    "            n_jobs=1,\n",
    "            cv=3,\n",
    "            verbose=0,\n",
    "        )\n",
    "        grid_results[mf] = grid.fit(\n",
    "            feature_matrix.toarray(), train_classes, callbacks=[es, mc])\n",
    "    print(\"Done.\")\n",
    "\n",
    "    bow_grid_results = {}\n",
    "    for mf in max_features_options:\n",
    "        res = grid_results[mf]\n",
    "        bow_grid_results[mf] = {\n",
    "            'params': res.cv_results_['params'],\n",
    "            'rank_test_score': res.cv_results_['rank_test_score'],\n",
    "            'mean_test_score': res.cv_results_['mean_test_score']\n",
    "        }\n",
    "    pickle.dump(bow_grid_results, open('bow_grid_results.p', 'wb'))\n",
    "else:\n",
    "    bow_grid_results = pickle.load(open('bow_grid_results.p', 'rb'))\n",
    "    print(\"BOW: Loaded GridSearchCV results from a file.\")"
   ]
  },
  {
   "cell_type": "markdown",
   "metadata": {},
   "source": [
    "The following parameter sets ranked the best:"
   ]
  },
  {
   "cell_type": "code",
   "execution_count": null,
   "metadata": {},
   "outputs": [],
   "source": [
    "bow_params = {}  # For storing the best models for final comparison\n",
    "for mf in max_features_options:\n",
    "    print(f\"\\n{'--' * 10}\\nBest for max_features={mf}:\")\n",
    "    res = bow_grid_results[mf]\n",
    "    rank = list(res['rank_test_score'])\n",
    "    idx_best = [rank.index(x) for x in range(1, 4)]\n",
    "    best = [res['params'][x] for x in idx_best]\n",
    "    bow_params[mf] = best\n",
    "    scores = [res['mean_test_score'][x] for x in idx_best]\n",
    "    for i, r in enumerate(best):\n",
    "        print(f\"\\n{['First:', 'Second:', 'Third:'][i]} (score {scores[i]:.3f})\\n\")\n",
    "        pp.pprint(r)"
   ]
  },
  {
   "cell_type": "markdown",
   "metadata": {},
   "source": [
    "As can be seen, *tanh* does consistently better than *ReLU*, at least in the context of GridSearchCV. As for the other params, the results are more varied, even though the scores between the parameter sets do not vary considerably. In any case, a line has to be drawn somewhere, and therefore we will perform the full training cycle only with the param sets defined above.\n",
    "\n",
    "In addition, for regularization purposes, early stopping will be utilized."
   ]
  },
  {
   "cell_type": "code",
   "execution_count": null,
   "metadata": {},
   "outputs": [],
   "source": [
    "# Early Stopping settings\n",
    "mc = ModelCheckpoint(filepath='/tmp/bow_model.h5',\n",
    "                     monitor='val_accuracy',\n",
    "                     verbose=0,\n",
    "                     save_best_only=True,\n",
    "                     mode='auto')\n",
    "\n",
    "es = EarlyStopping(monitor='val_accuracy',\n",
    "                   patience=20,\n",
    "                   verbose=0,\n",
    "                   restore_best_weights=True)\n",
    "\n",
    "# The parameters that are used in the training process\n",
    "fit_params = {\n",
    "    'batch_size': 32,\n",
    "    'verbose': 0,\n",
    "    'epochs': 100,\n",
    "    'callbacks': [mc, es],\n",
    "}\n",
    "\n",
    "def train_bow_model(max_features, params, train_classes=train_classes):\n",
    "    \"\"\" Returns a trained BOW model and results for the given parameters \"\"\"\n",
    "    \n",
    "    # Get the correct vocabulary and define the validation set\n",
    "    vocab = ms1_vocabs[max_features]\n",
    "    fit_params['validation_data'] = (vocab['dev_fm'], dev_classes)\n",
    "    \n",
    "    # Build and train the model\n",
    "    model = build_bow_model(vocab['train_fm'], **params)\n",
    "    hist = model.fit(vocab['train_fm'].toarray(), train_classes, **fit_params)\n",
    "\n",
    "    # compute predictions for all the sets\n",
    "    train_preds = np.argmax(model.predict(vocab['train_fm'].toarray()), axis=1)\n",
    "    train_acc = np.sum(np.equal(train_classes, train_preds)) / len(train_classes)\n",
    "    \n",
    "    dev_preds = np.argmax(model.predict(vocab['dev_fm'].toarray()), axis=1)\n",
    "    dev_acc = np.sum(np.equal(dev_classes, dev_preds)) / len(dev_classes)\n",
    "    \n",
    "    test_preds = np.argmax(model.predict(vocab['test_fm'].toarray()), axis=1)\n",
    "    test_acc = np.sum(np.equal(test_classes, test_preds)) / len(test_classes)\n",
    "    \n",
    "    return {\n",
    "        'model': model,\n",
    "        'hist': hist,\n",
    "        'optimizer': params['optimizer'].__name__,\n",
    "        'learning_rate': params['learning_rate'],\n",
    "        'train_accuracy': train_acc,\n",
    "        'validation_accuracy': dev_acc,\n",
    "        'test_accuracy': test_acc,\n",
    "        'test_predictions': test_preds\n",
    "    }\n",
    "    \n",
    "bow_results = {}\n",
    "for mf in max_features_options:\n",
    "    bow_results[mf] = []\n",
    "    print(f\"\\nTraining BOW for max_features={mf}\")\n",
    "    for i, param_set in enumerate(bow_params[mf]):\n",
    "        print(f\"Param set {i + 1}.\", end=\" \")\n",
    "        bow_results[mf].append(train_bow_model(mf, param_set))\n",
    "print(\"\\nDone.\")"
   ]
  },
  {
   "cell_type": "markdown",
   "metadata": {},
   "source": [
    "Then it's time for some results:"
   ]
  },
  {
   "cell_type": "code",
   "execution_count": null,
   "metadata": {},
   "outputs": [],
   "source": [
    "fig, ax = plt.subplots(3, 3, figsize=(15, 18), sharey=True, tight_layout=True)\n",
    "plt.suptitle(\"BOW results (param sets by GSCV)\\n\\n\", va='baseline', fontsize=20)\n",
    "for i, (mf, res_mf) in enumerate(bow_results.items()):\n",
    "    for j, res in enumerate(res_mf):\n",
    "        hist = res['hist'].history\n",
    "        ax[i][j].set_title(f\"MAX FEATURES: {mf}\\n\"\n",
    "                        f\"Learning rate: {res['learning_rate']:.3f};    \"\n",
    "                        f\"Optimizer: {res['optimizer']}\",\n",
    "                        fontsize=12)\n",
    "        ax[i][j].plot(hist['accuracy'], label='training')\n",
    "        ax[i][j].plot(hist['val_accuracy'], label='validation')\n",
    "        ax[i][j].set_xlabel(\n",
    "            f\"ACCURACY:\\n Train: {res['train_accuracy']:.2f}    \"\n",
    "            f\"Validation: {res['validation_accuracy']:.2f}    \"\n",
    "            f\"Test: {res['test_accuracy']:.2f}\\n\",\n",
    "            fontsize=12\n",
    "        )\n",
    "        ax[i][j].legend(loc='lower right')\n",
    "plt.show()"
   ]
  },
  {
   "cell_type": "markdown",
   "metadata": {},
   "source": [
    "As can be seen the results are downright lackluster. Optimizer-wise models with *Adam* do not seem to learn anything at all (or they learn everything they can during the first epoch). The exact value of *max_features* also seems to be somewhat irrelevant as long as it is within reasonable limits.\n",
    "\n",
    "It should also be noted that the results displayed are clearly above results obtained from non-signal data. That is, if we permutate the training labels (effectively training with junk data) we obtain the following results:"
   ]
  },
  {
   "cell_type": "code",
   "execution_count": null,
   "metadata": {},
   "outputs": [],
   "source": [
    "permutated_bow = train_bow_model(\n",
    "    10000,\n",
    "    bow_params[10000][0],\n",
    "    train_classes=np.random.permutation(train_classes))\n",
    "print(\"Accuracies for a model trained with permutated data \"\n",
    "      \"(best param set for max_features = 10000):\\n\"\n",
    "      f\"Train: {permutated_bow['train_accuracy']:.3f}\\t\"\n",
    "      f\"Dev: {permutated_bow['validation_accuracy']:.3f}\\t\"\n",
    "      f\"Test: {permutated_bow['test_accuracy']:.3f}\")"
   ]
  },
  {
   "cell_type": "markdown",
   "metadata": {},
   "source": [
    "That is, the test set accuracy has dropped from 0.56 to 0.10. Of course this is just a single permutation, and to improve confidence we'd have to repeat the test at least a thousand times to obtain a proper p-value, but that is outside the scope of this report.\n",
    "\n",
    "**We will inspect the predictions more closely in Milestone 2.2.**"
   ]
  },
  {
   "cell_type": "markdown",
   "metadata": {},
   "source": [
    "### 1.2: RNN"
   ]
  },
  {
   "cell_type": "markdown",
   "metadata": {},
   "source": [
    "Next up is the RNN model. In order to limit the number of parameters that need optimizing we first opted for using FastText embeddings on the embedding layer (see https://fasttext.cc/docs/en/crawl-vectors.html). The model would therefore be constructed by making the embedding layer of shape *vocabulary size X FastText vector size*.\n",
    "\n",
    "We generated the embedding matrix as follows, using a vocabulary size of 100000."
   ]
  },
  {
   "cell_type": "code",
   "execution_count": 11,
   "metadata": {},
   "outputs": [
    {
     "name": "stdout",
     "output_type": "stream",
     "text": [
      "Loaded the embedding matrix from a file.\n"
     ]
    }
   ],
   "source": [
    "embedding_dim = 300  # FastText vector size\n",
    "vocab_size = 100000\n",
    "sequence_length = 250\n",
    "\n",
    "embedding_matrix_file = Path('rnn_embedding_matrix.p')\n",
    "\n",
    "if embedding_matrix_file.is_file():\n",
    "    embedding_matrix = pickle.load(open(embedding_matrix_file, 'rb'))\n",
    "    print(\"Loaded the embedding matrix from a file.\")\n",
    "    \n",
    "else:\n",
    "    fasttext_file = Path.home() / 'Documents/Fasttext/cc.fi.300.vec'\n",
    "\n",
    "    tok = Tokenizer(num_words=vocab_size, lower=False, split=' ', char_level=False)\n",
    "    tok.fit_on_texts(txt_train)\n",
    "\n",
    "    print(f\"Generating the embedding matrix..\", end=\"\")\n",
    "\n",
    "    embedding_matrix = np.zeros([vocab_size, embedding_dim])\n",
    "\n",
    "    with open(fasttext_file) as word_vecs:\n",
    "        next(word_vecs)  # skip the first line (contains stats)\n",
    "\n",
    "        for i, line in enumerate(word_vecs):\n",
    "\n",
    "            if i % 100000 == 0:\n",
    "                print(\".\", end=\"\")\n",
    "\n",
    "            items = line.strip().split(' ')\n",
    "            word = items[0]\n",
    "\n",
    "            # If the word does not have an embedding it will be omitted =>\n",
    "            # the corresponding row of the embedding matrix is 0-filled\n",
    "            try:\n",
    "                pos = tok.word_index[word]\n",
    "            except KeyError:\n",
    "                continue\n",
    "\n",
    "            # If the word is not among the 100000 most common ones, omit it.\n",
    "            if pos >= vocab_size:\n",
    "                continue\n",
    "\n",
    "            # Set row for this particular word in the matrix.\n",
    "            embedding = (np.array([float(j) for j in items[1:]]))\n",
    "            embedding_matrix[pos, :] = embedding\n",
    "\n",
    "    pickle.dump(embedding_matrix, open('rnn_embedding_matrix.p', 'wb'))\n",
    "    print(\"Done.\")"
   ]
  },
  {
   "cell_type": "markdown",
   "metadata": {},
   "source": [
    "We will use Keras tools for text tokenization and sequence padding:"
   ]
  },
  {
   "cell_type": "code",
   "execution_count": 15,
   "metadata": {},
   "outputs": [],
   "source": [
    "def get_padded_sequences():\n",
    "    \"\"\" \n",
    "    Constructs tokenized and padded sequences from the texts.\n",
    "    Default 'pre' padding.\n",
    "    \"\"\"\n",
    "    tokenizer = Tokenizer(\n",
    "        num_words=vocab_size, lower=True, split=' ', char_level=False\n",
    "    )\n",
    "    \n",
    "    params = {'maxlen': sequence_length, 'value': 0}\n",
    "    \n",
    "    tokenizer.fit_on_texts(txt_train)\n",
    "    \n",
    "    train_seq = tokenizer.texts_to_sequences(txt_train)\n",
    "    train_seq = pad_sequences(train_seq, **params)\n",
    "    \n",
    "    dev_seq = tokenizer.texts_to_sequences(txt_dev)\n",
    "    dev_seq = pad_sequences(dev_seq, **params)\n",
    "    test_seq = tokenizer.texts_to_sequences(txt_test)\n",
    "    test_seq = pad_sequences(test_seq, **params)\n",
    "    \n",
    "    return train_seq, dev_seq, test_seq\n",
    "\n",
    "# Get the sequences\n",
    "train_seq, dev_seq, test_seq = get_padded_sequences()"
   ]
  },
  {
   "cell_type": "markdown",
   "metadata": {},
   "source": [
    "The following function is used to construct the model. There are a lot of options that could/should be tested, but evaluating all the aspects would take more time and resources we can afford. **We initially implemented a GSCV routine for RNN also**, but found it to be too taxing and time-consuming for the project at hand.\n",
    "\n",
    "Some considerations:\n",
    "- dropout (*dropout, recurrent_dropout*) will be omitted; only early stopping is relied on for regularization purposes\n",
    "- outside of this notebook we tried adding more BiLSTM layers which resulted in no considerable improvement"
   ]
  },
  {
   "cell_type": "code",
   "execution_count": 16,
   "metadata": {},
   "outputs": [],
   "source": [
    "def build_rnn_model(\n",
    "        learning_rate=None\n",
    "    ):\n",
    "    \"\"\" Builds the RNN model according to the params \"\"\"\n",
    "    rnn_units = 100\n",
    "    weights = [embedding_matrix[:vocab_size]]\n",
    "    input_ = Input(shape=(sequence_length,))\n",
    "    # We will also allow further training of the embedding layer\n",
    "    embedding = Embedding(\n",
    "        vocab_size, embedding_dim, weights=weights, trainable=True\n",
    "    )(input_)\n",
    "    rnn = LSTM(rnn_units, return_sequences=False)(embedding)\n",
    "    output = Dense(num_classes, activation='softmax')(rnn)\n",
    "    model =  Model(inputs=[input_], outputs=[output])\n",
    "    optimizer = optimizers.Adam(learning_rate=learning_rate)\n",
    "    model.compile(\n",
    "        loss='sparse_categorical_crossentropy',\n",
    "        optimizer=optimizer,\n",
    "        metrics=['accuracy']\n",
    "    )\n",
    "    return model"
   ]
  },
  {
   "cell_type": "markdown",
   "metadata": {},
   "source": [
    "The training setup for the RNN model:"
   ]
  },
  {
   "cell_type": "code",
   "execution_count": 24,
   "metadata": {},
   "outputs": [
    {
     "name": "stdout",
     "output_type": "stream",
     "text": [
      "\n",
      "Training LSTM for learning_rate=0.001\n",
      "\n",
      "Training LSTM for learning_rate=0.003\n",
      "\n",
      "Training LSTM for learning_rate=0.01\n",
      "\n",
      "Training LSTM for learning_rate=0.03\n",
      "\n",
      "Training LSTM for learning_rate=0.1\n",
      "\n",
      "Training LSTM for learning_rate=0.3\n",
      "\n",
      "Done.\n"
     ]
    }
   ],
   "source": [
    "# Early Stopping settings\n",
    "mc_rnn = ModelCheckpoint(filepath='/tmp/rnn_model.h5',\n",
    "                         monitor='val_accuracy',\n",
    "                         verbose=0,\n",
    "                         save_best_only=True,\n",
    "                         mode='auto')\n",
    "    \n",
    "es_rnn = EarlyStopping(monitor='val_accuracy',\n",
    "                       patience=5,\n",
    "                       verbose=0,\n",
    "                       restore_best_weights=True)\n",
    "\n",
    "# The parameters that are used in the training process\n",
    "fit_params = {\n",
    "    'batch_size': 100,\n",
    "    'verbose': 0,\n",
    "    'epochs': 100,\n",
    "    'callbacks': [mc_rnn, es_rnn],\n",
    "    'validation_data': (dev_seq, dev_classes)\n",
    "}\n",
    "\n",
    "def train_rnn_model(learning_rate, fit_params=fit_params):\n",
    "    \"\"\" Returns a trained BOW model and results for the given parameters \"\"\"\n",
    "    \n",
    "    # Build and train the model\n",
    "    model = build_rnn_model(learning_rate)\n",
    "    hist = model.fit(train_seq, train_classes, **fit_params)\n",
    "\n",
    "    # compute predictions for all the sets\n",
    "    train_preds = np.argmax(model.predict(train_seq), axis=1)\n",
    "    train_acc = np.sum(np.equal(train_classes, train_preds)) / len(train_classes)\n",
    "    \n",
    "    dev_preds = np.argmax(model.predict(dev_seq), axis=1)\n",
    "    dev_acc = np.sum(np.equal(dev_classes, dev_preds)) / len(dev_classes)\n",
    "    \n",
    "    test_preds = np.argmax(model.predict(test_seq), axis=1)\n",
    "    test_acc = np.sum(np.equal(test_classes, test_preds)) / len(test_classes)\n",
    "    \n",
    "    return {\n",
    "        'model': model,\n",
    "        'hist': hist,\n",
    "        'learning_rate': learning_rate,\n",
    "        'train_accuracy': train_acc,\n",
    "        'validation_accuracy': dev_acc,\n",
    "        'test_accuracy': test_acc,\n",
    "        'test_predictions': test_preds\n",
    "    }\n",
    "    \n",
    "rnn_results = {}\n",
    "for lr in [0.001, 0.003, 0.01, 0.03, 0.1, 0.3]:\n",
    "    rnn_results[lr] = []\n",
    "    print(f\"\\nTraining LSTM for learning_rate={lr}\")\n",
    "    rnn_results[lr].append(train_rnn_model(lr))\n",
    "print(\"\\nDone.\")"
   ]
  },
  {
   "cell_type": "code",
   "execution_count": null,
   "metadata": {},
   "outputs": [],
   "source": [
    "rnn_results[0.01][0]['hist'].history"
   ]
  },
  {
   "cell_type": "code",
   "execution_count": 41,
   "metadata": {},
   "outputs": [
    {
     "data": {
      "image/png": "[encoded data removed]",
      "text/plain": [
       "<Figure size 1080x648 with 6 Axes>"
      ]
     },
     "metadata": {
      "needs_background": "light"
     },
     "output_type": "display_data"
    }
   ],
   "source": [
    "fig, ax = plt.subplots(2, 3, figsize=(15, 9), sharey=True, tight_layout=True)\n",
    "plt.suptitle(\"LSTM results\\n\\n\", va='baseline', fontsize=20)\n",
    "for n, (lr, res) in enumerate(rnn_results.items()):\n",
    "    i = 0 if n < 3 else 1\n",
    "    j = int(n % 3)\n",
    "    hist = res[0]['hist'].history\n",
    "    ax[i][j].set_title(f\"Learning rate: {res[0]['learning_rate']:.3f}\", fontsize=12)\n",
    "    ax[i][j].plot(hist['accuracy'], label='training')\n",
    "    ax[i][j].plot(hist['val_accuracy'], label='validation')\n",
    "    ax[i][j].set_xlabel(\n",
    "        f\"ACCURACY:\\n Train: {res[0]['train_accuracy']:.2f}    \"\n",
    "        f\"Validation: {res[0]['validation_accuracy']:.2f}    \"\n",
    "        f\"Test: {res[0]['test_accuracy']:.2f}\\n\",\n",
    "        fontsize=12\n",
    "    )\n",
    "    ax[i][j].legend(loc='lower right')\n",
    "plt.show()"
   ]
  },
  {
   "cell_type": "markdown",
   "metadata": {},
   "source": [
    "Blah blah blah.\n",
    "\n",
    "**We will inspect the predictions more closely in Milestone 2.2.**"
   ]
  },
  {
   "cell_type": "markdown",
   "metadata": {},
   "source": [
    "## Milestone 2"
   ]
  },
  {
   "cell_type": "markdown",
   "metadata": {},
   "source": [
    "### 2.1: BERT\n",
    "\n",
    "We had initially some trouble in getting BERT working properly, and therefore decided to use two alternative approaches: Keras and PyTorch.\n"
   ]
  },
  {
   "cell_type": "code",
   "execution_count": 25,
   "metadata": {},
   "outputs": [],
   "source": [
    "# MAX_EXAMPLES and INPUT_LENGTH limited to avoid going out of memory\n",
    "# Maximum number of examples to read\n",
    "MAX_EXAMPLES = 1500\n",
    "\n",
    "# Maximum length of input sequence in tokens\n",
    "INPUT_LENGTH = 250"
   ]
  },
  {
   "cell_type": "markdown",
   "metadata": {},
   "source": [
    "### 2.1.1: BERT Keras"
   ]
  },
  {
   "cell_type": "code",
   "execution_count": 42,
   "metadata": {},
   "outputs": [
    {
     "name": "stdout",
     "output_type": "stream",
     "text": [
      "Kyllä lähtee!\n"
     ]
    }
   ],
   "source": [
    "print(\"Kyllä lähtee!\")"
   ]
  },
  {
   "cell_type": "markdown",
   "metadata": {},
   "source": [
    "### 2.1.2: BERT PyTorch"
   ]
  },
  {
   "cell_type": "code",
   "execution_count": null,
   "metadata": {},
   "outputs": [],
   "source": [
    "device = torch.device(\"cuda\" if torch.cuda.is_available() else \"cpu\")"
   ]
  },
  {
   "cell_type": "code",
   "execution_count": null,
   "metadata": {},
   "outputs": [],
   "source": [
    "b_sentences_train = [\"[CLS] \" + \" [SEP] \".join(query.split(' . ')) + \" [SEP]\" for query in texts['train']]\n",
    "b_tokenizer = transformers.BertTokenizer.from_pretrained(\"bert-base-finnish-cased-v1\")\n",
    "b_tokenized_train = [b_tokenizer.tokenize(sent) for sent in b_sentences_train]\n",
    "\n",
    "b_sentences_dev = [\"[CLS] \" + \" [SEP] \".join(query.split(' . ')) + \" [SEP]\" for query in texts['dev']]\n",
    "b_tokenizer = transformers.BertTokenizer.from_pretrained(\"bert-base-finnish-cased-v1\")\n",
    "b_tokenized_dev = [b_tokenizer.tokenize(sent) for sent in b_sentences_dev]\n",
    "\n",
    "b_sentences_test = [\"[CLS] \" + \" [SEP] \".join(query.split(' . ')) + \" [SEP]\" for query in texts['test']]\n",
    "b_tokenizer = transformers.BertTokenizer.from_pretrained(\"bert-base-finnish-cased-v1\")\n",
    "b_tokenized_test = [b_tokenizer.tokenize(sent) for sent in b_sentences_test]"
   ]
  },
  {
   "cell_type": "code",
   "execution_count": null,
   "metadata": {},
   "outputs": [],
   "source": [
    "b_train_inputs = torch.tensor(pad_sequences(\n",
    "    [b_tokenizer.convert_tokens_to_ids(txt) for txt in b_tokenized_train],\n",
    "    maxlen=BERT_MAX_LEN, dtype=\"long\", truncating=\"post\", padding=\"post\"\n",
    "))\n",
    "b_train_labels = torch.tensor(train_classes)\n",
    "\n",
    "b_dev_inputs = torch.tensor(pad_sequences(\n",
    "    [b_tokenizer.convert_tokens_to_ids(txt) for txt in b_tokenized_dev],\n",
    "    maxlen=BERT_MAX_LEN, dtype=\"long\", truncating=\"post\", padding=\"post\"\n",
    "))\n",
    "b_dev_labels = torch.tensor(dev_classes)\n",
    "\n",
    "b_test_inputs = torch.tensor(pad_sequences(\n",
    "    [b_tokenizer.convert_tokens_to_ids(txt) for txt in b_tokenized_test],\n",
    "    maxlen=BERT_MAX_LEN, dtype=\"long\", truncating=\"post\", padding=\"post\"\n",
    "))\n",
    "b_test_labels = torch.tensor(test_classes)"
   ]
  },
  {
   "cell_type": "code",
   "execution_count": null,
   "metadata": {},
   "outputs": [],
   "source": [
    "train_data = TensorDataset(b_train_inputs, b_train_labels)\n",
    "train_dataloader = DataLoader(train_data, batch_size=4, shuffle=True)\n",
    "\n",
    "dev_data = TensorDataset(b_dev_inputs, b_dev_labels)\n",
    "dev_dataloader = DataLoader(dev_data, batch_size=32)\n",
    "\n",
    "test_data = TensorDataset(b_test_inputs, b_test_labels)\n",
    "test_dataloader = DataLoader(test_data, batch_size=32)"
   ]
  },
  {
   "cell_type": "markdown",
   "metadata": {},
   "source": [
    "### 2.2: Error analysis"
   ]
  },
  {
   "cell_type": "code",
   "execution_count": null,
   "metadata": {},
   "outputs": [],
   "source": []
  }
 ],
 "metadata": {
  "kernelspec": {
   "display_name": "langtech",
   "language": "python",
   "name": "langtech"
  },
  "language_info": {
   "codemirror_mode": {
    "name": "ipython",
    "version": 3
   },
   "file_extension": ".py",
   "mimetype": "text/x-python",
   "name": "python",
   "nbconvert_exporter": "python",
   "pygments_lexer": "ipython3",
   "version": "3.8.2"
  }
 },
 "nbformat": 4,
 "nbformat_minor": 4
}
