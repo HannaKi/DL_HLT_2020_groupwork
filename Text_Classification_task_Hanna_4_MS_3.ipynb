{
  "nbformat": 4,
  "nbformat_minor": 0,
  "metadata": {
    "colab": {
      "name": "Copy of Copy of Text_Classification_task_Hyperp_opt.ipynb",
      "provenance": [],
      "collapsed_sections": [
        "PfqG5963ZhDa",
        "-7j5rqbNzm3O",
        "DTcr2XZ8zg1H",
        "V3HXbVzAF6UH",
        "9vn7FWLFGeJQ",
        "zIycPktw_m39",
        "tPskSfawiO5I",
        "NYSi-7hwqqTs",
        "i-HcrqoxqxiI",
        "Y1bZmgfNnWlm"
      ],
      "machine_shape": "hm",
      "include_colab_link": true
    },
    "kernelspec": {
      "name": "python3",
      "display_name": "Python 3"
    },
    "language_info": {
      "codemirror_mode": {
        "name": "ipython",
        "version": 3
      },
      "file_extension": ".py",
      "mimetype": "text/x-python",
      "name": "python",
      "nbconvert_exporter": "python",
      "pygments_lexer": "ipython3",
      "version": "3.7.1"
    },
    "accelerator": "GPU"
  },
  "cells": [
    {
      "cell_type": "markdown",
      "metadata": {
        "id": "view-in-github",
        "colab_type": "text"
      },
      "source": [
        "<a href=\"https://colab.research.google.com/github/HannaKi/DL_HLT_2020_groupwork/blob/master/Text_Classification_task_Hanna_4_MS_3.ipynb\" target=\"_parent\"><img src=\"https://colab.research.google.com/assets/colab-badge.svg\" alt=\"Open In Colab\"/></a>"
      ]
    },
    {
      "cell_type": "markdown",
      "metadata": {
        "colab_type": "text",
        "id": "VGkCcicEVPSF"
      },
      "source": [
        "# Text classification\n",
        "\n",
        "This project is about text classification. You will develop a text classification system that identifies different kinds of online texts, such as news, blogs and opinionated texts. We will refer to these text categories as registers. If you want to learn more about online registers and their automatic identification, you can read, e.g., our paper [Toward Multilingual Identification of Online Registers] (https://www.aclweb.org/anthology/W19-6130/).\n",
        "\n",
        "# Data and register labels\n",
        "The data for this project consist of ~7500 documents with manual annotations on their register. You can download it from http://dl.turkunlp.org/TKO_8965-projects/classification/ . The documents are based on a (almost) random sample of the Finnish Internet. The registers are identified using a relatively detailed, hierarchical taxonomy. The taxonomy consists of 8 main categories that are divided into a large number of subregisters. The taxonomy is described at the end of this page. The table includes also the abbreviations that are used in the data.\n",
        "\n",
        "The challenge with online documents is that it is not always easy to identify the specific registers categories of the documents. Furthermore, another issue is that a document may display characteristics of several registers. For instance, a blog post may simultaneously seem like a product review. To deal with these challenges, we have followed the following guidelines:\n",
        "* For each document, the annotators have aimed at marking the specific subregister category. When this is possible, the document has two register labels: the subregister label and the main register label to which the subregister belongs. For instance, a document annotated as a news article would have the label NE for News and the corresponding higher level register label NA for Narrative. \n",
        "* In some cases, the document does not seem to fit any of the subregisters. In this case, the document can be given only one label: the main register label, such as NA for Narrative. \n",
        "* Some documents may display characteristics of several register categories. In this case, the annotator can mark several register labels for one single document. Consequently, the document may have up to four labels. This would be the case case if a document is annotated both as a Personal blog (subregister label PB + corresponding higher level register label NA) and Review (subregister label RV + corresponding higher level register label OP).\n",
        "\n",
        "\n",
        "# Register classes and abbreviations\n",
        "\n",
        "NA Narrative\n",
        "\n",
        "* NE NA    New reports / news blogs\n",
        "* SR NA    Sports reports\n",
        "* PB NA    Personal blog\n",
        "* HA NA    Historical article\n",
        "* FC NA    Fiction\n",
        "* TB NA    Travel blog\n",
        "* CB NA    Community blogs\n",
        "* OA NA    Online article\n",
        "\n",
        "OP  Opinion\n",
        "* OB OP  Personal opinion blogs\n",
        "* RV OP  Reviews\n",
        "* RS OP  Religious blogs/sermons\n",
        "* AV OP  Advice\n",
        "\n",
        "IN Informational description\n",
        "* JD IN  Job description\n",
        "* FA IN  FAQs\n",
        "* DT IN  Description of a thing\n",
        "* IB IN  Information blogs\n",
        "* DP IN  Description of a person\n",
        "* RA IN  Research articles\n",
        "* LT IN  Legal terms / conditions\n",
        "* CM IN  Course materials\n",
        "* EN IN  Encyclopedia articles\n",
        "* RP IN  Report\n",
        "\n",
        "ID Interactive discussion\n",
        "* DF ID  Discussion forums\n",
        "* QA ID  Question-answer forums\n",
        "\n",
        "HI  How-to/instructions\n",
        "* RE HI  Recipes\n",
        "\n",
        "IP IG  Informational persuasion\n",
        "* DS IG  Description with intent to sell\n",
        "* EB IG  News-opinion blogs / editorials\n",
        "\n",
        "Lyrical LY\n",
        "* PO LY  Poems\n",
        "* SL LY  Songs\n",
        "\n",
        "Spoken SP\n",
        "* IT SP Interviews\n",
        "* FS SP Formal speeches\n",
        "\n",
        "Others OS\n",
        "* MT OS Machine-translated / generated texts\n"
      ]
    },
    {
      "cell_type": "markdown",
      "metadata": {
        "id": "1C1_c9eZnWlG",
        "colab_type": "text"
      },
      "source": [
        "# Preparations\n"
      ]
    },
    {
      "cell_type": "markdown",
      "metadata": {
        "id": "y1s5CYypylU1",
        "colab_type": "text"
      },
      "source": [
        "Import packages, set up TF version 1."
      ]
    },
    {
      "cell_type": "code",
      "metadata": {
        "id": "JSsWUzLj5NOG",
        "colab_type": "code",
        "outputId": "e7557fb5-c8f4-478a-d0a8-2a20d8caa02e",
        "colab": {
          "base_uri": "https://localhost:8080/",
          "height": 54
        }
      },
      "source": [
        "# Get rid of old tf at some point!\n",
        "\n",
        "%tensorflow_version 1.x\n",
        "# to run with old tf with which the code was made\n",
        "# The default version of TensorFlow in Colab will switch to TensorFlow 2.x on the 27th of March, 2020.\n",
        "# https://colab.research.google.com/notebooks/tensorflow_version.ipynb\n",
        "\n",
        "import tensorflow\n",
        "print(tensorflow.__version__)"
      ],
      "execution_count": 1,
      "outputs": [
        {
          "output_type": "stream",
          "text": [
            "TensorFlow 1.x selected.\n",
            "1.15.2\n"
          ],
          "name": "stdout"
        }
      ]
    },
    {
      "cell_type": "code",
      "metadata": {
        "id": "svG58YMGXsNr",
        "colab_type": "code",
        "outputId": "46f108dc-4873-41d7-d3d1-67d095b00d67",
        "colab": {
          "base_uri": "https://localhost:8080/",
          "height": 74
        }
      },
      "source": [
        "import numpy as np\n",
        "import pandas as pd\n",
        "import seaborn as sns\n",
        "import matplotlib.pyplot as plt\n",
        "from pprint import pprint\n",
        "from datetime import datetime\n",
        "# import keras\n",
        "from tensorflow.keras import optimizers\n",
        "from tensorflow.keras.models import Model\n",
        "from tensorflow.keras.layers import Input, Dense\n",
        "from tensorflow.keras.models import Sequential\n",
        "from tensorflow.keras.layers import Dense, Dropout, Input\n",
        "from tensorflow.keras.wrappers.scikit_learn import KerasClassifier\n",
        "from tensorflow.keras.callbacks import ModelCheckpoint, EarlyStopping\n",
        "\n",
        "from sklearn.model_selection import GridSearchCV, cross_val_score, KFold, StratifiedKFold, cross_val_predict\n",
        "from sklearn.feature_extraction.text import TfidfVectorizer, CountVectorizer\n",
        "from sklearn.preprocessing import LabelEncoder, OneHotEncoder\n",
        "from sklearn.model_selection import train_test_split \n",
        "from sklearn.metrics import classification_report, confusion_matrix, accuracy_score\n",
        "\n",
        "\n",
        "%matplotlib inline\n"
      ],
      "execution_count": 2,
      "outputs": [
        {
          "output_type": "stream",
          "text": [
            "/usr/local/lib/python3.6/dist-packages/statsmodels/tools/_testing.py:19: FutureWarning: pandas.util.testing is deprecated. Use the functions in the public API at pandas.testing instead.\n",
            "  import pandas.util.testing as tm\n"
          ],
          "name": "stderr"
        }
      ]
    },
    {
      "cell_type": "markdown",
      "metadata": {
        "id": "pN7bPGqEaPC7",
        "colab_type": "text"
      },
      "source": [
        "For saving the models"
      ]
    },
    {
      "cell_type": "code",
      "metadata": {
        "id": "VYdjqCtdaNJI",
        "colab_type": "code",
        "outputId": "ed3b07fd-abc5-403d-d5a0-b232c8b3a726",
        "colab": {
          "base_uri": "https://localhost:8080/",
          "height": 73
        }
      },
      "source": [
        "!pip install h5py"
      ],
      "execution_count": 3,
      "outputs": [
        {
          "output_type": "stream",
          "text": [
            "Requirement already satisfied: h5py in /usr/local/lib/python3.6/dist-packages (2.10.0)\n",
            "Requirement already satisfied: six in /usr/local/lib/python3.6/dist-packages (from h5py) (1.12.0)\n",
            "Requirement already satisfied: numpy>=1.7 in /usr/local/lib/python3.6/dist-packages (from h5py) (1.18.3)\n"
          ],
          "name": "stdout"
        }
      ]
    },
    {
      "cell_type": "code",
      "metadata": {
        "id": "ERs_vfbfabkV",
        "colab_type": "code",
        "colab": {}
      },
      "source": [
        "%%script bash\n",
        "mkdir -p models"
      ],
      "execution_count": 0,
      "outputs": []
    },
    {
      "cell_type": "markdown",
      "metadata": {
        "id": "EIHMK6DxXy6r",
        "colab_type": "text"
      },
      "source": [
        "Download and open data, explore it."
      ]
    },
    {
      "cell_type": "code",
      "metadata": {
        "id": "MFHGSBx5nWlM",
        "colab_type": "code",
        "outputId": "bcde5a79-4fae-4ece-ff13-629aed1affe4",
        "colab": {
          "base_uri": "https://localhost:8080/",
          "height": 631
        }
      },
      "source": [
        "# Download development data\n",
        "!wget http://dl.turkunlp.org/TKO_8965-projects/classification/fincore-dev.tsv\n",
        "# Download test data\n",
        "!wget http://dl.turkunlp.org/TKO_8965-projects/classification/fincore-test.tsv\n",
        "# Download train data\n",
        "!wget http://dl.turkunlp.org/TKO_8965-projects/classification/fincore-train.tsv"
      ],
      "execution_count": 5,
      "outputs": [
        {
          "output_type": "stream",
          "text": [
            "--2020-05-06 14:28:33--  http://dl.turkunlp.org/TKO_8965-projects/classification/fincore-dev.tsv\n",
            "Resolving dl.turkunlp.org (dl.turkunlp.org)... 195.148.30.23\n",
            "Connecting to dl.turkunlp.org (dl.turkunlp.org)|195.148.30.23|:80... connected.\n",
            "HTTP request sent, awaiting response... 200 OK\n",
            "Length: 4035578 (3.8M) [application/octet-stream]\n",
            "Saving to: ‘fincore-dev.tsv’\n",
            "\n",
            "\rfincore-dev.tsv       0%[                    ]       0  --.-KB/s               \rfincore-dev.tsv       6%[>                   ] 241.32K  1.15MB/s               \rfincore-dev.tsv      83%[===============>    ]   3.22M  6.53MB/s               \rfincore-dev.tsv     100%[===================>]   3.85M  6.23MB/s    in 0.6s    \n",
            "\n",
            "2020-05-06 14:28:34 (6.23 MB/s) - ‘fincore-dev.tsv’ saved [4035578/4035578]\n",
            "\n",
            "--2020-05-06 14:28:39--  http://dl.turkunlp.org/TKO_8965-projects/classification/fincore-test.tsv\n",
            "Resolving dl.turkunlp.org (dl.turkunlp.org)... 195.148.30.23\n",
            "Connecting to dl.turkunlp.org (dl.turkunlp.org)|195.148.30.23|:80... connected.\n",
            "HTTP request sent, awaiting response... 200 OK\n",
            "Length: 8512687 (8.1M) [application/octet-stream]\n",
            "Saving to: ‘fincore-test.tsv’\n",
            "\n",
            "fincore-test.tsv    100%[===================>]   8.12M  17.0MB/s    in 0.5s    \n",
            "\n",
            "2020-05-06 14:28:39 (17.0 MB/s) - ‘fincore-test.tsv’ saved [8512687/8512687]\n",
            "\n",
            "--2020-05-06 14:28:44--  http://dl.turkunlp.org/TKO_8965-projects/classification/fincore-train.tsv\n",
            "Resolving dl.turkunlp.org (dl.turkunlp.org)... 195.148.30.23\n",
            "Connecting to dl.turkunlp.org (dl.turkunlp.org)|195.148.30.23|:80... connected.\n",
            "HTTP request sent, awaiting response... 200 OK\n",
            "Length: 29379580 (28M) [application/octet-stream]\n",
            "Saving to: ‘fincore-train.tsv’\n",
            "\n",
            "fincore-train.tsv   100%[===================>]  28.02M  33.9MB/s    in 0.8s    \n",
            "\n",
            "2020-05-06 14:28:45 (33.9 MB/s) - ‘fincore-train.tsv’ saved [29379580/29379580]\n",
            "\n"
          ],
          "name": "stdout"
        }
      ]
    },
    {
      "cell_type": "markdown",
      "metadata": {
        "id": "gW8TezCY6pR1",
        "colab_type": "text"
      },
      "source": [
        "Data split\n",
        "\n",
        "- Training set: used for training the models\n",
        "- Validation (or model assessment) set: when comparing\n",
        "di\u000berent models trained on training set, select one with lowest\n",
        "error on validation set\n",
        "- Test set: test the \fnal hypothesis on test set to get unbiased\n",
        "error estimate for it\n",
        "\n",
        "After error estimation the \fnal model is often trained on\n",
        "combined training, validation and test set, using best\n",
        "hyperparameters found during model selection\n",
        "- Complication: randomized optimization approaches where\n",
        "di\u000berent runs with same hyperparameters can lead to very\n",
        "di\u000berent quality solutions (e.g. neural network)\n",
        "\n"
      ]
    },
    {
      "cell_type": "code",
      "metadata": {
        "id": "KciwyumAEz_b",
        "colab_type": "code",
        "outputId": "3cc20c36-b191-432b-f5d0-4b01aacf3563",
        "colab": {
          "base_uri": "https://localhost:8080/",
          "height": 464
        }
      },
      "source": [
        "train = pd.read_csv('fincore-train.tsv', sep='\\t', header=None)\n",
        "\n",
        "train = train.sample(frac=1, random_state = 4) # suffle the data\n",
        "train.columns = ['label','text']\n",
        "print(\"train data\")\n",
        "print(train.head())\n",
        "print(train.shape)\n",
        "#print(\"Label counts:\")\n",
        "# print(train['label'].value_counts())\n",
        "\n",
        "dev = pd.read_csv('fincore-dev.tsv', sep='\\t', header=None)\n",
        "dev.columns = ['label','text']\n",
        "print(\"dev data\")\n",
        "print(dev.head())\n",
        "print(dev.shape)\n",
        "#print(\"Label counts:\")\n",
        "# print(dev['label'].value_counts())\n",
        "\n",
        "test = pd.read_csv('fincore-test.tsv', sep='\\t', header=None)\n",
        "test.columns = ['label','text']\n",
        "print(\"test data\")\n",
        "print(test.head())\n",
        "print(test.shape)\n",
        "#print(\"Label counts:\")\n",
        "# print(test['label'].value_counts())\n",
        "\n",
        "test_text = test['text']\n",
        "test_labels = test['label']"
      ],
      "execution_count": 164,
      "outputs": [
        {
          "output_type": "stream",
          "text": [
            "train data\n",
            "       label                                               text\n",
            "3982  DS IG    Logistiikka Jenni Lindholm Laskutus Ritva Lie...\n",
            "2640  RS OP    Tässä [ [ Ortodoksinen seminaari ( Joensuu ) ...\n",
            "119   NE NA    Koulutuspaikka jokaiselle peruskoulun päättän...\n",
            "4916  SR NA    1 Cardiff C–Everton Tasainen kohde . Cardiff ...\n",
            "775   MT OS    Northrop Grumman Q4 2009 tulokset Northrop Gr...\n",
            "(5295, 2)\n",
            "dev data\n",
            "    label                                               text\n",
            "0  OA NA    Luonnonhoito Maaperän siemenpankkia avattiin ...\n",
            "1  DS IG    • Jokainen ripsi on erittäin kevyt ja muodolt...\n",
            "2  DS IG    Mukavuudet Hotel Dila Vain muutaman metrin pä...\n",
            "3  DF ID    Vastaa viestiin Otsikko Viesti ensin omaishoi...\n",
            "4  OA NA    Dinosaur Jr 30.5.2010 Tavastia , Helsinki 198...\n",
            "(756, 2)\n",
            "test data\n",
            "    label                                               text\n",
            "0    HI     Tehkää nollaleimaus . Jos rekisteröinti onnis...\n",
            "1    NA     1 kommenttia : Syyslomallelähtijät kirjoitti ...\n",
            "2  DT IN    Ammattikoulutuksen perustana on ajatus siitä ...\n",
            "3  DP IN    Ulkonäkö : Silveriä voisi kuvata tietyllä tap...\n",
            "4  DT IN    Laulupelimannien puheenjohtajina ovat toimine...\n",
            "(1513, 2)\n"
          ],
          "name": "stdout"
        }
      ]
    },
    {
      "cell_type": "code",
      "metadata": {
        "id": "dwxqapN9J7PH",
        "colab_type": "code",
        "outputId": "85912524-2047-45c2-acf5-85c3d492a130",
        "colab": {
          "base_uri": "https://localhost:8080/",
          "height": 206
        }
      },
      "source": [
        "# Prepare stratified data sets for training, development and testing:\n",
        "# Stratification aims to ensure that all the data sets (train, development and test) have the same distribution of labels. \n",
        "# This minimizes chances that a model has to try to predict labes it has not seen during training.\n",
        "\n",
        "# test-train-split causes error: The least populated class in y has only 1 member, which is too few. The minimum number of groups for any class cannot be less than 2.\n",
        "# Best solution: More data\n",
        "# Second best solution: If you cannot have another dataset, you will have to play with what you have. Suggestion: remove the sample that has the lonely target. \n",
        "\n",
        "# Join all the data and re-divide it with stratification and to illustrate how skewed the data is!\n",
        "train_e = train\n",
        "train_e['data'] = 'train'\n",
        "\n",
        "dev_e = dev\n",
        "dev_e['data'] = 'dev'\n",
        "\n",
        "test_e = test\n",
        "test_e['data'] = 'test'\n",
        "\n",
        "frames = [train_e, dev_e, test_e]\n",
        "df = pd.concat(frames).reset_index(drop=True) # get rid of the old indexes\n",
        "\n",
        "# Separating out the target\n",
        "y = df['label'] # pd df\n",
        "# # Separating out the features\n",
        "X = df['text'] # pd df\n",
        "\n",
        "unique, counts = np.unique(y, return_counts=True)\n",
        "nums = dict(zip(unique, counts))\n",
        "\n",
        "df.head()\n",
        "\n",
        "#pprint(sorted(nums.items(), key = lambda kv:(kv[1], kv[0])))"
      ],
      "execution_count": 165,
      "outputs": [
        {
          "output_type": "execute_result",
          "data": {
            "text/html": [
              "<div>\n",
              "<style scoped>\n",
              "    .dataframe tbody tr th:only-of-type {\n",
              "        vertical-align: middle;\n",
              "    }\n",
              "\n",
              "    .dataframe tbody tr th {\n",
              "        vertical-align: top;\n",
              "    }\n",
              "\n",
              "    .dataframe thead th {\n",
              "        text-align: right;\n",
              "    }\n",
              "</style>\n",
              "<table border=\"1\" class=\"dataframe\">\n",
              "  <thead>\n",
              "    <tr style=\"text-align: right;\">\n",
              "      <th></th>\n",
              "      <th>label</th>\n",
              "      <th>text</th>\n",
              "      <th>data</th>\n",
              "    </tr>\n",
              "  </thead>\n",
              "  <tbody>\n",
              "    <tr>\n",
              "      <th>0</th>\n",
              "      <td>DS IG</td>\n",
              "      <td>Logistiikka Jenni Lindholm Laskutus Ritva Lie...</td>\n",
              "      <td>train</td>\n",
              "    </tr>\n",
              "    <tr>\n",
              "      <th>1</th>\n",
              "      <td>RS OP</td>\n",
              "      <td>Tässä [ [ Ortodoksinen seminaari ( Joensuu ) ...</td>\n",
              "      <td>train</td>\n",
              "    </tr>\n",
              "    <tr>\n",
              "      <th>2</th>\n",
              "      <td>NE NA</td>\n",
              "      <td>Koulutuspaikka jokaiselle peruskoulun päättän...</td>\n",
              "      <td>train</td>\n",
              "    </tr>\n",
              "    <tr>\n",
              "      <th>3</th>\n",
              "      <td>SR NA</td>\n",
              "      <td>1 Cardiff C–Everton Tasainen kohde . Cardiff ...</td>\n",
              "      <td>train</td>\n",
              "    </tr>\n",
              "    <tr>\n",
              "      <th>4</th>\n",
              "      <td>MT OS</td>\n",
              "      <td>Northrop Grumman Q4 2009 tulokset Northrop Gr...</td>\n",
              "      <td>train</td>\n",
              "    </tr>\n",
              "  </tbody>\n",
              "</table>\n",
              "</div>"
            ],
            "text/plain": [
              "    label                                               text   data\n",
              "0  DS IG    Logistiikka Jenni Lindholm Laskutus Ritva Lie...  train\n",
              "1  RS OP    Tässä [ [ Ortodoksinen seminaari ( Joensuu ) ...  train\n",
              "2  NE NA    Koulutuspaikka jokaiselle peruskoulun päättän...  train\n",
              "3  SR NA    1 Cardiff C–Everton Tasainen kohde . Cardiff ...  train\n",
              "4  MT OS    Northrop Grumman Q4 2009 tulokset Northrop Gr...  train"
            ]
          },
          "metadata": {
            "tags": []
          },
          "execution_count": 165
        }
      ]
    },
    {
      "cell_type": "code",
      "metadata": {
        "id": "zWSDvMthCZFl",
        "colab_type": "code",
        "outputId": "b1ca2f9f-abf7-48d4-8702-2f538c26ca5b",
        "colab": {
          "base_uri": "https://localhost:8080/",
          "height": 468
        }
      },
      "source": [
        "plt.figure(figsize=(26, 6))\n",
        "plt.xticks(rotation=90)\n",
        "sns.countplot(x=\"label\", hue=\"data\", data=df)"
      ],
      "execution_count": 8,
      "outputs": [
        {
          "output_type": "execute_result",
          "data": {
            "text/plain": [
              "<matplotlib.axes._subplots.AxesSubplot at 0x7f749a0a29e8>"
            ]
          },
          "metadata": {
            "tags": []
          },
          "execution_count": 8
        },
        {
          "output_type": "display_data",
          "data": {
            "image/png": "[encoded data removed]",
            "text/plain": [
              "<Figure size 1872x432 with 1 Axes>"
            ]
          },
          "metadata": {
            "tags": [],
            "needs_background": "light"
          }
        }
      ]
    },
    {
      "cell_type": "markdown",
      "metadata": {
        "id": "FuGhgHP5DJkZ",
        "colab_type": "text"
      },
      "source": [
        "As we can see, the distribution of labels is highly skewed. This might be fixed with data augmentation. "
      ]
    },
    {
      "cell_type": "markdown",
      "metadata": {
        "id": "ZzVzQOvux5lJ",
        "colab_type": "text"
      },
      "source": [
        "# Baseline\n",
        "\n",
        "Since we now know that 'MT OS ' is the most common label in the data with 957 occurences, we can set a naive baseline prediction: We will predict that an unlabeled new text belongs to this biggest class. In this case our prediction accuracy is the pure share of the biggest class in the data:"
      ]
    },
    {
      "cell_type": "code",
      "metadata": {
        "id": "_vU1dkUOyhQH",
        "colab_type": "code",
        "outputId": "53ba4644-eec0-4780-f1b7-fb852f2c5656",
        "colab": {
          "base_uri": "https://localhost:8080/",
          "height": 36
        }
      },
      "source": [
        "print(\"Classification baseline: \", round((957/df.shape[0])*100,1), \"percent\") # here the original data without modifications for training of classificators "
      ],
      "execution_count": 9,
      "outputs": [
        {
          "output_type": "stream",
          "text": [
            "Classification baseline:  12.7 percent\n"
          ],
          "name": "stdout"
        }
      ]
    },
    {
      "cell_type": "markdown",
      "metadata": {
        "id": "gh_AQXZLHkXz",
        "colab_type": "text"
      },
      "source": [
        "# Milestone 1.1: Bag-of-words classifier (multi-class)\n",
        "\n",
        "Train a bag-of-words classifier to predict the register categories. In this milestone, the setting is multi-class, so the register label combinations form the classes, e.g. NA_NE and NA_NE_OP_OB. \n",
        "\n",
        "- Evaluate your model and report your results with different hyperparameters\n",
        "- Ideas to try:\n",
        "  - Different activation functions\n",
        "  - Altering the learning rate\n",
        "  - Use different optimizers\n",
        "  - Adjusting the vocabulary size of the embeddings\n",
        "\n",
        "- Activation functions and optimizers supported by Keras can be found here: https://keras.io/\n"
      ]
    },
    {
      "cell_type": "markdown",
      "metadata": {
        "id": "t2FGFhSxaVye",
        "colab_type": "text"
      },
      "source": [
        "Bow classifier is only interested in the multiplicity or appearance of words (or to be precise n-garms). Hence we loose the textual context and order of the words (n-grams). This inevitably leads to some information loss."
      ]
    },
    {
      "cell_type": "markdown",
      "metadata": {
        "id": "CLA0Alu_y6c2",
        "colab_type": "text"
      },
      "source": [
        "## Data filtering  for milestones 1 and 2\n",
        "\n",
        "Since we can not train the model to predict labels it has not seen during training phase, we will keep only rows in dev and test data which have the labels that appear also in training data"
      ]
    },
    {
      "cell_type": "code",
      "metadata": {
        "id": "j80A7RBn0KOY",
        "colab_type": "code",
        "outputId": "408f92d9-3a6b-4198-9c30-de0d2490bc37",
        "colab": {
          "base_uri": "https://localhost:8080/",
          "height": 259
        }
      },
      "source": [
        "# Optional way to treat data if stratification is bad idea...\n",
        "\n",
        "# Gather features and labels of the data\n",
        "\n",
        "# Separate text and the associated label\n",
        "train_text = train['text']\n",
        "train_labels = train['label']\n",
        "\n",
        "# print(train_text.head())\n",
        "# print(train_labels.head())\n",
        "# print()\n",
        "\n",
        "dev_text = dev['text']\n",
        "dev_labels = dev['label']\n",
        "\n",
        "test_text = test['text']\n",
        "test_labels = test['label']\n",
        "\n",
        "labels = [train_labels, dev_labels, test_labels]\n",
        "all_labels = pd.concat(labels)\n",
        "\n",
        "print(all_labels.head(10))\n",
        "print()\n",
        "print(\"Number of unique labels in data: \", len(all_labels.unique()))"
      ],
      "execution_count": 10,
      "outputs": [
        {
          "output_type": "stream",
          "text": [
            "3982    DS IG \n",
            "2640    RS OP \n",
            "119     NE NA \n",
            "4916    SR NA \n",
            "775     MT OS \n",
            "5264      NA  \n",
            "5040    DP IN \n",
            "3446    DS IG \n",
            "216     DF ID \n",
            "863     DT IN \n",
            "Name: label, dtype: object\n",
            "\n",
            "Number of unique labels in data:  119\n"
          ],
          "name": "stdout"
        }
      ]
    },
    {
      "cell_type": "code",
      "metadata": {
        "id": "V8zX0o3bxaA8",
        "colab_type": "code",
        "outputId": "b024ebfb-fb36-437e-8718-dc96e7816cc7",
        "colab": {
          "base_uri": "https://localhost:8080/",
          "height": 166
        }
      },
      "source": [
        "print(\"Number of unique labels in\")\n",
        "print(\"-train data: \", len(np.unique(train_labels)))\n",
        "print(\"-development data: \", len(np.unique(dev_labels)))\n",
        "print(\"-test data: \", len(np.unique(test_labels)))\n",
        "print()\n",
        "inter = np.intersect1d(train_labels, dev_labels)\n",
        "inter2 = np.intersect1d(train_labels, test_labels)\n",
        "print(\"Number of shared labels in\")\n",
        "print(\"-train and development data: \", len(inter))\n",
        "print(\"-train and test data: \", len(inter2))"
      ],
      "execution_count": 11,
      "outputs": [
        {
          "output_type": "stream",
          "text": [
            "Number of unique labels in\n",
            "-train data:  100\n",
            "-development data:  58\n",
            "-test data:  70\n",
            "\n",
            "Number of shared labels in\n",
            "-train and development data:  52\n",
            "-train and test data:  57\n"
          ],
          "name": "stdout"
        }
      ]
    },
    {
      "cell_type": "code",
      "metadata": {
        "id": "5RtQipNUc-7S",
        "colab_type": "code",
        "outputId": "200cb2b6-abdf-44fa-b867-485ed8224e79",
        "colab": {
          "base_uri": "https://localhost:8080/",
          "height": 73
        }
      },
      "source": [
        "# Filter out labels not found in training data\n",
        "\n",
        "test_ = test[test['label'].isin(train_labels.tolist())]\n",
        "dev_ = dev[dev['label'].isin(train_labels.tolist())] \n",
        "\n",
        "print(test_.shape)\n",
        "print(dev_.shape)\n",
        "\n",
        "dev_text = dev_['text'] # development data for milestones 1 and 2\n",
        "dev_labels = dev_['label']\n",
        "\n",
        "test_text = test_['text'] # test data for milestones 1 and 2\n",
        "test_labels = test_['label']\n",
        "\n",
        "labels = [train_labels, dev_labels, test_labels]\n",
        "labels = pd.concat(labels)\n",
        "\n",
        "print(\"Number of unique labels in data: \", len(labels.unique()))"
      ],
      "execution_count": 12,
      "outputs": [
        {
          "output_type": "stream",
          "text": [
            "(1500, 3)\n",
            "(750, 3)\n",
            "Number of unique labels in data:  100\n"
          ],
          "name": "stdout"
        }
      ]
    },
    {
      "cell_type": "code",
      "metadata": {
        "id": "O7VZBC6QCWVi",
        "colab_type": "code",
        "outputId": "4e8677d2-fea4-478e-c77f-0fe04a77043c",
        "colab": {
          "base_uri": "https://localhost:8080/",
          "height": 166
        }
      },
      "source": [
        "print(\"Number of unique labels in\")\n",
        "print(\"-train data: \", len(np.unique(train_labels)))\n",
        "print(\"-development data: \", len(np.unique(dev_labels)))\n",
        "print(\"-test data: \", len(np.unique(test_labels)))\n",
        "print()\n",
        "inter = np.intersect1d(train_labels, dev_labels)\n",
        "inter2 = np.intersect1d(train_labels, test_labels)\n",
        "print(\"Number of shared labels in\")\n",
        "print(\"-train and development data: \", len(inter))\n",
        "print(\"-train and test data: \", len(inter2))"
      ],
      "execution_count": 13,
      "outputs": [
        {
          "output_type": "stream",
          "text": [
            "Number of unique labels in\n",
            "-train data:  100\n",
            "-development data:  52\n",
            "-test data:  57\n",
            "\n",
            "Number of shared labels in\n",
            "-train and development data:  52\n",
            "-train and test data:  57\n"
          ],
          "name": "stdout"
        }
      ]
    },
    {
      "cell_type": "markdown",
      "metadata": {
        "id": "WQ3qKWoKbeEU",
        "colab_type": "text"
      },
      "source": [
        "## Data preparation, step  1: form feature matrix\n",
        "\n",
        "We will use CountVectorizer / TfidfVectorizer from sklearn package to transform out text data to numerical format with which our classifier is able to deal with. CountVectorizer converts the collection of text documents (our training data) to a matrix of token counts. Since we are only interested in whether a particular word of the vocabulary is in a single document or not, our vectorizer is set on \"binary\". "
      ]
    },
    {
      "cell_type": "code",
      "metadata": {
        "id": "zt1fNJ7ovGge",
        "colab_type": "code",
        "outputId": "03cd8a9a-96f6-4aac-d53f-91c6444a19f9",
        "colab": {
          "base_uri": "https://localhost:8080/",
          "height": 54
        }
      },
      "source": [
        "vectorizer = TfidfVectorizer(max_features = 20000, ngram_range = (1,1)) # Grid search fails: OOM when allocating tensor of shape [85000,200]\n",
        "\n",
        "# form feature matrix\n",
        "train_feature_matrix = vectorizer.fit_transform(train_text)\n",
        "dev_feature_matrix = vectorizer.transform(dev_text)\n",
        "test_feature_matrix = vectorizer.transform(test_text)\n",
        "\n",
        "print(\"shape of the training data: \", train_feature_matrix.shape)\n",
        "print(\"shape of the development data: \", dev_feature_matrix.shape)\n"
      ],
      "execution_count": 0,
      "outputs": [
        {
          "output_type": "stream",
          "text": [
            "shape of the training data:  (5295, 20000)\n",
            "shape of the development data:  (750, 20000)\n"
          ],
          "name": "stdout"
        }
      ]
    },
    {
      "cell_type": "markdown",
      "metadata": {
        "id": "7ymmdQP4aq2E",
        "colab_type": "text"
      },
      "source": [
        "The shape of the feature matrix tells us that we have XXX items (documents) in our training data. The number of unique n-grams exceeds XXXX but we are including only the first XXXX most common of them. Since our CountVectorizer has parameter setting \"ngram_range = 1, 1\" this means we are forming the vector with unigrams, separate words or charachters."
      ]
    },
    {
      "cell_type": "markdown",
      "metadata": {
        "id": "2vTY0uwjd25w",
        "colab_type": "text"
      },
      "source": [
        "## Data preparation, step 2: Label encoding and one hot encoding\n",
        "\n",
        "Next we will encode the labels. This means transforming the textual labels to numeric values, which our model is able to deal with. This step is made with LabelEncoder class."
      ]
    },
    {
      "cell_type": "code",
      "metadata": {
        "id": "_O_yBCz62umP",
        "colab_type": "code",
        "outputId": "b8cc60d2-a574-414f-9c0a-d52881612a4a",
        "colab": {
          "base_uri": "https://localhost:8080/",
          "height": 315
        }
      },
      "source": [
        "# label encoding \n",
        "\n",
        "label_encoder = LabelEncoder() # Create the instance of LabelEncoder we use to turn class labels into integers\n",
        "\n",
        "train_numbers = label_encoder.fit_transform(train_labels) # encode labels to integers\n",
        "dev_numbers = label_encoder.transform(dev_labels) \n",
        "test_numbers = label_encoder.transform(test_labels) \n",
        "\n",
        "print(\"Inverse transform gives unique labels in each data set: \", label_encoder.inverse_transform(train_numbers))\n",
        "print(\"Sanity checks, do we have as many labels and texts in our data sets?\")\n",
        "print(\"Train data: \", len(train_numbers), len(train_text))\n",
        "print(\"Dev data: \", len(dev_numbers), len(dev_text))\n",
        "print(\"Test data: \", len(test_numbers), len(test_text))\n",
        "\n",
        "# one hot encoding\n",
        "\n",
        "one_hot_encoder = OneHotEncoder(sparse=False)\n",
        "train_hot=one_hot_encoder.fit_transform(train_numbers.reshape(-1,1))\n",
        "dev_hot=one_hot_encoder.transform(dev_numbers.reshape(-1,1))\n",
        "test_hot=one_hot_encoder.transform(test_numbers.reshape(-1,1))\n",
        "print()\n",
        "print(train_hot.shape)\n",
        "print(dev_hot.shape)\n",
        "print(test_hot.shape)\n",
        "train_hot"
      ],
      "execution_count": 0,
      "outputs": [
        {
          "output_type": "stream",
          "text": [
            "Inverse transform gives unique labels in each data set:  ['DS IG ' 'RS OP ' 'NE NA ' ... 'DS IG ' 'MT OS ' 'MT OS ']\n",
            "Sanity checks, do we have as many labels and texts in our data sets?\n",
            "Train data:  5295 5295\n",
            "Dev data:  750 750\n",
            "Test data:  1500 1500\n",
            "\n",
            "(5295, 100)\n",
            "(750, 100)\n",
            "(1500, 100)\n"
          ],
          "name": "stdout"
        },
        {
          "output_type": "execute_result",
          "data": {
            "text/plain": [
              "array([[0., 0., 0., ..., 0., 0., 0.],\n",
              "       [0., 0., 0., ..., 0., 0., 0.],\n",
              "       [0., 0., 0., ..., 0., 0., 0.],\n",
              "       ...,\n",
              "       [0., 0., 0., ..., 0., 0., 0.],\n",
              "       [0., 0., 0., ..., 0., 0., 0.],\n",
              "       [0., 0., 0., ..., 0., 0., 0.]])"
            ]
          },
          "metadata": {
            "tags": []
          },
          "execution_count": 107
        }
      ]
    },
    {
      "cell_type": "code",
      "metadata": {
        "id": "OV3RDtU7J2di",
        "colab_type": "code",
        "colab": {}
      },
      "source": [
        "# LabelEncoderin testailua ÄLÄ HÄVITÄ!!!!!!\n",
        "\n",
        "# le = LabelEncoder()\n",
        "# le.fit([\"paris\", \"paris\", \"tokyo\", \"amsterdam\"]) # encode tee koodaus\n",
        "# print(\"Koodaukset: \", list(le.classes_))\n",
        "# print()\n",
        "# le.transform([\"tokyo\", \"tokyo\", \"paris\"]) # käytä koodausta arvojen transformointiin --> numeeriset arvot\n",
        "# num = le.transform([\"tokyo\", \"tokyo\", \"paris\"])\n",
        "# print(\"Sovitetulla encoderilla tuotetut numeeriset arvot muuttujalistasta: \", num)\n",
        "# print()\n",
        "# print(\"Inverse transform: \", list(le.inverse_transform([2, 2, 1])))\n",
        "# print()\n",
        "# test = le.fit_transform([\"paris\", \"paris\", \"tokyo\", \"amsterdam\"]) # encode and transform\n",
        "# print(\"Koodit kolmella\", test)\n",
        "\n",
        "# le.fit([\"paris\", \"paris\", \"tokyo\", \"amsterdam\", \"helsinki\"])\n",
        "# #print(list(le.classes_))\n",
        "\n",
        "# test = le.fit_transform([\"paris\", \"helsinki\", \"tokyo\", \"amsterdam\"]) # encode and transform\n",
        "# print(\"Koodit neljällä\", test)\n",
        "\n",
        "# print(list(le.inverse_transform([2, 2, 1])))\n"
      ],
      "execution_count": 0,
      "outputs": []
    },
    {
      "cell_type": "markdown",
      "metadata": {
        "id": "R-9_7r6FeRS5",
        "colab_type": "text"
      },
      "source": [
        "Now the data is prepared for milestone 1.\n",
        "\n",
        "## Cross validation and hyperparameter optimization with Gridsearch\n",
        "\n",
        "Join train and dev data for CV grid search.\n",
        "\n",
        "Approach: Select prominent optimizers and optimize rest of the hyperparams for it. Since other hyperparams affect the optimizer performance it is not a \"fair competition\" to optimize optimizers with all the rest hyperparams set to some values. We have to deal with memory constraints also. This significantly limits the set of hyperparametrs we can optimize at once.\n",
        "\n",
        "Here Adam and SGD are explored."
      ]
    },
    {
      "cell_type": "code",
      "metadata": {
        "id": "eAoJ6ZArns0j",
        "colab_type": "code",
        "outputId": "41058cb0-fcc8-48c0-ec40-966da64018cd",
        "colab": {
          "base_uri": "https://localhost:8080/",
          "height": 110
        }
      },
      "source": [
        "# Data preparation\n",
        "\n",
        "# features \n",
        "frames = [train, dev_]\n",
        "joint = pd.concat(frames)\n",
        "joint_feature_matrix = vectorizer.fit_transform(joint['text'])\n",
        "\n",
        "# labels, one hot encoded\n",
        "print(type(train_hot))\n",
        "print(train_hot.shape)\n",
        "print(dev_hot.shape)\n",
        "joint_labels= np.concatenate((train_hot, dev_hot))\n",
        "print(joint_labels.shape)\n",
        "\n",
        "print(joint_feature_matrix.shape)"
      ],
      "execution_count": 0,
      "outputs": [
        {
          "output_type": "stream",
          "text": [
            "<class 'numpy.ndarray'>\n",
            "(5295, 100)\n",
            "(750, 100)\n",
            "(6045, 100)\n",
            "(6045, 20000)\n"
          ],
          "name": "stdout"
        }
      ]
    },
    {
      "cell_type": "markdown",
      "metadata": {
        "id": "WWUSL5YoSARM",
        "colab_type": "text"
      },
      "source": [
        "## Optimizer: SGD\n",
        "\n",
        "### Step 1.1 Build and compile model"
      ]
    },
    {
      "cell_type": "code",
      "metadata": {
        "id": "8cdWVH9iQpVV",
        "colab_type": "code",
        "colab": {}
      },
      "source": [
        "example_count, feature_count = joint_feature_matrix.shape\n",
        "class_count = len(labels.unique())\n",
        "\n",
        "def create_bow_model_SGD(learning_rate=0.01, nodes=200):\n",
        "  inp = Input(shape=(feature_count,))\n",
        "  hidden1 = Dense(nodes, activation=\"relu\")(inp)\n",
        " # hidden2 = Dense(nodes, activation=\"relu\")(hidden1) # multiple hidden layers possible but slow down hyperparameter optimization\n",
        "  dropout = Dropout(0.3)(hidden1)\n",
        "  outp = Dense(class_count, activation='softmax')(dropout)\n",
        "  model = Model(inputs=[inp], outputs=[outp])\n",
        "  optimizer = optimizers.SGD(learning_rate=learning_rate) # also hyperparameter momentum could be optimized\n",
        "  model.compile(optimizer = optimizer, loss=\"sparse_categorical_crossentropy\", metrics=['accuracy'])\n",
        "  return model"
      ],
      "execution_count": 0,
      "outputs": []
    },
    {
      "cell_type": "code",
      "metadata": {
        "id": "QkzqF6nkT98F",
        "colab_type": "code",
        "outputId": "0dc59dca-742d-4d3c-e07b-d4ff3d5ccff5",
        "colab": {
          "base_uri": "https://localhost:8080/",
          "height": 315
        }
      },
      "source": [
        "model = create_bow_model_SGD()\n",
        "model.summary()"
      ],
      "execution_count": 0,
      "outputs": [
        {
          "output_type": "stream",
          "text": [
            "Model: \"model_5\"\n",
            "_________________________________________________________________\n",
            "Layer (type)                 Output Shape              Param #   \n",
            "=================================================================\n",
            "input_6 (InputLayer)         [(None, 20000)]           0         \n",
            "_________________________________________________________________\n",
            "dense_7 (Dense)              (None, 200)               4000200   \n",
            "_________________________________________________________________\n",
            "dropout (Dropout)            (None, 200)               0         \n",
            "_________________________________________________________________\n",
            "dense_8 (Dense)              (None, 100)               20100     \n",
            "=================================================================\n",
            "Total params: 4,020,300\n",
            "Trainable params: 4,020,300\n",
            "Non-trainable params: 0\n",
            "_________________________________________________________________\n"
          ],
          "name": "stdout"
        }
      ]
    },
    {
      "cell_type": "markdown",
      "metadata": {
        "id": "UjQl3cVXXota",
        "colab_type": "text"
      },
      "source": [
        "### Step 1.2: GridSearch"
      ]
    },
    {
      "cell_type": "code",
      "metadata": {
        "id": "iNXj8TvOQN6h",
        "colab_type": "code",
        "colab": {}
      },
      "source": [
        "#tensorflow.compat.v1.disable_eager_execution()\n",
        "stop_cb = EarlyStopping(monitor = 'accuracy', patience=20, verbose=1, mode='auto', baseline=None, restore_best_weights=True)\n",
        "\n",
        "# If the error only occurs when you use smaller datasets, you're very likely using datasets small enough to not have a single sample in the validation set. \n",
        "\n",
        "bow_model_SGD = KerasClassifier(build_fn=create_bow_model_SGD, epochs=40, batch_size=32, verbose=1)"
      ],
      "execution_count": 0,
      "outputs": []
    },
    {
      "cell_type": "code",
      "metadata": {
        "id": "AvHQGoNB0q9e",
        "colab_type": "code",
        "outputId": "88593b52-8012-4ed5-b62f-f0a8f8468011",
        "colab": {
          "base_uri": "https://localhost:8080/",
          "height": 1000
        }
      },
      "source": [
        "start = datetime.now()\n",
        "print(\"start time =\", start)\n",
        "\n",
        "# set the hyperparameter: example: np.logspace(-10, 1, num = 7, base = 2)\n",
        "learning_rate = np.logspace(-7, 0, num = 5, base = 2).tolist()\n",
        "params = dict(learning_rate = learning_rate)\n",
        "\n",
        "grid = GridSearchCV(estimator = bow_model_SGD, param_grid = params, n_jobs = 1, cv = 3 , verbose  = 1)  # cv: For integer/None inputs, if the estimator is a classifier and y is \n",
        "                                                                                                        # either binary or multiclass, StratifiedKFold is used.\n",
        "X = joint_feature_matrix.toarray()\n",
        "    \n",
        "grid_result_SGD = grid.fit(X, joint_numbers, callbacks=[stop_cb, mc_cb])\n",
        "\n",
        "end = datetime.now()\n",
        "print(\"end time =\", end)"
      ],
      "execution_count": 0,
      "outputs": [
        {
          "output_type": "stream",
          "text": [
            "start time = 2020-05-01 10:54:05.028913\n",
            "Fitting 3 folds for each of 5 candidates, totalling 15 fits\n"
          ],
          "name": "stdout"
        },
        {
          "output_type": "stream",
          "text": [
            "[Parallel(n_jobs=1)]: Using backend SequentialBackend with 1 concurrent workers.\n"
          ],
          "name": "stderr"
        },
        {
          "output_type": "stream",
          "text": [
            "Epoch 1/40\n",
            "4030/4030 [==============================] - 1s 273us/step - loss: 4.5955 - accuracy: 0.0787\n",
            "Epoch 2/40\n",
            "4030/4030 [==============================] - 1s 158us/step - loss: 4.5714 - accuracy: 0.1328\n",
            "Epoch 3/40\n",
            "4030/4030 [==============================] - 1s 160us/step - loss: 4.5463 - accuracy: 0.1340\n",
            "Epoch 4/40\n",
            "4030/4030 [==============================] - 1s 161us/step - loss: 4.5197 - accuracy: 0.1380\n",
            "Epoch 5/40\n",
            "4030/4030 [==============================] - 1s 158us/step - loss: 4.4928 - accuracy: 0.1385\n",
            "Epoch 6/40\n",
            "4030/4030 [==============================] - 1s 159us/step - loss: 4.4656 - accuracy: 0.1355\n",
            "Epoch 7/40\n",
            "4030/4030 [==============================] - 1s 160us/step - loss: 4.4367 - accuracy: 0.1414\n",
            "Epoch 8/40\n",
            "4030/4030 [==============================] - 1s 159us/step - loss: 4.4078 - accuracy: 0.1422\n",
            "Epoch 9/40\n",
            "4030/4030 [==============================] - 1s 159us/step - loss: 4.3778 - accuracy: 0.1370\n",
            "Epoch 10/40\n",
            "4030/4030 [==============================] - 1s 160us/step - loss: 4.3469 - accuracy: 0.1372\n",
            "Epoch 11/40\n",
            "4030/4030 [==============================] - 1s 158us/step - loss: 4.3147 - accuracy: 0.1375\n",
            "Epoch 12/40\n",
            "4030/4030 [==============================] - 1s 158us/step - loss: 4.2808 - accuracy: 0.1380\n",
            "Epoch 13/40\n",
            "4030/4030 [==============================] - 1s 161us/step - loss: 4.2448 - accuracy: 0.1367\n",
            "Epoch 14/40\n",
            "4030/4030 [==============================] - 1s 159us/step - loss: 4.2087 - accuracy: 0.1350\n",
            "Epoch 15/40\n",
            "4030/4030 [==============================] - 1s 157us/step - loss: 4.1698 - accuracy: 0.1370\n",
            "Epoch 16/40\n",
            "4030/4030 [==============================] - 1s 158us/step - loss: 4.1279 - accuracy: 0.1367\n",
            "Epoch 17/40\n",
            "4030/4030 [==============================] - 1s 158us/step - loss: 4.0828 - accuracy: 0.1355\n",
            "Epoch 18/40\n",
            "4030/4030 [==============================] - 1s 160us/step - loss: 4.0411 - accuracy: 0.1370\n",
            "Epoch 19/40\n",
            "4030/4030 [==============================] - 1s 163us/step - loss: 3.9944 - accuracy: 0.1370\n",
            "Epoch 20/40\n",
            "4030/4030 [==============================] - 1s 160us/step - loss: 3.9491 - accuracy: 0.1340\n",
            "Epoch 21/40\n",
            "4030/4030 [==============================] - 1s 159us/step - loss: 3.8981 - accuracy: 0.1370\n",
            "Epoch 22/40\n",
            "4030/4030 [==============================] - 1s 160us/step - loss: 3.8489 - accuracy: 0.1370\n",
            "Epoch 23/40\n",
            "4030/4030 [==============================] - 1s 159us/step - loss: 3.8041 - accuracy: 0.1385\n",
            "Epoch 24/40\n",
            "4030/4030 [==============================] - 1s 160us/step - loss: 3.7584 - accuracy: 0.1330\n",
            "Epoch 25/40\n",
            "4030/4030 [==============================] - 1s 160us/step - loss: 3.7140 - accuracy: 0.1347\n",
            "Epoch 26/40\n",
            "4030/4030 [==============================] - 1s 160us/step - loss: 3.6775 - accuracy: 0.1328\n",
            "Epoch 27/40\n",
            "4030/4030 [==============================] - 1s 162us/step - loss: 3.6398 - accuracy: 0.1333\n",
            "Epoch 28/40\n",
            "4030/4030 [==============================] - 1s 158us/step - loss: 3.6073 - accuracy: 0.1290\n",
            "Restoring model weights from the end of the best epoch\n",
            "Epoch 00028: early stopping\n",
            "2015/2015 [==============================] - 1s 362us/step\n",
            "Epoch 1/40\n",
            "4030/4030 [==============================] - 1s 280us/step - loss: 4.5940 - accuracy: 0.0794\n",
            "Epoch 2/40\n",
            "4030/4030 [==============================] - 1s 157us/step - loss: 4.5681 - accuracy: 0.1295\n",
            "Epoch 3/40\n",
            "4030/4030 [==============================] - 1s 157us/step - loss: 4.5404 - accuracy: 0.1313\n",
            "Epoch 4/40\n",
            "4030/4030 [==============================] - 1s 157us/step - loss: 4.5117 - accuracy: 0.1278\n",
            "Epoch 5/40\n",
            "4030/4030 [==============================] - 1s 158us/step - loss: 4.4821 - accuracy: 0.1303\n",
            "Epoch 6/40\n",
            "4030/4030 [==============================] - 1s 158us/step - loss: 4.4521 - accuracy: 0.1305\n",
            "Epoch 7/40\n",
            "4030/4030 [==============================] - 1s 159us/step - loss: 4.4210 - accuracy: 0.1238\n",
            "Epoch 8/40\n",
            "4030/4030 [==============================] - 1s 157us/step - loss: 4.3893 - accuracy: 0.1256\n",
            "Epoch 9/40\n",
            "4030/4030 [==============================] - 1s 155us/step - loss: 4.3556 - accuracy: 0.1223\n",
            "Epoch 10/40\n",
            "4030/4030 [==============================] - 1s 158us/step - loss: 4.3208 - accuracy: 0.1261\n",
            "Epoch 11/40\n",
            "4030/4030 [==============================] - 1s 157us/step - loss: 4.2853 - accuracy: 0.1253\n",
            "Epoch 12/40\n",
            "4030/4030 [==============================] - 1s 156us/step - loss: 4.2472 - accuracy: 0.1223\n",
            "Epoch 13/40\n",
            "4030/4030 [==============================] - 1s 158us/step - loss: 4.2067 - accuracy: 0.1231\n",
            "Epoch 14/40\n",
            "4030/4030 [==============================] - 1s 158us/step - loss: 4.1631 - accuracy: 0.1236\n",
            "Epoch 15/40\n",
            "4030/4030 [==============================] - 1s 158us/step - loss: 4.1222 - accuracy: 0.1223\n",
            "Epoch 16/40\n",
            "4030/4030 [==============================] - 1s 159us/step - loss: 4.0756 - accuracy: 0.1213\n",
            "Epoch 17/40\n",
            "4030/4030 [==============================] - 1s 159us/step - loss: 4.0311 - accuracy: 0.1231\n",
            "Epoch 18/40\n",
            "4030/4030 [==============================] - 1s 158us/step - loss: 3.9801 - accuracy: 0.1191\n",
            "Epoch 19/40\n",
            "4030/4030 [==============================] - 1s 159us/step - loss: 3.9317 - accuracy: 0.1231\n",
            "Epoch 20/40\n",
            "4030/4030 [==============================] - 1s 159us/step - loss: 3.8820 - accuracy: 0.1213\n",
            "Epoch 21/40\n",
            "4030/4030 [==============================] - 1s 159us/step - loss: 3.8359 - accuracy: 0.1206\n",
            "Epoch 22/40\n",
            "4030/4030 [==============================] - 1s 160us/step - loss: 3.7866 - accuracy: 0.1233\n",
            "Epoch 23/40\n",
            "4030/4030 [==============================] - 1s 158us/step - loss: 3.7439 - accuracy: 0.1223\n",
            "Restoring model weights from the end of the best epoch\n",
            "Epoch 00023: early stopping\n",
            "2015/2015 [==============================] - 1s 370us/step\n",
            "Epoch 1/40\n",
            "4030/4030 [==============================] - 1s 276us/step - loss: 4.5909 - accuracy: 0.1122\n",
            "Epoch 2/40\n",
            "4030/4030 [==============================] - 1s 150us/step - loss: 4.5637 - accuracy: 0.1330\n",
            "Epoch 3/40\n",
            "4030/4030 [==============================] - 1s 150us/step - loss: 4.5335 - accuracy: 0.1318\n",
            "Epoch 4/40\n",
            "4030/4030 [==============================] - 1s 152us/step - loss: 4.5024 - accuracy: 0.1325\n",
            "Epoch 5/40\n",
            "4030/4030 [==============================] - 1s 150us/step - loss: 4.4696 - accuracy: 0.1323\n",
            "Epoch 6/40\n",
            "4030/4030 [==============================] - 1s 152us/step - loss: 4.4358 - accuracy: 0.1323\n",
            "Epoch 7/40\n",
            "4030/4030 [==============================] - 1s 149us/step - loss: 4.4015 - accuracy: 0.1325\n",
            "Epoch 8/40\n",
            "4030/4030 [==============================] - 1s 149us/step - loss: 4.3664 - accuracy: 0.1323\n",
            "Epoch 9/40\n",
            "4030/4030 [==============================] - 1s 148us/step - loss: 4.3290 - accuracy: 0.1323\n",
            "Epoch 10/40\n",
            "4030/4030 [==============================] - 1s 150us/step - loss: 4.2906 - accuracy: 0.1323\n",
            "Epoch 11/40\n",
            "4030/4030 [==============================] - 1s 151us/step - loss: 4.2499 - accuracy: 0.1323\n",
            "Epoch 12/40\n",
            "4030/4030 [==============================] - 1s 152us/step - loss: 4.2083 - accuracy: 0.1323\n",
            "Epoch 13/40\n",
            "4030/4030 [==============================] - 1s 151us/step - loss: 4.1619 - accuracy: 0.1323\n",
            "Epoch 14/40\n",
            "4030/4030 [==============================] - 1s 150us/step - loss: 4.1156 - accuracy: 0.1323\n",
            "Epoch 15/40\n",
            "4030/4030 [==============================] - 1s 150us/step - loss: 4.0661 - accuracy: 0.1323\n",
            "Epoch 16/40\n",
            "4030/4030 [==============================] - 1s 150us/step - loss: 4.0153 - accuracy: 0.1323\n",
            "Epoch 17/40\n",
            "4030/4030 [==============================] - 1s 153us/step - loss: 3.9642 - accuracy: 0.1325\n",
            "Epoch 18/40\n",
            "4030/4030 [==============================] - 1s 149us/step - loss: 3.9124 - accuracy: 0.1323\n",
            "Epoch 19/40\n",
            "4030/4030 [==============================] - 1s 152us/step - loss: 3.8603 - accuracy: 0.1323\n",
            "Epoch 20/40\n",
            "4030/4030 [==============================] - 1s 151us/step - loss: 3.8083 - accuracy: 0.1323\n",
            "Epoch 21/40\n",
            "4030/4030 [==============================] - 1s 151us/step - loss: 3.7589 - accuracy: 0.1323\n",
            "Epoch 22/40\n",
            "4030/4030 [==============================] - 1s 151us/step - loss: 3.7127 - accuracy: 0.1320\n",
            "Restoring model weights from the end of the best epoch\n",
            "Epoch 00022: early stopping\n",
            "2015/2015 [==============================] - 1s 347us/step\n",
            "Epoch 1/40\n",
            "4030/4030 [==============================] - 1s 273us/step - loss: 4.5639 - accuracy: 0.1226\n",
            "Epoch 2/40\n",
            "4030/4030 [==============================] - 1s 149us/step - loss: 4.4678 - accuracy: 0.1288\n",
            "Epoch 3/40\n",
            "4030/4030 [==============================] - 1s 150us/step - loss: 4.3597 - accuracy: 0.1283\n",
            "Epoch 4/40\n",
            "4030/4030 [==============================] - 1s 149us/step - loss: 4.2368 - accuracy: 0.1283\n",
            "Epoch 5/40\n",
            "4030/4030 [==============================] - 1s 149us/step - loss: 4.0924 - accuracy: 0.1283\n",
            "Epoch 6/40\n",
            "4030/4030 [==============================] - 1s 151us/step - loss: 3.9304 - accuracy: 0.1283\n",
            "Epoch 7/40\n",
            "4030/4030 [==============================] - 1s 151us/step - loss: 3.7719 - accuracy: 0.1283\n",
            "Epoch 8/40\n",
            "4030/4030 [==============================] - 1s 151us/step - loss: 3.6367 - accuracy: 0.1283\n",
            "Epoch 9/40\n",
            "4030/4030 [==============================] - 1s 150us/step - loss: 3.5401 - accuracy: 0.1303\n",
            "Epoch 10/40\n",
            "4030/4030 [==============================] - 1s 152us/step - loss: 3.4633 - accuracy: 0.1315\n",
            "Epoch 11/40\n",
            "4030/4030 [==============================] - 1s 157us/step - loss: 3.4147 - accuracy: 0.1419\n",
            "Epoch 12/40\n",
            "4030/4030 [==============================] - 1s 156us/step - loss: 3.3753 - accuracy: 0.1414\n",
            "Epoch 13/40\n",
            "4030/4030 [==============================] - 1s 157us/step - loss: 3.3407 - accuracy: 0.1449\n",
            "Epoch 14/40\n",
            "4030/4030 [==============================] - 1s 156us/step - loss: 3.3157 - accuracy: 0.1474\n",
            "Epoch 15/40\n",
            "4030/4030 [==============================] - 1s 150us/step - loss: 3.2879 - accuracy: 0.1603\n",
            "Epoch 16/40\n",
            "4030/4030 [==============================] - 1s 152us/step - loss: 3.2673 - accuracy: 0.1533\n",
            "Epoch 17/40\n",
            "4030/4030 [==============================] - 1s 150us/step - loss: 3.2559 - accuracy: 0.1593\n",
            "Epoch 18/40\n",
            "4030/4030 [==============================] - 1s 151us/step - loss: 3.2456 - accuracy: 0.1573\n",
            "Epoch 19/40\n",
            "4030/4030 [==============================] - 1s 152us/step - loss: 3.2311 - accuracy: 0.1633\n",
            "Epoch 20/40\n",
            "4030/4030 [==============================] - 1s 153us/step - loss: 3.2205 - accuracy: 0.1586\n",
            "Epoch 21/40\n",
            "4030/4030 [==============================] - 1s 150us/step - loss: 3.2107 - accuracy: 0.1618\n",
            "Epoch 22/40\n",
            "4030/4030 [==============================] - 1s 151us/step - loss: 3.1988 - accuracy: 0.1707\n",
            "Epoch 23/40\n",
            "4030/4030 [==============================] - 1s 151us/step - loss: 3.1939 - accuracy: 0.1650\n",
            "Epoch 24/40\n",
            "4030/4030 [==============================] - 1s 150us/step - loss: 3.1850 - accuracy: 0.1677\n",
            "Epoch 25/40\n",
            "4030/4030 [==============================] - 1s 151us/step - loss: 3.1841 - accuracy: 0.1819\n",
            "Epoch 26/40\n",
            "4030/4030 [==============================] - 1s 152us/step - loss: 3.1686 - accuracy: 0.1839\n",
            "Epoch 27/40\n",
            "4030/4030 [==============================] - 1s 150us/step - loss: 3.1664 - accuracy: 0.1789\n",
            "Epoch 28/40\n",
            "4030/4030 [==============================] - 1s 151us/step - loss: 3.1558 - accuracy: 0.1898\n",
            "Epoch 29/40\n",
            "4030/4030 [==============================] - 1s 152us/step - loss: 3.1573 - accuracy: 0.1816\n",
            "Epoch 30/40\n",
            "4030/4030 [==============================] - 1s 152us/step - loss: 3.1473 - accuracy: 0.1792\n",
            "Epoch 31/40\n",
            "4030/4030 [==============================] - 1s 149us/step - loss: 3.1459 - accuracy: 0.1931\n",
            "Epoch 32/40\n",
            "4030/4030 [==============================] - 1s 151us/step - loss: 3.1362 - accuracy: 0.1903\n",
            "Epoch 33/40\n",
            "4030/4030 [==============================] - 1s 149us/step - loss: 3.1370 - accuracy: 0.1903\n",
            "Epoch 34/40\n",
            "4030/4030 [==============================] - 1s 151us/step - loss: 3.1245 - accuracy: 0.2030\n",
            "Epoch 35/40\n",
            "4030/4030 [==============================] - 1s 150us/step - loss: 3.1287 - accuracy: 0.2040\n",
            "Epoch 36/40\n",
            "4030/4030 [==============================] - 1s 153us/step - loss: 3.1166 - accuracy: 0.1965\n",
            "Epoch 37/40\n",
            "4030/4030 [==============================] - 1s 151us/step - loss: 3.1153 - accuracy: 0.2060\n",
            "Epoch 38/40\n",
            "4030/4030 [==============================] - 1s 152us/step - loss: 3.1076 - accuracy: 0.2176\n",
            "Epoch 39/40\n",
            "4030/4030 [==============================] - 1s 155us/step - loss: 3.1028 - accuracy: 0.2082\n",
            "Epoch 40/40\n",
            "4030/4030 [==============================] - 1s 154us/step - loss: 3.0989 - accuracy: 0.2129\n",
            "2015/2015 [==============================] - 1s 360us/step\n",
            "Epoch 1/40\n",
            "4030/4030 [==============================] - 1s 308us/step - loss: 4.5604 - accuracy: 0.1084\n",
            "Epoch 2/40\n",
            "4030/4030 [==============================] - 1s 160us/step - loss: 4.4510 - accuracy: 0.1263\n",
            "Epoch 3/40\n",
            "4030/4030 [==============================] - 1s 160us/step - loss: 4.3284 - accuracy: 0.1194\n",
            "Epoch 4/40\n",
            "4030/4030 [==============================] - 1s 156us/step - loss: 4.1866 - accuracy: 0.1221\n",
            "Epoch 5/40\n",
            "4030/4030 [==============================] - 1s 157us/step - loss: 4.0256 - accuracy: 0.1226\n",
            "Epoch 6/40\n",
            "4030/4030 [==============================] - 1s 156us/step - loss: 3.8519 - accuracy: 0.1201\n",
            "Epoch 7/40\n",
            "4030/4030 [==============================] - 1s 155us/step - loss: 3.6923 - accuracy: 0.1213\n",
            "Epoch 8/40\n",
            "4030/4030 [==============================] - 1s 155us/step - loss: 3.5733 - accuracy: 0.1258\n",
            "Epoch 9/40\n",
            "4030/4030 [==============================] - 1s 156us/step - loss: 3.4928 - accuracy: 0.1263\n",
            "Epoch 10/40\n",
            "4030/4030 [==============================] - 1s 156us/step - loss: 3.4376 - accuracy: 0.1335\n",
            "Epoch 11/40\n",
            "4030/4030 [==============================] - 1s 155us/step - loss: 3.3943 - accuracy: 0.1337\n",
            "Epoch 12/40\n",
            "4030/4030 [==============================] - 1s 154us/step - loss: 3.3574 - accuracy: 0.1315\n",
            "Epoch 13/40\n",
            "4030/4030 [==============================] - 1s 156us/step - loss: 3.3316 - accuracy: 0.1370\n",
            "Epoch 14/40\n",
            "4030/4030 [==============================] - 1s 156us/step - loss: 3.3045 - accuracy: 0.1412\n",
            "Epoch 15/40\n",
            "4030/4030 [==============================] - 1s 157us/step - loss: 3.2892 - accuracy: 0.1409\n",
            "Epoch 16/40\n",
            "4030/4030 [==============================] - 1s 157us/step - loss: 3.2701 - accuracy: 0.1352\n",
            "Epoch 17/40\n",
            "4030/4030 [==============================] - 1s 158us/step - loss: 3.2526 - accuracy: 0.1424\n",
            "Epoch 18/40\n",
            "4030/4030 [==============================] - 1s 157us/step - loss: 3.2475 - accuracy: 0.1382\n",
            "Epoch 19/40\n",
            "4030/4030 [==============================] - 1s 157us/step - loss: 3.2353 - accuracy: 0.1504\n",
            "Epoch 20/40\n",
            "4030/4030 [==============================] - 1s 157us/step - loss: 3.2234 - accuracy: 0.1496\n",
            "Epoch 21/40\n",
            "4030/4030 [==============================] - 1s 156us/step - loss: 3.2227 - accuracy: 0.1514\n",
            "Epoch 22/40\n",
            "4030/4030 [==============================] - 1s 155us/step - loss: 3.2132 - accuracy: 0.1471\n",
            "Epoch 23/40\n",
            "4030/4030 [==============================] - 1s 158us/step - loss: 3.2006 - accuracy: 0.1558\n",
            "Epoch 24/40\n",
            "4030/4030 [==============================] - 1s 158us/step - loss: 3.1969 - accuracy: 0.1566\n",
            "Epoch 25/40\n",
            "4030/4030 [==============================] - 1s 156us/step - loss: 3.1891 - accuracy: 0.1603\n",
            "Epoch 26/40\n",
            "4030/4030 [==============================] - 1s 155us/step - loss: 3.1820 - accuracy: 0.1553\n",
            "Epoch 27/40\n",
            "4030/4030 [==============================] - 1s 154us/step - loss: 3.1776 - accuracy: 0.1588\n",
            "Epoch 28/40\n",
            "4030/4030 [==============================] - 1s 155us/step - loss: 3.1722 - accuracy: 0.1670\n",
            "Epoch 29/40\n",
            "4030/4030 [==============================] - 1s 156us/step - loss: 3.1666 - accuracy: 0.1715\n",
            "Epoch 30/40\n",
            "4030/4030 [==============================] - 1s 155us/step - loss: 3.1563 - accuracy: 0.1734\n",
            "Epoch 31/40\n",
            "4030/4030 [==============================] - 1s 156us/step - loss: 3.1546 - accuracy: 0.1710\n",
            "Epoch 32/40\n",
            "4030/4030 [==============================] - 1s 155us/step - loss: 3.1554 - accuracy: 0.1653\n",
            "Epoch 33/40\n",
            "4030/4030 [==============================] - 1s 155us/step - loss: 3.1483 - accuracy: 0.1772\n",
            "Epoch 34/40\n",
            "4030/4030 [==============================] - 1s 155us/step - loss: 3.1442 - accuracy: 0.1787\n",
            "Epoch 35/40\n",
            "4030/4030 [==============================] - 1s 156us/step - loss: 3.1409 - accuracy: 0.1844\n",
            "Epoch 36/40\n",
            "4030/4030 [==============================] - 1s 156us/step - loss: 3.1399 - accuracy: 0.1752\n",
            "Epoch 37/40\n",
            "4030/4030 [==============================] - 1s 154us/step - loss: 3.1322 - accuracy: 0.1901\n",
            "Epoch 38/40\n",
            "4030/4030 [==============================] - 1s 157us/step - loss: 3.1252 - accuracy: 0.1950\n",
            "Epoch 39/40\n",
            "4030/4030 [==============================] - 1s 155us/step - loss: 3.1229 - accuracy: 0.1886\n",
            "Epoch 40/40\n",
            "4030/4030 [==============================] - 1s 153us/step - loss: 3.1191 - accuracy: 0.1841\n",
            "2015/2015 [==============================] - 1s 368us/step\n",
            "Epoch 1/40\n",
            "4030/4030 [==============================] - 1s 292us/step - loss: 4.5551 - accuracy: 0.1313\n",
            "Epoch 2/40\n",
            "4030/4030 [==============================] - 1s 165us/step - loss: 4.4396 - accuracy: 0.1476\n",
            "Epoch 3/40\n",
            "4030/4030 [==============================] - 1s 163us/step - loss: 4.3093 - accuracy: 0.1496\n",
            "Epoch 4/40\n",
            "4030/4030 [==============================] - 1s 165us/step - loss: 4.1581 - accuracy: 0.1489\n",
            "Epoch 5/40\n",
            "4030/4030 [==============================] - 1s 165us/step - loss: 3.9852 - accuracy: 0.1504\n",
            "Epoch 6/40\n",
            "4030/4030 [==============================] - 1s 164us/step - loss: 3.8041 - accuracy: 0.1367\n",
            "Epoch 7/40\n",
            "4030/4030 [==============================] - 1s 165us/step - loss: 3.6473 - accuracy: 0.1437\n",
            "Epoch 8/40\n",
            "4030/4030 [==============================] - 1s 165us/step - loss: 3.5358 - accuracy: 0.1432\n",
            "Epoch 9/40\n",
            "4030/4030 [==============================] - 1s 164us/step - loss: 3.4634 - accuracy: 0.1432\n",
            "Epoch 10/40\n",
            "4030/4030 [==============================] - 1s 165us/step - loss: 3.4072 - accuracy: 0.1499\n",
            "Epoch 11/40\n",
            "4030/4030 [==============================] - 1s 164us/step - loss: 3.3683 - accuracy: 0.1427\n",
            "Epoch 12/40\n",
            "4030/4030 [==============================] - 1s 165us/step - loss: 3.3325 - accuracy: 0.1459\n",
            "Epoch 13/40\n",
            "4030/4030 [==============================] - 1s 166us/step - loss: 3.3051 - accuracy: 0.1548\n",
            "Epoch 14/40\n",
            "4030/4030 [==============================] - 1s 164us/step - loss: 3.2868 - accuracy: 0.1533\n",
            "Epoch 15/40\n",
            "4030/4030 [==============================] - 1s 164us/step - loss: 3.2653 - accuracy: 0.1563\n",
            "Epoch 16/40\n",
            "4030/4030 [==============================] - 1s 164us/step - loss: 3.2471 - accuracy: 0.1568\n",
            "Epoch 17/40\n",
            "4030/4030 [==============================] - 1s 163us/step - loss: 3.2373 - accuracy: 0.1563\n",
            "Epoch 18/40\n",
            "4030/4030 [==============================] - 1s 163us/step - loss: 3.2265 - accuracy: 0.1536\n",
            "Epoch 19/40\n",
            "4030/4030 [==============================] - 1s 165us/step - loss: 3.2120 - accuracy: 0.1603\n",
            "Epoch 20/40\n",
            "4030/4030 [==============================] - 1s 164us/step - loss: 3.2049 - accuracy: 0.1620\n",
            "Epoch 21/40\n",
            "4030/4030 [==============================] - 1s 165us/step - loss: 3.1996 - accuracy: 0.1667\n",
            "Epoch 22/40\n",
            "4030/4030 [==============================] - 1s 164us/step - loss: 3.1886 - accuracy: 0.1685\n",
            "Epoch 23/40\n",
            "4030/4030 [==============================] - 1s 164us/step - loss: 3.1835 - accuracy: 0.1727\n",
            "Epoch 24/40\n",
            "4030/4030 [==============================] - 1s 164us/step - loss: 3.1742 - accuracy: 0.1737\n",
            "Epoch 25/40\n",
            "4030/4030 [==============================] - 1s 165us/step - loss: 3.1747 - accuracy: 0.1754\n",
            "Epoch 26/40\n",
            "4030/4030 [==============================] - 1s 164us/step - loss: 3.1642 - accuracy: 0.1754\n",
            "Epoch 27/40\n",
            "4030/4030 [==============================] - 1s 164us/step - loss: 3.1561 - accuracy: 0.1829\n",
            "Epoch 28/40\n",
            "4030/4030 [==============================] - 1s 164us/step - loss: 3.1492 - accuracy: 0.1794\n",
            "Epoch 29/40\n",
            "4030/4030 [==============================] - 1s 164us/step - loss: 3.1410 - accuracy: 0.1908\n",
            "Epoch 30/40\n",
            "4030/4030 [==============================] - 1s 166us/step - loss: 3.1381 - accuracy: 0.1906\n",
            "Epoch 31/40\n",
            "4030/4030 [==============================] - 1s 165us/step - loss: 3.1369 - accuracy: 0.1888\n",
            "Epoch 32/40\n",
            "4030/4030 [==============================] - 1s 164us/step - loss: 3.1336 - accuracy: 0.1826\n",
            "Epoch 33/40\n",
            "4030/4030 [==============================] - 1s 165us/step - loss: 3.1253 - accuracy: 0.1998\n",
            "Epoch 34/40\n",
            "4030/4030 [==============================] - 1s 164us/step - loss: 3.1213 - accuracy: 0.1913\n",
            "Epoch 35/40\n",
            "4030/4030 [==============================] - 1s 164us/step - loss: 3.1108 - accuracy: 0.2062\n",
            "Epoch 36/40\n",
            "4030/4030 [==============================] - 1s 165us/step - loss: 3.1145 - accuracy: 0.2079\n",
            "Epoch 37/40\n",
            "4030/4030 [==============================] - 1s 164us/step - loss: 3.1050 - accuracy: 0.2060\n",
            "Epoch 38/40\n",
            "4030/4030 [==============================] - 1s 164us/step - loss: 3.0991 - accuracy: 0.2082\n",
            "Epoch 39/40\n",
            "4030/4030 [==============================] - 1s 164us/step - loss: 3.0982 - accuracy: 0.2117\n",
            "Epoch 40/40\n",
            "4030/4030 [==============================] - 1s 164us/step - loss: 3.0924 - accuracy: 0.2072\n",
            "2015/2015 [==============================] - 1s 367us/step\n",
            "Epoch 1/40\n",
            "4030/4030 [==============================] - 1s 300us/step - loss: 4.4479 - accuracy: 0.1251\n",
            "Epoch 2/40\n",
            "4030/4030 [==============================] - 1s 166us/step - loss: 4.0008 - accuracy: 0.1280\n",
            "Epoch 3/40\n",
            "4030/4030 [==============================] - 1s 165us/step - loss: 3.5616 - accuracy: 0.1290\n",
            "Epoch 4/40\n",
            "4030/4030 [==============================] - 1s 164us/step - loss: 3.3820 - accuracy: 0.1407\n",
            "Epoch 5/40\n",
            "4030/4030 [==============================] - 1s 167us/step - loss: 3.2938 - accuracy: 0.1538\n",
            "Epoch 6/40\n",
            "4030/4030 [==============================] - 1s 167us/step - loss: 3.2451 - accuracy: 0.1603\n",
            "Epoch 7/40\n",
            "4030/4030 [==============================] - 1s 167us/step - loss: 3.2065 - accuracy: 0.1695\n",
            "Epoch 8/40\n",
            "4030/4030 [==============================] - 1s 169us/step - loss: 3.1815 - accuracy: 0.1697\n",
            "Epoch 9/40\n",
            "4030/4030 [==============================] - 1s 167us/step - loss: 3.1643 - accuracy: 0.1801\n",
            "Epoch 10/40\n",
            "4030/4030 [==============================] - 1s 168us/step - loss: 3.1492 - accuracy: 0.1968\n",
            "Epoch 11/40\n",
            "4030/4030 [==============================] - 1s 168us/step - loss: 3.1296 - accuracy: 0.2020\n",
            "Epoch 12/40\n",
            "4030/4030 [==============================] - 1s 167us/step - loss: 3.1086 - accuracy: 0.2154\n",
            "Epoch 13/40\n",
            "4030/4030 [==============================] - 1s 166us/step - loss: 3.0908 - accuracy: 0.2233\n",
            "Epoch 14/40\n",
            "4030/4030 [==============================] - 1s 165us/step - loss: 3.0811 - accuracy: 0.2342\n",
            "Epoch 15/40\n",
            "4030/4030 [==============================] - 1s 168us/step - loss: 3.0627 - accuracy: 0.2434\n",
            "Epoch 16/40\n",
            "4030/4030 [==============================] - 1s 168us/step - loss: 3.0432 - accuracy: 0.2462\n",
            "Epoch 17/40\n",
            "4030/4030 [==============================] - 1s 168us/step - loss: 3.0202 - accuracy: 0.2581\n",
            "Epoch 18/40\n",
            "4030/4030 [==============================] - 1s 167us/step - loss: 2.9936 - accuracy: 0.2749\n",
            "Epoch 19/40\n",
            "4030/4030 [==============================] - 1s 167us/step - loss: 2.9722 - accuracy: 0.2759\n",
            "Epoch 20/40\n",
            "4030/4030 [==============================] - 1s 166us/step - loss: 2.9437 - accuracy: 0.2859\n",
            "Epoch 21/40\n",
            "4030/4030 [==============================] - 1s 166us/step - loss: 2.9298 - accuracy: 0.2898\n",
            "Epoch 22/40\n",
            "4030/4030 [==============================] - 1s 167us/step - loss: 2.8986 - accuracy: 0.2975\n",
            "Epoch 23/40\n",
            "4030/4030 [==============================] - 1s 168us/step - loss: 2.8764 - accuracy: 0.3035\n",
            "Epoch 24/40\n",
            "4030/4030 [==============================] - 1s 167us/step - loss: 2.8438 - accuracy: 0.3151\n",
            "Epoch 25/40\n",
            "4030/4030 [==============================] - 1s 166us/step - loss: 2.8265 - accuracy: 0.3176\n",
            "Epoch 26/40\n",
            "4030/4030 [==============================] - 1s 168us/step - loss: 2.7936 - accuracy: 0.3305\n",
            "Epoch 27/40\n",
            "4030/4030 [==============================] - 1s 167us/step - loss: 2.7654 - accuracy: 0.3370\n",
            "Epoch 28/40\n",
            "4030/4030 [==============================] - 1s 166us/step - loss: 2.7404 - accuracy: 0.3395\n",
            "Epoch 29/40\n",
            "4030/4030 [==============================] - 1s 165us/step - loss: 2.7157 - accuracy: 0.3536\n",
            "Epoch 30/40\n",
            "4030/4030 [==============================] - 1s 165us/step - loss: 2.6954 - accuracy: 0.3596\n",
            "Epoch 31/40\n",
            "4030/4030 [==============================] - 1s 167us/step - loss: 2.6755 - accuracy: 0.3556\n",
            "Epoch 32/40\n",
            "4030/4030 [==============================] - 1s 168us/step - loss: 2.6498 - accuracy: 0.3672\n",
            "Epoch 33/40\n",
            "4030/4030 [==============================] - 1s 166us/step - loss: 2.6343 - accuracy: 0.3720\n",
            "Epoch 34/40\n",
            "4030/4030 [==============================] - 1s 166us/step - loss: 2.6053 - accuracy: 0.3846\n",
            "Epoch 35/40\n",
            "4030/4030 [==============================] - 1s 166us/step - loss: 2.5855 - accuracy: 0.3826\n",
            "Epoch 36/40\n",
            "4030/4030 [==============================] - 1s 166us/step - loss: 2.5657 - accuracy: 0.3896\n",
            "Epoch 37/40\n",
            "4030/4030 [==============================] - 1s 167us/step - loss: 2.5489 - accuracy: 0.3960\n",
            "Epoch 38/40\n",
            "4030/4030 [==============================] - 1s 166us/step - loss: 2.5315 - accuracy: 0.4000\n",
            "Epoch 39/40\n",
            "4030/4030 [==============================] - 1s 165us/step - loss: 2.5057 - accuracy: 0.4015\n",
            "Epoch 40/40\n",
            "4030/4030 [==============================] - 1s 164us/step - loss: 2.4955 - accuracy: 0.4030\n",
            "2015/2015 [==============================] - 1s 377us/step\n",
            "Epoch 1/40\n",
            "4030/4030 [==============================] - 1s 292us/step - loss: 4.4613 - accuracy: 0.1124\n",
            "Epoch 2/40\n",
            "4030/4030 [==============================] - 1s 158us/step - loss: 4.0571 - accuracy: 0.1206\n",
            "Epoch 3/40\n",
            "4030/4030 [==============================] - 1s 158us/step - loss: 3.5967 - accuracy: 0.1275\n",
            "Epoch 4/40\n",
            "4030/4030 [==============================] - 1s 159us/step - loss: 3.3862 - accuracy: 0.1414\n",
            "Epoch 5/40\n",
            "4030/4030 [==============================] - 1s 157us/step - loss: 3.2978 - accuracy: 0.1397\n",
            "Epoch 6/40\n",
            "4030/4030 [==============================] - 1s 158us/step - loss: 3.2459 - accuracy: 0.1449\n",
            "Epoch 7/40\n",
            "4030/4030 [==============================] - 1s 157us/step - loss: 3.2165 - accuracy: 0.1556\n",
            "Epoch 8/40\n",
            "4030/4030 [==============================] - 1s 157us/step - loss: 3.1922 - accuracy: 0.1692\n",
            "Epoch 9/40\n",
            "4030/4030 [==============================] - 1s 158us/step - loss: 3.1709 - accuracy: 0.1777\n",
            "Epoch 10/40\n",
            "4030/4030 [==============================] - 1s 157us/step - loss: 3.1599 - accuracy: 0.1794\n",
            "Epoch 11/40\n",
            "4030/4030 [==============================] - 1s 157us/step - loss: 3.1414 - accuracy: 0.1864\n",
            "Epoch 12/40\n",
            "4030/4030 [==============================] - 1s 159us/step - loss: 3.1267 - accuracy: 0.1993\n",
            "Epoch 13/40\n",
            "4030/4030 [==============================] - 1s 158us/step - loss: 3.1054 - accuracy: 0.2042\n",
            "Epoch 14/40\n",
            "4030/4030 [==============================] - 1s 157us/step - loss: 3.0947 - accuracy: 0.2144\n",
            "Epoch 15/40\n",
            "4030/4030 [==============================] - 1s 158us/step - loss: 3.0702 - accuracy: 0.2288\n",
            "Epoch 16/40\n",
            "4030/4030 [==============================] - 1s 157us/step - loss: 3.0579 - accuracy: 0.2261\n",
            "Epoch 17/40\n",
            "4030/4030 [==============================] - 1s 158us/step - loss: 3.0347 - accuracy: 0.2409\n",
            "Epoch 18/40\n",
            "4030/4030 [==============================] - 1s 158us/step - loss: 3.0195 - accuracy: 0.2548\n",
            "Epoch 19/40\n",
            "4030/4030 [==============================] - 1s 158us/step - loss: 2.9923 - accuracy: 0.2655\n",
            "Epoch 20/40\n",
            "4030/4030 [==============================] - 1s 160us/step - loss: 2.9740 - accuracy: 0.2640\n",
            "Epoch 21/40\n",
            "4030/4030 [==============================] - 1s 157us/step - loss: 2.9487 - accuracy: 0.2744\n",
            "Epoch 22/40\n",
            "4030/4030 [==============================] - 1s 159us/step - loss: 2.9253 - accuracy: 0.2811\n",
            "Epoch 23/40\n",
            "4030/4030 [==============================] - 1s 159us/step - loss: 2.9001 - accuracy: 0.2960\n",
            "Epoch 24/40\n",
            "4030/4030 [==============================] - 1s 158us/step - loss: 2.8733 - accuracy: 0.2953\n",
            "Epoch 25/40\n",
            "4030/4030 [==============================] - 1s 158us/step - loss: 2.8416 - accuracy: 0.3124\n",
            "Epoch 26/40\n",
            "4030/4030 [==============================] - 1s 157us/step - loss: 2.8174 - accuracy: 0.3228\n",
            "Epoch 27/40\n",
            "4030/4030 [==============================] - 1s 156us/step - loss: 2.7881 - accuracy: 0.3385\n",
            "Epoch 28/40\n",
            "4030/4030 [==============================] - 1s 158us/step - loss: 2.7618 - accuracy: 0.3352\n",
            "Epoch 29/40\n",
            "4030/4030 [==============================] - 1s 158us/step - loss: 2.7404 - accuracy: 0.3407\n",
            "Epoch 30/40\n",
            "4030/4030 [==============================] - 1s 159us/step - loss: 2.7135 - accuracy: 0.3509\n",
            "Epoch 31/40\n",
            "4030/4030 [==============================] - 1s 158us/step - loss: 2.6874 - accuracy: 0.3573\n",
            "Epoch 32/40\n",
            "4030/4030 [==============================] - 1s 157us/step - loss: 2.6646 - accuracy: 0.3638\n",
            "Epoch 33/40\n",
            "4030/4030 [==============================] - 1s 156us/step - loss: 2.6444 - accuracy: 0.3667\n",
            "Epoch 34/40\n",
            "4030/4030 [==============================] - 1s 159us/step - loss: 2.6199 - accuracy: 0.3774\n",
            "Epoch 35/40\n",
            "4030/4030 [==============================] - 1s 158us/step - loss: 2.6014 - accuracy: 0.3787\n",
            "Epoch 36/40\n",
            "4030/4030 [==============================] - 1s 156us/step - loss: 2.5787 - accuracy: 0.3881\n",
            "Epoch 37/40\n",
            "4030/4030 [==============================] - 1s 157us/step - loss: 2.5562 - accuracy: 0.3933\n",
            "Epoch 38/40\n",
            "4030/4030 [==============================] - 1s 159us/step - loss: 2.5377 - accuracy: 0.3931\n",
            "Epoch 39/40\n",
            "4030/4030 [==============================] - 1s 157us/step - loss: 2.5271 - accuracy: 0.3916\n",
            "Epoch 40/40\n",
            "4030/4030 [==============================] - 1s 158us/step - loss: 2.5014 - accuracy: 0.4007\n",
            "2015/2015 [==============================] - 1s 380us/step\n",
            "Epoch 1/40\n",
            "4030/4030 [==============================] - 1s 293us/step - loss: 4.4408 - accuracy: 0.1283\n",
            "Epoch 2/40\n",
            "4030/4030 [==============================] - 1s 157us/step - loss: 3.9804 - accuracy: 0.1323\n",
            "Epoch 3/40\n",
            "4030/4030 [==============================] - 1s 159us/step - loss: 3.5475 - accuracy: 0.1350\n",
            "Epoch 4/40\n",
            "4030/4030 [==============================] - 1s 158us/step - loss: 3.3675 - accuracy: 0.1380\n",
            "Epoch 5/40\n",
            "4030/4030 [==============================] - 1s 156us/step - loss: 3.2821 - accuracy: 0.1442\n",
            "Epoch 6/40\n",
            "4030/4030 [==============================] - 1s 158us/step - loss: 3.2304 - accuracy: 0.1531\n",
            "Epoch 7/40\n",
            "4030/4030 [==============================] - 1s 157us/step - loss: 3.2043 - accuracy: 0.1650\n",
            "Epoch 8/40\n",
            "4030/4030 [==============================] - 1s 160us/step - loss: 3.1718 - accuracy: 0.1655\n",
            "Epoch 9/40\n",
            "4030/4030 [==============================] - 1s 159us/step - loss: 3.1617 - accuracy: 0.1749\n",
            "Epoch 10/40\n",
            "4030/4030 [==============================] - 1s 159us/step - loss: 3.1428 - accuracy: 0.1769\n",
            "Epoch 11/40\n",
            "4030/4030 [==============================] - 1s 158us/step - loss: 3.1266 - accuracy: 0.1958\n",
            "Epoch 12/40\n",
            "4030/4030 [==============================] - 1s 158us/step - loss: 3.1162 - accuracy: 0.1861\n",
            "Epoch 13/40\n",
            "4030/4030 [==============================] - 1s 161us/step - loss: 3.0931 - accuracy: 0.2089\n",
            "Epoch 14/40\n",
            "4030/4030 [==============================] - 1s 161us/step - loss: 3.0755 - accuracy: 0.2179\n",
            "Epoch 15/40\n",
            "4030/4030 [==============================] - 1s 160us/step - loss: 3.0602 - accuracy: 0.2283\n",
            "Epoch 16/40\n",
            "4030/4030 [==============================] - 1s 159us/step - loss: 3.0457 - accuracy: 0.2459\n",
            "Epoch 17/40\n",
            "4030/4030 [==============================] - 1s 158us/step - loss: 3.0189 - accuracy: 0.2514\n",
            "Epoch 18/40\n",
            "4030/4030 [==============================] - 1s 158us/step - loss: 3.0054 - accuracy: 0.2605\n",
            "Epoch 19/40\n",
            "4030/4030 [==============================] - 1s 160us/step - loss: 2.9789 - accuracy: 0.2749\n",
            "Epoch 20/40\n",
            "4030/4030 [==============================] - 1s 159us/step - loss: 2.9561 - accuracy: 0.2849\n",
            "Epoch 21/40\n",
            "4030/4030 [==============================] - 1s 158us/step - loss: 2.9364 - accuracy: 0.2868\n",
            "Epoch 22/40\n",
            "4030/4030 [==============================] - 1s 160us/step - loss: 2.9032 - accuracy: 0.3022\n",
            "Epoch 23/40\n",
            "4030/4030 [==============================] - 1s 159us/step - loss: 2.8899 - accuracy: 0.3032\n",
            "Epoch 24/40\n",
            "4030/4030 [==============================] - 1s 157us/step - loss: 2.8568 - accuracy: 0.3141\n",
            "Epoch 25/40\n",
            "4030/4030 [==============================] - 1s 159us/step - loss: 2.8279 - accuracy: 0.3266\n",
            "Epoch 26/40\n",
            "4030/4030 [==============================] - 1s 157us/step - loss: 2.7980 - accuracy: 0.3310\n",
            "Epoch 27/40\n",
            "4030/4030 [==============================] - 1s 157us/step - loss: 2.7746 - accuracy: 0.3362\n",
            "Epoch 28/40\n",
            "4030/4030 [==============================] - 1s 160us/step - loss: 2.7536 - accuracy: 0.3489\n",
            "Epoch 29/40\n",
            "4030/4030 [==============================] - 1s 158us/step - loss: 2.7240 - accuracy: 0.3531\n",
            "Epoch 30/40\n",
            "4030/4030 [==============================] - 1s 158us/step - loss: 2.6980 - accuracy: 0.3615\n",
            "Epoch 31/40\n",
            "4030/4030 [==============================] - 1s 159us/step - loss: 2.6778 - accuracy: 0.3690\n",
            "Epoch 32/40\n",
            "4030/4030 [==============================] - 1s 159us/step - loss: 2.6527 - accuracy: 0.3715\n",
            "Epoch 33/40\n",
            "4030/4030 [==============================] - 1s 159us/step - loss: 2.6297 - accuracy: 0.3801\n",
            "Epoch 34/40\n",
            "4030/4030 [==============================] - 1s 158us/step - loss: 2.6043 - accuracy: 0.3878\n",
            "Epoch 35/40\n",
            "4030/4030 [==============================] - 1s 158us/step - loss: 2.5872 - accuracy: 0.3854\n",
            "Epoch 36/40\n",
            "4030/4030 [==============================] - 1s 158us/step - loss: 2.5666 - accuracy: 0.4010\n",
            "Epoch 37/40\n",
            "4030/4030 [==============================] - 1s 156us/step - loss: 2.5426 - accuracy: 0.4035\n",
            "Epoch 38/40\n",
            "4030/4030 [==============================] - 1s 159us/step - loss: 2.5224 - accuracy: 0.4037\n",
            "Epoch 39/40\n",
            "4030/4030 [==============================] - 1s 160us/step - loss: 2.4969 - accuracy: 0.4112\n",
            "Epoch 40/40\n",
            "4030/4030 [==============================] - 1s 162us/step - loss: 2.4872 - accuracy: 0.4164\n",
            "2015/2015 [==============================] - 1s 379us/step\n",
            "Epoch 1/40\n",
            "4030/4030 [==============================] - 1s 305us/step - loss: 3.9474 - accuracy: 0.1238\n",
            "Epoch 2/40\n",
            "4030/4030 [==============================] - 1s 167us/step - loss: 3.2762 - accuracy: 0.1452\n",
            "Epoch 3/40\n",
            "4030/4030 [==============================] - 1s 166us/step - loss: 3.1772 - accuracy: 0.1638\n",
            "Epoch 4/40\n",
            "4030/4030 [==============================] - 1s 167us/step - loss: 3.1176 - accuracy: 0.1963\n",
            "Epoch 5/40\n",
            "4030/4030 [==============================] - 1s 165us/step - loss: 3.0618 - accuracy: 0.2266\n",
            "Epoch 6/40\n",
            "4030/4030 [==============================] - 1s 166us/step - loss: 2.9878 - accuracy: 0.2588\n",
            "Epoch 7/40\n",
            "4030/4030 [==============================] - 1s 169us/step - loss: 2.9086 - accuracy: 0.2826\n",
            "Epoch 8/40\n",
            "4030/4030 [==============================] - 1s 168us/step - loss: 2.8199 - accuracy: 0.3055\n",
            "Epoch 9/40\n",
            "4030/4030 [==============================] - 1s 167us/step - loss: 2.7373 - accuracy: 0.3395\n",
            "Epoch 10/40\n",
            "4030/4030 [==============================] - 1s 167us/step - loss: 2.6550 - accuracy: 0.3571\n",
            "Epoch 11/40\n",
            "4030/4030 [==============================] - 1s 168us/step - loss: 2.5899 - accuracy: 0.3797\n",
            "Epoch 12/40\n",
            "4030/4030 [==============================] - 1s 167us/step - loss: 2.5296 - accuracy: 0.3851\n",
            "Epoch 13/40\n",
            "4030/4030 [==============================] - 1s 166us/step - loss: 2.4699 - accuracy: 0.4047\n",
            "Epoch 14/40\n",
            "4030/4030 [==============================] - 1s 167us/step - loss: 2.4257 - accuracy: 0.4099\n",
            "Epoch 15/40\n",
            "4030/4030 [==============================] - 1s 166us/step - loss: 2.3732 - accuracy: 0.4300\n",
            "Epoch 16/40\n",
            "4030/4030 [==============================] - 1s 169us/step - loss: 2.3298 - accuracy: 0.4372\n",
            "Epoch 17/40\n",
            "4030/4030 [==============================] - 1s 166us/step - loss: 2.2773 - accuracy: 0.4434\n",
            "Epoch 18/40\n",
            "4030/4030 [==============================] - 1s 169us/step - loss: 2.2452 - accuracy: 0.4509\n",
            "Epoch 19/40\n",
            "4030/4030 [==============================] - 1s 170us/step - loss: 2.2084 - accuracy: 0.4581\n",
            "Epoch 20/40\n",
            "4030/4030 [==============================] - 1s 168us/step - loss: 2.1798 - accuracy: 0.4630\n",
            "Epoch 21/40\n",
            "4030/4030 [==============================] - 1s 168us/step - loss: 2.1373 - accuracy: 0.4759\n",
            "Epoch 22/40\n",
            "4030/4030 [==============================] - 1s 166us/step - loss: 2.1014 - accuracy: 0.4811\n",
            "Epoch 23/40\n",
            "4030/4030 [==============================] - 1s 169us/step - loss: 2.0704 - accuracy: 0.4911\n",
            "Epoch 24/40\n",
            "4030/4030 [==============================] - 1s 169us/step - loss: 2.0372 - accuracy: 0.4968\n",
            "Epoch 25/40\n",
            "4030/4030 [==============================] - 1s 170us/step - loss: 2.0119 - accuracy: 0.5119\n",
            "Epoch 26/40\n",
            "4030/4030 [==============================] - 1s 170us/step - loss: 1.9791 - accuracy: 0.5139\n",
            "Epoch 27/40\n",
            "4030/4030 [==============================] - 1s 167us/step - loss: 1.9604 - accuracy: 0.5169\n",
            "Epoch 28/40\n",
            "4030/4030 [==============================] - 1s 167us/step - loss: 1.9210 - accuracy: 0.5320\n",
            "Epoch 29/40\n",
            "4030/4030 [==============================] - 1s 168us/step - loss: 1.8881 - accuracy: 0.5439\n",
            "Epoch 30/40\n",
            "4030/4030 [==============================] - 1s 167us/step - loss: 1.8580 - accuracy: 0.5546\n",
            "Epoch 31/40\n",
            "4030/4030 [==============================] - 1s 166us/step - loss: 1.8280 - accuracy: 0.5643\n",
            "Epoch 32/40\n",
            "4030/4030 [==============================] - 1s 166us/step - loss: 1.7989 - accuracy: 0.5685\n",
            "Epoch 33/40\n",
            "4030/4030 [==============================] - 1s 168us/step - loss: 1.7690 - accuracy: 0.5854\n",
            "Epoch 34/40\n",
            "4030/4030 [==============================] - 1s 168us/step - loss: 1.7335 - accuracy: 0.5928\n",
            "Epoch 35/40\n",
            "4030/4030 [==============================] - 1s 169us/step - loss: 1.7047 - accuracy: 0.6022\n",
            "Epoch 36/40\n",
            "4030/4030 [==============================] - 1s 169us/step - loss: 1.6761 - accuracy: 0.6082\n",
            "Epoch 37/40\n",
            "4030/4030 [==============================] - 1s 169us/step - loss: 1.6499 - accuracy: 0.6169\n",
            "Epoch 38/40\n",
            "4030/4030 [==============================] - 1s 167us/step - loss: 1.6250 - accuracy: 0.6241\n",
            "Epoch 39/40\n",
            "4030/4030 [==============================] - 1s 167us/step - loss: 1.5933 - accuracy: 0.6365\n",
            "Epoch 40/40\n",
            "4030/4030 [==============================] - 1s 165us/step - loss: 1.5701 - accuracy: 0.6417\n",
            "2015/2015 [==============================] - 1s 395us/step\n",
            "Epoch 1/40\n",
            "4030/4030 [==============================] - 1s 296us/step - loss: 3.9822 - accuracy: 0.1159\n",
            "Epoch 2/40\n",
            "4030/4030 [==============================] - 1s 159us/step - loss: 3.2829 - accuracy: 0.1370\n",
            "Epoch 3/40\n",
            "4030/4030 [==============================] - 1s 161us/step - loss: 3.1852 - accuracy: 0.1548\n",
            "Epoch 4/40\n",
            "4030/4030 [==============================] - 1s 159us/step - loss: 3.1309 - accuracy: 0.1881\n",
            "Epoch 5/40\n",
            "4030/4030 [==============================] - 1s 159us/step - loss: 3.0800 - accuracy: 0.2040\n",
            "Epoch 6/40\n",
            "4030/4030 [==============================] - 1s 159us/step - loss: 3.0153 - accuracy: 0.2439\n",
            "Epoch 7/40\n",
            "4030/4030 [==============================] - 1s 161us/step - loss: 2.9382 - accuracy: 0.2737\n",
            "Epoch 8/40\n",
            "4030/4030 [==============================] - 1s 159us/step - loss: 2.8585 - accuracy: 0.2995\n",
            "Epoch 9/40\n",
            "4030/4030 [==============================] - 1s 161us/step - loss: 2.7669 - accuracy: 0.3293\n",
            "Epoch 10/40\n",
            "4030/4030 [==============================] - 1s 159us/step - loss: 2.6840 - accuracy: 0.3610\n",
            "Epoch 11/40\n",
            "4030/4030 [==============================] - 1s 157us/step - loss: 2.6083 - accuracy: 0.3702\n",
            "Epoch 12/40\n",
            "4030/4030 [==============================] - 1s 161us/step - loss: 2.5403 - accuracy: 0.3873\n",
            "Epoch 13/40\n",
            "4030/4030 [==============================] - 1s 159us/step - loss: 2.4867 - accuracy: 0.4007\n",
            "Epoch 14/40\n",
            "4030/4030 [==============================] - 1s 160us/step - loss: 2.4288 - accuracy: 0.4141\n",
            "Epoch 15/40\n",
            "4030/4030 [==============================] - 1s 162us/step - loss: 2.3861 - accuracy: 0.4258\n",
            "Epoch 16/40\n",
            "4030/4030 [==============================] - 1s 158us/step - loss: 2.3329 - accuracy: 0.4325\n",
            "Epoch 17/40\n",
            "4030/4030 [==============================] - 1s 159us/step - loss: 2.2913 - accuracy: 0.4447\n",
            "Epoch 18/40\n",
            "4030/4030 [==============================] - 1s 159us/step - loss: 2.2506 - accuracy: 0.4533\n",
            "Epoch 19/40\n",
            "4030/4030 [==============================] - 1s 159us/step - loss: 2.2092 - accuracy: 0.4667\n",
            "Epoch 20/40\n",
            "4030/4030 [==============================] - 1s 161us/step - loss: 2.1777 - accuracy: 0.4692\n",
            "Epoch 21/40\n",
            "4030/4030 [==============================] - 1s 158us/step - loss: 2.1412 - accuracy: 0.4764\n",
            "Epoch 22/40\n",
            "4030/4030 [==============================] - 1s 159us/step - loss: 2.1031 - accuracy: 0.4913\n",
            "Epoch 23/40\n",
            "4030/4030 [==============================] - 1s 158us/step - loss: 2.0672 - accuracy: 0.4926\n",
            "Epoch 24/40\n",
            "4030/4030 [==============================] - 1s 160us/step - loss: 2.0394 - accuracy: 0.5042\n",
            "Epoch 25/40\n",
            "4030/4030 [==============================] - 1s 160us/step - loss: 2.0045 - accuracy: 0.5119\n",
            "Epoch 26/40\n",
            "4030/4030 [==============================] - 1s 158us/step - loss: 1.9659 - accuracy: 0.5223\n",
            "Epoch 27/40\n",
            "4030/4030 [==============================] - 1s 160us/step - loss: 1.9356 - accuracy: 0.5357\n",
            "Epoch 28/40\n",
            "4030/4030 [==============================] - 1s 159us/step - loss: 1.9099 - accuracy: 0.5439\n",
            "Epoch 29/40\n",
            "4030/4030 [==============================] - 1s 158us/step - loss: 1.8734 - accuracy: 0.5553\n",
            "Epoch 30/40\n",
            "4030/4030 [==============================] - 1s 158us/step - loss: 1.8371 - accuracy: 0.5717\n",
            "Epoch 31/40\n",
            "4030/4030 [==============================] - 1s 161us/step - loss: 1.8073 - accuracy: 0.5777\n",
            "Epoch 32/40\n",
            "4030/4030 [==============================] - 1s 160us/step - loss: 1.7806 - accuracy: 0.5878\n",
            "Epoch 33/40\n",
            "4030/4030 [==============================] - 1s 158us/step - loss: 1.7415 - accuracy: 0.5935\n",
            "Epoch 34/40\n",
            "4030/4030 [==============================] - 1s 158us/step - loss: 1.7223 - accuracy: 0.6089\n",
            "Epoch 35/40\n",
            "4030/4030 [==============================] - 1s 158us/step - loss: 1.6936 - accuracy: 0.6156\n",
            "Epoch 36/40\n",
            "4030/4030 [==============================] - 1s 157us/step - loss: 1.6646 - accuracy: 0.6288\n",
            "Epoch 37/40\n",
            "4030/4030 [==============================] - 1s 160us/step - loss: 1.6329 - accuracy: 0.6310\n",
            "Epoch 38/40\n",
            "4030/4030 [==============================] - 1s 161us/step - loss: 1.5962 - accuracy: 0.6467\n",
            "Epoch 39/40\n",
            "4030/4030 [==============================] - 1s 161us/step - loss: 1.5811 - accuracy: 0.6469\n",
            "Epoch 40/40\n",
            "4030/4030 [==============================] - 1s 161us/step - loss: 1.5584 - accuracy: 0.6548\n",
            "2015/2015 [==============================] - 1s 384us/step\n",
            "Epoch 1/40\n",
            "4030/4030 [==============================] - 1s 296us/step - loss: 3.9500 - accuracy: 0.1333\n",
            "Epoch 2/40\n",
            "4030/4030 [==============================] - 1s 159us/step - loss: 3.2708 - accuracy: 0.1439\n",
            "Epoch 3/40\n",
            "4030/4030 [==============================] - 1s 159us/step - loss: 3.1771 - accuracy: 0.1707\n",
            "Epoch 4/40\n",
            "4030/4030 [==============================] - 1s 169us/step - loss: 3.1172 - accuracy: 0.1918\n",
            "Epoch 5/40\n",
            "4030/4030 [==============================] - 1s 158us/step - loss: 3.0631 - accuracy: 0.2248\n",
            "Epoch 6/40\n",
            "4030/4030 [==============================] - 1s 158us/step - loss: 3.0014 - accuracy: 0.2459\n",
            "Epoch 7/40\n",
            "4030/4030 [==============================] - 1s 158us/step - loss: 2.9247 - accuracy: 0.2809\n",
            "Epoch 8/40\n",
            "4030/4030 [==============================] - 1s 157us/step - loss: 2.8372 - accuracy: 0.3057\n",
            "Epoch 9/40\n",
            "4030/4030 [==============================] - 1s 159us/step - loss: 2.7553 - accuracy: 0.3345\n",
            "Epoch 10/40\n",
            "4030/4030 [==============================] - 1s 159us/step - loss: 2.6773 - accuracy: 0.3553\n",
            "Epoch 11/40\n",
            "4030/4030 [==============================] - 1s 156us/step - loss: 2.5942 - accuracy: 0.3777\n",
            "Epoch 12/40\n",
            "4030/4030 [==============================] - 1s 158us/step - loss: 2.5318 - accuracy: 0.3918\n",
            "Epoch 13/40\n",
            "4030/4030 [==============================] - 1s 158us/step - loss: 2.4712 - accuracy: 0.4032\n",
            "Epoch 14/40\n",
            "4030/4030 [==============================] - 1s 157us/step - loss: 2.4164 - accuracy: 0.4208\n",
            "Epoch 15/40\n",
            "4030/4030 [==============================] - 1s 159us/step - loss: 2.3725 - accuracy: 0.4283\n",
            "Epoch 16/40\n",
            "4030/4030 [==============================] - 1s 158us/step - loss: 2.3298 - accuracy: 0.4404\n",
            "Epoch 17/40\n",
            "3300/4030 [=======================>......] - ETA: 0s - loss: 2.3048 - accuracy: 0.4473"
          ],
          "name": "stdout"
        },
        {
          "output_type": "error",
          "ename": "KeyboardInterrupt",
          "evalue": "ignored",
          "traceback": [
            "\u001b[0;31m---------------------------------------------------------------------------\u001b[0m",
            "\u001b[0;31mKeyboardInterrupt\u001b[0m                         Traceback (most recent call last)",
            "\u001b[0;32m<ipython-input-54-f129a95d4879>\u001b[0m in \u001b[0;36m<module>\u001b[0;34m()\u001b[0m\n\u001b[1;32m     10\u001b[0m \u001b[0mX\u001b[0m \u001b[0;34m=\u001b[0m \u001b[0mjoint_feature_matrix\u001b[0m\u001b[0;34m.\u001b[0m\u001b[0mtoarray\u001b[0m\u001b[0;34m(\u001b[0m\u001b[0;34m)\u001b[0m\u001b[0;34m\u001b[0m\u001b[0;34m\u001b[0m\u001b[0m\n\u001b[1;32m     11\u001b[0m \u001b[0;34m\u001b[0m\u001b[0m\n\u001b[0;32m---> 12\u001b[0;31m \u001b[0mgrid_result_SGD\u001b[0m \u001b[0;34m=\u001b[0m \u001b[0mgrid\u001b[0m\u001b[0;34m.\u001b[0m\u001b[0mfit\u001b[0m\u001b[0;34m(\u001b[0m\u001b[0mX\u001b[0m\u001b[0;34m,\u001b[0m \u001b[0mjoint_numbers\u001b[0m\u001b[0;34m,\u001b[0m \u001b[0mcallbacks\u001b[0m\u001b[0;34m=\u001b[0m\u001b[0;34m[\u001b[0m\u001b[0mstop_cb\u001b[0m\u001b[0;34m,\u001b[0m \u001b[0mmc_cb\u001b[0m\u001b[0;34m]\u001b[0m\u001b[0;34m)\u001b[0m\u001b[0;34m\u001b[0m\u001b[0;34m\u001b[0m\u001b[0m\n\u001b[0m\u001b[1;32m     13\u001b[0m \u001b[0;34m\u001b[0m\u001b[0m\n\u001b[1;32m     14\u001b[0m \u001b[0mend\u001b[0m \u001b[0;34m=\u001b[0m \u001b[0mdatetime\u001b[0m\u001b[0;34m.\u001b[0m\u001b[0mnow\u001b[0m\u001b[0;34m(\u001b[0m\u001b[0;34m)\u001b[0m\u001b[0;34m\u001b[0m\u001b[0;34m\u001b[0m\u001b[0m\n",
            "\u001b[0;32m/usr/local/lib/python3.6/dist-packages/sklearn/model_selection/_search.py\u001b[0m in \u001b[0;36mfit\u001b[0;34m(self, X, y, groups, **fit_params)\u001b[0m\n\u001b[1;32m    708\u001b[0m                 \u001b[0;32mreturn\u001b[0m \u001b[0mresults\u001b[0m\u001b[0;34m\u001b[0m\u001b[0;34m\u001b[0m\u001b[0m\n\u001b[1;32m    709\u001b[0m \u001b[0;34m\u001b[0m\u001b[0m\n\u001b[0;32m--> 710\u001b[0;31m             \u001b[0mself\u001b[0m\u001b[0;34m.\u001b[0m\u001b[0m_run_search\u001b[0m\u001b[0;34m(\u001b[0m\u001b[0mevaluate_candidates\u001b[0m\u001b[0;34m)\u001b[0m\u001b[0;34m\u001b[0m\u001b[0;34m\u001b[0m\u001b[0m\n\u001b[0m\u001b[1;32m    711\u001b[0m \u001b[0;34m\u001b[0m\u001b[0m\n\u001b[1;32m    712\u001b[0m         \u001b[0;31m# For multi-metric evaluation, store the best_index_, best_params_ and\u001b[0m\u001b[0;34m\u001b[0m\u001b[0;34m\u001b[0m\u001b[0;34m\u001b[0m\u001b[0m\n",
            "\u001b[0;32m/usr/local/lib/python3.6/dist-packages/sklearn/model_selection/_search.py\u001b[0m in \u001b[0;36m_run_search\u001b[0;34m(self, evaluate_candidates)\u001b[0m\n\u001b[1;32m   1149\u001b[0m     \u001b[0;32mdef\u001b[0m \u001b[0m_run_search\u001b[0m\u001b[0;34m(\u001b[0m\u001b[0mself\u001b[0m\u001b[0;34m,\u001b[0m \u001b[0mevaluate_candidates\u001b[0m\u001b[0;34m)\u001b[0m\u001b[0;34m:\u001b[0m\u001b[0;34m\u001b[0m\u001b[0;34m\u001b[0m\u001b[0m\n\u001b[1;32m   1150\u001b[0m         \u001b[0;34m\"\"\"Search all candidates in param_grid\"\"\"\u001b[0m\u001b[0;34m\u001b[0m\u001b[0;34m\u001b[0m\u001b[0m\n\u001b[0;32m-> 1151\u001b[0;31m         \u001b[0mevaluate_candidates\u001b[0m\u001b[0;34m(\u001b[0m\u001b[0mParameterGrid\u001b[0m\u001b[0;34m(\u001b[0m\u001b[0mself\u001b[0m\u001b[0;34m.\u001b[0m\u001b[0mparam_grid\u001b[0m\u001b[0;34m)\u001b[0m\u001b[0;34m)\u001b[0m\u001b[0;34m\u001b[0m\u001b[0;34m\u001b[0m\u001b[0m\n\u001b[0m\u001b[1;32m   1152\u001b[0m \u001b[0;34m\u001b[0m\u001b[0m\n\u001b[1;32m   1153\u001b[0m \u001b[0;34m\u001b[0m\u001b[0m\n",
            "\u001b[0;32m/usr/local/lib/python3.6/dist-packages/sklearn/model_selection/_search.py\u001b[0m in \u001b[0;36mevaluate_candidates\u001b[0;34m(candidate_params)\u001b[0m\n\u001b[1;32m    687\u001b[0m                                \u001b[0;32mfor\u001b[0m \u001b[0mparameters\u001b[0m\u001b[0;34m,\u001b[0m \u001b[0;34m(\u001b[0m\u001b[0mtrain\u001b[0m\u001b[0;34m,\u001b[0m \u001b[0mtest\u001b[0m\u001b[0;34m)\u001b[0m\u001b[0;34m\u001b[0m\u001b[0;34m\u001b[0m\u001b[0m\n\u001b[1;32m    688\u001b[0m                                in product(candidate_params,\n\u001b[0;32m--> 689\u001b[0;31m                                           cv.split(X, y, groups)))\n\u001b[0m\u001b[1;32m    690\u001b[0m \u001b[0;34m\u001b[0m\u001b[0m\n\u001b[1;32m    691\u001b[0m                 \u001b[0;32mif\u001b[0m \u001b[0mlen\u001b[0m\u001b[0;34m(\u001b[0m\u001b[0mout\u001b[0m\u001b[0;34m)\u001b[0m \u001b[0;34m<\u001b[0m \u001b[0;36m1\u001b[0m\u001b[0;34m:\u001b[0m\u001b[0;34m\u001b[0m\u001b[0;34m\u001b[0m\u001b[0m\n",
            "\u001b[0;32m/usr/local/lib/python3.6/dist-packages/joblib/parallel.py\u001b[0m in \u001b[0;36m__call__\u001b[0;34m(self, iterable)\u001b[0m\n\u001b[1;32m   1005\u001b[0m                 \u001b[0mself\u001b[0m\u001b[0;34m.\u001b[0m\u001b[0m_iterating\u001b[0m \u001b[0;34m=\u001b[0m \u001b[0mself\u001b[0m\u001b[0;34m.\u001b[0m\u001b[0m_original_iterator\u001b[0m \u001b[0;32mis\u001b[0m \u001b[0;32mnot\u001b[0m \u001b[0;32mNone\u001b[0m\u001b[0;34m\u001b[0m\u001b[0;34m\u001b[0m\u001b[0m\n\u001b[1;32m   1006\u001b[0m \u001b[0;34m\u001b[0m\u001b[0m\n\u001b[0;32m-> 1007\u001b[0;31m             \u001b[0;32mwhile\u001b[0m \u001b[0mself\u001b[0m\u001b[0;34m.\u001b[0m\u001b[0mdispatch_one_batch\u001b[0m\u001b[0;34m(\u001b[0m\u001b[0miterator\u001b[0m\u001b[0;34m)\u001b[0m\u001b[0;34m:\u001b[0m\u001b[0;34m\u001b[0m\u001b[0;34m\u001b[0m\u001b[0m\n\u001b[0m\u001b[1;32m   1008\u001b[0m                 \u001b[0;32mpass\u001b[0m\u001b[0;34m\u001b[0m\u001b[0;34m\u001b[0m\u001b[0m\n\u001b[1;32m   1009\u001b[0m \u001b[0;34m\u001b[0m\u001b[0m\n",
            "\u001b[0;32m/usr/local/lib/python3.6/dist-packages/joblib/parallel.py\u001b[0m in \u001b[0;36mdispatch_one_batch\u001b[0;34m(self, iterator)\u001b[0m\n\u001b[1;32m    833\u001b[0m                 \u001b[0;32mreturn\u001b[0m \u001b[0;32mFalse\u001b[0m\u001b[0;34m\u001b[0m\u001b[0;34m\u001b[0m\u001b[0m\n\u001b[1;32m    834\u001b[0m             \u001b[0;32melse\u001b[0m\u001b[0;34m:\u001b[0m\u001b[0;34m\u001b[0m\u001b[0;34m\u001b[0m\u001b[0m\n\u001b[0;32m--> 835\u001b[0;31m                 \u001b[0mself\u001b[0m\u001b[0;34m.\u001b[0m\u001b[0m_dispatch\u001b[0m\u001b[0;34m(\u001b[0m\u001b[0mtasks\u001b[0m\u001b[0;34m)\u001b[0m\u001b[0;34m\u001b[0m\u001b[0;34m\u001b[0m\u001b[0m\n\u001b[0m\u001b[1;32m    836\u001b[0m                 \u001b[0;32mreturn\u001b[0m \u001b[0;32mTrue\u001b[0m\u001b[0;34m\u001b[0m\u001b[0;34m\u001b[0m\u001b[0m\n\u001b[1;32m    837\u001b[0m \u001b[0;34m\u001b[0m\u001b[0m\n",
            "\u001b[0;32m/usr/local/lib/python3.6/dist-packages/joblib/parallel.py\u001b[0m in \u001b[0;36m_dispatch\u001b[0;34m(self, batch)\u001b[0m\n\u001b[1;32m    752\u001b[0m         \u001b[0;32mwith\u001b[0m \u001b[0mself\u001b[0m\u001b[0;34m.\u001b[0m\u001b[0m_lock\u001b[0m\u001b[0;34m:\u001b[0m\u001b[0;34m\u001b[0m\u001b[0;34m\u001b[0m\u001b[0m\n\u001b[1;32m    753\u001b[0m             \u001b[0mjob_idx\u001b[0m \u001b[0;34m=\u001b[0m \u001b[0mlen\u001b[0m\u001b[0;34m(\u001b[0m\u001b[0mself\u001b[0m\u001b[0;34m.\u001b[0m\u001b[0m_jobs\u001b[0m\u001b[0;34m)\u001b[0m\u001b[0;34m\u001b[0m\u001b[0;34m\u001b[0m\u001b[0m\n\u001b[0;32m--> 754\u001b[0;31m             \u001b[0mjob\u001b[0m \u001b[0;34m=\u001b[0m \u001b[0mself\u001b[0m\u001b[0;34m.\u001b[0m\u001b[0m_backend\u001b[0m\u001b[0;34m.\u001b[0m\u001b[0mapply_async\u001b[0m\u001b[0;34m(\u001b[0m\u001b[0mbatch\u001b[0m\u001b[0;34m,\u001b[0m \u001b[0mcallback\u001b[0m\u001b[0;34m=\u001b[0m\u001b[0mcb\u001b[0m\u001b[0;34m)\u001b[0m\u001b[0;34m\u001b[0m\u001b[0;34m\u001b[0m\u001b[0m\n\u001b[0m\u001b[1;32m    755\u001b[0m             \u001b[0;31m# A job can complete so quickly than its callback is\u001b[0m\u001b[0;34m\u001b[0m\u001b[0;34m\u001b[0m\u001b[0;34m\u001b[0m\u001b[0m\n\u001b[1;32m    756\u001b[0m             \u001b[0;31m# called before we get here, causing self._jobs to\u001b[0m\u001b[0;34m\u001b[0m\u001b[0;34m\u001b[0m\u001b[0;34m\u001b[0m\u001b[0m\n",
            "\u001b[0;32m/usr/local/lib/python3.6/dist-packages/joblib/_parallel_backends.py\u001b[0m in \u001b[0;36mapply_async\u001b[0;34m(self, func, callback)\u001b[0m\n\u001b[1;32m    207\u001b[0m     \u001b[0;32mdef\u001b[0m \u001b[0mapply_async\u001b[0m\u001b[0;34m(\u001b[0m\u001b[0mself\u001b[0m\u001b[0;34m,\u001b[0m \u001b[0mfunc\u001b[0m\u001b[0;34m,\u001b[0m \u001b[0mcallback\u001b[0m\u001b[0;34m=\u001b[0m\u001b[0;32mNone\u001b[0m\u001b[0;34m)\u001b[0m\u001b[0;34m:\u001b[0m\u001b[0;34m\u001b[0m\u001b[0;34m\u001b[0m\u001b[0m\n\u001b[1;32m    208\u001b[0m         \u001b[0;34m\"\"\"Schedule a func to be run\"\"\"\u001b[0m\u001b[0;34m\u001b[0m\u001b[0;34m\u001b[0m\u001b[0m\n\u001b[0;32m--> 209\u001b[0;31m         \u001b[0mresult\u001b[0m \u001b[0;34m=\u001b[0m \u001b[0mImmediateResult\u001b[0m\u001b[0;34m(\u001b[0m\u001b[0mfunc\u001b[0m\u001b[0;34m)\u001b[0m\u001b[0;34m\u001b[0m\u001b[0;34m\u001b[0m\u001b[0m\n\u001b[0m\u001b[1;32m    210\u001b[0m         \u001b[0;32mif\u001b[0m \u001b[0mcallback\u001b[0m\u001b[0;34m:\u001b[0m\u001b[0;34m\u001b[0m\u001b[0;34m\u001b[0m\u001b[0m\n\u001b[1;32m    211\u001b[0m             \u001b[0mcallback\u001b[0m\u001b[0;34m(\u001b[0m\u001b[0mresult\u001b[0m\u001b[0;34m)\u001b[0m\u001b[0;34m\u001b[0m\u001b[0;34m\u001b[0m\u001b[0m\n",
            "\u001b[0;32m/usr/local/lib/python3.6/dist-packages/joblib/_parallel_backends.py\u001b[0m in \u001b[0;36m__init__\u001b[0;34m(self, batch)\u001b[0m\n\u001b[1;32m    588\u001b[0m         \u001b[0;31m# Don't delay the application, to avoid keeping the input\u001b[0m\u001b[0;34m\u001b[0m\u001b[0;34m\u001b[0m\u001b[0;34m\u001b[0m\u001b[0m\n\u001b[1;32m    589\u001b[0m         \u001b[0;31m# arguments in memory\u001b[0m\u001b[0;34m\u001b[0m\u001b[0;34m\u001b[0m\u001b[0;34m\u001b[0m\u001b[0m\n\u001b[0;32m--> 590\u001b[0;31m         \u001b[0mself\u001b[0m\u001b[0;34m.\u001b[0m\u001b[0mresults\u001b[0m \u001b[0;34m=\u001b[0m \u001b[0mbatch\u001b[0m\u001b[0;34m(\u001b[0m\u001b[0;34m)\u001b[0m\u001b[0;34m\u001b[0m\u001b[0;34m\u001b[0m\u001b[0m\n\u001b[0m\u001b[1;32m    591\u001b[0m \u001b[0;34m\u001b[0m\u001b[0m\n\u001b[1;32m    592\u001b[0m     \u001b[0;32mdef\u001b[0m \u001b[0mget\u001b[0m\u001b[0;34m(\u001b[0m\u001b[0mself\u001b[0m\u001b[0;34m)\u001b[0m\u001b[0;34m:\u001b[0m\u001b[0;34m\u001b[0m\u001b[0;34m\u001b[0m\u001b[0m\n",
            "\u001b[0;32m/usr/local/lib/python3.6/dist-packages/joblib/parallel.py\u001b[0m in \u001b[0;36m__call__\u001b[0;34m(self)\u001b[0m\n\u001b[1;32m    254\u001b[0m         \u001b[0;32mwith\u001b[0m \u001b[0mparallel_backend\u001b[0m\u001b[0;34m(\u001b[0m\u001b[0mself\u001b[0m\u001b[0;34m.\u001b[0m\u001b[0m_backend\u001b[0m\u001b[0;34m,\u001b[0m \u001b[0mn_jobs\u001b[0m\u001b[0;34m=\u001b[0m\u001b[0mself\u001b[0m\u001b[0;34m.\u001b[0m\u001b[0m_n_jobs\u001b[0m\u001b[0;34m)\u001b[0m\u001b[0;34m:\u001b[0m\u001b[0;34m\u001b[0m\u001b[0;34m\u001b[0m\u001b[0m\n\u001b[1;32m    255\u001b[0m             return [func(*args, **kwargs)\n\u001b[0;32m--> 256\u001b[0;31m                     for func, args, kwargs in self.items]\n\u001b[0m\u001b[1;32m    257\u001b[0m \u001b[0;34m\u001b[0m\u001b[0m\n\u001b[1;32m    258\u001b[0m     \u001b[0;32mdef\u001b[0m \u001b[0m__len__\u001b[0m\u001b[0;34m(\u001b[0m\u001b[0mself\u001b[0m\u001b[0;34m)\u001b[0m\u001b[0;34m:\u001b[0m\u001b[0;34m\u001b[0m\u001b[0;34m\u001b[0m\u001b[0m\n",
            "\u001b[0;32m/usr/local/lib/python3.6/dist-packages/joblib/parallel.py\u001b[0m in \u001b[0;36m<listcomp>\u001b[0;34m(.0)\u001b[0m\n\u001b[1;32m    254\u001b[0m         \u001b[0;32mwith\u001b[0m \u001b[0mparallel_backend\u001b[0m\u001b[0;34m(\u001b[0m\u001b[0mself\u001b[0m\u001b[0;34m.\u001b[0m\u001b[0m_backend\u001b[0m\u001b[0;34m,\u001b[0m \u001b[0mn_jobs\u001b[0m\u001b[0;34m=\u001b[0m\u001b[0mself\u001b[0m\u001b[0;34m.\u001b[0m\u001b[0m_n_jobs\u001b[0m\u001b[0;34m)\u001b[0m\u001b[0;34m:\u001b[0m\u001b[0;34m\u001b[0m\u001b[0;34m\u001b[0m\u001b[0m\n\u001b[1;32m    255\u001b[0m             return [func(*args, **kwargs)\n\u001b[0;32m--> 256\u001b[0;31m                     for func, args, kwargs in self.items]\n\u001b[0m\u001b[1;32m    257\u001b[0m \u001b[0;34m\u001b[0m\u001b[0m\n\u001b[1;32m    258\u001b[0m     \u001b[0;32mdef\u001b[0m \u001b[0m__len__\u001b[0m\u001b[0;34m(\u001b[0m\u001b[0mself\u001b[0m\u001b[0;34m)\u001b[0m\u001b[0;34m:\u001b[0m\u001b[0;34m\u001b[0m\u001b[0;34m\u001b[0m\u001b[0m\n",
            "\u001b[0;32m/usr/local/lib/python3.6/dist-packages/sklearn/model_selection/_validation.py\u001b[0m in \u001b[0;36m_fit_and_score\u001b[0;34m(estimator, X, y, scorer, train, test, verbose, parameters, fit_params, return_train_score, return_parameters, return_n_test_samples, return_times, return_estimator, error_score)\u001b[0m\n\u001b[1;32m    513\u001b[0m             \u001b[0mestimator\u001b[0m\u001b[0;34m.\u001b[0m\u001b[0mfit\u001b[0m\u001b[0;34m(\u001b[0m\u001b[0mX_train\u001b[0m\u001b[0;34m,\u001b[0m \u001b[0;34m**\u001b[0m\u001b[0mfit_params\u001b[0m\u001b[0;34m)\u001b[0m\u001b[0;34m\u001b[0m\u001b[0;34m\u001b[0m\u001b[0m\n\u001b[1;32m    514\u001b[0m         \u001b[0;32melse\u001b[0m\u001b[0;34m:\u001b[0m\u001b[0;34m\u001b[0m\u001b[0;34m\u001b[0m\u001b[0m\n\u001b[0;32m--> 515\u001b[0;31m             \u001b[0mestimator\u001b[0m\u001b[0;34m.\u001b[0m\u001b[0mfit\u001b[0m\u001b[0;34m(\u001b[0m\u001b[0mX_train\u001b[0m\u001b[0;34m,\u001b[0m \u001b[0my_train\u001b[0m\u001b[0;34m,\u001b[0m \u001b[0;34m**\u001b[0m\u001b[0mfit_params\u001b[0m\u001b[0;34m)\u001b[0m\u001b[0;34m\u001b[0m\u001b[0;34m\u001b[0m\u001b[0m\n\u001b[0m\u001b[1;32m    516\u001b[0m \u001b[0;34m\u001b[0m\u001b[0m\n\u001b[1;32m    517\u001b[0m     \u001b[0;32mexcept\u001b[0m \u001b[0mException\u001b[0m \u001b[0;32mas\u001b[0m \u001b[0me\u001b[0m\u001b[0;34m:\u001b[0m\u001b[0;34m\u001b[0m\u001b[0;34m\u001b[0m\u001b[0m\n",
            "\u001b[0;32m/usr/local/lib/python3.6/dist-packages/keras/wrappers/scikit_learn.py\u001b[0m in \u001b[0;36mfit\u001b[0;34m(self, x, y, sample_weight, **kwargs)\u001b[0m\n\u001b[1;32m    207\u001b[0m         \u001b[0;32mif\u001b[0m \u001b[0msample_weight\u001b[0m \u001b[0;32mis\u001b[0m \u001b[0;32mnot\u001b[0m \u001b[0;32mNone\u001b[0m\u001b[0;34m:\u001b[0m\u001b[0;34m\u001b[0m\u001b[0;34m\u001b[0m\u001b[0m\n\u001b[1;32m    208\u001b[0m             \u001b[0mkwargs\u001b[0m\u001b[0;34m[\u001b[0m\u001b[0;34m'sample_weight'\u001b[0m\u001b[0;34m]\u001b[0m \u001b[0;34m=\u001b[0m \u001b[0msample_weight\u001b[0m\u001b[0;34m\u001b[0m\u001b[0;34m\u001b[0m\u001b[0m\n\u001b[0;32m--> 209\u001b[0;31m         \u001b[0;32mreturn\u001b[0m \u001b[0msuper\u001b[0m\u001b[0;34m(\u001b[0m\u001b[0mKerasClassifier\u001b[0m\u001b[0;34m,\u001b[0m \u001b[0mself\u001b[0m\u001b[0;34m)\u001b[0m\u001b[0;34m.\u001b[0m\u001b[0mfit\u001b[0m\u001b[0;34m(\u001b[0m\u001b[0mx\u001b[0m\u001b[0;34m,\u001b[0m \u001b[0my\u001b[0m\u001b[0;34m,\u001b[0m \u001b[0;34m**\u001b[0m\u001b[0mkwargs\u001b[0m\u001b[0;34m)\u001b[0m\u001b[0;34m\u001b[0m\u001b[0;34m\u001b[0m\u001b[0m\n\u001b[0m\u001b[1;32m    210\u001b[0m \u001b[0;34m\u001b[0m\u001b[0m\n\u001b[1;32m    211\u001b[0m     \u001b[0;32mdef\u001b[0m \u001b[0mpredict\u001b[0m\u001b[0;34m(\u001b[0m\u001b[0mself\u001b[0m\u001b[0;34m,\u001b[0m \u001b[0mx\u001b[0m\u001b[0;34m,\u001b[0m \u001b[0;34m**\u001b[0m\u001b[0mkwargs\u001b[0m\u001b[0;34m)\u001b[0m\u001b[0;34m:\u001b[0m\u001b[0;34m\u001b[0m\u001b[0;34m\u001b[0m\u001b[0m\n",
            "\u001b[0;32m/usr/local/lib/python3.6/dist-packages/keras/wrappers/scikit_learn.py\u001b[0m in \u001b[0;36mfit\u001b[0;34m(self, x, y, **kwargs)\u001b[0m\n\u001b[1;32m    149\u001b[0m         \u001b[0mfit_args\u001b[0m\u001b[0;34m.\u001b[0m\u001b[0mupdate\u001b[0m\u001b[0;34m(\u001b[0m\u001b[0mkwargs\u001b[0m\u001b[0;34m)\u001b[0m\u001b[0;34m\u001b[0m\u001b[0;34m\u001b[0m\u001b[0m\n\u001b[1;32m    150\u001b[0m \u001b[0;34m\u001b[0m\u001b[0m\n\u001b[0;32m--> 151\u001b[0;31m         \u001b[0mhistory\u001b[0m \u001b[0;34m=\u001b[0m \u001b[0mself\u001b[0m\u001b[0;34m.\u001b[0m\u001b[0mmodel\u001b[0m\u001b[0;34m.\u001b[0m\u001b[0mfit\u001b[0m\u001b[0;34m(\u001b[0m\u001b[0mx\u001b[0m\u001b[0;34m,\u001b[0m \u001b[0my\u001b[0m\u001b[0;34m,\u001b[0m \u001b[0;34m**\u001b[0m\u001b[0mfit_args\u001b[0m\u001b[0;34m)\u001b[0m\u001b[0;34m\u001b[0m\u001b[0;34m\u001b[0m\u001b[0m\n\u001b[0m\u001b[1;32m    152\u001b[0m \u001b[0;34m\u001b[0m\u001b[0m\n\u001b[1;32m    153\u001b[0m         \u001b[0;32mreturn\u001b[0m \u001b[0mhistory\u001b[0m\u001b[0;34m\u001b[0m\u001b[0;34m\u001b[0m\u001b[0m\n",
            "\u001b[0;32m/usr/local/lib/python3.6/dist-packages/keras/engine/training.py\u001b[0m in \u001b[0;36mfit\u001b[0;34m(self, x, y, batch_size, epochs, verbose, callbacks, validation_split, validation_data, shuffle, class_weight, sample_weight, initial_epoch, steps_per_epoch, validation_steps, validation_freq, max_queue_size, workers, use_multiprocessing, **kwargs)\u001b[0m\n\u001b[1;32m   1237\u001b[0m                                         \u001b[0msteps_per_epoch\u001b[0m\u001b[0;34m=\u001b[0m\u001b[0msteps_per_epoch\u001b[0m\u001b[0;34m,\u001b[0m\u001b[0;34m\u001b[0m\u001b[0;34m\u001b[0m\u001b[0m\n\u001b[1;32m   1238\u001b[0m                                         \u001b[0mvalidation_steps\u001b[0m\u001b[0;34m=\u001b[0m\u001b[0mvalidation_steps\u001b[0m\u001b[0;34m,\u001b[0m\u001b[0;34m\u001b[0m\u001b[0;34m\u001b[0m\u001b[0m\n\u001b[0;32m-> 1239\u001b[0;31m                                         validation_freq=validation_freq)\n\u001b[0m\u001b[1;32m   1240\u001b[0m \u001b[0;34m\u001b[0m\u001b[0m\n\u001b[1;32m   1241\u001b[0m     def evaluate(self,\n",
            "\u001b[0;32m/usr/local/lib/python3.6/dist-packages/keras/engine/training_arrays.py\u001b[0m in \u001b[0;36mfit_loop\u001b[0;34m(model, fit_function, fit_inputs, out_labels, batch_size, epochs, verbose, callbacks, val_function, val_inputs, shuffle, initial_epoch, steps_per_epoch, validation_steps, validation_freq)\u001b[0m\n\u001b[1;32m    182\u001b[0m                         \u001b[0;31m# Do not slice the training phase flag.\u001b[0m\u001b[0;34m\u001b[0m\u001b[0;34m\u001b[0m\u001b[0;34m\u001b[0m\u001b[0m\n\u001b[1;32m    183\u001b[0m                         ins_batch = slice_arrays(\n\u001b[0;32m--> 184\u001b[0;31m                             fit_inputs[:-1], batch_ids) + [fit_inputs[-1]]\n\u001b[0m\u001b[1;32m    185\u001b[0m                     \u001b[0;32melse\u001b[0m\u001b[0;34m:\u001b[0m\u001b[0;34m\u001b[0m\u001b[0;34m\u001b[0m\u001b[0m\n\u001b[1;32m    186\u001b[0m                         \u001b[0mins_batch\u001b[0m \u001b[0;34m=\u001b[0m \u001b[0mslice_arrays\u001b[0m\u001b[0;34m(\u001b[0m\u001b[0mfit_inputs\u001b[0m\u001b[0;34m,\u001b[0m \u001b[0mbatch_ids\u001b[0m\u001b[0;34m)\u001b[0m\u001b[0;34m\u001b[0m\u001b[0;34m\u001b[0m\u001b[0m\n",
            "\u001b[0;32m/usr/local/lib/python3.6/dist-packages/keras/utils/generic_utils.py\u001b[0m in \u001b[0;36mslice_arrays\u001b[0;34m(arrays, start, stop)\u001b[0m\n\u001b[1;32m    553\u001b[0m             \u001b[0;32mif\u001b[0m \u001b[0mhasattr\u001b[0m\u001b[0;34m(\u001b[0m\u001b[0mstart\u001b[0m\u001b[0;34m,\u001b[0m \u001b[0;34m'shape'\u001b[0m\u001b[0;34m)\u001b[0m\u001b[0;34m:\u001b[0m\u001b[0;34m\u001b[0m\u001b[0;34m\u001b[0m\u001b[0m\n\u001b[1;32m    554\u001b[0m                 \u001b[0mstart\u001b[0m \u001b[0;34m=\u001b[0m \u001b[0mstart\u001b[0m\u001b[0;34m.\u001b[0m\u001b[0mtolist\u001b[0m\u001b[0;34m(\u001b[0m\u001b[0;34m)\u001b[0m\u001b[0;34m\u001b[0m\u001b[0;34m\u001b[0m\u001b[0m\n\u001b[0;32m--> 555\u001b[0;31m             \u001b[0;32mreturn\u001b[0m \u001b[0;34m[\u001b[0m\u001b[0;32mNone\u001b[0m \u001b[0;32mif\u001b[0m \u001b[0mx\u001b[0m \u001b[0;32mis\u001b[0m \u001b[0;32mNone\u001b[0m \u001b[0;32melse\u001b[0m \u001b[0mx\u001b[0m\u001b[0;34m[\u001b[0m\u001b[0mstart\u001b[0m\u001b[0;34m]\u001b[0m \u001b[0;32mfor\u001b[0m \u001b[0mx\u001b[0m \u001b[0;32min\u001b[0m \u001b[0marrays\u001b[0m\u001b[0;34m]\u001b[0m\u001b[0;34m\u001b[0m\u001b[0;34m\u001b[0m\u001b[0m\n\u001b[0m\u001b[1;32m    556\u001b[0m         \u001b[0;32melse\u001b[0m\u001b[0;34m:\u001b[0m\u001b[0;34m\u001b[0m\u001b[0;34m\u001b[0m\u001b[0m\n\u001b[1;32m    557\u001b[0m             \u001b[0;32mreturn\u001b[0m \u001b[0;34m[\u001b[0m\u001b[0;32mNone\u001b[0m \u001b[0;32mif\u001b[0m \u001b[0mx\u001b[0m \u001b[0;32mis\u001b[0m \u001b[0;32mNone\u001b[0m \u001b[0;32melse\u001b[0m \u001b[0mx\u001b[0m\u001b[0;34m[\u001b[0m\u001b[0mstart\u001b[0m\u001b[0;34m:\u001b[0m\u001b[0mstop\u001b[0m\u001b[0;34m]\u001b[0m \u001b[0;32mfor\u001b[0m \u001b[0mx\u001b[0m \u001b[0;32min\u001b[0m \u001b[0marrays\u001b[0m\u001b[0;34m]\u001b[0m\u001b[0;34m\u001b[0m\u001b[0;34m\u001b[0m\u001b[0m\n",
            "\u001b[0;32m/usr/local/lib/python3.6/dist-packages/keras/utils/generic_utils.py\u001b[0m in \u001b[0;36m<listcomp>\u001b[0;34m(.0)\u001b[0m\n\u001b[1;32m    553\u001b[0m             \u001b[0;32mif\u001b[0m \u001b[0mhasattr\u001b[0m\u001b[0;34m(\u001b[0m\u001b[0mstart\u001b[0m\u001b[0;34m,\u001b[0m \u001b[0;34m'shape'\u001b[0m\u001b[0;34m)\u001b[0m\u001b[0;34m:\u001b[0m\u001b[0;34m\u001b[0m\u001b[0;34m\u001b[0m\u001b[0m\n\u001b[1;32m    554\u001b[0m                 \u001b[0mstart\u001b[0m \u001b[0;34m=\u001b[0m \u001b[0mstart\u001b[0m\u001b[0;34m.\u001b[0m\u001b[0mtolist\u001b[0m\u001b[0;34m(\u001b[0m\u001b[0;34m)\u001b[0m\u001b[0;34m\u001b[0m\u001b[0;34m\u001b[0m\u001b[0m\n\u001b[0;32m--> 555\u001b[0;31m             \u001b[0;32mreturn\u001b[0m \u001b[0;34m[\u001b[0m\u001b[0;32mNone\u001b[0m \u001b[0;32mif\u001b[0m \u001b[0mx\u001b[0m \u001b[0;32mis\u001b[0m \u001b[0;32mNone\u001b[0m \u001b[0;32melse\u001b[0m \u001b[0mx\u001b[0m\u001b[0;34m[\u001b[0m\u001b[0mstart\u001b[0m\u001b[0;34m]\u001b[0m \u001b[0;32mfor\u001b[0m \u001b[0mx\u001b[0m \u001b[0;32min\u001b[0m \u001b[0marrays\u001b[0m\u001b[0;34m]\u001b[0m\u001b[0;34m\u001b[0m\u001b[0;34m\u001b[0m\u001b[0m\n\u001b[0m\u001b[1;32m    556\u001b[0m         \u001b[0;32melse\u001b[0m\u001b[0;34m:\u001b[0m\u001b[0;34m\u001b[0m\u001b[0;34m\u001b[0m\u001b[0m\n\u001b[1;32m    557\u001b[0m             \u001b[0;32mreturn\u001b[0m \u001b[0;34m[\u001b[0m\u001b[0;32mNone\u001b[0m \u001b[0;32mif\u001b[0m \u001b[0mx\u001b[0m \u001b[0;32mis\u001b[0m \u001b[0;32mNone\u001b[0m \u001b[0;32melse\u001b[0m \u001b[0mx\u001b[0m\u001b[0;34m[\u001b[0m\u001b[0mstart\u001b[0m\u001b[0;34m:\u001b[0m\u001b[0mstop\u001b[0m\u001b[0;34m]\u001b[0m \u001b[0;32mfor\u001b[0m \u001b[0mx\u001b[0m \u001b[0;32min\u001b[0m \u001b[0marrays\u001b[0m\u001b[0;34m]\u001b[0m\u001b[0;34m\u001b[0m\u001b[0;34m\u001b[0m\u001b[0m\n",
            "\u001b[0;31mKeyboardInterrupt\u001b[0m: "
          ]
        }
      ]
    },
    {
      "cell_type": "code",
      "metadata": {
        "id": "hLLoC5f_WW42",
        "colab_type": "code",
        "outputId": "3cbdf930-6683-47d7-8747-15854e5419f4",
        "colab": {
          "base_uri": "https://localhost:8080/",
          "height": 129
        }
      },
      "source": [
        "print(\"Best: %f using %s\" % (grid_result_SGD.best_score_, grid_result_SGD.best_params_))\n",
        "\n",
        "means = grid_result_SGD.cv_results_['mean_test_score']\n",
        "stds = grid_result_SGD.cv_results_['std_test_score']\n",
        "params = grid_result_SGD.cv_results_['params']\n",
        "for mean, stdev, param in zip(means, stds, params):\n",
        "    print(\"%f (%f) with: %r\" % (mean, stdev, param))"
      ],
      "execution_count": 0,
      "outputs": [
        {
          "output_type": "stream",
          "text": [
            "Best: 0.553846 using {'learning_rate': 1.0}\n",
            "0.130356 (0.007660) with: {'learning_rate': 0.0078125}\n",
            "0.234243 (0.024834) with: {'learning_rate': 0.026278012976678578}\n",
            "0.406286 (0.022258) with: {'learning_rate': 0.08838834764831845}\n",
            "0.526882 (0.004518) with: {'learning_rate': 0.29730177875068026}\n",
            "0.553846 (0.003991) with: {'learning_rate': 1.0}\n"
          ],
          "name": "stdout"
        }
      ]
    },
    {
      "cell_type": "markdown",
      "metadata": {
        "id": "e3XK-bINWst5",
        "colab_type": "text"
      },
      "source": [
        "### Step 1.3. Predict \n",
        "\n",
        "Now we can predict directly with optimized hyperparameters by calling \"grid_result.predict\""
      ]
    },
    {
      "cell_type": "code",
      "metadata": {
        "id": "BdrHjQcjWrKU",
        "colab_type": "code",
        "outputId": "1eb8799a-2a59-4aa7-eb86-85e674ddf0de",
        "colab": {
          "base_uri": "https://localhost:8080/",
          "height": 73
        }
      },
      "source": [
        "test_feature_matrix = vectorizer.fit_transform(test_text)\n",
        "print(test_feature_matrix.shape)\n",
        "\n",
        "predictions_SGD = grid_result_SGD.predict(test_feature_matrix)\n",
        "predicted_labels_SGD = label_encoder.inverse_transform(list(predictions_SGD))\n",
        "print(\"Classification accuracy: \", round(accuracy_score(test_labels, predicted_labels_SGD)*100,1), \"percent\")"
      ],
      "execution_count": 0,
      "outputs": [
        {
          "output_type": "stream",
          "text": [
            "(1500, 20000)\n",
            "1500/1500 [==============================] - 0s 202us/step\n",
            "Classification accuracy:  6.4 percent\n"
          ],
          "name": "stdout"
        }
      ]
    },
    {
      "cell_type": "markdown",
      "metadata": {
        "id": "ngH0B3sRYcES",
        "colab_type": "text"
      },
      "source": [
        "### Nested CV with SGD"
      ]
    },
    {
      "cell_type": "code",
      "metadata": {
        "id": "iCmyydMlYf81",
        "colab_type": "code",
        "colab": {}
      },
      "source": [
        "\n",
        "# How to choose number of splits: https://machinelearningmastery.com/k-fold-cross-validation/\n",
        "\n",
        "stop_cb = EarlyStopping(monitor = 'val_accuracy', patience=20, verbose=1, mode='auto', baseline=None, restore_best_weights=True)\n",
        "\n",
        "inner_cv = KFold(n_splits=3, shuffle=True, random_state=4) # Should use StratifiedKFold but can not because the smallest classes!\n",
        "outer_cv = KFold(n_splits=3, shuffle=True, random_state=4)\n",
        "\n",
        "# Inner CV: optimize number hyperparameter\n",
        "# Set up possible values of parameters to optimize over\n",
        "learning_rate = np.logspace(-7, 0, num = 5, base = 2).tolist()\n",
        "params = dict(learning_rate = learning_rate)\n",
        "\n",
        "nested_grid_SGD = GridSearchCV(estimator=bow_model_SGD, param_grid=params, n_jobs=1, cv=inner_cv, verbose = 1)\n",
        "\n",
        "nested_grid_result_SGD = nested_grid_SGD.fit(X, joint_numbers, callbacks = [stop_cb])\n",
        "print()"
      ],
      "execution_count": 0,
      "outputs": []
    },
    {
      "cell_type": "code",
      "metadata": {
        "id": "EGlQVhbxbDML",
        "colab_type": "code",
        "outputId": "2a25ee71-a620-47a0-ca5b-5fe6cb435b20",
        "colab": {
          "base_uri": "https://localhost:8080/",
          "height": 129
        }
      },
      "source": [
        "print(\"Best: %f using %s\" % (nested_grid_result_SGD.best_score_, nested_grid_result_SGD.best_params_))\n",
        "\n",
        "means = nested_grid_result_SGD.cv_results_['mean_test_score']\n",
        "stds = nested_grid_result_SGD.cv_results_['std_test_score']\n",
        "params = nested_grid_result_SGD.cv_results_['params']\n",
        "for mean, stdev, param in zip(means, stds, params):\n",
        "    print(\"%f (%f) with: %r\" % (mean, stdev, param))"
      ],
      "execution_count": 0,
      "outputs": [
        {
          "output_type": "stream",
          "text": [
            "Best: 0.557982 using {'learning_rate': 1.0}\n",
            "0.119438 (0.005350) with: {'learning_rate': 0.0078125}\n",
            "0.236559 (0.048157) with: {'learning_rate': 0.026278012976678578}\n",
            "0.409429 (0.003865) with: {'learning_rate': 0.08838834764831845}\n",
            "0.528371 (0.003851) with: {'learning_rate': 0.29730177875068026}\n",
            "0.557982 (0.005905) with: {'learning_rate': 1.0}\n"
          ],
          "name": "stdout"
        }
      ]
    },
    {
      "cell_type": "code",
      "metadata": {
        "id": "mkJ7wPURapWO",
        "colab_type": "code",
        "outputId": "15f828ff-3a42-433b-996f-38d444c7bdbd",
        "colab": {
          "base_uri": "https://localhost:8080/",
          "height": 54
        }
      },
      "source": [
        "predictions_nested_SGD = nested_grid_result_SGD.predict(test_feature_matrix)\n",
        "predicted_labels_nested_SGD = label_encoder.inverse_transform(list(predictions_nested_SGD))\n",
        "print(\"Classification accuracy: \", round(accuracy_score(test_labels, predicted_labels_nested_SGD)*100,1), \"percent\")"
      ],
      "execution_count": 0,
      "outputs": [
        {
          "output_type": "stream",
          "text": [
            "1500/1500 [==============================] - 1s 489us/step\n",
            "Classification accuracy:  7.4 percent\n"
          ],
          "name": "stdout"
        }
      ]
    },
    {
      "cell_type": "markdown",
      "metadata": {
        "id": "Z5JoCfs3LiU4",
        "colab_type": "text"
      },
      "source": [
        "## Optimizer: Adam"
      ]
    },
    {
      "cell_type": "code",
      "metadata": {
        "id": "1Tyq5l2bLT3-",
        "colab_type": "code",
        "colab": {}
      },
      "source": [
        "X = joint_feature_matrix.toarray()\n"
      ],
      "execution_count": 0,
      "outputs": []
    },
    {
      "cell_type": "code",
      "metadata": {
        "id": "XY2kbDqScdLY",
        "colab_type": "code",
        "colab": {}
      },
      "source": [
        "example_count, feature_count = joint_feature_matrix.shape\n",
        "class_count = len(train_labels.unique())\n",
        "\n",
        "def create_bow_model_Adam(learning_rate=0.01, nodes=200):\n",
        "  inp = Input(shape=(feature_count,))\n",
        "  hidden1 = Dense(nodes, activation=\"relu\")(inp)\n",
        "  hidden2 = Dense(nodes, activation=\"relu\")(hidden1)                                          # two hidden layers\n",
        "  dropout = Dropout(0.3)(hidden2)\n",
        "  outp = Dense(class_count, activation='softmax')(dropout)                                    # also dropoutrate could be optimized\n",
        "  model = Model(inputs=[inp], outputs=[outp])\n",
        "  optimizer = optimizers.Adam(learning_rate=learning_rate)                                    # also hyperparameter momentum could be optimized\n",
        "  model.compile(optimizer = optimizer, loss=\"categorical_crossentropy\", metrics=['accuracy']) # for one hot encodings\n",
        "  return model"
      ],
      "execution_count": 0,
      "outputs": []
    },
    {
      "cell_type": "code",
      "metadata": {
        "id": "Nz9l0NRWkRkY",
        "colab_type": "code",
        "outputId": "b3b03a2f-a6f1-4c3d-cf2d-8aa0f420220b",
        "colab": {
          "base_uri": "https://localhost:8080/",
          "height": 352
        }
      },
      "source": [
        "model = create_bow_model_Adam()\n",
        "model.summary()"
      ],
      "execution_count": 0,
      "outputs": [
        {
          "output_type": "stream",
          "text": [
            "Model: \"model_6\"\n",
            "_________________________________________________________________\n",
            "Layer (type)                 Output Shape              Param #   \n",
            "=================================================================\n",
            "input_7 (InputLayer)         [(None, 20000)]           0         \n",
            "_________________________________________________________________\n",
            "dense_9 (Dense)              (None, 200)               4000200   \n",
            "_________________________________________________________________\n",
            "dense_10 (Dense)             (None, 200)               40200     \n",
            "_________________________________________________________________\n",
            "dropout_1 (Dropout)          (None, 200)               0         \n",
            "_________________________________________________________________\n",
            "dense_11 (Dense)             (None, 100)               20100     \n",
            "=================================================================\n",
            "Total params: 4,060,500\n",
            "Trainable params: 4,060,500\n",
            "Non-trainable params: 0\n",
            "_________________________________________________________________\n"
          ],
          "name": "stdout"
        }
      ]
    },
    {
      "cell_type": "markdown",
      "metadata": {
        "id": "lqtIMrYQftS2",
        "colab_type": "text"
      },
      "source": [
        "## Nested cross-validation\n",
        "- nested, aka external cross-validation\n",
        "- cross-validation within cross-validation\n",
        "- inner loop for model selection, outer for evaluation\n",
        "- Split the data to K non-overlapping folds\n",
        "1. designate i:th fold as the outer cross-validation test fold, set it\n",
        "aside\n",
        "2. use the remaining K-1 folds to perform model selection with\n",
        "cross-validation as usual\n",
        "3. train the model with selected parameters on the K-1 training\n",
        "folds\n",
        "4. compute predictions using the remaining ith fold as test set\n",
        "I afterwards collect the together predictions made at step 4 for\n",
        "all the K folds and compute your error rate or other\n",
        "performance measure"
      ]
    },
    {
      "cell_type": "code",
      "metadata": {
        "id": "WmKrE2zoblrD",
        "colab_type": "code",
        "outputId": "7741249c-5d80-4a48-c0b0-76c6f31347ed",
        "colab": {
          "base_uri": "https://localhost:8080/",
          "height": 1000
        }
      },
      "source": [
        "# https://scikit-learn.org/stable/auto_examples/model_selection/plot_nested_cross_validation_iris.html\n",
        "# https://chrisalbon.com/machine_learning/model_evaluation/nested_cross_validation/\n",
        "# https://mlfromscratch.com/nested-cross-validation-python-code/#/\n",
        "\n",
        "# Choose cross-validation techniques for the inner and outer loops\n",
        "# outer loop: X folds\n",
        "# inner loop: each fold of outer loop is folded again! To avoid too heavy computaion do not fold too many times or try running parallel \n",
        "# (n_jobs=-1): parallel, (n_jobs=1): sequential\n",
        "\n",
        "start = datetime.now()\n",
        "print(\"start time =\", start)\n",
        "\n",
        "bow_model_Adam = KerasClassifier(build_fn=create_bow_model_Adam, epochs=40, batch_size=100, verbose=0)\n",
        "\n",
        "# Call backs won't work / not needed with gridsearch... \n",
        "# stop_cb = EarlyStopping(monitor = 'val_accuracy', patience=10, verbose=1, mode='auto', baseline=None, restore_best_weights=True)\n",
        "# Warning: 'val_accuracy' not available: Stack overflow search suggestion: \"If the error only occurs when you use smaller datasets, \n",
        "# you're very likely using datasets small enough to not have a single sample in the validation set. \"\n",
        "# mc_cb = ModelCheckpoint(filepath='models/bow_model.h5', monitor='val_accuracy', verbose=0,save_best_only=True, mode='auto')\n",
        "# Warning: memory leak\n",
        "\n",
        "inner_cv = KFold(n_splits=3, shuffle=True, random_state=4) # Should use StratifiedKFold but can not because the smallest classes!\n",
        "outer_cv = KFold(n_splits=3, shuffle=True, random_state=4)\n",
        "\n",
        "learning_rate = [0.005, 0.001, 0.01, 0.1]\n",
        "epochs = [20, 40]\n",
        "params = dict(learning_rate=learning_rate, epochs = epochs )\n",
        "\n",
        "nested_grid_Adam = GridSearchCV(estimator=bow_model_Adam, param_grid=params, n_jobs=-1, cv=inner_cv, verbose = 1)\n",
        "\n",
        "nested_grid_result_Adam = nested_grid_Adam.fit(X, joint_labels, verbose = 1, callbacks=[mc_cb])\n",
        "\n",
        "end = datetime.now()\n",
        "print(\"start time =\", end)"
      ],
      "execution_count": 0,
      "outputs": [
        {
          "output_type": "stream",
          "text": [
            "start time = 2020-05-05 16:06:13.958064\n",
            "Fitting 3 folds for each of 8 candidates, totalling 24 fits\n"
          ],
          "name": "stdout"
        },
        {
          "output_type": "stream",
          "text": [
            "[Parallel(n_jobs=-1)]: Using backend LokyBackend with 4 concurrent workers.\n",
            "[Parallel(n_jobs=-1)]: Done  24 out of  24 | elapsed:  2.8min finished\n"
          ],
          "name": "stderr"
        },
        {
          "output_type": "stream",
          "text": [
            "Train on 6045 samples\n",
            "Epoch 1/40\n",
            "5700/6045 [===========================>..] - ETA: 0s - loss: 3.5174 - acc: 0.2223WARNING:tensorflow:Can save best model only with accuracy available, skipping.\n",
            "6045/6045 [==============================] - 2s 295us/sample - loss: 3.4626 - acc: 0.2328\n",
            "Epoch 2/40\n",
            "5900/6045 [============================>.] - ETA: 0s - loss: 2.1627 - acc: 0.4897WARNING:tensorflow:Can save best model only with accuracy available, skipping.\n",
            "6045/6045 [==============================] - 1s 127us/sample - loss: 2.1551 - acc: 0.4907\n",
            "Epoch 3/40\n",
            "5800/6045 [===========================>..] - ETA: 0s - loss: 1.5263 - acc: 0.6478WARNING:tensorflow:Can save best model only with accuracy available, skipping.\n",
            "6045/6045 [==============================] - 1s 128us/sample - loss: 1.5263 - acc: 0.6467\n",
            "Epoch 4/40\n",
            "5900/6045 [============================>.] - ETA: 0s - loss: 1.0318 - acc: 0.7658WARNING:tensorflow:Can save best model only with accuracy available, skipping.\n",
            "6045/6045 [==============================] - 1s 128us/sample - loss: 1.0313 - acc: 0.7658\n",
            "Epoch 5/40\n",
            "5700/6045 [===========================>..] - ETA: 0s - loss: 0.6426 - acc: 0.8642WARNING:tensorflow:Can save best model only with accuracy available, skipping.\n",
            "6045/6045 [==============================] - 1s 125us/sample - loss: 0.6438 - acc: 0.8653\n",
            "Epoch 6/40\n",
            "5700/6045 [===========================>..] - ETA: 0s - loss: 0.3970 - acc: 0.9312WARNING:tensorflow:Can save best model only with accuracy available, skipping.\n",
            "6045/6045 [==============================] - 1s 127us/sample - loss: 0.3959 - acc: 0.9327\n",
            "Epoch 7/40\n",
            "6000/6045 [============================>.] - ETA: 0s - loss: 0.2500 - acc: 0.9640WARNING:tensorflow:Can save best model only with accuracy available, skipping.\n",
            "6045/6045 [==============================] - 1s 126us/sample - loss: 0.2492 - acc: 0.9643\n",
            "Epoch 8/40\n",
            "5700/6045 [===========================>..] - ETA: 0s - loss: 0.1708 - acc: 0.9739WARNING:tensorflow:Can save best model only with accuracy available, skipping.\n",
            "6045/6045 [==============================] - 1s 131us/sample - loss: 0.1689 - acc: 0.9745\n",
            "Epoch 9/40\n",
            "5800/6045 [===========================>..] - ETA: 0s - loss: 0.1264 - acc: 0.9800WARNING:tensorflow:Can save best model only with accuracy available, skipping.\n",
            "6045/6045 [==============================] - 1s 127us/sample - loss: 0.1270 - acc: 0.9800\n",
            "Epoch 10/40\n",
            "5900/6045 [============================>.] - ETA: 0s - loss: 0.0982 - acc: 0.9846WARNING:tensorflow:Can save best model only with accuracy available, skipping.\n",
            "6045/6045 [==============================] - 1s 126us/sample - loss: 0.0982 - acc: 0.9846\n",
            "Epoch 11/40\n",
            "5700/6045 [===========================>..] - ETA: 0s - loss: 0.0768 - acc: 0.9865WARNING:tensorflow:Can save best model only with accuracy available, skipping.\n",
            "6045/6045 [==============================] - 1s 126us/sample - loss: 0.0795 - acc: 0.9858\n",
            "Epoch 12/40\n",
            "5700/6045 [===========================>..] - ETA: 0s - loss: 0.0654 - acc: 0.9889WARNING:tensorflow:Can save best model only with accuracy available, skipping.\n",
            "6045/6045 [==============================] - 1s 124us/sample - loss: 0.0649 - acc: 0.9891\n",
            "Epoch 13/40\n",
            "5800/6045 [===========================>..] - ETA: 0s - loss: 0.0557 - acc: 0.9893WARNING:tensorflow:Can save best model only with accuracy available, skipping.\n",
            "6045/6045 [==============================] - 1s 125us/sample - loss: 0.0554 - acc: 0.9894\n",
            "Epoch 14/40\n",
            "6000/6045 [============================>.] - ETA: 0s - loss: 0.0466 - acc: 0.9908WARNING:tensorflow:Can save best model only with accuracy available, skipping.\n",
            "6045/6045 [==============================] - 1s 125us/sample - loss: 0.0463 - acc: 0.9909\n",
            "Epoch 15/40\n",
            "5900/6045 [============================>.] - ETA: 0s - loss: 0.0377 - acc: 0.9919WARNING:tensorflow:Can save best model only with accuracy available, skipping.\n",
            "6045/6045 [==============================] - 1s 126us/sample - loss: 0.0380 - acc: 0.9917\n",
            "Epoch 16/40\n",
            "6000/6045 [============================>.] - ETA: 0s - loss: 0.0342 - acc: 0.9937WARNING:tensorflow:Can save best model only with accuracy available, skipping.\n",
            "6045/6045 [==============================] - 1s 126us/sample - loss: 0.0346 - acc: 0.9935\n",
            "Epoch 17/40\n",
            "5700/6045 [===========================>..] - ETA: 0s - loss: 0.0308 - acc: 0.9946WARNING:tensorflow:Can save best model only with accuracy available, skipping.\n",
            "6045/6045 [==============================] - 1s 131us/sample - loss: 0.0306 - acc: 0.9945\n",
            "Epoch 18/40\n",
            "5700/6045 [===========================>..] - ETA: 0s - loss: 0.0204 - acc: 0.9975WARNING:tensorflow:Can save best model only with accuracy available, skipping.\n",
            "6045/6045 [==============================] - 1s 132us/sample - loss: 0.0230 - acc: 0.9970\n",
            "Epoch 19/40\n",
            "5700/6045 [===========================>..] - ETA: 0s - loss: 0.0211 - acc: 0.9965WARNING:tensorflow:Can save best model only with accuracy available, skipping.\n",
            "6045/6045 [==============================] - 1s 133us/sample - loss: 0.0202 - acc: 0.9967\n",
            "Epoch 20/40\n",
            "4500/6045 [=====================>........] - ETA: 0s - loss: 0.0165 - acc: 0.9978"
          ],
          "name": "stdout"
        },
        {
          "output_type": "error",
          "ename": "KeyboardInterrupt",
          "evalue": "ignored",
          "traceback": [
            "\u001b[0;31m---------------------------------------------------------------------------\u001b[0m",
            "\u001b[0;31mKeyboardInterrupt\u001b[0m                         Traceback (most recent call last)",
            "\u001b[0;32m<ipython-input-134-bd735814dff4>\u001b[0m in \u001b[0;36m<module>\u001b[0;34m()\u001b[0m\n\u001b[1;32m     21\u001b[0m \u001b[0mnested_grid_Adam\u001b[0m \u001b[0;34m=\u001b[0m \u001b[0mGridSearchCV\u001b[0m\u001b[0;34m(\u001b[0m\u001b[0mestimator\u001b[0m\u001b[0;34m=\u001b[0m\u001b[0mbow_model_Adam\u001b[0m\u001b[0;34m,\u001b[0m \u001b[0mparam_grid\u001b[0m\u001b[0;34m=\u001b[0m\u001b[0mparams\u001b[0m\u001b[0;34m,\u001b[0m \u001b[0mn_jobs\u001b[0m\u001b[0;34m=\u001b[0m\u001b[0;34m-\u001b[0m\u001b[0;36m1\u001b[0m\u001b[0;34m,\u001b[0m \u001b[0mcv\u001b[0m\u001b[0;34m=\u001b[0m\u001b[0minner_cv\u001b[0m\u001b[0;34m,\u001b[0m \u001b[0mverbose\u001b[0m \u001b[0;34m=\u001b[0m \u001b[0;36m1\u001b[0m\u001b[0;34m)\u001b[0m\u001b[0;34m\u001b[0m\u001b[0;34m\u001b[0m\u001b[0m\n\u001b[1;32m     22\u001b[0m \u001b[0;34m\u001b[0m\u001b[0m\n\u001b[0;32m---> 23\u001b[0;31m \u001b[0mnested_grid_result_Adam\u001b[0m \u001b[0;34m=\u001b[0m \u001b[0mnested_grid_Adam\u001b[0m\u001b[0;34m.\u001b[0m\u001b[0mfit\u001b[0m\u001b[0;34m(\u001b[0m\u001b[0mX\u001b[0m\u001b[0;34m,\u001b[0m \u001b[0mjoint_labels\u001b[0m\u001b[0;34m,\u001b[0m \u001b[0mverbose\u001b[0m \u001b[0;34m=\u001b[0m \u001b[0;36m1\u001b[0m\u001b[0;34m,\u001b[0m \u001b[0mcallbacks\u001b[0m\u001b[0;34m=\u001b[0m\u001b[0;34m[\u001b[0m\u001b[0mmc_cb\u001b[0m\u001b[0;34m]\u001b[0m\u001b[0;34m)\u001b[0m\u001b[0;34m\u001b[0m\u001b[0;34m\u001b[0m\u001b[0m\n\u001b[0m\u001b[1;32m     24\u001b[0m \u001b[0;34m\u001b[0m\u001b[0m\n\u001b[1;32m     25\u001b[0m \u001b[0mend\u001b[0m \u001b[0;34m=\u001b[0m \u001b[0mdatetime\u001b[0m\u001b[0;34m.\u001b[0m\u001b[0mnow\u001b[0m\u001b[0;34m(\u001b[0m\u001b[0;34m)\u001b[0m\u001b[0;34m\u001b[0m\u001b[0;34m\u001b[0m\u001b[0m\n",
            "\u001b[0;32m/usr/local/lib/python3.6/dist-packages/sklearn/model_selection/_search.py\u001b[0m in \u001b[0;36mfit\u001b[0;34m(self, X, y, groups, **fit_params)\u001b[0m\n\u001b[1;32m    737\u001b[0m             \u001b[0mrefit_start_time\u001b[0m \u001b[0;34m=\u001b[0m \u001b[0mtime\u001b[0m\u001b[0;34m.\u001b[0m\u001b[0mtime\u001b[0m\u001b[0;34m(\u001b[0m\u001b[0;34m)\u001b[0m\u001b[0;34m\u001b[0m\u001b[0;34m\u001b[0m\u001b[0m\n\u001b[1;32m    738\u001b[0m             \u001b[0;32mif\u001b[0m \u001b[0my\u001b[0m \u001b[0;32mis\u001b[0m \u001b[0;32mnot\u001b[0m \u001b[0;32mNone\u001b[0m\u001b[0;34m:\u001b[0m\u001b[0;34m\u001b[0m\u001b[0;34m\u001b[0m\u001b[0m\n\u001b[0;32m--> 739\u001b[0;31m                 \u001b[0mself\u001b[0m\u001b[0;34m.\u001b[0m\u001b[0mbest_estimator_\u001b[0m\u001b[0;34m.\u001b[0m\u001b[0mfit\u001b[0m\u001b[0;34m(\u001b[0m\u001b[0mX\u001b[0m\u001b[0;34m,\u001b[0m \u001b[0my\u001b[0m\u001b[0;34m,\u001b[0m \u001b[0;34m**\u001b[0m\u001b[0mfit_params\u001b[0m\u001b[0;34m)\u001b[0m\u001b[0;34m\u001b[0m\u001b[0;34m\u001b[0m\u001b[0m\n\u001b[0m\u001b[1;32m    740\u001b[0m             \u001b[0;32melse\u001b[0m\u001b[0;34m:\u001b[0m\u001b[0;34m\u001b[0m\u001b[0;34m\u001b[0m\u001b[0m\n\u001b[1;32m    741\u001b[0m                 \u001b[0mself\u001b[0m\u001b[0;34m.\u001b[0m\u001b[0mbest_estimator_\u001b[0m\u001b[0;34m.\u001b[0m\u001b[0mfit\u001b[0m\u001b[0;34m(\u001b[0m\u001b[0mX\u001b[0m\u001b[0;34m,\u001b[0m \u001b[0;34m**\u001b[0m\u001b[0mfit_params\u001b[0m\u001b[0;34m)\u001b[0m\u001b[0;34m\u001b[0m\u001b[0;34m\u001b[0m\u001b[0m\n",
            "\u001b[0;32m/tensorflow-1.15.2/python3.6/tensorflow_core/python/keras/wrappers/scikit_learn.py\u001b[0m in \u001b[0;36mfit\u001b[0;34m(self, x, y, **kwargs)\u001b[0m\n\u001b[1;32m    221\u001b[0m       \u001b[0;32mraise\u001b[0m \u001b[0mValueError\u001b[0m\u001b[0;34m(\u001b[0m\u001b[0;34m'Invalid shape for y: '\u001b[0m \u001b[0;34m+\u001b[0m \u001b[0mstr\u001b[0m\u001b[0;34m(\u001b[0m\u001b[0my\u001b[0m\u001b[0;34m.\u001b[0m\u001b[0mshape\u001b[0m\u001b[0;34m)\u001b[0m\u001b[0;34m)\u001b[0m\u001b[0;34m\u001b[0m\u001b[0;34m\u001b[0m\u001b[0m\n\u001b[1;32m    222\u001b[0m     \u001b[0mself\u001b[0m\u001b[0;34m.\u001b[0m\u001b[0mn_classes_\u001b[0m \u001b[0;34m=\u001b[0m \u001b[0mlen\u001b[0m\u001b[0;34m(\u001b[0m\u001b[0mself\u001b[0m\u001b[0;34m.\u001b[0m\u001b[0mclasses_\u001b[0m\u001b[0;34m)\u001b[0m\u001b[0;34m\u001b[0m\u001b[0;34m\u001b[0m\u001b[0m\n\u001b[0;32m--> 223\u001b[0;31m     \u001b[0;32mreturn\u001b[0m \u001b[0msuper\u001b[0m\u001b[0;34m(\u001b[0m\u001b[0mKerasClassifier\u001b[0m\u001b[0;34m,\u001b[0m \u001b[0mself\u001b[0m\u001b[0;34m)\u001b[0m\u001b[0;34m.\u001b[0m\u001b[0mfit\u001b[0m\u001b[0;34m(\u001b[0m\u001b[0mx\u001b[0m\u001b[0;34m,\u001b[0m \u001b[0my\u001b[0m\u001b[0;34m,\u001b[0m \u001b[0;34m**\u001b[0m\u001b[0mkwargs\u001b[0m\u001b[0;34m)\u001b[0m\u001b[0;34m\u001b[0m\u001b[0;34m\u001b[0m\u001b[0m\n\u001b[0m\u001b[1;32m    224\u001b[0m \u001b[0;34m\u001b[0m\u001b[0m\n\u001b[1;32m    225\u001b[0m   \u001b[0;32mdef\u001b[0m \u001b[0mpredict\u001b[0m\u001b[0;34m(\u001b[0m\u001b[0mself\u001b[0m\u001b[0;34m,\u001b[0m \u001b[0mx\u001b[0m\u001b[0;34m,\u001b[0m \u001b[0;34m**\u001b[0m\u001b[0mkwargs\u001b[0m\u001b[0;34m)\u001b[0m\u001b[0;34m:\u001b[0m\u001b[0;34m\u001b[0m\u001b[0;34m\u001b[0m\u001b[0m\n",
            "\u001b[0;32m/tensorflow-1.15.2/python3.6/tensorflow_core/python/keras/wrappers/scikit_learn.py\u001b[0m in \u001b[0;36mfit\u001b[0;34m(self, x, y, **kwargs)\u001b[0m\n\u001b[1;32m    164\u001b[0m     \u001b[0mfit_args\u001b[0m\u001b[0;34m.\u001b[0m\u001b[0mupdate\u001b[0m\u001b[0;34m(\u001b[0m\u001b[0mkwargs\u001b[0m\u001b[0;34m)\u001b[0m\u001b[0;34m\u001b[0m\u001b[0;34m\u001b[0m\u001b[0m\n\u001b[1;32m    165\u001b[0m \u001b[0;34m\u001b[0m\u001b[0m\n\u001b[0;32m--> 166\u001b[0;31m     \u001b[0mhistory\u001b[0m \u001b[0;34m=\u001b[0m \u001b[0mself\u001b[0m\u001b[0;34m.\u001b[0m\u001b[0mmodel\u001b[0m\u001b[0;34m.\u001b[0m\u001b[0mfit\u001b[0m\u001b[0;34m(\u001b[0m\u001b[0mx\u001b[0m\u001b[0;34m,\u001b[0m \u001b[0my\u001b[0m\u001b[0;34m,\u001b[0m \u001b[0;34m**\u001b[0m\u001b[0mfit_args\u001b[0m\u001b[0;34m)\u001b[0m\u001b[0;34m\u001b[0m\u001b[0;34m\u001b[0m\u001b[0m\n\u001b[0m\u001b[1;32m    167\u001b[0m \u001b[0;34m\u001b[0m\u001b[0m\n\u001b[1;32m    168\u001b[0m     \u001b[0;32mreturn\u001b[0m \u001b[0mhistory\u001b[0m\u001b[0;34m\u001b[0m\u001b[0;34m\u001b[0m\u001b[0m\n",
            "\u001b[0;32m/tensorflow-1.15.2/python3.6/tensorflow_core/python/keras/engine/training.py\u001b[0m in \u001b[0;36mfit\u001b[0;34m(self, x, y, batch_size, epochs, verbose, callbacks, validation_split, validation_data, shuffle, class_weight, sample_weight, initial_epoch, steps_per_epoch, validation_steps, validation_freq, max_queue_size, workers, use_multiprocessing, **kwargs)\u001b[0m\n\u001b[1;32m    725\u001b[0m         \u001b[0mmax_queue_size\u001b[0m\u001b[0;34m=\u001b[0m\u001b[0mmax_queue_size\u001b[0m\u001b[0;34m,\u001b[0m\u001b[0;34m\u001b[0m\u001b[0;34m\u001b[0m\u001b[0m\n\u001b[1;32m    726\u001b[0m         \u001b[0mworkers\u001b[0m\u001b[0;34m=\u001b[0m\u001b[0mworkers\u001b[0m\u001b[0;34m,\u001b[0m\u001b[0;34m\u001b[0m\u001b[0;34m\u001b[0m\u001b[0m\n\u001b[0;32m--> 727\u001b[0;31m         use_multiprocessing=use_multiprocessing)\n\u001b[0m\u001b[1;32m    728\u001b[0m \u001b[0;34m\u001b[0m\u001b[0m\n\u001b[1;32m    729\u001b[0m   def evaluate(self,\n",
            "\u001b[0;32m/tensorflow-1.15.2/python3.6/tensorflow_core/python/keras/engine/training_arrays.py\u001b[0m in \u001b[0;36mfit\u001b[0;34m(self, model, x, y, batch_size, epochs, verbose, callbacks, validation_split, validation_data, shuffle, class_weight, sample_weight, initial_epoch, steps_per_epoch, validation_steps, validation_freq, **kwargs)\u001b[0m\n\u001b[1;32m    673\u001b[0m         \u001b[0mvalidation_steps\u001b[0m\u001b[0;34m=\u001b[0m\u001b[0mvalidation_steps\u001b[0m\u001b[0;34m,\u001b[0m\u001b[0;34m\u001b[0m\u001b[0;34m\u001b[0m\u001b[0m\n\u001b[1;32m    674\u001b[0m         \u001b[0mvalidation_freq\u001b[0m\u001b[0;34m=\u001b[0m\u001b[0mvalidation_freq\u001b[0m\u001b[0;34m,\u001b[0m\u001b[0;34m\u001b[0m\u001b[0;34m\u001b[0m\u001b[0m\n\u001b[0;32m--> 675\u001b[0;31m         steps_name='steps_per_epoch')\n\u001b[0m\u001b[1;32m    676\u001b[0m \u001b[0;34m\u001b[0m\u001b[0m\n\u001b[1;32m    677\u001b[0m   def evaluate(self,\n",
            "\u001b[0;32m/tensorflow-1.15.2/python3.6/tensorflow_core/python/keras/engine/training_arrays.py\u001b[0m in \u001b[0;36mmodel_iteration\u001b[0;34m(model, inputs, targets, sample_weights, batch_size, epochs, verbose, callbacks, val_inputs, val_targets, val_sample_weights, shuffle, initial_epoch, steps_per_epoch, validation_steps, validation_freq, mode, validation_in_fit, prepared_feed_values_from_dataset, steps_name, **kwargs)\u001b[0m\n\u001b[1;32m    392\u001b[0m \u001b[0;34m\u001b[0m\u001b[0m\n\u001b[1;32m    393\u001b[0m         \u001b[0;31m# Get outputs.\u001b[0m\u001b[0;34m\u001b[0m\u001b[0;34m\u001b[0m\u001b[0;34m\u001b[0m\u001b[0m\n\u001b[0;32m--> 394\u001b[0;31m         \u001b[0mbatch_outs\u001b[0m \u001b[0;34m=\u001b[0m \u001b[0mf\u001b[0m\u001b[0;34m(\u001b[0m\u001b[0mins_batch\u001b[0m\u001b[0;34m)\u001b[0m\u001b[0;34m\u001b[0m\u001b[0;34m\u001b[0m\u001b[0m\n\u001b[0m\u001b[1;32m    395\u001b[0m         \u001b[0;32mif\u001b[0m \u001b[0;32mnot\u001b[0m \u001b[0misinstance\u001b[0m\u001b[0;34m(\u001b[0m\u001b[0mbatch_outs\u001b[0m\u001b[0;34m,\u001b[0m \u001b[0mlist\u001b[0m\u001b[0;34m)\u001b[0m\u001b[0;34m:\u001b[0m\u001b[0;34m\u001b[0m\u001b[0;34m\u001b[0m\u001b[0m\n\u001b[1;32m    396\u001b[0m           \u001b[0mbatch_outs\u001b[0m \u001b[0;34m=\u001b[0m \u001b[0;34m[\u001b[0m\u001b[0mbatch_outs\u001b[0m\u001b[0;34m]\u001b[0m\u001b[0;34m\u001b[0m\u001b[0;34m\u001b[0m\u001b[0m\n",
            "\u001b[0;32m/tensorflow-1.15.2/python3.6/tensorflow_core/python/keras/backend.py\u001b[0m in \u001b[0;36m__call__\u001b[0;34m(self, inputs)\u001b[0m\n\u001b[1;32m   3459\u001b[0m         \u001b[0mtensor_type\u001b[0m \u001b[0;34m=\u001b[0m \u001b[0mdtypes_module\u001b[0m\u001b[0;34m.\u001b[0m\u001b[0mas_dtype\u001b[0m\u001b[0;34m(\u001b[0m\u001b[0mtensor\u001b[0m\u001b[0;34m.\u001b[0m\u001b[0mdtype\u001b[0m\u001b[0;34m)\u001b[0m\u001b[0;34m\u001b[0m\u001b[0;34m\u001b[0m\u001b[0m\n\u001b[1;32m   3460\u001b[0m         array_vals.append(np.asarray(value,\n\u001b[0;32m-> 3461\u001b[0;31m                                      dtype=tensor_type.as_numpy_dtype))\n\u001b[0m\u001b[1;32m   3462\u001b[0m \u001b[0;34m\u001b[0m\u001b[0m\n\u001b[1;32m   3463\u001b[0m     \u001b[0;32mif\u001b[0m \u001b[0mself\u001b[0m\u001b[0;34m.\u001b[0m\u001b[0mfeed_dict\u001b[0m\u001b[0;34m:\u001b[0m\u001b[0;34m\u001b[0m\u001b[0;34m\u001b[0m\u001b[0m\n",
            "\u001b[0;32m/usr/local/lib/python3.6/dist-packages/numpy/core/_asarray.py\u001b[0m in \u001b[0;36masarray\u001b[0;34m(a, dtype, order)\u001b[0m\n\u001b[1;32m     83\u001b[0m \u001b[0;34m\u001b[0m\u001b[0m\n\u001b[1;32m     84\u001b[0m     \"\"\"\n\u001b[0;32m---> 85\u001b[0;31m     \u001b[0;32mreturn\u001b[0m \u001b[0marray\u001b[0m\u001b[0;34m(\u001b[0m\u001b[0ma\u001b[0m\u001b[0;34m,\u001b[0m \u001b[0mdtype\u001b[0m\u001b[0;34m,\u001b[0m \u001b[0mcopy\u001b[0m\u001b[0;34m=\u001b[0m\u001b[0;32mFalse\u001b[0m\u001b[0;34m,\u001b[0m \u001b[0morder\u001b[0m\u001b[0;34m=\u001b[0m\u001b[0morder\u001b[0m\u001b[0;34m)\u001b[0m\u001b[0;34m\u001b[0m\u001b[0;34m\u001b[0m\u001b[0m\n\u001b[0m\u001b[1;32m     86\u001b[0m \u001b[0;34m\u001b[0m\u001b[0m\n\u001b[1;32m     87\u001b[0m \u001b[0;34m\u001b[0m\u001b[0m\n",
            "\u001b[0;31mKeyboardInterrupt\u001b[0m: "
          ]
        }
      ]
    },
    {
      "cell_type": "code",
      "metadata": {
        "id": "xhzTAqY7brC6",
        "colab_type": "code",
        "outputId": "ea930ab0-0384-4386-eef6-62f89f13ace7",
        "colab": {
          "base_uri": "https://localhost:8080/",
          "height": 259
        }
      },
      "source": [
        "print(\"Best: %f using %s\" % (nested_grid_result_Adam.best_score_, nested_grid_result_Adam.best_params_))\n",
        "\n",
        "means = nested_grid_result_Adam.cv_results_['mean_test_score']\n",
        "stds = nested_grid_result_Adam.cv_results_['std_test_score']\n",
        "params = nested_grid_result_Adam.cv_results_['params']\n",
        "for mean, stdev, param in zip(means, stds, params):\n",
        "    print(\"%f (%f) with: %r\" % (mean, stdev, param))\n",
        "print()\n",
        "predictions_nested_Adam = nested_grid_result_Adam.predict(test_feature_matrix)\n",
        "predicted_labels_nested_Adam = label_encoder.inverse_transform(list(predictions_nested_Adam))\n",
        "print(\"Classification accuracy: \", round(accuracy_score(test_labels, predicted_labels_nested_Adam)*100,1), \"percent\")"
      ],
      "execution_count": 0,
      "outputs": [
        {
          "output_type": "stream",
          "text": [
            "Best: 0.548883 using {'epochs': 20, 'learning_rate': 0.001}\n",
            "0.535318 (0.004333) with: {'epochs': 20, 'learning_rate': 0.005}\n",
            "0.548883 (0.007505) with: {'epochs': 20, 'learning_rate': 0.001}\n",
            "0.522581 (0.010179) with: {'epochs': 20, 'learning_rate': 0.01}\n",
            "0.303888 (0.021451) with: {'epochs': 20, 'learning_rate': 0.1}\n",
            "0.190240 (0.041566) with: {'epochs': 20, 'learning_rate': 0.2}\n",
            "0.532672 (0.014120) with: {'epochs': 40, 'learning_rate': 0.005}\n",
            "0.541935 (0.008314) with: {'epochs': 40, 'learning_rate': 0.001}\n",
            "0.489992 (0.001638) with: {'epochs': 40, 'learning_rate': 0.01}\n",
            "0.338792 (0.025922) with: {'epochs': 40, 'learning_rate': 0.1}\n",
            "0.119107 (0.009950) with: {'epochs': 40, 'learning_rate': 0.2}\n",
            "\n",
            "Classification accuracy:  13.8 percent\n"
          ],
          "name": "stdout"
        }
      ]
    },
    {
      "cell_type": "code",
      "metadata": {
        "id": "Ug4n17gTf9Ze",
        "colab_type": "code",
        "colab": {}
      },
      "source": [
        "# This took like ages and ended up with disconnected runtime!!!!!!!!!!!!!!\n",
        "\n",
        "# # https://scikit-learn.org/stable/auto_examples/model_selection/plot_nested_cross_validation_iris.html\n",
        "# # https://chrisalbon.com/machine_learning/model_evaluation/nested_cross_validation/\n",
        "# # https://mlfromscratch.com/nested-cross-validation-python-code/#/\n",
        "\n",
        "# # Choose cross-validation techniques for the inner and outer loops\n",
        "# # outer loop: N folds\n",
        "# # inner loop: each fold of outer loop is folded again! To avoid too heavy computaion do not fold too many times or try running parallel\n",
        "\n",
        "# bow_model_Adam = KerasClassifier(build_fn=create_bow_model_Adam, epochs=40, batch_size=100, verbose=0)\n",
        "\n",
        "# stop_cb = EarlyStopping(monitor = 'val_accuracy', patience=10, verbose=1, mode='auto', baseline=None, restore_best_weights=True)\n",
        "# mc_cb = ModelCheckpoint(filepath='models/bow_model.h5', monitor='accuracy', verbose=0,save_best_only=True, mode='auto')\n",
        "\n",
        "# inner_cv = KFold(n_splits=3, shuffle=True, random_state=4) # Should use StratifiedKFold but can not because the smallest classes!\n",
        "# outer_cv = KFold(n_splits=3, shuffle=True, random_state=4)\n",
        "\n",
        "# # Set the hyperparameter grid. Also possible hyperparams (when parametrized for the functions called!):\n",
        "# # - dropout rate\n",
        "# # - if optimizer is SGD, momentum\n",
        "# # - max_feat (input shape)\n",
        "# nodes = [100, 200]\n",
        "# epochs = [40, 64]\n",
        "# batch_size = [4, 10, 32]\n",
        "# learning_rate = [0.0001, 0.001, 0.01]\n",
        "# params = dict(learning_rate = learning_rate, nodes = nodes, epochs = epochs, batch_size = batch_size)\n",
        "\n",
        "# nested_grid_Adam = GridSearchCV(estimator=bow_model_Adam, param_grid=params, n_jobs=1, cv=inner_cv, verbose = 1)\n",
        "\n",
        "# nested_grid_result_Adam = nested_grid_Adam.fit(X, joint_labels, verbose = 1) #, callbacks=[stop_cb])\n"
      ],
      "execution_count": 0,
      "outputs": []
    },
    {
      "cell_type": "markdown",
      "metadata": {
        "id": "Fa2HwFxZzwOP",
        "colab_type": "text"
      },
      "source": [
        "## Fitting BOW-classifier OLD"
      ]
    },
    {
      "cell_type": "markdown",
      "metadata": {
        "colab_type": "text",
        "id": "mQnwLuHcDntV"
      },
      "source": [
        "Now we will fit the data. Here we will also need the validation data. \n",
        "Let's try with different optimizers available in Keras."
      ]
    },
    {
      "cell_type": "code",
      "metadata": {
        "id": "Rwm-SO6ciArq",
        "colab_type": "code",
        "outputId": "a8221790-2150-41f9-d989-c844c7fdfc39",
        "colab": {
          "base_uri": "https://localhost:8080/",
          "height": 391
        }
      },
      "source": [
        "example_count, feature_count = train_feature_matrix.shape\n",
        "class_count = len(train_labels.unique()) \n",
        "\n",
        "inp = Input(shape = (feature_count, ))                   # Tuple. The size of the inputlayer is the number of the vectors\n",
        "hidden = Dense(300, activation=\"relu\")(inp)  \n",
        "hidden2 = Dense(300, activation=\"relu\")(hidden)\n",
        "dropout = Dropout(0.3)(hidden2)                          # Non-linear activation function. tanh or relu? \n",
        "outp = Dense(class_count, activation=\"softmax\")(hidden2) # As many output possibilities as we have input classes. \n",
        "                                                         # Softmax: produces probability distribution of the classes\n",
        "bow_model = Model(inputs=[inp], outputs=[outp])\n",
        "\n",
        "bow_model.summary()"
      ],
      "execution_count": 0,
      "outputs": [
        {
          "output_type": "stream",
          "text": [
            "WARNING:tensorflow:From /tensorflow-1.15.2/python3.6/tensorflow_core/python/ops/resource_variable_ops.py:1630: calling BaseResourceVariable.__init__ (from tensorflow.python.ops.resource_variable_ops) with constraint is deprecated and will be removed in a future version.\n",
            "Instructions for updating:\n",
            "If using Keras pass *_constraint arguments to layers.\n",
            "Model: \"model_1\"\n",
            "_________________________________________________________________\n",
            "Layer (type)                 Output Shape              Param #   \n",
            "=================================================================\n",
            "input_1 (InputLayer)         (None, 20000)             0         \n",
            "_________________________________________________________________\n",
            "dense_1 (Dense)              (None, 300)               6000300   \n",
            "_________________________________________________________________\n",
            "dense_2 (Dense)              (None, 300)               90300     \n",
            "_________________________________________________________________\n",
            "dense_3 (Dense)              (None, 100)               30100     \n",
            "=================================================================\n",
            "Total params: 6,120,700\n",
            "Trainable params: 6,120,700\n",
            "Non-trainable params: 0\n",
            "_________________________________________________________________\n"
          ],
          "name": "stdout"
        }
      ]
    },
    {
      "cell_type": "code",
      "metadata": {
        "id": "0SM_ApKFQ0b0",
        "colab_type": "code",
        "outputId": "c70c7131-710d-4558-99b1-6fa665e9e392",
        "colab": {
          "base_uri": "https://localhost:8080/",
          "height": 1000
        }
      },
      "source": [
        "# Choose best OP and LR and fit the model\n",
        "stop_cb = EarlyStopping(monitor = 'val_accuracy', patience=40, verbose=1, mode='auto', baseline=None, restore_best_weights=True)\n",
        "\n",
        "bow_model.compile(optimizer = 'Adam', loss=\"categorical_crossentropy\", metrics=['accuracy']) # with one-hot encodings loss = categorical_crossentropy!!!\n",
        "\n",
        "bow_history = bow_model.fit(train_feature_matrix, train_hot, batch_size=32, \n",
        "                 verbose=1, epochs=100, validation_data=(dev_feature_matrix, dev_hot), callbacks=[stop_cb])"
      ],
      "execution_count": 0,
      "outputs": [
        {
          "output_type": "stream",
          "text": [
            "WARNING:tensorflow:From /usr/local/lib/python3.6/dist-packages/keras/backend/tensorflow_backend.py:422: The name tf.global_variables is deprecated. Please use tf.compat.v1.global_variables instead.\n",
            "\n",
            "Train on 5295 samples, validate on 750 samples\n",
            "Epoch 1/100\n",
            "5295/5295 [==============================] - 14s 3ms/step - loss: 2.6677 - accuracy: 0.3804 - val_loss: 1.9671 - val_accuracy: 0.5320\n",
            "Epoch 2/100\n",
            "5295/5295 [==============================] - 14s 3ms/step - loss: 1.2771 - accuracy: 0.7005 - val_loss: 1.7759 - val_accuracy: 0.5733\n",
            "Epoch 3/100\n",
            "5295/5295 [==============================] - 14s 3ms/step - loss: 0.4830 - accuracy: 0.8997 - val_loss: 1.8270 - val_accuracy: 0.5640\n",
            "Epoch 4/100\n",
            "5295/5295 [==============================] - 14s 3ms/step - loss: 0.1798 - accuracy: 0.9726 - val_loss: 1.9260 - val_accuracy: 0.5627\n",
            "Epoch 5/100\n",
            "5295/5295 [==============================] - 14s 3ms/step - loss: 0.0993 - accuracy: 0.9817 - val_loss: 1.9714 - val_accuracy: 0.5747\n",
            "Epoch 6/100\n",
            "5295/5295 [==============================] - 14s 3ms/step - loss: 0.0696 - accuracy: 0.9858 - val_loss: 2.1091 - val_accuracy: 0.5547\n",
            "Epoch 7/100\n",
            "5295/5295 [==============================] - 14s 3ms/step - loss: 0.0519 - accuracy: 0.9883 - val_loss: 2.1371 - val_accuracy: 0.5680\n",
            "Epoch 8/100\n",
            "5295/5295 [==============================] - 14s 3ms/step - loss: 0.0404 - accuracy: 0.9924 - val_loss: 2.1620 - val_accuracy: 0.5733\n",
            "Epoch 9/100\n",
            "5295/5295 [==============================] - 14s 3ms/step - loss: 0.0256 - accuracy: 0.9962 - val_loss: 2.2527 - val_accuracy: 0.5547\n",
            "Epoch 10/100\n",
            "5295/5295 [==============================] - 14s 3ms/step - loss: 0.0174 - accuracy: 0.9960 - val_loss: 2.2290 - val_accuracy: 0.5747\n",
            "Epoch 11/100\n",
            "5295/5295 [==============================] - 14s 3ms/step - loss: 0.0137 - accuracy: 0.9968 - val_loss: 2.2201 - val_accuracy: 0.5667\n",
            "Epoch 12/100\n",
            "5295/5295 [==============================] - 14s 3ms/step - loss: 0.0119 - accuracy: 0.9957 - val_loss: 2.3929 - val_accuracy: 0.5333\n",
            "Epoch 13/100\n",
            "5295/5295 [==============================] - 14s 3ms/step - loss: 0.0124 - accuracy: 0.9960 - val_loss: 2.2785 - val_accuracy: 0.5613\n",
            "Epoch 14/100\n",
            "5295/5295 [==============================] - 13s 3ms/step - loss: 0.0091 - accuracy: 0.9970 - val_loss: 2.3964 - val_accuracy: 0.5600\n",
            "Epoch 15/100\n",
            "5295/5295 [==============================] - 14s 3ms/step - loss: 0.0109 - accuracy: 0.9960 - val_loss: 2.3295 - val_accuracy: 0.5640\n",
            "Epoch 16/100\n",
            "5295/5295 [==============================] - 14s 3ms/step - loss: 0.0089 - accuracy: 0.9972 - val_loss: 2.4246 - val_accuracy: 0.5467\n",
            "Epoch 17/100\n",
            "5295/5295 [==============================] - 13s 3ms/step - loss: 0.0088 - accuracy: 0.9970 - val_loss: 2.6989 - val_accuracy: 0.5347\n",
            "Epoch 18/100\n",
            "5295/5295 [==============================] - 14s 3ms/step - loss: 0.0081 - accuracy: 0.9970 - val_loss: 2.5332 - val_accuracy: 0.5440\n",
            "Epoch 19/100\n",
            "5295/5295 [==============================] - 13s 3ms/step - loss: 0.0080 - accuracy: 0.9966 - val_loss: 2.4533 - val_accuracy: 0.5587\n",
            "Epoch 20/100\n",
            "5295/5295 [==============================] - 14s 3ms/step - loss: 0.0084 - accuracy: 0.9966 - val_loss: 2.4860 - val_accuracy: 0.5507\n",
            "Epoch 21/100\n",
            "5295/5295 [==============================] - 14s 3ms/step - loss: 0.0079 - accuracy: 0.9972 - val_loss: 2.4765 - val_accuracy: 0.5573\n",
            "Epoch 22/100\n",
            "5295/5295 [==============================] - 14s 3ms/step - loss: 0.0066 - accuracy: 0.9975 - val_loss: 2.5494 - val_accuracy: 0.5627\n",
            "Epoch 23/100\n",
            "5295/5295 [==============================] - 14s 3ms/step - loss: 0.0071 - accuracy: 0.9958 - val_loss: 2.5375 - val_accuracy: 0.5613\n",
            "Epoch 24/100\n",
            "5295/5295 [==============================] - 14s 3ms/step - loss: 0.0076 - accuracy: 0.9972 - val_loss: 2.5119 - val_accuracy: 0.5613\n",
            "Epoch 25/100\n",
            "5295/5295 [==============================] - 14s 3ms/step - loss: 0.0057 - accuracy: 0.9974 - val_loss: 2.5735 - val_accuracy: 0.5587\n",
            "Epoch 26/100\n",
            "5295/5295 [==============================] - 14s 3ms/step - loss: 0.0073 - accuracy: 0.9966 - val_loss: 2.5949 - val_accuracy: 0.5520\n",
            "Epoch 27/100\n",
            "5295/5295 [==============================] - 14s 3ms/step - loss: 0.0061 - accuracy: 0.9970 - val_loss: 2.6181 - val_accuracy: 0.5613\n",
            "Epoch 28/100\n",
            "5295/5295 [==============================] - 14s 3ms/step - loss: 0.0075 - accuracy: 0.9966 - val_loss: 2.6174 - val_accuracy: 0.5507\n",
            "Epoch 29/100\n",
            "5295/5295 [==============================] - 14s 3ms/step - loss: 0.0062 - accuracy: 0.9974 - val_loss: 2.6717 - val_accuracy: 0.5573\n",
            "Epoch 30/100\n",
            "5295/5295 [==============================] - 14s 3ms/step - loss: 0.0063 - accuracy: 0.9972 - val_loss: 2.7221 - val_accuracy: 0.5520\n",
            "Epoch 31/100\n",
            "5295/5295 [==============================] - 14s 3ms/step - loss: 0.0060 - accuracy: 0.9968 - val_loss: 2.7433 - val_accuracy: 0.5587\n",
            "Epoch 32/100\n",
            "5295/5295 [==============================] - 14s 3ms/step - loss: 0.0059 - accuracy: 0.9977 - val_loss: 2.7393 - val_accuracy: 0.5587\n",
            "Epoch 33/100\n",
            "5295/5295 [==============================] - 14s 3ms/step - loss: 0.0052 - accuracy: 0.9974 - val_loss: 2.7310 - val_accuracy: 0.5627\n",
            "Epoch 34/100\n",
            "5295/5295 [==============================] - 13s 3ms/step - loss: 0.0052 - accuracy: 0.9972 - val_loss: 2.9057 - val_accuracy: 0.5493\n",
            "Epoch 35/100\n",
            "5295/5295 [==============================] - 13s 3ms/step - loss: 0.0058 - accuracy: 0.9970 - val_loss: 2.7401 - val_accuracy: 0.5587\n",
            "Epoch 36/100\n",
            "5295/5295 [==============================] - 13s 3ms/step - loss: 0.0051 - accuracy: 0.9979 - val_loss: 2.8739 - val_accuracy: 0.5387\n",
            "Epoch 37/100\n",
            "5295/5295 [==============================] - 13s 3ms/step - loss: 0.0061 - accuracy: 0.9972 - val_loss: 2.8903 - val_accuracy: 0.5427\n",
            "Epoch 38/100\n",
            "5295/5295 [==============================] - 13s 3ms/step - loss: 0.0059 - accuracy: 0.9974 - val_loss: 2.8280 - val_accuracy: 0.5453\n",
            "Epoch 39/100\n",
            "5295/5295 [==============================] - 13s 3ms/step - loss: 0.0055 - accuracy: 0.9970 - val_loss: 3.0793 - val_accuracy: 0.5507\n",
            "Epoch 40/100\n",
            "5295/5295 [==============================] - 13s 3ms/step - loss: 0.0064 - accuracy: 0.9970 - val_loss: 2.9128 - val_accuracy: 0.5533\n",
            "Epoch 41/100\n",
            "5295/5295 [==============================] - 14s 3ms/step - loss: 0.0054 - accuracy: 0.9974 - val_loss: 2.8703 - val_accuracy: 0.5587\n",
            "Epoch 42/100\n",
            "5295/5295 [==============================] - 14s 3ms/step - loss: 0.0054 - accuracy: 0.9970 - val_loss: 2.9243 - val_accuracy: 0.5587\n",
            "Epoch 43/100\n",
            "5295/5295 [==============================] - 14s 3ms/step - loss: 0.0046 - accuracy: 0.9972 - val_loss: 3.0769 - val_accuracy: 0.5480\n",
            "Epoch 44/100\n",
            "5295/5295 [==============================] - 13s 3ms/step - loss: 0.0046 - accuracy: 0.9979 - val_loss: 2.9347 - val_accuracy: 0.5573\n",
            "Epoch 45/100\n",
            "5295/5295 [==============================] - 13s 3ms/step - loss: 0.0058 - accuracy: 0.9975 - val_loss: 2.9236 - val_accuracy: 0.5667\n",
            "Restoring model weights from the end of the best epoch\n",
            "Epoch 00045: early stopping\n"
          ],
          "name": "stdout"
        }
      ]
    },
    {
      "cell_type": "code",
      "metadata": {
        "id": "O_zfbGvKjIL1",
        "colab_type": "code",
        "outputId": "eaf0ecb8-308b-427b-a0c7-2340ab33d4e9",
        "colab": {
          "base_uri": "https://localhost:8080/",
          "height": 36
        }
      },
      "source": [
        "# form feature matrix for test data set\n",
        "test_feature_matrix = vectorizer.fit_transform(test_text)\n",
        "print(test_feature_matrix.shape)"
      ],
      "execution_count": 0,
      "outputs": [
        {
          "output_type": "stream",
          "text": [
            "(1500, 20000)\n"
          ],
          "name": "stdout"
        }
      ]
    },
    {
      "cell_type": "code",
      "metadata": {
        "id": "7MR-tO01ge6V",
        "colab_type": "code",
        "outputId": "8fec90f7-944c-4b4a-f9c5-ea6b22ac6487",
        "colab": {
          "base_uri": "https://localhost:8080/",
          "height": 91
        }
      },
      "source": [
        "predictions = np.argmax(bow_model.predict(test_feature_matrix), axis=1) # np.argmax gives the index which has the highest value e.g. class\n",
        "predicted_labels = label_encoder.inverse_transform(list(predictions))\n",
        "print(\"predicted labels: \\n\", predicted_labels)\n",
        "print()\n",
        "print(\"Classification accuracy: \", round(accuracy_score(test_labels, predicted_labels)*100,1), \"percent\")"
      ],
      "execution_count": 0,
      "outputs": [
        {
          "output_type": "stream",
          "text": [
            "predicted labels: \n",
            " ['NE NA ' 'NA  ' 'NA  ' ... 'NA  ' 'NA  ' 'PB NA ']\n",
            "\n",
            "Classification accuracy:  9.0 percent\n"
          ],
          "name": "stdout"
        }
      ]
    },
    {
      "cell_type": "code",
      "metadata": {
        "id": "AqmyFiO0CSrd",
        "colab_type": "code",
        "outputId": "a16ba3a7-26b2-486c-9f1d-c95fc30b1cc7",
        "colab": {
          "base_uri": "https://localhost:8080/",
          "height": 149
        }
      },
      "source": [
        "# Without np.argmax:\n",
        "\n",
        "# predictions = bow_model.predict(test_feature_matrix) \n",
        "# predictions = one_hot_encoder.inverse_transform(predictions) # transfer form one hot encodings to numerical labels \n",
        "# predicted_labels = label_encoder.inverse_transform(list(predictions))\n",
        "# print(\"predicted labels: \\n\", predicted_labels)\n",
        "# print()\n",
        "# print(\"Classification accuracy: \", round(accuracy_score(test_labels, predicted_labels)*100,1), \"percent\")\n"
      ],
      "execution_count": 0,
      "outputs": [
        {
          "output_type": "stream",
          "text": [
            "predicted labels: \n",
            " ['NE NA ' 'NA  ' 'NA  ' ... 'NA  ' 'NA  ' 'PB NA ']\n",
            "\n",
            "Classification accuracy:  9.0 percent\n"
          ],
          "name": "stdout"
        },
        {
          "output_type": "stream",
          "text": [
            "/usr/local/lib/python3.6/dist-packages/sklearn/preprocessing/_label.py:289: DataConversionWarning: A column-vector y was passed when a 1d array was expected. Please change the shape of y to (n_samples, ), for example using ravel().\n",
            "  y = column_or_1d(y, warn=True)\n"
          ],
          "name": "stderr"
        }
      ]
    },
    {
      "cell_type": "markdown",
      "metadata": {
        "id": "IHF-M4emLu-h",
        "colab_type": "text"
      },
      "source": [
        "Why does the model perform so badly?"
      ]
    },
    {
      "cell_type": "code",
      "metadata": {
        "id": "RrzogBR6abt8",
        "colab_type": "code",
        "colab": {}
      },
      "source": [
        "\n",
        "print(\"Number of unique labels in\")\n",
        "print(\"-train data: \", len(np.unique(train_numbers)))\n",
        "print(\"-development data: \", len(np.unique(dev_numbers)))\n",
        "print(\"-test data: \", len(np.unique(test_numbers)))\n",
        "print()\n",
        "inter = np.intersect1d(train_numbers, dev_numbers)\n",
        "inter2 = np.intersect1d(train_numbers, test_numbers)\n",
        "print(\"Number of shared labels in\")\n",
        "print(\"-train and development data: \", len(inter))\n",
        "print(\"-train and test data: \", len(inter2))"
      ],
      "execution_count": 0,
      "outputs": []
    },
    {
      "cell_type": "code",
      "metadata": {
        "id": "U28dT9xjZYKK",
        "colab_type": "code",
        "colab": {}
      },
      "source": [
        "# cnf_matrix = confusion_matrix(test_labels, predicted_labels)\n",
        "\n",
        "# # Confusion matrix has the true labels on rows, and predicted labels on columns in sorted order\n",
        "# print(cnf_matrix)"
      ],
      "execution_count": 0,
      "outputs": []
    },
    {
      "cell_type": "code",
      "metadata": {
        "id": "H8AaFnYV_DRl",
        "colab_type": "code",
        "colab": {}
      },
      "source": [
        "# # Plot confusion matrix\n",
        "# plt.figure()\n",
        "# plot_confusion_matrix(cnf_matrix, classes = all_labels, normalize = False)\n",
        "\n",
        "# plt.show()"
      ],
      "execution_count": 0,
      "outputs": []
    },
    {
      "cell_type": "code",
      "metadata": {
        "id": "0_JdOntcnMyQ",
        "colab_type": "code",
        "colab": {}
      },
      "source": [
        "# # np-argmaxin testailua ÄLÄ HÄVITÄ!!!!!!\n",
        "# print(predictions[0])\n",
        "# print(model.predict(test_feature_matrix)[0][25])\n",
        "# print(model.predict(test_feature_matrix)[0])\n",
        "# print(sum(model.predict(test_feature_matrix)[0]))"
      ],
      "execution_count": 0,
      "outputs": []
    },
    {
      "cell_type": "markdown",
      "metadata": {
        "id": "PfqG5963ZhDa",
        "colab_type": "text"
      },
      "source": [
        "# Milestone 1.2: Recurrent Neural Network Classifier (multi-class)\n",
        "\n",
        "Modify your codes from milestone 1.1 to use recurrent neural networks (e.g. LSTM or biLSTM) in the classifier. Evaluate your model and report your results with different hyperparameters."
      ]
    },
    {
      "cell_type": "markdown",
      "metadata": {
        "id": "qOfJs2YLeAtA",
        "colab_type": "text"
      },
      "source": [
        "For RNN-calssifier we use Tokenizer which turns tokens, in our case the words of training data to integers. "
      ]
    },
    {
      "cell_type": "markdown",
      "metadata": {
        "id": "-7j5rqbNzm3O",
        "colab_type": "text"
      },
      "source": [
        "## Tokenizing"
      ]
    },
    {
      "cell_type": "code",
      "metadata": {
        "id": "C2KY7mtEZl-x",
        "colab_type": "code",
        "colab": {}
      },
      "source": [
        "from keras.preprocessing.text import Tokenizer\n",
        "\n",
        "tokenizer = Tokenizer(\n",
        "    num_words=97000, # max num of most common words\n",
        ")\n",
        "\n",
        "tokenizer.fit_on_texts(train_text)"
      ],
      "execution_count": 0,
      "outputs": []
    },
    {
      "cell_type": "code",
      "metadata": {
        "id": "V6eKbcvnd9m4",
        "colab_type": "code",
        "outputId": "931e1f43-ad55-4aba-fb02-8cc6863e06fe",
        "colab": {
          "base_uri": "https://localhost:8080/",
          "height": 222
        }
      },
      "source": [
        "from pprint import pprint    # pretty-printer\n",
        "\n",
        "def truncate_dict(d, count=10):\n",
        "    # Returns at most count items from the given dictionary.  \n",
        "    return dict(i for i, _ in zip(d.items(), range(count)))\n",
        "\n",
        "# Check if 0 is in the index, and print examples of the mapping\n",
        "# 0 is reserved for padding!\n",
        "print(tokenizer.word_index.get(0))\n",
        "pprint(truncate_dict(tokenizer.word_index))"
      ],
      "execution_count": 0,
      "outputs": [
        {
          "output_type": "stream",
          "text": [
            "None\n",
            "{'ei': 3,\n",
            " 'että': 4,\n",
            " 'ja': 1,\n",
            " 'kun': 9,\n",
            " 'mutta': 8,\n",
            " 'oli': 7,\n",
            " 'on': 2,\n",
            " 'ovat': 10,\n",
            " 'se': 6,\n",
            " 'tai': 5}\n"
          ],
          "name": "stdout"
        }
      ]
    },
    {
      "cell_type": "code",
      "metadata": {
        "id": "_cDmMZZfg62w",
        "colab_type": "code",
        "outputId": "dac7f186-30cf-42ee-8f87-84545360ed40",
        "colab": {
          "base_uri": "https://localhost:8080/",
          "height": 111
        }
      },
      "source": [
        "train_sequences = tokenizer.texts_to_sequences(train_text)\n",
        "\n",
        "print(len(train_sequences)) \n",
        "\n",
        "# Print an example text, its corresponding sequence, and the tokens it represents\n",
        "print('Text:', train_text[0][0:200]) # first item of the suffled data (index not 0!)\n",
        "#print('Text:', train_text.head(1)[0:200]) # first item of the suffled data (index not 0!)\n",
        "print('Sequence:', train_sequences[0][:10])\n",
        "print('Mapped back:', [tokenizer.index_word[i] for i in train_sequences[0][:10]])"
      ],
      "execution_count": 0,
      "outputs": [
        {
          "output_type": "stream",
          "text": [
            "5295\n",
            "Text:  Tämähän menee ihan hurjaksi muotihurjasteluksi . Jo toistamiseen tälle syksylle postauksen aiheena vaatetus . Mutta tämä liittyy tavallaan matkailuun . Ja katsokaa nyt näitä , mitkä maailman ihanimma\n",
            "Sequence: [21429, 13274, 40282, 11697, 15340, 796, 657, 388, 12826, 3002]\n",
            "Mapped back: ['logistiikka', 'jenni', 'lindholm', 'laskutus', 'ritva', 'ota', 'yhteyttä', 'nimi', 'puhelinnumero', 'sähköposti']\n"
          ],
          "name": "stdout"
        }
      ]
    },
    {
      "cell_type": "code",
      "metadata": {
        "id": "js1rksZ6AA6f",
        "colab_type": "code",
        "outputId": "1acf0d02-6125-42e2-c3e3-f9d5bfb2b2b2",
        "colab": {
          "base_uri": "https://localhost:8080/",
          "height": 36
        }
      },
      "source": [
        "lengths = [len(s) for s in train_sequences]\n",
        "print('Lengths:', lengths[:10], 'min:', min(lengths), 'max:', max(lengths), 'mean:', np.mean(lengths))"
      ],
      "execution_count": 0,
      "outputs": [
        {
          "output_type": "stream",
          "text": [
            "Lengths: [384, 921, 158, 194, 932, 388, 123, 384, 1577, 167] min: 0 max: 79136 mean: 583.0457034938621\n"
          ],
          "name": "stdout"
        }
      ]
    },
    {
      "cell_type": "markdown",
      "metadata": {
        "id": "DTcr2XZ8zg1H",
        "colab_type": "text"
      },
      "source": [
        "## Padding\n",
        "\n",
        "Since Keras demands for all of the input items (separate documents of our training data) to have the same length, we need to \"pad\" all but the longest document by filling in the \"missing\" number of words with zeros.\n"
      ]
    },
    {
      "cell_type": "code",
      "metadata": {
        "id": "fA209Lqxzd8t",
        "colab_type": "code",
        "outputId": "09347272-6e76-4e09-eab6-b391a06c77af",
        "colab": {
          "base_uri": "https://localhost:8080/",
          "height": 36
        }
      },
      "source": [
        "from keras.preprocessing.sequence import pad_sequences\n",
        "\n",
        "sequence_length = np.floor(np.mean(lengths)).astype(int) # based on mean value of input length: we will cut sequences longer than this and pad with zeros sequeces shorter than this\n",
        "\n",
        "type(sequence_length)\n",
        "\n",
        "padded_X = pad_sequences(\n",
        "    train_sequences,\n",
        "    maxlen = sequence_length, \n",
        "    value=0\n",
        ")\n",
        "\n",
        "print(padded_X.shape)"
      ],
      "execution_count": 0,
      "outputs": [
        {
          "output_type": "stream",
          "text": [
            "(5295, 583)\n"
          ],
          "name": "stdout"
        }
      ]
    },
    {
      "cell_type": "code",
      "metadata": {
        "id": "Abk9M_AtI1Jc",
        "colab_type": "code",
        "outputId": "79c30b03-d73f-430b-9fb4-d151a98a6f7a",
        "colab": {
          "base_uri": "https://localhost:8080/",
          "height": 36
        }
      },
      "source": [
        "# Prepare model development data\n",
        "\n",
        "dev_sequences = tokenizer.texts_to_sequences(dev_text)\n",
        "padded_dev = pad_sequences(\n",
        "    dev_sequences,\n",
        "    maxlen = sequence_length, \n",
        "    value=0\n",
        ")\n",
        "\n",
        "print(padded_dev.shape)"
      ],
      "execution_count": 0,
      "outputs": [
        {
          "output_type": "stream",
          "text": [
            "(750, 583)\n"
          ],
          "name": "stdout"
        }
      ]
    },
    {
      "cell_type": "markdown",
      "metadata": {
        "id": "V3HXbVzAF6UH",
        "colab_type": "text"
      },
      "source": [
        "## LSTM RNN"
      ]
    },
    {
      "cell_type": "markdown",
      "metadata": {
        "id": "9vn7FWLFGeJQ",
        "colab_type": "text"
      },
      "source": [
        "## HUOMAA!!!\n",
        "Tämä teksti alkuperäisestä RNN-classification notebookista!\n",
        "\n",
        "We define a basic RNN model that takes the RNN cell class (RNN_class) as an argument:\n",
        "\n",
        "- input: sequence of sequence_length integers corresponding to words\n",
        "- embedding: randomly initialized mapping from integers to embedding_dim-dimensional vectors\n",
        "- rnn: recurrent neural network with rnn_units-dimensional state\n",
        "- output: num_classes-dimensional fully connected layer with softmax activation\n",
        "\n",
        "# KATSO NÄITÄ!\n",
        "We're intentionally leaving out a few fairly obvious things that would be expected to help here, including\n",
        "\n",
        "- Any form of regularization, e.g. dropout\n",
        "- Initializing the embeddings with pre-trained word vectors (ks. fasttext)\n",
        "- Masking to ignore padding (see Masking and padding with Keras)\n"
      ]
    },
    {
      "cell_type": "code",
      "metadata": {
        "id": "fJhRaStPGH7r",
        "colab_type": "code",
        "colab": {}
      },
      "source": [
        "from tensorflow.keras.models import Model\n",
        "from tensorflow.keras.layers import Input, Embedding, LSTM, Dense\n",
        "\n",
        "# We'll use these model parameters for all of our examples here.\n",
        "embedding_dim = 50 # input vector\n",
        "rnn_units = 100\n",
        "\n",
        "def build_rnn_model(RNN_class, sequence_length, vocab_size, num_classes):\n",
        "    input_ = Input(shape=(sequence_length,))\n",
        "    embedding = Embedding(vocab_size, embedding_dim)(input_) # randomly initialized. Layer turns positive integers (indexes) into dense vectors of fixed size\n",
        "    rnn = RNN_class(rnn_units)(embedding) # can support different RNNs\n",
        "    output = Dense(num_classes, activation='softmax')(rnn)\n",
        "    return Model(inputs=[input_], outputs=[output])\n",
        "\n",
        "sequence_length = padded_X.shape[1]\n",
        "vocab_size = tokenizer.num_words\n",
        "num_classes = len(label_encoder.classes_)"
      ],
      "execution_count": 0,
      "outputs": []
    },
    {
      "cell_type": "code",
      "metadata": {
        "id": "I5y48zddjkf_",
        "colab_type": "code",
        "colab": {}
      },
      "source": [
        "len(label_encoder.classes_)"
      ],
      "execution_count": 0,
      "outputs": []
    },
    {
      "cell_type": "code",
      "metadata": {
        "id": "Vh4icO32GGX1",
        "colab_type": "code",
        "colab": {}
      },
      "source": [
        "lstm_model = build_rnn_model(LSTM, sequence_length, vocab_size, num_classes)\n",
        "\n",
        "lstm_model.summary()"
      ],
      "execution_count": 0,
      "outputs": []
    },
    {
      "cell_type": "code",
      "metadata": {
        "id": "NikBgdQhpVwL",
        "colab_type": "code",
        "colab": {}
      },
      "source": [
        "lstm_model.compile(loss='sparse_categorical_crossentropy', optimizer='adam', metrics=['accuracy'])\n",
        "\n",
        "epochs = 25\n",
        "batch_size = 100\n",
        "stop_cb = EarlyStopping(monitor = 'val_acc', patience=3, verbose=1, mode='auto', baseline=None, restore_best_weights=True)"
      ],
      "execution_count": 0,
      "outputs": []
    },
    {
      "cell_type": "code",
      "metadata": {
        "id": "Qbxk_lppo_tC",
        "colab_type": "code",
        "colab": {}
      },
      "source": [
        "lstm_history = lstm_model.fit(padded_X, train_numbers, epochs = epochs, batch_size = batch_size, validation_data=(padded_dev, dev_numbers), callbacks=[stop_cb])\n",
        "# , callbacks=[stop_cb]"
      ],
      "execution_count": 0,
      "outputs": []
    },
    {
      "cell_type": "code",
      "metadata": {
        "id": "MXAKNMb5PbM0",
        "colab_type": "code",
        "colab": {}
      },
      "source": [
        "# Prepare model test data\n",
        "\n",
        "test_sequences = tokenizer.texts_to_sequences(test_text)\n",
        "padded_test = pad_sequences(\n",
        "    test_sequences,\n",
        "    maxlen = sequence_length, \n",
        "    value=0\n",
        ")\n",
        "\n",
        "print(padded_test.shape)"
      ],
      "execution_count": 0,
      "outputs": []
    },
    {
      "cell_type": "markdown",
      "metadata": {
        "id": "rrcF1iyLzBkW",
        "colab_type": "text"
      },
      "source": [
        "Predict with LSTM\n"
      ]
    },
    {
      "cell_type": "code",
      "metadata": {
        "id": "d3MGvq6CzAIL",
        "colab_type": "code",
        "colab": {}
      },
      "source": [
        "predictions = np.argmax(lstm_model.predict(padded_test), axis=1) # np.argmax gives the index which has the highest value e.g. class\n",
        "predicted_labels = label_encoder.inverse_transform(list(predictions))\n",
        "print(\"Classification accuracy: \", round(accuracy_score(test_labels, predicted_labels)*100,1), \"percent\")"
      ],
      "execution_count": 0,
      "outputs": []
    },
    {
      "cell_type": "markdown",
      "metadata": {
        "id": "zIycPktw_m39",
        "colab_type": "text"
      },
      "source": [
        "## Bidirectional LSTM RNN"
      ]
    },
    {
      "cell_type": "code",
      "metadata": {
        "id": "p8vdw-jcfAKI",
        "colab_type": "code",
        "colab": {}
      },
      "source": [
        "from keras.models import Sequential\n",
        "from keras.layers import Dense, Embedding, Activation, Bidirectional, LSTM\n",
        "\n",
        "# def build_bi_rnn_model(RNN_class, sequence_length, vocab_size, num_classes):\n",
        "#     input_ = Input(shape=(sequence_length,))\n",
        "#     embedding = Embedding(vocab_size, embedding_dim)(input_) # randomly initialized\n",
        "#     rnn = Bi(RNN_class(rnn_units))(embedding) # can support different RNNs\n",
        "#     output = Dense(num_classes, activation='softmax')(rnn)\n",
        "#     return Model(inputs=[input_], outputs=[output])\n",
        "\n",
        "model = Sequential()\n",
        "# model.add(Input(shape=(sequence_length,)\n",
        "model.add(Embedding(vocab_size, embedding_dim, input_length=sequence_length))\n",
        "model.add(Bidirectional(LSTM(rnn_units))) # bidirectional: num of neurons gets doubled\n",
        "model.add(Dense(num_classes))\n",
        "model.add(Activation('softmax'))\n",
        "\n",
        "model.compile(loss='sparse_categorical_crossentropy', optimizer='adam', metrics=['accuracy'])\n",
        "\n",
        "model.summary()"
      ],
      "execution_count": 0,
      "outputs": []
    },
    {
      "cell_type": "code",
      "metadata": {
        "id": "rLWl2MJjjGmy",
        "colab_type": "code",
        "colab": {}
      },
      "source": [
        "from keras.models import Sequential\n",
        "from keras.layers import Dense, Embedding, Activation, Bidirectional, LSTM\n",
        "\n",
        "# def build_bi_rnn_model(RNN_class, sequence_length, vocab_size, num_classes):\n",
        "#     input_ = Input(shape=(sequence_length,))\n",
        "#     embedding = Embedding(vocab_size, embedding_dim)(input_) # randomly initialized\n",
        "#     rnn = Bi(RNN_class(rnn_units))(embedding) # can support different RNNs\n",
        "#     output = Dense(num_classes, activation='softmax')(rnn)\n",
        "#     return Model(inputs=[input_], outputs=[output])\n",
        "\n",
        "model = Sequential()\n",
        "model.add(Embedding(vocab_size, embedding_dim, input_length=sequence_length))\n",
        "model.add(Bidirectional(LSTM(rnn_units))) # bidirectional: num of neurons gets doubled\n",
        "model.add(Dense(num_classes, activation = 'softmax'))\n",
        "\n",
        "model.compile(loss='sparse_categorical_crossentropy', optimizer='adam', metrics=['accuracy'])\n",
        "\n",
        "model.summary()"
      ],
      "execution_count": 0,
      "outputs": []
    },
    {
      "cell_type": "code",
      "metadata": {
        "id": "y7L2tJHok6_U",
        "colab_type": "code",
        "colab": {}
      },
      "source": [
        "stop_cb = EarlyStopping(monitor = 'val_accuracy', patience=3, verbose=1, mode='auto', baseline=None, restore_best_weights=True)\n",
        "hist_bi_lstm = model.fit(padded_X, train_numbers, epochs = epochs, batch_size = batch_size, validation_data=(padded_dev, dev_numbers), callbacks=[stop_cb])"
      ],
      "execution_count": 0,
      "outputs": []
    },
    {
      "cell_type": "markdown",
      "metadata": {
        "id": "4YvFxjZZ2ZnQ",
        "colab_type": "text"
      },
      "source": [
        "Predict with bi-directional LSTM"
      ]
    },
    {
      "cell_type": "code",
      "metadata": {
        "id": "JQIaS_tR2Tiw",
        "colab_type": "code",
        "colab": {}
      },
      "source": [
        "predictions = np.argmax(model.predict(padded_test), axis=1) # np.argmax gives the index which has the highest value e.g. class\n",
        "predicted_labels = label_encoder.inverse_transform(list(predictions))\n",
        "print(\"Classification accuracy: \", round(accuracy_score(test_labels, predicted_labels)*100,1), \"percent\")"
      ],
      "execution_count": 0,
      "outputs": []
    },
    {
      "cell_type": "markdown",
      "metadata": {
        "id": "tPskSfawiO5I",
        "colab_type": "text"
      },
      "source": [
        "# Milestone 2.1: Deep contextual representations with Bert (multi-class)\n",
        "Train a Bert classifier to predict the register categories. Similar to Milestone 1, the setting is multi-class, and the evaluations should include results with different hyperparameters.\n",
        "\n",
        "Neural language models trained on large\n",
        "unannotated corpora can be used to create\n",
        "contextualized representations of\n",
        "meaning\n",
        "\n",
        "[How-to](https://github.com/HannaKi/Deep_Learning_in_LangTech_course/blob/master/bert_text_classification_extended_comments.ipynb)"
      ]
    },
    {
      "cell_type": "markdown",
      "metadata": {
        "id": "BiSfx6EwPjmR",
        "colab_type": "text"
      },
      "source": [
        "Keep only labels (and texts which correspond to those labels) which appear in training data"
      ]
    },
    {
      "cell_type": "code",
      "metadata": {
        "id": "798Cth7XK4Wk",
        "colab_type": "code",
        "colab": {}
      },
      "source": [
        "# # #To select rows whose column value is in list \n",
        "# # years = [1952, 2007]\n",
        "# # gapminder.year.isin(years)\n",
        "\n",
        "# train_labels = train['label'].tolist()\n",
        "\n",
        "# # test_ = test.label.isin(train_labels)\n",
        "# # dev_ = dev.label.isin(train_labels)\n",
        "\n",
        "# test_ = test[test.label.isin(train_labels)]\n",
        "# dev_ = dev[dev.label.isin(train_labels)]\n",
        "\n",
        "# # test_ = test[test.label.isin(test_)]\n",
        "# # dev_ = dev[dev.label.isin(dev_)]\n",
        "\n",
        "# frames = [train, dev_, test_]\n",
        "# for d in frames:\n",
        "#   print(d.shape)"
      ],
      "execution_count": 0,
      "outputs": []
    },
    {
      "cell_type": "code",
      "metadata": {
        "id": "TSo2NQTzEB1x",
        "colab_type": "code",
        "colab": {}
      },
      "source": [
        "# ist = train_['label'] == 'OA NA DS IG '\n",
        "# train_[ist]\n",
        "# #train_labels"
      ],
      "execution_count": 0,
      "outputs": []
    },
    {
      "cell_type": "code",
      "metadata": {
        "id": "p95jUdzYHGLF",
        "colab_type": "code",
        "colab": {}
      },
      "source": [
        "# ist = dev_['label'] == 'OA NA DS IG '\n",
        "# dev_[ist]\n",
        "# #train_labels"
      ],
      "execution_count": 0,
      "outputs": []
    },
    {
      "cell_type": "code",
      "metadata": {
        "id": "JqrKmnsLI1AP",
        "colab_type": "code",
        "colab": {}
      },
      "source": [
        "# MAX_EXAMPLES and INPUT_LENGTH limited to avoid going out of memory\n",
        "# Maximum number of examples to read\n",
        "MAX_EXAMPLES = 1500\n",
        "\n",
        "# Maximum length of input sequence in tokens\n",
        "INPUT_LENGTH = 250"
      ],
      "execution_count": 0,
      "outputs": []
    },
    {
      "cell_type": "markdown",
      "metadata": {
        "id": "48Kwvy7nKMYt",
        "colab_type": "text"
      },
      "source": [
        "To avoid out of memory we have to limit the input size to MAX_EXAMPLES."
      ]
    },
    {
      "cell_type": "code",
      "metadata": {
        "id": "_82iZbp0N0FG",
        "colab_type": "code",
        "colab": {}
      },
      "source": [
        "def truncate_data(data, MAX_EXAMPLES):\n",
        "  if len(data) > MAX_EXAMPLES: # truncate data if needed to avoid OOM\n",
        "    print('Note: truncating examples from {} to {}'.format(len(data), MAX_EXAMPLES)) # should take stratified subsample?\n",
        "    data = data[:MAX_EXAMPLES]\n",
        "  return(data)"
      ],
      "execution_count": 0,
      "outputs": []
    },
    {
      "cell_type": "code",
      "metadata": {
        "id": "t3LbSG4Vxgp_",
        "colab_type": "code",
        "outputId": "e99c95f1-0d71-49ad-8870-b0711d3d6f9c",
        "colab": {
          "base_uri": "https://localhost:8080/",
          "height": 91
        }
      },
      "source": [
        "# We use dev_ and test_ data sets which only have labels that appear in train data\n",
        "# All the datas will be truncated if needed\n",
        "\n",
        "train_ = truncate_data(train, MAX_EXAMPLES)\n",
        "dev_ = truncate_data(dev_, MAX_EXAMPLES)\n",
        "test_ = truncate_data(test_, MAX_EXAMPLES)\n",
        "\n",
        "frames = [train_, dev_, test_]\n",
        "for d in frames:\n",
        "  print(d.shape)\n",
        "  #print(d.head())"
      ],
      "execution_count": 17,
      "outputs": [
        {
          "output_type": "stream",
          "text": [
            "Note: truncating examples from 5295 to 1500\n",
            "(1500, 3)\n",
            "(750, 3)\n",
            "(1500, 3)\n"
          ],
          "name": "stdout"
        }
      ]
    },
    {
      "cell_type": "code",
      "metadata": {
        "id": "AMN0rcLOK4rx",
        "colab_type": "code",
        "outputId": "cedc6e2c-01e6-435e-efb2-a5255d0ca5d0",
        "colab": {
          "base_uri": "https://localhost:8080/",
          "height": 73
        }
      },
      "source": [
        "# Miksi ei onnistu ensin ottaa päällekäiset labelit pois ja sitten leikata 1000:een?!?!?\n",
        "\n",
        "train_labels = train_['label']\n",
        "\n",
        "test_ = test_[test_['label'].isin(train_labels.tolist())]\n",
        "dev_ = dev_[dev_['label'].isin(train_labels.tolist())] \n",
        "\n",
        "frames = [train_, dev_, test_]\n",
        "for d in frames:\n",
        "  print(d.shape)\n",
        "  #print(d.head())"
      ],
      "execution_count": 18,
      "outputs": [
        {
          "output_type": "stream",
          "text": [
            "(1500, 3)\n",
            "(746, 3)\n",
            "(1489, 3)\n"
          ],
          "name": "stdout"
        }
      ]
    },
    {
      "cell_type": "markdown",
      "metadata": {
        "id": "95rtEhpXJVdo",
        "colab_type": "text"
      },
      "source": [
        "Install Keras Bert"
      ]
    },
    {
      "cell_type": "code",
      "metadata": {
        "id": "fi49M60HJRiI",
        "colab_type": "code",
        "outputId": "9e66f731-1e00-4479-b156-ad737c4db3f7",
        "colab": {
          "base_uri": "https://localhost:8080/",
          "height": 1000
        }
      },
      "source": [
        "!pip3 install keras-bert"
      ],
      "execution_count": 19,
      "outputs": [
        {
          "output_type": "stream",
          "text": [
            "Collecting keras-bert\n",
            "  Downloading https://files.pythonhosted.org/packages/2c/0f/cdc886c1018943ea62d3209bc964413d5aa9d0eb7e493abd8545be679294/keras-bert-0.81.0.tar.gz\n",
            "Requirement already satisfied: numpy in /usr/local/lib/python3.6/dist-packages (from keras-bert) (1.18.3)\n",
            "Requirement already satisfied: Keras in /usr/local/lib/python3.6/dist-packages (from keras-bert) (2.3.1)\n",
            "Collecting keras-transformer>=0.30.0\n",
            "  Downloading https://files.pythonhosted.org/packages/22/b9/9040ec948ef895e71df6bee505a1f7e1c99ffedb409cb6eb329f04ece6e0/keras-transformer-0.33.0.tar.gz\n",
            "Requirement already satisfied: keras-applications>=1.0.6 in /usr/local/lib/python3.6/dist-packages (from Keras->keras-bert) (1.0.8)\n",
            "Requirement already satisfied: pyyaml in /usr/local/lib/python3.6/dist-packages (from Keras->keras-bert) (3.13)\n",
            "Requirement already satisfied: keras-preprocessing>=1.0.5 in /usr/local/lib/python3.6/dist-packages (from Keras->keras-bert) (1.1.0)\n",
            "Requirement already satisfied: scipy>=0.14 in /usr/local/lib/python3.6/dist-packages (from Keras->keras-bert) (1.4.1)\n",
            "Requirement already satisfied: six>=1.9.0 in /usr/local/lib/python3.6/dist-packages (from Keras->keras-bert) (1.12.0)\n",
            "Requirement already satisfied: h5py in /usr/local/lib/python3.6/dist-packages (from Keras->keras-bert) (2.10.0)\n",
            "Collecting keras-pos-embd>=0.10.0\n",
            "  Downloading https://files.pythonhosted.org/packages/09/70/b63ed8fc660da2bb6ae29b9895401c628da5740c048c190b5d7107cadd02/keras-pos-embd-0.11.0.tar.gz\n",
            "Collecting keras-multi-head>=0.22.0\n",
            "  Downloading https://files.pythonhosted.org/packages/40/3e/d0a64bb2ac5217928effe4507c26bbd19b86145d16a1948bc2d4f4c6338a/keras-multi-head-0.22.0.tar.gz\n",
            "Collecting keras-layer-normalization>=0.12.0\n",
            "  Downloading https://files.pythonhosted.org/packages/a4/0e/d1078df0494bac9ce1a67954e5380b6e7569668f0f3b50a9531c62c1fc4a/keras-layer-normalization-0.14.0.tar.gz\n",
            "Collecting keras-position-wise-feed-forward>=0.5.0\n",
            "  Downloading https://files.pythonhosted.org/packages/e3/59/f0faa1037c033059e7e9e7758e6c23b4d1c0772cd48de14c4b6fd4033ad5/keras-position-wise-feed-forward-0.6.0.tar.gz\n",
            "Collecting keras-embed-sim>=0.7.0\n",
            "  Downloading https://files.pythonhosted.org/packages/bc/20/735fd53f6896e2af63af47e212601c1b8a7a80d00b6126c388c9d1233892/keras-embed-sim-0.7.0.tar.gz\n",
            "Collecting keras-self-attention==0.41.0\n",
            "  Downloading https://files.pythonhosted.org/packages/1b/1c/01599219bef7266fa43b3316e4f55bcb487734d3bafdc60ffd564f3cfe29/keras-self-attention-0.41.0.tar.gz\n",
            "Building wheels for collected packages: keras-bert, keras-transformer, keras-pos-embd, keras-multi-head, keras-layer-normalization, keras-position-wise-feed-forward, keras-embed-sim, keras-self-attention\n",
            "  Building wheel for keras-bert (setup.py) ... \u001b[?25l\u001b[?25hdone\n",
            "  Created wheel for keras-bert: filename=keras_bert-0.81.0-cp36-none-any.whl size=37913 sha256=f52169d1873239eafa6f380b1108334dae2f8f815cb3e7f14e33f21ffa1cce7f\n",
            "  Stored in directory: /root/.cache/pip/wheels/bd/27/da/ffc2d573aa48b87440ec4f98bc7c992e3a2d899edb2d22ef9e\n",
            "  Building wheel for keras-transformer (setup.py) ... \u001b[?25l\u001b[?25hdone\n",
            "  Created wheel for keras-transformer: filename=keras_transformer-0.33.0-cp36-none-any.whl size=13260 sha256=8b63a0807cabb134e6b26632225354585ae58ff3af8625470953cd68d040db95\n",
            "  Stored in directory: /root/.cache/pip/wheels/26/98/13/a28402939e1d48edd8704e6b02f223795af4a706815f4bf6d8\n",
            "  Building wheel for keras-pos-embd (setup.py) ... \u001b[?25l\u001b[?25hdone\n",
            "  Created wheel for keras-pos-embd: filename=keras_pos_embd-0.11.0-cp36-none-any.whl size=7554 sha256=a5d2a677942b6ee9f0ae264157f70f72891c43fa7f88a1f2c52023c68cc78010\n",
            "  Stored in directory: /root/.cache/pip/wheels/5b/a1/a0/ce6b1d49ba1a9a76f592e70cf297b05c96bc9f418146761032\n",
            "  Building wheel for keras-multi-head (setup.py) ... \u001b[?25l\u001b[?25hdone\n",
            "  Created wheel for keras-multi-head: filename=keras_multi_head-0.22.0-cp36-none-any.whl size=15371 sha256=5d10f2fda60d3c211902c3b82e7d29298b95f6439cfb4d2c194ca5946b37e044\n",
            "  Stored in directory: /root/.cache/pip/wheels/bb/df/3f/81b36f41b66e6a9cd69224c70a737de2bb6b2f7feb3272c25e\n",
            "  Building wheel for keras-layer-normalization (setup.py) ... \u001b[?25l\u001b[?25hdone\n",
            "  Created wheel for keras-layer-normalization: filename=keras_layer_normalization-0.14.0-cp36-none-any.whl size=5268 sha256=8c23c4efc3e0448f57d0327aec1f649b77641503dd9fe9c72111c0c891b94e2e\n",
            "  Stored in directory: /root/.cache/pip/wheels/54/80/22/a638a7d406fd155e507aa33d703e3fa2612b9eb7bb4f4fe667\n",
            "  Building wheel for keras-position-wise-feed-forward (setup.py) ... \u001b[?25l\u001b[?25hdone\n",
            "  Created wheel for keras-position-wise-feed-forward: filename=keras_position_wise_feed_forward-0.6.0-cp36-none-any.whl size=5623 sha256=d486949bc4642e2ee5850b1927686bd1ec0806c254a3ae0bcea2f801444829d3\n",
            "  Stored in directory: /root/.cache/pip/wheels/39/e2/e2/3514fef126a00574b13bc0b9e23891800158df3a3c19c96e3b\n",
            "  Building wheel for keras-embed-sim (setup.py) ... \u001b[?25l\u001b[?25hdone\n",
            "  Created wheel for keras-embed-sim: filename=keras_embed_sim-0.7.0-cp36-none-any.whl size=4676 sha256=c80f50958692055c56231d01e87b0e443b9f93e0013744e0a29fead450cad065\n",
            "  Stored in directory: /root/.cache/pip/wheels/d1/bc/b1/b0c45cee4ca2e6c86586b0218ffafe7f0703c6d07fdf049866\n",
            "  Building wheel for keras-self-attention (setup.py) ... \u001b[?25l\u001b[?25hdone\n",
            "  Created wheel for keras-self-attention: filename=keras_self_attention-0.41.0-cp36-none-any.whl size=17288 sha256=4b36a928ad3c677f29fe220820b3ac5884a6e7f66632429f5314134154c920d0\n",
            "  Stored in directory: /root/.cache/pip/wheels/cc/dc/17/84258b27a04cd38ac91998abe148203720ca696186635db694\n",
            "Successfully built keras-bert keras-transformer keras-pos-embd keras-multi-head keras-layer-normalization keras-position-wise-feed-forward keras-embed-sim keras-self-attention\n",
            "Installing collected packages: keras-pos-embd, keras-self-attention, keras-multi-head, keras-layer-normalization, keras-position-wise-feed-forward, keras-embed-sim, keras-transformer, keras-bert\n",
            "Successfully installed keras-bert-0.81.0 keras-embed-sim-0.7.0 keras-layer-normalization-0.14.0 keras-multi-head-0.22.0 keras-pos-embd-0.11.0 keras-position-wise-feed-forward-0.6.0 keras-self-attention-0.41.0 keras-transformer-0.33.0\n"
          ],
          "name": "stdout"
        }
      ]
    },
    {
      "cell_type": "markdown",
      "metadata": {
        "id": "6fVv1axNJhVn",
        "colab_type": "text"
      },
      "source": [
        "Set an environment variable for keras-bert to use tensorflow.python.keras"
      ]
    },
    {
      "cell_type": "code",
      "metadata": {
        "id": "8Td8Gp40JeYk",
        "colab_type": "code",
        "colab": {}
      },
      "source": [
        "import os\n",
        "\n",
        "os.environ['TF_KERAS'] = '1'    # Required to use tensorflow.python.keras with keras-bert"
      ],
      "execution_count": 0,
      "outputs": []
    },
    {
      "cell_type": "markdown",
      "metadata": {
        "id": "-zEw1o-yKC3T",
        "colab_type": "text"
      },
      "source": [
        "## Download pretrained FinBERT model"
      ]
    },
    {
      "cell_type": "markdown",
      "metadata": {
        "id": "PRasDCPh1jUM",
        "colab_type": "text"
      },
      "source": [
        "Download pretrained TurkuNLP FinBERT from: https://github.com/TurkuNLP/FinBERT and prepare it for use."
      ]
    },
    {
      "cell_type": "code",
      "metadata": {
        "id": "J87QH8NiKFQm",
        "colab_type": "code",
        "outputId": "8c5b15fa-e106-475f-e67f-df99670d6b41",
        "colab": {
          "base_uri": "https://localhost:8080/",
          "height": 222
        }
      },
      "source": [
        "!wget -nc http://dl.turkunlp.org/finbert/bert-base-finnish-cased-v1.zip"
      ],
      "execution_count": 21,
      "outputs": [
        {
          "output_type": "stream",
          "text": [
            "--2020-05-06 14:29:17--  http://dl.turkunlp.org/finbert/bert-base-finnish-cased-v1.zip\n",
            "Resolving dl.turkunlp.org (dl.turkunlp.org)... 195.148.30.23\n",
            "Connecting to dl.turkunlp.org (dl.turkunlp.org)|195.148.30.23|:80... connected.\n",
            "HTTP request sent, awaiting response... 200 OK\n",
            "Length: 1374658696 (1.3G) [application/zip]\n",
            "Saving to: ‘bert-base-finnish-cased-v1.zip’\n",
            "\n",
            "bert-base-finnish-c 100%[===================>]   1.28G  56.3MB/s    in 25s     \n",
            "\n",
            "2020-05-06 14:29:42 (53.1 MB/s) - ‘bert-base-finnish-cased-v1.zip’ saved [1374658696/1374658696]\n",
            "\n"
          ],
          "name": "stdout"
        }
      ]
    },
    {
      "cell_type": "code",
      "metadata": {
        "id": "V6sF2aEdYqhf",
        "colab_type": "code",
        "outputId": "a29ab8f6-5623-4b81-98db-9c4039150488",
        "colab": {
          "base_uri": "https://localhost:8080/",
          "height": 129
        }
      },
      "source": [
        "# Give -n argument so that existing files aren't overwritten \n",
        "!unzip -n bert-base-finnish-cased-v1.zip"
      ],
      "execution_count": 22,
      "outputs": [
        {
          "output_type": "stream",
          "text": [
            "Archive:  bert-base-finnish-cased-v1.zip\n",
            "  inflating: bert-base-finnish-cased-v1/bert_config.json  \n",
            "  inflating: bert-base-finnish-cased-v1/bert_model.ckpt.data-00000-of-00001  \n",
            "  inflating: bert-base-finnish-cased-v1/bert_model.ckpt.index  \n",
            "  inflating: bert-base-finnish-cased-v1/bert_model.ckpt.meta  \n",
            "  inflating: bert-base-finnish-cased-v1/vocab.txt  \n"
          ],
          "name": "stdout"
        }
      ]
    },
    {
      "cell_type": "markdown",
      "metadata": {
        "id": "5fcLhH5_Z3LS",
        "colab_type": "text"
      },
      "source": [
        "Store paths to important files:"
      ]
    },
    {
      "cell_type": "code",
      "metadata": {
        "id": "7yboNBfdZ2TX",
        "colab_type": "code",
        "colab": {}
      },
      "source": [
        "bert_vocab_path = 'bert-base-finnish-cased-v1/vocab.txt'\n",
        "bert_config_path = 'bert-base-finnish-cased-v1/bert_config.json'\n",
        "bert_checkpoint_path = 'bert-base-finnish-cased-v1/bert_model.ckpt' # suffixes not required"
      ],
      "execution_count": 0,
      "outputs": []
    },
    {
      "cell_type": "code",
      "metadata": {
        "id": "7ulKEdrFa5J4",
        "colab_type": "code",
        "colab": {}
      },
      "source": [
        "model_is_cased = True"
      ],
      "execution_count": 0,
      "outputs": []
    },
    {
      "cell_type": "markdown",
      "metadata": {
        "id": "8cXqCpbSa-20",
        "colab_type": "text"
      },
      "source": [
        "## Load vocabulary"
      ]
    },
    {
      "cell_type": "code",
      "metadata": {
        "id": "-LyiI4clbCU1",
        "colab_type": "code",
        "outputId": "e1c9d4d3-bb43-4f23-97f0-e1c151633207",
        "colab": {
          "base_uri": "https://localhost:8080/",
          "height": 74
        }
      },
      "source": [
        "vocab = []\n",
        "with open(bert_vocab_path) as f:\n",
        "    for i, line in enumerate(f):\n",
        "        vocab.append(line.rstrip('\\n'))    # rstrip to remove newline characters\n",
        "\n",
        "\n",
        "# Print a list with every 500th vocabulary item (includes suffixes)\n",
        "print(vocab[0::500]) # 0 is for padding!\n",
        "print(vocab[103]) # tags are included"
      ],
      "execution_count": 25,
      "outputs": [
        {
          "output_type": "stream",
          "text": [
            "['[PAD]', '##hin', '##tila', 'tehtä', '##ce', 'avulla', '##uttua', 'Sil', '##iver', 'tarvits', 'kilometrin', 'sanotaan', '##ya', 'onnistuu', 'tapaus', 'rento', '##otin', '##kasvat', 'kauhe', 'puolin', 'ymmärrän', 'polttoain', 'arvot', 'ajattelu', '##impiin', 'huomasi', 'tietokoneen', 'tiedämme', 'johdossa', 'teemme', 'paikallisen', 'rekryt', 'vuosikymmeniä', 'kohdistuu', 'tyhmiä', 'baa', '##ipa', 'aero', '##ehtien', 'viimeisteli', '##llosta', 'luulevat', 'verenpain', 'tuottamaan', 'vahingot', 'opiskelijan', '##päivinä', '##uksellisesti', 'uskottava', '##elemaan', 'ilmennyt', 'määrätieto', 'leppo', 'yksityiset', 'kirjailijan', 'vastikään', 'samoista', '##misiin', '##pankkien', 'tuut', 'muutoinkin', 'säilyi', '##ivuoren', '##pauksia', 'kaupungilta', '##lalle', 'tervetulleeksi', 'lähteitä', 'isoin', 'Tuskinpa', 'hallinnut', '##kanslerin', '##jela', 'siniset', 'erikoiskokeella', 'todistavat', 'itsehallinto', 'Oran', 'vikaan', 'ISIS', 'hankinnan', '##eleitä', '##heitolla', '##upar', 'raam', 'edelläkävijä', 'tunnistettu', 'kohtaamis', 'punaisena', 'murtaa', '##ske', 'toimivuudesta', 'zo', '##ektro', '114', 'seinästä', 'Kuhmon', 'viesteissä', 'tukim', 'sellaisiksi', 'Rautio']\n",
            "[SEP]\n"
          ],
          "name": "stdout"
        }
      ]
    },
    {
      "cell_type": "markdown",
      "metadata": {
        "id": "srU3eKQvbMbW",
        "colab_type": "text"
      },
      "source": [
        "## Load BERT configuration\n",
        "\n",
        "Just peek into the model:"
      ]
    },
    {
      "cell_type": "code",
      "metadata": {
        "id": "EHDZ0R-nbO6H",
        "colab_type": "code",
        "colab": {
          "base_uri": "https://localhost:8080/",
          "height": 222
        },
        "outputId": "6cc29f85-9162-4a8d-afb9-90dd23b13f9f"
      },
      "source": [
        "import json\n",
        "import random\n",
        "\n",
        "with open(bert_config_path) as f:\n",
        "    config = json.load(f)\n",
        "\n",
        "# Print configuration contents\n",
        "pprint(config)"
      ],
      "execution_count": 26,
      "outputs": [
        {
          "output_type": "stream",
          "text": [
            "{'attention_probs_dropout_prob': 0.1,\n",
            " 'hidden_act': 'gelu',\n",
            " 'hidden_dropout_prob': 0.1,\n",
            " 'hidden_size': 768,\n",
            " 'initializer_range': 0.02,\n",
            " 'intermediate_size': 3072,\n",
            " 'max_position_embeddings': 512,\n",
            " 'num_attention_heads': 12,\n",
            " 'num_hidden_layers': 12,\n",
            " 'type_vocab_size': 2,\n",
            " 'vocab_size': 50105}\n"
          ],
          "name": "stdout"
        }
      ]
    },
    {
      "cell_type": "markdown",
      "metadata": {
        "id": "y5KmJ0OecMDp",
        "colab_type": "text"
      },
      "source": [
        "## Create BERT tokenizer"
      ]
    },
    {
      "cell_type": "markdown",
      "metadata": {
        "id": "jYckpNLBcXMJ",
        "colab_type": "text"
      },
      "source": [
        "To create the tokenizer, we'll need a mapping from vocabulary items to their corresponding integer indices. We do this conventionally using enumerate."
      ]
    },
    {
      "cell_type": "code",
      "metadata": {
        "id": "oBV0vAhwcLqr",
        "colab_type": "code",
        "colab": {}
      },
      "source": [
        "# Create mapping from vocabulary items to their indices in the vocabulary\n",
        "token_dict = { v: i for i, v in enumerate(vocab) }\n",
        "\n",
        "# Print some random examples of the mapping\n",
        "#pprint(dict(random.choices(list(token_dict.items()), k=10)))"
      ],
      "execution_count": 0,
      "outputs": []
    },
    {
      "cell_type": "code",
      "metadata": {
        "id": "7Ga-T7zTcU08",
        "colab_type": "code",
        "outputId": "07e277d4-0064-4c6b-df95-da090fdeda16",
        "colab": {
          "base_uri": "https://localhost:8080/",
          "height": 464
        }
      },
      "source": [
        "# Test keras-Bert tokenizer\n",
        "from keras_bert import Tokenizer\n",
        "\n",
        "tokenizer = Tokenizer(token_dict, cased=model_is_cased) \n",
        "\n",
        "# Let's test that out\n",
        "for s in ['Heippa BERT!', 'Tämä lause on suomeksi. tai ei', 'Kiinaa tai japania: 你', 'Yksi kirjain a on yksi']:\n",
        "    print('Original string:', s)\n",
        "    print('Tokenized:', tokenizer.tokenize(s))\n",
        "    indices, segments = tokenizer.encode(s, max_len=20)    # max_len for padding and truncation\n",
        "    print('Encoded:', indices)\n",
        "    print('Segments:', segments)\n",
        "    print('Decoded:', ' '.join(tokenizer.decode(indices)))\n",
        "    print()"
      ],
      "execution_count": 28,
      "outputs": [
        {
          "output_type": "stream",
          "text": [
            "Original string: Heippa BERT!\n",
            "Tokenized: ['[CLS]', 'Hei', '##ppa', 'B', '##ER', '##T', '!', '[SEP]']\n",
            "Encoded: [102, 5050, 2096, 415, 9981, 50031, 380, 103, 0, 0, 0, 0, 0, 0, 0, 0, 0, 0, 0, 0]\n",
            "Segments: [0, 0, 0, 0, 0, 0, 0, 0, 0, 0, 0, 0, 0, 0, 0, 0, 0, 0, 0, 0]\n",
            "Decoded: Hei ##ppa B ##ER ##T !\n",
            "\n",
            "Original string: Tämä lause on suomeksi. tai ei\n",
            "Tokenized: ['[CLS]', 'Tämä', 'lause', 'on', 'suomeksi', '.', 'tai', 'ei', '[SEP]']\n",
            "Encoded: [102, 1131, 17580, 145, 11695, 111, 337, 193, 103, 0, 0, 0, 0, 0, 0, 0, 0, 0, 0, 0]\n",
            "Segments: [0, 0, 0, 0, 0, 0, 0, 0, 0, 0, 0, 0, 0, 0, 0, 0, 0, 0, 0, 0]\n",
            "Decoded: Tämä lause on suomeksi . tai ei\n",
            "\n",
            "Original string: Kiinaa tai japania: 你\n",
            "Tokenized: ['[CLS]', 'Kiinaa', 'tai', 'japan', '##ia', ':', '你', '[SEP]']\n",
            "Encoded: [102, 39876, 337, 9780, 157, 236, 101, 103, 0, 0, 0, 0, 0, 0, 0, 0, 0, 0, 0, 0]\n",
            "Segments: [0, 0, 0, 0, 0, 0, 0, 0, 0, 0, 0, 0, 0, 0, 0, 0, 0, 0, 0, 0]\n",
            "Decoded: Kiinaa tai japan ##ia : [UNK]\n",
            "\n",
            "Original string: Yksi kirjain a on yksi\n",
            "Tokenized: ['[CLS]', 'Yksi', 'kirjain', 'a', 'on', 'yksi', '[SEP]']\n",
            "Encoded: [102, 3420, 28106, 151, 145, 1034, 103, 0, 0, 0, 0, 0, 0, 0, 0, 0, 0, 0, 0, 0]\n",
            "Segments: [0, 0, 0, 0, 0, 0, 0, 0, 0, 0, 0, 0, 0, 0, 0, 0, 0, 0, 0, 0]\n",
            "Decoded: Yksi kirjain a on yksi\n",
            "\n"
          ],
          "name": "stdout"
        }
      ]
    },
    {
      "cell_type": "markdown",
      "metadata": {
        "id": "bHFPCAVJd9gD",
        "colab_type": "text"
      },
      "source": [
        "## Prepare labels\n",
        "\n",
        "Y holds the labels the model will learn to predict. We will train with the labels the truncated training data contains."
      ]
    },
    {
      "cell_type": "code",
      "metadata": {
        "id": "7ioyLbFPKqkS",
        "colab_type": "code",
        "outputId": "d73b494f-93d2-4804-a9ff-9c4fdb600c52",
        "colab": {
          "base_uri": "https://localhost:8080/",
          "height": 464
        }
      },
      "source": [
        "from sklearn.preprocessing import LabelEncoder\n",
        "\n",
        "# training data\n",
        "\n",
        "label_encoder = LabelEncoder()    # Turns class labels into integers\n",
        "train_label = train_['label'].tolist() \n",
        "\n",
        "#label_encoder.fit(all_labels)\n",
        "label_encoder.fit(train_label)\n",
        "Y = label_encoder.transform(train_label) # encoded labels (not one hot!)\n",
        "\n",
        "# Take note of how many unique labels there are in the data\n",
        "num_labels = len(set(Y))\n",
        "\n",
        "# Print out some examples\n",
        "print(\"Training data\")\n",
        "print('Number of unique labels in training data:', num_labels)\n",
        "print(type(train_label), train_label[:10])\n",
        "print(type(Y), Y[:10])\n",
        "print()\n",
        "\n",
        "# development data\n",
        "print(\"Development data\")\n",
        "dev_label = dev_['label']#.tolist()\n",
        "y = label_encoder.transform(dev_label)\n",
        "print('Number of unique labels in training data:', len(set(y)))\n",
        "print(type(dev_label), dev_label[:10])\n",
        "print(type(y), y[:10])\n",
        "print()\n",
        "# test data\n",
        "print(\"Test data\")\n",
        "test_label = test_['label'].tolist()\n",
        "true_labels = label_encoder.transform(test_label)\n",
        "print('Number of unique labels in training data:', len(set(true_labels)))\n",
        "print(type(test_label), test_label[:10])\n",
        "print(type(true_labels), true_labels[:10])\n",
        "# print(len(test_label))\n",
        "# print(len(test_['text']))"
      ],
      "execution_count": 29,
      "outputs": [
        {
          "output_type": "stream",
          "text": [
            "Training data\n",
            "Number of unique labels in training data: 64\n",
            "<class 'list'> ['DS IG ', 'RS OP ', 'NE NA ', 'SR NA ', 'MT OS ', 'NA  ', 'DP IN ', 'DS IG ', 'DF ID ', 'DT IN ']\n",
            "<class 'numpy.ndarray'> [11 58 37 61 32 36  8 11  6 12]\n",
            "\n",
            "Development data\n",
            "Number of unique labels in training data: 48\n",
            "<class 'pandas.core.series.Series'> 0     OA NA \n",
            "1     DS IG \n",
            "2     DS IG \n",
            "3     DF ID \n",
            "4     OA NA \n",
            "6     DF ID \n",
            "7     MT OS \n",
            "8     CB NA \n",
            "9       HI  \n",
            "10      NA  \n",
            "Name: label, dtype: object\n",
            "<class 'numpy.ndarray'> [42 11 11  6 42  6 32  1 22 36]\n",
            "\n",
            "Test data\n",
            "Number of unique labels in training data: 47\n",
            "<class 'list'> ['HI  ', 'NA  ', 'DT IN ', 'DP IN ', 'DT IN ', 'AV OP ', 'CB NA ', 'IN  ', 'NE NA ', 'TB NA ']\n",
            "<class 'numpy.ndarray'> [22 36 12  8 12  0  1 27 37 63]\n"
          ],
          "name": "stdout"
        }
      ]
    },
    {
      "cell_type": "markdown",
      "metadata": {
        "id": "gt7z05ec1Hfr",
        "colab_type": "text"
      },
      "source": [
        "## Tokenize input data\n",
        "Keep token indices and segment ids in separate lists and store as numpy arrays. X here is the final vectorized form of the input we'll be providing to the model for training."
      ]
    },
    {
      "cell_type": "code",
      "metadata": {
        "id": "dYRRn2deAt7L",
        "colab_type": "code",
        "colab": {}
      },
      "source": [
        "def make_model_inputs(text):\n",
        "  token_indices, segment_ids = [], []\n",
        "  for text in text:\n",
        "      # tokenizer.encode() returns a sequence of token indices\n",
        "      # and a sequence of segment IDs. BERT expects both as input,\n",
        "      # even if the segments IDs are just all zeros (like here).\n",
        "      tid, sid = tokenizer.encode(text, max_len=INPUT_LENGTH)\n",
        "      token_indices.append(tid)\n",
        "      segment_ids.append(sid)\n",
        "  inp = [np.array(token_indices), np.array(segment_ids)] # Format input as list of two numpy arrays\n",
        "  return inp"
      ],
      "execution_count": 0,
      "outputs": []
    },
    {
      "cell_type": "code",
      "metadata": {
        "id": "JxBP2UFcBLFL",
        "colab_type": "code",
        "colab": {}
      },
      "source": [
        "X = make_model_inputs(train_['text'])\n",
        "x = make_model_inputs(dev_['text'])\n",
        "test_inp = make_model_inputs(test_['text'])\n"
      ],
      "execution_count": 0,
      "outputs": []
    },
    {
      "cell_type": "code",
      "metadata": {
        "id": "y4WUr_OfBU1C",
        "colab_type": "code",
        "outputId": "31088916-d9df-4261-f15a-1d5266a344a0",
        "colab": {
          "base_uri": "https://localhost:8080/",
          "height": 1000
        }
      },
      "source": [
        "# Print some examples\n",
        "print(X[0].shape)\n",
        "print('Token indices:')\n",
        "print(test_inp[0][:2])\n",
        "print('Decoded:')\n",
        "for i in test_inp[0][:2]:\n",
        "    print(tokenizer.decode(list(i)))\n",
        "print('Segment ids:')\n",
        "print(test_inp[1][:2])"
      ],
      "execution_count": 32,
      "outputs": [
        {
          "output_type": "stream",
          "text": [
            "(1500, 250)\n",
            "Token indices:\n",
            "[[  102 41061  8448  6641 49802   111   609 36238  6575   142 30132  6684\n",
            "   4535 50051   166 30086 46629   171  8171  2181 35150   489  1620 15336\n",
            "  20129   364 10915  5034 12221  1236   111   609 15336 22463  8413  1904\n",
            "  22718   303  4767   422   119   206 24477   182 37947  6355 33845  1661\n",
            "    142   499   337  3381   422   943  8884  4535 50051   166 30896 32409\n",
            "  50009   111 10280   224  1611  2799 17213  6706  2264  8022   236  2065\n",
            "    111 18808  1642 35804 30114  9106   111 15671   145  7772  1091   236\n",
            "    998 46271   411   597  9258 10006 13111 12949  6360   166 42864 50009\n",
            "   5971  1827   193   257 14463 26420 34478 35403  2443   380  5971  1694\n",
            "    339  4960 17345   255 14281  2494  1642  4535 50051   166 30086   111\n",
            "  29174  1337  5253   145  3518 16883   170 20818   353 14798   111  5971\n",
            "   1232  8836   988 14589 34478   255  4896  2951  5962   111   609 34478\n",
            "    255  7656   193  5976 21841  8679   802  1038   145   652   138  3336\n",
            "   4884   776   303  4211   422 23868   176 23281   144  2177  4401 50069\n",
            "   2065 10254 50057  2960 42630   919 34478   145  3291   142 31383 15900\n",
            "    499 21399 34478 47485   303 34478   146   727   864   270 29940 21973\n",
            "   5187  2648   111  8605   358  8545  4100   126 28066  2055  3505 19048\n",
            "  20518 15869 34356   734 13368 22660 24249   170   111  3837  1322  5552\n",
            "  13368  8545  3524  4622 11619  1061   337 11841  1061 22277 15856   111\n",
            "  16572   936  4622 13953   145  5938   563  1002  1958   166   142 12171\n",
            "   2489 16620  8952   111 12905  4622 13953   145 29245   103]\n",
            " [  102   261 16634   236 15293 34209  3414   136  1742  6091   111   111\n",
            "    111 20675  1024 50016   119 25543  2342   380 29548 50011 15251 16666\n",
            "  12838   913   380  9181   119 19801 50011  6114   235  1354 31814  2167\n",
            "    427   559 38060   380 16026 50011   672  1385   590  8275   946 33124\n",
            "   2045 38636 17708   539   305  3323 25896  1442 22502 50006   142   672\n",
            "   2644   305 18308 50006   437   164 34276  9368  6054  1345  1527 26619\n",
            "   8247   105 38619   464   142 19278   333 22258   473 17671   119  5236\n",
            "    519 25134  1015 50006   142  8703 27427  8885 17856   142 27642   199\n",
            "    280   563  2010  5822 26129   519 15100   265 46444   725 29769   111\n",
            "    111   111  2297 15567   478  7657   106 30428   133 24915 50008   111\n",
            "    111   111  8159  9436 18317 18534   468   913 10981   368   142 34713\n",
            "  43256  5786   658  2073  8429   119   304   491  4658   250  7942  5323\n",
            "    119  1224   572  7065  2392   164   380 14973 50010   119  8784 16666\n",
            "  37516 20038  4361 37344   380  3586  6642   913  1671   672  1385   590\n",
            "   1676   774  3158 25353   403   119   606  2394  1107 15133  4655   845\n",
            "   1019  3430  3811   184  1251  1832  1429 19864   785   119  1224 18727\n",
            "  15601 12823   127  6670   142  9415 10101   572  7455 10997   113  6567\n",
            "   1736  1529   380  7407  7295  1346  1697  1236  5887 50007   341   567\n",
            "   3588 50012   639   111   111   111   142  4638 12318 50007  1706 34775\n",
            "  41574   207   427   119 29194  4829 29586  2073  8429   572  4019   142\n",
            "  19017   280   572 17893  1437 36443   142  2857  3870   103]]\n",
            "Decoded:\n",
            "['Tehkää', 'nolla', '##lei', '##maus', '.', 'Jos', 'rekisteröinti', 'onnistui', 'ja', 'käyttämä', '##nne', 'Q', '##R', '-', 'koodi', '##luki', '##ja', '##ohjelma', 'toimii', 'toivot', '##ulla', 'tavalla', 'saatte', 'kuitta', '##uksen', 'onnistun', '##eesta', 'leima', '##uksesta', '.', 'Jos', 'saatte', 'valituksen', 'puuttu', '##vasta', 'joukkueesta', 'niin', 'varmista', '##kaa', ',', 'että', 'teit', '##te', 'edellämain', '##itun', 'rekisteröin', '##nin', 'ja', '/', 'tai', 'kokeil', '##kaa', 'eri', 'ohjelmaa', 'Q', '##R', '-', 'koodin', 'tulkintaa', '##n', '.', 'Siir', '##ty', '##kää', 'lähtö', '##alueelle', 'viimeistään', 'klo', '09', ':', '50', '.', 'Alue', 'löytyy', 'hissi', '##linjan', 'edestä', '.', 'Lähtö', 'on', 'tasan', '10', ':', '00', 'Lähd', '##ön', 'jälkeen', 'julkaistaan', 'tapahtuman', 'sivulla', 'linkki', 'online', '-', 'seurantaa', '##n', 'Ras', '##teja', 'ei', 'ole', 'merkitty', 'maastoon', 'rasti', '##lip', '##uilla', '!', 'Ras', '##tit', 'ovat', 'pieniä', 'paperi', '##la', '##ppuja', 'joista', 'löytyy', 'Q', '##R', '-', 'koodi', '.', 'Joillakin', 'ras', '##teilla', 'on', 'puna', '##valko', '##ista', 'merkintä', '##na', '##uhaa', '.', 'Ras', '##tis', '##elit', '##teet', 'auttavat', 'rasti', '##la', '##pun', 'löytä', '##misessä', '.', 'Jos', 'rasti', '##la', '##ppua', 'ei', 'löydy', 'oikeasta', 'paikasta', 'eli', 'joku', 'on', 'lap', '##un', 'käynyt', 'poista', '##massa', 'niin', 'ilmoitta', '##kaa', 'tekstiviesti', '##llä', 'nro', '##on', '+', '35', '##8', '50', '58', '##3', '60', '##44', 'mikä', 'rasti', 'on', 'kyseessä', 'ja', 'ottakaa', 'valokuva', '/', 'valokuvia', 'rasti', '##alueesta', 'niin', 'rasti', '##lla', 'käy', '##misen', '##ne', 'tarkistetaan', 'maalissa', 'valoku', '##vista', '.', 'Myöh', '##äs', '##tyminen', 'sarjan', '##sa', 'takara', '##jasta', 'aiheuttaa', 'miinus', '##pisteen', 'jokaisesta', 'alkava', '##sta', 'myöhäs', '##tymis', '##minuut', '##ista', '.', 'Yli', '15', 'minuutin', 'myöhäs', '##tyminen', 'johtaa', 'joukkueen', 'hylkää', '##miseen', 'tai', 'siirtä', '##miseen', 'pitempään', 'sarjaan', '.', 'Kilpailun', 'aikana', 'joukkueen', 'jäsenten', 'on', 'oltava', 'koko', 'ajan', 'näkö', '-', 'ja', 'kuulo', '##etä', '##isyydellä', 'toisistaan', '.', 'Kaikkien', 'joukkueen', 'jäsenten', 'on', 'käytävä']\n",
            "['1', 'kommenttia', ':', 'Syys', '##lomalle', '##läh', '##ti', '##jät', 'kirjoitti', '.', '.', '.', 'Ly', '##sti', '##ä', ',', 'lys', '##tiä', '!', 'Onpa', '##s', 'kivoja', 'lumi', '##kuvia', 'taas', '!', 'Juu', ',', 'enpä', '##s', 'taida', '##kaan', 'ottaa', 'filla', '##ria', 'mukaan', 'vaan', 'sukset', '!', 'Joko', '##s', 'ensi', '##lu', '##men', '##lad', '##ulle', 'pääsis', 'kohta', '##puolin', 'hiihtä', '##mään', '?', 'Siis', 'tulevana', 'viikon', '##vaihteen', '##a', 'ja', 'ensi', 'viikolla', '?', 'Kip', '##a', '##isin', 'jo', 'ulla', '##kolla', 'kerää', '##mässä', 'por', '##ukalle', 'talvi', '##ta', '##mine', '##ita', 'ja', 'laukku', '##jen', 'pakkaa', '##minen', 'aloitettu', ',', 'huomenna', 'vielä', 'vanhempain', '##ilta', '##a', 'ja', 'öljyn', '##vaihtoa', 'meno', '##peliin', 'ja', 'tänäänkin', 'se', 'oli', 'koko', 'päivän', 'korjaa', '##molla', 'vielä', 'jous', '##ien', 'laaker', '##eiden', 'vaihdossa', '.', '.', '.', 'piti', 'säätää', 'vain', 'pyöri', '##en', 'aura', '##us', '##kulma', '##t', '.', '.', '.', 'Tie', '##hallinnon', 'keli', '##kamer', '##oita', 'taas', 'sela', '##sin', 'ja', 'Salla', '##tuntu', '##rilla', 'hyvin', 'pyr', '##yttänyt', ',', 'mutta', 'nyt', 'vien', '##ee', 'Pyhä', 'voiton', ',', 'siellä', 'ihan', 'kin', '##oksia', 'jo', '!', 'Je', '##e', ',', 'päästään', 'lumi', '##ukkojen', 'tekoon', 'omalla', 'tontilla', '!', 'Aika', 'kivaa', 'taas', 'päästä', 'ensi', '##lu', '##men', 'kokem', '##iseen', 'syys', '##lomalla', '##mme', ',', 'vaikka', 'ollaan', 'me', 'Saari', '##sel', '##ällä', 'siv', '##ak', '##oitu', '##kin', 'tällä', 'sama', '##isella', 'lomalla', 'ennen', ',', 'siellä', 'laitettiin', 'pikaisesti', 'lad', '##ut', 'kuntoon', 'ja', 'porukkaa', 'riitti', 'ihan', 'kilpa', '##hiih', '##tä', '##jiin', 'asti', 'heti', '!', 'Tieto', 'lat', '##ujen', 'ava', '##uksesta', 'kiir', '##i', 'kuin', 'kul', '##ova', '##l', '##kea', '.', '.', '.', 'ja', 'saatiin', 'sillo', '##i', 'tosi', 'upeat', 'jouluku', '##vat', 'mukaan', ',', 'Kaunis', '##pään', 'huipulla', 'pyr', '##yttänyt', 'ihan', 'kunnolla', 'ja', 'mökki', 'oli', 'ihan', 'lumen', '##pe', '##itossa', 'ja', 'lapset', 'ton']\n",
            "Segment ids:\n",
            "[[0 0 0 0 0 0 0 0 0 0 0 0 0 0 0 0 0 0 0 0 0 0 0 0 0 0 0 0 0 0 0 0 0 0 0 0\n",
            "  0 0 0 0 0 0 0 0 0 0 0 0 0 0 0 0 0 0 0 0 0 0 0 0 0 0 0 0 0 0 0 0 0 0 0 0\n",
            "  0 0 0 0 0 0 0 0 0 0 0 0 0 0 0 0 0 0 0 0 0 0 0 0 0 0 0 0 0 0 0 0 0 0 0 0\n",
            "  0 0 0 0 0 0 0 0 0 0 0 0 0 0 0 0 0 0 0 0 0 0 0 0 0 0 0 0 0 0 0 0 0 0 0 0\n",
            "  0 0 0 0 0 0 0 0 0 0 0 0 0 0 0 0 0 0 0 0 0 0 0 0 0 0 0 0 0 0 0 0 0 0 0 0\n",
            "  0 0 0 0 0 0 0 0 0 0 0 0 0 0 0 0 0 0 0 0 0 0 0 0 0 0 0 0 0 0 0 0 0 0 0 0\n",
            "  0 0 0 0 0 0 0 0 0 0 0 0 0 0 0 0 0 0 0 0 0 0 0 0 0 0 0 0 0 0 0 0 0 0]\n",
            " [0 0 0 0 0 0 0 0 0 0 0 0 0 0 0 0 0 0 0 0 0 0 0 0 0 0 0 0 0 0 0 0 0 0 0 0\n",
            "  0 0 0 0 0 0 0 0 0 0 0 0 0 0 0 0 0 0 0 0 0 0 0 0 0 0 0 0 0 0 0 0 0 0 0 0\n",
            "  0 0 0 0 0 0 0 0 0 0 0 0 0 0 0 0 0 0 0 0 0 0 0 0 0 0 0 0 0 0 0 0 0 0 0 0\n",
            "  0 0 0 0 0 0 0 0 0 0 0 0 0 0 0 0 0 0 0 0 0 0 0 0 0 0 0 0 0 0 0 0 0 0 0 0\n",
            "  0 0 0 0 0 0 0 0 0 0 0 0 0 0 0 0 0 0 0 0 0 0 0 0 0 0 0 0 0 0 0 0 0 0 0 0\n",
            "  0 0 0 0 0 0 0 0 0 0 0 0 0 0 0 0 0 0 0 0 0 0 0 0 0 0 0 0 0 0 0 0 0 0 0 0\n",
            "  0 0 0 0 0 0 0 0 0 0 0 0 0 0 0 0 0 0 0 0 0 0 0 0 0 0 0 0 0 0 0 0 0 0]]\n"
          ],
          "name": "stdout"
        }
      ]
    },
    {
      "cell_type": "markdown",
      "metadata": {
        "id": "7O7-xnrg3nyT",
        "colab_type": "text"
      },
      "source": [
        "## Load pretrained BERT model form checkpoint"
      ]
    },
    {
      "cell_type": "markdown",
      "metadata": {
        "id": "3QBf-vQiWdcY",
        "colab_type": "text"
      },
      "source": [
        "\n",
        "Load pretrained BERT model\n",
        "\n",
        "We'll use the keras-bert function load_trained_model_from_checkpoint to load the model from the checkpoint we downloaded earlier.\n",
        "\n",
        "Explanation for a few parameters from keras-bert documentation:\n",
        "\n",
        "- training: If training, the whole model will be returned. Otherwise, the MLM [masked language modeling] and NSP [next sentence prediction] parts will be ignored.\n",
        "- trainable: Whether the model is trainable. The default value is the same with training.\n",
        "\n",
        "We don't need the masked language modeling or next sentence prediction parts (these are primarily for pretraining), so we'll use training=False but trainable=True.\n"
      ]
    },
    {
      "cell_type": "code",
      "metadata": {
        "id": "7ReplOvS3nAQ",
        "colab_type": "code",
        "outputId": "a1d501c8-c23b-47c1-98e9-8b2e2e6833a4",
        "colab": {
          "base_uri": "https://localhost:8080/",
          "height": 1000
        }
      },
      "source": [
        "from keras_bert import load_trained_model_from_checkpoint\n",
        "\n",
        "pretrained_model = load_trained_model_from_checkpoint(\n",
        "    config_file = bert_config_path,\n",
        "    checkpoint_file = bert_checkpoint_path,\n",
        "    training = False, # ignore MLM [masked language modeling] and NSP [next sentence prediction] parts of the model\n",
        "    trainable = True,\n",
        "    seq_len = INPUT_LENGTH # define the size of input layer\n",
        ")"
      ],
      "execution_count": 33,
      "outputs": [
        {
          "output_type": "stream",
          "text": [
            "WARNING:tensorflow:From /tensorflow-1.15.2/python3.6/tensorflow_core/python/keras/initializers.py:119: calling RandomUniform.__init__ (from tensorflow.python.ops.init_ops) with dtype is deprecated and will be removed in a future version.\n",
            "Instructions for updating:\n",
            "Call initializer instance with the dtype argument instead of passing it to the constructor\n",
            "WARNING:tensorflow:From /tensorflow-1.15.2/python3.6/tensorflow_core/python/ops/resource_variable_ops.py:1630: calling BaseResourceVariable.__init__ (from tensorflow.python.ops.resource_variable_ops) with constraint is deprecated and will be removed in a future version.\n",
            "Instructions for updating:\n",
            "If using Keras pass *_constraint arguments to layers.\n",
            "WARNING:tensorflow:Entity <bound method TokenEmbedding.call of <keras_bert.layers.embedding.TokenEmbedding object at 0x7f7490ed6a20>> could not be transformed and will be executed as-is. Please report this to the AutoGraph team. When filing the bug, set the verbosity to 10 (on Linux, `export AUTOGRAPH_VERBOSITY=10`) and attach the full output. Cause: Bad argument number for Name: 3, expecting 4\n",
            "WARNING: Entity <bound method TokenEmbedding.call of <keras_bert.layers.embedding.TokenEmbedding object at 0x7f7490ed6a20>> could not be transformed and will be executed as-is. Please report this to the AutoGraph team. When filing the bug, set the verbosity to 10 (on Linux, `export AUTOGRAPH_VERBOSITY=10`) and attach the full output. Cause: Bad argument number for Name: 3, expecting 4\n",
            "WARNING:tensorflow:Entity <bound method PositionEmbedding.call of <keras_pos_embd.pos_embd.PositionEmbedding object at 0x7f749023e630>> could not be transformed and will be executed as-is. Please report this to the AutoGraph team. When filing the bug, set the verbosity to 10 (on Linux, `export AUTOGRAPH_VERBOSITY=10`) and attach the full output. Cause: module 'gast' has no attribute 'Num'\n",
            "WARNING: Entity <bound method PositionEmbedding.call of <keras_pos_embd.pos_embd.PositionEmbedding object at 0x7f749023e630>> could not be transformed and will be executed as-is. Please report this to the AutoGraph team. When filing the bug, set the verbosity to 10 (on Linux, `export AUTOGRAPH_VERBOSITY=10`) and attach the full output. Cause: module 'gast' has no attribute 'Num'\n",
            "WARNING:tensorflow:Entity <bound method LayerNormalization.call of <keras_layer_normalization.layer_normalization.LayerNormalization object at 0x7f74888cbdd8>> could not be transformed and will be executed as-is. Please report this to the AutoGraph team. When filing the bug, set the verbosity to 10 (on Linux, `export AUTOGRAPH_VERBOSITY=10`) and attach the full output. Cause: Bad argument number for Name: 3, expecting 4\n",
            "WARNING: Entity <bound method LayerNormalization.call of <keras_layer_normalization.layer_normalization.LayerNormalization object at 0x7f74888cbdd8>> could not be transformed and will be executed as-is. Please report this to the AutoGraph team. When filing the bug, set the verbosity to 10 (on Linux, `export AUTOGRAPH_VERBOSITY=10`) and attach the full output. Cause: Bad argument number for Name: 3, expecting 4\n",
            "WARNING:tensorflow:Entity <bound method MultiHeadAttention.call of <keras_multi_head.multi_head_attention.MultiHeadAttention object at 0x7f74888cb3c8>> could not be transformed and will be executed as-is. Please report this to the AutoGraph team. When filing the bug, set the verbosity to 10 (on Linux, `export AUTOGRAPH_VERBOSITY=10`) and attach the full output. Cause: module 'gast' has no attribute 'Num'\n",
            "WARNING: Entity <bound method MultiHeadAttention.call of <keras_multi_head.multi_head_attention.MultiHeadAttention object at 0x7f74888cb3c8>> could not be transformed and will be executed as-is. Please report this to the AutoGraph team. When filing the bug, set the verbosity to 10 (on Linux, `export AUTOGRAPH_VERBOSITY=10`) and attach the full output. Cause: module 'gast' has no attribute 'Num'\n",
            "WARNING:tensorflow:Entity <bound method ScaledDotProductAttention.call of <keras_self_attention.scaled_dot_attention.ScaledDotProductAttention object at 0x7f7489b61f28>> could not be transformed and will be executed as-is. Please report this to the AutoGraph team. When filing the bug, set the verbosity to 10 (on Linux, `export AUTOGRAPH_VERBOSITY=10`) and attach the full output. Cause: module 'gast' has no attribute 'Num'\n",
            "WARNING: Entity <bound method ScaledDotProductAttention.call of <keras_self_attention.scaled_dot_attention.ScaledDotProductAttention object at 0x7f7489b61f28>> could not be transformed and will be executed as-is. Please report this to the AutoGraph team. When filing the bug, set the verbosity to 10 (on Linux, `export AUTOGRAPH_VERBOSITY=10`) and attach the full output. Cause: module 'gast' has no attribute 'Num'\n",
            "WARNING:tensorflow:Entity <bound method LayerNormalization.call of <keras_layer_normalization.layer_normalization.LayerNormalization object at 0x7f7488937fd0>> could not be transformed and will be executed as-is. Please report this to the AutoGraph team. When filing the bug, set the verbosity to 10 (on Linux, `export AUTOGRAPH_VERBOSITY=10`) and attach the full output. Cause: Bad argument number for Name: 3, expecting 4\n",
            "WARNING: Entity <bound method LayerNormalization.call of <keras_layer_normalization.layer_normalization.LayerNormalization object at 0x7f7488937fd0>> could not be transformed and will be executed as-is. Please report this to the AutoGraph team. When filing the bug, set the verbosity to 10 (on Linux, `export AUTOGRAPH_VERBOSITY=10`) and attach the full output. Cause: Bad argument number for Name: 3, expecting 4\n",
            "WARNING:tensorflow:Entity <bound method FeedForward.call of <keras_position_wise_feed_forward.feed_forward.FeedForward object at 0x7f7488940cf8>> could not be transformed and will be executed as-is. Please report this to the AutoGraph team. When filing the bug, set the verbosity to 10 (on Linux, `export AUTOGRAPH_VERBOSITY=10`) and attach the full output. Cause: Bad argument number for Name: 3, expecting 4\n",
            "WARNING: Entity <bound method FeedForward.call of <keras_position_wise_feed_forward.feed_forward.FeedForward object at 0x7f7488940cf8>> could not be transformed and will be executed as-is. Please report this to the AutoGraph team. When filing the bug, set the verbosity to 10 (on Linux, `export AUTOGRAPH_VERBOSITY=10`) and attach the full output. Cause: Bad argument number for Name: 3, expecting 4\n",
            "WARNING:tensorflow:Entity <bound method LayerNormalization.call of <keras_layer_normalization.layer_normalization.LayerNormalization object at 0x7f74888f90b8>> could not be transformed and will be executed as-is. Please report this to the AutoGraph team. When filing the bug, set the verbosity to 10 (on Linux, `export AUTOGRAPH_VERBOSITY=10`) and attach the full output. Cause: Bad argument number for Name: 3, expecting 4\n",
            "WARNING: Entity <bound method LayerNormalization.call of <keras_layer_normalization.layer_normalization.LayerNormalization object at 0x7f74888f90b8>> could not be transformed and will be executed as-is. Please report this to the AutoGraph team. When filing the bug, set the verbosity to 10 (on Linux, `export AUTOGRAPH_VERBOSITY=10`) and attach the full output. Cause: Bad argument number for Name: 3, expecting 4\n",
            "WARNING:tensorflow:Entity <bound method MultiHeadAttention.call of <keras_multi_head.multi_head_attention.MultiHeadAttention object at 0x7f74888f96d8>> could not be transformed and will be executed as-is. Please report this to the AutoGraph team. When filing the bug, set the verbosity to 10 (on Linux, `export AUTOGRAPH_VERBOSITY=10`) and attach the full output. Cause: module 'gast' has no attribute 'Num'\n",
            "WARNING: Entity <bound method MultiHeadAttention.call of <keras_multi_head.multi_head_attention.MultiHeadAttention object at 0x7f74888f96d8>> could not be transformed and will be executed as-is. Please report this to the AutoGraph team. When filing the bug, set the verbosity to 10 (on Linux, `export AUTOGRAPH_VERBOSITY=10`) and attach the full output. Cause: module 'gast' has no attribute 'Num'\n",
            "WARNING:tensorflow:Entity <bound method ScaledDotProductAttention.call of <keras_self_attention.scaled_dot_attention.ScaledDotProductAttention object at 0x7f7488808cc0>> could not be transformed and will be executed as-is. Please report this to the AutoGraph team. When filing the bug, set the verbosity to 10 (on Linux, `export AUTOGRAPH_VERBOSITY=10`) and attach the full output. Cause: module 'gast' has no attribute 'Num'\n",
            "WARNING: Entity <bound method ScaledDotProductAttention.call of <keras_self_attention.scaled_dot_attention.ScaledDotProductAttention object at 0x7f7488808cc0>> could not be transformed and will be executed as-is. Please report this to the AutoGraph team. When filing the bug, set the verbosity to 10 (on Linux, `export AUTOGRAPH_VERBOSITY=10`) and attach the full output. Cause: module 'gast' has no attribute 'Num'\n",
            "WARNING:tensorflow:Entity <bound method LayerNormalization.call of <keras_layer_normalization.layer_normalization.LayerNormalization object at 0x7f74888042b0>> could not be transformed and will be executed as-is. Please report this to the AutoGraph team. When filing the bug, set the verbosity to 10 (on Linux, `export AUTOGRAPH_VERBOSITY=10`) and attach the full output. Cause: Bad argument number for Name: 3, expecting 4\n",
            "WARNING: Entity <bound method LayerNormalization.call of <keras_layer_normalization.layer_normalization.LayerNormalization object at 0x7f74888042b0>> could not be transformed and will be executed as-is. Please report this to the AutoGraph team. When filing the bug, set the verbosity to 10 (on Linux, `export AUTOGRAPH_VERBOSITY=10`) and attach the full output. Cause: Bad argument number for Name: 3, expecting 4\n",
            "WARNING:tensorflow:Entity <bound method FeedForward.call of <keras_position_wise_feed_forward.feed_forward.FeedForward object at 0x7f74887f1a58>> could not be transformed and will be executed as-is. Please report this to the AutoGraph team. When filing the bug, set the verbosity to 10 (on Linux, `export AUTOGRAPH_VERBOSITY=10`) and attach the full output. Cause: Bad argument number for Name: 3, expecting 4\n",
            "WARNING: Entity <bound method FeedForward.call of <keras_position_wise_feed_forward.feed_forward.FeedForward object at 0x7f74887f1a58>> could not be transformed and will be executed as-is. Please report this to the AutoGraph team. When filing the bug, set the verbosity to 10 (on Linux, `export AUTOGRAPH_VERBOSITY=10`) and attach the full output. Cause: Bad argument number for Name: 3, expecting 4\n",
            "WARNING:tensorflow:Entity <bound method LayerNormalization.call of <keras_layer_normalization.layer_normalization.LayerNormalization object at 0x7f7488863080>> could not be transformed and will be executed as-is. Please report this to the AutoGraph team. When filing the bug, set the verbosity to 10 (on Linux, `export AUTOGRAPH_VERBOSITY=10`) and attach the full output. Cause: Bad argument number for Name: 3, expecting 4\n",
            "WARNING: Entity <bound method LayerNormalization.call of <keras_layer_normalization.layer_normalization.LayerNormalization object at 0x7f7488863080>> could not be transformed and will be executed as-is. Please report this to the AutoGraph team. When filing the bug, set the verbosity to 10 (on Linux, `export AUTOGRAPH_VERBOSITY=10`) and attach the full output. Cause: Bad argument number for Name: 3, expecting 4\n",
            "WARNING:tensorflow:Entity <bound method MultiHeadAttention.call of <keras_multi_head.multi_head_attention.MultiHeadAttention object at 0x7f7488863048>> could not be transformed and will be executed as-is. Please report this to the AutoGraph team. When filing the bug, set the verbosity to 10 (on Linux, `export AUTOGRAPH_VERBOSITY=10`) and attach the full output. Cause: module 'gast' has no attribute 'Num'\n",
            "WARNING: Entity <bound method MultiHeadAttention.call of <keras_multi_head.multi_head_attention.MultiHeadAttention object at 0x7f7488863048>> could not be transformed and will be executed as-is. Please report this to the AutoGraph team. When filing the bug, set the verbosity to 10 (on Linux, `export AUTOGRAPH_VERBOSITY=10`) and attach the full output. Cause: module 'gast' has no attribute 'Num'\n",
            "WARNING:tensorflow:Entity <bound method ScaledDotProductAttention.call of <keras_self_attention.scaled_dot_attention.ScaledDotProductAttention object at 0x7f74886c4940>> could not be transformed and will be executed as-is. Please report this to the AutoGraph team. When filing the bug, set the verbosity to 10 (on Linux, `export AUTOGRAPH_VERBOSITY=10`) and attach the full output. Cause: module 'gast' has no attribute 'Num'\n",
            "WARNING: Entity <bound method ScaledDotProductAttention.call of <keras_self_attention.scaled_dot_attention.ScaledDotProductAttention object at 0x7f74886c4940>> could not be transformed and will be executed as-is. Please report this to the AutoGraph team. When filing the bug, set the verbosity to 10 (on Linux, `export AUTOGRAPH_VERBOSITY=10`) and attach the full output. Cause: module 'gast' has no attribute 'Num'\n",
            "WARNING:tensorflow:Entity <bound method LayerNormalization.call of <keras_layer_normalization.layer_normalization.LayerNormalization object at 0x7f7488730518>> could not be transformed and will be executed as-is. Please report this to the AutoGraph team. When filing the bug, set the verbosity to 10 (on Linux, `export AUTOGRAPH_VERBOSITY=10`) and attach the full output. Cause: Bad argument number for Name: 3, expecting 4\n",
            "WARNING: Entity <bound method LayerNormalization.call of <keras_layer_normalization.layer_normalization.LayerNormalization object at 0x7f7488730518>> could not be transformed and will be executed as-is. Please report this to the AutoGraph team. When filing the bug, set the verbosity to 10 (on Linux, `export AUTOGRAPH_VERBOSITY=10`) and attach the full output. Cause: Bad argument number for Name: 3, expecting 4\n",
            "WARNING:tensorflow:Entity <bound method FeedForward.call of <keras_position_wise_feed_forward.feed_forward.FeedForward object at 0x7f7488690940>> could not be transformed and will be executed as-is. Please report this to the AutoGraph team. When filing the bug, set the verbosity to 10 (on Linux, `export AUTOGRAPH_VERBOSITY=10`) and attach the full output. Cause: Bad argument number for Name: 3, expecting 4\n",
            "WARNING: Entity <bound method FeedForward.call of <keras_position_wise_feed_forward.feed_forward.FeedForward object at 0x7f7488690940>> could not be transformed and will be executed as-is. Please report this to the AutoGraph team. When filing the bug, set the verbosity to 10 (on Linux, `export AUTOGRAPH_VERBOSITY=10`) and attach the full output. Cause: Bad argument number for Name: 3, expecting 4\n",
            "WARNING:tensorflow:Entity <bound method LayerNormalization.call of <keras_layer_normalization.layer_normalization.LayerNormalization object at 0x7f7488708b70>> could not be transformed and will be executed as-is. Please report this to the AutoGraph team. When filing the bug, set the verbosity to 10 (on Linux, `export AUTOGRAPH_VERBOSITY=10`) and attach the full output. Cause: Bad argument number for Name: 3, expecting 4\n",
            "WARNING: Entity <bound method LayerNormalization.call of <keras_layer_normalization.layer_normalization.LayerNormalization object at 0x7f7488708b70>> could not be transformed and will be executed as-is. Please report this to the AutoGraph team. When filing the bug, set the verbosity to 10 (on Linux, `export AUTOGRAPH_VERBOSITY=10`) and attach the full output. Cause: Bad argument number for Name: 3, expecting 4\n",
            "WARNING:tensorflow:Entity <bound method MultiHeadAttention.call of <keras_multi_head.multi_head_attention.MultiHeadAttention object at 0x7f7490023320>> could not be transformed and will be executed as-is. Please report this to the AutoGraph team. When filing the bug, set the verbosity to 10 (on Linux, `export AUTOGRAPH_VERBOSITY=10`) and attach the full output. Cause: module 'gast' has no attribute 'Num'\n",
            "WARNING: Entity <bound method MultiHeadAttention.call of <keras_multi_head.multi_head_attention.MultiHeadAttention object at 0x7f7490023320>> could not be transformed and will be executed as-is. Please report this to the AutoGraph team. When filing the bug, set the verbosity to 10 (on Linux, `export AUTOGRAPH_VERBOSITY=10`) and attach the full output. Cause: module 'gast' has no attribute 'Num'\n",
            "WARNING:tensorflow:Entity <bound method ScaledDotProductAttention.call of <keras_self_attention.scaled_dot_attention.ScaledDotProductAttention object at 0x7f74885e7e10>> could not be transformed and will be executed as-is. Please report this to the AutoGraph team. When filing the bug, set the verbosity to 10 (on Linux, `export AUTOGRAPH_VERBOSITY=10`) and attach the full output. Cause: module 'gast' has no attribute 'Num'\n",
            "WARNING: Entity <bound method ScaledDotProductAttention.call of <keras_self_attention.scaled_dot_attention.ScaledDotProductAttention object at 0x7f74885e7e10>> could not be transformed and will be executed as-is. Please report this to the AutoGraph team. When filing the bug, set the verbosity to 10 (on Linux, `export AUTOGRAPH_VERBOSITY=10`) and attach the full output. Cause: module 'gast' has no attribute 'Num'\n",
            "WARNING:tensorflow:Entity <bound method LayerNormalization.call of <keras_layer_normalization.layer_normalization.LayerNormalization object at 0x7f74886534a8>> could not be transformed and will be executed as-is. Please report this to the AutoGraph team. When filing the bug, set the verbosity to 10 (on Linux, `export AUTOGRAPH_VERBOSITY=10`) and attach the full output. Cause: Bad argument number for Name: 3, expecting 4\n",
            "WARNING: Entity <bound method LayerNormalization.call of <keras_layer_normalization.layer_normalization.LayerNormalization object at 0x7f74886534a8>> could not be transformed and will be executed as-is. Please report this to the AutoGraph team. When filing the bug, set the verbosity to 10 (on Linux, `export AUTOGRAPH_VERBOSITY=10`) and attach the full output. Cause: Bad argument number for Name: 3, expecting 4\n",
            "WARNING:tensorflow:Entity <bound method FeedForward.call of <keras_position_wise_feed_forward.feed_forward.FeedForward object at 0x7f748861bd68>> could not be transformed and will be executed as-is. Please report this to the AutoGraph team. When filing the bug, set the verbosity to 10 (on Linux, `export AUTOGRAPH_VERBOSITY=10`) and attach the full output. Cause: Bad argument number for Name: 3, expecting 4\n",
            "WARNING: Entity <bound method FeedForward.call of <keras_position_wise_feed_forward.feed_forward.FeedForward object at 0x7f748861bd68>> could not be transformed and will be executed as-is. Please report this to the AutoGraph team. When filing the bug, set the verbosity to 10 (on Linux, `export AUTOGRAPH_VERBOSITY=10`) and attach the full output. Cause: Bad argument number for Name: 3, expecting 4\n",
            "WARNING:tensorflow:Entity <bound method LayerNormalization.call of <keras_layer_normalization.layer_normalization.LayerNormalization object at 0x7f74884fc518>> could not be transformed and will be executed as-is. Please report this to the AutoGraph team. When filing the bug, set the verbosity to 10 (on Linux, `export AUTOGRAPH_VERBOSITY=10`) and attach the full output. Cause: Bad argument number for Name: 3, expecting 4\n",
            "WARNING: Entity <bound method LayerNormalization.call of <keras_layer_normalization.layer_normalization.LayerNormalization object at 0x7f74884fc518>> could not be transformed and will be executed as-is. Please report this to the AutoGraph team. When filing the bug, set the verbosity to 10 (on Linux, `export AUTOGRAPH_VERBOSITY=10`) and attach the full output. Cause: Bad argument number for Name: 3, expecting 4\n",
            "WARNING:tensorflow:Entity <bound method MultiHeadAttention.call of <keras_multi_head.multi_head_attention.MultiHeadAttention object at 0x7f74884fca20>> could not be transformed and will be executed as-is. Please report this to the AutoGraph team. When filing the bug, set the verbosity to 10 (on Linux, `export AUTOGRAPH_VERBOSITY=10`) and attach the full output. Cause: module 'gast' has no attribute 'Num'\n",
            "WARNING: Entity <bound method MultiHeadAttention.call of <keras_multi_head.multi_head_attention.MultiHeadAttention object at 0x7f74884fca20>> could not be transformed and will be executed as-is. Please report this to the AutoGraph team. When filing the bug, set the verbosity to 10 (on Linux, `export AUTOGRAPH_VERBOSITY=10`) and attach the full output. Cause: module 'gast' has no attribute 'Num'\n",
            "WARNING:tensorflow:Entity <bound method ScaledDotProductAttention.call of <keras_self_attention.scaled_dot_attention.ScaledDotProductAttention object at 0x7f74884a1c18>> could not be transformed and will be executed as-is. Please report this to the AutoGraph team. When filing the bug, set the verbosity to 10 (on Linux, `export AUTOGRAPH_VERBOSITY=10`) and attach the full output. Cause: module 'gast' has no attribute 'Num'\n",
            "WARNING: Entity <bound method ScaledDotProductAttention.call of <keras_self_attention.scaled_dot_attention.ScaledDotProductAttention object at 0x7f74884a1c18>> could not be transformed and will be executed as-is. Please report this to the AutoGraph team. When filing the bug, set the verbosity to 10 (on Linux, `export AUTOGRAPH_VERBOSITY=10`) and attach the full output. Cause: module 'gast' has no attribute 'Num'\n",
            "WARNING:tensorflow:Entity <bound method LayerNormalization.call of <keras_layer_normalization.layer_normalization.LayerNormalization object at 0x7f7488520940>> could not be transformed and will be executed as-is. Please report this to the AutoGraph team. When filing the bug, set the verbosity to 10 (on Linux, `export AUTOGRAPH_VERBOSITY=10`) and attach the full output. Cause: Bad argument number for Name: 3, expecting 4\n",
            "WARNING: Entity <bound method LayerNormalization.call of <keras_layer_normalization.layer_normalization.LayerNormalization object at 0x7f7488520940>> could not be transformed and will be executed as-is. Please report this to the AutoGraph team. When filing the bug, set the verbosity to 10 (on Linux, `export AUTOGRAPH_VERBOSITY=10`) and attach the full output. Cause: Bad argument number for Name: 3, expecting 4\n",
            "WARNING:tensorflow:Entity <bound method FeedForward.call of <keras_position_wise_feed_forward.feed_forward.FeedForward object at 0x7f74884d7828>> could not be transformed and will be executed as-is. Please report this to the AutoGraph team. When filing the bug, set the verbosity to 10 (on Linux, `export AUTOGRAPH_VERBOSITY=10`) and attach the full output. Cause: Bad argument number for Name: 3, expecting 4\n",
            "WARNING: Entity <bound method FeedForward.call of <keras_position_wise_feed_forward.feed_forward.FeedForward object at 0x7f74884d7828>> could not be transformed and will be executed as-is. Please report this to the AutoGraph team. When filing the bug, set the verbosity to 10 (on Linux, `export AUTOGRAPH_VERBOSITY=10`) and attach the full output. Cause: Bad argument number for Name: 3, expecting 4\n",
            "WARNING:tensorflow:Entity <bound method LayerNormalization.call of <keras_layer_normalization.layer_normalization.LayerNormalization object at 0x7f74884715c0>> could not be transformed and will be executed as-is. Please report this to the AutoGraph team. When filing the bug, set the verbosity to 10 (on Linux, `export AUTOGRAPH_VERBOSITY=10`) and attach the full output. Cause: Bad argument number for Name: 3, expecting 4\n",
            "WARNING: Entity <bound method LayerNormalization.call of <keras_layer_normalization.layer_normalization.LayerNormalization object at 0x7f74884715c0>> could not be transformed and will be executed as-is. Please report this to the AutoGraph team. When filing the bug, set the verbosity to 10 (on Linux, `export AUTOGRAPH_VERBOSITY=10`) and attach the full output. Cause: Bad argument number for Name: 3, expecting 4\n",
            "WARNING:tensorflow:Entity <bound method MultiHeadAttention.call of <keras_multi_head.multi_head_attention.MultiHeadAttention object at 0x7f7488470a20>> could not be transformed and will be executed as-is. Please report this to the AutoGraph team. When filing the bug, set the verbosity to 10 (on Linux, `export AUTOGRAPH_VERBOSITY=10`) and attach the full output. Cause: module 'gast' has no attribute 'Num'\n",
            "WARNING: Entity <bound method MultiHeadAttention.call of <keras_multi_head.multi_head_attention.MultiHeadAttention object at 0x7f7488470a20>> could not be transformed and will be executed as-is. Please report this to the AutoGraph team. When filing the bug, set the verbosity to 10 (on Linux, `export AUTOGRAPH_VERBOSITY=10`) and attach the full output. Cause: module 'gast' has no attribute 'Num'\n",
            "WARNING:tensorflow:Entity <bound method ScaledDotProductAttention.call of <keras_self_attention.scaled_dot_attention.ScaledDotProductAttention object at 0x7f748834bd68>> could not be transformed and will be executed as-is. Please report this to the AutoGraph team. When filing the bug, set the verbosity to 10 (on Linux, `export AUTOGRAPH_VERBOSITY=10`) and attach the full output. Cause: module 'gast' has no attribute 'Num'\n",
            "WARNING: Entity <bound method ScaledDotProductAttention.call of <keras_self_attention.scaled_dot_attention.ScaledDotProductAttention object at 0x7f748834bd68>> could not be transformed and will be executed as-is. Please report this to the AutoGraph team. When filing the bug, set the verbosity to 10 (on Linux, `export AUTOGRAPH_VERBOSITY=10`) and attach the full output. Cause: module 'gast' has no attribute 'Num'\n",
            "WARNING:tensorflow:Entity <bound method LayerNormalization.call of <keras_layer_normalization.layer_normalization.LayerNormalization object at 0x7f7488374d30>> could not be transformed and will be executed as-is. Please report this to the AutoGraph team. When filing the bug, set the verbosity to 10 (on Linux, `export AUTOGRAPH_VERBOSITY=10`) and attach the full output. Cause: Bad argument number for Name: 3, expecting 4\n",
            "WARNING: Entity <bound method LayerNormalization.call of <keras_layer_normalization.layer_normalization.LayerNormalization object at 0x7f7488374d30>> could not be transformed and will be executed as-is. Please report this to the AutoGraph team. When filing the bug, set the verbosity to 10 (on Linux, `export AUTOGRAPH_VERBOSITY=10`) and attach the full output. Cause: Bad argument number for Name: 3, expecting 4\n",
            "WARNING:tensorflow:Entity <bound method FeedForward.call of <keras_position_wise_feed_forward.feed_forward.FeedForward object at 0x7f7488381dd8>> could not be transformed and will be executed as-is. Please report this to the AutoGraph team. When filing the bug, set the verbosity to 10 (on Linux, `export AUTOGRAPH_VERBOSITY=10`) and attach the full output. Cause: Bad argument number for Name: 3, expecting 4\n",
            "WARNING: Entity <bound method FeedForward.call of <keras_position_wise_feed_forward.feed_forward.FeedForward object at 0x7f7488381dd8>> could not be transformed and will be executed as-is. Please report this to the AutoGraph team. When filing the bug, set the verbosity to 10 (on Linux, `export AUTOGRAPH_VERBOSITY=10`) and attach the full output. Cause: Bad argument number for Name: 3, expecting 4\n",
            "WARNING:tensorflow:Entity <bound method LayerNormalization.call of <keras_layer_normalization.layer_normalization.LayerNormalization object at 0x7f748839aa58>> could not be transformed and will be executed as-is. Please report this to the AutoGraph team. When filing the bug, set the verbosity to 10 (on Linux, `export AUTOGRAPH_VERBOSITY=10`) and attach the full output. Cause: Bad argument number for Name: 3, expecting 4\n",
            "WARNING: Entity <bound method LayerNormalization.call of <keras_layer_normalization.layer_normalization.LayerNormalization object at 0x7f748839aa58>> could not be transformed and will be executed as-is. Please report this to the AutoGraph team. When filing the bug, set the verbosity to 10 (on Linux, `export AUTOGRAPH_VERBOSITY=10`) and attach the full output. Cause: Bad argument number for Name: 3, expecting 4\n",
            "WARNING:tensorflow:Entity <bound method MultiHeadAttention.call of <keras_multi_head.multi_head_attention.MultiHeadAttention object at 0x7f74882b5fd0>> could not be transformed and will be executed as-is. Please report this to the AutoGraph team. When filing the bug, set the verbosity to 10 (on Linux, `export AUTOGRAPH_VERBOSITY=10`) and attach the full output. Cause: module 'gast' has no attribute 'Num'\n",
            "WARNING: Entity <bound method MultiHeadAttention.call of <keras_multi_head.multi_head_attention.MultiHeadAttention object at 0x7f74882b5fd0>> could not be transformed and will be executed as-is. Please report this to the AutoGraph team. When filing the bug, set the verbosity to 10 (on Linux, `export AUTOGRAPH_VERBOSITY=10`) and attach the full output. Cause: module 'gast' has no attribute 'Num'\n",
            "WARNING:tensorflow:Entity <bound method ScaledDotProductAttention.call of <keras_self_attention.scaled_dot_attention.ScaledDotProductAttention object at 0x7f74881fbb00>> could not be transformed and will be executed as-is. Please report this to the AutoGraph team. When filing the bug, set the verbosity to 10 (on Linux, `export AUTOGRAPH_VERBOSITY=10`) and attach the full output. Cause: module 'gast' has no attribute 'Num'\n",
            "WARNING: Entity <bound method ScaledDotProductAttention.call of <keras_self_attention.scaled_dot_attention.ScaledDotProductAttention object at 0x7f74881fbb00>> could not be transformed and will be executed as-is. Please report this to the AutoGraph team. When filing the bug, set the verbosity to 10 (on Linux, `export AUTOGRAPH_VERBOSITY=10`) and attach the full output. Cause: module 'gast' has no attribute 'Num'\n",
            "WARNING:tensorflow:Entity <bound method LayerNormalization.call of <keras_layer_normalization.layer_normalization.LayerNormalization object at 0x7f74882e5128>> could not be transformed and will be executed as-is. Please report this to the AutoGraph team. When filing the bug, set the verbosity to 10 (on Linux, `export AUTOGRAPH_VERBOSITY=10`) and attach the full output. Cause: Bad argument number for Name: 3, expecting 4\n",
            "WARNING: Entity <bound method LayerNormalization.call of <keras_layer_normalization.layer_normalization.LayerNormalization object at 0x7f74882e5128>> could not be transformed and will be executed as-is. Please report this to the AutoGraph team. When filing the bug, set the verbosity to 10 (on Linux, `export AUTOGRAPH_VERBOSITY=10`) and attach the full output. Cause: Bad argument number for Name: 3, expecting 4\n",
            "WARNING:tensorflow:Entity <bound method FeedForward.call of <keras_position_wise_feed_forward.feed_forward.FeedForward object at 0x7f74882addd8>> could not be transformed and will be executed as-is. Please report this to the AutoGraph team. When filing the bug, set the verbosity to 10 (on Linux, `export AUTOGRAPH_VERBOSITY=10`) and attach the full output. Cause: Bad argument number for Name: 3, expecting 4\n",
            "WARNING: Entity <bound method FeedForward.call of <keras_position_wise_feed_forward.feed_forward.FeedForward object at 0x7f74882addd8>> could not be transformed and will be executed as-is. Please report this to the AutoGraph team. When filing the bug, set the verbosity to 10 (on Linux, `export AUTOGRAPH_VERBOSITY=10`) and attach the full output. Cause: Bad argument number for Name: 3, expecting 4\n",
            "WARNING:tensorflow:Entity <bound method LayerNormalization.call of <keras_layer_normalization.layer_normalization.LayerNormalization object at 0x7f748823d400>> could not be transformed and will be executed as-is. Please report this to the AutoGraph team. When filing the bug, set the verbosity to 10 (on Linux, `export AUTOGRAPH_VERBOSITY=10`) and attach the full output. Cause: Bad argument number for Name: 3, expecting 4\n",
            "WARNING: Entity <bound method LayerNormalization.call of <keras_layer_normalization.layer_normalization.LayerNormalization object at 0x7f748823d400>> could not be transformed and will be executed as-is. Please report this to the AutoGraph team. When filing the bug, set the verbosity to 10 (on Linux, `export AUTOGRAPH_VERBOSITY=10`) and attach the full output. Cause: Bad argument number for Name: 3, expecting 4\n",
            "WARNING:tensorflow:Entity <bound method MultiHeadAttention.call of <keras_multi_head.multi_head_attention.MultiHeadAttention object at 0x7f74881ce518>> could not be transformed and will be executed as-is. Please report this to the AutoGraph team. When filing the bug, set the verbosity to 10 (on Linux, `export AUTOGRAPH_VERBOSITY=10`) and attach the full output. Cause: module 'gast' has no attribute 'Num'\n",
            "WARNING: Entity <bound method MultiHeadAttention.call of <keras_multi_head.multi_head_attention.MultiHeadAttention object at 0x7f74881ce518>> could not be transformed and will be executed as-is. Please report this to the AutoGraph team. When filing the bug, set the verbosity to 10 (on Linux, `export AUTOGRAPH_VERBOSITY=10`) and attach the full output. Cause: module 'gast' has no attribute 'Num'\n",
            "WARNING:tensorflow:Entity <bound method ScaledDotProductAttention.call of <keras_self_attention.scaled_dot_attention.ScaledDotProductAttention object at 0x7f7488128f98>> could not be transformed and will be executed as-is. Please report this to the AutoGraph team. When filing the bug, set the verbosity to 10 (on Linux, `export AUTOGRAPH_VERBOSITY=10`) and attach the full output. Cause: module 'gast' has no attribute 'Num'\n",
            "WARNING: Entity <bound method ScaledDotProductAttention.call of <keras_self_attention.scaled_dot_attention.ScaledDotProductAttention object at 0x7f7488128f98>> could not be transformed and will be executed as-is. Please report this to the AutoGraph team. When filing the bug, set the verbosity to 10 (on Linux, `export AUTOGRAPH_VERBOSITY=10`) and attach the full output. Cause: module 'gast' has no attribute 'Num'\n",
            "WARNING:tensorflow:Entity <bound method LayerNormalization.call of <keras_layer_normalization.layer_normalization.LayerNormalization object at 0x7f7488143da0>> could not be transformed and will be executed as-is. Please report this to the AutoGraph team. When filing the bug, set the verbosity to 10 (on Linux, `export AUTOGRAPH_VERBOSITY=10`) and attach the full output. Cause: Bad argument number for Name: 3, expecting 4\n",
            "WARNING: Entity <bound method LayerNormalization.call of <keras_layer_normalization.layer_normalization.LayerNormalization object at 0x7f7488143da0>> could not be transformed and will be executed as-is. Please report this to the AutoGraph team. When filing the bug, set the verbosity to 10 (on Linux, `export AUTOGRAPH_VERBOSITY=10`) and attach the full output. Cause: Bad argument number for Name: 3, expecting 4\n",
            "WARNING:tensorflow:Entity <bound method FeedForward.call of <keras_position_wise_feed_forward.feed_forward.FeedForward object at 0x7f748815be80>> could not be transformed and will be executed as-is. Please report this to the AutoGraph team. When filing the bug, set the verbosity to 10 (on Linux, `export AUTOGRAPH_VERBOSITY=10`) and attach the full output. Cause: Bad argument number for Name: 3, expecting 4\n",
            "WARNING: Entity <bound method FeedForward.call of <keras_position_wise_feed_forward.feed_forward.FeedForward object at 0x7f748815be80>> could not be transformed and will be executed as-is. Please report this to the AutoGraph team. When filing the bug, set the verbosity to 10 (on Linux, `export AUTOGRAPH_VERBOSITY=10`) and attach the full output. Cause: Bad argument number for Name: 3, expecting 4\n",
            "WARNING:tensorflow:Entity <bound method LayerNormalization.call of <keras_layer_normalization.layer_normalization.LayerNormalization object at 0x7f748809c9e8>> could not be transformed and will be executed as-is. Please report this to the AutoGraph team. When filing the bug, set the verbosity to 10 (on Linux, `export AUTOGRAPH_VERBOSITY=10`) and attach the full output. Cause: Bad argument number for Name: 3, expecting 4\n",
            "WARNING: Entity <bound method LayerNormalization.call of <keras_layer_normalization.layer_normalization.LayerNormalization object at 0x7f748809c9e8>> could not be transformed and will be executed as-is. Please report this to the AutoGraph team. When filing the bug, set the verbosity to 10 (on Linux, `export AUTOGRAPH_VERBOSITY=10`) and attach the full output. Cause: Bad argument number for Name: 3, expecting 4\n",
            "WARNING:tensorflow:Entity <bound method MultiHeadAttention.call of <keras_multi_head.multi_head_attention.MultiHeadAttention object at 0x7f748809c358>> could not be transformed and will be executed as-is. Please report this to the AutoGraph team. When filing the bug, set the verbosity to 10 (on Linux, `export AUTOGRAPH_VERBOSITY=10`) and attach the full output. Cause: module 'gast' has no attribute 'Num'\n",
            "WARNING: Entity <bound method MultiHeadAttention.call of <keras_multi_head.multi_head_attention.MultiHeadAttention object at 0x7f748809c358>> could not be transformed and will be executed as-is. Please report this to the AutoGraph team. When filing the bug, set the verbosity to 10 (on Linux, `export AUTOGRAPH_VERBOSITY=10`) and attach the full output. Cause: module 'gast' has no attribute 'Num'\n",
            "WARNING:tensorflow:Entity <bound method ScaledDotProductAttention.call of <keras_self_attention.scaled_dot_attention.ScaledDotProductAttention object at 0x7f7487fd6cc0>> could not be transformed and will be executed as-is. Please report this to the AutoGraph team. When filing the bug, set the verbosity to 10 (on Linux, `export AUTOGRAPH_VERBOSITY=10`) and attach the full output. Cause: module 'gast' has no attribute 'Num'\n",
            "WARNING: Entity <bound method ScaledDotProductAttention.call of <keras_self_attention.scaled_dot_attention.ScaledDotProductAttention object at 0x7f7487fd6cc0>> could not be transformed and will be executed as-is. Please report this to the AutoGraph team. When filing the bug, set the verbosity to 10 (on Linux, `export AUTOGRAPH_VERBOSITY=10`) and attach the full output. Cause: module 'gast' has no attribute 'Num'\n",
            "WARNING:tensorflow:Entity <bound method LayerNormalization.call of <keras_layer_normalization.layer_normalization.LayerNormalization object at 0x7f7487fc7198>> could not be transformed and will be executed as-is. Please report this to the AutoGraph team. When filing the bug, set the verbosity to 10 (on Linux, `export AUTOGRAPH_VERBOSITY=10`) and attach the full output. Cause: Bad argument number for Name: 3, expecting 4\n",
            "WARNING: Entity <bound method LayerNormalization.call of <keras_layer_normalization.layer_normalization.LayerNormalization object at 0x7f7487fc7198>> could not be transformed and will be executed as-is. Please report this to the AutoGraph team. When filing the bug, set the verbosity to 10 (on Linux, `export AUTOGRAPH_VERBOSITY=10`) and attach the full output. Cause: Bad argument number for Name: 3, expecting 4\n",
            "WARNING:tensorflow:Entity <bound method FeedForward.call of <keras_position_wise_feed_forward.feed_forward.FeedForward object at 0x7f748800bef0>> could not be transformed and will be executed as-is. Please report this to the AutoGraph team. When filing the bug, set the verbosity to 10 (on Linux, `export AUTOGRAPH_VERBOSITY=10`) and attach the full output. Cause: Bad argument number for Name: 3, expecting 4\n",
            "WARNING: Entity <bound method FeedForward.call of <keras_position_wise_feed_forward.feed_forward.FeedForward object at 0x7f748800bef0>> could not be transformed and will be executed as-is. Please report this to the AutoGraph team. When filing the bug, set the verbosity to 10 (on Linux, `export AUTOGRAPH_VERBOSITY=10`) and attach the full output. Cause: Bad argument number for Name: 3, expecting 4\n",
            "WARNING:tensorflow:Entity <bound method LayerNormalization.call of <keras_layer_normalization.layer_normalization.LayerNormalization object at 0x7f7488020c18>> could not be transformed and will be executed as-is. Please report this to the AutoGraph team. When filing the bug, set the verbosity to 10 (on Linux, `export AUTOGRAPH_VERBOSITY=10`) and attach the full output. Cause: Bad argument number for Name: 3, expecting 4\n",
            "WARNING: Entity <bound method LayerNormalization.call of <keras_layer_normalization.layer_normalization.LayerNormalization object at 0x7f7488020c18>> could not be transformed and will be executed as-is. Please report this to the AutoGraph team. When filing the bug, set the verbosity to 10 (on Linux, `export AUTOGRAPH_VERBOSITY=10`) and attach the full output. Cause: Bad argument number for Name: 3, expecting 4\n",
            "WARNING:tensorflow:Entity <bound method MultiHeadAttention.call of <keras_multi_head.multi_head_attention.MultiHeadAttention object at 0x7f748801af60>> could not be transformed and will be executed as-is. Please report this to the AutoGraph team. When filing the bug, set the verbosity to 10 (on Linux, `export AUTOGRAPH_VERBOSITY=10`) and attach the full output. Cause: module 'gast' has no attribute 'Num'\n",
            "WARNING: Entity <bound method MultiHeadAttention.call of <keras_multi_head.multi_head_attention.MultiHeadAttention object at 0x7f748801af60>> could not be transformed and will be executed as-is. Please report this to the AutoGraph team. When filing the bug, set the verbosity to 10 (on Linux, `export AUTOGRAPH_VERBOSITY=10`) and attach the full output. Cause: module 'gast' has no attribute 'Num'\n",
            "WARNING:tensorflow:Entity <bound method ScaledDotProductAttention.call of <keras_self_attention.scaled_dot_attention.ScaledDotProductAttention object at 0x7f7487e85d68>> could not be transformed and will be executed as-is. Please report this to the AutoGraph team. When filing the bug, set the verbosity to 10 (on Linux, `export AUTOGRAPH_VERBOSITY=10`) and attach the full output. Cause: module 'gast' has no attribute 'Num'\n",
            "WARNING: Entity <bound method ScaledDotProductAttention.call of <keras_self_attention.scaled_dot_attention.ScaledDotProductAttention object at 0x7f7487e85d68>> could not be transformed and will be executed as-is. Please report this to the AutoGraph team. When filing the bug, set the verbosity to 10 (on Linux, `export AUTOGRAPH_VERBOSITY=10`) and attach the full output. Cause: module 'gast' has no attribute 'Num'\n",
            "WARNING:tensorflow:Entity <bound method LayerNormalization.call of <keras_layer_normalization.layer_normalization.LayerNormalization object at 0x7f7487e74240>> could not be transformed and will be executed as-is. Please report this to the AutoGraph team. When filing the bug, set the verbosity to 10 (on Linux, `export AUTOGRAPH_VERBOSITY=10`) and attach the full output. Cause: Bad argument number for Name: 3, expecting 4\n",
            "WARNING: Entity <bound method LayerNormalization.call of <keras_layer_normalization.layer_normalization.LayerNormalization object at 0x7f7487e74240>> could not be transformed and will be executed as-is. Please report this to the AutoGraph team. When filing the bug, set the verbosity to 10 (on Linux, `export AUTOGRAPH_VERBOSITY=10`) and attach the full output. Cause: Bad argument number for Name: 3, expecting 4\n",
            "WARNING:tensorflow:Entity <bound method FeedForward.call of <keras_position_wise_feed_forward.feed_forward.FeedForward object at 0x7f7487eb8fd0>> could not be transformed and will be executed as-is. Please report this to the AutoGraph team. When filing the bug, set the verbosity to 10 (on Linux, `export AUTOGRAPH_VERBOSITY=10`) and attach the full output. Cause: Bad argument number for Name: 3, expecting 4\n",
            "WARNING: Entity <bound method FeedForward.call of <keras_position_wise_feed_forward.feed_forward.FeedForward object at 0x7f7487eb8fd0>> could not be transformed and will be executed as-is. Please report this to the AutoGraph team. When filing the bug, set the verbosity to 10 (on Linux, `export AUTOGRAPH_VERBOSITY=10`) and attach the full output. Cause: Bad argument number for Name: 3, expecting 4\n",
            "WARNING:tensorflow:Entity <bound method LayerNormalization.call of <keras_layer_normalization.layer_normalization.LayerNormalization object at 0x7f7487e1c208>> could not be transformed and will be executed as-is. Please report this to the AutoGraph team. When filing the bug, set the verbosity to 10 (on Linux, `export AUTOGRAPH_VERBOSITY=10`) and attach the full output. Cause: Bad argument number for Name: 3, expecting 4\n",
            "WARNING: Entity <bound method LayerNormalization.call of <keras_layer_normalization.layer_normalization.LayerNormalization object at 0x7f7487e1c208>> could not be transformed and will be executed as-is. Please report this to the AutoGraph team. When filing the bug, set the verbosity to 10 (on Linux, `export AUTOGRAPH_VERBOSITY=10`) and attach the full output. Cause: Bad argument number for Name: 3, expecting 4\n",
            "WARNING:tensorflow:Entity <bound method MultiHeadAttention.call of <keras_multi_head.multi_head_attention.MultiHeadAttention object at 0x7f7487e1cba8>> could not be transformed and will be executed as-is. Please report this to the AutoGraph team. When filing the bug, set the verbosity to 10 (on Linux, `export AUTOGRAPH_VERBOSITY=10`) and attach the full output. Cause: module 'gast' has no attribute 'Num'\n",
            "WARNING: Entity <bound method MultiHeadAttention.call of <keras_multi_head.multi_head_attention.MultiHeadAttention object at 0x7f7487e1cba8>> could not be transformed and will be executed as-is. Please report this to the AutoGraph team. When filing the bug, set the verbosity to 10 (on Linux, `export AUTOGRAPH_VERBOSITY=10`) and attach the full output. Cause: module 'gast' has no attribute 'Num'\n",
            "WARNING:tensorflow:Entity <bound method ScaledDotProductAttention.call of <keras_self_attention.scaled_dot_attention.ScaledDotProductAttention object at 0x7f7487d35400>> could not be transformed and will be executed as-is. Please report this to the AutoGraph team. When filing the bug, set the verbosity to 10 (on Linux, `export AUTOGRAPH_VERBOSITY=10`) and attach the full output. Cause: module 'gast' has no attribute 'Num'\n",
            "WARNING: Entity <bound method ScaledDotProductAttention.call of <keras_self_attention.scaled_dot_attention.ScaledDotProductAttention object at 0x7f7487d35400>> could not be transformed and will be executed as-is. Please report this to the AutoGraph team. When filing the bug, set the verbosity to 10 (on Linux, `export AUTOGRAPH_VERBOSITY=10`) and attach the full output. Cause: module 'gast' has no attribute 'Num'\n",
            "WARNING:tensorflow:Entity <bound method LayerNormalization.call of <keras_layer_normalization.layer_normalization.LayerNormalization object at 0x7f7487e2d550>> could not be transformed and will be executed as-is. Please report this to the AutoGraph team. When filing the bug, set the verbosity to 10 (on Linux, `export AUTOGRAPH_VERBOSITY=10`) and attach the full output. Cause: Bad argument number for Name: 3, expecting 4\n",
            "WARNING: Entity <bound method LayerNormalization.call of <keras_layer_normalization.layer_normalization.LayerNormalization object at 0x7f7487e2d550>> could not be transformed and will be executed as-is. Please report this to the AutoGraph team. When filing the bug, set the verbosity to 10 (on Linux, `export AUTOGRAPH_VERBOSITY=10`) and attach the full output. Cause: Bad argument number for Name: 3, expecting 4\n",
            "WARNING:tensorflow:Entity <bound method FeedForward.call of <keras_position_wise_feed_forward.feed_forward.FeedForward object at 0x7f7487de5f28>> could not be transformed and will be executed as-is. Please report this to the AutoGraph team. When filing the bug, set the verbosity to 10 (on Linux, `export AUTOGRAPH_VERBOSITY=10`) and attach the full output. Cause: Bad argument number for Name: 3, expecting 4\n",
            "WARNING: Entity <bound method FeedForward.call of <keras_position_wise_feed_forward.feed_forward.FeedForward object at 0x7f7487de5f28>> could not be transformed and will be executed as-is. Please report this to the AutoGraph team. When filing the bug, set the verbosity to 10 (on Linux, `export AUTOGRAPH_VERBOSITY=10`) and attach the full output. Cause: Bad argument number for Name: 3, expecting 4\n",
            "WARNING:tensorflow:Entity <bound method LayerNormalization.call of <keras_layer_normalization.layer_normalization.LayerNormalization object at 0x7f7487ccad68>> could not be transformed and will be executed as-is. Please report this to the AutoGraph team. When filing the bug, set the verbosity to 10 (on Linux, `export AUTOGRAPH_VERBOSITY=10`) and attach the full output. Cause: Bad argument number for Name: 3, expecting 4\n",
            "WARNING: Entity <bound method LayerNormalization.call of <keras_layer_normalization.layer_normalization.LayerNormalization object at 0x7f7487ccad68>> could not be transformed and will be executed as-is. Please report this to the AutoGraph team. When filing the bug, set the verbosity to 10 (on Linux, `export AUTOGRAPH_VERBOSITY=10`) and attach the full output. Cause: Bad argument number for Name: 3, expecting 4\n",
            "WARNING:tensorflow:Entity <bound method MultiHeadAttention.call of <keras_multi_head.multi_head_attention.MultiHeadAttention object at 0x7f7487d22a20>> could not be transformed and will be executed as-is. Please report this to the AutoGraph team. When filing the bug, set the verbosity to 10 (on Linux, `export AUTOGRAPH_VERBOSITY=10`) and attach the full output. Cause: module 'gast' has no attribute 'Num'\n",
            "WARNING: Entity <bound method MultiHeadAttention.call of <keras_multi_head.multi_head_attention.MultiHeadAttention object at 0x7f7487d22a20>> could not be transformed and will be executed as-is. Please report this to the AutoGraph team. When filing the bug, set the verbosity to 10 (on Linux, `export AUTOGRAPH_VERBOSITY=10`) and attach the full output. Cause: module 'gast' has no attribute 'Num'\n",
            "WARNING:tensorflow:Entity <bound method ScaledDotProductAttention.call of <keras_self_attention.scaled_dot_attention.ScaledDotProductAttention object at 0x7f7487c633c8>> could not be transformed and will be executed as-is. Please report this to the AutoGraph team. When filing the bug, set the verbosity to 10 (on Linux, `export AUTOGRAPH_VERBOSITY=10`) and attach the full output. Cause: module 'gast' has no attribute 'Num'\n",
            "WARNING: Entity <bound method ScaledDotProductAttention.call of <keras_self_attention.scaled_dot_attention.ScaledDotProductAttention object at 0x7f7487c633c8>> could not be transformed and will be executed as-is. Please report this to the AutoGraph team. When filing the bug, set the verbosity to 10 (on Linux, `export AUTOGRAPH_VERBOSITY=10`) and attach the full output. Cause: module 'gast' has no attribute 'Num'\n",
            "WARNING:tensorflow:Entity <bound method LayerNormalization.call of <keras_layer_normalization.layer_normalization.LayerNormalization object at 0x7f7487cd9a20>> could not be transformed and will be executed as-is. Please report this to the AutoGraph team. When filing the bug, set the verbosity to 10 (on Linux, `export AUTOGRAPH_VERBOSITY=10`) and attach the full output. Cause: Bad argument number for Name: 3, expecting 4\n",
            "WARNING: Entity <bound method LayerNormalization.call of <keras_layer_normalization.layer_normalization.LayerNormalization object at 0x7f7487cd9a20>> could not be transformed and will be executed as-is. Please report this to the AutoGraph team. When filing the bug, set the verbosity to 10 (on Linux, `export AUTOGRAPH_VERBOSITY=10`) and attach the full output. Cause: Bad argument number for Name: 3, expecting 4\n",
            "WARNING:tensorflow:Entity <bound method FeedForward.call of <keras_position_wise_feed_forward.feed_forward.FeedForward object at 0x7f7487c95cc0>> could not be transformed and will be executed as-is. Please report this to the AutoGraph team. When filing the bug, set the verbosity to 10 (on Linux, `export AUTOGRAPH_VERBOSITY=10`) and attach the full output. Cause: Bad argument number for Name: 3, expecting 4\n",
            "WARNING: Entity <bound method FeedForward.call of <keras_position_wise_feed_forward.feed_forward.FeedForward object at 0x7f7487c95cc0>> could not be transformed and will be executed as-is. Please report this to the AutoGraph team. When filing the bug, set the verbosity to 10 (on Linux, `export AUTOGRAPH_VERBOSITY=10`) and attach the full output. Cause: Bad argument number for Name: 3, expecting 4\n",
            "WARNING:tensorflow:Entity <bound method LayerNormalization.call of <keras_layer_normalization.layer_normalization.LayerNormalization object at 0x7f7487bbb4e0>> could not be transformed and will be executed as-is. Please report this to the AutoGraph team. When filing the bug, set the verbosity to 10 (on Linux, `export AUTOGRAPH_VERBOSITY=10`) and attach the full output. Cause: Bad argument number for Name: 3, expecting 4\n",
            "WARNING: Entity <bound method LayerNormalization.call of <keras_layer_normalization.layer_normalization.LayerNormalization object at 0x7f7487bbb4e0>> could not be transformed and will be executed as-is. Please report this to the AutoGraph team. When filing the bug, set the verbosity to 10 (on Linux, `export AUTOGRAPH_VERBOSITY=10`) and attach the full output. Cause: Bad argument number for Name: 3, expecting 4\n"
          ],
          "name": "stdout"
        }
      ]
    },
    {
      "cell_type": "code",
      "metadata": {
        "id": "U3jk07Kw4Lrm",
        "colab_type": "code",
        "outputId": "c9c0b05e-2550-4f54-ed4c-167f5ceb9bc4",
        "colab": {
          "base_uri": "https://localhost:8080/",
          "height": 54
        }
      },
      "source": [
        "# token and segment inputs, just as we made\n",
        "pretrained_model.inputs"
      ],
      "execution_count": 34,
      "outputs": [
        {
          "output_type": "execute_result",
          "data": {
            "text/plain": [
              "[<tf.Tensor 'Input-Token:0' shape=(?, 250) dtype=float32>,\n",
              " <tf.Tensor 'Input-Segment:0' shape=(?, 250) dtype=float32>]"
            ]
          },
          "metadata": {
            "tags": []
          },
          "execution_count": 34
        }
      ]
    },
    {
      "cell_type": "code",
      "metadata": {
        "id": "2JPTQgDb4aUz",
        "colab_type": "code",
        "outputId": "26f15091-b99a-454a-f45f-f84cb6eda248",
        "colab": {
          "base_uri": "https://localhost:8080/",
          "height": 36
        }
      },
      "source": [
        "pretrained_model.outputs"
      ],
      "execution_count": 35,
      "outputs": [
        {
          "output_type": "execute_result",
          "data": {
            "text/plain": [
              "[<tf.Tensor 'Encoder-12-FeedForward-Norm/add_1:0' shape=(?, 250, 768) dtype=float32>]"
            ]
          },
          "metadata": {
            "tags": []
          },
          "execution_count": 35
        }
      ]
    },
    {
      "cell_type": "markdown",
      "metadata": {
        "id": "MwqTgaZ55vD0",
        "colab_type": "text"
      },
      "source": [
        "Size of the output layer does not match our label count. This must be fixed."
      ]
    },
    {
      "cell_type": "code",
      "metadata": {
        "id": "sQNBB7Gk5etU",
        "colab_type": "code",
        "colab": {}
      },
      "source": [
        "# pretrained_model.summary()\n",
        "# same transformer layer repeated 12 times: self\n",
        "# attention, feedforward, drop out, normalization"
      ],
      "execution_count": 0,
      "outputs": []
    },
    {
      "cell_type": "markdown",
      "metadata": {
        "id": "Ss678QTb63-0",
        "colab_type": "text"
      },
      "source": [
        "## Build classification model by wrapping the pretrained model"
      ]
    },
    {
      "cell_type": "markdown",
      "metadata": {
        "id": "CNV-IQ6dX4De",
        "colab_type": "text"
      },
      "source": [
        "We will \"catch\" the model output and plug our own output layer on it."
      ]
    },
    {
      "cell_type": "code",
      "metadata": {
        "id": "V8G2WqT763Cd",
        "colab_type": "code",
        "outputId": "268ffa58-f9b4-49d8-a562-7275667fbe62",
        "colab": {
          "base_uri": "https://localhost:8080/",
          "height": 36
        }
      },
      "source": [
        "bert_out = pretrained_model.outputs[0][:,0]\n",
        "\n",
        "print(bert_out)"
      ],
      "execution_count": 37,
      "outputs": [
        {
          "output_type": "stream",
          "text": [
            "Tensor(\"strided_slice:0\", shape=(?, 768), dtype=float32)\n"
          ],
          "name": "stdout"
        }
      ]
    },
    {
      "cell_type": "markdown",
      "metadata": {
        "id": "YLpSFbIA0jQv",
        "colab_type": "text"
      },
      "source": [
        "Wrapping:"
      ]
    },
    {
      "cell_type": "code",
      "metadata": {
        "id": "v8-fYS4y7ICV",
        "colab_type": "code",
        "colab": {}
      },
      "source": [
        "from tensorflow.keras.models import Model\n",
        "from tensorflow.keras.layers import Dense\n",
        "\n",
        "out = Dense(num_labels, activation='softmax')(bert_out) # by calling the output layer we end up calling all the other layers (the model)\n",
        "model = Model(\n",
        "    inputs=pretrained_model.inputs,\n",
        "    outputs=[out]\n",
        ")"
      ],
      "execution_count": 0,
      "outputs": []
    },
    {
      "cell_type": "markdown",
      "metadata": {
        "id": "FuDLml6v83JD",
        "colab_type": "text"
      },
      "source": [
        "Now the size of the output layer matches the number of our data labels."
      ]
    },
    {
      "cell_type": "code",
      "metadata": {
        "id": "Z2eJUnT78uQX",
        "colab_type": "code",
        "outputId": "26b9f6cf-0315-4eee-ac3b-04d881457692",
        "colab": {
          "base_uri": "https://localhost:8080/",
          "height": 36
        }
      },
      "source": [
        "model.output"
      ],
      "execution_count": 39,
      "outputs": [
        {
          "output_type": "execute_result",
          "data": {
            "text/plain": [
              "<tf.Tensor 'dense/Softmax:0' shape=(?, 64) dtype=float32>"
            ]
          },
          "metadata": {
            "tags": []
          },
          "execution_count": 39
        }
      ]
    },
    {
      "cell_type": "code",
      "metadata": {
        "id": "BekdEFHw7jqb",
        "colab_type": "code",
        "colab": {}
      },
      "source": [
        "# model.summary()"
      ],
      "execution_count": 0,
      "outputs": []
    },
    {
      "cell_type": "markdown",
      "metadata": {
        "id": "nYwXxwPe9J1j",
        "colab_type": "text"
      },
      "source": [
        "## Create optimizer\n",
        "\n",
        "BERT is pretrained with an Adam optimizer with warmup and regularization using weight decay. We won't go into detail on these optimizer settings, but will instead largely copy parameters used in the original BERT work.\n",
        "\n",
        "(If you're interested in tuning the training process, trying different values of LEARNING_RATE is a good place to start!)"
      ]
    },
    {
      "cell_type": "code",
      "metadata": {
        "id": "rs_9hj7ey_ZO",
        "colab_type": "code",
        "colab": {}
      },
      "source": [
        "# search for optimal EPOCHS, LEARNING_RATE and BATCH_SIZE for serious training!\n",
        "# Number of epochs to train for\n",
        "EPOCHS = 12                             #16\n",
        "\n",
        "# Optimizer learning rate\n",
        "LEARNING_RATE = 0.00002                   #0.01\n",
        "\n",
        "# Training batch size\n",
        "BATCH_SIZE = 16                          #8"
      ],
      "execution_count": 0,
      "outputs": []
    },
    {
      "cell_type": "code",
      "metadata": {
        "id": "uoqDpD3C9LJp",
        "colab_type": "code",
        "colab": {}
      },
      "source": [
        "from keras_bert import calc_train_steps, AdamWarmup\n",
        "\n",
        "# Calculate the number of steps for warmup\n",
        "total_steps, warmup_steps = calc_train_steps(\n",
        "    num_example=len(train_['text']),\n",
        "    batch_size=BATCH_SIZE,\n",
        "    epochs=EPOCHS,\n",
        "    warmup_proportion=0.1,\n",
        ")\n",
        "\n",
        "optimizer = AdamWarmup(\n",
        "    total_steps,\n",
        "    warmup_steps,\n",
        "    lr=LEARNING_RATE,\n",
        "    epsilon=1e-6,\n",
        "    weight_decay=0.01,\n",
        "    weight_decay_pattern=['embeddings', 'kernel', 'W1', 'W2', 'Wk', 'Wq', 'Wv', 'Wo']\n",
        ")"
      ],
      "execution_count": 0,
      "outputs": []
    },
    {
      "cell_type": "markdown",
      "metadata": {
        "id": "l2MKRaKT9iHk",
        "colab_type": "text"
      },
      "source": [
        "## Train"
      ]
    },
    {
      "cell_type": "code",
      "metadata": {
        "id": "PkYA99RO9grF",
        "colab_type": "code",
        "colab": {}
      },
      "source": [
        "model.compile(\n",
        "    optimizer=optimizer,\n",
        "    loss='sparse_categorical_crossentropy', # encoded labels!\n",
        "    metrics=['sparse_categorical_accuracy']\n",
        ")"
      ],
      "execution_count": 0,
      "outputs": []
    },
    {
      "cell_type": "code",
      "metadata": {
        "id": "bR2OgW1B9rsY",
        "colab_type": "code",
        "outputId": "65dba33d-815f-44a8-8b76-b8a8c8301f60",
        "colab": {
          "base_uri": "https://localhost:8080/",
          "height": 558
        }
      },
      "source": [
        "stop_cb = EarlyStopping(monitor = 'val_sparse_categorical_accuracy', patience=4, verbose=1, mode='auto', baseline=None, restore_best_weights=True)\n",
        "mc_cb = ModelCheckpoint(filepath='models/BERT_multiclass.h5', monitor='val_sparse_categorical_accuracy', verbose=0,save_best_only=True, mode='auto')\n",
        "\n",
        "history = model.fit(\n",
        "    X,\n",
        "    Y,\n",
        "    epochs=EPOCHS,\n",
        "    batch_size=BATCH_SIZE,\n",
        "    validation_data=(x, y), \n",
        "    callbacks=[stop_cb, mc_cb]\n",
        ")"
      ],
      "execution_count": 44,
      "outputs": [
        {
          "output_type": "stream",
          "text": [
            "WARNING:tensorflow:From /tensorflow-1.15.2/python3.6/tensorflow_core/python/ops/math_grad.py:1424: where (from tensorflow.python.ops.array_ops) is deprecated and will be removed in a future version.\n",
            "Instructions for updating:\n",
            "Use tf.where in 2.0, which has the same broadcast rule as np.where\n",
            "Train on 1500 samples, validate on 746 samples\n",
            "Epoch 1/12\n",
            "1500/1500 [==============================] - 247s 165ms/sample - loss: 3.2485 - sparse_categorical_accuracy: 0.2707 - val_loss: 2.0331 - val_sparse_categorical_accuracy: 0.5241\n",
            "Epoch 2/12\n",
            "1500/1500 [==============================] - 201s 134ms/sample - loss: 1.7543 - sparse_categorical_accuracy: 0.5793 - val_loss: 1.6019 - val_sparse_categorical_accuracy: 0.6072\n",
            "Epoch 3/12\n",
            "1500/1500 [==============================] - 201s 134ms/sample - loss: 1.0381 - sparse_categorical_accuracy: 0.7367 - val_loss: 1.5044 - val_sparse_categorical_accuracy: 0.6247\n",
            "Epoch 4/12\n",
            "1500/1500 [==============================] - 201s 134ms/sample - loss: 0.5248 - sparse_categorical_accuracy: 0.8780 - val_loss: 1.4730 - val_sparse_categorical_accuracy: 0.6354\n",
            "Epoch 5/12\n",
            "1500/1500 [==============================] - 201s 134ms/sample - loss: 0.2398 - sparse_categorical_accuracy: 0.9573 - val_loss: 1.5075 - val_sparse_categorical_accuracy: 0.6381\n",
            "Epoch 6/12\n",
            "1500/1500 [==============================] - 197s 131ms/sample - loss: 0.1204 - sparse_categorical_accuracy: 0.9887 - val_loss: 1.5208 - val_sparse_categorical_accuracy: 0.6381\n",
            "Epoch 7/12\n",
            "1500/1500 [==============================] - 201s 134ms/sample - loss: 0.0677 - sparse_categorical_accuracy: 0.9973 - val_loss: 1.5363 - val_sparse_categorical_accuracy: 0.6394\n",
            "Epoch 8/12\n",
            "1500/1500 [==============================] - 201s 134ms/sample - loss: 0.0511 - sparse_categorical_accuracy: 0.9967 - val_loss: 1.5372 - val_sparse_categorical_accuracy: 0.6408\n",
            "Epoch 9/12\n",
            "1500/1500 [==============================] - 201s 134ms/sample - loss: 0.0393 - sparse_categorical_accuracy: 0.9973 - val_loss: 1.5505 - val_sparse_categorical_accuracy: 0.6434\n",
            "Epoch 10/12\n",
            "1500/1500 [==============================] - 196s 131ms/sample - loss: 0.0343 - sparse_categorical_accuracy: 0.9987 - val_loss: 1.5546 - val_sparse_categorical_accuracy: 0.6408\n",
            "Epoch 11/12\n",
            "1500/1500 [==============================] - 196s 131ms/sample - loss: 0.0300 - sparse_categorical_accuracy: 0.9980 - val_loss: 1.5611 - val_sparse_categorical_accuracy: 0.6434\n",
            "Epoch 12/12\n",
            "1500/1500 [==============================] - 196s 131ms/sample - loss: 0.0281 - sparse_categorical_accuracy: 0.9987 - val_loss: 1.5632 - val_sparse_categorical_accuracy: 0.6434\n"
          ],
          "name": "stdout"
        }
      ]
    },
    {
      "cell_type": "code",
      "metadata": {
        "id": "Mn_hm0UDNsgK",
        "colab_type": "code",
        "outputId": "8c536341-456c-42b2-fd66-0fb80d5c6aa6",
        "colab": {
          "base_uri": "https://localhost:8080/",
          "height": 265
        }
      },
      "source": [
        "def plot_history(history):\n",
        "    plt.plot(history.history['sparse_categorical_accuracy'],label=\"Training set accuracy\")\n",
        "    plt.plot(history.history['val_sparse_categorical_accuracy'],label=\"Validation set accuracy\")\n",
        "    plt.legend()\n",
        "    plt.show()\n",
        "\n",
        "plot_history(history)"
      ],
      "execution_count": 45,
      "outputs": [
        {
          "output_type": "display_data",
          "data": {
            "image/png": "[encoded data removed]",
            "text/plain": [
              "<Figure size 432x288 with 1 Axes>"
            ]
          },
          "metadata": {
            "tags": [],
            "needs_background": "light"
          }
        }
      ]
    },
    {
      "cell_type": "markdown",
      "metadata": {
        "id": "GwrP6xhZJmpV",
        "colab_type": "text"
      },
      "source": [
        "## Predict"
      ]
    },
    {
      "cell_type": "code",
      "metadata": {
        "id": "noTnBHs4cJcT",
        "colab_type": "code",
        "colab": {}
      },
      "source": [
        "# Load best model\n",
        "model.load_weights('models/BERT_multiclass.h5')"
      ],
      "execution_count": 0,
      "outputs": []
    },
    {
      "cell_type": "code",
      "metadata": {
        "id": "XvK_t2LXNWam",
        "colab_type": "code",
        "colab": {}
      },
      "source": [
        "predictions = np.argmax(model.predict(test_inp), axis=1) # np.argmax gives the index which has the highest value e.g. class"
      ],
      "execution_count": 0,
      "outputs": []
    },
    {
      "cell_type": "code",
      "metadata": {
        "id": "CWn3JBFpQSak",
        "colab_type": "code",
        "outputId": "628fb23f-7137-4308-93ed-7a6a01eebcd9",
        "colab": {
          "base_uri": "https://localhost:8080/",
          "height": 54
        }
      },
      "source": [
        "predicted_labels = label_encoder.inverse_transform(predictions)\n",
        "predicted_labels"
      ],
      "execution_count": 47,
      "outputs": [
        {
          "output_type": "execute_result",
          "data": {
            "text/plain": [
              "array(['HI  ', 'PB NA ', 'DT IN ', ..., 'OA NA ', 'PB NA ', 'MT OS '],\n",
              "      dtype='<U12')"
            ]
          },
          "metadata": {
            "tags": []
          },
          "execution_count": 47
        }
      ]
    },
    {
      "cell_type": "code",
      "metadata": {
        "id": "uamUmR_ZQMFq",
        "colab_type": "code",
        "outputId": "faf6e0f1-8197-47b3-ec95-069d07648f03",
        "colab": {
          "base_uri": "https://localhost:8080/",
          "height": 36
        }
      },
      "source": [
        "print(\"Classification accuracy: \", round(accuracy_score(test_label, predicted_labels)*100,1), \"percent\")"
      ],
      "execution_count": 48,
      "outputs": [
        {
          "output_type": "stream",
          "text": [
            "Classification accuracy:  64.8 percent\n"
          ],
          "name": "stdout"
        }
      ]
    },
    {
      "cell_type": "markdown",
      "metadata": {
        "id": "CJ2lrJaZQ42Z",
        "colab_type": "text"
      },
      "source": [
        "Accuracy pretty good."
      ]
    },
    {
      "cell_type": "markdown",
      "metadata": {
        "id": "NYSi-7hwqqTs",
        "colab_type": "text"
      },
      "source": [
        "# Milestone 2.2: Error analysis\n",
        "Compare the errors made by the classifiers you have trained from milestones 1 and 2.1. Are there any patterns? How do the errors one model makes differ from those made by another.\n",
        "\n"
      ]
    },
    {
      "cell_type": "code",
      "metadata": {
        "id": "K5QbHGcldxep",
        "colab_type": "code",
        "colab": {}
      },
      "source": [
        "# accuracy\n",
        "# confusion matrix\n",
        "# classification_report\n"
      ],
      "execution_count": 0,
      "outputs": []
    },
    {
      "cell_type": "markdown",
      "metadata": {
        "id": "i-HcrqoxqxiI",
        "colab_type": "text"
      },
      "source": [
        "# Milestone 3.1: Bert (multi-LABEL)\n",
        "Train two multi-label classifiers, one using non-deep contextual representations, the other using Bert. In this setting, each label is assigned independently. Do hyperparameter optimization on these classifiers."
      ]
    },
    {
      "cell_type": "markdown",
      "metadata": {
        "id": "BrVf5bheeRNH",
        "colab_type": "text"
      },
      "source": [
        "## Data preparation for milestone 3\n",
        "\n",
        "Since we do multi label classification we are dealing with highlevel and sublevel registers and have significantly less labels (for example 'NA OP' becomes 'NA' and 'OP'. This means we have to prepare the data differently from the previous tasks\n",
        "\n",
        "We will separate all the registers and one hot encode them."
      ]
    },
    {
      "cell_type": "code",
      "metadata": {
        "id": "zwa_GN5xdzy8",
        "colab_type": "code",
        "colab": {}
      },
      "source": [
        "# data manipulation: high level registers\n",
        "\n",
        "hiregs = ['NA', 'OP', 'IN', 'ID', 'HI', 'IP', 'IG', 'LY', 'SP', 'OS']"
      ],
      "execution_count": 0,
      "outputs": []
    },
    {
      "cell_type": "code",
      "metadata": {
        "id": "NrXVJU0CQPIG",
        "colab_type": "code",
        "colab": {}
      },
      "source": [
        "# Clean up the label(register) column:\n",
        "\n",
        "def from_registers(col):\n",
        "  lst = col.tolist() # column to list\n",
        "  registers = [[]] # list of lists, as long as the original column\n",
        "  idx = 0\n",
        "  for element in lst:    #NA OP\n",
        "      parts = element.split(' ') #NA #OP\n",
        "      for i in parts: \n",
        "        if i == '': # omit empty strings\n",
        "          continue\n",
        "        registers[idx].append(i) # append to list in list\n",
        "      if len(lst)-1 > idx :\n",
        "        idx = idx+1\n",
        "        registers.insert(idx, []) # add new empty list to list\n",
        "  return registers\n"
      ],
      "execution_count": 0,
      "outputs": []
    },
    {
      "cell_type": "code",
      "metadata": {
        "id": "GI5laiU_0WPw",
        "colab_type": "code",
        "outputId": "59dd3083-24ce-4ae4-ef07-fd1b50acd569",
        "colab": {
          "base_uri": "https://localhost:8080/",
          "height": 225
        }
      },
      "source": [
        "# use combined data formed at the beinning of the notebook\n",
        "\n",
        "print(df.shape)\n",
        "all_regs=from_registers(df['label']) # use custom made function to list the registers\n",
        "df['regs'] = all_regs\n",
        "df.head()"
      ],
      "execution_count": 168,
      "outputs": [
        {
          "output_type": "stream",
          "text": [
            "(7564, 3)\n"
          ],
          "name": "stdout"
        },
        {
          "output_type": "execute_result",
          "data": {
            "text/html": [
              "<div>\n",
              "<style scoped>\n",
              "    .dataframe tbody tr th:only-of-type {\n",
              "        vertical-align: middle;\n",
              "    }\n",
              "\n",
              "    .dataframe tbody tr th {\n",
              "        vertical-align: top;\n",
              "    }\n",
              "\n",
              "    .dataframe thead th {\n",
              "        text-align: right;\n",
              "    }\n",
              "</style>\n",
              "<table border=\"1\" class=\"dataframe\">\n",
              "  <thead>\n",
              "    <tr style=\"text-align: right;\">\n",
              "      <th></th>\n",
              "      <th>label</th>\n",
              "      <th>text</th>\n",
              "      <th>data</th>\n",
              "      <th>regs</th>\n",
              "    </tr>\n",
              "  </thead>\n",
              "  <tbody>\n",
              "    <tr>\n",
              "      <th>0</th>\n",
              "      <td>DS IG</td>\n",
              "      <td>Logistiikka Jenni Lindholm Laskutus Ritva Lie...</td>\n",
              "      <td>train</td>\n",
              "      <td>[DS, IG]</td>\n",
              "    </tr>\n",
              "    <tr>\n",
              "      <th>1</th>\n",
              "      <td>RS OP</td>\n",
              "      <td>Tässä [ [ Ortodoksinen seminaari ( Joensuu ) ...</td>\n",
              "      <td>train</td>\n",
              "      <td>[RS, OP]</td>\n",
              "    </tr>\n",
              "    <tr>\n",
              "      <th>2</th>\n",
              "      <td>NE NA</td>\n",
              "      <td>Koulutuspaikka jokaiselle peruskoulun päättän...</td>\n",
              "      <td>train</td>\n",
              "      <td>[NE, NA]</td>\n",
              "    </tr>\n",
              "    <tr>\n",
              "      <th>3</th>\n",
              "      <td>SR NA</td>\n",
              "      <td>1 Cardiff C–Everton Tasainen kohde . Cardiff ...</td>\n",
              "      <td>train</td>\n",
              "      <td>[SR, NA]</td>\n",
              "    </tr>\n",
              "    <tr>\n",
              "      <th>4</th>\n",
              "      <td>MT OS</td>\n",
              "      <td>Northrop Grumman Q4 2009 tulokset Northrop Gr...</td>\n",
              "      <td>train</td>\n",
              "      <td>[MT, OS]</td>\n",
              "    </tr>\n",
              "  </tbody>\n",
              "</table>\n",
              "</div>"
            ],
            "text/plain": [
              "    label                                               text   data      regs\n",
              "0  DS IG    Logistiikka Jenni Lindholm Laskutus Ritva Lie...  train  [DS, IG]\n",
              "1  RS OP    Tässä [ [ Ortodoksinen seminaari ( Joensuu ) ...  train  [RS, OP]\n",
              "2  NE NA    Koulutuspaikka jokaiselle peruskoulun päättän...  train  [NE, NA]\n",
              "3  SR NA    1 Cardiff C–Everton Tasainen kohde . Cardiff ...  train  [SR, NA]\n",
              "4  MT OS    Northrop Grumman Q4 2009 tulokset Northrop Gr...  train  [MT, OS]"
            ]
          },
          "metadata": {
            "tags": []
          },
          "execution_count": 168
        }
      ]
    },
    {
      "cell_type": "code",
      "metadata": {
        "id": "0qCRyyGd2Y3f",
        "colab_type": "code",
        "colab": {}
      },
      "source": [
        "# # shabby, sloppy way to extract true test labels for BERT\n",
        "# tl = df[['data', 'regs']]\n",
        "# tl = tl[tl['data'] == \"test\"]\n",
        "# true_labels_B = tl['regs'].tolist()\n",
        "# true_labels_B"
      ],
      "execution_count": 0,
      "outputs": []
    },
    {
      "cell_type": "markdown",
      "metadata": {
        "id": "AwsgYM9Q0mVx",
        "colab_type": "text"
      },
      "source": [
        "Next we will turn those registers to one hot encodings"
      ]
    },
    {
      "cell_type": "code",
      "metadata": {
        "id": "hhbMk-Mz9Uj4",
        "colab_type": "code",
        "colab": {
          "base_uri": "https://localhost:8080/",
          "height": 424
        },
        "outputId": "3176573a-ae89-4956-800f-b06b912e3a6b"
      },
      "source": [
        "from sklearn.preprocessing import MultiLabelBinarizer\n",
        "\n",
        "mlb = MultiLabelBinarizer()\n",
        "\n",
        "dummies = pd.DataFrame(mlb.fit_transform(df['regs']), columns=mlb.classes_, index=df.index)\n",
        "\n",
        "dummies"
      ],
      "execution_count": 169,
      "outputs": [
        {
          "output_type": "execute_result",
          "data": {
            "text/html": [
              "<div>\n",
              "<style scoped>\n",
              "    .dataframe tbody tr th:only-of-type {\n",
              "        vertical-align: middle;\n",
              "    }\n",
              "\n",
              "    .dataframe tbody tr th {\n",
              "        vertical-align: top;\n",
              "    }\n",
              "\n",
              "    .dataframe thead th {\n",
              "        text-align: right;\n",
              "    }\n",
              "</style>\n",
              "<table border=\"1\" class=\"dataframe\">\n",
              "  <thead>\n",
              "    <tr style=\"text-align: right;\">\n",
              "      <th></th>\n",
              "      <th>AV</th>\n",
              "      <th>CB</th>\n",
              "      <th>CM</th>\n",
              "      <th>DF</th>\n",
              "      <th>DP</th>\n",
              "      <th>DS</th>\n",
              "      <th>DT</th>\n",
              "      <th>EB</th>\n",
              "      <th>EN</th>\n",
              "      <th>FA</th>\n",
              "      <th>FC</th>\n",
              "      <th>FS</th>\n",
              "      <th>HA</th>\n",
              "      <th>HI</th>\n",
              "      <th>IB</th>\n",
              "      <th>ID</th>\n",
              "      <th>IG</th>\n",
              "      <th>IN</th>\n",
              "      <th>IP</th>\n",
              "      <th>IT</th>\n",
              "      <th>JD</th>\n",
              "      <th>LT</th>\n",
              "      <th>LY</th>\n",
              "      <th>MT</th>\n",
              "      <th>NA</th>\n",
              "      <th>NE</th>\n",
              "      <th>OA</th>\n",
              "      <th>OB</th>\n",
              "      <th>OP</th>\n",
              "      <th>OS</th>\n",
              "      <th>PB</th>\n",
              "      <th>PO</th>\n",
              "      <th>QA</th>\n",
              "      <th>RA</th>\n",
              "      <th>RE</th>\n",
              "      <th>RP</th>\n",
              "      <th>RS</th>\n",
              "      <th>RV</th>\n",
              "      <th>SL</th>\n",
              "      <th>SP</th>\n",
              "      <th>SR</th>\n",
              "      <th>TB</th>\n",
              "    </tr>\n",
              "  </thead>\n",
              "  <tbody>\n",
              "    <tr>\n",
              "      <th>0</th>\n",
              "      <td>0</td>\n",
              "      <td>0</td>\n",
              "      <td>0</td>\n",
              "      <td>0</td>\n",
              "      <td>0</td>\n",
              "      <td>1</td>\n",
              "      <td>0</td>\n",
              "      <td>0</td>\n",
              "      <td>0</td>\n",
              "      <td>0</td>\n",
              "      <td>0</td>\n",
              "      <td>0</td>\n",
              "      <td>0</td>\n",
              "      <td>0</td>\n",
              "      <td>0</td>\n",
              "      <td>0</td>\n",
              "      <td>1</td>\n",
              "      <td>0</td>\n",
              "      <td>0</td>\n",
              "      <td>0</td>\n",
              "      <td>0</td>\n",
              "      <td>0</td>\n",
              "      <td>0</td>\n",
              "      <td>0</td>\n",
              "      <td>0</td>\n",
              "      <td>0</td>\n",
              "      <td>0</td>\n",
              "      <td>0</td>\n",
              "      <td>0</td>\n",
              "      <td>0</td>\n",
              "      <td>0</td>\n",
              "      <td>0</td>\n",
              "      <td>0</td>\n",
              "      <td>0</td>\n",
              "      <td>0</td>\n",
              "      <td>0</td>\n",
              "      <td>0</td>\n",
              "      <td>0</td>\n",
              "      <td>0</td>\n",
              "      <td>0</td>\n",
              "      <td>0</td>\n",
              "      <td>0</td>\n",
              "    </tr>\n",
              "    <tr>\n",
              "      <th>1</th>\n",
              "      <td>0</td>\n",
              "      <td>0</td>\n",
              "      <td>0</td>\n",
              "      <td>0</td>\n",
              "      <td>0</td>\n",
              "      <td>0</td>\n",
              "      <td>0</td>\n",
              "      <td>0</td>\n",
              "      <td>0</td>\n",
              "      <td>0</td>\n",
              "      <td>0</td>\n",
              "      <td>0</td>\n",
              "      <td>0</td>\n",
              "      <td>0</td>\n",
              "      <td>0</td>\n",
              "      <td>0</td>\n",
              "      <td>0</td>\n",
              "      <td>0</td>\n",
              "      <td>0</td>\n",
              "      <td>0</td>\n",
              "      <td>0</td>\n",
              "      <td>0</td>\n",
              "      <td>0</td>\n",
              "      <td>0</td>\n",
              "      <td>0</td>\n",
              "      <td>0</td>\n",
              "      <td>0</td>\n",
              "      <td>0</td>\n",
              "      <td>1</td>\n",
              "      <td>0</td>\n",
              "      <td>0</td>\n",
              "      <td>0</td>\n",
              "      <td>0</td>\n",
              "      <td>0</td>\n",
              "      <td>0</td>\n",
              "      <td>0</td>\n",
              "      <td>1</td>\n",
              "      <td>0</td>\n",
              "      <td>0</td>\n",
              "      <td>0</td>\n",
              "      <td>0</td>\n",
              "      <td>0</td>\n",
              "    </tr>\n",
              "    <tr>\n",
              "      <th>2</th>\n",
              "      <td>0</td>\n",
              "      <td>0</td>\n",
              "      <td>0</td>\n",
              "      <td>0</td>\n",
              "      <td>0</td>\n",
              "      <td>0</td>\n",
              "      <td>0</td>\n",
              "      <td>0</td>\n",
              "      <td>0</td>\n",
              "      <td>0</td>\n",
              "      <td>0</td>\n",
              "      <td>0</td>\n",
              "      <td>0</td>\n",
              "      <td>0</td>\n",
              "      <td>0</td>\n",
              "      <td>0</td>\n",
              "      <td>0</td>\n",
              "      <td>0</td>\n",
              "      <td>0</td>\n",
              "      <td>0</td>\n",
              "      <td>0</td>\n",
              "      <td>0</td>\n",
              "      <td>0</td>\n",
              "      <td>0</td>\n",
              "      <td>1</td>\n",
              "      <td>1</td>\n",
              "      <td>0</td>\n",
              "      <td>0</td>\n",
              "      <td>0</td>\n",
              "      <td>0</td>\n",
              "      <td>0</td>\n",
              "      <td>0</td>\n",
              "      <td>0</td>\n",
              "      <td>0</td>\n",
              "      <td>0</td>\n",
              "      <td>0</td>\n",
              "      <td>0</td>\n",
              "      <td>0</td>\n",
              "      <td>0</td>\n",
              "      <td>0</td>\n",
              "      <td>0</td>\n",
              "      <td>0</td>\n",
              "    </tr>\n",
              "    <tr>\n",
              "      <th>3</th>\n",
              "      <td>0</td>\n",
              "      <td>0</td>\n",
              "      <td>0</td>\n",
              "      <td>0</td>\n",
              "      <td>0</td>\n",
              "      <td>0</td>\n",
              "      <td>0</td>\n",
              "      <td>0</td>\n",
              "      <td>0</td>\n",
              "      <td>0</td>\n",
              "      <td>0</td>\n",
              "      <td>0</td>\n",
              "      <td>0</td>\n",
              "      <td>0</td>\n",
              "      <td>0</td>\n",
              "      <td>0</td>\n",
              "      <td>0</td>\n",
              "      <td>0</td>\n",
              "      <td>0</td>\n",
              "      <td>0</td>\n",
              "      <td>0</td>\n",
              "      <td>0</td>\n",
              "      <td>0</td>\n",
              "      <td>0</td>\n",
              "      <td>1</td>\n",
              "      <td>0</td>\n",
              "      <td>0</td>\n",
              "      <td>0</td>\n",
              "      <td>0</td>\n",
              "      <td>0</td>\n",
              "      <td>0</td>\n",
              "      <td>0</td>\n",
              "      <td>0</td>\n",
              "      <td>0</td>\n",
              "      <td>0</td>\n",
              "      <td>0</td>\n",
              "      <td>0</td>\n",
              "      <td>0</td>\n",
              "      <td>0</td>\n",
              "      <td>0</td>\n",
              "      <td>1</td>\n",
              "      <td>0</td>\n",
              "    </tr>\n",
              "    <tr>\n",
              "      <th>4</th>\n",
              "      <td>0</td>\n",
              "      <td>0</td>\n",
              "      <td>0</td>\n",
              "      <td>0</td>\n",
              "      <td>0</td>\n",
              "      <td>0</td>\n",
              "      <td>0</td>\n",
              "      <td>0</td>\n",
              "      <td>0</td>\n",
              "      <td>0</td>\n",
              "      <td>0</td>\n",
              "      <td>0</td>\n",
              "      <td>0</td>\n",
              "      <td>0</td>\n",
              "      <td>0</td>\n",
              "      <td>0</td>\n",
              "      <td>0</td>\n",
              "      <td>0</td>\n",
              "      <td>0</td>\n",
              "      <td>0</td>\n",
              "      <td>0</td>\n",
              "      <td>0</td>\n",
              "      <td>0</td>\n",
              "      <td>1</td>\n",
              "      <td>0</td>\n",
              "      <td>0</td>\n",
              "      <td>0</td>\n",
              "      <td>0</td>\n",
              "      <td>0</td>\n",
              "      <td>1</td>\n",
              "      <td>0</td>\n",
              "      <td>0</td>\n",
              "      <td>0</td>\n",
              "      <td>0</td>\n",
              "      <td>0</td>\n",
              "      <td>0</td>\n",
              "      <td>0</td>\n",
              "      <td>0</td>\n",
              "      <td>0</td>\n",
              "      <td>0</td>\n",
              "      <td>0</td>\n",
              "      <td>0</td>\n",
              "    </tr>\n",
              "    <tr>\n",
              "      <th>...</th>\n",
              "      <td>...</td>\n",
              "      <td>...</td>\n",
              "      <td>...</td>\n",
              "      <td>...</td>\n",
              "      <td>...</td>\n",
              "      <td>...</td>\n",
              "      <td>...</td>\n",
              "      <td>...</td>\n",
              "      <td>...</td>\n",
              "      <td>...</td>\n",
              "      <td>...</td>\n",
              "      <td>...</td>\n",
              "      <td>...</td>\n",
              "      <td>...</td>\n",
              "      <td>...</td>\n",
              "      <td>...</td>\n",
              "      <td>...</td>\n",
              "      <td>...</td>\n",
              "      <td>...</td>\n",
              "      <td>...</td>\n",
              "      <td>...</td>\n",
              "      <td>...</td>\n",
              "      <td>...</td>\n",
              "      <td>...</td>\n",
              "      <td>...</td>\n",
              "      <td>...</td>\n",
              "      <td>...</td>\n",
              "      <td>...</td>\n",
              "      <td>...</td>\n",
              "      <td>...</td>\n",
              "      <td>...</td>\n",
              "      <td>...</td>\n",
              "      <td>...</td>\n",
              "      <td>...</td>\n",
              "      <td>...</td>\n",
              "      <td>...</td>\n",
              "      <td>...</td>\n",
              "      <td>...</td>\n",
              "      <td>...</td>\n",
              "      <td>...</td>\n",
              "      <td>...</td>\n",
              "      <td>...</td>\n",
              "    </tr>\n",
              "    <tr>\n",
              "      <th>7559</th>\n",
              "      <td>0</td>\n",
              "      <td>0</td>\n",
              "      <td>0</td>\n",
              "      <td>0</td>\n",
              "      <td>0</td>\n",
              "      <td>0</td>\n",
              "      <td>0</td>\n",
              "      <td>0</td>\n",
              "      <td>0</td>\n",
              "      <td>0</td>\n",
              "      <td>0</td>\n",
              "      <td>0</td>\n",
              "      <td>0</td>\n",
              "      <td>0</td>\n",
              "      <td>0</td>\n",
              "      <td>0</td>\n",
              "      <td>0</td>\n",
              "      <td>0</td>\n",
              "      <td>0</td>\n",
              "      <td>0</td>\n",
              "      <td>0</td>\n",
              "      <td>0</td>\n",
              "      <td>0</td>\n",
              "      <td>0</td>\n",
              "      <td>0</td>\n",
              "      <td>0</td>\n",
              "      <td>0</td>\n",
              "      <td>1</td>\n",
              "      <td>1</td>\n",
              "      <td>0</td>\n",
              "      <td>0</td>\n",
              "      <td>0</td>\n",
              "      <td>0</td>\n",
              "      <td>0</td>\n",
              "      <td>0</td>\n",
              "      <td>0</td>\n",
              "      <td>0</td>\n",
              "      <td>0</td>\n",
              "      <td>0</td>\n",
              "      <td>0</td>\n",
              "      <td>0</td>\n",
              "      <td>0</td>\n",
              "    </tr>\n",
              "    <tr>\n",
              "      <th>7560</th>\n",
              "      <td>0</td>\n",
              "      <td>0</td>\n",
              "      <td>0</td>\n",
              "      <td>0</td>\n",
              "      <td>0</td>\n",
              "      <td>0</td>\n",
              "      <td>0</td>\n",
              "      <td>0</td>\n",
              "      <td>0</td>\n",
              "      <td>0</td>\n",
              "      <td>0</td>\n",
              "      <td>0</td>\n",
              "      <td>0</td>\n",
              "      <td>0</td>\n",
              "      <td>0</td>\n",
              "      <td>0</td>\n",
              "      <td>0</td>\n",
              "      <td>0</td>\n",
              "      <td>0</td>\n",
              "      <td>0</td>\n",
              "      <td>0</td>\n",
              "      <td>0</td>\n",
              "      <td>0</td>\n",
              "      <td>1</td>\n",
              "      <td>0</td>\n",
              "      <td>0</td>\n",
              "      <td>0</td>\n",
              "      <td>0</td>\n",
              "      <td>0</td>\n",
              "      <td>1</td>\n",
              "      <td>0</td>\n",
              "      <td>0</td>\n",
              "      <td>0</td>\n",
              "      <td>0</td>\n",
              "      <td>0</td>\n",
              "      <td>0</td>\n",
              "      <td>0</td>\n",
              "      <td>0</td>\n",
              "      <td>0</td>\n",
              "      <td>0</td>\n",
              "      <td>0</td>\n",
              "      <td>0</td>\n",
              "    </tr>\n",
              "    <tr>\n",
              "      <th>7561</th>\n",
              "      <td>0</td>\n",
              "      <td>0</td>\n",
              "      <td>0</td>\n",
              "      <td>0</td>\n",
              "      <td>0</td>\n",
              "      <td>0</td>\n",
              "      <td>0</td>\n",
              "      <td>0</td>\n",
              "      <td>0</td>\n",
              "      <td>0</td>\n",
              "      <td>0</td>\n",
              "      <td>0</td>\n",
              "      <td>0</td>\n",
              "      <td>0</td>\n",
              "      <td>0</td>\n",
              "      <td>0</td>\n",
              "      <td>0</td>\n",
              "      <td>0</td>\n",
              "      <td>0</td>\n",
              "      <td>0</td>\n",
              "      <td>0</td>\n",
              "      <td>0</td>\n",
              "      <td>0</td>\n",
              "      <td>0</td>\n",
              "      <td>1</td>\n",
              "      <td>0</td>\n",
              "      <td>1</td>\n",
              "      <td>0</td>\n",
              "      <td>0</td>\n",
              "      <td>0</td>\n",
              "      <td>0</td>\n",
              "      <td>0</td>\n",
              "      <td>0</td>\n",
              "      <td>0</td>\n",
              "      <td>0</td>\n",
              "      <td>0</td>\n",
              "      <td>0</td>\n",
              "      <td>0</td>\n",
              "      <td>0</td>\n",
              "      <td>0</td>\n",
              "      <td>0</td>\n",
              "      <td>0</td>\n",
              "    </tr>\n",
              "    <tr>\n",
              "      <th>7562</th>\n",
              "      <td>0</td>\n",
              "      <td>0</td>\n",
              "      <td>0</td>\n",
              "      <td>0</td>\n",
              "      <td>0</td>\n",
              "      <td>0</td>\n",
              "      <td>0</td>\n",
              "      <td>0</td>\n",
              "      <td>0</td>\n",
              "      <td>0</td>\n",
              "      <td>0</td>\n",
              "      <td>0</td>\n",
              "      <td>0</td>\n",
              "      <td>0</td>\n",
              "      <td>0</td>\n",
              "      <td>0</td>\n",
              "      <td>0</td>\n",
              "      <td>0</td>\n",
              "      <td>0</td>\n",
              "      <td>0</td>\n",
              "      <td>0</td>\n",
              "      <td>0</td>\n",
              "      <td>0</td>\n",
              "      <td>0</td>\n",
              "      <td>1</td>\n",
              "      <td>0</td>\n",
              "      <td>0</td>\n",
              "      <td>0</td>\n",
              "      <td>0</td>\n",
              "      <td>0</td>\n",
              "      <td>1</td>\n",
              "      <td>0</td>\n",
              "      <td>0</td>\n",
              "      <td>0</td>\n",
              "      <td>0</td>\n",
              "      <td>0</td>\n",
              "      <td>0</td>\n",
              "      <td>0</td>\n",
              "      <td>0</td>\n",
              "      <td>0</td>\n",
              "      <td>0</td>\n",
              "      <td>0</td>\n",
              "    </tr>\n",
              "    <tr>\n",
              "      <th>7563</th>\n",
              "      <td>0</td>\n",
              "      <td>0</td>\n",
              "      <td>0</td>\n",
              "      <td>0</td>\n",
              "      <td>0</td>\n",
              "      <td>0</td>\n",
              "      <td>0</td>\n",
              "      <td>0</td>\n",
              "      <td>0</td>\n",
              "      <td>0</td>\n",
              "      <td>0</td>\n",
              "      <td>0</td>\n",
              "      <td>0</td>\n",
              "      <td>0</td>\n",
              "      <td>0</td>\n",
              "      <td>0</td>\n",
              "      <td>0</td>\n",
              "      <td>0</td>\n",
              "      <td>0</td>\n",
              "      <td>0</td>\n",
              "      <td>0</td>\n",
              "      <td>0</td>\n",
              "      <td>0</td>\n",
              "      <td>1</td>\n",
              "      <td>0</td>\n",
              "      <td>0</td>\n",
              "      <td>0</td>\n",
              "      <td>0</td>\n",
              "      <td>0</td>\n",
              "      <td>1</td>\n",
              "      <td>0</td>\n",
              "      <td>0</td>\n",
              "      <td>0</td>\n",
              "      <td>0</td>\n",
              "      <td>0</td>\n",
              "      <td>0</td>\n",
              "      <td>0</td>\n",
              "      <td>0</td>\n",
              "      <td>0</td>\n",
              "      <td>0</td>\n",
              "      <td>0</td>\n",
              "      <td>0</td>\n",
              "    </tr>\n",
              "  </tbody>\n",
              "</table>\n",
              "<p>7564 rows × 42 columns</p>\n",
              "</div>"
            ],
            "text/plain": [
              "      AV  CB  CM  DF  DP  DS  DT  EB  EN  ...  RA  RE  RP  RS  RV  SL  SP  SR  TB\n",
              "0      0   0   0   0   0   1   0   0   0  ...   0   0   0   0   0   0   0   0   0\n",
              "1      0   0   0   0   0   0   0   0   0  ...   0   0   0   1   0   0   0   0   0\n",
              "2      0   0   0   0   0   0   0   0   0  ...   0   0   0   0   0   0   0   0   0\n",
              "3      0   0   0   0   0   0   0   0   0  ...   0   0   0   0   0   0   0   1   0\n",
              "4      0   0   0   0   0   0   0   0   0  ...   0   0   0   0   0   0   0   0   0\n",
              "...   ..  ..  ..  ..  ..  ..  ..  ..  ..  ...  ..  ..  ..  ..  ..  ..  ..  ..  ..\n",
              "7559   0   0   0   0   0   0   0   0   0  ...   0   0   0   0   0   0   0   0   0\n",
              "7560   0   0   0   0   0   0   0   0   0  ...   0   0   0   0   0   0   0   0   0\n",
              "7561   0   0   0   0   0   0   0   0   0  ...   0   0   0   0   0   0   0   0   0\n",
              "7562   0   0   0   0   0   0   0   0   0  ...   0   0   0   0   0   0   0   0   0\n",
              "7563   0   0   0   0   0   0   0   0   0  ...   0   0   0   0   0   0   0   0   0\n",
              "\n",
              "[7564 rows x 42 columns]"
            ]
          },
          "metadata": {
            "tags": []
          },
          "execution_count": 169
        }
      ]
    },
    {
      "cell_type": "code",
      "metadata": {
        "id": "NEmtJxJ-WQZ2",
        "colab_type": "code",
        "outputId": "3ccd1e5f-4cce-42b0-dd20-efa6eff5116c",
        "colab": {
          "base_uri": "https://localhost:8080/",
          "height": 504
        }
      },
      "source": [
        "df =pd.concat([df, dummies], axis=1)\n",
        "\n",
        "df.head()"
      ],
      "execution_count": 170,
      "outputs": [
        {
          "output_type": "execute_result",
          "data": {
            "text/html": [
              "<div>\n",
              "<style scoped>\n",
              "    .dataframe tbody tr th:only-of-type {\n",
              "        vertical-align: middle;\n",
              "    }\n",
              "\n",
              "    .dataframe tbody tr th {\n",
              "        vertical-align: top;\n",
              "    }\n",
              "\n",
              "    .dataframe thead th {\n",
              "        text-align: right;\n",
              "    }\n",
              "</style>\n",
              "<table border=\"1\" class=\"dataframe\">\n",
              "  <thead>\n",
              "    <tr style=\"text-align: right;\">\n",
              "      <th></th>\n",
              "      <th>label</th>\n",
              "      <th>text</th>\n",
              "      <th>data</th>\n",
              "      <th>regs</th>\n",
              "      <th>AV</th>\n",
              "      <th>CB</th>\n",
              "      <th>CM</th>\n",
              "      <th>DF</th>\n",
              "      <th>DP</th>\n",
              "      <th>DS</th>\n",
              "      <th>DT</th>\n",
              "      <th>EB</th>\n",
              "      <th>EN</th>\n",
              "      <th>FA</th>\n",
              "      <th>FC</th>\n",
              "      <th>FS</th>\n",
              "      <th>HA</th>\n",
              "      <th>HI</th>\n",
              "      <th>IB</th>\n",
              "      <th>ID</th>\n",
              "      <th>IG</th>\n",
              "      <th>IN</th>\n",
              "      <th>IP</th>\n",
              "      <th>IT</th>\n",
              "      <th>JD</th>\n",
              "      <th>LT</th>\n",
              "      <th>LY</th>\n",
              "      <th>MT</th>\n",
              "      <th>NA</th>\n",
              "      <th>NE</th>\n",
              "      <th>OA</th>\n",
              "      <th>OB</th>\n",
              "      <th>OP</th>\n",
              "      <th>OS</th>\n",
              "      <th>PB</th>\n",
              "      <th>PO</th>\n",
              "      <th>QA</th>\n",
              "      <th>RA</th>\n",
              "      <th>RE</th>\n",
              "      <th>RP</th>\n",
              "      <th>RS</th>\n",
              "      <th>RV</th>\n",
              "      <th>SL</th>\n",
              "      <th>SP</th>\n",
              "      <th>SR</th>\n",
              "      <th>TB</th>\n",
              "    </tr>\n",
              "  </thead>\n",
              "  <tbody>\n",
              "    <tr>\n",
              "      <th>0</th>\n",
              "      <td>DS IG</td>\n",
              "      <td>Logistiikka Jenni Lindholm Laskutus Ritva Lie...</td>\n",
              "      <td>train</td>\n",
              "      <td>[DS, IG]</td>\n",
              "      <td>0</td>\n",
              "      <td>0</td>\n",
              "      <td>0</td>\n",
              "      <td>0</td>\n",
              "      <td>0</td>\n",
              "      <td>1</td>\n",
              "      <td>0</td>\n",
              "      <td>0</td>\n",
              "      <td>0</td>\n",
              "      <td>0</td>\n",
              "      <td>0</td>\n",
              "      <td>0</td>\n",
              "      <td>0</td>\n",
              "      <td>0</td>\n",
              "      <td>0</td>\n",
              "      <td>0</td>\n",
              "      <td>1</td>\n",
              "      <td>0</td>\n",
              "      <td>0</td>\n",
              "      <td>0</td>\n",
              "      <td>0</td>\n",
              "      <td>0</td>\n",
              "      <td>0</td>\n",
              "      <td>0</td>\n",
              "      <td>0</td>\n",
              "      <td>0</td>\n",
              "      <td>0</td>\n",
              "      <td>0</td>\n",
              "      <td>0</td>\n",
              "      <td>0</td>\n",
              "      <td>0</td>\n",
              "      <td>0</td>\n",
              "      <td>0</td>\n",
              "      <td>0</td>\n",
              "      <td>0</td>\n",
              "      <td>0</td>\n",
              "      <td>0</td>\n",
              "      <td>0</td>\n",
              "      <td>0</td>\n",
              "      <td>0</td>\n",
              "      <td>0</td>\n",
              "      <td>0</td>\n",
              "    </tr>\n",
              "    <tr>\n",
              "      <th>1</th>\n",
              "      <td>RS OP</td>\n",
              "      <td>Tässä [ [ Ortodoksinen seminaari ( Joensuu ) ...</td>\n",
              "      <td>train</td>\n",
              "      <td>[RS, OP]</td>\n",
              "      <td>0</td>\n",
              "      <td>0</td>\n",
              "      <td>0</td>\n",
              "      <td>0</td>\n",
              "      <td>0</td>\n",
              "      <td>0</td>\n",
              "      <td>0</td>\n",
              "      <td>0</td>\n",
              "      <td>0</td>\n",
              "      <td>0</td>\n",
              "      <td>0</td>\n",
              "      <td>0</td>\n",
              "      <td>0</td>\n",
              "      <td>0</td>\n",
              "      <td>0</td>\n",
              "      <td>0</td>\n",
              "      <td>0</td>\n",
              "      <td>0</td>\n",
              "      <td>0</td>\n",
              "      <td>0</td>\n",
              "      <td>0</td>\n",
              "      <td>0</td>\n",
              "      <td>0</td>\n",
              "      <td>0</td>\n",
              "      <td>0</td>\n",
              "      <td>0</td>\n",
              "      <td>0</td>\n",
              "      <td>0</td>\n",
              "      <td>1</td>\n",
              "      <td>0</td>\n",
              "      <td>0</td>\n",
              "      <td>0</td>\n",
              "      <td>0</td>\n",
              "      <td>0</td>\n",
              "      <td>0</td>\n",
              "      <td>0</td>\n",
              "      <td>1</td>\n",
              "      <td>0</td>\n",
              "      <td>0</td>\n",
              "      <td>0</td>\n",
              "      <td>0</td>\n",
              "      <td>0</td>\n",
              "    </tr>\n",
              "    <tr>\n",
              "      <th>2</th>\n",
              "      <td>NE NA</td>\n",
              "      <td>Koulutuspaikka jokaiselle peruskoulun päättän...</td>\n",
              "      <td>train</td>\n",
              "      <td>[NE, NA]</td>\n",
              "      <td>0</td>\n",
              "      <td>0</td>\n",
              "      <td>0</td>\n",
              "      <td>0</td>\n",
              "      <td>0</td>\n",
              "      <td>0</td>\n",
              "      <td>0</td>\n",
              "      <td>0</td>\n",
              "      <td>0</td>\n",
              "      <td>0</td>\n",
              "      <td>0</td>\n",
              "      <td>0</td>\n",
              "      <td>0</td>\n",
              "      <td>0</td>\n",
              "      <td>0</td>\n",
              "      <td>0</td>\n",
              "      <td>0</td>\n",
              "      <td>0</td>\n",
              "      <td>0</td>\n",
              "      <td>0</td>\n",
              "      <td>0</td>\n",
              "      <td>0</td>\n",
              "      <td>0</td>\n",
              "      <td>0</td>\n",
              "      <td>1</td>\n",
              "      <td>1</td>\n",
              "      <td>0</td>\n",
              "      <td>0</td>\n",
              "      <td>0</td>\n",
              "      <td>0</td>\n",
              "      <td>0</td>\n",
              "      <td>0</td>\n",
              "      <td>0</td>\n",
              "      <td>0</td>\n",
              "      <td>0</td>\n",
              "      <td>0</td>\n",
              "      <td>0</td>\n",
              "      <td>0</td>\n",
              "      <td>0</td>\n",
              "      <td>0</td>\n",
              "      <td>0</td>\n",
              "      <td>0</td>\n",
              "    </tr>\n",
              "    <tr>\n",
              "      <th>3</th>\n",
              "      <td>SR NA</td>\n",
              "      <td>1 Cardiff C–Everton Tasainen kohde . Cardiff ...</td>\n",
              "      <td>train</td>\n",
              "      <td>[SR, NA]</td>\n",
              "      <td>0</td>\n",
              "      <td>0</td>\n",
              "      <td>0</td>\n",
              "      <td>0</td>\n",
              "      <td>0</td>\n",
              "      <td>0</td>\n",
              "      <td>0</td>\n",
              "      <td>0</td>\n",
              "      <td>0</td>\n",
              "      <td>0</td>\n",
              "      <td>0</td>\n",
              "      <td>0</td>\n",
              "      <td>0</td>\n",
              "      <td>0</td>\n",
              "      <td>0</td>\n",
              "      <td>0</td>\n",
              "      <td>0</td>\n",
              "      <td>0</td>\n",
              "      <td>0</td>\n",
              "      <td>0</td>\n",
              "      <td>0</td>\n",
              "      <td>0</td>\n",
              "      <td>0</td>\n",
              "      <td>0</td>\n",
              "      <td>1</td>\n",
              "      <td>0</td>\n",
              "      <td>0</td>\n",
              "      <td>0</td>\n",
              "      <td>0</td>\n",
              "      <td>0</td>\n",
              "      <td>0</td>\n",
              "      <td>0</td>\n",
              "      <td>0</td>\n",
              "      <td>0</td>\n",
              "      <td>0</td>\n",
              "      <td>0</td>\n",
              "      <td>0</td>\n",
              "      <td>0</td>\n",
              "      <td>0</td>\n",
              "      <td>0</td>\n",
              "      <td>1</td>\n",
              "      <td>0</td>\n",
              "    </tr>\n",
              "    <tr>\n",
              "      <th>4</th>\n",
              "      <td>MT OS</td>\n",
              "      <td>Northrop Grumman Q4 2009 tulokset Northrop Gr...</td>\n",
              "      <td>train</td>\n",
              "      <td>[MT, OS]</td>\n",
              "      <td>0</td>\n",
              "      <td>0</td>\n",
              "      <td>0</td>\n",
              "      <td>0</td>\n",
              "      <td>0</td>\n",
              "      <td>0</td>\n",
              "      <td>0</td>\n",
              "      <td>0</td>\n",
              "      <td>0</td>\n",
              "      <td>0</td>\n",
              "      <td>0</td>\n",
              "      <td>0</td>\n",
              "      <td>0</td>\n",
              "      <td>0</td>\n",
              "      <td>0</td>\n",
              "      <td>0</td>\n",
              "      <td>0</td>\n",
              "      <td>0</td>\n",
              "      <td>0</td>\n",
              "      <td>0</td>\n",
              "      <td>0</td>\n",
              "      <td>0</td>\n",
              "      <td>0</td>\n",
              "      <td>1</td>\n",
              "      <td>0</td>\n",
              "      <td>0</td>\n",
              "      <td>0</td>\n",
              "      <td>0</td>\n",
              "      <td>0</td>\n",
              "      <td>1</td>\n",
              "      <td>0</td>\n",
              "      <td>0</td>\n",
              "      <td>0</td>\n",
              "      <td>0</td>\n",
              "      <td>0</td>\n",
              "      <td>0</td>\n",
              "      <td>0</td>\n",
              "      <td>0</td>\n",
              "      <td>0</td>\n",
              "      <td>0</td>\n",
              "      <td>0</td>\n",
              "      <td>0</td>\n",
              "    </tr>\n",
              "  </tbody>\n",
              "</table>\n",
              "</div>"
            ],
            "text/plain": [
              "    label                                               text   data  ... SP  SR  TB\n",
              "0  DS IG    Logistiikka Jenni Lindholm Laskutus Ritva Lie...  train  ...  0   0   0\n",
              "1  RS OP    Tässä [ [ Ortodoksinen seminaari ( Joensuu ) ...  train  ...  0   0   0\n",
              "2  NE NA    Koulutuspaikka jokaiselle peruskoulun päättän...  train  ...  0   0   0\n",
              "3  SR NA    1 Cardiff C–Everton Tasainen kohde . Cardiff ...  train  ...  0   1   0\n",
              "4  MT OS    Northrop Grumman Q4 2009 tulokset Northrop Gr...  train  ...  0   0   0\n",
              "\n",
              "[5 rows x 46 columns]"
            ]
          },
          "metadata": {
            "tags": []
          },
          "execution_count": 170
        }
      ]
    },
    {
      "cell_type": "code",
      "metadata": {
        "id": "qJz7I5ZbmlOo",
        "colab_type": "code",
        "outputId": "81ff1adf-6e53-4506-a552-c08b2164ff86",
        "colab": {
          "base_uri": "https://localhost:8080/",
          "height": 91
        }
      },
      "source": [
        "subregs = np.setdiff1d(mlb.classes_, hiregs)\n",
        "subregs"
      ],
      "execution_count": 158,
      "outputs": [
        {
          "output_type": "execute_result",
          "data": {
            "text/plain": [
              "array(['AV', 'CB', 'CM', 'DF', 'DP', 'DS', 'DT', 'EB', 'EN', 'FA', 'FC',\n",
              "       'FS', 'HA', 'IB', 'IT', 'JD', 'LT', 'MT', 'NE', 'OA', 'OB', 'PB',\n",
              "       'PO', 'QA', 'RA', 'RE', 'RP', 'RS', 'RV', 'SL', 'SR', 'TB'],\n",
              "      dtype=object)"
            ]
          },
          "metadata": {
            "tags": []
          },
          "execution_count": 158
        }
      ]
    },
    {
      "cell_type": "code",
      "metadata": {
        "id": "9FCQ2W_8f5vV",
        "colab_type": "code",
        "outputId": "1d3ab661-25ad-4497-f435-a4ca1b95601b",
        "colab": {
          "base_uri": "https://localhost:8080/",
          "height": 407
        }
      },
      "source": [
        "# separate X (features) and Y (labels) for training data and x and y for development data\n",
        "\n",
        "# train\n",
        "X = train['text'] # feat\n",
        "Y = train.drop(['label','text', 'data'], axis=1) # label\n",
        "\n",
        "# dev\n",
        "x = dev['text']\n",
        "y = dev.drop(['label','text', 'data'], axis=1)\n",
        "\n",
        "# test\n",
        "test_feats = test['text']\n",
        "true_labels= test.drop(['label','text', 'data'], axis=1)\n",
        "Y"
      ],
      "execution_count": 171,
      "outputs": [
        {
          "output_type": "execute_result",
          "data": {
            "text/html": [
              "<div>\n",
              "<style scoped>\n",
              "    .dataframe tbody tr th:only-of-type {\n",
              "        vertical-align: middle;\n",
              "    }\n",
              "\n",
              "    .dataframe tbody tr th {\n",
              "        vertical-align: top;\n",
              "    }\n",
              "\n",
              "    .dataframe thead th {\n",
              "        text-align: right;\n",
              "    }\n",
              "</style>\n",
              "<table border=\"1\" class=\"dataframe\">\n",
              "  <thead>\n",
              "    <tr style=\"text-align: right;\">\n",
              "      <th></th>\n",
              "    </tr>\n",
              "  </thead>\n",
              "  <tbody>\n",
              "    <tr>\n",
              "      <th>3982</th>\n",
              "    </tr>\n",
              "    <tr>\n",
              "      <th>2640</th>\n",
              "    </tr>\n",
              "    <tr>\n",
              "      <th>119</th>\n",
              "    </tr>\n",
              "    <tr>\n",
              "      <th>4916</th>\n",
              "    </tr>\n",
              "    <tr>\n",
              "      <th>775</th>\n",
              "    </tr>\n",
              "    <tr>\n",
              "      <th>...</th>\n",
              "    </tr>\n",
              "    <tr>\n",
              "      <th>3671</th>\n",
              "    </tr>\n",
              "    <tr>\n",
              "      <th>709</th>\n",
              "    </tr>\n",
              "    <tr>\n",
              "      <th>2487</th>\n",
              "    </tr>\n",
              "    <tr>\n",
              "      <th>174</th>\n",
              "    </tr>\n",
              "    <tr>\n",
              "      <th>1146</th>\n",
              "    </tr>\n",
              "  </tbody>\n",
              "</table>\n",
              "<p>5295 rows × 0 columns</p>\n",
              "</div>"
            ],
            "text/plain": [
              "Empty DataFrame\n",
              "Columns: []\n",
              "Index: [3982, 2640, 119, 4916, 775, 5264, 5040, 3446, 216, 863, 1022, 1061, 5203, 1458, 3968, 1310, 3910, 897, 387, 3765, 4540, 2474, 856, 4589, 1079, 3004, 4894, 4870, 862, 4944, 348, 158, 4599, 4740, 4678, 616, 1123, 2424, 4431, 507, 2637, 5197, 1166, 4410, 2544, 3368, 4613, 2035, 3781, 131, 2189, 1613, 3267, 165, 2644, 581, 4107, 5242, 4434, 227, 1903, 2315, 3985, 1321, 260, 4008, 3328, 3466, 2210, 949, 3138, 2612, 4994, 3096, 4922, 4550, 2730, 3477, 3739, 1549, 1976, 2583, 4635, 1307, 4144, 1287, 2770, 4958, 719, 2360, 3714, 973, 5262, 5202, 5232, 2591, 2624, 5218, 1910, 2118, ...]\n",
              "\n",
              "[5295 rows x 0 columns]"
            ]
          },
          "metadata": {
            "tags": []
          },
          "execution_count": 171
        }
      ]
    },
    {
      "cell_type": "code",
      "metadata": {
        "id": "inhn9BbbcJTl",
        "colab_type": "code",
        "outputId": "189fba42-dd48-46e4-8419-2ee262b83fe0",
        "colab": {
          "base_uri": "https://localhost:8080/",
          "height": 73
        }
      },
      "source": [
        "# separate train, test and dev datas from one hot encoded combined dataset\n",
        "\n",
        "train = df[df['data'] == 'train'] \n",
        "test = df[df['data'] == 'test'] \n",
        "dev = df[df['data'] == 'dev'] \n",
        "\n",
        "# for grid search (maybe not needed/used)\n",
        "joint = df[df['data'] != 'test'] \n",
        "\n",
        "print(train.shape)\n",
        "print(test.shape)\n",
        "print(dev.shape)\n"
      ],
      "execution_count": 174,
      "outputs": [
        {
          "output_type": "stream",
          "text": [
            "(5295, 46)\n",
            "(1513, 46)\n",
            "(756, 46)\n"
          ],
          "name": "stdout"
        }
      ]
    },
    {
      "cell_type": "markdown",
      "metadata": {
        "id": "Xtm800nFKgNE",
        "colab_type": "text"
      },
      "source": [
        "## Linear support vector machine (SVM)\n",
        "\n",
        "SVM which is widely regarded as one of the best text classification algorithms (although it’s also a bit slower than naïve Bayes). https://scikit-learn.org/stable/tutorial/text_analytics/working_with_text_data.html\n",
        "\n",
        "\n",
        "Scikit documentation https://scikit-learn.org/stable/modules/generated/sklearn.multioutput.MultiOutputClassifier.html#sklearn.multioutput.MultiOutputClassifier\n",
        "\n",
        "tutorial: https://www.datatechnotes.com/2020/03/multi-output-classification-with-multioutputclassifier.html"
      ]
    },
    {
      "cell_type": "code",
      "metadata": {
        "id": "dICpVrYx-jHd",
        "colab_type": "code",
        "colab": {}
      },
      "source": [
        "# list = np.empty(len(Y))\n",
        "# list = []\n",
        "# type(list)\n",
        "# list.insert(0,(y.iloc[3].values))\n",
        "# list.insert(0,(y.iloc[4].values))\n",
        "# list"
      ],
      "execution_count": 0,
      "outputs": []
    },
    {
      "cell_type": "code",
      "metadata": {
        "id": "QGKnrgw70nnO",
        "colab_type": "code",
        "colab": {}
      },
      "source": [
        "# # for grid search:\n",
        "# XG = joint['text'] # features \n",
        "# YG = joint.drop(['label','text', 'data'], axis=1) # labels\n",
        "# print(YG.head())\n",
        "# print(YG.values[0])\n",
        "# YG.values.shape"
      ],
      "execution_count": 0,
      "outputs": []
    },
    {
      "cell_type": "code",
      "metadata": {
        "id": "eAIrQZ5JlyXx",
        "colab_type": "code",
        "outputId": "4a15f90d-80aa-433e-ccc5-4db4effaec28",
        "colab": {
          "base_uri": "https://localhost:8080/",
          "height": 54
        }
      },
      "source": [
        "# form feature matrixes\n",
        "from sklearn.preprocessing import StandardScaler\n",
        "\n",
        "vectorizer = TfidfVectorizer(max_features = 20000, ngram_range = (1,1)) \n",
        "\n",
        "train_feature_matrix = vectorizer.fit_transform(X)\n",
        "dev_feature_matrix = vectorizer.transform(x)\n",
        "test_feature_matrix = vectorizer.transform(test_feats)\n",
        "\n",
        "# for grid search:\n",
        "# XG = vectorizer.fit_transform(XG)\n",
        "\n",
        "# Scale input data for SVM\n",
        "scaler = StandardScaler(with_mean=False)\n",
        "\n",
        "train_fm = scaler.fit_transform(train_feature_matrix)\n",
        "dev_fm = scaler.transform(dev_feature_matrix)\n",
        "test_fm = scaler.transform(test_feature_matrix)\n",
        "\n",
        "print(\"shape of the training data: \", train_fm.shape)\n",
        "print(\"shape of the development data: \", dev_fm.shape)\n",
        "# print(\"shape of the  data: \", XG.shape)"
      ],
      "execution_count": 73,
      "outputs": [
        {
          "output_type": "stream",
          "text": [
            "shape of the training data:  (5295, 20000)\n",
            "shape of the development data:  (756, 20000)\n"
          ],
          "name": "stdout"
        }
      ]
    },
    {
      "cell_type": "code",
      "metadata": {
        "id": "UawS5wlqCTzN",
        "colab_type": "code",
        "outputId": "46124a86-5cf7-473f-f3d1-de8c436bbbce",
        "colab": {
          "base_uri": "https://localhost:8080/",
          "height": 1000
        }
      },
      "source": [
        "# guide for multiouput moldel for one hot encoded data: https://towardsdatascience.com/multi-label-text-classification-with-scikit-learn-30714b7819c5\n",
        "\n",
        "from sklearn.pipeline import Pipeline\n",
        "from sklearn.linear_model import SGDClassifier\n",
        "from sklearn.multiclass import OneVsRestClassifier\n",
        "\n",
        "cat = Y.columns.values.tolist() # labels\n",
        "\n",
        "SVM_pipeline = Pipeline([\n",
        "                ('clf', OneVsRestClassifier(SGDClassifier(loss='hinge', random_state=42, alpha=0.0001, max_iter=40, early_stopping=True))),\n",
        "            ])\n",
        "for category in cat:\n",
        "    print('... Processing {}'.format(category))\n",
        "    # train the model using X_dtm & y\n",
        "    SVM_pipeline.fit(train_feature_matrix, Y[category])\n",
        "    # compute the testing accuracy\n",
        "    prediction = SVM_pipeline.predict(test_fm)\n",
        "    print('Test accuracy is {}'.format(accuracy_score(true_labels[category], prediction)))"
      ],
      "execution_count": 74,
      "outputs": [
        {
          "output_type": "stream",
          "text": [
            "... Processing AV\n",
            "Test accuracy is 0.7567746199603437\n",
            "... Processing CB\n",
            "Test accuracy is 0.35095836087243887\n",
            "... Processing CM\n",
            "Test accuracy is 0.7858559153998678\n",
            "... Processing DF\n",
            "Test accuracy is 0.6827495042961005\n",
            "... Processing DP\n",
            "Test accuracy is 0.8334434897554528\n",
            "... Processing DS\n",
            "Test accuracy is 0.8413747521480502\n",
            "... Processing DT\n",
            "Test accuracy is 0.8089887640449438\n",
            "... Processing EB\n",
            "Test accuracy is 0.6318572372769332\n",
            "... Processing EN\n",
            "Test accuracy is 0.7415730337078652\n",
            "... Processing FA\n",
            "Test accuracy is 0.6259087904824852\n",
            "... Processing FC\n",
            "Test accuracy is 0.7732980832782551\n",
            "... Processing FS\n",
            "Test accuracy is 0.6853932584269663\n",
            "... Processing HA\n",
            "Test accuracy is 0.8037012557832122\n",
            "... Processing HI\n",
            "Test accuracy is 0.7825512227362855\n",
            "... Processing IB\n",
            "Test accuracy is 0.5069398545935228\n",
            "... Processing ID\n",
            "Test accuracy is 0.744216787838731\n",
            "... Processing IG\n",
            "Test accuracy is 0.8314606741573034\n",
            "... Processing IN\n",
            "Test accuracy is 0.7911434236615995\n",
            "... Processing IP\n",
            "Test accuracy is 0.8050231328486451\n",
            "... Processing IT\n",
            "Test accuracy is 0.719762062128222\n",
            "... Processing JD\n",
            "Test accuracy is 0.9127561136814276\n",
            "... Processing LT\n",
            "Test accuracy is 0.7845340383344349\n",
            "... Processing LY\n",
            "Test accuracy is 0.8625247851949769\n",
            "... Processing MT\n",
            "Test accuracy is 0.7647058823529411\n",
            "... Processing NA\n",
            "Test accuracy is 0.721083939193655\n",
            "... Processing NE\n",
            "Test accuracy is 0.7865168539325843\n",
            "... Processing OA\n",
            "Test accuracy is 0.43820224719101125\n",
            "... Processing OB\n",
            "Test accuracy is 0.666226040978189\n",
            "... Processing OP\n",
            "Test accuracy is 0.6873760740251157\n",
            "... Processing OS\n",
            "Test accuracy is 0.7647058823529411\n",
            "... Processing PB\n",
            "Test accuracy is 0.8202247191011236\n",
            "... Processing PO\n",
            "Test accuracy is 0.8618638466622605\n",
            "... Processing QA\n",
            "Test accuracy is 0.643093192333113\n",
            "... Processing RA\n",
            "Test accuracy is 0.7323198942498348\n",
            "... Processing RE\n",
            "Test accuracy is 0.7865168539325843\n",
            "... Processing RP\n",
            "Test accuracy is 0.7567746199603437\n",
            "... Processing RS\n",
            "Test accuracy is 0.6906807666886979\n",
            "... Processing RV\n",
            "Test accuracy is 0.6318572372769332\n",
            "... Processing SL\n",
            "Test accuracy is 0.9993390614672836\n",
            "... Processing SP\n",
            "Test accuracy is 0.6900198281559815\n",
            "... Processing SR\n",
            "Test accuracy is 0.8446794448116325\n",
            "... Processing TB\n"
          ],
          "name": "stdout"
        },
        {
          "output_type": "stream",
          "text": [
            "/usr/local/lib/python3.6/dist-packages/sklearn/multiclass.py:75: UserWarning: Label not 0 is present in all training examples.\n",
            "  str(classes[c]))\n"
          ],
          "name": "stderr"
        },
        {
          "output_type": "stream",
          "text": [
            "Test accuracy is 0.5684071381361533\n"
          ],
          "name": "stdout"
        }
      ]
    },
    {
      "cell_type": "code",
      "metadata": {
        "id": "7r4xxibWuZm3",
        "colab_type": "code",
        "colab": {}
      },
      "source": [
        "# inner_cv = KFold(n_splits=5, shuffle=True, random_state=4) \n",
        "# outer_cv = KFold(n_splits=5, shuffle=True, random_state=4)\n",
        "\n",
        "# # Inner CV: optimize number of neighbours aka hyperparameter\n",
        "# # Set up possible values of parameters to optimize over\n",
        "# alpha = [0.0001, 0.001, 0.01, 0.1]\n",
        "# params = dict(alpha = alpha)\n",
        "# gscv = GridSearchCV(estimator = model, param_grid=params, return_train_score=True, cv=inner_cv)\n",
        "\n",
        "# gscv.fit(XG, YG)\n",
        "\n",
        "# # for C in (0.001,0.01,0.1,1,10,100):\n",
        "# #     classifier =  sklearn.svm.LinearSVC(C=C)\n",
        "# #     classifier.fit(feature_matrix_train, labels_train)\n",
        "# #     print(\"C=\",C,\"     \",classifier.score(feature_matrix_dev, labels_dev))"
      ],
      "execution_count": 0,
      "outputs": []
    },
    {
      "cell_type": "markdown",
      "metadata": {
        "id": "0F_UWKlUf9p6",
        "colab_type": "text"
      },
      "source": [
        "## Bert (multi-LABEL)"
      ]
    },
    {
      "cell_type": "markdown",
      "metadata": {
        "id": "KxV7Lhkwn8Tx",
        "colab_type": "text"
      },
      "source": [
        "Tutorial: https://towardsdatascience.com/building-a-multi-label-text-classifier-using-bert-and-tensorflow-f188e0ecdc5d\n",
        "\n",
        "We use the one hot encoded data. \n"
      ]
    },
    {
      "cell_type": "markdown",
      "metadata": {
        "id": "UsTCKCcthHT5",
        "colab_type": "text"
      },
      "source": [
        "### Data preparation"
      ]
    },
    {
      "cell_type": "markdown",
      "metadata": {
        "id": "e9OdoQjFF4ZU",
        "colab_type": "text"
      },
      "source": [
        "#### Feature tokenization"
      ]
    },
    {
      "cell_type": "code",
      "metadata": {
        "id": "YDISZvoOf8wb",
        "colab_type": "code",
        "colab": {}
      },
      "source": [
        "# Use same as in milestone 2\n",
        "\n",
        "# # MAX_EXAMPLES and INPUT_LENGTH limited to avoid going out of memory\n",
        "# # Maximum number of examples to read\n",
        "# MAX_EXAMPLES = 1000\n",
        "\n",
        "# # Maximum length of input sequence in tokens\n",
        "# INPUT_LENGTH = 250"
      ],
      "execution_count": 0,
      "outputs": []
    },
    {
      "cell_type": "code",
      "metadata": {
        "id": "CYWZ2Ni5dVq-",
        "colab_type": "code",
        "outputId": "a2d08ab3-b909-470d-e371-9197c63d5d57",
        "colab": {
          "base_uri": "https://localhost:8080/",
          "height": 919
        }
      },
      "source": [
        "# To avoid OOM, truncate one hot encoded data\n",
        "\n",
        "train = truncate_data(train, MAX_EXAMPLES)\n",
        "dev = truncate_data(dev, MAX_EXAMPLES)\n",
        "test = truncate_data(test, MAX_EXAMPLES)\n",
        "\n",
        "frames = [train, dev, test]\n",
        "for d in frames:\n",
        "  print(d.shape)"
      ],
      "execution_count": 175,
      "outputs": [
        {
          "output_type": "stream",
          "text": [
            "Note: truncating examples from 5295 to 1500\n",
            "Note: truncating examples from 1513 to 1500\n",
            "(1500, 46)\n",
            "(756, 46)\n",
            "(1500, 46)\n"
          ],
          "name": "stdout"
        },
        {
          "output_type": "execute_result",
          "data": {
            "text/html": [
              "<div>\n",
              "<style scoped>\n",
              "    .dataframe tbody tr th:only-of-type {\n",
              "        vertical-align: middle;\n",
              "    }\n",
              "\n",
              "    .dataframe tbody tr th {\n",
              "        vertical-align: top;\n",
              "    }\n",
              "\n",
              "    .dataframe thead th {\n",
              "        text-align: right;\n",
              "    }\n",
              "</style>\n",
              "<table border=\"1\" class=\"dataframe\">\n",
              "  <thead>\n",
              "    <tr style=\"text-align: right;\">\n",
              "      <th></th>\n",
              "      <th>label</th>\n",
              "      <th>text</th>\n",
              "      <th>data</th>\n",
              "      <th>regs</th>\n",
              "      <th>AV</th>\n",
              "      <th>CB</th>\n",
              "      <th>CM</th>\n",
              "      <th>DF</th>\n",
              "      <th>DP</th>\n",
              "      <th>DS</th>\n",
              "      <th>DT</th>\n",
              "      <th>EB</th>\n",
              "      <th>EN</th>\n",
              "      <th>FA</th>\n",
              "      <th>FC</th>\n",
              "      <th>FS</th>\n",
              "      <th>HA</th>\n",
              "      <th>HI</th>\n",
              "      <th>IB</th>\n",
              "      <th>ID</th>\n",
              "      <th>IG</th>\n",
              "      <th>IN</th>\n",
              "      <th>IP</th>\n",
              "      <th>IT</th>\n",
              "      <th>JD</th>\n",
              "      <th>LT</th>\n",
              "      <th>LY</th>\n",
              "      <th>MT</th>\n",
              "      <th>NA</th>\n",
              "      <th>NE</th>\n",
              "      <th>OA</th>\n",
              "      <th>OB</th>\n",
              "      <th>OP</th>\n",
              "      <th>OS</th>\n",
              "      <th>PB</th>\n",
              "      <th>PO</th>\n",
              "      <th>QA</th>\n",
              "      <th>RA</th>\n",
              "      <th>RE</th>\n",
              "      <th>RP</th>\n",
              "      <th>RS</th>\n",
              "      <th>RV</th>\n",
              "      <th>SL</th>\n",
              "      <th>SP</th>\n",
              "      <th>SR</th>\n",
              "      <th>TB</th>\n",
              "    </tr>\n",
              "  </thead>\n",
              "  <tbody>\n",
              "    <tr>\n",
              "      <th>6051</th>\n",
              "      <td>HI</td>\n",
              "      <td>Tehkää nollaleimaus . Jos rekisteröinti onnis...</td>\n",
              "      <td>test</td>\n",
              "      <td>[HI]</td>\n",
              "      <td>0</td>\n",
              "      <td>0</td>\n",
              "      <td>0</td>\n",
              "      <td>0</td>\n",
              "      <td>0</td>\n",
              "      <td>0</td>\n",
              "      <td>0</td>\n",
              "      <td>0</td>\n",
              "      <td>0</td>\n",
              "      <td>0</td>\n",
              "      <td>0</td>\n",
              "      <td>0</td>\n",
              "      <td>0</td>\n",
              "      <td>1</td>\n",
              "      <td>0</td>\n",
              "      <td>0</td>\n",
              "      <td>0</td>\n",
              "      <td>0</td>\n",
              "      <td>0</td>\n",
              "      <td>0</td>\n",
              "      <td>0</td>\n",
              "      <td>0</td>\n",
              "      <td>0</td>\n",
              "      <td>0</td>\n",
              "      <td>0</td>\n",
              "      <td>0</td>\n",
              "      <td>0</td>\n",
              "      <td>0</td>\n",
              "      <td>0</td>\n",
              "      <td>0</td>\n",
              "      <td>0</td>\n",
              "      <td>0</td>\n",
              "      <td>0</td>\n",
              "      <td>0</td>\n",
              "      <td>0</td>\n",
              "      <td>0</td>\n",
              "      <td>0</td>\n",
              "      <td>0</td>\n",
              "      <td>0</td>\n",
              "      <td>0</td>\n",
              "      <td>0</td>\n",
              "      <td>0</td>\n",
              "    </tr>\n",
              "    <tr>\n",
              "      <th>6052</th>\n",
              "      <td>NA</td>\n",
              "      <td>1 kommenttia : Syyslomallelähtijät kirjoitti ...</td>\n",
              "      <td>test</td>\n",
              "      <td>[NA]</td>\n",
              "      <td>0</td>\n",
              "      <td>0</td>\n",
              "      <td>0</td>\n",
              "      <td>0</td>\n",
              "      <td>0</td>\n",
              "      <td>0</td>\n",
              "      <td>0</td>\n",
              "      <td>0</td>\n",
              "      <td>0</td>\n",
              "      <td>0</td>\n",
              "      <td>0</td>\n",
              "      <td>0</td>\n",
              "      <td>0</td>\n",
              "      <td>0</td>\n",
              "      <td>0</td>\n",
              "      <td>0</td>\n",
              "      <td>0</td>\n",
              "      <td>0</td>\n",
              "      <td>0</td>\n",
              "      <td>0</td>\n",
              "      <td>0</td>\n",
              "      <td>0</td>\n",
              "      <td>0</td>\n",
              "      <td>0</td>\n",
              "      <td>1</td>\n",
              "      <td>0</td>\n",
              "      <td>0</td>\n",
              "      <td>0</td>\n",
              "      <td>0</td>\n",
              "      <td>0</td>\n",
              "      <td>0</td>\n",
              "      <td>0</td>\n",
              "      <td>0</td>\n",
              "      <td>0</td>\n",
              "      <td>0</td>\n",
              "      <td>0</td>\n",
              "      <td>0</td>\n",
              "      <td>0</td>\n",
              "      <td>0</td>\n",
              "      <td>0</td>\n",
              "      <td>0</td>\n",
              "      <td>0</td>\n",
              "    </tr>\n",
              "    <tr>\n",
              "      <th>6053</th>\n",
              "      <td>DT IN</td>\n",
              "      <td>Ammattikoulutuksen perustana on ajatus siitä ...</td>\n",
              "      <td>test</td>\n",
              "      <td>[DT, IN]</td>\n",
              "      <td>0</td>\n",
              "      <td>0</td>\n",
              "      <td>0</td>\n",
              "      <td>0</td>\n",
              "      <td>0</td>\n",
              "      <td>0</td>\n",
              "      <td>1</td>\n",
              "      <td>0</td>\n",
              "      <td>0</td>\n",
              "      <td>0</td>\n",
              "      <td>0</td>\n",
              "      <td>0</td>\n",
              "      <td>0</td>\n",
              "      <td>0</td>\n",
              "      <td>0</td>\n",
              "      <td>0</td>\n",
              "      <td>0</td>\n",
              "      <td>1</td>\n",
              "      <td>0</td>\n",
              "      <td>0</td>\n",
              "      <td>0</td>\n",
              "      <td>0</td>\n",
              "      <td>0</td>\n",
              "      <td>0</td>\n",
              "      <td>0</td>\n",
              "      <td>0</td>\n",
              "      <td>0</td>\n",
              "      <td>0</td>\n",
              "      <td>0</td>\n",
              "      <td>0</td>\n",
              "      <td>0</td>\n",
              "      <td>0</td>\n",
              "      <td>0</td>\n",
              "      <td>0</td>\n",
              "      <td>0</td>\n",
              "      <td>0</td>\n",
              "      <td>0</td>\n",
              "      <td>0</td>\n",
              "      <td>0</td>\n",
              "      <td>0</td>\n",
              "      <td>0</td>\n",
              "      <td>0</td>\n",
              "    </tr>\n",
              "    <tr>\n",
              "      <th>6054</th>\n",
              "      <td>DP IN</td>\n",
              "      <td>Ulkonäkö : Silveriä voisi kuvata tietyllä tap...</td>\n",
              "      <td>test</td>\n",
              "      <td>[DP, IN]</td>\n",
              "      <td>0</td>\n",
              "      <td>0</td>\n",
              "      <td>0</td>\n",
              "      <td>0</td>\n",
              "      <td>1</td>\n",
              "      <td>0</td>\n",
              "      <td>0</td>\n",
              "      <td>0</td>\n",
              "      <td>0</td>\n",
              "      <td>0</td>\n",
              "      <td>0</td>\n",
              "      <td>0</td>\n",
              "      <td>0</td>\n",
              "      <td>0</td>\n",
              "      <td>0</td>\n",
              "      <td>0</td>\n",
              "      <td>0</td>\n",
              "      <td>1</td>\n",
              "      <td>0</td>\n",
              "      <td>0</td>\n",
              "      <td>0</td>\n",
              "      <td>0</td>\n",
              "      <td>0</td>\n",
              "      <td>0</td>\n",
              "      <td>0</td>\n",
              "      <td>0</td>\n",
              "      <td>0</td>\n",
              "      <td>0</td>\n",
              "      <td>0</td>\n",
              "      <td>0</td>\n",
              "      <td>0</td>\n",
              "      <td>0</td>\n",
              "      <td>0</td>\n",
              "      <td>0</td>\n",
              "      <td>0</td>\n",
              "      <td>0</td>\n",
              "      <td>0</td>\n",
              "      <td>0</td>\n",
              "      <td>0</td>\n",
              "      <td>0</td>\n",
              "      <td>0</td>\n",
              "      <td>0</td>\n",
              "    </tr>\n",
              "    <tr>\n",
              "      <th>6055</th>\n",
              "      <td>DT IN</td>\n",
              "      <td>Laulupelimannien puheenjohtajina ovat toimine...</td>\n",
              "      <td>test</td>\n",
              "      <td>[DT, IN]</td>\n",
              "      <td>0</td>\n",
              "      <td>0</td>\n",
              "      <td>0</td>\n",
              "      <td>0</td>\n",
              "      <td>0</td>\n",
              "      <td>0</td>\n",
              "      <td>1</td>\n",
              "      <td>0</td>\n",
              "      <td>0</td>\n",
              "      <td>0</td>\n",
              "      <td>0</td>\n",
              "      <td>0</td>\n",
              "      <td>0</td>\n",
              "      <td>0</td>\n",
              "      <td>0</td>\n",
              "      <td>0</td>\n",
              "      <td>0</td>\n",
              "      <td>1</td>\n",
              "      <td>0</td>\n",
              "      <td>0</td>\n",
              "      <td>0</td>\n",
              "      <td>0</td>\n",
              "      <td>0</td>\n",
              "      <td>0</td>\n",
              "      <td>0</td>\n",
              "      <td>0</td>\n",
              "      <td>0</td>\n",
              "      <td>0</td>\n",
              "      <td>0</td>\n",
              "      <td>0</td>\n",
              "      <td>0</td>\n",
              "      <td>0</td>\n",
              "      <td>0</td>\n",
              "      <td>0</td>\n",
              "      <td>0</td>\n",
              "      <td>0</td>\n",
              "      <td>0</td>\n",
              "      <td>0</td>\n",
              "      <td>0</td>\n",
              "      <td>0</td>\n",
              "      <td>0</td>\n",
              "      <td>0</td>\n",
              "    </tr>\n",
              "    <tr>\n",
              "      <th>...</th>\n",
              "      <td>...</td>\n",
              "      <td>...</td>\n",
              "      <td>...</td>\n",
              "      <td>...</td>\n",
              "      <td>...</td>\n",
              "      <td>...</td>\n",
              "      <td>...</td>\n",
              "      <td>...</td>\n",
              "      <td>...</td>\n",
              "      <td>...</td>\n",
              "      <td>...</td>\n",
              "      <td>...</td>\n",
              "      <td>...</td>\n",
              "      <td>...</td>\n",
              "      <td>...</td>\n",
              "      <td>...</td>\n",
              "      <td>...</td>\n",
              "      <td>...</td>\n",
              "      <td>...</td>\n",
              "      <td>...</td>\n",
              "      <td>...</td>\n",
              "      <td>...</td>\n",
              "      <td>...</td>\n",
              "      <td>...</td>\n",
              "      <td>...</td>\n",
              "      <td>...</td>\n",
              "      <td>...</td>\n",
              "      <td>...</td>\n",
              "      <td>...</td>\n",
              "      <td>...</td>\n",
              "      <td>...</td>\n",
              "      <td>...</td>\n",
              "      <td>...</td>\n",
              "      <td>...</td>\n",
              "      <td>...</td>\n",
              "      <td>...</td>\n",
              "      <td>...</td>\n",
              "      <td>...</td>\n",
              "      <td>...</td>\n",
              "      <td>...</td>\n",
              "      <td>...</td>\n",
              "      <td>...</td>\n",
              "      <td>...</td>\n",
              "      <td>...</td>\n",
              "      <td>...</td>\n",
              "      <td>...</td>\n",
              "    </tr>\n",
              "    <tr>\n",
              "      <th>7546</th>\n",
              "      <td>MT OS</td>\n",
              "      <td>Sinulle 2986 lääkkeiden Asento ! Tarjoamme ka...</td>\n",
              "      <td>test</td>\n",
              "      <td>[MT, OS]</td>\n",
              "      <td>0</td>\n",
              "      <td>0</td>\n",
              "      <td>0</td>\n",
              "      <td>0</td>\n",
              "      <td>0</td>\n",
              "      <td>0</td>\n",
              "      <td>0</td>\n",
              "      <td>0</td>\n",
              "      <td>0</td>\n",
              "      <td>0</td>\n",
              "      <td>0</td>\n",
              "      <td>0</td>\n",
              "      <td>0</td>\n",
              "      <td>0</td>\n",
              "      <td>0</td>\n",
              "      <td>0</td>\n",
              "      <td>0</td>\n",
              "      <td>0</td>\n",
              "      <td>0</td>\n",
              "      <td>0</td>\n",
              "      <td>0</td>\n",
              "      <td>0</td>\n",
              "      <td>0</td>\n",
              "      <td>1</td>\n",
              "      <td>0</td>\n",
              "      <td>0</td>\n",
              "      <td>0</td>\n",
              "      <td>0</td>\n",
              "      <td>0</td>\n",
              "      <td>1</td>\n",
              "      <td>0</td>\n",
              "      <td>0</td>\n",
              "      <td>0</td>\n",
              "      <td>0</td>\n",
              "      <td>0</td>\n",
              "      <td>0</td>\n",
              "      <td>0</td>\n",
              "      <td>0</td>\n",
              "      <td>0</td>\n",
              "      <td>0</td>\n",
              "      <td>0</td>\n",
              "      <td>0</td>\n",
              "    </tr>\n",
              "    <tr>\n",
              "      <th>7547</th>\n",
              "      <td>MT OS</td>\n",
              "      <td>Vinyylilevyiltä on ihana , mutta vain harvat ...</td>\n",
              "      <td>test</td>\n",
              "      <td>[MT, OS]</td>\n",
              "      <td>0</td>\n",
              "      <td>0</td>\n",
              "      <td>0</td>\n",
              "      <td>0</td>\n",
              "      <td>0</td>\n",
              "      <td>0</td>\n",
              "      <td>0</td>\n",
              "      <td>0</td>\n",
              "      <td>0</td>\n",
              "      <td>0</td>\n",
              "      <td>0</td>\n",
              "      <td>0</td>\n",
              "      <td>0</td>\n",
              "      <td>0</td>\n",
              "      <td>0</td>\n",
              "      <td>0</td>\n",
              "      <td>0</td>\n",
              "      <td>0</td>\n",
              "      <td>0</td>\n",
              "      <td>0</td>\n",
              "      <td>0</td>\n",
              "      <td>0</td>\n",
              "      <td>0</td>\n",
              "      <td>1</td>\n",
              "      <td>0</td>\n",
              "      <td>0</td>\n",
              "      <td>0</td>\n",
              "      <td>0</td>\n",
              "      <td>0</td>\n",
              "      <td>1</td>\n",
              "      <td>0</td>\n",
              "      <td>0</td>\n",
              "      <td>0</td>\n",
              "      <td>0</td>\n",
              "      <td>0</td>\n",
              "      <td>0</td>\n",
              "      <td>0</td>\n",
              "      <td>0</td>\n",
              "      <td>0</td>\n",
              "      <td>0</td>\n",
              "      <td>0</td>\n",
              "      <td>0</td>\n",
              "    </tr>\n",
              "    <tr>\n",
              "      <th>7548</th>\n",
              "      <td>CM IN</td>\n",
              "      <td>Opintojakson vastuuhenkilö Toteutuskerrat Suo...</td>\n",
              "      <td>test</td>\n",
              "      <td>[CM, IN]</td>\n",
              "      <td>0</td>\n",
              "      <td>0</td>\n",
              "      <td>1</td>\n",
              "      <td>0</td>\n",
              "      <td>0</td>\n",
              "      <td>0</td>\n",
              "      <td>0</td>\n",
              "      <td>0</td>\n",
              "      <td>0</td>\n",
              "      <td>0</td>\n",
              "      <td>0</td>\n",
              "      <td>0</td>\n",
              "      <td>0</td>\n",
              "      <td>0</td>\n",
              "      <td>0</td>\n",
              "      <td>0</td>\n",
              "      <td>0</td>\n",
              "      <td>1</td>\n",
              "      <td>0</td>\n",
              "      <td>0</td>\n",
              "      <td>0</td>\n",
              "      <td>0</td>\n",
              "      <td>0</td>\n",
              "      <td>0</td>\n",
              "      <td>0</td>\n",
              "      <td>0</td>\n",
              "      <td>0</td>\n",
              "      <td>0</td>\n",
              "      <td>0</td>\n",
              "      <td>0</td>\n",
              "      <td>0</td>\n",
              "      <td>0</td>\n",
              "      <td>0</td>\n",
              "      <td>0</td>\n",
              "      <td>0</td>\n",
              "      <td>0</td>\n",
              "      <td>0</td>\n",
              "      <td>0</td>\n",
              "      <td>0</td>\n",
              "      <td>0</td>\n",
              "      <td>0</td>\n",
              "      <td>0</td>\n",
              "    </tr>\n",
              "    <tr>\n",
              "      <th>7549</th>\n",
              "      <td>MT OS</td>\n",
              "      <td>Miten valita Dating sivusto Internet Valitsem...</td>\n",
              "      <td>test</td>\n",
              "      <td>[MT, OS]</td>\n",
              "      <td>0</td>\n",
              "      <td>0</td>\n",
              "      <td>0</td>\n",
              "      <td>0</td>\n",
              "      <td>0</td>\n",
              "      <td>0</td>\n",
              "      <td>0</td>\n",
              "      <td>0</td>\n",
              "      <td>0</td>\n",
              "      <td>0</td>\n",
              "      <td>0</td>\n",
              "      <td>0</td>\n",
              "      <td>0</td>\n",
              "      <td>0</td>\n",
              "      <td>0</td>\n",
              "      <td>0</td>\n",
              "      <td>0</td>\n",
              "      <td>0</td>\n",
              "      <td>0</td>\n",
              "      <td>0</td>\n",
              "      <td>0</td>\n",
              "      <td>0</td>\n",
              "      <td>0</td>\n",
              "      <td>1</td>\n",
              "      <td>0</td>\n",
              "      <td>0</td>\n",
              "      <td>0</td>\n",
              "      <td>0</td>\n",
              "      <td>0</td>\n",
              "      <td>1</td>\n",
              "      <td>0</td>\n",
              "      <td>0</td>\n",
              "      <td>0</td>\n",
              "      <td>0</td>\n",
              "      <td>0</td>\n",
              "      <td>0</td>\n",
              "      <td>0</td>\n",
              "      <td>0</td>\n",
              "      <td>0</td>\n",
              "      <td>0</td>\n",
              "      <td>0</td>\n",
              "      <td>0</td>\n",
              "    </tr>\n",
              "    <tr>\n",
              "      <th>7550</th>\n",
              "      <td>MT OS RV OP</td>\n",
              "      <td>Mielipide BEKO WMD 56120 S :sta Sen käyttäjät...</td>\n",
              "      <td>test</td>\n",
              "      <td>[MT, OS, RV, OP]</td>\n",
              "      <td>0</td>\n",
              "      <td>0</td>\n",
              "      <td>0</td>\n",
              "      <td>0</td>\n",
              "      <td>0</td>\n",
              "      <td>0</td>\n",
              "      <td>0</td>\n",
              "      <td>0</td>\n",
              "      <td>0</td>\n",
              "      <td>0</td>\n",
              "      <td>0</td>\n",
              "      <td>0</td>\n",
              "      <td>0</td>\n",
              "      <td>0</td>\n",
              "      <td>0</td>\n",
              "      <td>0</td>\n",
              "      <td>0</td>\n",
              "      <td>0</td>\n",
              "      <td>0</td>\n",
              "      <td>0</td>\n",
              "      <td>0</td>\n",
              "      <td>0</td>\n",
              "      <td>0</td>\n",
              "      <td>1</td>\n",
              "      <td>0</td>\n",
              "      <td>0</td>\n",
              "      <td>0</td>\n",
              "      <td>0</td>\n",
              "      <td>1</td>\n",
              "      <td>1</td>\n",
              "      <td>0</td>\n",
              "      <td>0</td>\n",
              "      <td>0</td>\n",
              "      <td>0</td>\n",
              "      <td>0</td>\n",
              "      <td>0</td>\n",
              "      <td>0</td>\n",
              "      <td>1</td>\n",
              "      <td>0</td>\n",
              "      <td>0</td>\n",
              "      <td>0</td>\n",
              "      <td>0</td>\n",
              "    </tr>\n",
              "  </tbody>\n",
              "</table>\n",
              "<p>1500 rows × 46 columns</p>\n",
              "</div>"
            ],
            "text/plain": [
              "             label                                               text  ... SR TB\n",
              "6051          HI     Tehkää nollaleimaus . Jos rekisteröinti onnis...  ...  0  0\n",
              "6052          NA     1 kommenttia : Syyslomallelähtijät kirjoitti ...  ...  0  0\n",
              "6053        DT IN    Ammattikoulutuksen perustana on ajatus siitä ...  ...  0  0\n",
              "6054        DP IN    Ulkonäkö : Silveriä voisi kuvata tietyllä tap...  ...  0  0\n",
              "6055        DT IN    Laulupelimannien puheenjohtajina ovat toimine...  ...  0  0\n",
              "...            ...                                                ...  ... .. ..\n",
              "7546        MT OS    Sinulle 2986 lääkkeiden Asento ! Tarjoamme ka...  ...  0  0\n",
              "7547        MT OS    Vinyylilevyiltä on ihana , mutta vain harvat ...  ...  0  0\n",
              "7548        CM IN    Opintojakson vastuuhenkilö Toteutuskerrat Suo...  ...  0  0\n",
              "7549        MT OS    Miten valita Dating sivusto Internet Valitsem...  ...  0  0\n",
              "7550  MT OS RV OP    Mielipide BEKO WMD 56120 S :sta Sen käyttäjät...  ...  0  0\n",
              "\n",
              "[1500 rows x 46 columns]"
            ]
          },
          "metadata": {
            "tags": []
          },
          "execution_count": 175
        }
      ]
    },
    {
      "cell_type": "markdown",
      "metadata": {
        "id": "SIR1xUNihUZw",
        "colab_type": "text"
      },
      "source": [
        "We need to convert our data into a format that BERT understands. Some utility functions are provided to do that."
      ]
    },
    {
      "cell_type": "code",
      "metadata": {
        "id": "k4wWJ3csi8k0",
        "colab_type": "code",
        "colab": {}
      },
      "source": [
        "# remember, INPUT_LENGTH is a parameter for make_model_inputs -function. \n",
        "# We also use BERT tokenizer here.\n",
        "\n",
        "X = make_model_inputs(train['text'])\n",
        "x = make_model_inputs(dev['text'])\n",
        "test_inp = make_model_inputs(test['text'])"
      ],
      "execution_count": 0,
      "outputs": []
    },
    {
      "cell_type": "code",
      "metadata": {
        "id": "jg0A3B4FcLbt",
        "colab_type": "code",
        "outputId": "bd3c6211-ab53-4889-e4ab-ff9e5e83a957",
        "colab": {
          "base_uri": "https://localhost:8080/",
          "height": 278
        }
      },
      "source": [
        "test_inp"
      ],
      "execution_count": 177,
      "outputs": [
        {
          "output_type": "execute_result",
          "data": {
            "text/plain": [
              "[array([[  102, 41061,  8448, ...,   145, 29245,   103],\n",
              "        [  102,   261, 16634, ...,  2857,  3870,   103],\n",
              "        [  102, 14011, 17660, ..., 24441, 15398,   103],\n",
              "        ...,\n",
              "        [  102, 38284, 18238, ...,     0,     0,     0],\n",
              "        [  102,  2390,  4268, ...,   119,   475,   103],\n",
              "        [  102, 15721,  6241, ..., 15850, 50034,   103]]),\n",
              " array([[0, 0, 0, ..., 0, 0, 0],\n",
              "        [0, 0, 0, ..., 0, 0, 0],\n",
              "        [0, 0, 0, ..., 0, 0, 0],\n",
              "        ...,\n",
              "        [0, 0, 0, ..., 0, 0, 0],\n",
              "        [0, 0, 0, ..., 0, 0, 0],\n",
              "        [0, 0, 0, ..., 0, 0, 0]])]"
            ]
          },
          "metadata": {
            "tags": []
          },
          "execution_count": 177
        }
      ]
    },
    {
      "cell_type": "code",
      "metadata": {
        "id": "aK9SmUCcoPt1",
        "colab_type": "code",
        "outputId": "74c2f783-16c2-4c2b-cea1-3ba87fdbb67a",
        "colab": {
          "base_uri": "https://localhost:8080/",
          "height": 1000
        }
      },
      "source": [
        "# Print some examples (looks the same as in milestone 2)\n",
        "print('Token indices:')\n",
        "print(X[0][:2])\n",
        "print('Decoded:')\n",
        "for i in X[0][:2]:\n",
        "    print(tokenizer.decode(list(i)))\n",
        "print('Segment ids:')\n",
        "print(X[1][:2])"
      ],
      "execution_count": 0,
      "outputs": [
        {
          "output_type": "stream",
          "text": [
            "Token indices:\n",
            "[[  102 20410   719   328 15022 38416 45766  4192 25413 14442 10448  7814\n",
            "   4009 24085 20599 11165  1330 50013 27722 11025 21917 13129  3452  4834\n",
            "   4942  1099   255  4942  1099   255  2599   145 46150   203  1640 48326\n",
            "    142  7026 32871  9890   111 36800 13873   403  6534   119  9183   142\n",
            "   9659   912   922 19078 12655 50009   119 22670  6729   119 12082 27949\n",
            "    612 12191   111 44695  1388 44626  8905  1555  7411   142 15996 14280\n",
            "   3817  2304 12213  9598  5463 29231   142 29403  4004   111 22423  1138\n",
            "   4942  1099   255  2599   145 35083 10080   203  8905  3369  5514 13758\n",
            "   2834 11166   119   374  1354 10772   109  3679  3332  2214   111 13742\n",
            "    697  4942  1099  6916 45571  1248  4942  1099   255  2599   145  6821\n",
            "    142 46150   203 21984 10900   407 23909   111  2604   145  5016  8905\n",
            "   5828 20150   239 24975  1922  2955   142 35576  1305   106 43029   111\n",
            "  36800 24975   106   142 32334  1252 10366  2767  1445 12310  3305 13914\n",
            "  21984 10900   170   111 36192   269   704   166 35917  4942  1099   866\n",
            "  46594   120 38731   166 41465  5087  1444  6408 15878 14482   356 49878\n",
            "  33640   142   166 42082   677  9364 26547 44137 18887  1929 50062 21062\n",
            "    427   111 47330  1388   133   240  4442   462   193   257 38731   166\n",
            "  20818 33046  1883 21403  8700   111 47330  1388  4819  5741   481  4942\n",
            "   1099   255  2599   145 15149 30909 15674 20753  4876   407 28988   144\n",
            "    119   975  2500 29403   473   145  5412   142  4354  5886   111 45081\n",
            "    106   119  8355  1499   142  6697   333  7483  5962   103]\n",
            " [  102  2208  3043  3043 49155   187 21069   348 15497   308   101 43609\n",
            "  27819  3013  3013 11185 18895  3902   145 16616 19099  7751  1121 24888\n",
            "    119 13405 29882 22322   111 28277   145  2596   943  2106   119   683\n",
            "  27114 23350   236  2208  3043  3043 49155   187 21069   348 15497   308\n",
            "    101 43609 27819  3013  3013 11185 18895  3902   145 16616 19099  7751\n",
            "   1121 24888   119 13405 29882 22322   111 28277   145  2596   943  2106\n",
            "    119   683 27114 23350   236   166  3043  3043   555  3835   101   555\n",
            "    859  4711  3013  3013  1462 46032 30795 36222  9094   142  1462 18252\n",
            "   3904 43269   149 21260   483   111 31943 23015   913 15258  7986 10331\n",
            "    337 12356 42657  4337  5966 40321   119  4215  6166  5503  6378   111\n",
            "  17842  1462  4254 21390   106 30617 10233 21260 20502  1385   146   111\n",
            "   2177  3043  3043   555  3835   101   555   859  4711  3013  3013  1462\n",
            "  46032 30795 36222  9094   142  1462 18252  3904 43269   149 21260   483\n",
            "    111  3043  3043  7210 16554 21260   123   101 31943 23015  3013  3013\n",
            "    913 15258  7986 10331   337 12356 42657  4337  5966 40321   119  4215\n",
            "   6166  5503  6378   111 17842  1462  4254 21390   106 30617 10233 21260\n",
            "  20502  1385   146   111   166 36183 50050   145 11627   111   737 12665\n",
            "    142   145   534  3225  1229 19242  4299 16280   353   111   950  2464\n",
            "  34523 50017  4101   984 45002   269   119 10314   145  1660 34523 50017\n",
            "    142  1660 42429 50011   119   374  5107 29641   119  3043  3043  7528\n",
            "    348  2305   308   101  7528   492  3013  3013   142   103]]\n",
            "Decoded:\n",
            "['Log', '##isti', '##ikka', 'Jenni', 'Lindholm', 'Lasku', '##tus', 'Ritva', 'Lie', '##vonen', 'Ota', 'yhteyttä', 'Nimi', 'Puhelin', '##nu', '##mer', '##o', 'Sähköposti', 'Yritys', 'Viesti', 'Sul', '##je', 'x', 'Sip', '##ari', '##la', 'Sip', '##ari', '##la', 'Oy', 'on', 'palvele', '##va', 'puut', '##oimittaja', 'ja', 'pinta', '##käsittelyn', 'mestari', '.', 'Tarjoamme', 'asiakkaille', '##mme', 'tuotteita', ',', 'ratkaisuja', 'ja', 'palveluja', 'ulko', '##ver', '##hoi', '##luu', '##n', ',', 'sisus', '##tukseen', ',', 'sauna', '##tiloihin', 'sekä', 'pihalle', '.', 'Inno', '##st', '##umme', 'puun', 'mahdollis', '##uuksista', 'ja', 'kehit', '##ämme', 'jatkuvasti', 'uusia', 'tapoja', 'hyödyntää', 'puuta', 'rakentamisessa', 'ja', 'sisusta', '##misessa', '.', 'Vastuu', '##llisuus', 'Sip', '##ari', '##la', 'Oy', 'on', 'perinteitä', 'kunnioitta', '##va', 'puun', '##jal', '##ostus', '##teollisuuden', 'perhe', '##yritys', ',', 'joka', 'ottaa', 'toiminnassa', '##an', 'huomioon', 'vastuu', '##llisuuden', '.', 'Tö', '##ihin', 'Sip', '##ari', '##laan', 'Ammattila', '##isille', 'Sip', '##ari', '##la', 'Oy', 'on', 'kokenut', 'ja', 'palvele', '##va', 'puutu', '##otte', '##iden', 'valmistaja', '.', 'Meillä', 'on', 'kokemusta', 'puun', 'käytöstä', 'vaativ', '##issa', 'arkkitehti', '##koh', '##teissa', 'ja', 'unelmien', 'koti', '##en', 'toteuttamisesta', '.', 'Tarjoamme', 'arkkitehti', '##en', 'ja', 'projektia', '##sia', '##kkaiden', 'käyttöön', 'oman', 'asiantunte', '##mu', '##ksemme', 'puutu', '##otte', '##ista', '.', 'Suorit', '##usta', '##so', '-', 'ilmoitukset', 'Sip', '##ari', '##lan', 'paneel', '##it', 'CE', '-', 'merkitään', 'yhtenä', '##iste', '##tyn', 'massiiv', '##ipu', '##up', '##ane', '##eleita', 'ja', '-', 'verho', '##uksia', 'koskevan', 'eurooppalaisen', 'standardin', 'EN', '14', '##9', '##15', 'mukaan', '.', 'Sisu', '##st', '##us', '##li', '##sto', '##ille', 'ei', 'ole', 'CE', '-', 'merkintä', 'vaatimusta', 'Euroopan', 'Unionin', 'toimesta', '.', 'Sisu', '##st', '##usko', '##ht', '##eet', 'Sip', '##ari', '##la', 'Oy', 'on', 'luonut', 'kattavan', 'sisustus', '##pane', '##ele', '##iden', 'mallist', '##on', ',', 'jonka', 'avulla', 'sisusta', '##minen', 'on', 'helppoa', 'ja', 'täynnä', 'mahdollisuuksia', '.', 'Väri', '##en', ',', 'pin', '##tojen', 'ja', 'muoto', '##jen', 'yhdistä', '##misessä']\n",
            "['Tässä', '[', '[', 'Ortodoks', '##inen', 'seminaari', '(', 'Joensuu', ')', '[UNK]', 'ortodoksisen', 'seminaarin', ']', ']', 'kirkossa', 'Joensuussa', 'joulu', 'on', 'kuvattu', 'suureen', 'maala', '##ukseen', 'kattoon', ',', 'tuonne', 'pääni', 'yläpuolelle', '.', 'Kuvassa', 'on', 'useita', 'eri', 'asioita', ',', 'jotka', 'kaipaavat', 'selitystä', ':', 'Tässä', '[', '[', 'Ortodoks', '##inen', 'seminaari', '(', 'Joensuu', ')', '[UNK]', 'ortodoksisen', 'seminaarin', ']', ']', 'kirkossa', 'Joensuussa', 'joulu', 'on', 'kuvattu', 'suureen', 'maala', '##ukseen', 'kattoon', ',', 'tuonne', 'pääni', 'yläpuolelle', '.', 'Kuvassa', 'on', 'useita', 'eri', 'asioita', ',', 'jotka', 'kaipaavat', 'selitystä', ':', '-', '[', '[', 'En', '##keli', '[UNK]', 'En', '##kel', '##eistä', ']', ']', 'toinen', 'ylistää', 'ihmiseksi', 'tullutta', 'Jumalaa', 'ja', 'toinen', 'julistaa', 'ilo', '##sanom', '##aa', 'paimen', '##elle', '.', 'Pai', '##menet', 'taas', 'edustavat', 'tavallista', 'väkeä', 'tai', 'pikemminkin', 'eräällä', 'tavoin', 'yhteiskunnan', 'reunalla', ',', 'ellei', 'peräti', 'ulkopuolella', 'olevia', '.', 'Heistä', 'toinen', 'liittyy', 'enkeli', '##en', 'ylis', '##tykseen', 'paimen', '##hui', '##lu', '##lla', '.', '+', '[', '[', 'En', '##keli', '[UNK]', 'En', '##kel', '##eistä', ']', ']', 'toinen', 'ylistää', 'ihmiseksi', 'tullutta', 'Jumalaa', 'ja', 'toinen', 'julistaa', 'ilo', '##sanom', '##aa', 'paimen', '##elle', '.', '[', '[', 'Kristuksen', 'nähneet', 'paimen', '##et', '[UNK]', 'Pai', '##menet', ']', ']', 'taas', 'edustavat', 'tavallista', 'väkeä', 'tai', 'pikemminkin', 'eräällä', 'tavoin', 'yhteiskunnan', 'reunalla', ',', 'ellei', 'peräti', 'ulkopuolella', 'olevia', '.', 'Heistä', 'toinen', 'liittyy', 'enkeli', '##en', 'ylis', '##tykseen', 'paimen', '##hui', '##lu', '##lla', '.', '-', 'Joose', '##f', 'on', 'sivussa', '.', 'Hän', 'epäilee', 'ja', 'on', 'itse', 'asiassa', 'pah', '##olaisen', 'kiusa', '##ttava', '##na', '.', 'Kun', 'ensimmäinen', 'Aada', '##m', 'tehtiin', 'maan', 'tom', '##usta', ',', 'Kristus', 'on', 'uusi', 'Aada', '##m', 'ja', 'uusi', 'luomu', '##s', ',', 'joka', 'syntyy', 'taivaasta', ',', '[', '[', 'Isä', '(', 'Jumala', ')', '[UNK]', 'Isä', '##stä', ']', ']', 'ja']\n",
            "Segment ids:\n",
            "[[0 0 0 0 0 0 0 0 0 0 0 0 0 0 0 0 0 0 0 0 0 0 0 0 0 0 0 0 0 0 0 0 0 0 0 0\n",
            "  0 0 0 0 0 0 0 0 0 0 0 0 0 0 0 0 0 0 0 0 0 0 0 0 0 0 0 0 0 0 0 0 0 0 0 0\n",
            "  0 0 0 0 0 0 0 0 0 0 0 0 0 0 0 0 0 0 0 0 0 0 0 0 0 0 0 0 0 0 0 0 0 0 0 0\n",
            "  0 0 0 0 0 0 0 0 0 0 0 0 0 0 0 0 0 0 0 0 0 0 0 0 0 0 0 0 0 0 0 0 0 0 0 0\n",
            "  0 0 0 0 0 0 0 0 0 0 0 0 0 0 0 0 0 0 0 0 0 0 0 0 0 0 0 0 0 0 0 0 0 0 0 0\n",
            "  0 0 0 0 0 0 0 0 0 0 0 0 0 0 0 0 0 0 0 0 0 0 0 0 0 0 0 0 0 0 0 0 0 0 0 0\n",
            "  0 0 0 0 0 0 0 0 0 0 0 0 0 0 0 0 0 0 0 0 0 0 0 0 0 0 0 0 0 0 0 0 0 0]\n",
            " [0 0 0 0 0 0 0 0 0 0 0 0 0 0 0 0 0 0 0 0 0 0 0 0 0 0 0 0 0 0 0 0 0 0 0 0\n",
            "  0 0 0 0 0 0 0 0 0 0 0 0 0 0 0 0 0 0 0 0 0 0 0 0 0 0 0 0 0 0 0 0 0 0 0 0\n",
            "  0 0 0 0 0 0 0 0 0 0 0 0 0 0 0 0 0 0 0 0 0 0 0 0 0 0 0 0 0 0 0 0 0 0 0 0\n",
            "  0 0 0 0 0 0 0 0 0 0 0 0 0 0 0 0 0 0 0 0 0 0 0 0 0 0 0 0 0 0 0 0 0 0 0 0\n",
            "  0 0 0 0 0 0 0 0 0 0 0 0 0 0 0 0 0 0 0 0 0 0 0 0 0 0 0 0 0 0 0 0 0 0 0 0\n",
            "  0 0 0 0 0 0 0 0 0 0 0 0 0 0 0 0 0 0 0 0 0 0 0 0 0 0 0 0 0 0 0 0 0 0 0 0\n",
            "  0 0 0 0 0 0 0 0 0 0 0 0 0 0 0 0 0 0 0 0 0 0 0 0 0 0 0 0 0 0 0 0 0 0]]\n"
          ],
          "name": "stdout"
        }
      ]
    },
    {
      "cell_type": "markdown",
      "metadata": {
        "id": "rzpqqKGfeQdl",
        "colab_type": "text"
      },
      "source": [
        "Extract one hot label encodings from the truncated data"
      ]
    },
    {
      "cell_type": "code",
      "metadata": {
        "id": "i_FuU8Y_85t8",
        "colab_type": "code",
        "colab": {
          "base_uri": "https://localhost:8080/",
          "height": 424
        },
        "outputId": "f15e2f06-aede-45a8-97e3-68849639fed4"
      },
      "source": [
        "test"
      ],
      "execution_count": 163,
      "outputs": [
        {
          "output_type": "execute_result",
          "data": {
            "text/html": [
              "<div>\n",
              "<style scoped>\n",
              "    .dataframe tbody tr th:only-of-type {\n",
              "        vertical-align: middle;\n",
              "    }\n",
              "\n",
              "    .dataframe tbody tr th {\n",
              "        vertical-align: top;\n",
              "    }\n",
              "\n",
              "    .dataframe thead th {\n",
              "        text-align: right;\n",
              "    }\n",
              "</style>\n",
              "<table border=\"1\" class=\"dataframe\">\n",
              "  <thead>\n",
              "    <tr style=\"text-align: right;\">\n",
              "      <th></th>\n",
              "      <th>label</th>\n",
              "      <th>text</th>\n",
              "      <th>data</th>\n",
              "    </tr>\n",
              "  </thead>\n",
              "  <tbody>\n",
              "    <tr>\n",
              "      <th>0</th>\n",
              "      <td>HI</td>\n",
              "      <td>Tehkää nollaleimaus . Jos rekisteröinti onnis...</td>\n",
              "      <td>test</td>\n",
              "    </tr>\n",
              "    <tr>\n",
              "      <th>1</th>\n",
              "      <td>NA</td>\n",
              "      <td>1 kommenttia : Syyslomallelähtijät kirjoitti ...</td>\n",
              "      <td>test</td>\n",
              "    </tr>\n",
              "    <tr>\n",
              "      <th>2</th>\n",
              "      <td>DT IN</td>\n",
              "      <td>Ammattikoulutuksen perustana on ajatus siitä ...</td>\n",
              "      <td>test</td>\n",
              "    </tr>\n",
              "    <tr>\n",
              "      <th>3</th>\n",
              "      <td>DP IN</td>\n",
              "      <td>Ulkonäkö : Silveriä voisi kuvata tietyllä tap...</td>\n",
              "      <td>test</td>\n",
              "    </tr>\n",
              "    <tr>\n",
              "      <th>4</th>\n",
              "      <td>DT IN</td>\n",
              "      <td>Laulupelimannien puheenjohtajina ovat toimine...</td>\n",
              "      <td>test</td>\n",
              "    </tr>\n",
              "    <tr>\n",
              "      <th>...</th>\n",
              "      <td>...</td>\n",
              "      <td>...</td>\n",
              "      <td>...</td>\n",
              "    </tr>\n",
              "    <tr>\n",
              "      <th>1495</th>\n",
              "      <td>MT OS</td>\n",
              "      <td>Sinulle 2986 lääkkeiden Asento ! Tarjoamme ka...</td>\n",
              "      <td>test</td>\n",
              "    </tr>\n",
              "    <tr>\n",
              "      <th>1496</th>\n",
              "      <td>MT OS</td>\n",
              "      <td>Vinyylilevyiltä on ihana , mutta vain harvat ...</td>\n",
              "      <td>test</td>\n",
              "    </tr>\n",
              "    <tr>\n",
              "      <th>1497</th>\n",
              "      <td>CM IN</td>\n",
              "      <td>Opintojakson vastuuhenkilö Toteutuskerrat Suo...</td>\n",
              "      <td>test</td>\n",
              "    </tr>\n",
              "    <tr>\n",
              "      <th>1498</th>\n",
              "      <td>MT OS</td>\n",
              "      <td>Miten valita Dating sivusto Internet Valitsem...</td>\n",
              "      <td>test</td>\n",
              "    </tr>\n",
              "    <tr>\n",
              "      <th>1499</th>\n",
              "      <td>MT OS RV OP</td>\n",
              "      <td>Mielipide BEKO WMD 56120 S :sta Sen käyttäjät...</td>\n",
              "      <td>test</td>\n",
              "    </tr>\n",
              "  </tbody>\n",
              "</table>\n",
              "<p>1500 rows × 3 columns</p>\n",
              "</div>"
            ],
            "text/plain": [
              "             label                                               text  data\n",
              "0             HI     Tehkää nollaleimaus . Jos rekisteröinti onnis...  test\n",
              "1             NA     1 kommenttia : Syyslomallelähtijät kirjoitti ...  test\n",
              "2           DT IN    Ammattikoulutuksen perustana on ajatus siitä ...  test\n",
              "3           DP IN    Ulkonäkö : Silveriä voisi kuvata tietyllä tap...  test\n",
              "4           DT IN    Laulupelimannien puheenjohtajina ovat toimine...  test\n",
              "...            ...                                                ...   ...\n",
              "1495        MT OS    Sinulle 2986 lääkkeiden Asento ! Tarjoamme ka...  test\n",
              "1496        MT OS    Vinyylilevyiltä on ihana , mutta vain harvat ...  test\n",
              "1497        CM IN    Opintojakson vastuuhenkilö Toteutuskerrat Suo...  test\n",
              "1498        MT OS    Miten valita Dating sivusto Internet Valitsem...  test\n",
              "1499  MT OS RV OP    Mielipide BEKO WMD 56120 S :sta Sen käyttäjät...  test\n",
              "\n",
              "[1500 rows x 3 columns]"
            ]
          },
          "metadata": {
            "tags": []
          },
          "execution_count": 163
        }
      ]
    },
    {
      "cell_type": "code",
      "metadata": {
        "id": "s5SgLu9xePxa",
        "colab_type": "code",
        "colab": {}
      },
      "source": [
        "# train\n",
        "Y = train.drop(['label','text', 'data'], axis=1) # label\n",
        "\n",
        "# dev\n",
        "y = dev.drop(['label','text', 'data'], axis=1)\n",
        "\n",
        "# test\n",
        "true_labels= test.drop(['label','text', 'data'], axis=1)"
      ],
      "execution_count": 0,
      "outputs": []
    },
    {
      "cell_type": "markdown",
      "metadata": {
        "id": "j7ze-mp5bpO5",
        "colab_type": "text"
      },
      "source": [
        "### Optimizer"
      ]
    },
    {
      "cell_type": "markdown",
      "metadata": {
        "id": "Nyz0YK_kbtBU",
        "colab_type": "text"
      },
      "source": [
        "This is the same as in milestone 2"
      ]
    },
    {
      "cell_type": "code",
      "metadata": {
        "id": "vwQmd2F_boLe",
        "colab_type": "code",
        "colab": {}
      },
      "source": [
        "# # search for optimal EPOCHS, LEARNING_RATE and BATCH_SIZE for serious training!\n",
        "# # Number of epochs to train for\n",
        "# EPOCHS = 16\n",
        "\n",
        "# # Optimizer learning rate\n",
        "# LEARNING_RATE = 0.01\n",
        "\n",
        "# # Training batch size\n",
        "# BATCH_SIZE = 8 "
      ],
      "execution_count": 0,
      "outputs": []
    },
    {
      "cell_type": "code",
      "metadata": {
        "id": "Sypxw1aJbyix",
        "colab_type": "code",
        "colab": {}
      },
      "source": [
        "# Set the optimizer again if hyperparameters have been changed from milestone 2\n",
        "\n",
        "from keras_bert import calc_train_steps, AdamWarmup\n",
        "\n",
        "total_steps, warmup_steps = calc_train_steps(\n",
        "    num_example=len(train_['text']),\n",
        "    batch_size=BATCH_SIZE,\n",
        "    epochs=EPOCHS,\n",
        "    warmup_proportion=0.1,\n",
        ")\n",
        "\n",
        "optimizer = AdamWarmup(\n",
        "    total_steps,\n",
        "    warmup_steps,\n",
        "    lr=LEARNING_RATE,\n",
        "    epsilon=1e-6,\n",
        "    weight_decay=0.01,\n",
        "    weight_decay_pattern=['embeddings', 'kernel', 'W1', 'W2', 'Wk', 'Wq', 'Wv', 'Wo']\n",
        ")"
      ],
      "execution_count": 0,
      "outputs": []
    },
    {
      "cell_type": "markdown",
      "metadata": {
        "id": "-PaQNy6Uptzw",
        "colab_type": "text"
      },
      "source": [
        "### Wrap the model"
      ]
    },
    {
      "cell_type": "markdown",
      "metadata": {
        "id": "kjV59es9jyX6",
        "colab_type": "text"
      },
      "source": [
        "Steps needed for loading pretrained BERT model have been taken during milestone 2."
      ]
    },
    {
      "cell_type": "code",
      "metadata": {
        "id": "iAyXXiqCpeG5",
        "colab_type": "code",
        "outputId": "712a2622-51b4-4f30-a92e-25fa95cc1c2e",
        "colab": {
          "base_uri": "https://localhost:8080/",
          "height": 54
        }
      },
      "source": [
        "pretrained_model.inputs"
      ],
      "execution_count": 78,
      "outputs": [
        {
          "output_type": "execute_result",
          "data": {
            "text/plain": [
              "[<tf.Tensor 'Input-Token:0' shape=(?, 250) dtype=float32>,\n",
              " <tf.Tensor 'Input-Segment:0' shape=(?, 250) dtype=float32>]"
            ]
          },
          "metadata": {
            "tags": []
          },
          "execution_count": 78
        }
      ]
    },
    {
      "cell_type": "code",
      "metadata": {
        "id": "X_iquZgFqmZB",
        "colab_type": "code",
        "outputId": "41d37bcb-b693-449a-a022-56ab17a8e83d",
        "colab": {
          "base_uri": "https://localhost:8080/",
          "height": 36
        }
      },
      "source": [
        "pretrained_model.output"
      ],
      "execution_count": 0,
      "outputs": [
        {
          "output_type": "execute_result",
          "data": {
            "text/plain": [
              "<tf.Tensor 'Encoder-12-FeedForward-Norm/add_1:0' shape=(?, 250, 768) dtype=float32>"
            ]
          },
          "metadata": {
            "tags": []
          },
          "execution_count": 73
        }
      ]
    },
    {
      "cell_type": "markdown",
      "metadata": {
        "id": "KJsIwzVmukO7",
        "colab_type": "text"
      },
      "source": [
        "Those dimensions are (minibatch-size, sequence-length, hidden-dim)."
      ]
    },
    {
      "cell_type": "code",
      "metadata": {
        "id": "zS7bRChHubSD",
        "colab_type": "code",
        "outputId": "cdc7459b-00d9-4210-9b2a-922553d7ec2b",
        "colab": {
          "base_uri": "https://localhost:8080/",
          "height": 36
        }
      },
      "source": [
        "# model.outputs is a list, here with a single item. Here\n",
        "# pretrained_model.outputs[0] just grabs that item (the output tensor).\n",
        "# Indxing that tensor with [:,0] gives the first position in the sequence\n",
        "# for all elements in the batch (the `:`).\n",
        "\n",
        "bert_out = pretrained_model.outputs[0][:,0]\n",
        "\n",
        "print(bert_out)\n"
      ],
      "execution_count": 79,
      "outputs": [
        {
          "output_type": "stream",
          "text": [
            "Tensor(\"strided_slice_1:0\", shape=(?, 768), dtype=float32)\n"
          ],
          "name": "stdout"
        }
      ]
    },
    {
      "cell_type": "markdown",
      "metadata": {
        "id": "GvbwRaMgE35m",
        "colab_type": "text"
      },
      "source": [
        "Wrap the pretrained model. **In multi-label classification instead of softmax(), we use sigmoid() to get the probabilities.** (https://towardsdatascience.com/building-a-multi-label-text-classifier-using-bert-and-tensorflow-f188e0ecdc5d)"
      ]
    },
    {
      "cell_type": "code",
      "metadata": {
        "id": "1P3irmGsE2wU",
        "colab_type": "code",
        "colab": {}
      },
      "source": [
        "num_labels = len(mlb.classes_) # size of the output layer\n",
        "\n",
        "out = Dense(num_labels, activation='sigmoid')(bert_out) # by calling the output layer we end up calling all the other layers (the model)\n",
        "model = Model(                                          # sigmoid gives us independent probabilities for each class \n",
        "    inputs=pretrained_model.inputs,\n",
        "    outputs=[out]\n",
        ")"
      ],
      "execution_count": 0,
      "outputs": []
    },
    {
      "cell_type": "code",
      "metadata": {
        "id": "V9_cBMhQW-df",
        "colab_type": "code",
        "outputId": "8eb5e896-3512-456e-9974-fbfb6e895088",
        "colab": {
          "base_uri": "https://localhost:8080/",
          "height": 36
        }
      },
      "source": [
        "model.output"
      ],
      "execution_count": 81,
      "outputs": [
        {
          "output_type": "execute_result",
          "data": {
            "text/plain": [
              "<tf.Tensor 'dense_1/Sigmoid:0' shape=(?, 42) dtype=float32>"
            ]
          },
          "metadata": {
            "tags": []
          },
          "execution_count": 81
        }
      ]
    },
    {
      "cell_type": "code",
      "metadata": {
        "id": "OouJ_0jzYw1m",
        "colab_type": "code",
        "colab": {}
      },
      "source": [
        "model.compile(\n",
        "    optimizer=optimizer,\n",
        "    loss='binary_crossentropy', # one hot encoded labels and multilabel!\n",
        "    metrics=['categorical_accuracy']\n",
        ")\n",
        "\n",
        "# An important choice to make is the loss function. We use the binary_crossentropy loss and not the usual in multi-class classification \n",
        "# used categorical_crossentropy loss. This might seem unreasonable, but we want to penalize each output node independently. So we pick \n",
        "# a binary loss and model the output of the network as a independent Bernoulli distributions per label.\n",
        "# source: https://www.depends-on-the-definition.com/guide-to-multi-label-classification-with-neural-networks/"
      ],
      "execution_count": 0,
      "outputs": []
    },
    {
      "cell_type": "markdown",
      "metadata": {
        "id": "WIeGmqi-iXGL",
        "colab_type": "text"
      },
      "source": [
        "### Train"
      ]
    },
    {
      "cell_type": "code",
      "metadata": {
        "id": "zSwPhGPMZFqU",
        "colab_type": "code",
        "outputId": "313f0899-c602-457d-c3f6-1be5901fc561",
        "colab": {
          "base_uri": "https://localhost:8080/",
          "height": 408
        }
      },
      "source": [
        "stop_cb = EarlyStopping(monitor = 'val_categorical_accuracy', patience=8, verbose=1, mode='auto', baseline=None, restore_best_weights=True)\n",
        "mc_cb = ModelCheckpoint(filepath='models/BERT_multilabel.h5', monitor='val_categorical_accuracy', verbose=0,save_best_only=True, mode='auto')\n",
        "\n",
        "history = model.fit(\n",
        "    X,\n",
        "    Y,\n",
        "    epochs=EPOCHS,\n",
        "    batch_size=BATCH_SIZE,\n",
        "    validation_data=(x, y),\n",
        "    callbacks=[stop_cb, mc_cb]\n",
        ")"
      ],
      "execution_count": 83,
      "outputs": [
        {
          "output_type": "stream",
          "text": [
            "Train on 1500 samples, validate on 756 samples\n",
            "Epoch 1/12\n",
            "1500/1500 [==============================] - 221s 147ms/sample - loss: 0.8069 - categorical_accuracy: 0.0267 - val_loss: 0.8107 - val_categorical_accuracy: 0.0198\n",
            "Epoch 2/12\n",
            "1500/1500 [==============================] - 197s 131ms/sample - loss: 0.8093 - categorical_accuracy: 0.0260 - val_loss: 0.8107 - val_categorical_accuracy: 0.0198\n",
            "Epoch 3/12\n",
            "1500/1500 [==============================] - 197s 131ms/sample - loss: 0.8075 - categorical_accuracy: 0.0293 - val_loss: 0.8107 - val_categorical_accuracy: 0.0198\n",
            "Epoch 4/12\n",
            "1500/1500 [==============================] - 197s 131ms/sample - loss: 0.8091 - categorical_accuracy: 0.0200 - val_loss: 0.8107 - val_categorical_accuracy: 0.0198\n",
            "Epoch 5/12\n",
            "1500/1500 [==============================] - 197s 131ms/sample - loss: 0.8098 - categorical_accuracy: 0.0273 - val_loss: 0.8107 - val_categorical_accuracy: 0.0198\n",
            "Epoch 6/12\n",
            "1500/1500 [==============================] - 197s 131ms/sample - loss: 0.8074 - categorical_accuracy: 0.0220 - val_loss: 0.8107 - val_categorical_accuracy: 0.0198\n",
            "Epoch 7/12\n",
            "1500/1500 [==============================] - 197s 131ms/sample - loss: 0.8104 - categorical_accuracy: 0.0253 - val_loss: 0.8107 - val_categorical_accuracy: 0.0198\n",
            "Epoch 8/12\n",
            "1500/1500 [==============================] - 197s 131ms/sample - loss: 0.8111 - categorical_accuracy: 0.0273 - val_loss: 0.8107 - val_categorical_accuracy: 0.0198\n",
            "Epoch 9/12\n",
            "1488/1500 [============================>.] - ETA: 1s - loss: 0.8123 - categorical_accuracy: 0.0222Restoring model weights from the end of the best epoch.\n",
            "1500/1500 [==============================] - 199s 133ms/sample - loss: 0.8120 - categorical_accuracy: 0.0220 - val_loss: 0.8107 - val_categorical_accuracy: 0.0198\n",
            "Epoch 00009: early stopping\n"
          ],
          "name": "stdout"
        }
      ]
    },
    {
      "cell_type": "code",
      "metadata": {
        "id": "ZtoBHqFyiM7B",
        "colab_type": "code",
        "colab": {
          "base_uri": "https://localhost:8080/",
          "height": 265
        },
        "outputId": "55545e56-26c3-4efd-e81a-ada87d19aa73"
      },
      "source": [
        "def plot_history(history):\n",
        "    plt.plot(history.history['categorical_accuracy'],label=\"Training set accuracy\")\n",
        "    plt.plot(history.history['val_categorical_accuracy'],label=\"Validation set accuracy\")\n",
        "    plt.legend()\n",
        "    plt.show()\n",
        "\n",
        "plot_history(history)"
      ],
      "execution_count": 85,
      "outputs": [
        {
          "output_type": "display_data",
          "data": {
            "image/png": "[encoded data removed]",
            "text/plain": [
              "<Figure size 432x288 with 1 Axes>"
            ]
          },
          "metadata": {
            "tags": [],
            "needs_background": "light"
          }
        }
      ]
    },
    {
      "cell_type": "code",
      "metadata": {
        "id": "mb8tvqruaIJC",
        "colab_type": "code",
        "colab": {}
      },
      "source": [
        "predictions = model.predict(test_inp) # np.argmax gives the index which has the highest value e.g. class"
      ],
      "execution_count": 0,
      "outputs": []
    },
    {
      "cell_type": "code",
      "metadata": {
        "id": "VNLiSNOrj3f_",
        "colab_type": "code",
        "outputId": "c1bc508d-628c-412f-a7f2-73ecf8b83685",
        "colab": {
          "base_uri": "https://localhost:8080/",
          "height": 166
        }
      },
      "source": [
        "print(predictions)"
      ],
      "execution_count": 87,
      "outputs": [
        {
          "output_type": "stream",
          "text": [
            "[[0.2110947  0.49244356 0.68569267 ... 0.3176502  0.30710018 0.24507591]\n",
            " [0.1550386  0.36294168 0.02952784 ... 0.16471162 0.38201895 0.4249488 ]\n",
            " [0.48406887 0.6734966  0.6727323  ... 0.67828184 0.634911   0.61246896]\n",
            " ...\n",
            " [0.8622243  0.15923473 0.83905387 ... 0.8841572  0.8160988  0.04872021]\n",
            " [0.20580706 0.6163414  0.52056205 ... 0.24601716 0.42841604 0.54552734]\n",
            " [0.19248211 0.9115021  0.64060456 ... 0.58837616 0.24202064 0.55433434]]\n"
          ],
          "name": "stdout"
        },
        {
          "output_type": "execute_result",
          "data": {
            "text/plain": [
              "1500"
            ]
          },
          "metadata": {
            "tags": []
          },
          "execution_count": 87
        }
      ]
    },
    {
      "cell_type": "code",
      "metadata": {
        "id": "2X7dkit5l-ar",
        "colab_type": "code",
        "outputId": "91983271-9f94-4194-d86a-33e50fbdd9f8",
        "colab": {
          "base_uri": "https://localhost:8080/",
          "height": 36
        }
      },
      "source": [
        "print(sum(predictions[0]))"
      ],
      "execution_count": 88,
      "outputs": [
        {
          "output_type": "stream",
          "text": [
            "18.872556895017624\n"
          ],
          "name": "stdout"
        }
      ]
    },
    {
      "cell_type": "code",
      "metadata": {
        "id": "4yauRbUmrRwQ",
        "colab_type": "code",
        "colab": {}
      },
      "source": [
        "# Should we set some treshold to accept label?\n",
        "# How to select an appropriate threshold for the model? This is normally done by optimizing the threshold on a holdout set. \n",
        "# According to https://www.depends-on-the-definition.com/unet-keras-segmenting-images/ No instrucion provided how to do it!\n",
        "\n",
        "preds = (predictions > 0.85).astype(np.uint8) # set the limit for reasonable/acceptable probability for belonging to a class\n",
        "preds [1]\n",
        "\n",
        "predicted_labels = mlb.inverse_transform(preds)"
      ],
      "execution_count": 0,
      "outputs": []
    },
    {
      "cell_type": "code",
      "metadata": {
        "id": "GdM5H0ac-bz7",
        "colab_type": "code",
        "colab": {
          "base_uri": "https://localhost:8080/",
          "height": 540
        },
        "outputId": "2e80e2e1-4c4f-4c0e-b8b0-376a5b6b0656"
      },
      "source": [
        "true_labels = test['regs'].tolist()\n",
        "\n",
        "print(type(true_labels[0]))\n",
        "print(type(predicted_labels[0]))\n",
        "print()\n",
        "\n",
        "print(type(true_labels))\n",
        "print(type(predicted_labels))\n",
        "\n",
        "#testi = mlb.inverse_transform(true_labels)\n",
        "print(true_labels[:20])\n",
        "pprint(predicted_labels[:20])\n",
        "#predicted_labels\n",
        "\n",
        "onko = true_labels[0] == predicted_labels[0]\n",
        "onko"
      ],
      "execution_count": 216,
      "outputs": [
        {
          "output_type": "stream",
          "text": [
            "<class 'list'>\n",
            "<class 'tuple'>\n",
            "\n",
            "<class 'list'>\n",
            "<class 'list'>\n",
            "[['HI'], ['NA'], ['DT', 'IN'], ['DP', 'IN'], ['DT', 'IN'], ['AV', 'OP'], ['CB', 'NA'], ['IN'], ['NE', 'NA'], ['TB', 'NA'], ['PB', 'NA'], ['OB', 'OP'], ['ID'], ['CB', 'NA'], ['DF', 'ID'], ['MT', 'OS'], ['MT', 'OS'], ['DF', 'ID'], ['DS', 'IG'], ['OA', 'NA']]\n",
            "[('HI', 'IG', 'PB', 'RV'),\n",
            " ('DT', 'IG', 'OP'),\n",
            " ('IG', 'NA', 'OB', 'OS'),\n",
            " ('DS', 'DT', 'IG', 'LT', 'OB', 'RA', 'RV'),\n",
            " ('CB', 'FA', 'IB', 'IG', 'PB', 'QA'),\n",
            " (),\n",
            " ('DP', 'IG', 'OB'),\n",
            " ('CM', 'IG', 'LY', 'QA'),\n",
            " ('AV', 'IP', 'OB'),\n",
            " ('EB', 'IG', 'OP'),\n",
            " ('PB', 'PO'),\n",
            " ('PO', 'RS'),\n",
            " ('DT', 'HI', 'IG', 'JD', 'QA'),\n",
            " ('CB', 'IG', 'LY'),\n",
            " ('IB', 'IG', 'QA'),\n",
            " (),\n",
            " ('OB', 'SL'),\n",
            " ('HI', 'RE'),\n",
            " ('IG', 'SP'),\n",
            " ('AV', 'SR')]\n"
          ],
          "name": "stdout"
        },
        {
          "output_type": "execute_result",
          "data": {
            "text/plain": [
              "False"
            ]
          },
          "metadata": {
            "tags": []
          },
          "execution_count": 216
        }
      ]
    },
    {
      "cell_type": "code",
      "metadata": {
        "id": "3l49oGfGjlys",
        "colab_type": "code",
        "outputId": "a9eecf66-f4d3-4e03-f2de-609ea7679b5a",
        "colab": {
          "base_uri": "https://localhost:8080/",
          "height": 591
        }
      },
      "source": [
        "predicted_labels = mlb.inverse_transform(preds)\n",
        "for pred in predicted_labels[:10]: # WHAT!?!?!?\n",
        "  print(pred)\n",
        "print()\n",
        "true_labels = test['text'].tolist()\n",
        "print(\"Classification accuracy: \", round(accuracy_score(test['regs'].tolist(), preds)*100,1), \"percent\")"
      ],
      "execution_count": 193,
      "outputs": [
        {
          "output_type": "stream",
          "text": [
            "('DP', 'DT', 'FA', 'HI', 'IG', 'PB', 'QA', 'RE', 'RV')\n",
            "('DT', 'EB', 'IB', 'IG', 'LT', 'LY', 'OA', 'OB', 'OP', 'QA')\n",
            "('EB', 'HI', 'IG', 'IN', 'MT', 'NA', 'OB', 'OS')\n",
            "('DP', 'DS', 'DT', 'HA', 'IG', 'LT', 'OB', 'QA', 'RA', 'RS', 'RV', 'TB')\n",
            "('CB', 'CM', 'DS', 'DT', 'EB', 'FA', 'IB', 'IG', 'LY', 'NA', 'PB', 'QA', 'RS')\n",
            "('EB', 'IN', 'IP', 'IT', 'NE', 'OA', 'OP', 'SP', 'SR', 'TB')\n",
            "('CM', 'DP', 'FC', 'IG', 'IP', 'LT', 'OB', 'OP', 'PO', 'RS')\n",
            "('CM', 'DS', 'IG', 'LY', 'MT', 'PB', 'QA')\n",
            "('AV', 'DS', 'IG', 'IP', 'LY', 'OB', 'PO')\n",
            "('EB', 'IG', 'OA', 'OP', 'RS', 'RV')\n",
            "\n"
          ],
          "name": "stdout"
        },
        {
          "output_type": "error",
          "ename": "ValueError",
          "evalue": "ignored",
          "traceback": [
            "\u001b[0;31m---------------------------------------------------------------------------\u001b[0m",
            "\u001b[0;31mValueError\u001b[0m                                Traceback (most recent call last)",
            "\u001b[0;32m<ipython-input-193-adf4d09268c8>\u001b[0m in \u001b[0;36m<module>\u001b[0;34m()\u001b[0m\n\u001b[1;32m      4\u001b[0m \u001b[0mprint\u001b[0m\u001b[0;34m(\u001b[0m\u001b[0;34m)\u001b[0m\u001b[0;34m\u001b[0m\u001b[0;34m\u001b[0m\u001b[0m\n\u001b[1;32m      5\u001b[0m \u001b[0mtrue_labels\u001b[0m \u001b[0;34m=\u001b[0m \u001b[0mtest\u001b[0m\u001b[0;34m[\u001b[0m\u001b[0;34m'text'\u001b[0m\u001b[0;34m]\u001b[0m\u001b[0;34m.\u001b[0m\u001b[0mtolist\u001b[0m\u001b[0;34m(\u001b[0m\u001b[0;34m)\u001b[0m\u001b[0;34m\u001b[0m\u001b[0;34m\u001b[0m\u001b[0m\n\u001b[0;32m----> 6\u001b[0;31m \u001b[0mprint\u001b[0m\u001b[0;34m(\u001b[0m\u001b[0;34m\"Classification accuracy: \"\u001b[0m\u001b[0;34m,\u001b[0m \u001b[0mround\u001b[0m\u001b[0;34m(\u001b[0m\u001b[0maccuracy_score\u001b[0m\u001b[0;34m(\u001b[0m\u001b[0mtest\u001b[0m\u001b[0;34m[\u001b[0m\u001b[0;34m'regs'\u001b[0m\u001b[0;34m]\u001b[0m\u001b[0;34m.\u001b[0m\u001b[0mtolist\u001b[0m\u001b[0;34m(\u001b[0m\u001b[0;34m)\u001b[0m\u001b[0;34m,\u001b[0m \u001b[0mpreds\u001b[0m\u001b[0;34m)\u001b[0m\u001b[0;34m*\u001b[0m\u001b[0;36m100\u001b[0m\u001b[0;34m,\u001b[0m\u001b[0;36m1\u001b[0m\u001b[0;34m)\u001b[0m\u001b[0;34m,\u001b[0m \u001b[0;34m\"percent\"\u001b[0m\u001b[0;34m)\u001b[0m\u001b[0;34m\u001b[0m\u001b[0;34m\u001b[0m\u001b[0m\n\u001b[0m",
            "\u001b[0;32m/usr/local/lib/python3.6/dist-packages/sklearn/metrics/_classification.py\u001b[0m in \u001b[0;36maccuracy_score\u001b[0;34m(y_true, y_pred, normalize, sample_weight)\u001b[0m\n\u001b[1;32m    183\u001b[0m \u001b[0;34m\u001b[0m\u001b[0m\n\u001b[1;32m    184\u001b[0m     \u001b[0;31m# Compute accuracy for each possible representation\u001b[0m\u001b[0;34m\u001b[0m\u001b[0;34m\u001b[0m\u001b[0;34m\u001b[0m\u001b[0m\n\u001b[0;32m--> 185\u001b[0;31m     \u001b[0my_type\u001b[0m\u001b[0;34m,\u001b[0m \u001b[0my_true\u001b[0m\u001b[0;34m,\u001b[0m \u001b[0my_pred\u001b[0m \u001b[0;34m=\u001b[0m \u001b[0m_check_targets\u001b[0m\u001b[0;34m(\u001b[0m\u001b[0my_true\u001b[0m\u001b[0;34m,\u001b[0m \u001b[0my_pred\u001b[0m\u001b[0;34m)\u001b[0m\u001b[0;34m\u001b[0m\u001b[0;34m\u001b[0m\u001b[0m\n\u001b[0m\u001b[1;32m    186\u001b[0m     \u001b[0mcheck_consistent_length\u001b[0m\u001b[0;34m(\u001b[0m\u001b[0my_true\u001b[0m\u001b[0;34m,\u001b[0m \u001b[0my_pred\u001b[0m\u001b[0;34m,\u001b[0m \u001b[0msample_weight\u001b[0m\u001b[0;34m)\u001b[0m\u001b[0;34m\u001b[0m\u001b[0;34m\u001b[0m\u001b[0m\n\u001b[1;32m    187\u001b[0m     \u001b[0;32mif\u001b[0m \u001b[0my_type\u001b[0m\u001b[0;34m.\u001b[0m\u001b[0mstartswith\u001b[0m\u001b[0;34m(\u001b[0m\u001b[0;34m'multilabel'\u001b[0m\u001b[0;34m)\u001b[0m\u001b[0;34m:\u001b[0m\u001b[0;34m\u001b[0m\u001b[0;34m\u001b[0m\u001b[0m\n",
            "\u001b[0;32m/usr/local/lib/python3.6/dist-packages/sklearn/metrics/_classification.py\u001b[0m in \u001b[0;36m_check_targets\u001b[0;34m(y_true, y_pred)\u001b[0m\n\u001b[1;32m     79\u001b[0m     \"\"\"\n\u001b[1;32m     80\u001b[0m     \u001b[0mcheck_consistent_length\u001b[0m\u001b[0;34m(\u001b[0m\u001b[0my_true\u001b[0m\u001b[0;34m,\u001b[0m \u001b[0my_pred\u001b[0m\u001b[0;34m)\u001b[0m\u001b[0;34m\u001b[0m\u001b[0;34m\u001b[0m\u001b[0m\n\u001b[0;32m---> 81\u001b[0;31m     \u001b[0mtype_true\u001b[0m \u001b[0;34m=\u001b[0m \u001b[0mtype_of_target\u001b[0m\u001b[0;34m(\u001b[0m\u001b[0my_true\u001b[0m\u001b[0;34m)\u001b[0m\u001b[0;34m\u001b[0m\u001b[0;34m\u001b[0m\u001b[0m\n\u001b[0m\u001b[1;32m     82\u001b[0m     \u001b[0mtype_pred\u001b[0m \u001b[0;34m=\u001b[0m \u001b[0mtype_of_target\u001b[0m\u001b[0;34m(\u001b[0m\u001b[0my_pred\u001b[0m\u001b[0;34m)\u001b[0m\u001b[0;34m\u001b[0m\u001b[0;34m\u001b[0m\u001b[0m\n\u001b[1;32m     83\u001b[0m \u001b[0;34m\u001b[0m\u001b[0m\n",
            "\u001b[0;32m/usr/local/lib/python3.6/dist-packages/sklearn/utils/multiclass.py\u001b[0m in \u001b[0;36mtype_of_target\u001b[0;34m(y)\u001b[0m\n\u001b[1;32m    258\u001b[0m         if (not hasattr(y[0], '__array__') and isinstance(y[0], Sequence)\n\u001b[1;32m    259\u001b[0m                 and not isinstance(y[0], str)):\n\u001b[0;32m--> 260\u001b[0;31m             raise ValueError('You appear to be using a legacy multi-label data'\n\u001b[0m\u001b[1;32m    261\u001b[0m                              \u001b[0;34m' representation. Sequence of sequences are no'\u001b[0m\u001b[0;34m\u001b[0m\u001b[0;34m\u001b[0m\u001b[0m\n\u001b[1;32m    262\u001b[0m                              \u001b[0;34m' longer supported; use a binary array or sparse'\u001b[0m\u001b[0;34m\u001b[0m\u001b[0;34m\u001b[0m\u001b[0m\n",
            "\u001b[0;31mValueError\u001b[0m: You appear to be using a legacy multi-label data representation. Sequence of sequences are no longer supported; use a binary array or sparse matrix instead - the MultiLabelBinarizer transformer can convert to this format."
          ]
        }
      ]
    },
    {
      "cell_type": "code",
      "metadata": {
        "id": "qlcvLK1D1h5R",
        "colab_type": "code",
        "colab": {
          "base_uri": "https://localhost:8080/",
          "height": 36
        },
        "outputId": "35479ffb-6c5a-4249-de65-73a09f836fc9"
      },
      "source": [
        "type(test['text'].tolist())"
      ],
      "execution_count": 180,
      "outputs": [
        {
          "output_type": "execute_result",
          "data": {
            "text/plain": [
              "list"
            ]
          },
          "metadata": {
            "tags": []
          },
          "execution_count": 180
        }
      ]
    },
    {
      "cell_type": "markdown",
      "metadata": {
        "id": "Y1bZmgfNnWlm",
        "colab_type": "text"
      },
      "source": [
        "\n",
        "\n",
        "\n",
        "\n",
        "\n",
        "\n",
        "# Milestone 3.2: Model comparison\n",
        "Compare the results of these two classifiers. Do the two models predict in the same way? Analyze the predictions in terms of label-specific differences.\n"
      ]
    }
  ]
}